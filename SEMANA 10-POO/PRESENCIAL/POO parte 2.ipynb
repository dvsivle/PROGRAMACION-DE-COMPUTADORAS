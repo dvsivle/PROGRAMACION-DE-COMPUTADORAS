{
 "cells": [
  {
   "cell_type": "code",
   "execution_count": 7,
   "metadata": {},
   "outputs": [],
   "source": [
    "# creando la clase Complejo\n",
    "\n",
    "class Complejo(object):\n",
    "    '''\n",
    "    Esta clase define a un numero complejo a traves de su parte real y su parte imaginaria\n",
    "    '''\n",
    "    def __init__(self,real=0,imaginario=0):\n",
    "        self.real=real\n",
    "        self.imaginario=imaginario\n",
    "    #metodos decoradores\n",
    "    @property\n",
    "    def real(self):\n",
    "        return self.__real\n",
    "    @real.setter\n",
    "    def real(self,nuevoR):\n",
    "        if(isinstance(nuevoR,int) or isinstance(nuevoR,float)):\n",
    "            self.__real=nuevoR\n",
    "        else:\n",
    "            print(\"Error en el tipo de dato\")\n",
    "    \n",
    "    @property\n",
    "    def imaginario(self):\n",
    "        return self.__imaginario\n",
    "    @imaginario.setter\n",
    "    def imaginario(self,nuevoI):\n",
    "        if(isinstance(nuevoI,int) or isinstance(nuevoI,float)):\n",
    "            self.__imaginario=nuevoI\n",
    "        else:\n",
    "            print(\"Error en el tipo de dato\")\n",
    "            \n",
    "    #sobrecargar al método __str__\n",
    "    def __str__(self):\n",
    "        return \"{:.1f} + {:.1f}i\".format(self.real,self.imaginario)\n",
    "    "
   ]
  },
  {
   "cell_type": "code",
   "execution_count": 8,
   "metadata": {},
   "outputs": [
    {
     "name": "stdout",
     "output_type": "stream",
     "text": [
      "4.0 + 6.0i\n"
     ]
    }
   ],
   "source": [
    "#creando\n",
    "c=Complejo(4,6)\n",
    "print(c)"
   ]
  },
  {
   "cell_type": "code",
   "execution_count": 13,
   "metadata": {},
   "outputs": [],
   "source": [
    "#creando la clase complejo:\n",
    "\n",
    "class Complejo(object):\n",
    "    '''Esta clase define a un numero complejo a traves\n",
    "     de su parte real y su parte imaginaria'''\n",
    "    \n",
    "    def __init__(self,real=0,imaginario=0):\n",
    "        self.real=real\n",
    "        self.imaginario=imaginario\n",
    "        \n",
    "    #metodos decoradores:\n",
    "    @property\n",
    "    def real(self):\n",
    "        return self.__real\n",
    "    @real.setter\n",
    "    def real(self, nuevoR):\n",
    "        if (isinstance(nuevoR,int) or isinstance(nuevoR, float)):\n",
    "            self.__real=nuevoR\n",
    "        else:\n",
    "            print('error en el tipo de dato!')\n",
    "            \n",
    "    @property\n",
    "    def imginario(self):\n",
    "        return self.__imginario\n",
    "    @real.setter\n",
    "    def imginario(self, nuevoI):\n",
    "        if (isinstance(nuevoI,int) or isinstance(nuevoI, float)):\n",
    "            self.__imginario=nuevoI\n",
    "        else:\n",
    "            print('error en el tipo de dato!')\n",
    "            \n",
    "    def __str__(self):\n",
    "        return '{:.1f} + {:.1f}i'.format(self.real,self.imaginario)"
   ]
  },
  {
   "cell_type": "code",
   "execution_count": 14,
   "metadata": {},
   "outputs": [
    {
     "name": "stdout",
     "output_type": "stream",
     "text": [
      "4.0 + 6.0i\n",
      "3.0 + 4.0i\n",
      "6.0 + 2.0i\n"
     ]
    }
   ],
   "source": [
    "#creando\n",
    "c1=Complejo(4,6)\n",
    "print(c1)\n",
    "c2=Complejo(3,4)\n",
    "print(c2)\n",
    "c3=Complejo(6,2)\n",
    "print(c3)\n",
    "\n",
    "lc=[c1,c2,c3]"
   ]
  },
  {
   "cell_type": "code",
   "execution_count": null,
   "metadata": {},
   "outputs": [],
   "source": []
  },
  {
   "cell_type": "code",
   "execution_count": 30,
   "metadata": {},
   "outputs": [],
   "source": [
    "# creando la clase Complejo\n",
    "\n",
    "class Complejo(object):\n",
    "    '''\n",
    "    Esta clase define a un numero complejo a traves de su parte real y su parte imaginaria\n",
    "    '''\n",
    "    def __init__(self,real=0,imaginario=0):\n",
    "        self.real=real\n",
    "        self.imaginario=imaginario\n",
    "    #metodos decoradores\n",
    "    @property\n",
    "    def real(self):\n",
    "        return self.__real\n",
    "    @real.setter\n",
    "    def real(self,nuevoR):\n",
    "        if(isinstance(nuevoR,int) or isinstance(nuevoR,float)):\n",
    "            self.__real=nuevoR\n",
    "        else:\n",
    "            print(\"Error en el tipo de dato\")\n",
    "    \n",
    "    @property\n",
    "    def imaginario(self):\n",
    "        return self.__imaginario\n",
    "    @imaginario.setter\n",
    "    def imaginario(self,nuevoI):\n",
    "        if(isinstance(nuevoI,int) or isinstance(nuevoI,float)):\n",
    "            self.__imaginario=nuevoI\n",
    "        else:\n",
    "            print(\"Error en el tipo de dato\")\n",
    "            \n",
    "    #sobrecargar al método __str__\n",
    "    def __str__(self):\n",
    "        return \"{:.1f} + {:.1f}i\".format(self.real,self.imaginario)\n",
    "    \n",
    "    #nobrecargar metodo __add__\n",
    "    def __add__(self,other):\n",
    "        r = self.real+other.real\n",
    "        i = self.imaginario + other.imaginario\n",
    "        \n",
    "        return Complejo(r,i)"
   ]
  },
  {
   "cell_type": "code",
   "execution_count": 33,
   "metadata": {},
   "outputs": [
    {
     "name": "stdout",
     "output_type": "stream",
     "text": [
      "12.0 + 14.6i\n"
     ]
    }
   ],
   "source": [
    "c1=Complejo(4,6)\n",
    "c2=Complejo(6,5.6)\n",
    "c3=Complejo(2,3)\n",
    "c4=c1 + c2 +c3\n",
    "\n",
    "print(c4)"
   ]
  },
  {
   "cell_type": "code",
   "execution_count": null,
   "metadata": {},
   "outputs": [],
   "source": [
    "#obj1-obj2 ----  __add__\n",
    "#obj1-obj2 ----  __sub__\n",
    "#obj1*obj2 ----  __mul__"
   ]
  },
  {
   "cell_type": "code",
   "execution_count": 45,
   "metadata": {},
   "outputs": [],
   "source": [
    "# creando la clase Complejo: (version 3)\n",
    "from math import *\n",
    "\n",
    "class Complejo(object):\n",
    "    '''\n",
    "    Esta clase define a un numero complejo a traves de su parte real y su parte imaginaria\n",
    "    '''\n",
    "    def __init__(self,real=0,imaginario=0):\n",
    "        self.real=real\n",
    "        self.imaginario=imaginario\n",
    "    #metodos decoradores\n",
    "    @property\n",
    "    def real(self):\n",
    "        return self.__real\n",
    "    @real.setter\n",
    "    def real(self,nuevoR):\n",
    "        if(isinstance(nuevoR,int) or isinstance(nuevoR,float)):\n",
    "            self.__real=nuevoR\n",
    "        else:\n",
    "            print(\"Error en el tipo de dato\")\n",
    "    \n",
    "    @property\n",
    "    def imaginario(self):\n",
    "        return self.__imaginario\n",
    "    @imaginario.setter\n",
    "    def imaginario(self,nuevoI):\n",
    "        if(isinstance(nuevoI,int) or isinstance(nuevoI,float)):\n",
    "            self.__imaginario=nuevoI\n",
    "        else:\n",
    "            print(\"Error en el tipo de dato\")\n",
    "            \n",
    "    #sobrecargar al método __str__\n",
    "    def __str__(self):\n",
    "        return \"{:.1f} + {:.1f}i\".format(self.real,self.imaginario)\n",
    "    \n",
    "    #nobrecargar metodo __add__\n",
    "    def __add__(self,other):\n",
    "        r = self.real+other.real\n",
    "        i = self.imaginario + other.imaginario\n",
    "        \n",
    "        return Complejo(r,i)\n",
    "    \n",
    "    def calcularModulo(self):\n",
    "        return sqrt(self.real**2 + self.imaginario**2)\n",
    "    \n",
    "    def calcularFase(self):\n",
    "        return atan(self.imaginario/self.real)\n",
    "    "
   ]
  },
  {
   "cell_type": "code",
   "execution_count": 46,
   "metadata": {},
   "outputs": [
    {
     "name": "stdout",
     "output_type": "stream",
     "text": [
      "4.6 + 7.8i\n",
      "Parte real:  4.6\n",
      "Parte imaginario:  7.8\n",
      "El módulo: 9.055\n",
      "la fase: 1.038\n"
     ]
    }
   ],
   "source": [
    "c= Complejo(4.6,7.8)\n",
    "print(c)\n",
    "print(\"Parte real: \",c.real)\n",
    "print(\"Parte imaginario: \",c.imaginario)\n",
    "print(\"El módulo: {:.3f}\".format(c.calcularModulo()))\n",
    "print(\"la fase: {:.3f}\".format(c.calcularFase()))"
   ]
  },
  {
   "cell_type": "code",
   "execution_count": null,
   "metadata": {},
   "outputs": [],
   "source": []
  },
  {
   "cell_type": "code",
   "execution_count": 57,
   "metadata": {},
   "outputs": [],
   "source": [
    "\n",
    "from math import *\n",
    "\n",
    "class Circulo(object):\n",
    "    \n",
    "    def __init__(self,radio=0):\n",
    "        self.radio=radio\n",
    "        \n",
    "    @property\n",
    "    def radio(self):\n",
    "        return self.__radio\n",
    "    \n",
    "    @radio.setter\n",
    "    def radio(self,nuevoR):\n",
    "        if((isinstance(nuevoR,int) or isinstance(nuevoR,float)) and NuevoR>0):\n",
    "            self.__radio=nuevoR\n",
    "        else:\n",
    "            print(\"Error en el tipo de dato\")\n",
    "            \n",
    "    def calculaArea(self):\n",
    "        return pi*(self.radio**2)\n",
    "    \n",
    "    def __str__(self):\n",
    "        return \"Radio: {:.2f}\".format(self.radio)\n",
    "    \n",
    "    def __add__(self,other):\n",
    "        areaself = pi*(self.radio**2)\n",
    "        areaother = pi*(other.radio**2)\n",
    "        return areaself+areaother\n",
    "    \n",
    "    \n",
    "    \n",
    "    "
   ]
  },
  {
   "cell_type": "code",
   "execution_count": 58,
   "metadata": {},
   "outputs": [
    {
     "ename": "NameError",
     "evalue": "name 'NuevoR' is not defined",
     "output_type": "error",
     "traceback": [
      "\u001b[1;31m---------------------------------------------------------------------------\u001b[0m",
      "\u001b[1;31mNameError\u001b[0m                                 Traceback (most recent call last)",
      "\u001b[1;32m<ipython-input-58-97c5d6c1fa0d>\u001b[0m in \u001b[0;36m<module>\u001b[1;34m\u001b[0m\n\u001b[1;32m----> 1\u001b[1;33m \u001b[0mr\u001b[0m\u001b[1;33m=\u001b[0m\u001b[0mCirculo\u001b[0m\u001b[1;33m(\u001b[0m\u001b[1;36m6\u001b[0m\u001b[1;33m)\u001b[0m\u001b[1;33m\u001b[0m\u001b[1;33m\u001b[0m\u001b[0m\n\u001b[0m\u001b[0;32m      2\u001b[0m \u001b[0mprint\u001b[0m\u001b[1;33m(\u001b[0m\u001b[0mr\u001b[0m\u001b[1;33m.\u001b[0m\u001b[0mcalculaArea\u001b[0m\u001b[1;33m(\u001b[0m\u001b[1;33m)\u001b[0m\u001b[1;33m)\u001b[0m\u001b[1;33m\u001b[0m\u001b[1;33m\u001b[0m\u001b[0m\n",
      "\u001b[1;32m<ipython-input-57-7c8c0df48bae>\u001b[0m in \u001b[0;36m__init__\u001b[1;34m(self, radio)\u001b[0m\n\u001b[0;32m      4\u001b[0m \u001b[1;33m\u001b[0m\u001b[0m\n\u001b[0;32m      5\u001b[0m     \u001b[1;32mdef\u001b[0m \u001b[0m__init__\u001b[0m\u001b[1;33m(\u001b[0m\u001b[0mself\u001b[0m\u001b[1;33m,\u001b[0m\u001b[0mradio\u001b[0m\u001b[1;33m=\u001b[0m\u001b[1;36m0\u001b[0m\u001b[1;33m)\u001b[0m\u001b[1;33m:\u001b[0m\u001b[1;33m\u001b[0m\u001b[1;33m\u001b[0m\u001b[0m\n\u001b[1;32m----> 6\u001b[1;33m         \u001b[0mself\u001b[0m\u001b[1;33m.\u001b[0m\u001b[0mradio\u001b[0m\u001b[1;33m=\u001b[0m\u001b[0mradio\u001b[0m\u001b[1;33m\u001b[0m\u001b[1;33m\u001b[0m\u001b[0m\n\u001b[0m\u001b[0;32m      7\u001b[0m \u001b[1;33m\u001b[0m\u001b[0m\n\u001b[0;32m      8\u001b[0m     \u001b[1;33m@\u001b[0m\u001b[0mproperty\u001b[0m\u001b[1;33m\u001b[0m\u001b[1;33m\u001b[0m\u001b[0m\n",
      "\u001b[1;32m<ipython-input-57-7c8c0df48bae>\u001b[0m in \u001b[0;36mradio\u001b[1;34m(self, nuevoR)\u001b[0m\n\u001b[0;32m     12\u001b[0m     \u001b[1;33m@\u001b[0m\u001b[0mradio\u001b[0m\u001b[1;33m.\u001b[0m\u001b[0msetter\u001b[0m\u001b[1;33m\u001b[0m\u001b[1;33m\u001b[0m\u001b[0m\n\u001b[0;32m     13\u001b[0m     \u001b[1;32mdef\u001b[0m \u001b[0mradio\u001b[0m\u001b[1;33m(\u001b[0m\u001b[0mself\u001b[0m\u001b[1;33m,\u001b[0m\u001b[0mnuevoR\u001b[0m\u001b[1;33m)\u001b[0m\u001b[1;33m:\u001b[0m\u001b[1;33m\u001b[0m\u001b[1;33m\u001b[0m\u001b[0m\n\u001b[1;32m---> 14\u001b[1;33m         \u001b[1;32mif\u001b[0m\u001b[1;33m(\u001b[0m\u001b[1;33m(\u001b[0m\u001b[0misinstance\u001b[0m\u001b[1;33m(\u001b[0m\u001b[0mnuevoR\u001b[0m\u001b[1;33m,\u001b[0m\u001b[0mint\u001b[0m\u001b[1;33m)\u001b[0m \u001b[1;32mor\u001b[0m \u001b[0misinstance\u001b[0m\u001b[1;33m(\u001b[0m\u001b[0mnuevoR\u001b[0m\u001b[1;33m,\u001b[0m\u001b[0mfloat\u001b[0m\u001b[1;33m)\u001b[0m\u001b[1;33m)\u001b[0m \u001b[1;32mand\u001b[0m \u001b[0mNuevoR\u001b[0m\u001b[1;33m>\u001b[0m\u001b[1;36m0\u001b[0m\u001b[1;33m)\u001b[0m\u001b[1;33m:\u001b[0m\u001b[1;33m\u001b[0m\u001b[1;33m\u001b[0m\u001b[0m\n\u001b[0m\u001b[0;32m     15\u001b[0m             \u001b[0mself\u001b[0m\u001b[1;33m.\u001b[0m\u001b[0m__radio\u001b[0m\u001b[1;33m=\u001b[0m\u001b[0mnuevoR\u001b[0m\u001b[1;33m\u001b[0m\u001b[1;33m\u001b[0m\u001b[0m\n\u001b[0;32m     16\u001b[0m         \u001b[1;32melse\u001b[0m\u001b[1;33m:\u001b[0m\u001b[1;33m\u001b[0m\u001b[1;33m\u001b[0m\u001b[0m\n",
      "\u001b[1;31mNameError\u001b[0m: name 'NuevoR' is not defined"
     ]
    }
   ],
   "source": [
    "r=Circulo(6)\n",
    "print(r.calculaArea())"
   ]
  },
  {
   "cell_type": "code",
   "execution_count": 59,
   "metadata": {},
   "outputs": [],
   "source": [
    "from math import *\n",
    "class Circulo(object):\n",
    "    def __init__(self,radio):\n",
    "        self.radio = radio\n",
    "    \n",
    "    #metodos decoradores\n",
    "    @property\n",
    "    def radio(self):\n",
    "        return self.__radio\n",
    "    @radio.setter\n",
    "    def radio(self,nuevoR):\n",
    "        if((isinstance(nuevoR,int) or isinstance(nuevoR,float)) and nuevoR>0):\n",
    "            self.__radio=nuevoR\n",
    "        else:\n",
    "            if(isinstance(nuevoR,str)):\n",
    "                print(\"El radio debe ser de tipo entero\")\n",
    "            elif (nuevoR<0):\n",
    "                print(\"El radio debe ser mayor a 0\")\n",
    "    \n",
    "    def calculaArea(self):\n",
    "        return pi*(self.radio**2)\n",
    "    def __str__(self):\n",
    "        return \"Radio: {:.2f}\".format(self.radio)\n",
    "    \n",
    "    def __add__(self,other):\n",
    "        areaself = self.calculaArea()\n",
    "        areaother = other.calculaArea()\n",
    "        return areaself+areaother\n",
    "    "
   ]
  },
  {
   "cell_type": "code",
   "execution_count": 71,
   "metadata": {},
   "outputs": [
    {
     "name": "stdout",
     "output_type": "stream",
     "text": [
      "El radio debe ser mayor a 0\n",
      "Radio: 9.00\n",
      "Radio: 5.00\n",
      "9\n",
      "5\n",
      "Area de c1: 254.47\n",
      "Area de c1: 78.54\n",
      "333.0088212805181\n",
      "El radio debe ser de tipo entero\n"
     ]
    }
   ],
   "source": [
    "c1=Circulo(-6)\n",
    "c1=Circulo(9)\n",
    "c2=Circulo(5)\n",
    "print(c1)\n",
    "print(c2)\n",
    "print(c1.radio)\n",
    "print(c2.radio)\n",
    "print(\"Area de c1: {:.2f}\".format(c1.calculaArea()))\n",
    "print(\"Area de c1: {:.2f}\".format(c2.calculaArea()))\n",
    "print(c1+c2)\n",
    "c3=Circulo('skjbc')\n"
   ]
  },
  {
   "cell_type": "code",
   "execution_count": null,
   "metadata": {},
   "outputs": [],
   "source": [
    "def (self,x,y)"
   ]
  }
 ],
 "metadata": {
  "kernelspec": {
   "display_name": "Python 3",
   "language": "python",
   "name": "python3"
  },
  "language_info": {
   "codemirror_mode": {
    "name": "ipython",
    "version": 3
   },
   "file_extension": ".py",
   "mimetype": "text/x-python",
   "name": "python",
   "nbconvert_exporter": "python",
   "pygments_lexer": "ipython3",
   "version": "3.7.6"
  }
 },
 "nbformat": 4,
 "nbformat_minor": 4
}
