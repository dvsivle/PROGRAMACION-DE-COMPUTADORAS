{
 "cells": [
  {
   "cell_type": "markdown",
   "metadata": {},
   "source": [
    "# POO"
   ]
  },
  {
   "cell_type": "code",
   "execution_count": 5,
   "metadata": {},
   "outputs": [
    {
     "name": "stdout",
     "output_type": "stream",
     "text": [
      "10\n",
      "<class 'int'>\n",
      "4.5\n",
      "<class 'float'>\n",
      "HOLA\n",
      "<class 'str'>\n",
      "[1, 2, 3, 46]\n",
      "<class 'list'>\n",
      "14.5\n",
      "hola\n"
     ]
    }
   ],
   "source": [
    "x=10\n",
    "print(x)\n",
    "print(type(x))\n",
    "\n",
    "y=4.5\n",
    "print(y)\n",
    "print(type(y))\n",
    "\n",
    "z=\"HOLA\"\n",
    "print(z)\n",
    "print(type(z))\n",
    "\n",
    "l=[1,2,3,46]\n",
    "print(l)\n",
    "print(type(l))\n",
    "\n",
    "####se estan creando objeto de distinta clase\n",
    "\n",
    "#aplicar acciones con los objetos\n",
    "\n",
    "print(x+y)\n",
    "z=z.lower()\n",
    "print(z)\n"
   ]
  },
  {
   "cell_type": "code",
   "execution_count": 4,
   "metadata": {},
   "outputs": [],
   "source": [
    "# Creando la clase persona (es como una planbtilla):  (VERSIÓN 1)\n",
    "class Persona(object):\n",
    "    '''\n",
    "    Esta clase define a una persona a traves de su nombre, su telefono,\n",
    "    y su email\n",
    "    '''\n",
    "    #este metodo va establecer las caracteristicas que van tener los objetos\n",
    "    #de la clase y permitir inicializar a un objeto\n",
    "    #a las caracteristicas se les llama: campos o atributos     \n",
    "    \n",
    "    def __init__(self,nombre='',telefono='',email=''):\n",
    "        self.__nombre=nombre\n",
    "        self.__telefono=telefono\n",
    "        self.__email=email\n",
    "    \n",
    "    "
   ]
  },
  {
   "cell_type": "code",
   "execution_count": 5,
   "metadata": {},
   "outputs": [],
   "source": [
    "# Creando un objeto de la clase persona\n",
    "\n",
    "amigo = Persona(\"Junan\",\"89389473\",\"juan@hotmail.com\")\n",
    "obj = Persona(\"Julio\",\"093800090\",\"julio.@yahoo.com\")\n",
    "amigo2=Persona('Joel','948263928','joel@gmail.com')\n"
   ]
  },
  {
   "cell_type": "code",
   "execution_count": 10,
   "metadata": {},
   "outputs": [],
   "source": [
    "# Creando la clase persona (es como una planbtilla):  (VERSIÓN 2)\n",
    "class Persona(object):\n",
    "    '''\n",
    "    Esta clase define a una persona a traves de su nombre, su telefono,\n",
    "    y su email\n",
    "    '''\n",
    "    def __init__(self,nombre='',telefono='',email=''):\n",
    "        self.__nombre=nombre\n",
    "        self.__telefono=telefono\n",
    "        self.__email=email\n",
    "    # se va usar metodos de acceso para los campos privados:\n",
    "    #los metodos de acceso son públicos\n",
    "    #getters(): Son para acceder o conseguir el valor del campo\n",
    "    def getNombre(self):\n",
    "        return self.__nombre\n",
    "    \n",
    "    def getTelefono(self):\n",
    "        return self.__telefono\n",
    "    \n",
    "    def getEmail(self):\n",
    "        return self.__email \n",
    "    \n",
    "        \n",
    "    "
   ]
  },
  {
   "cell_type": "code",
   "execution_count": 15,
   "metadata": {},
   "outputs": [
    {
     "name": "stdout",
     "output_type": "stream",
     "text": [
      "Nombre: Juan\n",
      "Telefono: 89389473\n",
      "Email: juan@hotmail.com\n",
      "\n",
      "Nombre: Julio\n",
      "Telefono: 093800090\n",
      "Email: julio.@yahoo.com\n",
      "\n",
      "Nombre: Joel\n",
      "Telefono: 948263928\n",
      "Email: joel@gmail.com\n"
     ]
    }
   ],
   "source": [
    "amigo = Persona(\"Juan\",\"89389473\",\"juan@hotmail.com\")\n",
    "obj = Persona(\"Julio\",\"093800090\",\"julio.@yahoo.com\")\n",
    "amigo2=Persona('Joel','948263928','joel@gmail.com')\n",
    "\n",
    "\n",
    "#accediendo a los campos o atribujos del objeto amigo\n",
    "print('Nombre:', amigo.getNombre())\n",
    "print('Telefono:',amigo.getTelefono())\n",
    "print('Email:',amigo.getEmail())\n",
    "\n",
    "#accediendo a los campos o atribujos del objeto obj\n",
    "print()\n",
    "print('Nombre:', obj.getNombre())\n",
    "print('Telefono:',obj.getTelefono())\n",
    "print('Email:',obj.getEmail())\n",
    "\n",
    "\n",
    "#accediendo a los campos o atribujos del objeto amigo2\n",
    "print()\n",
    "print('Nombre:', amigo2.getNombre())\n",
    "print('Telefono:',amigo2.getTelefono())\n",
    "print('Email:',amigo2.getEmail())"
   ]
  },
  {
   "cell_type": "code",
   "execution_count": null,
   "metadata": {},
   "outputs": [],
   "source": []
  },
  {
   "cell_type": "code",
   "execution_count": 21,
   "metadata": {},
   "outputs": [],
   "source": [
    "# Creando la clase persona (es como una planbtilla):  (VERSIÓN 2)\n",
    "class Persona(object):\n",
    "    '''\n",
    "    Esta clase define a una persona a traves de su nombre, su telefono,\n",
    "    y su email\n",
    "    '''\n",
    "    def __init__(self,nombre='',telefono='',email=''):\n",
    "        self.__nombre=nombre\n",
    "        self.__telefono=telefono\n",
    "        self.__email=email\n",
    "    # se va usar metodos de acceso para los campos privados:\n",
    "    #los metodos de acceso son públicos\n",
    "    #getters(): Son para acceder o conseguir el valor del campo\n",
    "    def getNombre(self):\n",
    "        return self.__nombre\n",
    "    \n",
    "    def getTelefono(self):\n",
    "        return self.__telefono\n",
    "    \n",
    "    def getEmail(self):\n",
    "        return self.__email \n",
    "    \n",
    "        \n",
    "    #setters():Son para acceder a los campos para asignarles un valor\n",
    "    def setNombre(self,NuevoN):\n",
    "        self.__nombre=NuevoN\n",
    "        \n",
    "    def setTelefono(self,NuevoT):\n",
    "        self.__telefono=NuevoT\n",
    "        \n",
    "    def setEmail(self,NuevoE):\n",
    "        self.__email=NuevoE\n",
    "    "
   ]
  },
  {
   "cell_type": "code",
   "execution_count": 23,
   "metadata": {},
   "outputs": [
    {
     "name": "stdout",
     "output_type": "stream",
     "text": [
      "Nombre: Juan\n",
      "Telefono: 89389473\n",
      "Email: juan@hotmail.com\n",
      "\n",
      "Nombre: Luis\n",
      "Telefono: 89389473\n",
      "Email: juan@hotmail.com\n",
      "\n",
      "\n",
      "Nombre: Julio\n",
      "Telefono: 093800090\n",
      "Email: julio.@yahoo.com\n",
      "Nombre: Julio\n",
      "Telefono: 985627000\n",
      "Email: julio.@yahoo.com\n",
      "\n",
      "\n",
      "Nombre: Joel\n",
      "Telefono: 948263928\n",
      "Email: joel@gmail.com\n",
      "\n",
      "Nombre: Joel\n",
      "Telefono: 948263928\n",
      "Email: j_234@outlook.com\n"
     ]
    }
   ],
   "source": [
    "amigo = Persona(\"Juan\",\"89389473\",\"juan@hotmail.com\")\n",
    "obj = Persona(\"Julio\",\"093800090\",\"julio.@yahoo.com\")\n",
    "amigo2=Persona('Joel','948263928','joel@gmail.com')\n",
    "\n",
    "\n",
    "#accediendo a los campos o atribujos del objeto amigo\n",
    "print('Nombre:', amigo.getNombre())\n",
    "print('Telefono:',amigo.getTelefono())\n",
    "print('Email:',amigo.getEmail())\n",
    "\n",
    "amigo.setNombre('Luis')\n",
    "print()\n",
    "print('Nombre:', amigo.getNombre())\n",
    "print('Telefono:',amigo.getTelefono())\n",
    "print('Email:',amigo.getEmail())\n",
    "\n",
    "\n",
    "#accediendo a los campos o atribujos del objeto obj\n",
    "print('\\n')\n",
    "print('Nombre:', obj.getNombre())\n",
    "print('Telefono:',obj.getTelefono())\n",
    "print('Email:',obj.getEmail())\n",
    "\n",
    "obj.setTelefono(\"985627000\")\n",
    "print('Nombre:', obj.getNombre())\n",
    "print('Telefono:',obj.getTelefono())\n",
    "print('Email:',obj.getEmail())\n",
    "\n",
    "print('\\n')\n",
    "print('Nombre:', amigo2.getNombre())\n",
    "print('Telefono:',amigo2.getTelefono())\n",
    "print('Email:',amigo2.getEmail())\n",
    "\n",
    "amigo2.setEmail('j_234@outlook.com')\n",
    "#accediendo a los campos o atribujos del objeto amigo2\n",
    "print()\n",
    "print('Nombre:', amigo2.getNombre())\n",
    "print('Telefono:',amigo2.getTelefono())\n",
    "print('Email:',amigo2.getEmail())"
   ]
  },
  {
   "cell_type": "code",
   "execution_count": 19,
   "metadata": {},
   "outputs": [
    {
     "name": "stdout",
     "output_type": "stream",
     "text": [
      "<__main__.Persona object at 0x00000214CF6E6188>\n"
     ]
    }
   ],
   "source": [
    "amigo = Persona(\"Juan\",\"89389473\",\"juan@hotmail.com\")\n",
    "print(amigo)"
   ]
  },
  {
   "cell_type": "markdown",
   "metadata": {},
   "source": [
    "# Metodo 3\n"
   ]
  },
  {
   "cell_type": "code",
   "execution_count": 34,
   "metadata": {},
   "outputs": [],
   "source": [
    "# Creando la clase persona (es como una planbtilla):  (VERSIÓN 2)\n",
    "class Persona(object):\n",
    "    '''\n",
    "    Esta clase define a una persona a traves de su nombre, su telefono,\n",
    "    y su email\n",
    "    '''\n",
    "    def __init__(self,nombre='',telefono='',email=''):\n",
    "        self.__nombre=nombre\n",
    "        self.__telefono=telefono\n",
    "        self.__email=email\n",
    "    # se va usar metodos de acceso para los campos privados:\n",
    "    #los metodos de acceso son públicos\n",
    "    #getters(): Son para acceder o conseguir el valor del campo\n",
    "    def getNombre(self):\n",
    "        return self.__nombre\n",
    "    \n",
    "    def getTelefono(self):\n",
    "        return self.__telefono\n",
    "    \n",
    "    def getEmail(self):\n",
    "        return self.__email \n",
    "    \n",
    "        \n",
    "    #setters():Son para acceder a los campos para asignarles un valor\n",
    "    def setNombre(self,NuevoN):\n",
    "        self.__nombre=NuevoN\n",
    "        \n",
    "    def setTelefono(self,NuevoT):\n",
    "        self.__telefono=NuevoT\n",
    "        \n",
    "    def setEmail(self,NuevoE):\n",
    "        self.__email=NuevoE\n",
    "    \n",
    "    \n",
    "    # sobrecargando al metodo __str__\n",
    "    def __str__(self):\n",
    "        return \"nombre:{}, telefono:{}, email:{} \".format(self.__nombre,\n",
    "                                                          self.__telefono,\n",
    "                                                          self.__email)\n",
    "        "
   ]
  },
  {
   "cell_type": "code",
   "execution_count": 39,
   "metadata": {},
   "outputs": [
    {
     "name": "stdout",
     "output_type": "stream",
     "text": [
      "nombre:Juan, telefono:89389473, email:juan@hotmail.com \n",
      "nombre:Julio, telefono:093800090, email:julio.@yahoo.com \n",
      "nombre:Joel, telefono:948263928, email:joel@gmail.com \n"
     ]
    }
   ],
   "source": [
    "amigo = Persona(\"Juan\",\"89389473\",\"juan@hotmail.com\")\n",
    "obj = Persona(\"Julio\",\"093800090\",\"julio.@yahoo.com\")\n",
    "amigo2=Persona('Joel','948263928','joel@gmail.com')\n",
    "\n",
    "print(amigo)\n",
    "print(obj)\n",
    "print(amigo2)"
   ]
  },
  {
   "cell_type": "markdown",
   "metadata": {},
   "source": [
    "# Vesión público"
   ]
  },
  {
   "cell_type": "code",
   "execution_count": 56,
   "metadata": {},
   "outputs": [],
   "source": [
    "# Para python los compos y atributos para una clase son publicos:\n",
    "\n",
    "#Creando a la clase persona con atributos o campos publicos\n"
   ]
  },
  {
   "cell_type": "code",
   "execution_count": 57,
   "metadata": {},
   "outputs": [],
   "source": [
    "class Persona(object):\n",
    "    '''\n",
    "    Esta clase define a una persona a traves de su nombre, su telefono,\n",
    "    y su email\n",
    "    '''\n",
    "    def __init__(self,nombre='',telefono='',email=''):\n",
    "        #los campos de atributos son publicos\n",
    "        self.nombre=nombre\n",
    "        self.telefono=telefono\n",
    "        self.email=email\n",
    "        \n",
    "    #ya no es necesario metodos de acceso\n",
    "    def __str__(self):\n",
    "        return \"nombre:{}, telefono:{}, email:{} \".format(self.nombre,\n",
    "                                                          self.telefono,\n",
    "                                                          self.email)\n",
    "        \n",
    "    "
   ]
  },
  {
   "cell_type": "code",
   "execution_count": 59,
   "metadata": {},
   "outputs": [
    {
     "name": "stdout",
     "output_type": "stream",
     "text": [
      "Nombre: Juan\n",
      "Telefono: 89389473\n",
      "Email: juan@hotmail.com\n",
      "Nuevo nombre:  Luis\n",
      "\n",
      "nombre:Luis, telefono:89389473, email:juan@hotmail.com \n"
     ]
    }
   ],
   "source": [
    "amigo = Persona(\"Juan\",\"89389473\",\"juan@hotmail.com\")\n",
    "\n",
    "\n",
    "print(\"Nombre:\",amigo.nombre)\n",
    "print(\"Telefono:\",amigo.telefono)\n",
    "print(\"Email:\",amigo.email)\n",
    "\n",
    "#modificando al compo nombre\n",
    "amigo.nombre='Luis'\n",
    "print(\"Nuevo nombre: \",amigo.nombre)\n",
    "\n",
    "print()\n",
    "print(amigo)"
   ]
  },
  {
   "cell_type": "code",
   "execution_count": 63,
   "metadata": {},
   "outputs": [
    {
     "name": "stdout",
     "output_type": "stream",
     "text": [
      "nombre:67, telefono:95, email:1000 \n",
      "nombre:67, telefono:95, email:500 \n"
     ]
    }
   ],
   "source": [
    "amigo = Persona(67,95,1000)\n",
    "print(amigo)\n",
    "\n",
    "amigo.email =500\n",
    "print(amigo)"
   ]
  },
  {
   "cell_type": "code",
   "execution_count": null,
   "metadata": {},
   "outputs": [],
   "source": []
  },
  {
   "cell_type": "code",
   "execution_count": 86,
   "metadata": {},
   "outputs": [],
   "source": [
    "class Persona(object):\n",
    "    '''\n",
    "    Esta clase define a una persona a traves de su nombre, su telefono,\n",
    "    y su email\n",
    "    '''\n",
    "    def __init__(self,nombre='',telefono='',email=''):\n",
    "        #los campos de atributos son publicos\n",
    "        self.nombre=nombre\n",
    "        self.telefono=telefono\n",
    "        self.email=email\n",
    "        \n",
    "        \n",
    "    #metodos decoradores:\n",
    "    #se comporta como el getter():\n",
    "    @property\n",
    "    def nombre(self):\n",
    "        return self.__nombre\n",
    "    \n",
    "    #se comporta como setter():\n",
    "    @nombre.setter\n",
    "    def nombre(self,nuevoN):\n",
    "        if(isinstance(nuevoN,int) or isinstance(nuevoN,float)):\n",
    "            print(\"Error en el tipo de dato!\")\n",
    "        else:\n",
    "            self.__nombre=nuevoN\n",
    "    @property\n",
    "    def telefono(self):\n",
    "        return self.__telefono\n",
    "    \n",
    "    #se comporta como setter():\n",
    "    @telefono.setter\n",
    "    def telefono(self,nuevoT):\n",
    "        if(isinstance(nuevoT,int) or isinstance(nuevoT,float)):\n",
    "            print(\"Error en el tipo de dato!\")\n",
    "        else:\n",
    "            self.__telefono=nuevoT\n",
    "    @property\n",
    "    def email(self):\n",
    "        return self.__telefono\n",
    "    \n",
    "    #se comporta como setter():\n",
    "    @email.setter\n",
    "    def email(self,nuevoE):\n",
    "        if(isinstance(nuevoE,int) or isinstance(nuevoE,float)):\n",
    "            print(\"Error en el tipo de dato!\")\n",
    "        else:\n",
    "            self.__email=nuevoE\n",
    "        \n",
    "        \n",
    "    #sobrecargando datos\n",
    "    def __str__(self):\n",
    "        return \"nombre:{}, telefono:{}, email:{} \".format(self.nombre,self.telefono,self.email)\n",
    "        "
   ]
  },
  {
   "cell_type": "code",
   "execution_count": 87,
   "metadata": {},
   "outputs": [
    {
     "name": "stdout",
     "output_type": "stream",
     "text": [
      "Error en el tipo de dato!\n"
     ]
    },
    {
     "ename": "AttributeError",
     "evalue": "'Persona' object has no attribute '_Persona__nombre'",
     "output_type": "error",
     "traceback": [
      "\u001b[1;31m---------------------------------------------------------------------------\u001b[0m",
      "\u001b[1;31mAttributeError\u001b[0m                            Traceback (most recent call last)",
      "\u001b[1;32m<ipython-input-87-3d144eaecf33>\u001b[0m in \u001b[0;36m<module>\u001b[1;34m\u001b[0m\n\u001b[0;32m      1\u001b[0m \u001b[0mamigo\u001b[0m \u001b[1;33m=\u001b[0m \u001b[0mPersona\u001b[0m\u001b[1;33m(\u001b[0m\u001b[1;36m67\u001b[0m\u001b[1;33m,\u001b[0m\u001b[1;34m'2352335'\u001b[0m\u001b[1;33m,\u001b[0m\u001b[1;34m\"juan@gmail.com\"\u001b[0m\u001b[1;33m)\u001b[0m\u001b[1;33m\u001b[0m\u001b[1;33m\u001b[0m\u001b[0m\n\u001b[0;32m      2\u001b[0m \u001b[1;33m\u001b[0m\u001b[0m\n\u001b[1;32m----> 3\u001b[1;33m \u001b[0mprint\u001b[0m\u001b[1;33m(\u001b[0m\u001b[0mamigo\u001b[0m\u001b[1;33m)\u001b[0m\u001b[1;33m\u001b[0m\u001b[1;33m\u001b[0m\u001b[0m\n\u001b[0m",
      "\u001b[1;32m<ipython-input-86-ace2d096e7d9>\u001b[0m in \u001b[0;36m__str__\u001b[1;34m(self)\u001b[0m\n\u001b[0;32m     50\u001b[0m     \u001b[1;31m#sobrecargando datos\u001b[0m\u001b[1;33m\u001b[0m\u001b[1;33m\u001b[0m\u001b[1;33m\u001b[0m\u001b[0m\n\u001b[0;32m     51\u001b[0m     \u001b[1;32mdef\u001b[0m \u001b[0m__str__\u001b[0m\u001b[1;33m(\u001b[0m\u001b[0mself\u001b[0m\u001b[1;33m)\u001b[0m\u001b[1;33m:\u001b[0m\u001b[1;33m\u001b[0m\u001b[1;33m\u001b[0m\u001b[0m\n\u001b[1;32m---> 52\u001b[1;33m         \u001b[1;32mreturn\u001b[0m \u001b[1;34m\"nombre:{}, telefono:{}, email:{} \"\u001b[0m\u001b[1;33m.\u001b[0m\u001b[0mformat\u001b[0m\u001b[1;33m(\u001b[0m\u001b[0mself\u001b[0m\u001b[1;33m.\u001b[0m\u001b[0mnombre\u001b[0m\u001b[1;33m,\u001b[0m\u001b[0mself\u001b[0m\u001b[1;33m.\u001b[0m\u001b[0mtelefono\u001b[0m\u001b[1;33m,\u001b[0m\u001b[0mself\u001b[0m\u001b[1;33m.\u001b[0m\u001b[0memail\u001b[0m\u001b[1;33m)\u001b[0m\u001b[1;33m\u001b[0m\u001b[1;33m\u001b[0m\u001b[0m\n\u001b[0m\u001b[0;32m     53\u001b[0m \u001b[1;33m\u001b[0m\u001b[0m\n",
      "\u001b[1;32m<ipython-input-86-ace2d096e7d9>\u001b[0m in \u001b[0;36mnombre\u001b[1;34m(self)\u001b[0m\n\u001b[0;32m     15\u001b[0m     \u001b[1;33m@\u001b[0m\u001b[0mproperty\u001b[0m\u001b[1;33m\u001b[0m\u001b[1;33m\u001b[0m\u001b[0m\n\u001b[0;32m     16\u001b[0m     \u001b[1;32mdef\u001b[0m \u001b[0mnombre\u001b[0m\u001b[1;33m(\u001b[0m\u001b[0mself\u001b[0m\u001b[1;33m)\u001b[0m\u001b[1;33m:\u001b[0m\u001b[1;33m\u001b[0m\u001b[1;33m\u001b[0m\u001b[0m\n\u001b[1;32m---> 17\u001b[1;33m         \u001b[1;32mreturn\u001b[0m \u001b[0mself\u001b[0m\u001b[1;33m.\u001b[0m\u001b[0m__nombre\u001b[0m\u001b[1;33m\u001b[0m\u001b[1;33m\u001b[0m\u001b[0m\n\u001b[0m\u001b[0;32m     18\u001b[0m \u001b[1;33m\u001b[0m\u001b[0m\n\u001b[0;32m     19\u001b[0m     \u001b[1;31m#se comporta como setter():\u001b[0m\u001b[1;33m\u001b[0m\u001b[1;33m\u001b[0m\u001b[1;33m\u001b[0m\u001b[0m\n",
      "\u001b[1;31mAttributeError\u001b[0m: 'Persona' object has no attribute '_Persona__nombre'"
     ]
    }
   ],
   "source": [
    "amigo = Persona(67,'2352335',\"juan@gmail.com\")\n",
    "\n",
    "print(amigo)\n"
   ]
  },
  {
   "cell_type": "code",
   "execution_count": 88,
   "metadata": {},
   "outputs": [],
   "source": [
    "class Persona(object):\n",
    "    '''\n",
    "    Esta clase define a una persona a traves de su nombre, su telefono,\n",
    "    y su email\n",
    "    '''\n",
    "    def __init__(self,nombre='',telefono='',email=''):\n",
    "        #los campos de atributos son publicos\n",
    "        self.nombre=nombre\n",
    "        self.telefono=telefono\n",
    "        self.email=email\n",
    "        \n",
    "        \n",
    "    #metodos decoradores:\n",
    "    #se comporta como el getter():\n",
    "    @property\n",
    "    def nombre(self):\n",
    "        return self.__nombre\n",
    "    \n",
    "    #se comporta como setter():\n",
    "    @nombre.setter\n",
    "    def nombre(self,nuevoN):\n",
    "        if(isinstance(nuevoN,int) or isinstance(nuevoN,float)):\n",
    "            print(\"Error en el tipo de dato!\")\n",
    "        else:\n",
    "            self.__nombre=nuevoN\n",
    "    @property\n",
    "    def telefono(self):\n",
    "        return self.__telefono\n",
    "    \n",
    "    #se comporta como setter():\n",
    "    @telefono.setter\n",
    "    def telefono(self,nuevoT):\n",
    "        if(isinstance(nuevoT,int) or isinstance(nuevoT,float)):\n",
    "            print(\"Error en el tipo de dato!\")\n",
    "        else:\n",
    "            self.__telefono=nuevoT\n",
    "    @property\n",
    "    def email(self):\n",
    "        return self.__telefono\n",
    "    \n",
    "    #se comporta como setter():\n",
    "    @email.setter\n",
    "    def email(self,nuevoE):\n",
    "        if(isinstance(nuevoE,int) or isinstance(nuevoE,float)):\n",
    "            print(\"Error en el tipo de dato!\")\n",
    "        else:\n",
    "            self.__email=nuevoE\n",
    "        \n",
    "        \n",
    "    #sobrecargando datos\n",
    "    def __str__(self):\n",
    "        return \"nombre:{}, telefono:{}, email:{} \".format(self.nombre,self.telefono,self.email)\n",
    "        "
   ]
  },
  {
   "cell_type": "code",
   "execution_count": 89,
   "metadata": {},
   "outputs": [
    {
     "name": "stdout",
     "output_type": "stream",
     "text": [
      "Error en el tipo de dato!\n"
     ]
    },
    {
     "ename": "AttributeError",
     "evalue": "'Persona' object has no attribute '_Persona__nombre'",
     "output_type": "error",
     "traceback": [
      "\u001b[1;31m---------------------------------------------------------------------------\u001b[0m",
      "\u001b[1;31mAttributeError\u001b[0m                            Traceback (most recent call last)",
      "\u001b[1;32m<ipython-input-89-3d144eaecf33>\u001b[0m in \u001b[0;36m<module>\u001b[1;34m\u001b[0m\n\u001b[0;32m      1\u001b[0m \u001b[0mamigo\u001b[0m \u001b[1;33m=\u001b[0m \u001b[0mPersona\u001b[0m\u001b[1;33m(\u001b[0m\u001b[1;36m67\u001b[0m\u001b[1;33m,\u001b[0m\u001b[1;34m'2352335'\u001b[0m\u001b[1;33m,\u001b[0m\u001b[1;34m\"juan@gmail.com\"\u001b[0m\u001b[1;33m)\u001b[0m\u001b[1;33m\u001b[0m\u001b[1;33m\u001b[0m\u001b[0m\n\u001b[0;32m      2\u001b[0m \u001b[1;33m\u001b[0m\u001b[0m\n\u001b[1;32m----> 3\u001b[1;33m \u001b[0mprint\u001b[0m\u001b[1;33m(\u001b[0m\u001b[0mamigo\u001b[0m\u001b[1;33m)\u001b[0m\u001b[1;33m\u001b[0m\u001b[1;33m\u001b[0m\u001b[0m\n\u001b[0m",
      "\u001b[1;32m<ipython-input-88-ace2d096e7d9>\u001b[0m in \u001b[0;36m__str__\u001b[1;34m(self)\u001b[0m\n\u001b[0;32m     50\u001b[0m     \u001b[1;31m#sobrecargando datos\u001b[0m\u001b[1;33m\u001b[0m\u001b[1;33m\u001b[0m\u001b[1;33m\u001b[0m\u001b[0m\n\u001b[0;32m     51\u001b[0m     \u001b[1;32mdef\u001b[0m \u001b[0m__str__\u001b[0m\u001b[1;33m(\u001b[0m\u001b[0mself\u001b[0m\u001b[1;33m)\u001b[0m\u001b[1;33m:\u001b[0m\u001b[1;33m\u001b[0m\u001b[1;33m\u001b[0m\u001b[0m\n\u001b[1;32m---> 52\u001b[1;33m         \u001b[1;32mreturn\u001b[0m \u001b[1;34m\"nombre:{}, telefono:{}, email:{} \"\u001b[0m\u001b[1;33m.\u001b[0m\u001b[0mformat\u001b[0m\u001b[1;33m(\u001b[0m\u001b[0mself\u001b[0m\u001b[1;33m.\u001b[0m\u001b[0mnombre\u001b[0m\u001b[1;33m,\u001b[0m\u001b[0mself\u001b[0m\u001b[1;33m.\u001b[0m\u001b[0mtelefono\u001b[0m\u001b[1;33m,\u001b[0m\u001b[0mself\u001b[0m\u001b[1;33m.\u001b[0m\u001b[0memail\u001b[0m\u001b[1;33m)\u001b[0m\u001b[1;33m\u001b[0m\u001b[1;33m\u001b[0m\u001b[0m\n\u001b[0m\u001b[0;32m     53\u001b[0m \u001b[1;33m\u001b[0m\u001b[0m\n",
      "\u001b[1;32m<ipython-input-88-ace2d096e7d9>\u001b[0m in \u001b[0;36mnombre\u001b[1;34m(self)\u001b[0m\n\u001b[0;32m     15\u001b[0m     \u001b[1;33m@\u001b[0m\u001b[0mproperty\u001b[0m\u001b[1;33m\u001b[0m\u001b[1;33m\u001b[0m\u001b[0m\n\u001b[0;32m     16\u001b[0m     \u001b[1;32mdef\u001b[0m \u001b[0mnombre\u001b[0m\u001b[1;33m(\u001b[0m\u001b[0mself\u001b[0m\u001b[1;33m)\u001b[0m\u001b[1;33m:\u001b[0m\u001b[1;33m\u001b[0m\u001b[1;33m\u001b[0m\u001b[0m\n\u001b[1;32m---> 17\u001b[1;33m         \u001b[1;32mreturn\u001b[0m \u001b[0mself\u001b[0m\u001b[1;33m.\u001b[0m\u001b[0m__nombre\u001b[0m\u001b[1;33m\u001b[0m\u001b[1;33m\u001b[0m\u001b[0m\n\u001b[0m\u001b[0;32m     18\u001b[0m \u001b[1;33m\u001b[0m\u001b[0m\n\u001b[0;32m     19\u001b[0m     \u001b[1;31m#se comporta como setter():\u001b[0m\u001b[1;33m\u001b[0m\u001b[1;33m\u001b[0m\u001b[1;33m\u001b[0m\u001b[0m\n",
      "\u001b[1;31mAttributeError\u001b[0m: 'Persona' object has no attribute '_Persona__nombre'"
     ]
    }
   ],
   "source": [
    "amigo = Persona(67,'2352335',\"juan@gmail.com\")\n",
    "\n",
    "print(amigo)\n"
   ]
  },
  {
   "cell_type": "code",
   "execution_count": 90,
   "metadata": {},
   "outputs": [],
   "source": [
    "class Persona(object):\n",
    "    def __init__(self,nombre='',telefono='',email=''):\n",
    "        #los campos de atributos son publicos\n",
    "        self.nombre=nombre\n",
    "        self.telefono=telefono\n",
    "        self.email=email\n",
    "        \n",
    "        \n",
    "    #metodos decoradores:\n",
    "    #se comporta como el getter():\n",
    "    @property\n",
    "    def nombre(self):\n",
    "        return self.__nombre\n",
    "    \n",
    "    #se comporta como setter():\n",
    "    @nombre.setter\n",
    "    def nombre(self,nuevoN):\n",
    "        if(isinstance(nuevoN,int) or isinstance(nuevoN,float)):\n",
    "            print(\"Error en el tipo de dato!\")\n",
    "        else:\n",
    "            pass"
   ]
  },
  {
   "cell_type": "code",
   "execution_count": 99,
   "metadata": {},
   "outputs": [],
   "source": [
    "class Persona(object):\n",
    "    \n",
    "    #este metodo va a establecer las caracteristicas que van a tener los objetos\n",
    "    #de la clase y ermitir inicializar un objeto\n",
    "    #self es mi, ejm self.nombre mi nombre\n",
    "    #a lass caracteristicas se les llama campos o atributos\n",
    "    \n",
    "    def __init__(self,nombre='',telefono='',email=''):#es privado porque tiene dos lineas abajo\n",
    "        self.nombre=nombre\n",
    "        self.telefono=telefono\n",
    "        self.email=email\n",
    "        \n",
    "        \n",
    "    #métodos decoradores:\n",
    "    #los decaradores simulan el comportamiento de los seters o getters\n",
    "    #se comporta como getter():\n",
    "    #En los decoradores es importante conservar los dos guiones bajos\n",
    "    @property\n",
    "    def telefono(self):\n",
    "        return self.__telefono\n",
    "    \n",
    "    #se comporta como setter():\n",
    "    @telefono.setter\n",
    "    def telefono(self,nuevoN):\n",
    "        if(isinstance(nuevoN,str)):\n",
    "            print('Error en el tipo de dato!')\n",
    "        else:\n",
    "            self.__telefono=nuevoN\n",
    "            \n",
    "    @property\n",
    "    def nombre(self):\n",
    "        return self.__nombre\n",
    "    \n",
    "    #se comporta como setter():\n",
    "    @nombre.setter\n",
    "    def nombre(self,nuevoN):\n",
    "        if(isinstance(nuevoN,int) or isinstance(nuevoN,float)):\n",
    "            print('Error en el tipo de dato!')\n",
    "        else:\n",
    "            self.__nombre=nuevoN\n",
    "    \n",
    "    \n",
    "    #sobrecargando al metodo __str__\n",
    "    def __str__(self):\n",
    "        return \"nombre: {},telefono: {},email: {}\".format(self.nombre, self.telefono,self.email)\n"
   ]
  },
  {
   "cell_type": "code",
   "execution_count": 100,
   "metadata": {},
   "outputs": [
    {
     "name": "stdout",
     "output_type": "stream",
     "text": [
      "Error en el tipo de dato!\n",
      "Error en el tipo de dato!\n"
     ]
    },
    {
     "ename": "AttributeError",
     "evalue": "'Persona' object has no attribute '_Persona__nombre'",
     "output_type": "error",
     "traceback": [
      "\u001b[1;31m---------------------------------------------------------------------------\u001b[0m",
      "\u001b[1;31mAttributeError\u001b[0m                            Traceback (most recent call last)",
      "\u001b[1;32m<ipython-input-100-3d144eaecf33>\u001b[0m in \u001b[0;36m<module>\u001b[1;34m\u001b[0m\n\u001b[0;32m      1\u001b[0m \u001b[0mamigo\u001b[0m \u001b[1;33m=\u001b[0m \u001b[0mPersona\u001b[0m\u001b[1;33m(\u001b[0m\u001b[1;36m67\u001b[0m\u001b[1;33m,\u001b[0m\u001b[1;34m'2352335'\u001b[0m\u001b[1;33m,\u001b[0m\u001b[1;34m\"juan@gmail.com\"\u001b[0m\u001b[1;33m)\u001b[0m\u001b[1;33m\u001b[0m\u001b[1;33m\u001b[0m\u001b[0m\n\u001b[0;32m      2\u001b[0m \u001b[1;33m\u001b[0m\u001b[0m\n\u001b[1;32m----> 3\u001b[1;33m \u001b[0mprint\u001b[0m\u001b[1;33m(\u001b[0m\u001b[0mamigo\u001b[0m\u001b[1;33m)\u001b[0m\u001b[1;33m\u001b[0m\u001b[1;33m\u001b[0m\u001b[0m\n\u001b[0m",
      "\u001b[1;32m<ipython-input-99-12770a19beab>\u001b[0m in \u001b[0;36m__str__\u001b[1;34m(self)\u001b[0m\n\u001b[0;32m     43\u001b[0m     \u001b[1;31m#sobrecargando al metodo __str__\u001b[0m\u001b[1;33m\u001b[0m\u001b[1;33m\u001b[0m\u001b[1;33m\u001b[0m\u001b[0m\n\u001b[0;32m     44\u001b[0m     \u001b[1;32mdef\u001b[0m \u001b[0m__str__\u001b[0m\u001b[1;33m(\u001b[0m\u001b[0mself\u001b[0m\u001b[1;33m)\u001b[0m\u001b[1;33m:\u001b[0m\u001b[1;33m\u001b[0m\u001b[1;33m\u001b[0m\u001b[0m\n\u001b[1;32m---> 45\u001b[1;33m         \u001b[1;32mreturn\u001b[0m \u001b[1;34m\"nombre: {},telefono: {},email: {}\"\u001b[0m\u001b[1;33m.\u001b[0m\u001b[0mformat\u001b[0m\u001b[1;33m(\u001b[0m\u001b[0mself\u001b[0m\u001b[1;33m.\u001b[0m\u001b[0mnombre\u001b[0m\u001b[1;33m,\u001b[0m \u001b[0mself\u001b[0m\u001b[1;33m.\u001b[0m\u001b[0mtelefono\u001b[0m\u001b[1;33m,\u001b[0m\u001b[0mself\u001b[0m\u001b[1;33m.\u001b[0m\u001b[0memail\u001b[0m\u001b[1;33m)\u001b[0m\u001b[1;33m\u001b[0m\u001b[1;33m\u001b[0m\u001b[0m\n\u001b[0m",
      "\u001b[1;32m<ipython-input-99-12770a19beab>\u001b[0m in \u001b[0;36mnombre\u001b[1;34m(self)\u001b[0m\n\u001b[0;32m     30\u001b[0m     \u001b[1;33m@\u001b[0m\u001b[0mproperty\u001b[0m\u001b[1;33m\u001b[0m\u001b[1;33m\u001b[0m\u001b[0m\n\u001b[0;32m     31\u001b[0m     \u001b[1;32mdef\u001b[0m \u001b[0mnombre\u001b[0m\u001b[1;33m(\u001b[0m\u001b[0mself\u001b[0m\u001b[1;33m)\u001b[0m\u001b[1;33m:\u001b[0m\u001b[1;33m\u001b[0m\u001b[1;33m\u001b[0m\u001b[0m\n\u001b[1;32m---> 32\u001b[1;33m         \u001b[1;32mreturn\u001b[0m \u001b[0mself\u001b[0m\u001b[1;33m.\u001b[0m\u001b[0m__nombre\u001b[0m\u001b[1;33m\u001b[0m\u001b[1;33m\u001b[0m\u001b[0m\n\u001b[0m\u001b[0;32m     33\u001b[0m \u001b[1;33m\u001b[0m\u001b[0m\n\u001b[0;32m     34\u001b[0m     \u001b[1;31m#se comporta como setter():\u001b[0m\u001b[1;33m\u001b[0m\u001b[1;33m\u001b[0m\u001b[1;33m\u001b[0m\u001b[0m\n",
      "\u001b[1;31mAttributeError\u001b[0m: 'Persona' object has no attribute '_Persona__nombre'"
     ]
    }
   ],
   "source": [
    "amigo = Persona(67,'2352335',\"juan@gmail.com\")\n",
    "\n",
    "print(amigo)\n"
   ]
  },
  {
   "cell_type": "code",
   "execution_count": 109,
   "metadata": {},
   "outputs": [
    {
     "ename": "ModuleNotFoundError",
     "evalue": "No module named 'pyglet'",
     "output_type": "error",
     "traceback": [
      "\u001b[1;31m---------------------------------------------------------------------------\u001b[0m",
      "\u001b[1;31mModuleNotFoundError\u001b[0m                       Traceback (most recent call last)",
      "\u001b[1;32m<ipython-input-109-d879abd4c602>\u001b[0m in \u001b[0;36m<module>\u001b[1;34m\u001b[0m\n\u001b[1;32m----> 1\u001b[1;33m \u001b[1;32mimport\u001b[0m \u001b[0mpyglet\u001b[0m\u001b[1;33m\u001b[0m\u001b[1;33m\u001b[0m\u001b[0m\n\u001b[0m\u001b[0;32m      2\u001b[0m \u001b[0maudio\u001b[0m \u001b[1;33m=\u001b[0m \u001b[0mpyglet\u001b[0m\u001b[1;33m.\u001b[0m\u001b[0mmedia\u001b[0m\u001b[1;33m.\u001b[0m\u001b[0mload\u001b[0m\u001b[1;33m(\u001b[0m\u001b[1;34m\"audio.wav\"\u001b[0m\u001b[1;33m)\u001b[0m\u001b[1;33m\u001b[0m\u001b[1;33m\u001b[0m\u001b[0m\n\u001b[0;32m      3\u001b[0m \u001b[0maudio\u001b[0m\u001b[1;33m.\u001b[0m\u001b[0mplay\u001b[0m\u001b[1;33m(\u001b[0m\u001b[1;33m)\u001b[0m\u001b[1;33m\u001b[0m\u001b[1;33m\u001b[0m\u001b[0m\n",
      "\u001b[1;31mModuleNotFoundError\u001b[0m: No module named 'pyglet'"
     ]
    }
   ],
   "source": []
  },
  {
   "cell_type": "code",
   "execution_count": 110,
   "metadata": {},
   "outputs": [],
   "source": [
    "import winsound\n",
    "winsound.PlaySound(\"path_to_wav_file.wav\", winsound.SND_FILENAME)"
   ]
  },
  {
   "cell_type": "code",
   "execution_count": null,
   "metadata": {},
   "outputs": [],
   "source": []
  }
 ],
 "metadata": {
  "kernelspec": {
   "display_name": "Python 3",
   "language": "python",
   "name": "python3"
  },
  "language_info": {
   "codemirror_mode": {
    "name": "ipython",
    "version": 3
   },
   "file_extension": ".py",
   "mimetype": "text/x-python",
   "name": "python",
   "nbconvert_exporter": "python",
   "pygments_lexer": "ipython3",
   "version": "3.7.6"
  }
 },
 "nbformat": 4,
 "nbformat_minor": 4
}
