{
 "cells": [
  {
   "cell_type": "markdown",
   "metadata": {},
   "source": [
    "# Programacion orientada a objetos - Parte 1"
   ]
  },
  {
   "cell_type": "markdown",
   "metadata": {},
   "source": [
    "La Programacion orientada a objetos (Object Oriented Programming, OOP), es un \"paradigma de programación\": esto es, una forma de crear código, una metodología de programación que permite modelar un objeto del mundo real en base a código.\n",
    "\n",
    "La ventaja de la OOP es la capacidad de encerrar en una estructura de código un conjunto de funciones que pueden utilizarse nuevamente sin tener en consideración como fueron implementadas. Adicionalmente, se puede utilizar esta estructura para crear nuevas estructuras, reduciendo la cantidad de código que un programa puede tener.\n",
    "\n",
    "La mala noticia es que, por razones teóricas, la terminología que acompaña a la OOP es oscura y compleja. Las buenas noticias es que ya a estas alturas, todos saben manipular objetos...\n",
    "\n",
    "__...¡PORQUE EN PYTHON TODO ES UN OBJETO!__\n",
    "\n",
    "Es decir cuando se escribe la siguiente instrucción:\n",
    "\n",
    "    num = 4\n",
    "    \n",
    "lo que esta sucediendo es la creación de un *objeto* tipo *int* (esta es la *clase* del objeto). En este caso se ha creado el objeto num y ha sido *instanciado* con el valor de 4 (esto es, se ha inicializado con el valor de 4). El valor numérico es una propiedad del objeto num (esto se conoce como *campo* o *field*) y este objeto tiene ciertas capacidades o funciones (llamadas *metodos*), como suma (+), resta (-), etc.\n",
    "\n",
    "__Lea el parrafo anterior un par de veces mas para que quede claro antes que todo se ponga muy complicado...__"
   ]
  },
  {
   "cell_type": "markdown",
   "metadata": {},
   "source": [
    "Otro ejemplo de un objeto en Python es una lista:\n",
    "\n",
    "    lista = [1, 2, 3, 4, 5]\n",
    "    \n",
    "Lo que aqui sucede es la creación del objeto lista clase list y se ha instanciado con una secuencia de valores. Internamente, una lista se inicializa de la siguiente manera:\n",
    "\n",
    "    lista = 1 -> 2 -> 3 -> 4 -> 5\n",
    "    \n",
    "Donde 1 es el primer valor de la lista, -> es un \"puntero\", un tipo de dato especial que almacena una dirección de memoria, direccion donde se aloja el número 2 (de alli el nombre puntero, porque apunta a un dato) y luego otro puntero que apunta al tercer elemento de la lista, etc.\n",
    "\n",
    "No es necesario conocer estos detalles internos del funcionamieto de una lista (pero, ¿ahora entiende porque cuando de hace _lista2 = lista1_ ambas no solo tienen los mismos valores, sino que además cuando se modifica un valor en una lista en la otra también se modifica?): estos detalles estan escondidos dentras de la definición del objeto. Como programador solo es necesario saber que hay que colocar numeros encerrados entre [] y separarlos por comas. Toda esta información esta *encapsulada* dentro de la definición de la clase *list*.\n",
    "\n",
    "Una vez establecido esto, se sabe que hay ciertas acciones que se pueden realizar con una lista, como:\n",
    "\n",
    "    lista.append(6)\n",
    "    lista.pop()\n",
    "    lista.reverse()\n",
    "    \n",
    "Estas son acciones que se ejecutan sobre el objeto *lista*: son los *métodos* disponibles para este objeto. Estos métodos son los que se observan cuando se hace:\n",
    "\n",
    "    dir(lista)\n",
    "\n",
    "Entonces, para llamar a los métodos de una lista se utiliza la nomenclatura *objeto.metodo(parametros)*."
   ]
  },
  {
   "cell_type": "markdown",
   "metadata": {},
   "source": [
    "Si se crean dos listas:\n",
    "\n",
    "    lista1 = [1, 2, 3, 4]\n",
    "    lista2 = [10, 20, 30, 40]\n",
    "    \n",
    "Lo que se tiene son dos *instancias* diferentes del mismo objeto clase *list*. Sin embargo, ambos comparten los mismos aributos y los mismos métodos."
   ]
  },
  {
   "cell_type": "markdown",
   "metadata": {},
   "source": [
    "Si revisa los métodos de las clases num y list:\n",
    "\n",
    "    dir(2)\n",
    "    dir([1, 2])\n",
    "\n",
    "Observara que uno de los primeros métodos disponibles en ambos casos es \"\\__add\\__\". Estos caracteres \"\\__\" al principio especifican que es un *método privado*, es decir, una acción sobre la que no se tiene acceso directo sino a través de algun mecanismo. Esta función es la encargada de resolver la suma de enteros y listas; y como se sabe, hacen cosas muy diferentes: en el caso de enteros se suman los valores y en el caso de listas se concatenan los elementos de ambas listas en una sola. Esto es un ejemplo de *sobrecarga*, es decir, dos métodos son el mismo nombre que realizan diferentes acciones porque estan asociados a diferentes clases."
   ]
  },
  {
   "cell_type": "markdown",
   "metadata": {},
   "source": [
    "Toda esta información será de mucha utilidad cuando se trate de comprender la OOP. Familiaricese con esta información antes de pasar a la siguiente parte. La OOP suele ser complicada para muchos nuevos programadores porque es una vuelta completa en la forma de programar: se suele atacar los problemas de programación yendo directamente a diseñar un algoritmo que modele un proceso con variables y acciones; en la OOP se requiere diseñar una especie de tablero de juego donde se van a colocar las piezas y se les da a cada pieza su propia naturaleza para que empiecen a interactuar entre si. Manejarse corretamente en la OOP requiere tiempo y esfuerzo.\n",
    "\n",
    "Pero sobre todo pensar de una forma diferente..."
   ]
  },
  {
   "cell_type": "code",
   "execution_count": null,
   "metadata": {},
   "outputs": [],
   "source": []
  }
 ],
 "metadata": {
  "kernelspec": {
   "display_name": "Python 3",
   "language": "python",
   "name": "python3"
  },
  "language_info": {
   "codemirror_mode": {
    "name": "ipython",
    "version": 3
   },
   "file_extension": ".py",
   "mimetype": "text/x-python",
   "name": "python",
   "nbconvert_exporter": "python",
   "pygments_lexer": "ipython3",
   "version": "3.7.6"
  }
 },
 "nbformat": 4,
 "nbformat_minor": 2
}
