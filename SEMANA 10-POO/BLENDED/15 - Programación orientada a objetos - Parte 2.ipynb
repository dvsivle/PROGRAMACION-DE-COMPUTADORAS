{
 "cells": [
  {
   "cell_type": "markdown",
   "metadata": {},
   "source": [
    "# Programación orientada a objetos - Parte 2"
   ]
  },
  {
   "cell_type": "markdown",
   "metadata": {},
   "source": [
    "La idea detrás de la OOP es modelar objetos del mundo real. Según la teoría de la OOP, todos los objetos a modelar tienen tres caracteristicas:\n",
    "\n",
    "- Su propia referencia\n",
    "- Atributos\n",
    "- Acciones\n",
    "\n",
    "Pongamos como ejemplo que quiero crear una mascota virtual, un perro llamado \"Boby\". \"Boby\" no será cualquier perro, será \"Boby\" y solo ese, es decir, esta referenciado. Puedo tener luego otra mascota llamada \"Ralf\" que también sera un perro, pero diferente de \"Boby\" (esto es bastante evidente, pero no lo será cuando lo codifiquemos).\n",
    "\n",
    "Adicionalmente, un perro tiene ciertos atributos: tiene un nombre, tiene un peso y tiene una raza. Aunque existen mas atributos para un perro, establezcamos que para nuestro perro virtual estos tres atributos son suficientes.\n",
    "\n",
    "Para finalizar, un perro realiza ciertas acciones, como caminar, correr, dormir y ladrar. Ciertamente puede morder, pero dejemos como en el caso anterior la lista de acciones reducida.\n",
    "\n",
    "En la terminología de OOP, los atributos se llaman *Fields* (campos) y las acciones se llaman *Métodos*. Tanto \"Boby\" como \"Ralf\" serán *objetos* que se crean a partir de una plantilla llamada *clase* que especifica los atributos, acciones y un mecanismo para que el objeto se referencie a si mismo. El objeto \"Boby\" será una *instancia* de la clase \"Perro\"."
   ]
  },
  {
   "cell_type": "markdown",
   "metadata": {},
   "source": [
    "Por lo tanto, toda la OOP gira en torno a la definicion de un clase. Una clase se crea con la siguiente nomenclatura:\n",
    "    \n",
    "    class NombreClase():\n",
    "        # Inicializacion del objeto\n",
    "        \n",
    "        \n",
    "        # Metodos\n",
    "        \n",
    "Para crear la clase Perro se puede iniciar con la siguiente estructura:\n",
    "\n",
    "    class Perro():\n",
    "        def __init__(self, nombre, peso, raza):\n",
    "            self.__nombre = nombre\n",
    "            self.__peso = peso\n",
    "            self.__raza = raza\n",
    "            \n",
    "Dentro de la defincion de clase lo primero que se encontrara será un método especial llamado \"\\__init\\__\". Este metodo es llamado cada vez que se instancia un objeto. Este metodo se encarga de inicializar el objeto con los atributos especificos. De forma tal que para crear a \"Boby\" se tendrá que ejecutar la instrucción:\n",
    "\n",
    "    Boby = Perro(\"Boby\", 20, \"Pastor Aleman\")\n",
    "    \n",
    "¿Qué paso con el parámetro *self*? Ese paramtero no se indica en el momento de la instanciación de un objeto. ¿Entonces para que esta? Para referenciar al objeto como si mismo.\n",
    "\n",
    "Esta idea suele ser la primera complicación en la OOP. \"self\" se puede entender como si fuera la especificación de \"yo\", de tal forma que en el momento de la inicializacion se toman los atributos y se asignan de la forma:\n",
    "\n",
    "    def __init__(self, nombre, peso, raza):      -> Yo soy un perro que tiene un nombre, un peso y una raza\n",
    "        self.__nombre = nombre      -> Yo me llamo \"Boby\"\n",
    "        self.__peso = peso          -> Yo peso 20 kilos\n",
    "        self.__raza = raza          -> Yo pertenezco a la raza \"Pastor Aleman\"\n",
    "\n",
    "Luego, lo que se debe de hacer es definir las acciones de un perro. Estas serán funciones (o *métodos* en la terminología de OOP). Por ejemplo:\n",
    "\n",
    "    def caminar(self):     -> Yo camino\n",
    "        return self.nombre + \" camina\"\n",
    "        \n",
    "    def correr(self):      -> Yo corro\n",
    "        retrun self.nombre + \" corre\"\n",
    "        \n",
    "    def ladrar(self):      -> Yo ladro\n",
    "        return \"Guan, guau, guau...\"\n",
    "\n",
    "Veamos como funciona todo el conjunto:"
   ]
  },
  {
   "cell_type": "code",
   "execution_count": 2,
   "metadata": {},
   "outputs": [],
   "source": [
    "class Perro(): \n",
    "    def __init__(self, nombre = \"Pluto\", peso = 10, raza = \"Chusco\"):\n",
    "        self.__nombre = nombre\n",
    "        self.__peso = peso\n",
    "        self.__raza = raza\n",
    "        \n",
    "    def caminar(self):\n",
    "        return self.__nombre + \" camina\"\n",
    "    \n",
    "    def correr(self):\n",
    "        return self.__nombre + \" corre\"\n",
    "\n",
    "    def ladrar(self):\n",
    "        return \"Guau, guau, guau...\""
   ]
  },
  {
   "cell_type": "markdown",
   "metadata": {},
   "source": [
    "Ahora vamos a instanciar el objeto Boby:"
   ]
  },
  {
   "cell_type": "code",
   "execution_count": 3,
   "metadata": {},
   "outputs": [
    {
     "name": "stdout",
     "output_type": "stream",
     "text": [
      "Boby -> <class '__main__.Perro'>\n",
      "Metodos -> ['_Perro__nombre', '_Perro__peso', '_Perro__raza', '__class__', '__delattr__', '__dict__', '__dir__', '__doc__', '__eq__', '__format__', '__ge__', '__getattribute__', '__gt__', '__hash__', '__init__', '__init_subclass__', '__le__', '__lt__', '__module__', '__ne__', '__new__', '__reduce__', '__reduce_ex__', '__repr__', '__setattr__', '__sizeof__', '__str__', '__subclasshook__', '__weakref__', 'caminar', 'correr', 'ladrar']\n"
     ]
    }
   ],
   "source": [
    "Boby = Perro(\"Boby\", 20, \"Pastor Aleman\")\n",
    "print(\"Boby ->\",type(Boby))\n",
    "print(\"Metodos ->\",dir(Boby))"
   ]
  },
  {
   "cell_type": "markdown",
   "metadata": {},
   "source": [
    "Como puede observar, \"Boby\" es un objeto y tiene un número de métodos, entre los que estan caminar, correr y ladrar."
   ]
  },
  {
   "cell_type": "code",
   "execution_count": 4,
   "metadata": {},
   "outputs": [
    {
     "name": "stdout",
     "output_type": "stream",
     "text": [
      "Boby camina\n",
      "Boby corre\n",
      "Guau, guau, guau...\n"
     ]
    }
   ],
   "source": [
    "print(Boby.caminar())\n",
    "print(Boby.correr())\n",
    "print(Boby.ladrar())"
   ]
  },
  {
   "cell_type": "markdown",
   "metadata": {},
   "source": [
    "Puedo crear un objeto diferente de la misma clase, utilizando algunas propiedades por defecto:"
   ]
  },
  {
   "cell_type": "code",
   "execution_count": 5,
   "metadata": {},
   "outputs": [
    {
     "name": "stdout",
     "output_type": "stream",
     "text": [
      "Rolf camina\n",
      "Rolf corre\n",
      "Guau, guau, guau...\n"
     ]
    }
   ],
   "source": [
    "Rolf = Perro(\"Rolf\")\n",
    "print(Rolf.caminar())\n",
    "print(Rolf.correr())\n",
    "print(Rolf.ladrar())"
   ]
  },
  {
   "cell_type": "markdown",
   "metadata": {},
   "source": [
    "Observe los dos caracteres \"\\__\". Esto indica que estos atributos son privados, por lo que no puedo acceder a ellos. Por ejemplo, Rolf no tiene raza (porque esta es la raza por defecto). Y no es posible acceder a ese atributo: "
   ]
  },
  {
   "cell_type": "code",
   "execution_count": 56,
   "metadata": {},
   "outputs": [
    {
     "ename": "AttributeError",
     "evalue": "'Perro' object has no attribute 'raza'",
     "output_type": "error",
     "traceback": [
      "\u001b[0;31m---------------------------------------------------------------------------\u001b[0m",
      "\u001b[0;31mAttributeError\u001b[0m                            Traceback (most recent call last)",
      "\u001b[0;32m<ipython-input-56-b12fd1cfcbb9>\u001b[0m in \u001b[0;36m<module>\u001b[0;34m()\u001b[0m\n\u001b[0;32m----> 1\u001b[0;31m \u001b[0mRolf\u001b[0m\u001b[1;33m.\u001b[0m\u001b[0mraza\u001b[0m\u001b[1;33m\u001b[0m\u001b[0m\n\u001b[0m",
      "\u001b[0;31mAttributeError\u001b[0m: 'Perro' object has no attribute 'raza'"
     ]
    }
   ],
   "source": [
    "Rolf.raza"
   ]
  },
  {
   "cell_type": "markdown",
   "metadata": {},
   "source": [
    "Para acceder a este atributo, habrá que definir unos métodos especiales que permitan obtener los atributos de esta clase (en inglés, get the attributes). A estos métodos se les conoce como \"getters\". Completemos la clase agregandole getters:"
   ]
  },
  {
   "cell_type": "code",
   "execution_count": 57,
   "metadata": {
    "collapsed": true
   },
   "outputs": [],
   "source": [
    "class Perro():\n",
    "    def __init__(self, nombre = \"Pluto\", peso = 10, raza = \"Chusco\"):\n",
    "        self.__nombre = nombre\n",
    "        self.__peso = peso\n",
    "        self.__raza = raza\n",
    "    \n",
    "    # getters\n",
    "    def retornaNombre(self):\n",
    "        return self.__nombre\n",
    "    \n",
    "    def retornaPeso(self):\n",
    "        return self.__peso\n",
    "    \n",
    "    def retornaRaza(self):\n",
    "        return self.__raza\n",
    "    \n",
    "    # Metodos\n",
    "    def caminar(self):\n",
    "        return self.__nombre + \" camina\"\n",
    "    \n",
    "    def correr(self):\n",
    "        return self.__nombre + \" corre\"\n",
    "\n",
    "    def ladrar(self):\n",
    "        return \"Guau, guau, guau...\"\n",
    "    \n",
    "Boby = Perro(\"Boby\", 20, \"Pastor Aleman\")\n",
    "Rolf = Perro(\"Rolf\")"
   ]
  },
  {
   "cell_type": "markdown",
   "metadata": {},
   "source": [
    "Ahora podemos obtener los atributos ambos objetos por medio de sus métodos getters:"
   ]
  },
  {
   "cell_type": "code",
   "execution_count": 9,
   "metadata": {},
   "outputs": [
    {
     "name": "stdout",
     "output_type": "stream",
     "text": [
      "Boby\n",
      "20\n",
      "Pastor Aleman\n",
      "\n",
      "Rolf\n",
      "40\n",
      "Siberiano\n"
     ]
    }
   ],
   "source": [
    "print(Boby.retornaNombre())\n",
    "print(Boby.retornaPeso())\n",
    "print(Boby.retornaRaza())\n",
    "print()\n",
    "print(Rolf.retornaNombre())\n",
    "print(Rolf.retornaPeso())\n",
    "print(Rolf.retornaRaza())"
   ]
  },
  {
   "cell_type": "markdown",
   "metadata": {},
   "source": [
    "Si se quiere cambiar algun atributo de un objeto, se necesita contar con otros métodos especiales, en este caso que puedan modificar los atributos de la clase (en inglés, set de attributes). A estos métodos se les conoce como *setters*. Completemos la clase agregandole *setters*:"
   ]
  },
  {
   "cell_type": "code",
   "execution_count": 10,
   "metadata": {},
   "outputs": [],
   "source": [
    "class Perro():\n",
    "    def __init__(self, nombre = \"Pluto\", peso = 10, raza = \"Chusco\"):\n",
    "        self.__nombre = nombre\n",
    "        self.__peso = peso\n",
    "        self.__raza = raza\n",
    "    \n",
    "    # getters\n",
    "    def retornaNombre(self):\n",
    "        return self.__nombre\n",
    "    \n",
    "    def retornaPeso(self):\n",
    "        return self.__peso\n",
    "    \n",
    "    def retornaRaza(self):\n",
    "        return self.__raza\n",
    "    \n",
    "    # setters\n",
    "    def asignaNombre(self, value):\n",
    "        self.__nombre = value\n",
    "    \n",
    "    def asignaPeso(self, value):\n",
    "        self.__peso = value\n",
    "    \n",
    "    def asignaRaza(self, value):\n",
    "        self.__raza = value\n",
    "        \n",
    "    # Metodos\n",
    "    def caminar(self):\n",
    "        return self.__nombre + \" camina\"\n",
    "    \n",
    "    def correr(self):\n",
    "        return self.__nombre + \" corre\"\n",
    "\n",
    "    def ladrar(self):\n",
    "        return \"Guau, guau, guau...\"\n",
    "    \n",
    "Boby = Perro(\"Boby\", 20, \"Pastor Aleman\")\n",
    "Rolf = Perro(\"Rolf\")"
   ]
  },
  {
   "cell_type": "markdown",
   "metadata": {},
   "source": [
    "Ahora veamos si podemos modificar las opciones de Rolf:"
   ]
  },
  {
   "cell_type": "code",
   "execution_count": 11,
   "metadata": {},
   "outputs": [
    {
     "name": "stdout",
     "output_type": "stream",
     "text": [
      "Chusco\n",
      "Siberiano\n",
      "40\n"
     ]
    }
   ],
   "source": [
    "print(Rolf.retornaRaza())\n",
    "\n",
    "Rolf.asignaRaza(\"Siberiano\")\n",
    "Rolf.asignaPeso(40)\n",
    "\n",
    "print(Rolf.retornaRaza())\n",
    "print(Rolf.retornaPeso())"
   ]
  },
  {
   "cell_type": "markdown",
   "metadata": {},
   "source": [
    "Esta forma de definir una clase es clasica de la OOP: los atributos se encuentran protegidos dentro de la clase ya que no pueden ser revisados a menos que sea a través de un getter ni modificados a menos que sea a través de un setter. A esto se le denomina *encapsulamiento*. Por ejemplo, podemos mejorar la clase protegiendo los atributos:"
   ]
  },
  {
   "cell_type": "code",
   "execution_count": 12,
   "metadata": {},
   "outputs": [],
   "source": [
    "class Perro():\n",
    "    def __init__(self, nombre = \"Pluto\", peso = 10, raza = \"Chusco\"):\n",
    "        self.__nombre = nombre\n",
    "        self.__peso = peso\n",
    "        self.__raza = raza\n",
    "    \n",
    "    # getters\n",
    "    def retornaNombre(self):\n",
    "        return self.__nombre\n",
    "    \n",
    "    def retornaPeso(self):\n",
    "        return self.__peso\n",
    "    \n",
    "    def retornaRaza(self):\n",
    "        return self.__raza\n",
    "    \n",
    "    # setters\n",
    "    def asignaNombre(self, value):\n",
    "        if isinstace(value, str):\n",
    "            self.__nombre = value\n",
    "        else:\n",
    "            raise ValueError(str(value) + \" no es un tipo de atributo valido. Debe ser un str\")\n",
    "    \n",
    "    def asignaPeso(self, value):\n",
    "        if isinstance(value, int):\n",
    "            if value <= 0:\n",
    "                raise ValueError (str(value) + \" no es un tipo de atributo valido. Debe ser int mayor que 0\")\n",
    "            else:\n",
    "                self.__peso = value\n",
    "        else:\n",
    "            raise ValueError(str(value) + \" no es un tipo de atributo valido. Debe ser un int\")\n",
    "    \n",
    "    def asignaRaza(self, value):\n",
    "        if isinstance(value, str):\n",
    "            self.__raza = value\n",
    "        else:\n",
    "            raise ValueError(str(value) + \" no es un tipo de atributo valido. Debe ser un str\")\n",
    "            \n",
    "    # Metodos\n",
    "    def caminar(self):\n",
    "        return self.__nombre + \" camina\"\n",
    "    \n",
    "    def correr(self):\n",
    "        return self.__nombre + \" corre\"\n",
    "\n",
    "    def ladrar(self):\n",
    "        return \"Guau, guau, guau...\"\n",
    "    \n",
    "Rolf = Perro(\"Rolf\")"
   ]
  },
  {
   "cell_type": "markdown",
   "metadata": {},
   "source": [
    "Ahora pruebe a crear diferentes perros con diferentes atributos:"
   ]
  },
  {
   "cell_type": "code",
   "execution_count": 13,
   "metadata": {},
   "outputs": [
    {
     "ename": "ValueError",
     "evalue": "-10 no es un tipo de atributo valido. Debe ser int mayor que 0",
     "output_type": "error",
     "traceback": [
      "\u001b[1;31m---------------------------------------------------------------------------\u001b[0m",
      "\u001b[1;31mValueError\u001b[0m                                Traceback (most recent call last)",
      "\u001b[1;32m<ipython-input-13-7c36cb911a75>\u001b[0m in \u001b[0;36m<module>\u001b[1;34m\u001b[0m\n\u001b[0;32m      1\u001b[0m \u001b[1;31m# Por ejemplo, un perro con -10 kg de peso\u001b[0m\u001b[1;33m\u001b[0m\u001b[1;33m\u001b[0m\u001b[1;33m\u001b[0m\u001b[0m\n\u001b[1;32m----> 2\u001b[1;33m \u001b[0mRolf\u001b[0m\u001b[1;33m.\u001b[0m\u001b[0masignaPeso\u001b[0m\u001b[1;33m(\u001b[0m\u001b[1;33m-\u001b[0m\u001b[1;36m10\u001b[0m\u001b[1;33m)\u001b[0m\u001b[1;33m\u001b[0m\u001b[1;33m\u001b[0m\u001b[0m\n\u001b[0m",
      "\u001b[1;32m<ipython-input-12-b0015f83c747>\u001b[0m in \u001b[0;36masignaPeso\u001b[1;34m(self, value)\u001b[0m\n\u001b[0;32m     25\u001b[0m         \u001b[1;32mif\u001b[0m \u001b[0misinstance\u001b[0m\u001b[1;33m(\u001b[0m\u001b[0mvalue\u001b[0m\u001b[1;33m,\u001b[0m \u001b[0mint\u001b[0m\u001b[1;33m)\u001b[0m\u001b[1;33m:\u001b[0m\u001b[1;33m\u001b[0m\u001b[1;33m\u001b[0m\u001b[0m\n\u001b[0;32m     26\u001b[0m             \u001b[1;32mif\u001b[0m \u001b[0mvalue\u001b[0m \u001b[1;33m<=\u001b[0m \u001b[1;36m0\u001b[0m\u001b[1;33m:\u001b[0m\u001b[1;33m\u001b[0m\u001b[1;33m\u001b[0m\u001b[0m\n\u001b[1;32m---> 27\u001b[1;33m                 \u001b[1;32mraise\u001b[0m \u001b[0mValueError\u001b[0m \u001b[1;33m(\u001b[0m\u001b[0mstr\u001b[0m\u001b[1;33m(\u001b[0m\u001b[0mvalue\u001b[0m\u001b[1;33m)\u001b[0m \u001b[1;33m+\u001b[0m \u001b[1;34m\" no es un tipo de atributo valido. Debe ser int mayor que 0\"\u001b[0m\u001b[1;33m)\u001b[0m\u001b[1;33m\u001b[0m\u001b[1;33m\u001b[0m\u001b[0m\n\u001b[0m\u001b[0;32m     28\u001b[0m             \u001b[1;32melse\u001b[0m\u001b[1;33m:\u001b[0m\u001b[1;33m\u001b[0m\u001b[1;33m\u001b[0m\u001b[0m\n\u001b[0;32m     29\u001b[0m                 \u001b[0mself\u001b[0m\u001b[1;33m.\u001b[0m\u001b[0m__peso\u001b[0m \u001b[1;33m=\u001b[0m \u001b[0mvalue\u001b[0m\u001b[1;33m\u001b[0m\u001b[1;33m\u001b[0m\u001b[0m\n",
      "\u001b[1;31mValueError\u001b[0m: -10 no es un tipo de atributo valido. Debe ser int mayor que 0"
     ]
    }
   ],
   "source": [
    "# Por ejemplo, un perro con -10 kg de peso\n",
    "Rolf.asignaPeso(-10)"
   ]
  },
  {
   "cell_type": "code",
   "execution_count": 17,
   "metadata": {},
   "outputs": [
    {
     "ename": "ValueError",
     "evalue": "0 no es un tipo de atributo valido. Debe ser un str",
     "output_type": "error",
     "traceback": [
      "\u001b[1;31m---------------------------------------------------------------------------\u001b[0m",
      "\u001b[1;31mValueError\u001b[0m                                Traceback (most recent call last)",
      "\u001b[1;32m<ipython-input-17-29c909ee6c45>\u001b[0m in \u001b[0;36m<module>\u001b[1;34m\u001b[0m\n\u001b[0;32m      1\u001b[0m \u001b[1;31m# O un perro cuya raza sea un valor numérico\u001b[0m\u001b[1;33m\u001b[0m\u001b[1;33m\u001b[0m\u001b[1;33m\u001b[0m\u001b[0m\n\u001b[1;32m----> 2\u001b[1;33m \u001b[0mRolf\u001b[0m\u001b[1;33m.\u001b[0m\u001b[0masignaRaza\u001b[0m\u001b[1;33m(\u001b[0m\u001b[1;36m0\u001b[0m\u001b[1;33m)\u001b[0m\u001b[1;33m\u001b[0m\u001b[1;33m\u001b[0m\u001b[0m\n\u001b[0m",
      "\u001b[1;32m<ipython-input-12-b0015f83c747>\u001b[0m in \u001b[0;36masignaRaza\u001b[1;34m(self, value)\u001b[0m\n\u001b[0;32m     35\u001b[0m             \u001b[0mself\u001b[0m\u001b[1;33m.\u001b[0m\u001b[0m__raza\u001b[0m \u001b[1;33m=\u001b[0m \u001b[0mvalue\u001b[0m\u001b[1;33m\u001b[0m\u001b[1;33m\u001b[0m\u001b[0m\n\u001b[0;32m     36\u001b[0m         \u001b[1;32melse\u001b[0m\u001b[1;33m:\u001b[0m\u001b[1;33m\u001b[0m\u001b[1;33m\u001b[0m\u001b[0m\n\u001b[1;32m---> 37\u001b[1;33m             \u001b[1;32mraise\u001b[0m \u001b[0mValueError\u001b[0m\u001b[1;33m(\u001b[0m\u001b[0mstr\u001b[0m\u001b[1;33m(\u001b[0m\u001b[0mvalue\u001b[0m\u001b[1;33m)\u001b[0m \u001b[1;33m+\u001b[0m \u001b[1;34m\" no es un tipo de atributo valido. Debe ser un str\"\u001b[0m\u001b[1;33m)\u001b[0m\u001b[1;33m\u001b[0m\u001b[1;33m\u001b[0m\u001b[0m\n\u001b[0m\u001b[0;32m     38\u001b[0m \u001b[1;33m\u001b[0m\u001b[0m\n\u001b[0;32m     39\u001b[0m     \u001b[1;31m# Metodos\u001b[0m\u001b[1;33m\u001b[0m\u001b[1;33m\u001b[0m\u001b[1;33m\u001b[0m\u001b[0m\n",
      "\u001b[1;31mValueError\u001b[0m: 0 no es un tipo de atributo valido. Debe ser un str"
     ]
    }
   ],
   "source": [
    "# O un perro cuya raza sea un valor numérico\n",
    "Rolf.asignaRaza(0)"
   ]
  },
  {
   "cell_type": "code",
   "execution_count": 18,
   "metadata": {},
   "outputs": [],
   "source": [
    "# Y responder correctamente a la asignación de atributos correctos\n",
    "Rolf.asignaPeso(40)\n",
    "Rolf.asignaRaza(\"Chiwawa\")"
   ]
  },
  {
   "cell_type": "markdown",
   "metadata": {},
   "source": [
    "Sin embargo, existe un problema: estas validaciones solo sirven en el momento de asignar los aributos por medio de los setters y no en el momento de instanciar un objeto:"
   ]
  },
  {
   "cell_type": "code",
   "execution_count": 19,
   "metadata": {},
   "outputs": [
    {
     "name": "stdout",
     "output_type": "stream",
     "text": [
      "10\n"
     ]
    }
   ],
   "source": [
    "Junior = Perro(\"Junior\", -5, 10)\n",
    "print(Junior.retornaRaza())\n",
    "\n",
    "#se tendría que aplicar el mismo algoritmo de validación en el método __init()__"
   ]
  },
  {
   "cell_type": "markdown",
   "metadata": {},
   "source": [
    "IMPORTANTE:\n",
    "\n",
    "En lenguajes de programación como C++ o Java, existe una distinción entre atributos púbicos y privados, donde estos últimos solo pueden tener valores a través de un setter. Sin embargo, la implementación de la OOP es Python es menos estricta y mas laxa.\n",
    "\n",
    "Hay una forma de aproximarse a la programación OOP en Python: la forma *pythonica* de la OOP. En esta todos los atributos son públicos pero con un control de asignación. Y no hay necesidad de getters ya que al ser los atributos publicos se puede acceder a ellos directamente de la forma *objeto.atributo*.\n",
    "\n",
    "Pero esto se verá en la siguiente parte."
   ]
  }
 ],
 "metadata": {
  "kernelspec": {
   "display_name": "Python 3",
   "language": "python",
   "name": "python3"
  },
  "language_info": {
   "codemirror_mode": {
    "name": "ipython",
    "version": 3
   },
   "file_extension": ".py",
   "mimetype": "text/x-python",
   "name": "python",
   "nbconvert_exporter": "python",
   "pygments_lexer": "ipython3",
   "version": "3.7.6"
  }
 },
 "nbformat": 4,
 "nbformat_minor": 2
}
