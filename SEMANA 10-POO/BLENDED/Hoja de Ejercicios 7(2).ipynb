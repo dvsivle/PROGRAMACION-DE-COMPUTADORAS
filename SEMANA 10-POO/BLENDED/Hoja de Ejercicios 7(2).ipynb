{
 "cells": [
  {
   "cell_type": "markdown",
   "metadata": {},
   "source": [
    "# Hoja de Ejercicios 7"
   ]
  },
  {
   "cell_type": "markdown",
   "metadata": {},
   "source": [
    "### Ejercicio 1\n",
    "Complete la definicion de una clase llamada Triangulo que guarde los atributos (base y altura) validados por el método decorador correspondiente, de un triangulo, e implemente un método que retorne el área del triángulo"
   ]
  },
  {
   "cell_type": "code",
   "execution_count": 36,
   "metadata": {},
   "outputs": [
    {
     "name": "stdout",
     "output_type": "stream",
     "text": [
      "Tiangulo de base: 5 y altura: 3\n",
      "7.5\n"
     ]
    }
   ],
   "source": [
    "class Triangulo(object):\n",
    "    def __init__(self, base, altura):\n",
    "        self.base = base\n",
    "        self.altura = altura\n",
    "        \n",
    "    @property\n",
    "    def base(self):\n",
    "        return self.__base\n",
    "    \n",
    "    @base.setter\n",
    "    def base(self,other):\n",
    "        if (isinstance(other, int) or isinstance(other, float)) :\n",
    "            self.__base = other\n",
    "        else:\n",
    "            raise ValueError(str(other) + \" no es un tipo de atributo valido. La base de ser numero > 0 \")\n",
    "    @property\n",
    "    def altura(self):\n",
    "        return self.__altura\n",
    "    \n",
    "    @altura.setter\n",
    "    def altura(self,other1):\n",
    "        if (isinstance(other1, int) or isinstance(other1, float)) :\n",
    "            self.__altura = other1\n",
    "        else:\n",
    "            raise ValueError(str(other1) + \" no es un tipo de atributo valido. la altura debe ser un numero >0\")\n",
    "    \n",
    "    \n",
    "    def area(self):\n",
    "        return abs(self.base*self.altura/2)\n",
    "    \n",
    "    def __str__(self):\n",
    "        return \"Tiangulo de base: {} y altura: {}\".format(self.base,self.altura)\n",
    "\n",
    "# Codigo de prueba de la clase    \n",
    "T = Triangulo (base = 5, altura = 3)\n",
    "print(T)\n",
    "print(T.area())"
   ]
  },
  {
   "cell_type": "markdown",
   "metadata": {},
   "source": [
    "### Ejercicio 2\n",
    "Complete la clase llamada Alumno que guarde los atributos(campos) de un alumno de su institución. Los atributos del alumno serían:\n",
    "\n",
    "- Nombres (por defecto en blanco)\n",
    "- Apellidos (por defecto en blanco)\n",
    "- Codigo (por defecto en blanco)\n",
    "- Modalidad de ingreso (por defecto \"Examen\")\n",
    "- Cursos Matriculados (por defecto 0)\n",
    "- Nota Curso 1 (por defecto 0)\n",
    "- Nota Curso 2 (por defecto 0)\n",
    "- Nota Curso 3 (por defecto 0)\n",
    "- Nota Curso 4 (por defecto 0)\n",
    "- Nota Curso 5 (por defecto 0)\n",
    "\n",
    "Se podría por lo tanto crear un alumno de la siguiente forma:\n",
    "\n",
    "    a1 = Alumno(\"Francisco\", \"Riado\", 201611090)   # Asumirá los demas atributos por defecto\n",
    "    \n",
    "Cree los siguientes métodos:\n",
    "\n",
    "- promedio(): Retornará el promedio del número de cursos cursados\n",
    "- estaAprobado(): Retornara True o False si esta aprobado en el ciclo\n",
    "\n",
    "El alumno aprobará el ciclo si de 5 cursos matriculados (por ejemplo), por lo menos ha aprobado en 4 (notas >= 12.5)"
   ]
  },
  {
   "cell_type": "code",
   "execution_count": 56,
   "metadata": {},
   "outputs": [
    {
     "name": "stdout",
     "output_type": "stream",
     "text": [
      "Objetos creados\n",
      "---------------\n",
      "Alumno[nombre=Renato, apellido=Sifuentes, codigo=201711069, modalidad=Examen, num_cur=4, n1=12, n2=15, n3=10, n4=11, n5=0]\n",
      "Alumno[nombre=Cecilia, apellido=Jimenez, codigo=201508111, modalidad=Examen, num_cur=5, n1=10, n2=12, n3=12, n4=13, n5=14.5]\n",
      "Alumno[nombre=Kim, apellido=Wong, codigo=201605010, modalidad=TercioSup, num_cur=5, n1=13, n2=14, n3=12, n4=14, n5=13]\n",
      "Alumno[nombre=Juan, apellido=Perez, codigo=201502160, modalidad=Nivelacion, num_cur=3, n1=10, n2=11, n3=13, n4=0, n5=0]\n",
      "Alumno[nombre=Sandra, apellido=Arana, codigo=201616020, modalidad=Beca, num_cur=4, n1=12, n2=15, n3=14, n4=13, n5=0]\n",
      "\n",
      "Resultados del ciclo\n",
      "--------------------\n",
      "Alumno: Sifuentes, Renato  Codigo: 201711069 Promedio: 12.00 Aprobado: N\n",
      "Alumno: Jimenez, Cecilia  Codigo: 201508111 Promedio: 12.30 Aprobado: S\n",
      "Alumno: Wong, Kim  Codigo: 201605010 Promedio: 13.20 Aprobado: S\n",
      "Alumno: Perez, Juan  Codigo: 201502160 Promedio: 11.33 Aprobado: N\n",
      "Alumno: Arana, Sandra  Codigo: 201616020 Promedio: 13.50 Aprobado: S\n"
     ]
    }
   ],
   "source": [
    "class Alumno(object):\n",
    "    def __init__(self, nombre=\"\", apellido=\"\", codigo=\"\", modalidad=\"Examen\", num_cur=0, n1=0, n2=0, n3=0, n4=0, n5=0):\n",
    "        self.nombre=nombre\n",
    "        self.apellido=apellido\n",
    "        self.codigo=codigo\n",
    "        self.modalidad=modalidad\n",
    "        self.num_cur=num_cur\n",
    "        self.n1=n1\n",
    "        self.n2=n2\n",
    "        self.n3=n3\n",
    "        self.n4=n4\n",
    "        self.n5=n5\n",
    "        \n",
    "    def promedio(self):\n",
    "        prom=[self.n1, self.n2, self.n3, self.n4, self.n5]\n",
    "        promedio=sum(prom)/self.num_cur\n",
    "        return promedio\n",
    " \n",
    "    def estaAprobado(self):\n",
    "        prom=[self.n1, self.n2, self.n3, self.n4, self.n5]\n",
    "        if self.num_cur>=5:\n",
    "            prom.sort()\n",
    "            prom.pop(0)\n",
    "            if sum(prom)/len(prom)>=12.5:\n",
    "                return True\n",
    "            else:\n",
    "                return False\n",
    "            \n",
    "        else:           \n",
    "            if self.promedio()>=12.5:\n",
    "                return True\n",
    "            else:\n",
    "                return False\n",
    "        \n",
    "    def __str__(self):\n",
    "        return \"Alumno[nombre={}, apellido={}, codigo={}, modalidad={}, num_cur={}, n1={}, n2={}, n3={}, n4={}, n5={}]\"\\\n",
    "    .format(self.nombre, self.apellido, self.codigo, self.modalidad, self.num_cur, self.n1, self.n2, self.n3, self.n4, self.n5)\n",
    "\n",
    "\n",
    "# Codigo de prueba\n",
    "a1 = Alumno(\"Renato\", \"Sifuentes\", 201711069, \"Examen\", 4, 12, 15, 10, 11)\n",
    "a2 = Alumno(\"Cecilia\", \"Jimenez\", 201508111, \"Examen\", 5, 10, 12, 12, 13, 14.5)\n",
    "a3 = Alumno(\"Kim\", \"Wong\", 201605010, \"TercioSup\", 5, 13, 14, 12, 14, 13)\n",
    "a4 = Alumno(\"Juan\", \"Perez\", 201502160, \"Nivelacion\", 3, 10, 11, 13)\n",
    "a5 = Alumno(\"Sandra\", \"Arana\", 201616020, \"Beca\", 4, 12, 15, 14, 13)\n",
    "\n",
    "print(\"Objetos creados\")\n",
    "print(\"---------------\")\n",
    "print(a1)\n",
    "print(a2)\n",
    "print(a3)\n",
    "print(a4)\n",
    "print(a5)\n",
    "print()\n",
    "\n",
    "lista_alumnos = [a1, a2, a3, a4, a5]\n",
    "\n",
    "print(\"Resultados del ciclo\")\n",
    "print(\"--------------------\")\n",
    "\n",
    "# Insertar un codigo que barra la lista_alumnos y retorne la siguiente impresion:\n",
    "# Alumno: <Apellido>, <Nombre>   Codigo: <codigo>  Promedio: XX.X   Aprobado: <S|N>\n",
    "\n",
    "for alum in lista_alumnos:\n",
    "    print(\"Alumno: {}, {}  Codigo: {} Promedio: {:.2f} Aprobado: \".format(alum.apellido, alum.nombre,\n",
    "                                                                        alum.codigo, alum.promedio()), end='')\n",
    "    if alum.estaAprobado():\n",
    "        print('S')\n",
    "    else:\n",
    "        print('N')\n",
    "    \n"
   ]
  },
  {
   "cell_type": "markdown",
   "metadata": {},
   "source": [
    "### Ejercicio 3\n",
    "Complete una clase nueva llamada Resistencia que permita definir un objeto resistivo de la forma:\n",
    "\n",
    "    r1 = Resistencia(1e3)      # Una resistencia de 1kOhm\n",
    "    \n",
    "Valide que el valor ohmico de la resistencia solo pueda ser un valor numérico (ya sea int o float).\n",
    "\n",
    "Considere ajustar la forma como un objeto de la clase Resistencia se comportará ante las operaciones. Si se suman dos resistencias en serie con +, estas se comportaran como la suma de dos valores numéricos. Sin embargo, podemos tomar prestado la operación \"división entera\" // para realizar la suma de dos resistencias en paralelo. De tal forma que se tendrá:\n",
    "\n",
    "    r2 = Resistencia(1e3)\n",
    "    \n",
    "    result = r1 + r2     # result sera igual a 2000\n",
    "    result = r1 // r2    # result sera igual a 500\n",
    "    \n",
    "La operación *p1 // p2* llama al método privado *p1.\\__floordiv\\__(p2)*. Por ejemplo, la suma *p1 + p2* esta definida como *p1.\\__add\\__(p2)* y se encuentra codificada para su referencia."
   ]
  },
  {
   "cell_type": "code",
   "execution_count": 6,
   "metadata": {},
   "outputs": [
    {
     "name": "stdout",
     "output_type": "stream",
     "text": [
      "1000.0\n",
      "\n",
      "La resistencia equivalente es: 1500.00 Ohms\n"
     ]
    }
   ],
   "source": [
    "class Resistencia (object):\n",
    "    # Inicializacion\n",
    "    def __init__(self, valor = 0):\n",
    "        self.valor=valor\n",
    "        \n",
    "    @property\n",
    "    # Completar el getter\n",
    "    def valor(self):\n",
    "        return self.__valor\n",
    "    \n",
    "    @valor.setter\n",
    "    # Completar el setter\n",
    "    def valor(self,other1):\n",
    "        if (isinstance(other1,int) or isinstance(other1,float))and other1>0:\n",
    "            self.__valor=other1\n",
    "        else:\n",
    "            raise ValueError(str(other1) + \" no es un tipo de atributo valido. \")\n",
    "    \n",
    "    def __add__(self, other):\n",
    "        return Resistencia(self.valor + other.valor)\n",
    "    \n",
    "    def __floordiv__(self, other):\n",
    "        \n",
    "        return Resistencia((self.valor * other.valor)/(self.valor+other.valor))\n",
    "    \n",
    "    def __str__(self):\n",
    "        return \"{}\".format(self.valor)\n",
    "\n",
    "# Prueba (tres resistencias de 1kOhm)\n",
    "r1 = Resistencia(1e3)\n",
    "r2 = Resistencia(1e3)\n",
    "r3 = Resistencia(1e3)\n",
    "\n",
    "result = r1 + (r2 // r3)\n",
    "print(r1)\n",
    "print()\n",
    "print(\"La resistencia equivalente es: {:.2f} Ohms\".format(result.valor))"
   ]
  },
  {
   "cell_type": "markdown",
   "metadata": {},
   "source": [
    "### Ejercicio 4\n",
    "Cree una clase Capacitor que utilice la clase anterior (Resistencia) como base (clase padre) pero sobrecarge las funciones de suma y division entera para que realice las operaciones de suma de capacitores en serie y capacitores en paralelo:\n",
    "\n",
    "    c1 + c2  = 1(1/c1 + 1/c2)\n",
    "    c1 // c2 = c1 + c2"
   ]
  },
  {
   "cell_type": "code",
   "execution_count": 13,
   "metadata": {},
   "outputs": [
    {
     "name": "stdout",
     "output_type": "stream",
     "text": [
      "90909.11310909092\n"
     ]
    }
   ],
   "source": [
    "# Cree la clase Capacitor\n",
    "class Capacitor(Resistencia):\n",
    "    def __init__(self, valor=0):\n",
    "        #Resistencia.__init__(self,valor)   --->tambine es valido\n",
    "        super().__init__(valor)\n",
    "        \n",
    "    def __add__(self, other):\n",
    "        return Capacitor(1.0/self.valor + 1.0/other.valor)\n",
    "    \n",
    "    def __floordiv__(self, other):\n",
    "        \n",
    "        return Capacitor((self.valor + other.valor))\n",
    "    \n",
    "    \n",
    "# Pueba\n",
    "c1 = Capacitor(22e-6)     # 22 uF\n",
    "c2 = Capacitor(22e-6)     # 22 uF\n",
    "c3 = Capacitor(22200e-6)   # 2200 uF\n",
    "\n",
    "result = (c1 + c2) // c3\n",
    "print(result.valor)"
   ]
  },
  {
   "cell_type": "code",
   "execution_count": null,
   "metadata": {},
   "outputs": [],
   "source": []
  }
 ],
 "metadata": {
  "kernelspec": {
   "display_name": "Python 3",
   "language": "python",
   "name": "python3"
  },
  "language_info": {
   "codemirror_mode": {
    "name": "ipython",
    "version": 3
   },
   "file_extension": ".py",
   "mimetype": "text/x-python",
   "name": "python",
   "nbconvert_exporter": "python",
   "pygments_lexer": "ipython3",
   "version": "3.7.6"
  }
 },
 "nbformat": 4,
 "nbformat_minor": 2
}
