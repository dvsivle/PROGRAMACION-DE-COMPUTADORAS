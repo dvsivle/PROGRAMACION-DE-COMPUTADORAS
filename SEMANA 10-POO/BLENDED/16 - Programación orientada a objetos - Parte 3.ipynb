{
 "cells": [
  {
   "cell_type": "markdown",
   "metadata": {},
   "source": [
    "# Programación orientada a objetos - Parte 3"
   ]
  },
  {
   "cell_type": "markdown",
   "metadata": {},
   "source": [
    "En la Parte 2 introducimos las ideas de la OOP en su forma clásica: clase, inicilización, atributos privados, metodos setters, metodos getters y otros métodos.\n",
    "\n",
    "Sin embargo, en Python la OOP tiene un enfoque menos restrictivo y mas laxo. Para empezar, todos los atributos son públicos. ¡Lo cual es una ventaja enorme cuando se trata de hacer que el código sea fácil de leer (y recuerde, en Python la simplicidad esta por encima de todo). Imaginemos que por alguna razón quiere sumar el peso de los dos perros que tiene, Boby y Rolf. Utilizando la definicion clásica de OOP sera necesario requerir a los setters para obtener los pesos, por lo que la operación para realizar este calculo será:\n",
    "\n",
    "    peso_perros = Boby.retornaPeso() + Rolf.retornaPeso()\n",
    "\n",
    "Ugh... No sería más natural hacerlo asi:\n",
    "\n",
    "    peso_perros = Boby.peso + Rolf.peso\n",
    "    \n",
    "Es decir, sumando los atributos en lugar de los resultados de unas funciones que retornan los atributos. Esto se logra porque los atributos en Python siempre son publicos.\n",
    "\n",
    "Entonces, simplifiquemos nuestra clase Perro:"
   ]
  },
  {
   "cell_type": "code",
   "execution_count": 1,
   "metadata": {},
   "outputs": [],
   "source": [
    "class Perro():\n",
    "    def __init__(self, nombre = \"Pluto\", peso = 10, raza = \"Chusco\"):\n",
    "        self.nombre = nombre\n",
    "        self.peso = peso\n",
    "        self.raza = raza\n",
    "    \n",
    "    # Metodos\n",
    "    def caminar(self):\n",
    "        return self.nombre + \" camina\"\n",
    "    \n",
    "    def correr(self):\n",
    "        return self.nombre + \" corre\"\n",
    "\n",
    "    def ladrar(self):\n",
    "        return \"Guau, guau, guau\"\n",
    "    \n",
    "Boby = Perro(\"Boby\", 40, \"Pastor Aleman\")\n",
    "Rolf = Perro(\"Rolf\", raza = \"Doberman\", peso = 20)   # Se puede utilizar el nombre de los atributos"
   ]
  },
  {
   "cell_type": "markdown",
   "metadata": {},
   "source": [
    "Ahora podemos acceder a los artibutos de los objetos directamente:"
   ]
  },
  {
   "cell_type": "code",
   "execution_count": 2,
   "metadata": {},
   "outputs": [
    {
     "name": "stdout",
     "output_type": "stream",
     "text": [
      "Mascota 1: Boby  Peso: 40\n",
      "Mascota 2: Rolf  Peso: 20\n",
      "Suma de los pesos: 60  kg\n"
     ]
    }
   ],
   "source": [
    "print(\"Mascota 1:\", Boby.nombre, \" Peso:\", Boby.peso)\n",
    "print(\"Mascota 2:\", Rolf.nombre, \" Peso:\", Rolf.peso)\n",
    "print(\"Suma de los pesos:\", Boby.peso + Rolf.peso, \" kg\")"
   ]
  },
  {
   "cell_type": "markdown",
   "metadata": {},
   "source": [
    "Ademas de hacer mas sencillas ciertas operaciones. Confeccionemos una lista de perros (una lista de objetos clase Perro):"
   ]
  },
  {
   "cell_type": "code",
   "execution_count": 3,
   "metadata": {},
   "outputs": [
    {
     "name": "stdout",
     "output_type": "stream",
     "text": [
      "[<__main__.Perro object at 0x0000025AB79D5F48>, <__main__.Perro object at 0x0000025AB79D5F88>, <__main__.Perro object at 0x0000025AB79D5FC8>, <__main__.Perro object at 0x0000025AB79DD0C8>]\n"
     ]
    }
   ],
   "source": [
    "lista_perros = []\n",
    "lista_perros.append(Perro(\"Boby\", 30, \"Pastor Aleman\"))\n",
    "lista_perros.append(Perro(\"Rolf\", 25, \"Doberman\"))\n",
    "lista_perros.append(Perro(\"Junior\", 10, \"Chow chow\"))\n",
    "lista_perros.append(Perro(\"Bolt\", 15, \"Beagle\"))\n",
    "# Se muestra que lista_perros es una lista de objetos clase Perro\n",
    "print(lista_perros)"
   ]
  },
  {
   "cell_type": "markdown",
   "metadata": {},
   "source": [
    "¿Cómo puedo saber que perros empiezan con la letra 'B'?"
   ]
  },
  {
   "cell_type": "code",
   "execution_count": 4,
   "metadata": {},
   "outputs": [
    {
     "name": "stdout",
     "output_type": "stream",
     "text": [
      "1 - Boby\n",
      "2 - Bolt\n"
     ]
    }
   ],
   "source": [
    "index = 1\n",
    "for perro in lista_perros:\n",
    "    if perro.nombre[0] == 'B':\n",
    "        print(index, \"-\", perro.nombre)\n",
    "        index += 1"
   ]
  },
  {
   "cell_type": "markdown",
   "metadata": {},
   "source": [
    "Utilizando los getters esto quedaría:\n",
    "\n",
    "    index = 1\n",
    "    for perro in lista_perros:\n",
    "        if perro.obtieneNombre[0] == 'B':\n",
    "            print(index, \"-\", perro.obtieneNombre())\n",
    "            index += 1\n",
    "\n",
    "Ugh..."
   ]
  },
  {
   "cell_type": "markdown",
   "metadata": {},
   "source": [
    "Yo no son necesarios los setters tampoco ya que al ser públicos los atributos, se puede acceder directamente a ellos:"
   ]
  },
  {
   "cell_type": "code",
   "execution_count": 5,
   "metadata": {},
   "outputs": [
    {
     "name": "stdout",
     "output_type": "stream",
     "text": [
      "Pastor Aleman\n",
      "Labrador\n"
     ]
    }
   ],
   "source": [
    "print(Boby.raza)\n",
    "Boby.raza = \"Labrador\"\n",
    "print(Boby.raza)"
   ]
  },
  {
   "cell_type": "markdown",
   "metadata": {},
   "source": [
    "Y esto nos regresa al problema de la razón de ser de los setters: validar que los atributos tengan valores correctos. Python tiene una solución elegante para esto: el \"decorador\" @property. El código puede ser confuso al principio pero hay que tener en cuenta la forma como funciona el método @property y la nomenclatura:\n",
    "\n",
    "- La palabra \"@property\" se coloca antes de crear un getter y éste tendra el mismo nombre que el atributo a proteger.\n",
    "- La palabra \"@atributo.setter\" se coloca antes de crear un setter con el nombre del atributo y se especifican las validaciones\n",
    "\n",
    "Modifiquemos la clase anterior y vamos a validar los datos:"
   ]
  },
  {
   "cell_type": "code",
   "execution_count": 6,
   "metadata": {},
   "outputs": [],
   "source": [
    "class Perro():\n",
    "    def __init__(self, nombre = \"Pluto\", peso = 10, raza = \"Chusco\"):\n",
    "        self.nombre = nombre\n",
    "        self.peso = peso\n",
    "        self.raza = raza\n",
    "\n",
    "    # El getter\n",
    "    @property\n",
    "    def nombre(self):\n",
    "        return self.__nombre\n",
    "    \n",
    "    #El setter\n",
    "    @nombre.setter\n",
    "    def nombre(self, value):\n",
    "        if isinstance(value, str):\n",
    "            self.__nombre = value\n",
    "        else:\n",
    "            raise ValueError(str(value) + \" no es un tipo de atributo valido. Debe ser un str\")\n",
    "           \n",
    "    # El getter\n",
    "    @property\n",
    "    def peso(self):\n",
    "        return self.__peso\n",
    "    \n",
    "    #El setter\n",
    "    @peso.setter\n",
    "    def peso(self, value):\n",
    "        if isinstance(value, int):\n",
    "            self.__peso = value\n",
    "        else:\n",
    "            raise ValueError(str(value) + \" no es un tipo de atributo valido. Debe ser un str\")\n",
    "    \n",
    "    # El getter\n",
    "    @property\n",
    "    def raza(self):\n",
    "        return self.__raza\n",
    "    \n",
    "    #El setter\n",
    "    @raza.setter\n",
    "    def raza(self, value):\n",
    "        if isinstance(value, str):\n",
    "            self.__raza = value\n",
    "        else:\n",
    "            raise ValueError(str(value) + \" no es un tipo de atributo valido. Debe ser un str\")\n",
    "       \n",
    "    # Metodos\n",
    "    def caminar(self):\n",
    "        return self.nombre + \" camina\"\n",
    "    \n",
    "    def correr(self):\n",
    "        return self.nombre + \" corre\"\n",
    "\n",
    "    def ladrar(self):\n",
    "        return \"Guau, guau, guau\""
   ]
  },
  {
   "cell_type": "markdown",
   "metadata": {},
   "source": [
    "Ahora probemos (tanto al momento de instanciar un objeto nuevo como al momento de modificar un atributo):"
   ]
  },
  {
   "cell_type": "code",
   "execution_count": 7,
   "metadata": {},
   "outputs": [
    {
     "ename": "ValueError",
     "evalue": "10 no es un tipo de atributo valido. Debe ser un str",
     "output_type": "error",
     "traceback": [
      "\u001b[1;31m---------------------------------------------------------------------------\u001b[0m",
      "\u001b[1;31mValueError\u001b[0m                                Traceback (most recent call last)",
      "\u001b[1;32m<ipython-input-7-bdd2991ce747>\u001b[0m in \u001b[0;36m<module>\u001b[1;34m\u001b[0m\n\u001b[1;32m----> 1\u001b[1;33m \u001b[0mJunior\u001b[0m \u001b[1;33m=\u001b[0m \u001b[0mPerro\u001b[0m\u001b[1;33m(\u001b[0m\u001b[1;34m\"Junior\"\u001b[0m\u001b[1;33m,\u001b[0m \u001b[1;36m30\u001b[0m\u001b[1;33m,\u001b[0m \u001b[1;36m10\u001b[0m\u001b[1;33m)\u001b[0m     \u001b[1;31m# La raza no es correcta\u001b[0m\u001b[1;33m\u001b[0m\u001b[1;33m\u001b[0m\u001b[0m\n\u001b[0m",
      "\u001b[1;32m<ipython-input-6-a5345c527a83>\u001b[0m in \u001b[0;36m__init__\u001b[1;34m(self, nombre, peso, raza)\u001b[0m\n\u001b[0;32m      3\u001b[0m         \u001b[0mself\u001b[0m\u001b[1;33m.\u001b[0m\u001b[0mnombre\u001b[0m \u001b[1;33m=\u001b[0m \u001b[0mnombre\u001b[0m\u001b[1;33m\u001b[0m\u001b[1;33m\u001b[0m\u001b[0m\n\u001b[0;32m      4\u001b[0m         \u001b[0mself\u001b[0m\u001b[1;33m.\u001b[0m\u001b[0mpeso\u001b[0m \u001b[1;33m=\u001b[0m \u001b[0mpeso\u001b[0m\u001b[1;33m\u001b[0m\u001b[1;33m\u001b[0m\u001b[0m\n\u001b[1;32m----> 5\u001b[1;33m         \u001b[0mself\u001b[0m\u001b[1;33m.\u001b[0m\u001b[0mraza\u001b[0m \u001b[1;33m=\u001b[0m \u001b[0mraza\u001b[0m\u001b[1;33m\u001b[0m\u001b[1;33m\u001b[0m\u001b[0m\n\u001b[0m\u001b[0;32m      6\u001b[0m \u001b[1;33m\u001b[0m\u001b[0m\n\u001b[0;32m      7\u001b[0m     \u001b[1;31m# El getter\u001b[0m\u001b[1;33m\u001b[0m\u001b[1;33m\u001b[0m\u001b[1;33m\u001b[0m\u001b[0m\n",
      "\u001b[1;32m<ipython-input-6-a5345c527a83>\u001b[0m in \u001b[0;36mraza\u001b[1;34m(self, value)\u001b[0m\n\u001b[0;32m     42\u001b[0m             \u001b[0mself\u001b[0m\u001b[1;33m.\u001b[0m\u001b[0m__raza\u001b[0m \u001b[1;33m=\u001b[0m \u001b[0mvalue\u001b[0m\u001b[1;33m\u001b[0m\u001b[1;33m\u001b[0m\u001b[0m\n\u001b[0;32m     43\u001b[0m         \u001b[1;32melse\u001b[0m\u001b[1;33m:\u001b[0m\u001b[1;33m\u001b[0m\u001b[1;33m\u001b[0m\u001b[0m\n\u001b[1;32m---> 44\u001b[1;33m             \u001b[1;32mraise\u001b[0m \u001b[0mValueError\u001b[0m\u001b[1;33m(\u001b[0m\u001b[0mstr\u001b[0m\u001b[1;33m(\u001b[0m\u001b[0mvalue\u001b[0m\u001b[1;33m)\u001b[0m \u001b[1;33m+\u001b[0m \u001b[1;34m\" no es un tipo de atributo valido. Debe ser un str\"\u001b[0m\u001b[1;33m)\u001b[0m\u001b[1;33m\u001b[0m\u001b[1;33m\u001b[0m\u001b[0m\n\u001b[0m\u001b[0;32m     45\u001b[0m \u001b[1;33m\u001b[0m\u001b[0m\n\u001b[0;32m     46\u001b[0m     \u001b[1;31m# Metodos\u001b[0m\u001b[1;33m\u001b[0m\u001b[1;33m\u001b[0m\u001b[1;33m\u001b[0m\u001b[0m\n",
      "\u001b[1;31mValueError\u001b[0m: 10 no es un tipo de atributo valido. Debe ser un str"
     ]
    }
   ],
   "source": [
    "Junior = Perro(\"Junior\", 30, 10)     # La raza no es correcta"
   ]
  },
  {
   "cell_type": "code",
   "execution_count": 8,
   "metadata": {},
   "outputs": [
    {
     "ename": "ValueError",
     "evalue": "10 no es un tipo de atributo valido. Debe ser un str",
     "output_type": "error",
     "traceback": [
      "\u001b[1;31m---------------------------------------------------------------------------\u001b[0m",
      "\u001b[1;31mValueError\u001b[0m                                Traceback (most recent call last)",
      "\u001b[1;32m<ipython-input-8-361d7b51c2f6>\u001b[0m in \u001b[0;36m<module>\u001b[1;34m\u001b[0m\n\u001b[0;32m      1\u001b[0m \u001b[0mJunior\u001b[0m \u001b[1;33m=\u001b[0m \u001b[0mPerro\u001b[0m\u001b[1;33m(\u001b[0m\u001b[1;34m\"Junior\"\u001b[0m\u001b[1;33m,\u001b[0m \u001b[1;36m30\u001b[0m\u001b[1;33m)\u001b[0m      \u001b[1;31m# Se define un peso inicial de 30 kg\u001b[0m\u001b[1;33m\u001b[0m\u001b[1;33m\u001b[0m\u001b[0m\n\u001b[1;32m----> 2\u001b[1;33m \u001b[0mJunior\u001b[0m\u001b[1;33m.\u001b[0m\u001b[0mpeso\u001b[0m \u001b[1;33m=\u001b[0m \u001b[1;34m'10'\u001b[0m                \u001b[1;31m# El peso debe ser un int y no un str\u001b[0m\u001b[1;33m\u001b[0m\u001b[1;33m\u001b[0m\u001b[0m\n\u001b[0m",
      "\u001b[1;32m<ipython-input-6-a5345c527a83>\u001b[0m in \u001b[0;36mpeso\u001b[1;34m(self, value)\u001b[0m\n\u001b[0;32m     29\u001b[0m             \u001b[0mself\u001b[0m\u001b[1;33m.\u001b[0m\u001b[0m__peso\u001b[0m \u001b[1;33m=\u001b[0m \u001b[0mvalue\u001b[0m\u001b[1;33m\u001b[0m\u001b[1;33m\u001b[0m\u001b[0m\n\u001b[0;32m     30\u001b[0m         \u001b[1;32melse\u001b[0m\u001b[1;33m:\u001b[0m\u001b[1;33m\u001b[0m\u001b[1;33m\u001b[0m\u001b[0m\n\u001b[1;32m---> 31\u001b[1;33m             \u001b[1;32mraise\u001b[0m \u001b[0mValueError\u001b[0m\u001b[1;33m(\u001b[0m\u001b[0mstr\u001b[0m\u001b[1;33m(\u001b[0m\u001b[0mvalue\u001b[0m\u001b[1;33m)\u001b[0m \u001b[1;33m+\u001b[0m \u001b[1;34m\" no es un tipo de atributo valido. Debe ser un str\"\u001b[0m\u001b[1;33m)\u001b[0m\u001b[1;33m\u001b[0m\u001b[1;33m\u001b[0m\u001b[0m\n\u001b[0m\u001b[0;32m     32\u001b[0m \u001b[1;33m\u001b[0m\u001b[0m\n\u001b[0;32m     33\u001b[0m     \u001b[1;31m# El getter\u001b[0m\u001b[1;33m\u001b[0m\u001b[1;33m\u001b[0m\u001b[1;33m\u001b[0m\u001b[0m\n",
      "\u001b[1;31mValueError\u001b[0m: 10 no es un tipo de atributo valido. Debe ser un str"
     ]
    }
   ],
   "source": [
    "Junior = Perro(\"Junior\", 30)      # Se define un peso inicial de 30 kg\n",
    "Junior.peso = '10'                # El peso debe ser un int y no un str"
   ]
  },
  {
   "cell_type": "markdown",
   "metadata": {},
   "source": [
    "¿Como funciona @property? Veamos el caso del atributo nombre:\n",
    "    \n",
    "    class Perro():\n",
    "    def __init__(self, nombre = \"Pluto\", peso = 10, raza = \"Chusco\"):\n",
    "        self.nombre = nombre\n",
    "        self.peso = peso\n",
    "        self.raza = raza\n",
    "\n",
    "    # El getter\n",
    "    @property\n",
    "    def nombre(self):\n",
    "        return self._nombre\n",
    "    \n",
    "    #El setter\n",
    "    @nombre.setter\n",
    "    def nombre(self, value):\n",
    "        if isinstance(value, str):\n",
    "            self._nombre = value\n",
    "        else:\n",
    "            raise ValueError(str(value) + \" no es un tipo de atributo valido. Debe ser un str\")\n",
    "            \n",
    "Cuando se instancia el objeto de la forma Junior = Perro(\"Junior\"), se llama al metodo \"\\__init\\__\" donde se ejecuta la instrucción self.nombre = nombre. Esto debería de cargar en el atributo self.nombre el valor \"Junior\"; sin embargo, *nombre* además de ser un atributo, también es un método. Entonces cuando se inicializa el valor de nombre, se llama al método *def nombre(self, value)* debajo de @nombre.setter. Esto, luego de validar el dato, lo asigna a self._nombre. Note el caracter \"_\" antes de nombre: es una variable diferente a la que se asigna en \"\\__init\\__\".\n",
    "\n",
    "Es la misma variable que se consulta cuando se llama al atributo de la forma Junior.nombre, ya que en este caso se llama a la función *def nombre(self)* debajo de @property, que retorna el valor de self._nombre.\n",
    "\n",
    "Por lo tanto, el atributo *.nombre* es su descripción desde fuera de la clase y el atributo *.\\_nombre* es su descripcion dentro de la clase. Por lo tanto se tienen los getters y setters originales en una construcción más sencilla, manteniendo los atributos publicos para mantener un código más legible."
   ]
  },
  {
   "cell_type": "markdown",
   "metadata": {},
   "source": [
    "**Esta es la forma de hacer un clase en Python. The Python Way!**"
   ]
  }
 ],
 "metadata": {
  "kernelspec": {
   "display_name": "Python 3",
   "language": "python",
   "name": "python3"
  },
  "language_info": {
   "codemirror_mode": {
    "name": "ipython",
    "version": 3
   },
   "file_extension": ".py",
   "mimetype": "text/x-python",
   "name": "python",
   "nbconvert_exporter": "python",
   "pygments_lexer": "ipython3",
   "version": "3.7.6"
  }
 },
 "nbformat": 4,
 "nbformat_minor": 2
}
