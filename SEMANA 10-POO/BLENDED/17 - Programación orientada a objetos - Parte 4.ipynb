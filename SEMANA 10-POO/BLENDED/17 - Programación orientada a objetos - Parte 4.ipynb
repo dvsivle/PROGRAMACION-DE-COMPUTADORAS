{
 "cells": [
  {
   "cell_type": "markdown",
   "metadata": {},
   "source": [
    "# Programación orientada a objetos - Parte 4"
   ]
  },
  {
   "cell_type": "markdown",
   "metadata": {},
   "source": [
    "Existen algunos detalles adicionales a considerar cuando se trata de objetos y clases. Retomemos la clase Perro, pero esta vez agregemos la palabra *object* como parámetro en la definición de la clase:"
   ]
  },
  {
   "cell_type": "code",
   "execution_count": 3,
   "metadata": {},
   "outputs": [
    {
     "name": "stdout",
     "output_type": "stream",
     "text": [
      "<__main__.Perro object at 0x000002C273BEB898>\n"
     ]
    }
   ],
   "source": [
    "class Perro(object):\n",
    "    def __init__(self, nombre = \"Pluto\", peso = 10, raza = \"Chusco\"):\n",
    "        self.nombre = nombre\n",
    "        self.peso = peso\n",
    "        self.raza = raza\n",
    "\n",
    "    # El getter\n",
    "    @property\n",
    "    def nombre(self):\n",
    "        return self._nombre\n",
    "    \n",
    "    #El setter\n",
    "    @nombre.setter\n",
    "    def nombre(self, value):\n",
    "        if isinstance(value, str):\n",
    "            self._nombre = value\n",
    "        else:\n",
    "            raise ValueError(str(value) + \" no es un tipo de atributo valido. Debe ser un str\")\n",
    "           \n",
    "    # El getter\n",
    "    @property\n",
    "    def peso(self):\n",
    "        return self._peso\n",
    "    \n",
    "    #El setter\n",
    "    @peso.setter\n",
    "    def peso(self, value):\n",
    "        if isinstance(value, int):\n",
    "            self._peso = value\n",
    "        else:\n",
    "            raise ValueError(str(value) + \" no es un tipo de atributo valido. Debe ser un str\")\n",
    "    \n",
    "    # El getter\n",
    "    @property\n",
    "    def raza(self):\n",
    "        return self._raza\n",
    "    \n",
    "    #El setter\n",
    "    @raza.setter\n",
    "    def raza(self, value):\n",
    "        if isinstance(value, str):\n",
    "            self._raza = value\n",
    "        else:\n",
    "            raise ValueError(str(value) + \" no es un tipo de atributo valido. Debe ser un str\")\n",
    "    \n",
    "    \n",
    "    # Metodos\n",
    "    def caminar(self):\n",
    "        return self.nombre + \" camina\"\n",
    "    \n",
    "    def correr(self):\n",
    "        return self.nombre + \" corre\"\n",
    "\n",
    "    def ladrar(self):\n",
    "        return \"Guau, guau, guau...\"\n",
    "    \n",
    "Pluto = Perro()    # Objeto con los atributos por defecto\n",
    "print(Pluto)"
   ]
  },
  {
   "cell_type": "markdown",
   "metadata": {},
   "source": [
    "Cuando se imprime el objeto, lo que se tiene es una descripcion que indica que existe un objeto en una dirección de memoria. Cuando se invoca la función *print* sobre un objeto realiza lo que este definido dentro de un método *privado* llamado \"\\__str\\__\". Este método es *heredado* de una clase *padre*. Esta clase se llama *object*. En la línea:\n",
    "\n",
    "    class Perro(object):\n",
    "    \n",
    "Lo que sucede es que se crea un objeto utilizando la clase *object* como plantilla base. Esto es lo que se llama \"nuevo-estilo\" de creación de clases en Python. Si no se declara en la forma class Perro() por defecto se asume que se utilizara *object* como clase de referencia. *object* es la raiz de todas las clases. Es un poco confuso: una busqueda en Internet de porque colocar *object* arrojará diferentes respuestas... Hay que recordar que entre el Zen de Python (import this), explicito es mejor que implicito, y por lo tanto es preferible explicitar *object* que asumir que este valor se cargara.\n",
    "\n",
    "Lo importante a recordar es que hay ciertos métodos *privados* como \\__init\\__. No se puede llamar a este método desde fuera de la clase. Cuando se ejecuta la instrucción:\n",
    "\n",
    "    Pluto = Perro()\n",
    "    \n",
    "se esta llamando al método \\__init\\__. Así tambien, cuando se ejecuta la instrucción:\n",
    "\n",
    "    print(Pluto)\n",
    "    \n",
    "se esta llamando al método \\__str\\__ (realmente se esta ejecutando la instruccion *Pluto.\\__str\\__()*). ¿De donde apareció este método ya que no esta definido dentro de la clase? Fue *heredado* de la clase *object* donde si esta definido. Todas las clases utilizan a *object* como base para su definición por lo que todos los objetos responden algo ante la función print. Por ejemplo:"
   ]
  },
  {
   "cell_type": "code",
   "execution_count": 4,
   "metadata": {},
   "outputs": [
    {
     "name": "stdout",
     "output_type": "stream",
     "text": [
      "<map object at 0x000002C273BEBFD0>\n"
     ]
    }
   ],
   "source": [
    "mapa = map(lambda x: x*2, [1, 2, 3, 4])\n",
    "print(mapa)"
   ]
  },
  {
   "cell_type": "markdown",
   "metadata": {},
   "source": [
    "Un mapa también es un objeto y responde algo muy parecido al objeto Perro. En cambio:"
   ]
  },
  {
   "cell_type": "code",
   "execution_count": 5,
   "metadata": {},
   "outputs": [
    {
     "name": "stdout",
     "output_type": "stream",
     "text": [
      "[1, 2, 3, 4]\n"
     ]
    }
   ],
   "source": [
    "lista = [1, 2, 3, 4]\n",
    "print(lista)"
   ]
  },
  {
   "cell_type": "markdown",
   "metadata": {},
   "source": [
    "El objeto lista responde con los elementos de la lista. Dentro de la definición de ambas clases existe el método privado \\__str\\__, pero este realiza acciones diferentes. A esto se le llama *sobrecarga*; es decir, cuando un método retorna resultados diferentes en función del atributo de entrada (en este caso, según la clase a la corresponda un objeto). Podemos cambiar nuestra clase para que tenga una respuesta especial ante la impresion:"
   ]
  },
  {
   "cell_type": "code",
   "execution_count": 7,
   "metadata": {},
   "outputs": [
    {
     "name": "stdout",
     "output_type": "stream",
     "text": [
      "Perro[nombre=Pluto, peso=10, raza=Chusco]\n"
     ]
    }
   ],
   "source": [
    "class Perro(object):\n",
    "    def __init__(self, nombre = \"Pluto\", peso = 10, raza = \"Chusco\"):\n",
    "        self.nombre = nombre\n",
    "        self.peso = peso\n",
    "        self.raza = raza\n",
    "\n",
    "    # El getter\n",
    "    @property\n",
    "    def nombre(self):\n",
    "        return self._nombre\n",
    "    \n",
    "    #El setter\n",
    "    @nombre.setter\n",
    "    def nombre(self, value):\n",
    "        if isinstance(value, str):\n",
    "            self._nombre = value\n",
    "        else:\n",
    "            raise ValueError(str(value) + \" no es un tipo de atributo valido. Debe ser un str\")\n",
    "           \n",
    "    # El getter\n",
    "    @property\n",
    "    def peso(self):\n",
    "        return self._peso\n",
    "    \n",
    "    #El setter\n",
    "    @peso.setter\n",
    "    def peso(self, value):\n",
    "        if isinstance(value, int):\n",
    "            self._peso = value\n",
    "        else:\n",
    "            raise ValueError(str(value) + \" no es un tipo de atributo valido. Debe ser un str\")\n",
    "    \n",
    "    # El getter\n",
    "    @property\n",
    "    def raza(self):\n",
    "        return self._raza\n",
    "    \n",
    "    #El setter\n",
    "    @raza.setter\n",
    "    def raza(self, value):\n",
    "        if isinstance(value, str):\n",
    "            self._raza = value\n",
    "        else:\n",
    "            raise ValueError(str(value) + \" no es un tipo de atributo valido. Debe ser un str\")\n",
    "    \n",
    "    \n",
    "    # Metodos\n",
    "    def caminar(self):\n",
    "        return self.nombre + \" camina\"\n",
    "    \n",
    "    def correr(self):\n",
    "        return self.nombre + \" corre\"\n",
    "\n",
    "    def ladrar(self):\n",
    "        return \"Guau, guau, guau...\"\n",
    "    \n",
    "    \n",
    "    # Metodo privado de impresion\n",
    "    def __str__(self):\n",
    "        return \"Perro[nombre={}, peso={}, raza={}]\".format(self.nombre, self.peso, self.raza)\n",
    "\n",
    "    \n",
    "Pluto = Perro()    # Objeto con los atributos por defecto\n",
    "print(Pluto)"
   ]
  },
  {
   "cell_type": "markdown",
   "metadata": {},
   "source": [
    "Ahora se tiene una impresión más informativa."
   ]
  },
  {
   "cell_type": "markdown",
   "metadata": {},
   "source": [
    "Todas las clases en Python utilizan la clase *object* como referencia (es bastante desafortunado que la clase raíz se llame object, confundiendo las nociones de clase y objeto). Por lo tanto todas las clases en Python son hijas de la clase padre *object* y por lo tanto heredan los atributos y métodos de *object*. Se puede crear una clase que herede los atributos y metodos de otra clase (ademas de *object* que siempre es la clase padre así no se especifique). Por ejemplo, si se quiere crear una clase para especificar gatos:\n",
    "\n",
    "    class Gato():\n",
    "    \n",
    "No tiene mucho sentido volver a definir toda la clase nuevamente; se puede utilizar la clase Perro como referencia:"
   ]
  },
  {
   "cell_type": "code",
   "execution_count": 12,
   "metadata": {
    "collapsed": true
   },
   "outputs": [],
   "source": [
    "class Gato(Perro):\n",
    "    def __init__(self, nombre, peso, raza, vidas = 7):\n",
    "        super().__init__(nombre, peso, raza)\n",
    "        self.vidas = vidas"
   ]
  },
  {
   "cell_type": "markdown",
   "metadata": {},
   "source": [
    "En este caso se ha creado la clase Gato utilizando como referencia la clase Perro. La clase Gato tiene un atributo adicional (vidas) que se asigna de la misma como se ha visto anteriormente, pero los atributos anteriores se asignan utilizando la clase Pero (con la instrucción *super().__init__(atributos)*)."
   ]
  },
  {
   "cell_type": "code",
   "execution_count": 13,
   "metadata": {},
   "outputs": [
    {
     "name": "stdout",
     "output_type": "stream",
     "text": [
      "Perro[nombre=Silvestre, peso=6, raza=Siames]\n"
     ]
    }
   ],
   "source": [
    "Michi = Gato(\"Silvestre\", 6, \"Siames\", 7)\n",
    "print(Michi)"
   ]
  },
  {
   "cell_type": "markdown",
   "metadata": {},
   "source": [
    "Como se puede observar, la impresión del objeto Michi devolvio una respuesta igual a la impresión del objeto Pluto porque la clase Gato heredo el método \\__str\\__ de la clase Perro. Sin embargo, el atributo *vidas* no se muestra en la impresión, por lo que podemos sobrecargarlo:"
   ]
  },
  {
   "cell_type": "code",
   "execution_count": 14,
   "metadata": {},
   "outputs": [
    {
     "name": "stdout",
     "output_type": "stream",
     "text": [
      "Perro[nombre=Silvestre, peso=6, raza=Siames, vidas=7]\n"
     ]
    }
   ],
   "source": [
    "class Gato(Perro):\n",
    "    def __init__(self, nombre, peso, raza, vidas = 7):\n",
    "        super().__init__(nombre, peso, raza)\n",
    "        self.vidas = vidas\n",
    "        \n",
    "    def __str__(self):\n",
    "        return \"Perro[nombre={}, peso={}, raza={}, vidas={}]\".format(self.nombre, self.peso, self.raza, self.vidas)\n",
    "\n",
    "\n",
    "Michi = Gato(\"Silvestre\", 6, \"Siames\", 7)\n",
    "print(Michi)"
   ]
  },
  {
   "cell_type": "markdown",
   "metadata": {},
   "source": [
    "Y ademas ha heredado los metodos de Perro:"
   ]
  },
  {
   "cell_type": "code",
   "execution_count": 15,
   "metadata": {},
   "outputs": [
    {
     "name": "stdout",
     "output_type": "stream",
     "text": [
      "Silvestre camina\n",
      "Silvestre corre\n"
     ]
    }
   ],
   "source": [
    "print(Michi.caminar())\n",
    "print(Michi.correr())"
   ]
  },
  {
   "cell_type": "markdown",
   "metadata": {},
   "source": [
    "Esto ahorra mucho código y es una de las principales ventajas de la OOP... aunque hay que tener muy claro como se van a relacionar las clases ya que se puede sobrecargar un método pero no se puede evitar que un método de una clase padre sea heredada por una clase hija."
   ]
  },
  {
   "cell_type": "code",
   "execution_count": 17,
   "metadata": {},
   "outputs": [
    {
     "name": "stdout",
     "output_type": "stream",
     "text": [
      "Guau, guau, guau\n"
     ]
    }
   ],
   "source": [
    "print(Michi.ladrar())"
   ]
  },
  {
   "cell_type": "markdown",
   "metadata": {},
   "source": [
    "Ugh... Esto es el resultado de un muy mal diseño de clases y no hay manera de corregirlo (se puede sobrecargar el método pero este no dejará de llamarse \"ladrar\"). La OOP tiene que ver más con el diseño que con la codificación.\n",
    "\n",
    "La OOP es un tema muy amplio, extenso y complejo (con terminos cada vez más extraños como herencias multiples, polimorfismo, etc.). Sin embargo, lo expuesto hasta ahora es suficiente como para volverlo competente en el tema. Cuando se enfrente a un problema de programación que involucre objetos reales piense en la OOP y tal vez pueda resolver el problema de una forma más sencilla."
   ]
  }
 ],
 "metadata": {
  "kernelspec": {
   "display_name": "Python 3",
   "language": "python",
   "name": "python3"
  },
  "language_info": {
   "codemirror_mode": {
    "name": "ipython",
    "version": 3
   },
   "file_extension": ".py",
   "mimetype": "text/x-python",
   "name": "python",
   "nbconvert_exporter": "python",
   "pygments_lexer": "ipython3",
   "version": "3.7.6"
  }
 },
 "nbformat": 4,
 "nbformat_minor": 2
}
