{
 "cells": [
  {
   "cell_type": "code",
   "execution_count": 12,
   "metadata": {},
   "outputs": [],
   "source": [
    "# Pregunta 2\n",
    "\n",
    "import os\n",
    "\n",
    "archivoR=open('paises.txt',mode='r',encoding='utf-8')\n",
    "lineas=archivoR.readlines()\n",
    "archivoR.close()\n",
    "\n",
    "with open('reporte.txt',mode='w',encoding='utf-8') as escritura:\n",
    "    \n",
    "    c_inf=len(lineas[1].split())  #los '===' determinan la cantidad de columnas informativas\n",
    "    paises=[]  #listas vacias para almacenar los paises\n",
    "    fecha=[]  #lista vacia para lamacenar la fecha de independencia\n",
    "    for num,cadena in enumerate(lineas):\n",
    "        escritura.write(cadena)\n",
    "        linea=cadena.split()\n",
    "        if num>=2: #los cursos se empiezan a contar despues de \"===\"\n",
    "            paises.append(linea[0])\n",
    "            fecha.append(linea[-1])\n",
    "\n",
    "    escritura.write((\"\\n\\ncantidad de países: {}\\n\".format(len(paises))))   #PAIS??? \n",
    "    escritura.write(\"cantidad de columnas informativas: {}\\n\".format(c_inf))\n",
    "    escritura.write(\"\\nPaíses que lograron su independencia en el mes de julio:\\n\")\n",
    "    \n",
    "    \n",
    "    \n",
    "    for pais,independencia in zip(paises,fecha):\n",
    "        dia_idep=independencia.split('/')  # ['28','07','1821']\n",
    "        if dia_idep[1]=='07':              # mes julio=07 \n",
    "            escritura.write(\"{} \\n\".format(pais))\n",
    "\n",
    "\n",
    "#CORRECCION:\n",
    "#Abrir archivo y leer sus líneas : 1/1 pto.\n",
    "#Escribir tabla completa en archivo de salida: 1.25/1.25 ptos.\n",
    "#Calcular y escribir en el archivo de salida la cantidad de paises presentes: 1.25/1.5 ptos.\n",
    "#Calcular y escribir en el archivo de salida la cantidad de columnas: 1.75/1.75 ptos.\n",
    "#Determinar y escribir en el archivo de salida el nombre de paises seleccionados: 1.5/1.5 ptos.   \n",
    "\n",
    "#Total:  6.75/7 ptos."
   ]
  },
  {
   "cell_type": "code",
   "execution_count": 6,
   "metadata": {},
   "outputs": [
    {
     "name": "stdout",
     "output_type": "stream",
     "text": [
      "pais         PBI(millones)    población       IDH      Moneda             Fecha de independencia\n",
      "====         ============     =========       ===      ======             ======================\n",
      "Perú            457964        33050325       0.759      Sol                    28/07/1821\n",
      "Chile           475320        19107216       0.847      Peso Chileno           12/02/1818\n",
      "Argentina       864887        44938712       0.830      Peso Argentino         09/07/1816\n",
      "Brasil          3316920       210147125      0.761      Real                   07/09/1822\n",
      "Colombia        771957        48258494       0.761      Peso Colombiano        20/07/1810\n",
      "Ecuador         192056        17283338       0.758      Dólar                  24/05/1822\n",
      "Bolivia         91225         11469896       0.703      Peso Boliviano         06/08/1825\n"
     ]
    }
   ],
   "source": [
    "#OPCIONAL\n",
    "#lectura de los textos modificados\n",
    "\n",
    "paises=open('paises.txt',mode='r',encoding='utf-8')\n",
    "print(paises.read())\n",
    "paises.close()"
   ]
  },
  {
   "cell_type": "code",
   "execution_count": null,
   "metadata": {},
   "outputs": [],
   "source": []
  },
  {
   "cell_type": "code",
   "execution_count": 57,
   "metadata": {},
   "outputs": [
    {
     "name": "stdout",
     "output_type": "stream",
     "text": [
      "pais         PBI(millones)    población       IDH      Moneda             Fecha de independencia\n",
      "====         ============     =========       ===      ======             ======================\n",
      "Perú            457964        33050325       0.759      Sol                    28/07/1821\n",
      "Chile           475320        19107216       0.847      Peso Chileno           12/02/1818\n",
      "Argentina       864887        44938712       0.830      Peso Argentino         09/07/1816\n",
      "Brasil          3316920       210147125      0.761      Real                   07/09/1822\n",
      "Colombia        771957        48258494       0.761      Peso Colombiano        20/07/1810\n",
      "Ecuador         192056        17283338       0.758      Dólar                  24/05/1822\n",
      "Bolivia         91225         11469896       0.703      Peso Boliviano         06/08/1825\n",
      "\n",
      "cantidad de países: 7\n",
      "cantidad de columnas informativas: 6\n",
      "\n",
      "Países que lograron su independencia en el mes de julio:\n",
      "Perú \n",
      "Argentina \n",
      "Colombia \n",
      "\n"
     ]
    }
   ],
   "source": [
    "cursos=open('reporte.txt',mode='r',encoding='utf-8')\n",
    "print(cursos.read())\n",
    "cursos.close()\n"
   ]
  },
  {
   "cell_type": "code",
   "execution_count": null,
   "metadata": {},
   "outputs": [],
   "source": []
  }
 ],
 "metadata": {
  "kernelspec": {
   "display_name": "Python 3",
   "language": "python",
   "name": "python3"
  },
  "language_info": {
   "codemirror_mode": {
    "name": "ipython",
    "version": 3
   },
   "file_extension": ".py",
   "mimetype": "text/x-python",
   "name": "python",
   "nbconvert_exporter": "python",
   "pygments_lexer": "ipython3",
   "version": "3.7.6"
  }
 },
 "nbformat": 4,
 "nbformat_minor": 4
}
