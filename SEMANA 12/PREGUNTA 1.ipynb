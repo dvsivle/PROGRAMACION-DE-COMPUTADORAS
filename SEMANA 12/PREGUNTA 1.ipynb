{
 "cells": [
  {
   "cell_type": "code",
   "execution_count": 13,
   "metadata": {},
   "outputs": [
    {
     "name": "stdout",
     "output_type": "stream",
     "text": [
      "Ingrese una cadena de digitos: 846651384\n",
      "Cadena de numeros en ingles:  eigth|four|six|six|five|one|three|eigth|four\n"
     ]
    }
   ],
   "source": [
    "# Pregunta 1 --de la torre\n",
    "\n",
    "\n",
    "\n",
    "numeros={0:'Zero', 1:'one', 2:'two', 3:'three', 4:'four', 5:'five',\n",
    "         6:'six', 7:'seven', 8:'eigth',  9:'nine'}\n",
    "\n",
    "\n",
    "digitos=(input(\"Ingrese una cadena de digitos: \")) \n",
    "\n",
    "ingles=''  #se crea una cadena vacia en ingles\n",
    "\n",
    "for i in digitos:\n",
    "    ingles=ingles+numeros[int(i)]+'|'\n",
    "\n",
    "ingles=ingles[:-1]  # elimina el ultimo '|'\n",
    "\n",
    "print(\"Cadena de numeros en ingles: \",ingles)\n"
   ]
  },
  {
   "cell_type": "code",
   "execution_count": null,
   "metadata": {},
   "outputs": [],
   "source": []
  },
  {
   "cell_type": "code",
   "execution_count": null,
   "metadata": {},
   "outputs": [],
   "source": []
  }
 ],
 "metadata": {
  "kernelspec": {
   "display_name": "Python 3",
   "language": "python",
   "name": "python3"
  },
  "language_info": {
   "codemirror_mode": {
    "name": "ipython",
    "version": 3
   },
   "file_extension": ".py",
   "mimetype": "text/x-python",
   "name": "python",
   "nbconvert_exporter": "python",
   "pygments_lexer": "ipython3",
   "version": "3.7.6"
  }
 },
 "nbformat": 4,
 "nbformat_minor": 4
}
