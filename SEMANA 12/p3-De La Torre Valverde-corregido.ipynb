{
 "cells": [
  {
   "cell_type": "code",
   "execution_count": 1,
   "metadata": {},
   "outputs": [],
   "source": [
    "#Pregunta 3\n",
    "\n",
    "\n",
    "class NotaAcademica(object):   #clase Nota academica\n",
    "    \n",
    "    def __init__(self,valor): #VALOR POR DEFECTO???\n",
    "        self.valor=valor\n",
    "    @property\n",
    "    def valor(self):\n",
    "        return self.__valor\n",
    "    \n",
    "    @valor.setter\n",
    "    def valor(self,new_val): #validacion del valor de la nota\n",
    "        if (isinstance(new_val,int) or isinstance(new_val,float)):\n",
    "            if(new_val>=0 and new_val<=20):\n",
    "                self.__valor=new_val\n",
    "            else:\n",
    "                print(\"La nota no esta en el rango correcto\")\n",
    "        else:\n",
    "            print(\"Error, la nota debe ser un valor numerico\")\n",
    "            \n",
    "    def __str__(self):\n",
    "        return \"[valor:{:.1f}]\".format(self.valor) #retorno del valor redondeado a in decimal      \n",
    "             \n",
    "    def evaluaValor(self):\n",
    "        if self.valor>=13:\n",
    "            return\"Aprobado\"\n",
    "        else:\n",
    "            return \"Desaprobado\"\n",
    "        \n",
    "    def __mod__(self,other):\n",
    "            x=(self.valor + other.valor)/2.0\n",
    "            return  NotaAcademica(x)\n",
    "\n"
   ]
  },
  {
   "cell_type": "code",
   "execution_count": 2,
   "metadata": {},
   "outputs": [
    {
     "name": "stdout",
     "output_type": "stream",
     "text": [
      "Error, la nota debe ser un valor numerico\n",
      "La nota no esta en el rango correcto\n",
      "\n",
      "La nota no esta en el rango correcto\n",
      "Error, la nota debe ser un valor numerico\n",
      "\n",
      "p:  [valor:12.0]\n",
      "Evaluacion de p:  Desaprobado\n"
     ]
    }
   ],
   "source": [
    "#Comprobando resultados\n",
    "\n",
    "n1=NotaAcademica(\"12\")\n",
    "n2=NotaAcademica(34)\n",
    "\n",
    "print()\n",
    "n1=NotaAcademica(15)\n",
    "n2=NotaAcademica(9)\n",
    "n1.valor=-5\n",
    "n2.valor=\"hola\"\n",
    "\n",
    "n1 = NotaAcademica(15)\n",
    "n2 = NotaAcademica(9)\n",
    "p = n1%n2\n",
    "print('\\np: ',p)\n",
    "print('Evaluacion de p: ',p.evaluaValor())\n",
    "\n",
    "\n",
    "#CORRECCION:\n",
    "#Creación de la clase y método init :  0.5/0.75 ptos.\n",
    "#Construcción de métodos decoradores: 2/2 ptos.\n",
    "#Construcción del método __str__:  0.75/0.75 ptos.\n",
    "#Construcción del método para determinar mensaje de aprobación : 1.5/1.5 ptos.\n",
    "#Construcción del método __mod__: 2/2 ptos.   \n",
    "\n",
    "#Total:  6.75/7 ptos."
   ]
  },
  {
   "cell_type": "code",
   "execution_count": null,
   "metadata": {},
   "outputs": [],
   "source": []
  },
  {
   "cell_type": "code",
   "execution_count": 42,
   "metadata": {},
   "outputs": [
    {
     "name": "stdout",
     "output_type": "stream",
     "text": [
      "Error, la nota debe ser un valor numerico\n",
      "La nota no esta en el rango correcto\n",
      "\n",
      "La nota no esta en el rango correcto\n",
      "Error, la nota debe ser un valor numerico\n",
      "\n",
      "p:  [valor:12.0]\n",
      "Evaluacion de p:  Desaprobado\n"
     ]
    }
   ],
   "source": [
    "\n",
    "#NO solicitado pero para validar de acuerdo al ejemplo mostrado\n",
    "\n",
    "class Nota(NotaAcademica):\n",
    "    def __init__(self,valor):\n",
    "        super().__init__(valor)\n",
    "\n",
    "        \n",
    "n1=Nota('12')\n",
    "n2=Nota(34)\n",
    "\n",
    "print()\n",
    "n1=Nota(15)\n",
    "n2=Nota(9)\n",
    "n1.valor=-5\n",
    "n2.valor=\"hola\"\n",
    "\n",
    "n1 = Nota(15)\n",
    "n2 = Nota(9)\n",
    "p = n1%n2\n",
    "print('\\np: ',p)\n",
    "print('Evaluacion de p: ',p.evaluaValor())\n"
   ]
  },
  {
   "cell_type": "code",
   "execution_count": null,
   "metadata": {},
   "outputs": [],
   "source": []
  }
 ],
 "metadata": {
  "kernelspec": {
   "display_name": "Python 3",
   "language": "python",
   "name": "python3"
  },
  "language_info": {
   "codemirror_mode": {
    "name": "ipython",
    "version": 3
   },
   "file_extension": ".py",
   "mimetype": "text/x-python",
   "name": "python",
   "nbconvert_exporter": "python",
   "pygments_lexer": "ipython3",
   "version": "3.7.6"
  }
 },
 "nbformat": 4,
 "nbformat_minor": 4
}
