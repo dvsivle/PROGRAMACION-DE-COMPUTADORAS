{
 "cells": [
  {
   "cell_type": "markdown",
   "metadata": {},
   "source": [
    "<h1><center>PROYECTO 1</center></h1>\n",
    "<h1><center>Calendario anual</center></h1>\n",
    "\n",
    "\n",
    "![calendar](http://mmu.cesuvt.org/uploaded/MMUHS/2016-17/desk_calendar_img4.png)\n",
    "\n",
    "Debe de mostrar un calendario para un año determinado (en el rango entre 1800 al presente). El formato a mostrar se observa a continuación (solo se muestra la mitad del año):\n",
    "\n",
    "    Ingrese el año [aaaa]: 2015\n",
    "    \n",
    "    Enero                              Febrero                            Marzo\n",
    "                     1   2   3          1   2   3   4   5   6   7          1   2   3   4   5   6   7\n",
    "     4   5   6   7   8   9  10          8   9  10  11  12  13  14          8   9  10  11  12  13  14\n",
    "    11  12  13  14  15  16  17         15  16  17  18  19  20  21         15  16  17  18  19  20  21\n",
    "    18  19  20  21  22  23  24         22  23  24  25  26  27  28         22  23  24  25  26  27  28\n",
    "    25  26  27  28  29  30  31                                            29  30  31\n",
    "    \n",
    "    \n",
    "    Abril                              Mayo                               Junio\n",
    "                     1   3   4                              1   2              1   2   3   4   5   6\n",
    "     5   6   7   8   9  10  11          3   4   5   6   7   8   9          7   8   9  10  11  12  13\n",
    "    12  13  14  15  16  17  18         10  11  12  13  14  15  16         14  15  16  17  18  19  20\n",
    "    19  20  21  22  23  24  25         17  18  19  20  21  22  23         21  22  23  24  25  26  27\n",
    "    26  27  28  29  30                 24  25  26  27  28  29  30         28  29  30\n",
    "                                       31\n"
   ]
  },
  {
   "cell_type": "markdown",
   "metadata": {},
   "source": [
    "### Requerimientos del programa\n",
    "Se le pedirá al usuario que ingrese el año a mostrar el calendario del año. Para esto debe de calcular el día de la semana que será el 1 de enero de ese año y si el año es o no bisiesto. Con esta información, podrá coleccionar el calendario de todo el año para su posterior impresión."
   ]
  },
  {
   "cell_type": "markdown",
   "metadata": {},
   "source": [
    "### Descripción de los datos\n",
    "El programa necesita representar el año ingresado, el dia de la semana para el 1 de enero y el número de día para cada mes (considerando si el año es bisiesto). El nombre de los meses puede ser almacenado en una lista para ser mostradp posteriormente. Con esta información, el calendario del año puede ser construido de forma apropiada y mostrado.\n",
    "\n",
    "Se pueden utilizar listas anidadas para representar el calendario. La estructura de datos empezará con una lista vacía y se ira llenando con cada uno de los meses del calendario. La estructura de la lista para el calendario anual y el calendario mensual se muestra a continuación:\n",
    "\n",
    "    calendario_anio = [[calendario_mes], [calendario_mes], ...]    -> 12 elementos\n",
    "    \n",
    "    calendario_mes = ['', '', '', ...]   -> 42 elementos\n",
    "\n",
    "Los meses pueden tener entre 4 y 6 semanas (pienselo un poco...), por lo que debemos considerar el caso más extremo de 6 semanas x 7 dias = 42 espacios en el calendario mensual. Así, por ejemplo, para Febrero 2015 tendremos la siguiente lista:\n",
    "\n",
    "    calendario_feb = [1, 2, 3, 4..., 28, '', '', ...] \n",
    "    \n",
    "Sin embargo, para Mayo 2015 tendremos a siguiente lista:\n",
    "\n",
    "    calendario_may = ['', '', '', '', '', 1, 2, 3, ... 31, '', '', '']\n",
    "   \n",
    "De esta forma, los 7 primeros elementos de las tres primeras listas de calendario_anio, será la primera línea de impresión del calendario, los 7 siguientes elementos de las tres primeras listas de calendario_anio será la segunda línea de impresión del calendario, y asi sucesivamente.\n",
    "\n",
    "### Como determinar el día de la semana para 1 de enero\n",
    "\n",
    "Se tiene el siguiente algoritmo para identificar el dia de la semana para el 1 de enero de un año determinado:\n",
    "\n",
    "    1. Hacer \"digitos_siglo\" igual a los dos primeros digitos del año\n",
    "    2. Hacer \"digitos_año\" igual a los dos ultimos digitos del año\n",
    "    3. Hacer \"valor\" igual a \"digitos_año\" + floor(\"digitos_año\" / 4)\n",
    "    4. Si \"digitos_siglo\" es igual a 18, añadir 2 a \"valor\", de lo contrario\n",
    "       si \"digitos_siglo\" es igual a 20, añadir 6 a \"valor\"\n",
    "    5. Si \"año\" no es un año bisiesto, añadír 1 a \"valor\"\n",
    "    6. Hacer \"valor\" igual a (valor + 1) mod 7\n",
    "    7. Si \"valor\" es igual 1 (Domingo), 2 (Lunes), ..., 0 (Sábado)\n"
   ]
  },
  {
   "cell_type": "markdown",
   "metadata": {},
   "source": [
    "### Solución\n",
    "Puede utilizar esta sección (haga doble click para editar y Ctrl + ENTER para fijar) para explicar su plan de acción y el bloque inferior para escribir su programa. SEA ORDENADA, es parte de la calificación."
   ]
  },
  {
   "cell_type": "code",
   "execution_count": null,
   "metadata": {
    "collapsed": true
   },
   "outputs": [],
   "source": [
    "# Pida al usuario el año (valide el rango >= 1800 y el tipo de dato [int] y repita hasta que el año ingresado sea correcto)\n",
    "    \n",
    "\n",
    "\n",
    "# Calcule el dia correspondiente al 1 del mes y año ingresado\n",
    "\n",
    "\n",
    "\n",
    "# Muestre el calendario anual con el formato requerido\n",
    "    \n",
    "    \n",
    "    "
   ]
  },
  {
   "cell_type": "markdown",
   "metadata": {},
   "source": [
    "### Rubrica de evaluación\n",
    "\n",
    "| Descripcion                                                     | Ptos  | N1 | N2 | N3 | RESULTADO |\n",
    "|-----------------------------------------------------------------|-------|----|----|----|-----------|\n",
    "| Presenta un código ordenado y legible (buen uso de comentarios) | 4 | 0 | 2 | 4 |\n",
    "| Define su plan de acción de forma ordenada                      | 4 | 0 | 2 | 4 |\n",
    "| Valida los datos de entrada                                     | 2 | 0 | 1 | 2 |\n",
    "| Convierte su algoritmo en un código de Python eficiente         | 5 | 0 | 3 | 5 |\n",
    "| Imprime los resultados según lo especificado                    | 5 | 0 | 3 | 5 |\n",
    "\n",
    "NOTA:\n",
    "\n",
    "##### Leyenda\n",
    "    N1: No cumple\n",
    "    N2: En desarrollo\n",
    "    N3: Cumple con el requerimiento"
   ]
  }
 ],
 "metadata": {
  "anaconda-cloud": {},
  "kernelspec": {
   "display_name": "Python 3",
   "language": "python",
   "name": "python3"
  },
  "language_info": {
   "codemirror_mode": {
    "name": "ipython",
    "version": 3
   },
   "file_extension": ".py",
   "mimetype": "text/x-python",
   "name": "python",
   "nbconvert_exporter": "python",
   "pygments_lexer": "ipython3",
   "version": "3.7.6"
  }
 },
 "nbformat": 4,
 "nbformat_minor": 1
}
