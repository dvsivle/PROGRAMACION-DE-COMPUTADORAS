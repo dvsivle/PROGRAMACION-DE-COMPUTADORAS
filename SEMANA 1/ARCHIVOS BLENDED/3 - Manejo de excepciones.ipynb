{
 "cells": [
  {
   "cell_type": "markdown",
   "metadata": {},
   "source": [
    "# <u>Manejo de excepciones</u>\n",
    "Pruebe la siguiente intrucción:"
   ]
  },
  {
   "cell_type": "code",
   "execution_count": 1,
   "metadata": {},
   "outputs": [
    {
     "ename": "ZeroDivisionError",
     "evalue": "division by zero",
     "output_type": "error",
     "traceback": [
      "\u001b[1;31m---------------------------------------------------------------------------\u001b[0m",
      "\u001b[1;31mZeroDivisionError\u001b[0m                         Traceback (most recent call last)",
      "\u001b[1;32m<ipython-input-1-adafc2937013>\u001b[0m in \u001b[0;36m<module>\u001b[1;34m\u001b[0m\n\u001b[1;32m----> 1\u001b[1;33m \u001b[1;36m5\u001b[0m \u001b[1;33m/\u001b[0m \u001b[1;36m0\u001b[0m\u001b[1;33m\u001b[0m\u001b[1;33m\u001b[0m\u001b[0m\n\u001b[0m",
      "\u001b[1;31mZeroDivisionError\u001b[0m: division by zero"
     ]
    }
   ],
   "source": [
    "5 / 0"
   ]
  },
  {
   "cell_type": "markdown",
   "metadata": {},
   "source": [
    "Lo que se genera es un error de ejecución, que en Python se denominan \"excepciones\". Estas excepciones se indican en el mensaje de respuesta del interprete de Python (en este caso, ZeroDivisionError).\n",
    "\n",
    "Para evitar que el interprete detenga la ejecución del programa y se pueda tomar alguna accion (como indicar con un mensaje de error, en este caso) se puede utilizar un bloque try...except que realiza una \"prueba\" en un bloque **try:** de alguna instrucción y evalua la respuesta de esta prueba.\n",
    "\n",
    "Si la prueba no arroja excepciones, el interprete de Python continua con las siguientes lineas dentro del bloque y luego del bloque; sin embargo, si sucede un error se ejecutará lo que se encuentra dentro del bloque **except:**"
   ]
  },
  {
   "cell_type": "code",
   "execution_count": 2,
   "metadata": {},
   "outputs": [
    {
     "name": "stdout",
     "output_type": "stream",
     "text": [
      "Ingrese una division: 78/0\n",
      "ERROR: Division entre cero\n"
     ]
    }
   ],
   "source": [
    "num, div = input(\"Ingrese una division: \").split('/')\n",
    "\n",
    "try:\n",
    "    result = int(num) / int(div)\n",
    "    # Si se produce un error en la linea anterior, esta linea siguiente\n",
    "    # no se ejecuta\n",
    "    print(\"{}/{} = {:.2f}\".format(num, div, result))\n",
    "except ZeroDivisionError:\n",
    "\tprint(\"ERROR: Division entre cero\")"
   ]
  },
  {
   "cell_type": "markdown",
   "metadata": {},
   "source": [
    "Hay varias excepciones estandar usadas comunmente:\n",
    "\n",
    "* IOError: Error al tratar de acceder a un archivo\n",
    "* ValueError: Error con el dato ingresado (no es un valor valido)\n",
    "* EOFError: Error con el manejo de archivos (End Of File)\n",
    "* ImportError: Error al momento de importar un modulo\n",
    "* KeyboardInterrupt: Error por cancelar una operacion\n",
    "\n",
    "El uso tipico de un bloque try...except es el manejo de los errores en un script sin tener que recurrír a operaciones condicionales que evaluen todos los posibles casos de error. Si sucede un error la ejecución del programa ira directamente al bloque **except:** y aqui se pueden evaluar directamente todos los errores posibles, lo que hace que el codigo se vea ordenado\n",
    "\n",
    "Otra detalle que debe de observar es que los bloques de código en Python estan definidos por la sangría. Si alguna de las lineas del bloque no esta alineada a las demás, esta línea no esta en el bloque. Los editores de codigo manejan este orden de manera automática (luego de colocar los **:** para definir un bloque). Sin embargo, esta característica de Python hace que el código sea más legible."
   ]
  },
  {
   "cell_type": "markdown",
   "metadata": {},
   "source": [
    "### Ejercicio\n",
    "Ejecute el programa lineas abajo, pero esta vez no escriba nada en el cuadro de entrada de datos o coloque solo un número. Observe el nombre de la excepcion retornadá por el interprete de Python. Agrege un nuevo bloque de expcepcion que maneje este error con el mensaje \"Debe de ingresar una division\"\n",
    "\n",
    "Sugerencia: Fíjese en las excepciones estandar indicadas líneas arriba y evalue cual usar para resolver este ejercicio"
   ]
  },
  {
   "cell_type": "code",
   "execution_count": 6,
   "metadata": {},
   "outputs": [
    {
     "name": "stdout",
     "output_type": "stream",
     "text": [
      "Ingrese una division: 45/4\n",
      "45/4 = 11.25\n"
     ]
    }
   ],
   "source": [
    "##num, div = input(\"Ingrese una division: \").split('/')\n",
    "\n",
    "try:\n",
    "    num, div = input(\"Ingrese una division: \").split('/')\n",
    "    result = int(num) / int(div)\n",
    "    # Si se produce un error en la linea anterior, esta linea siguiente\n",
    "    # no se ejecuta\n",
    "    print(\"{}/{} = {:.2f}\".format(num, div, result))\n",
    "except ValueError:\n",
    "\tprint(\"ERROR: los datos ingresados no son correctos\")"
   ]
  },
  {
   "cell_type": "code",
   "execution_count": 7,
   "metadata": {},
   "outputs": [
    {
     "name": "stdout",
     "output_type": "stream",
     "text": [
      "Ingrese una division: 5/0\n",
      "ERROR: Division entre cero\n"
     ]
    }
   ],
   "source": [
    "\n",
    "\n",
    "try:\n",
    "    num1, div = input(\"Ingrese una division: \").split('/')\n",
    "    result = int(num1) / int(div)\n",
    "    # Si se produce un error en la linea anterior, esta linea siguiente\n",
    "    # no se ejecuta\n",
    "    print(\"{}/{} = {:.2f}\".format(num1, div, result))\n",
    "except ZeroDivisionError:\n",
    "\tprint(\"ERROR: Division entre cero\")\n",
    "except ValueError:\n",
    "\tprint(\"ERROR: los datos ingresados no son correctos\")\n"
   ]
  },
  {
   "cell_type": "code",
   "execution_count": null,
   "metadata": {},
   "outputs": [],
   "source": []
  }
 ],
 "metadata": {
  "kernelspec": {
   "display_name": "Python 3",
   "language": "python",
   "name": "python3"
  },
  "language_info": {
   "codemirror_mode": {
    "name": "ipython",
    "version": 3
   },
   "file_extension": ".py",
   "mimetype": "text/x-python",
   "name": "python",
   "nbconvert_exporter": "python",
   "pygments_lexer": "ipython3",
   "version": "3.7.6"
  }
 },
 "nbformat": 4,
 "nbformat_minor": 2
}
