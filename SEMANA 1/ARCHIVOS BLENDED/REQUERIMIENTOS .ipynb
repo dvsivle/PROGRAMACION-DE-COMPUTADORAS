{
 "cells": [
  {
   "cell_type": "markdown",
   "metadata": {},
   "source": [
    "# Requerimiento 1:\n",
    "Desarrollar\n",
    "un programa que permita imprimir en pantalla la siguiente figura:\n",
    "\n",
    "        **********\n",
    "        *        *\n",
    "        *        *\n",
    "        *        *\n",
    "        *        *\n",
    "        **********\n"
   ]
  },
  {
   "cell_type": "code",
   "execution_count": null,
   "metadata": {},
   "outputs": [],
   "source": [
    "\n",
    "print(\"*\"*10)\n",
    "print(\"*\"+\" \"*8+\"*\")\n",
    "print(\"*\"+\" \"*8+\"*\")\n",
    "print(\"*\"+\" \"*8+\"*\")\n",
    "print(\"*\"+\" \"*8+\"*\")\n",
    "print(\"*\"*10)\n"
   ]
  },
  {
   "cell_type": "markdown",
   "metadata": {},
   "source": [
    "# Requerimiento 2:\n",
    "Desarrollar una aplicación que permita calcular el área de un círculo\n",
    "dado su radio.\n",
    "\n",
    "Ejemplo\n",
    "\n",
    "        ingrese radio: 1\n",
    "        El área del circulo de radio 1.0 es 3.1416"
   ]
  },
  {
   "cell_type": "code",
   "execution_count": null,
   "metadata": {},
   "outputs": [],
   "source": [
    "import math\n",
    "r= float(input(\"Ingrese radio: \"))\n",
    "area=pow(r,2)*math.pi\n",
    "\n",
    "print(\"El área del circulo de radio {:.1f} es {:.4f}\".format(r,area))"
   ]
  },
  {
   "cell_type": "markdown",
   "metadata": {},
   "source": [
    "# Requerimiento 3:\n",
    "Desarrollar una aplicación que permita calcular el índice de masa\n",
    "corporal ( de una persona dado su peso (en Kg) y su talla (en mt.)\n",
    "                \n",
    "      IMC = peso/talla^2\n",
    "       \n",
    "Ejemplo\n",
    "\n",
    "    Ingrese su altura [m]: 1.68\n",
    "    Ingrese su peso [Kg]: 62\n",
    "    \n",
    "    Para una altura de 1.68 metros, y un peso de 62 kilogramos, su IMC es de 21.9671201814059\n",
    "       "
   ]
  },
  {
   "cell_type": "code",
   "execution_count": null,
   "metadata": {},
   "outputs": [],
   "source": [
    "a=float(input(\"Ingrese su altura [m]: \"))\n",
    "b=int(input(\"Ingrese su peso [Kg]: \"))\n",
    "\n",
    "IMC=b/(a**2) \n",
    "print(\"\\n\")\n",
    "print(\"Para una altura de {:.2f} metros, y un peso de {} kilogramos, su IMC es de {}\".format(a,b,IMC))\n"
   ]
  },
  {
   "cell_type": "markdown",
   "metadata": {},
   "source": [
    "# Requerimiento 4:\n",
    "Desarrollar una aplicación que permita leer un número entero de 4\n",
    "cifras y luego de ello mostrar la suma de las mismas.\n",
    "\n",
    "Ejemplo\n",
    "\n",
    "    ingrese un numero de 4 cifras:  3456\n",
    "\n",
    "    La suma de sus cifras es: 18\n",
    "\n"
   ]
  },
  {
   "cell_type": "code",
   "execution_count": 12,
   "metadata": {},
   "outputs": [
    {
     "name": "stdout",
     "output_type": "stream",
     "text": [
      "ingrese un numero de 4 cifras:  3456\n",
      "\n",
      "La suma de sus cifras es: 18\n"
     ]
    }
   ],
   "source": [
    "num=input(\"ingrese un numero de 4 cifras:  \")\n",
    "\n",
    "a=int(num[0])\n",
    "b=int(num[1])\n",
    "c=int(num[2])\n",
    "d=int(num[3])\n",
    "print(\"\\nLa suma de sus cifras es: {}\".format(a+b+c+d))"
   ]
  },
  {
   "cell_type": "code",
   "execution_count": null,
   "metadata": {},
   "outputs": [],
   "source": []
  }
 ],
 "metadata": {
  "kernelspec": {
   "display_name": "Python 3",
   "language": "python",
   "name": "python3"
  },
  "language_info": {
   "codemirror_mode": {
    "name": "ipython",
    "version": 3
   },
   "file_extension": ".py",
   "mimetype": "text/x-python",
   "name": "python",
   "nbconvert_exporter": "python",
   "pygments_lexer": "ipython3",
   "version": "3.7.6"
  }
 },
 "nbformat": 4,
 "nbformat_minor": 4
}
