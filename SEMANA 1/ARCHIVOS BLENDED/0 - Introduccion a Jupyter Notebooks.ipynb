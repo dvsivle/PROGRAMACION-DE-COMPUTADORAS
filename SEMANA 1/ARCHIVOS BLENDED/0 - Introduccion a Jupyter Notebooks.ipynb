{
 "cells": [
  {
   "cell_type": "markdown",
   "metadata": {},
   "source": [
    "# <u>Introducción a Jupyter Notebooks</u>\n",
    "\n",
    "*El presente documento tiene información útil sobre el manejo de los Jupyter Notebooks y para su futura referencia."
   ]
  },
  {
   "cell_type": "markdown",
   "metadata": {},
   "source": [
    "El Jupyter Notebook es un entorno interactivo web de ejecución de código en los que, por ejemplo, se puede incluir gráficas que ayuden en el análisis e explicación de los datos. Son utilizados para facilitar la explicación y reproducción de estudios y análisis.\n",
    "\n",
    "Un Notebook se compone de bloques de texto (escritos en formato markdown) y bloques de código (que se procesan en el ambiente iPython). Esto bloques reciben el nombre de celdas.\n",
    "\n",
    "Las celdas se pueden editar ingresado en modo de Edicion con [ENTER] o haciendo click sobre una celda (aparecerá el ícono de un lápiz en la sección superior izquierda). El borde izquierdo de la celda se pondrá de color verde.\n",
    "\n",
    "Para bloquear una celda se presiona [Esc]. La celda se pondrá de color azul y se estara en modo \"comando\"\n",
    "\n",
    "En el modo comando se puede especificar que la celda sera una celda de código [Y] o celda de texto markdown [M].\n",
    "\n",
    "Para ejecutar el contenido de una celda hay varias formas de proceder:\n",
    "\n",
    "* [Shift] + [Enter] : Ejecuta la celda y selecciona la celda inferior\n",
    "\n",
    "* [Ctrl] + [Enter] : Ejecuta la celda y se mantiene en la celda\n",
    "\n",
    "* [Alt] + [Enter] : Ejecuta la celda e inserta una nueva celda abajo\n",
    "\n",
    "Seleccione la celda inferior y pruebe las dos primeras combinaciones de teclas (no la tercera para no insertar una celda nueva!!!)\n",
    "\n",
    "... si lo hizo, seleccione la celda, ingrese a modo comando [Esc] y eliminela con [D] dos veces"
   ]
  },
  {
   "cell_type": "code",
   "execution_count": 4,
   "metadata": {
    "scrolled": true
   },
   "outputs": [
    {
     "name": "stdout",
     "output_type": "stream",
     "text": [
      "Hola mundo\n"
     ]
    }
   ],
   "source": [
    "print(\"Hola mundo\")"
   ]
  },
  {
   "cell_type": "markdown",
   "metadata": {},
   "source": [
    "La celda anterior es una celda de código. Puede ver que se interpreta en el ambiente iPython (note la indicación del número de celda In [n]:). El numero n indica el orden de ejecución. Si ejecuta una celda repetidas veces, este número se incrementará."
   ]
  },
  {
   "cell_type": "markdown",
   "metadata": {},
   "source": [
    "Una hoja notebook puede incluir ecuaciones. Estas deben ser ingresadas en formato LaTeX. Para generar código LaTeX puede ayudarse de la página hostmath (http://www.hostmath.com/). Por ejemplo, si se coloca el texto: \n",
    "\n",
    "\\frac{-b\\pm\\sqrt{b^2-4ac}}{2a}\n",
    "\n",
    "entre simbolos de $$ se tendrá como resultado:\n",
    "\n",
    "$$\\frac{-b\\pm\\sqrt{b^2-4ac}}{2a}$$"
   ]
  },
  {
   "cell_type": "markdown",
   "metadata": {},
   "source": [
    "Existen otras funciones a las que se acceder desde el menu superior. Para editar un notebook hay opciones en Edit, mientras que para controlar el estado de las celdas hay funciones agrupadas en la opcion Cell. Por ejemplo, si quiere reiniciar todas las celdas y dejar el documento sin que se haya ejecutado ningun bloque de código, seleccione Cell > All Outputs > Clear"
   ]
  },
  {
   "cell_type": "markdown",
   "metadata": {},
   "source": [
    "### Como llamar a un Notebook desde la ventana de comandos"
   ]
  },
  {
   "cell_type": "markdown",
   "metadata": {},
   "source": [
    "Es necesario abrir un terminal de consola en Windows [Inicio] > cmd. Luego,en la consola de comandos se debe de apuntar a una ruta en el disco duro con cd [ruta], por ejemplo, si estamos en la ruta raíz del disco C:\n",
    "\n",
    "    C:>\\e: (se dirige a la partición E:\\ del disco duro)\n",
    "\n",
    "    E:\\cd PythonFiles> (se dirige al directorio E:\\PythonFiles)\n",
    "\n",
    "    E:\\PythonFiles>jupyter notebooks (este comando abrirá Jupyter)\n",
    "\n",
    "Se abrirá un navegador de Internet que mostrará el ambiente Jupyter. Y en la consola se veran varios mensajes. NO DEBE DE CERRAR ESTA CONSOLA. Aqui se esta ejecutando el motor de Jupyter. Al iniciar el notebook de Jupyter, se aprecia una ventana principal donde se muestra una lista de directorios y/o una lista de notebooks. Cada notebook es un archivo que esta guardado en la computadora en la ruta que aparece. Si en el directorio no hay notebooks, veremos un mensaje indicando que la lista del notebook esta vacía.\n",
    "\n",
    "Para abrir un nuevo Notebook seleccionar New > Python3 o puede abrir un archivo (extension ipynb) que este almacenado en esta ruta.\n",
    "\n",
    "No olvide ponerle un nombre a su Notebook. Haga click en la sección de nombre al la izquierda del logo jupyter e ingrese un nombre.\n",
    "\n",
    "Los Notebook se guardan de manera automática cada cierto tiempo (al lado del nombre verá la indicación \"unsaved changes\" si hay cambios y aun no han sido grabados). Se puede guardar el Notebook a demanda con el ícono de diskette en la barra de herramientas."
   ]
  },
  {
   "cell_type": "markdown",
   "metadata": {},
   "source": [
    "### Ejemplo de un script de Python\n",
    "Complete el siguiente bloque de códigos para que se puedan mostrar los tipos de variables"
   ]
  },
  {
   "cell_type": "code",
   "execution_count": 1,
   "metadata": {},
   "outputs": [
    {
     "name": "stdout",
     "output_type": "stream",
     "text": [
      "La variable var1 es una variable <class 'int'>\n",
      "La variable var2 es una variable <class 'float'>\n",
      "La variable var3 es una variable <class 'complex'>\n",
      "La variable var4 es una variable <class 'str'>\n"
     ]
    }
   ],
   "source": [
    "var1 = 4       #Asigne a var1 una variable entera (10)\n",
    "var2 = 12.5       #Asigne a var2 una variable flotante (12.25)\n",
    "var3 = 3 + 1j     #Asigne a var3 una variable compleja (3 + 1j)\n",
    "var4 = \"Decibel\"       #Asigne a var4 una variable str (\"Decibel\")\n",
    "\n",
    "print(\"La variable var1 es una variable\", type(var1))\n",
    "print(\"La variable var2 es una variable\", type(var2))\n",
    "print(\"La variable var3 es una variable\", type(var3))\n",
    "print(\"La variable var4 es una variable\", type(var4))"
   ]
  },
  {
   "cell_type": "markdown",
   "metadata": {},
   "source": [
    "Modifique el bloque siguiente de código para que muestre la frase *En Python un código elegante es un código \"pythonico\".*"
   ]
  },
  {
   "cell_type": "code",
   "execution_count": 2,
   "metadata": {},
   "outputs": [
    {
     "name": "stdout",
     "output_type": "stream",
     "text": [
      "pythonico\n"
     ]
    }
   ],
   "source": [
    "print(\"pythonico\")\n"
   ]
  },
  {
   "cell_type": "markdown",
   "metadata": {},
   "source": [
    "Ingrese la operación correcta para resolver la operacion:\n",
    "\n",
    "$$w = \\frac{x^{2}+\\frac{2y+z}{5xy}}{3x+\\frac{x-z}{y}}$$\n",
    "\n",
    "para valores de *x* = -2.34, *y* = 123.78 y *z* = 23.0014"
   ]
  },
  {
   "cell_type": "code",
   "execution_count": 6,
   "metadata": {},
   "outputs": [
    {
     "name": "stdout",
     "output_type": "stream",
     "text": [
      "x: -2.34\n",
      "z: 123.78\n",
      "z: 23.0014\n",
      "-0.7320381291446543\n"
     ]
    }
   ],
   "source": [
    "x=float(input(\"x: \"))\n",
    "y=float(input(\"z: \"))\n",
    "z=float(input(\"z: \"))\n",
    "\n",
    "w=(x**2 + (2*y +z )/(5*x*y))/(3*x + (x-z)/y )\n",
    "print(w)"
   ]
  },
  {
   "cell_type": "markdown",
   "metadata": {},
   "source": [
    "### Reinicio del Kernel\n",
    "Es posible que en algun momento el Notebook ya no ejecute ninguna instrucción, como resutado de un lazo infinito o una operación inválida o algun error general. Cuando esto sucede el Kernel se encontrará ocupado para atender un requerimiento.\n",
    "\n",
    "El *kernel* es el interprete de Python. Si este no responde no se podrán ejecutar las instrucciones. Una de las indicaciones de que se ha presentado este error es la indicación de un \\* en el número de la celda (In [\\*]).\n",
    "\n",
    "Para salir de este error es necesario *reiniciar* el kernel. Esta operacion esta disponible en la barra de menu Kernel > Restart"
   ]
  }
 ],
 "metadata": {
  "kernelspec": {
   "display_name": "Python 3",
   "language": "python",
   "name": "python3"
  },
  "language_info": {
   "codemirror_mode": {
    "name": "ipython",
    "version": 3
   },
   "file_extension": ".py",
   "mimetype": "text/x-python",
   "name": "python",
   "nbconvert_exporter": "python",
   "pygments_lexer": "ipython3",
   "version": "3.7.6"
  }
 },
 "nbformat": 4,
 "nbformat_minor": 2
}
