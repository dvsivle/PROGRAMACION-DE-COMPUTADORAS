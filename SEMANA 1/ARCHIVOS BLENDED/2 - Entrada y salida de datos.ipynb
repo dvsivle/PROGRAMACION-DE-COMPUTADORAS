{
 "cells": [
  {
   "cell_type": "markdown",
   "metadata": {},
   "source": [
    "# <u>Entrada y salida de datos</u>\n",
    "Ya se ha observado que la funcion print() imprime una linea completa. También se puede utilizar el caracter \",\" como separador de variables (ademas de incluir espacios alrededor) y estas no necesariemente tienen que ser todas cadenas."
   ]
  },
  {
   "cell_type": "code",
   "execution_count": 1,
   "metadata": {},
   "outputs": [
    {
     "name": "stdout",
     "output_type": "stream",
     "text": [
      "El mes de febrero tiene 28 dias\n"
     ]
    }
   ],
   "source": [
    "dias_febrero = 28\n",
    "print(\"El mes de febrero tiene\", dias_febrero, \"dias\")"
   ]
  },
  {
   "cell_type": "markdown",
   "metadata": {},
   "source": [
    "Y esto sirve tambien para operaciones:"
   ]
  },
  {
   "cell_type": "code",
   "execution_count": 2,
   "metadata": {},
   "outputs": [
    {
     "name": "stdout",
     "output_type": "stream",
     "text": [
      "Bienvenido al lado oscuro Elvis\n"
     ]
    }
   ],
   "source": [
    "nombre = \"Elvis\"      # Escriba su nombre en la variable\n",
    "print(\"Bienvenido al lado oscuro\", nombre)\n"
   ]
  },
  {
   "cell_type": "code",
   "execution_count": 6,
   "metadata": {},
   "outputs": [
    {
     "name": "stdout",
     "output_type": "stream",
     "text": [
      "El modulo de (3+4j) es 5.0\n"
     ]
    },
    {
     "data": {
      "text/plain": [
       "85.3"
      ]
     },
     "execution_count": 6,
     "metadata": {},
     "output_type": "execute_result"
    }
   ],
   "source": [
    "print(\"El modulo de\", 3+4j, \"es\", abs(3+4j))\n",
    "abs(-85.3)"
   ]
  },
  {
   "cell_type": "code",
   "execution_count": 7,
   "metadata": {},
   "outputs": [
    {
     "name": "stdout",
     "output_type": "stream",
     "text": [
      "El valor de i es 1\n",
      "El valor de i+1 es 2\n"
     ]
    }
   ],
   "source": [
    "i = 1\n",
    "print(\"El valor de i es\",i)\n",
    "print(\"El valor de i+1 es\",i+1)"
   ]
  },
  {
   "cell_type": "markdown",
   "metadata": {},
   "source": [
    "Se puede apreciar que *print* imprime cadenas, variables, operaciones con variables. Ademas, *print* siempre imprime una línea entera (es decir, ingresa una \"nueva linea\" al final). Se puede evitar esto colocando el espcificador *end=\" \"* como argumento de la función *print*"
   ]
  },
  {
   "cell_type": "code",
   "execution_count": 8,
   "metadata": {},
   "outputs": [
    {
     "name": "stdout",
     "output_type": "stream",
     "text": [
      "El valor de i es 1El valor de i+1 es 2\n"
     ]
    }
   ],
   "source": [
    "i = 1\n",
    "print(\"El valor de i es\",i, end=\"\")\n",
    "print(\"El valor de i+1 es\",i+1)"
   ]
  },
  {
   "cell_type": "markdown",
   "metadata": {},
   "source": [
    "O especificar dentro de los \" \" algun caracter que se utilizará para separar ambos string."
   ]
  },
  {
   "cell_type": "code",
   "execution_count": 9,
   "metadata": {},
   "outputs": [
    {
     "name": "stdout",
     "output_type": "stream",
     "text": [
      "El valor de i es 1. El valor de i+1 es 2\n"
     ]
    }
   ],
   "source": [
    "i = 1\n",
    "print(\"El valor de i es\",i, end=\".\")\n",
    "print(\" El valor de i+1 es\",i+1)"
   ]
  },
  {
   "cell_type": "markdown",
   "metadata": {},
   "source": [
    "### Salida con formato\n",
    "Como se puede apreciar, la función print permite imprimir textos y numeros con mucha flexibilidad. Hay muchas maneras de utilizar los diferentes parametros de la función print y hay basicamente tres maneras de tener el control sobre el formato de una salida."
   ]
  },
  {
   "cell_type": "code",
   "execution_count": 10,
   "metadata": {},
   "outputs": [
    {
     "name": "stdout",
     "output_type": "stream",
     "text": [
      "459 0.098 \n",
      "459 0.098 44.982\n",
      "459,0.098,44.982\n",
      "459->0.098->44.982\n"
     ]
    }
   ],
   "source": [
    "q = 459\n",
    "p = 0.098\n",
    "print(q, end=\" \")\n",
    "print(p, end=\" \")\n",
    "print()\n",
    "print(q, p, p*q)\n",
    "print(q, p, p*q, sep=\",\")\n",
    "print(q, p, p*q, sep=\"->\")"
   ]
  },
  {
   "cell_type": "markdown",
   "metadata": {},
   "source": [
    "En este primer método, se utilizan las especificaciones de *print* para controlar la seperación de caracteres(,), el final de linea (end=\" \") y el tipo de caracter de separación (sep = \",\"). La instrucción *print()* genera una linea en blanco"
   ]
  },
  {
   "cell_type": "code",
   "execution_count": 11,
   "metadata": {},
   "outputs": [
    {
     "name": "stdout",
     "output_type": "stream",
     "text": [
      "El alumno 2635363 tiene en sus practicas 12, 14 y 16\n"
     ]
    }
   ],
   "source": [
    "id_alumno = 2635363\n",
    "nota1, nota2, nota3 = 12, 14, 16\n",
    "print(\"El alumno {} tiene en sus practicas {}, {} y {}\".format(id_alumno, nota1, nota2, nota3))"
   ]
  },
  {
   "cell_type": "markdown",
   "metadata": {},
   "source": [
    "Esta es la forma preferida pues permite la mayor flexibilidad. Se requiere del uso de un método de la función *print* llamado *format*. Tiene la forma:\n",
    "\n",
    "            print(\" { }  \".format( ))\n",
    "\n",
    "Donde cada una de las *{ }* contendra cada uno de los valores dentro del método *format*."
   ]
  },
  {
   "cell_type": "code",
   "execution_count": 12,
   "metadata": {},
   "outputs": [
    {
     "name": "stdout",
     "output_type": "stream",
     "text": [
      "Los tres primeros numeros: 1, 2 y 3\n"
     ]
    }
   ],
   "source": [
    "print(\"Los tres primeros numeros: {}, {} y {}\".format(1,2,3))"
   ]
  },
  {
   "cell_type": "markdown",
   "metadata": {},
   "source": [
    "Su puede utilizar un parametro posicional {i}, donde i = 0, 1, 2, ... para no redundar en los datos dentro de format:"
   ]
  },
  {
   "cell_type": "code",
   "execution_count": 13,
   "metadata": {},
   "outputs": [
    {
     "name": "stdout",
     "output_type": "stream",
     "text": [
      "1, 2 y 3 en inverso con 3, 2 y 1\n"
     ]
    }
   ],
   "source": [
    "print(\"{0}, {1} y {2} en inverso con {2}, {1} y {0}\".format(1,2,3))"
   ]
  },
  {
   "cell_type": "markdown",
   "metadata": {},
   "source": [
    "Asi tambien, se puede especificar el formato de los números a imprimir:"
   ]
  },
  {
   "cell_type": "code",
   "execution_count": null,
   "metadata": {},
   "outputs": [],
   "source": [
    "print(\"Art: {0:5d} Precio: {1:8.2f}\".format(345,120.50))"
   ]
  },
  {
   "cell_type": "markdown",
   "metadata": {},
   "source": [
    "{0:5d} imprime el primer valor como entero en un espacio de 5 caracteres,\n",
    "{1:8.2f} imprime el segundo valor como flotante en un espacio de 8 caracteres, donde se reservan los 2 ultimos para decimales"
   ]
  },
  {
   "cell_type": "markdown",
   "metadata": {},
   "source": [
    "## Ejercicios"
   ]
  },
  {
   "cell_type": "markdown",
   "metadata": {},
   "source": [
    "Complete el bloque de código para que muestre el texto\n",
    "\n",
    "\"*nombre*, la ID = 087252 ingresada no es valida. Error = -1\""
   ]
  },
  {
   "cell_type": "code",
   "execution_count": 21,
   "metadata": {},
   "outputs": [
    {
     "name": "stdout",
     "output_type": "stream",
     "text": [
      "Elvis, la ID = 087252 ingresada no es valida. Error = -1\n"
     ]
    }
   ],
   "source": [
    "nombre = \"Elvis\"\n",
    "identidad = \"087252\"\n",
    "print(\"{}, la ID = {} ingresada no es valida. Error = -1\".format(nombre,identidad))"
   ]
  },
  {
   "cell_type": "markdown",
   "metadata": {},
   "source": [
    "Modifique el bloque de código para que se muestren las operaciones de suma, resta, multiplicacion y division de dos variables p y q, utilizando el metodo *format*"
   ]
  },
  {
   "cell_type": "code",
   "execution_count": 22,
   "metadata": {},
   "outputs": [
    {
     "name": "stdout",
     "output_type": "stream",
     "text": [
      "valor p + valor q = 13.60\n",
      "valor p - valor q =  2.40\n",
      "valor p * valor q = 44.80\n",
      "valor p / valor q =  1.43\n"
     ]
    }
   ],
   "source": [
    "p = 8\n",
    "q = 5.6\n",
    "print(\"valor p + valor q = {:5.2f}\".format(p+q))   #\"valor p + valor q = p + q\"\n",
    "print(\"valor p - valor q = {:5.2f}\".format(p-q))   #\"valor p - valor q = p - q\"\n",
    "print(\"valor p * valor q = {:5.2f}\".format(p*q))   #\"valor p * valor q = p * q\"\n",
    "print(\"valor p / valor q = {:5.2f}\".format(p/q))   #\"valor p / valor q = p / q\""
   ]
  },
  {
   "cell_type": "markdown",
   "metadata": {},
   "source": [
    "### Entrada de datos\n",
    "Para ingresar datos y cargarlos a una variable, se utiliza la función *input*"
   ]
  },
  {
   "cell_type": "code",
   "execution_count": 23,
   "metadata": {},
   "outputs": [
    {
     "name": "stdout",
     "output_type": "stream",
     "text": [
      "Ingrese su nombre: ...\n",
      "Hola ...\n"
     ]
    }
   ],
   "source": [
    "nombre = input(\"Ingrese su nombre: \")\n",
    "print(\"Hola\", nombre)"
   ]
  },
  {
   "cell_type": "markdown",
   "metadata": {},
   "source": [
    "Es importante notar que la función input retorna un valor str."
   ]
  },
  {
   "cell_type": "code",
   "execution_count": 26,
   "metadata": {},
   "outputs": [
    {
     "name": "stdout",
     "output_type": "stream",
     "text": [
      "Ingrese un numero: 12\n",
      "Ingrese otro numero: 10\n",
      "12 + 10 = 1210\n"
     ]
    }
   ],
   "source": [
    "num1 = input(\"Ingrese un numero: \")\n",
    "num2 = input(\"Ingrese otro numero: \")\n",
    "print(\"{} + {} = {}\".format(num1, num2, num1 + num2))"
   ]
  },
  {
   "cell_type": "markdown",
   "metadata": {},
   "source": [
    "Si lo que se espera es ingresar datos numéricos se deben de utilizar las funciones de conversión de datos:"
   ]
  },
  {
   "cell_type": "code",
   "execution_count": 27,
   "metadata": {},
   "outputs": [
    {
     "name": "stdout",
     "output_type": "stream",
     "text": [
      "Ingrese un numero: 4\n",
      "Ingrese otro numero: 58\n",
      "4 + 58 = 62\n"
     ]
    }
   ],
   "source": [
    "num1 = int(input(\"Ingrese un numero: \"))\n",
    "num2 = int(input(\"Ingrese otro numero: \"))\n",
    "print(\"{} + {} = {}\".format(num1, num2, num1 + num2))"
   ]
  },
  {
   "cell_type": "markdown",
   "metadata": {},
   "source": [
    "Se puede utilizar el función split() para pedir varios valores en un mismo input y almacenarlos en diferentes variables."
   ]
  },
  {
   "cell_type": "code",
   "execution_count": 28,
   "metadata": {},
   "outputs": [
    {
     "name": "stdout",
     "output_type": "stream",
     "text": [
      "Ingrese dos numeros: 846 68\n",
      "846\n",
      "68\n"
     ]
    }
   ],
   "source": [
    "num1, num2 = input(\"Ingrese dos numeros: \").split()\n",
    "print(num1)\n",
    "print(num2)"
   ]
  },
  {
   "cell_type": "markdown",
   "metadata": {},
   "source": [
    "### Ejercicios\n",
    "Complete el bloque de codigo para que el programa pida al usuario que ingrese su nombre en el formato Nombre Apellido e imprima el texto \"Bienvenido Apellido, Nombre\"\n",
    "\n",
    "    Ingrese su nombre: Elmer Curio\n",
    "    Bienvenido Curio, Elmer"
   ]
  },
  {
   "cell_type": "code",
   "execution_count": 29,
   "metadata": {},
   "outputs": [
    {
     "name": "stdout",
     "output_type": "stream",
     "text": [
      "Enter your name: last name\n",
      "last\n",
      "name\n"
     ]
    }
   ],
   "source": [
    "name,last_name=input(\"Enter your name: \").split()\n",
    "print(name,last_name,sep=\"\\n\")"
   ]
  },
  {
   "cell_type": "markdown",
   "metadata": {},
   "source": [
    "Escriba un programa que pida al usuario que ingrese dos numeros en una sola línea y luego muestre los resultados de todas las operaciones aritméticas:\n",
    "\n",
    "    Ingrese dos numeros : 5 2\n",
    "    \n",
    "    5 + 2 = 7\n",
    "    5 - 2 = 3\n",
    "    5 * 2 = 10\n",
    "    5 / 2 = 2.5\n",
    "    5 % 2 = 1"
   ]
  },
  {
   "cell_type": "code",
   "execution_count": 34,
   "metadata": {},
   "outputs": [
    {
     "name": "stdout",
     "output_type": "stream",
     "text": [
      "Ingrese dos numeros: 57 7\n",
      "\n",
      "\n",
      "57.0 + 7.0 = 64.0\n",
      "57.0 - 7.0 = 50.0\n",
      "57.0 * 7.0 = 399.0\n",
      "57.0 / 7.0 = 8.1\n",
      "57.0 % 7.0 = 1.0\n"
     ]
    }
   ],
   "source": [
    "num1,num2=input(\"Ingrese dos numeros: \").split()\n",
    "\n",
    "num1=float(num1)\n",
    "num2=float(num2)\n",
    "\n",
    "print(\"\\n\")\n",
    "print(\"{} + {} = {:.1f}\".format(num1,num2,num1+num2) )\n",
    "print(\"{} - {} = {:.1f}\".format(num1,num2,num1-num2) )\n",
    "print(\"{} * {} = {:.1f}\".format(num1,num2,num1*num2) )\n",
    "print(\"{} / {} = {:.1f}\".format(num1,num2,num1/num2) )\n",
    "print(\"{} % {} = {:.1f}\".format(num1,num2,(num1%num2) ))"
   ]
  },
  {
   "cell_type": "code",
   "execution_count": null,
   "metadata": {},
   "outputs": [],
   "source": []
  }
 ],
 "metadata": {
  "kernelspec": {
   "display_name": "Python 3",
   "language": "python",
   "name": "python3"
  },
  "language_info": {
   "codemirror_mode": {
    "name": "ipython",
    "version": 3
   },
   "file_extension": ".py",
   "mimetype": "text/x-python",
   "name": "python",
   "nbconvert_exporter": "python",
   "pygments_lexer": "ipython3",
   "version": "3.7.6"
  }
 },
 "nbformat": 4,
 "nbformat_minor": 2
}
