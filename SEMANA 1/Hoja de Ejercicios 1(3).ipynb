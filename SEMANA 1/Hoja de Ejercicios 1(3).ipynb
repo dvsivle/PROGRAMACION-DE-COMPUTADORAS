{
 "cells": [
  {
   "cell_type": "markdown",
   "metadata": {},
   "source": [
    "# Hoja de Ejercicios 1"
   ]
  },
  {
   "cell_type": "markdown",
   "metadata": {},
   "source": [
    "**Ejercicio 1**\n",
    "\n",
    "Se pide un prestamo a una tasa *p* anual. El monto inicial *A* crece a un ritmo de\n",
    "\n",
    "$$A(1+\\frac{p}{100})^{n}$$\n",
    "\n",
    "luego de *n* años. Escriba un programa que calcule cuanto dinero se tendrá con un monto inicial, una tasa de interes anual y un periodo de tiempo.\n",
    "\n",
    "    Ingrese el monto inicial: 1000\n",
    "    Ingrese la tasa de interes (%): 5\n",
    "    Ingrese la duracion del prestamo (años): 3\n",
    "\n",
    "    Con un monto inicial de 1000 soles a una tasa de 1.3% durante 3 años, se tendra 1039.51 soles"
   ]
  },
  {
   "cell_type": "code",
   "execution_count": 2,
   "metadata": {},
   "outputs": [
    {
     "name": "stdout",
     "output_type": "stream",
     "text": [
      "Ingrese el monto inicial:1000\n",
      "Ingrese la tasa de interes (%):5\n",
      "Ingrese la duracion del prestamo (años):3\n",
      "\n",
      "\n",
      "Con un monto inicial de 1000.00 soles a una tasa de 5.00% durante 3 años, se tendra 1157.63 soles\n"
     ]
    }
   ],
   "source": [
    "# (Shift + Enter para ejecutar) o clic en Run\n",
    "# Se ingresa el monto inicial\n",
    "A = float(input(\"Ingrese el monto inicial:\"))\n",
    "# Se ingresa la tasa de interes anual\n",
    "p = float(input(\"Ingrese la tasa de interes (%):\"))\n",
    "# Se ingresa la duracion del prestamo\n",
    "n = int(input(\"Ingrese la duracion del prestamo (años):\"))\n",
    "\n",
    "monto_final = A*(1 + p/100)**n\n",
    "\n",
    "print(\"\\n\\nCon un monto inicial de {0:.2f} soles a una tasa de {1:.2f} % durante 3 años, se tendra {2:.2f} soles\".format(A,p,monto_final))"
   ]
  },
  {
   "cell_type": "markdown",
   "metadata": {},
   "source": [
    "**Ejercicio 2**\n",
    "\n",
    "Escriba un programa que pida al usuario un numero binario de 4 bits y muestre su equivalente decimal. Cada bit debe ser ingresado linea por linea, empezando por el del extremo izquierdo)\n",
    "\n",
    "    Ingrese el bit b0: 1\n",
    "    Ingrese el bit b1: 0\n",
    "    Ingrese el bit b2: 0\n",
    "    Ingrese el bit b3: 1\n",
    "    El valor es 9"
   ]
  },
  {
   "cell_type": "code",
   "execution_count": 6,
   "metadata": {},
   "outputs": [
    {
     "name": "stdout",
     "output_type": "stream",
     "text": [
      "Ingrese el bit b0: 1\n",
      "Ingrese el bit b1: 0\n",
      "Ingrese el bit b2: 0\n",
      "Ingrese el bit b3: 1\n",
      "El valor es 9\n"
     ]
    }
   ],
   "source": [
    "# Escriba su programa aqui\n",
    "b0=input(\"Ingrese el bit b0: \")\n",
    "b1=input(\"Ingrese el bit b1: \")\n",
    "b2=input(\"Ingrese el bit b2: \")\n",
    "b3=input(\"Ingrese el bit b3: \")\n",
    "cad_binario=b0+b1+b2+b3\n",
    "entero=int(cad_binario,base=2)\n",
    "\n",
    "print(\"El valor es\",entero)\n"
   ]
  },
  {
   "cell_type": "markdown",
   "metadata": {},
   "source": [
    "**Ejercicio 3**\n",
    "\n",
    "Se ha calculado que todos los años millones de usuarios suben 80PB (Petabytes, 10^15) de videos a YouTube. Las tasas de velocidad de Internet actualmente se miden en millones de bits por segundo (por ejemplo, 10Mbps). Recuerde que 1 Byte esta formado por 8 bits.\n",
    "\n",
    "Escriba un programa que pida la velocidad de conexion que posee y retorne la cantidad de tiempo que demorarías en descargar todos los videos de YouTube subidos en un año. ¿Que unidad de tiempo sera la mas adecuada? ¿Minutos? ¿Horas? ¿Dias? ¿Otros?\n",
    "\n",
    "Tal vez sea mas conveniente que la oferta TheYouTube Collection: https://www.youtube.com/watch?v=Y_UmWdcTrrc&feature=etp-pd-rwd"
   ]
  },
  {
   "cell_type": "code",
   "execution_count": 5,
   "metadata": {},
   "outputs": [
    {
     "name": "stdout",
     "output_type": "stream",
     "text": [
      "Cual es la velocidad de conexión a internet que posee (Mbps): 60\n",
      "Usted tardaría 338.24 años en descargar todos los videos subidos a YOUTUBE durante un año\n"
     ]
    }
   ],
   "source": [
    "# Escriba su programa aqui\n",
    "import math\n",
    "a=int(input(\"Cual es la velocidad de conexión a internet que posee (Mbps): \"))\n",
    "\n",
    "b=(8*80*math.pow(10,15))/(math.pow(10,6)) #cantidad de informacion de videos de youtube en millones de bits\n",
    "bits_dia=a*60*60*24*365\n",
    "tiempo=b/bits_dia\n",
    "print(\"Usted tardaría {:.2f} años en descargar todos los videos subidos a YOUTUBE durante un año\".format(tiempo))\n",
    "\n"
   ]
  },
  {
   "cell_type": "markdown",
   "metadata": {},
   "source": [
    "**Ejercicio 4**\n",
    "\n",
    "Escriba un programa que pida sus datos personales asi como del curso, para calcular notas. Se muestra un ejemplo:\n",
    "\n",
    "    Ingrese su nombre: Armando Puertas\n",
    "    Ingrese su codigo: 201611132\n",
    " \n",
    "    Ingrese sus notas:\n",
    "       Practica 1: 12\n",
    "       Practica 2: 10\n",
    "       Practica 3: 13\n",
    "       \n",
    "    Alumno: Puertas, Armando (Codigo 201611132)\n",
    "    Promedio de practicas: 11.7"
   ]
  },
  {
   "cell_type": "code",
   "execution_count": 14,
   "metadata": {},
   "outputs": [
    {
     "name": "stdout",
     "output_type": "stream",
     "text": [
      "Ingrese su nombre: Elvis De la torre\n",
      "Ingrese su código: 201822520\n",
      "\n",
      "Ingrese sus notas:\n",
      "Práctica 1: 14\n",
      "Práctica 2: 15\n",
      "Práctica 3: 14\n",
      "\n",
      "\n",
      "\n",
      "Alumno: De la torre, Elvis (codigo 201822520) \n",
      "Promedio de prácticas: 14.3\n"
     ]
    }
   ],
   "source": [
    "# Escriba su programa aqui\n",
    "nombre=input(\"Ingrese su nombre: \")\n",
    "codigo=input(\"Ingrese su código: \")\n",
    "\n",
    "print(\"\\nIngrese sus notas:\")\n",
    "P1=int(input(\"Práctica 1: \"))\n",
    "P2=int(input(\"Práctica 2: \"))\n",
    "P3=int(input(\"Práctica 3: \"))\n",
    "\n",
    "promedio=(P1+P2+P3)/3\n",
    "a=nombre.find(\" \")\n",
    "c=len(nombre)\n",
    "print(\"\\n\\n\")\n",
    "print(\"Alumno: {0}, {1} (codigo {2}) \".format(nombre[a+1:c],nombre[0:a],codigo ))\n",
    "print(\"Promedio de prácticas: {:.1f}\".format(promedio))"
   ]
  },
  {
   "cell_type": "markdown",
   "metadata": {},
   "source": [
    "**Ejercicio 5**\n",
    "\n",
    "Desarrolle y pruebe un programa en Python que determine cuantas imagenes se pueden almacenar en una unidad USB. La capacidad de una unidad USB debe ser ingresada por el usuario en gigabytes (GB). El numero de imagenes que pueden ser almacenadas debe ser calculado para formatos GIF, JPEG, PNG y TIFF. La salida del programa debe ser como se muestra:\n",
    "\n",
    "    Ingrese la capacidad del USB (GB): 4\n",
    "    \n",
    "    Capacidad segun formato:\n",
    "    =======================\n",
    "    xxxxx imagenes en formato GIF\n",
    "    xxxxx imagenes en formato JPEG\n",
    "    xxxxx imagenes en formato PNG\n",
    "    xxxxx imagenes en formato TIFF\n",
    "    \n",
    "El tamaño final de una imagen dependera no solo del formato de la imagen, sino también del tamaño de esta. Además, el formato JPEG, por ejemplo, permite escojer entre distintas tasas de compresión. Para este programa, se asumirá que la tasa de compresión de una imagen será segun la informacion indicada en la tabla. Así también asuma que todas las imagenes a almacenar tendrán una resolución de 800 x 600 pixeles.\n",
    "\n",
    "Asi, por ejemplo, una imagen de 800 x 600 de resolución con una profundidad de color de 16-bits (2 bytes), el numero total de bytes sera de 800 x 600 x 2 = 960,000. Para una tasa de compresión de 25:1, el numero total de bytes necesarios para almacenar una imagen sera de 960,000 / 25 = 38,400\n",
    "\n",
    "Finalmente, asuma que un GB (gigabyte) es igual a 1,000,000,000 byes.\n",
    "\n",
    "| Formato | Nombre Completo                  | Colores       | Profundidad | Compresion |\n",
    "|---------|----------------------------------|---------------|-------------|------------|\n",
    "| GIF     | Graphics Interchange Format      | 256           | 8 bits      | 5:1        |\n",
    "| JPEG    | Joint Photographic Experts Group | 16 millones   | 24 bits     | 25:1       |\n",
    "| PNG     | Portable Network Graphics        | 16 millones   | 24bits      | 8:1        |\n",
    "| TIFF    | Tagged Image File Format         | 280 trillones | 48 bits     | n/a        |"
   ]
  },
  {
   "cell_type": "code",
   "execution_count": 17,
   "metadata": {},
   "outputs": [
    {
     "name": "stdout",
     "output_type": "stream",
     "text": [
      "Ingrese la capacidad del USB (GB): 5\n",
      "Capacidad segun formato:\n",
      "========================\n",
      "97656250 imagenes en formato GIF\n",
      "1953 imagenes en formato JPEG\n",
      "625 imagenes en formato PNG\n",
      "0 imagenes en formato TIFF\n"
     ]
    }
   ],
   "source": [
    "# Escriba su programa aqui\n",
    "import math\n",
    "a=int(input(\"Ingrese la capacidad del USB (GB): \"))\n",
    "cap=a*(pow(10,9))\n",
    "\n",
    "gif= cap/((256*1)/5)\n",
    "jpeg= cap/((pow(10,6)*16*4)/25)\n",
    "png= cap/((pow(10,6)*16*4)/8)\n",
    "tiff= cap/(pow(10,12)*280*6)\n",
    "\n",
    "\n",
    "\n",
    "print(\"Capacidad segun formato:\")\n",
    "print(\"========================\")\n",
    "\n",
    "print(\"{:.0f} imagenes en formato GIF\".format(gif))\n",
    "print(\"{:.0f} imagenes en formato JPEG\".format(jpeg))\n",
    "print(\"{:.0f} imagenes en formato PNG\".format(png))\n",
    "print(\"{:.0f} imagenes en formato TIFF\".format(tiff))\n",
    "\n"
   ]
  },
  {
   "cell_type": "code",
   "execution_count": null,
   "metadata": {},
   "outputs": [],
   "source": []
  }
 ],
 "metadata": {
  "kernelspec": {
   "display_name": "Python 3",
   "language": "python",
   "name": "python3"
  },
  "language_info": {
   "codemirror_mode": {
    "name": "ipython",
    "version": 3
   },
   "file_extension": ".py",
   "mimetype": "text/x-python",
   "name": "python",
   "nbconvert_exporter": "python",
   "pygments_lexer": "ipython3",
   "version": "3.7.6"
  }
 },
 "nbformat": 4,
 "nbformat_minor": 2
}
