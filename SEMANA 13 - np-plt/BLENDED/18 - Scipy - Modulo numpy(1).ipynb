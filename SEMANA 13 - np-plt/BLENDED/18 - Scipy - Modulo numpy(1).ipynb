{
 "cells": [
  {
   "cell_type": "markdown",
   "metadata": {},
   "source": [
    "# Modulo numpy\n",
    "El modulo numpy es parte del paquete de Python scipy, que permite agregar al lenguaje de programación capacidades de calculo científico, incluyendo un objeto nuevo: el arreglo."
   ]
  },
  {
   "cell_type": "code",
   "execution_count": 5,
   "metadata": {},
   "outputs": [],
   "source": [
    "#Numpy es el acronimo de 'Numeric Python'. Es una extension de codigo abierto de\n",
    "#Python que permite ejecutar rutinas matemáticas avanzadas precompiladas.\n",
    "                 \n",
    "#Las ventajas de Python con Numpy:\n",
    "#    - Computación orientada al arreglo\n",
    "#    - Implementación eficiente de arreglos multidimensionales\n",
    "#    - Diseñada para la computación científica"
   ]
  },
  {
   "cell_type": "code",
   "execution_count": 2,
   "metadata": {},
   "outputs": [],
   "source": [
    "import numpy as np"
   ]
  },
  {
   "cell_type": "markdown",
   "metadata": {},
   "source": [
    "## Arreglos unidimensionales (vectores)\n",
    "Se define un arreglo simple con una lista"
   ]
  },
  {
   "cell_type": "code",
   "execution_count": 8,
   "metadata": {},
   "outputs": [
    {
     "name": "stdout",
     "output_type": "stream",
     "text": [
      "<class 'numpy.ndarray'>\n",
      "Array a =  [0 1 2 3 4 5 6 7 8 9]\n"
     ]
    }
   ],
   "source": [
    "# El arreglo a a partir de una lista\n",
    "a = np.array([0, 1, 2, 3, 4, 5, 6, 7, 8, 9,])\n",
    "# Se verifica que no es una lista sino un arreglo\n",
    "print(type(a))\n",
    "# Se imprime el contenido del arreglo\n",
    "print(\"Array a = \",a)"
   ]
  },
  {
   "cell_type": "markdown",
   "metadata": {},
   "source": [
    "Se puede acceder a los elementos de un arreglo como si fuera una lista *[inicio:fin:paso]*  *por defecto[0:end-1:1]*"
   ]
  },
  {
   "cell_type": "code",
   "execution_count": 9,
   "metadata": {},
   "outputs": [
    {
     "name": "stdout",
     "output_type": "stream",
     "text": [
      "Primer elemento: 0\n",
      "Ultimo elemento: 9\n",
      "Tres primeros elementos: [0 1 2]\n",
      "Dos ultimos elementos: [8 9]\n",
      "Elementos de indice par: [1 3 5 7]\n",
      "Del elemento 2do al 4to: [1 2 3]\n"
     ]
    }
   ],
   "source": [
    "print(\"Primer elemento:\", a[0])\n",
    "print(\"Ultimo elemento:\", a[-1])\n",
    "print(\"Tres primeros elementos:\", a[:3])\n",
    "print(\"Dos ultimos elementos:\", a[-2:])\n",
    "print(\"Elementos de indice par:\", a[1:-1:2])\n",
    "print(\"Del elemento 2do al 4to:\", a[1:4])"
   ]
  },
  {
   "cell_type": "markdown",
   "metadata": {},
   "source": [
    "Se pueden examinar los elementos de un arreglo"
   ]
  },
  {
   "cell_type": "code",
   "execution_count": 12,
   "metadata": {},
   "outputs": [
    {
     "name": "stdout",
     "output_type": "stream",
     "text": [
      "[list([0, 1, 2, 3, 4, 5, 6, 7, 8, 9]) list([1, 2, 3, 5, 6, 7, 8, 9, 10])]\n",
      "Tamaño del arreglo: 2\n",
      "Dimensiones del arreglo: (2,)\n",
      "Tipo de datos: object\n",
      "Cantidad de memoria por dato (bytes): 8\n",
      "Memoria total (bytes): 16\n"
     ]
    }
   ],
   "source": [
    "a = np.array([[0, 1, 2, 3, 4, 5, 6, 7, 8, 9],[1,2,3,5,6,7,8,9,10]])\n",
    "print(a)\n",
    "print(\"Tamaño del arreglo:\", a.size)\n",
    "print(\"Dimensiones del arreglo:\", a.shape)\n",
    "print(\"Tipo de datos:\", a.dtype)\n",
    "print(\"Cantidad de memoria por dato (bytes):\", a.itemsize)\n",
    "print(\"Memoria total (bytes):\", a.size * a.itemsize)"
   ]
  },
  {
   "cell_type": "markdown",
   "metadata": {},
   "source": [
    "Otra forma de crear una lista es utilizando el método rango de numpy (np.arange)"
   ]
  },
  {
   "cell_type": "code",
   "execution_count": 3,
   "metadata": {},
   "outputs": [
    {
     "name": "stdout",
     "output_type": "stream",
     "text": [
      "np.arrange(10) = [0. 1. 2. 3. 4. 5. 6. 7. 8. 9.]\n",
      "np.arrange(1,10) = [1 2 3 4 5 6 7 8 9]\n",
      "np.arrange(1,10,2) = [1 3 5 7 9]\n",
      "np.arrange(10,0,-1) = [10  9  8  7  6  5  4  3  2  1]\n",
      "np.arrange(1,10,0.5) = [1.  1.5 2.  2.5 3.  3.5 4.  4.5 5.  5.5 6.  6.5 7.  7.5 8.  8.5 9.  9.5]\n"
     ]
    }
   ],
   "source": [
    "a = np.arange(10,dtype=float)\n",
    "print(\"np.arrange(10) =\", a)\n",
    "a = np.arange(1,10)\n",
    "print(\"np.arrange(1,10) =\", a)\n",
    "a = np.arange(1,10,2)\n",
    "print(\"np.arrange(1,10,2) =\", a)\n",
    "a = np.arange(10, 0, -1)\n",
    "print(\"np.arrange(10,0,-1) =\", a)\n",
    "a = np.arange(1, 10, 0.5)\n",
    "print(\"np.arrange(1,10,0.5) =\", a)"
   ]
  },
  {
   "cell_type": "markdown",
   "metadata": {},
   "source": [
    "Por defecto, los datos de un array dependeran de los argumentos del método arange. En el ejemplo anterior los datos 1. 1.5 2. hacen referencia a 1.0 1.5 2.0, es decir, son float. Para especificar que se requiere que un valor sea de un tipo especifico se puede usar el atributo dtype"
   ]
  },
  {
   "cell_type": "code",
   "execution_count": 13,
   "metadata": {},
   "outputs": [
    {
     "name": "stdout",
     "output_type": "stream",
     "text": [
      "[1. 3. 5. 7. 9.]\n",
      "[1 3 5 7 9]\n"
     ]
    }
   ],
   "source": [
    "print(np.arange(1,10, 2, dtype=np.float64))\n",
    "print(np.arange(1,10, 2, dtype=np.int64))\n"
   ]
  },
  {
   "cell_type": "markdown",
   "metadata": {},
   "source": [
    "A veces es util generar N datos entre dos valores\n",
    "Esto se puede realizar con la método np.linspace(ini, fin, num_elementos)"
   ]
  },
  {
   "cell_type": "code",
   "execution_count": 15,
   "metadata": {},
   "outputs": [
    {
     "name": "stdout",
     "output_type": "stream",
     "text": [
      "np.linspace(0, 10, 5) = [ 0.   2.5  5.   7.5 10. ]\n",
      "np.linspace(10, 0, 5) = [10.   7.5  5.   2.5  0. ]\n"
     ]
    }
   ],
   "source": [
    "a = np.linspace(0, 10, 5)\n",
    "print(\"np.linspace(0, 10, 5) =\", a)\n",
    "a = np.linspace(10, 0, 5)\n",
    "print(\"np.linspace(10, 0, 5) =\", a)"
   ]
  },
  {
   "cell_type": "markdown",
   "metadata": {},
   "source": [
    "Si no se especifica el numero de elementos que se requieren en np.linspace, se generan 50 elementos:"
   ]
  },
  {
   "cell_type": "code",
   "execution_count": 20,
   "metadata": {},
   "outputs": [
    {
     "name": "stdout",
     "output_type": "stream",
     "text": [
      "np.linspace(0, 10) = [ 0.          0.20408163  0.40816327  0.6122449   0.81632653  1.02040816\n",
      "  1.2244898   1.42857143  1.63265306  1.83673469  2.04081633  2.24489796\n",
      "  2.44897959  2.65306122  2.85714286  3.06122449  3.26530612  3.46938776\n",
      "  3.67346939  3.87755102  4.08163265  4.28571429  4.48979592  4.69387755\n",
      "  4.89795918  5.10204082  5.30612245  5.51020408  5.71428571  5.91836735\n",
      "  6.12244898  6.32653061  6.53061224  6.73469388  6.93877551  7.14285714\n",
      "  7.34693878  7.55102041  7.75510204  7.95918367  8.16326531  8.36734694\n",
      "  8.57142857  8.7755102   8.97959184  9.18367347  9.3877551   9.59183673\n",
      "  9.79591837 10.        ]\n",
      "\n",
      "Numero de elementos: 50\n"
     ]
    }
   ],
   "source": [
    "a = np.linspace(0, 10)\n",
    "print(\"np.linspace(0, 10) =\", a)\n",
    "print()\n",
    "print(\"Numero de elementos:\", np.size(a))"
   ]
  },
  {
   "cell_type": "markdown",
   "metadata": {},
   "source": [
    "Un arreglo tiene ciertos atributos:"
   ]
  },
  {
   "cell_type": "code",
   "execution_count": 19,
   "metadata": {},
   "outputs": [
    {
     "name": "stdout",
     "output_type": "stream",
     "text": [
      "a =  [ 0.          0.20408163  0.40816327  0.6122449   0.81632653  1.02040816\n",
      "  1.2244898   1.42857143  1.63265306  1.83673469  2.04081633  2.24489796\n",
      "  2.44897959  2.65306122  2.85714286  3.06122449  3.26530612  3.46938776\n",
      "  3.67346939  3.87755102  4.08163265  4.28571429  4.48979592  4.69387755\n",
      "  4.89795918  5.10204082  5.30612245  5.51020408  5.71428571  5.91836735\n",
      "  6.12244898  6.32653061  6.53061224  6.73469388  6.93877551  7.14285714\n",
      "  7.34693878  7.55102041  7.75510204  7.95918367  8.16326531  8.36734694\n",
      "  8.57142857  8.7755102   8.97959184  9.18367347  9.3877551   9.59183673\n",
      "  9.79591837 10.        ]\n",
      "Numero de elementos: 50\n",
      "Dimensiones: 1\n",
      "Forma del arreglo: (50,)\n"
     ]
    }
   ],
   "source": [
    "print(\"a = \", a)\n",
    "print(\"Numero de elementos:\", np.size(a))   \n",
    "print(\"Dimensiones:\",np.ndim(a))\n",
    "print(\"Forma del arreglo:\", np.shape(a))"
   ]
  },
  {
   "cell_type": "markdown",
   "metadata": {},
   "source": [
    "Se observa que el método np.linspace() incluye en el arreglo generado el número final, lo que lo distinge de np.arange(). Se puede ajustar esto de forma que no incluya el valor final:"
   ]
  },
  {
   "cell_type": "code",
   "execution_count": 31,
   "metadata": {
    "scrolled": true
   },
   "outputs": [
    {
     "name": "stdout",
     "output_type": "stream",
     "text": [
      "[0.  0.2 0.4 0.6 0.8 1.  1.2 1.4 1.6 1.8 2.  2.2 2.4 2.6 2.8 3.  3.2 3.4\n",
      " 3.6 3.8 4.  4.2 4.4 4.6 4.8 5.  5.2 5.4 5.6 5.8 6.  6.2 6.4 6.6 6.8 7.\n",
      " 7.2 7.4 7.6 7.8 8.  8.2 8.4 8.6 8.8 9.  9.2 9.4 9.6 9.8]\n",
      "50\n"
     ]
    }
   ],
   "source": [
    "a = np.linspace(0, 10,endpoint=False)\n",
    "print(a)\n",
    "print(np.size(a))"
   ]
  },
  {
   "cell_type": "markdown",
   "metadata": {},
   "source": [
    "Por que son importantes los arreglos? Por que se puede hacer con ellos operaciones de elemento-a-elemento"
   ]
  },
  {
   "cell_type": "code",
   "execution_count": 21,
   "metadata": {},
   "outputs": [
    {
     "name": "stdout",
     "output_type": "stream",
     "text": [
      "[0, 1, 4, 9, 16, 25, 36, 49, 64, 81, 100]\n",
      "[  0   1   4   9  16  25  36  49  64  81 100]\n",
      "3.8 ms ± 227 µs per loop (mean ± std. dev. of 7 runs, 100 loops each)\n",
      "721 ns ± 29.1 ns per loop (mean ± std. dev. of 7 runs, 1000000 loops each)\n"
     ]
    }
   ],
   "source": [
    "lista = range(11)\n",
    "arreglo = np.arange(11)\n",
    "\n",
    "'''\n",
    "for numero in lista\n",
    "    print(numero**2)\n",
    "'''\n",
    "\n",
    "print(list(map(lambda x: x**2, lista)))\n",
    "print(arreglo**2)\n",
    "\n",
    "# LAS FUNCIONES MAGICAS SON FUNCIONES QUE SOLO FUNCIONAN EN JUPYTER!!!!\n",
    "# Utilicemos una \"funcion magica\" de Python para calcular las diferencias de tiempo de ejecución\n",
    "# en un cálculo mas demandante\n",
    "lista = range(10000)\n",
    "%timeit [i**2 for i in lista]\n",
    "\n",
    "arreglo = np.array(1000)\n",
    "%timeit arreglo**2"
   ]
  },
  {
   "cell_type": "markdown",
   "metadata": {},
   "source": [
    "## Arreglos bidimensionales (matrices)\n",
    "Se pueden crear arreglos bidimensionales"
   ]
  },
  {
   "cell_type": "code",
   "execution_count": 22,
   "metadata": {},
   "outputs": [
    {
     "name": "stdout",
     "output_type": "stream",
     "text": [
      "[[1 2 3]\n",
      " [4 5 6]]\n",
      "Numero de elementos (mal): 2\n",
      "Numero de elementos: 6\n",
      "Dimensiones: 2\n",
      "Forma del arreglo: (2, 3)\n"
     ]
    }
   ],
   "source": [
    "matriz = np.array([[1, 2, 3], [4, 5, 6]])\n",
    "print(matriz)\n",
    "print(\"Numero de elementos (mal):\", len(matriz))   # Esto esta mal!!!\n",
    "print(\"Numero de elementos:\", matriz.size)\n",
    "print(\"Dimensiones:\",np.ndim(matriz))\n",
    "print(\"Forma del arreglo:\", matriz.shape)"
   ]
  },
  {
   "cell_type": "markdown",
   "metadata": {},
   "source": [
    "¿Se pueden crear arreglos n-dimensionales? Si..."
   ]
  },
  {
   "cell_type": "code",
   "execution_count": 24,
   "metadata": {},
   "outputs": [
    {
     "name": "stdout",
     "output_type": "stream",
     "text": [
      "[[[1]\n",
      "  [2]]\n",
      "\n",
      " [[3]\n",
      "  [4]]]\n",
      "Numero de elementos: 4\n",
      "Dimensiones: 3\n",
      "Forma del arreglo: (2, 2, 1)\n"
     ]
    }
   ],
   "source": [
    "cubo = np.array([[[1], [2]], [[3], [4]]])\n",
    "print(cubo)\n",
    "print(\"Numero de elementos:\", cubo.size)\n",
    "print(\"Dimensiones:\",np.ndim(cubo))\n",
    "print(\"Forma del arreglo:\", cubo.shape)"
   ]
  },
  {
   "cell_type": "markdown",
   "metadata": {},
   "source": [
    "Existen arreglos especiales que son de uso práctico en Algebra Lineal, por ejemplo:"
   ]
  },
  {
   "cell_type": "code",
   "execution_count": 25,
   "metadata": {},
   "outputs": [
    {
     "name": "stdout",
     "output_type": "stream",
     "text": [
      "np.ones((3, 3)) =\n",
      "[[1. 1. 1.]\n",
      " [1. 1. 1.]\n",
      " [1. 1. 1.]]\n",
      "\n",
      "np.zeros((3, 3)) =\n",
      "[[0. 0. 0.]\n",
      " [0. 0. 0.]\n",
      " [0. 0. 0.]]\n",
      "\n",
      "np.eye(5)=\n",
      "[[1. 0. 0. 0. 0.]\n",
      " [0. 1. 0. 0. 0.]\n",
      " [0. 0. 1. 0. 0.]\n",
      " [0. 0. 0. 1. 0.]\n",
      " [0. 0. 0. 0. 1.]]\n",
      "\n",
      "np.diag([1, 2, 3, 4, 5]) =\n",
      "[[1 0 0 0 0]\n",
      " [0 2 0 0 0]\n",
      " [0 0 3 0 0]\n",
      " [0 0 0 4 0]\n",
      " [0 0 0 0 5]]\n",
      "\n"
     ]
    }
   ],
   "source": [
    "# Arreglo de 1s\n",
    "a = np.ones((3, 3))\n",
    "print(\"np.ones((3, 3)) =\")\n",
    "print(a)\n",
    "print()\n",
    "# Arreglo de 0s\n",
    "a = np.zeros((3, 3))\n",
    "print(\"np.zeros((3, 3)) =\")\n",
    "print(a)\n",
    "print()\n",
    "# Arreglo Identidad\n",
    "a = np.eye(5)\n",
    "print(\"np.eye(5)=\")\n",
    "print(a)\n",
    "print()\n",
    "# Arreglo con una diagonal definida\n",
    "a = np.diag(([1, 2, 3, 4, 5]))\n",
    "print(\"np.diag([1, 2, 3, 4, 5]) =\")\n",
    "print(a)\n",
    "print()"
   ]
  },
  {
   "cell_type": "markdown",
   "metadata": {},
   "source": [
    "Revisemos con mas detalle el tema de la seleccion de elementos respecto a sus indices (slicing) ya que en una matriz se tienen dos dimensiones"
   ]
  },
  {
   "cell_type": "code",
   "execution_count": 26,
   "metadata": {},
   "outputs": [
    {
     "name": "stdout",
     "output_type": "stream",
     "text": [
      "mat=\n",
      " [[ 0  1  2  3  4  5]\n",
      " [ 6  7  8  9 10 11]\n",
      " [12 13 14 15 16 17]\n",
      " [18 19 20 21 22 23]\n",
      " [24 25 26 27 28 29]\n",
      " [30 31 32 33 34 35]]\n",
      "\n",
      "mat[0,0] = 0\n",
      "\n",
      "mat[2,2] = 14\n",
      "\n",
      "mat[-1,-1] = 35\n",
      "\n",
      "mat[:,1] = [ 1  7 13 19 25 31]\n",
      "\n",
      "mat[2,:] = [12 13 14 15 16 17]\n",
      "\n",
      "mat[:,1:2] =\n",
      " [[ 1]\n",
      " [ 7]\n",
      " [13]\n",
      " [19]\n",
      " [25]\n",
      " [31]]\n",
      "\n",
      "mat[:,1:3] =\n",
      " [[ 1  2]\n",
      " [ 7  8]\n",
      " [13 14]\n",
      " [19 20]\n",
      " [25 26]\n",
      " [31 32]]\n",
      "\n"
     ]
    }
   ],
   "source": [
    "mat = np.arange(36).reshape((6, 6))    #np.reshape(array, (m, n)) -> array(m, n)\n",
    "print(\"mat=\\n\",mat); print()\n",
    "print(\"mat[0,0] =\", mat[0,0]); print()\n",
    "print(\"mat[2,2] =\", mat[2,2]); print()\n",
    "print(\"mat[-1,-1] =\", mat[-1,-1]); print()\n",
    "print(\"mat[:,1] =\", mat[:,1]); print()\n",
    "print(\"mat[2,:] =\", mat[2,:]); print()\n",
    "print(\"mat[:,1:2] =\\n\", mat[:,1:2]); print()\n",
    "print(\"mat[:,1:3] =\\n\", mat[:,1:3]); print()"
   ]
  },
  {
   "cell_type": "markdown",
   "metadata": {},
   "source": [
    "Utilizando slicing se pueden modificar los elementos de un arreglo"
   ]
  },
  {
   "cell_type": "code",
   "execution_count": 27,
   "metadata": {},
   "outputs": [
    {
     "name": "stdout",
     "output_type": "stream",
     "text": [
      "[[1 2 3]\n",
      " [4 5 6]\n",
      " [7 8 9]] \n",
      "\n",
      "[[10  2  3]\n",
      " [ 4  5  6]\n",
      " [ 7  8  9]] \n",
      "\n",
      "[[10  0  3]\n",
      " [ 4  0  6]\n",
      " [ 7  0  9]]\n"
     ]
    }
   ],
   "source": [
    "mat = np.array([[1, 2, 3],[4, 5, 6],[7, 8, 9]])\n",
    "print(mat,\"\\n\")\n",
    "# Se asigna 10 al elemento elemento en [0,0]\n",
    "mat[0, 0] = 10\n",
    "print(mat,\"\\n\")\n",
    "# Se asigna 0 a toda la segunda columna\n",
    "mat[:, 1] = 0\n",
    "print(mat)"
   ]
  },
  {
   "cell_type": "markdown",
   "metadata": {},
   "source": [
    "## Numeros aleatorios en numpy\n",
    "numpy incluye un generador de numeros aleatorios que retorna arreglos"
   ]
  },
  {
   "cell_type": "code",
   "execution_count": 28,
   "metadata": {},
   "outputs": [
    {
     "name": "stdout",
     "output_type": "stream",
     "text": [
      "[0.06595677 0.61853258 0.51410825 0.01827962]\n",
      "[ 0.97176133 -0.50081618 -0.7435887   1.52578224]\n",
      "[0 6 9 0 9]\n",
      "[3.21389389 0.12939589 9.78525277 9.44831936 3.23972328]\n",
      "[[0.23954119 0.11168622]]\n"
     ]
    }
   ],
   "source": [
    "a = np.random.rand(4)     # Retorna 4 valores uniformes [0.0 - 1.0>\n",
    "print(a)\n",
    "a = np.random.randn(4)    # Distribucion normal (gaussiana)\n",
    "print(a)\n",
    "a = np.random.randint(0, 10, 5)  # Retorna 5 valores enteros ente [0 - 9]\n",
    "print(a)\n",
    "a = np.random.uniform(0, 10, 5)  # Retorna 5 valores reales entre [0.0 - 9.9]\n",
    "print(a)\n",
    "a = np.random.random((1, 2))    # Retorna un arreglo de m,n con valores reales entre [0.0 - 1.0>\n",
    "print(a)\n",
    "#Formula para [a-b> : (b - a) * np.random.random(m,n) + a"
   ]
  },
  {
   "cell_type": "markdown",
   "metadata": {},
   "source": [
    "## Operaciones matemáticas en numpy\n",
    "numpy incluye muchas de las funciones matematicas disponibles en math, \n",
    "pero para ser aplicadas directamente sobre un arreglo"
   ]
  },
  {
   "cell_type": "code",
   "execution_count": 29,
   "metadata": {},
   "outputs": [
    {
     "name": "stdout",
     "output_type": "stream",
     "text": [
      "sin(x) = [ 2.44929360e-16  6.14212713e-01  9.69400266e-01  9.15773327e-01\n",
      "  4.75947393e-01 -1.64594590e-01 -7.35723911e-01 -9.96584493e-01\n",
      " -8.37166478e-01 -3.24699469e-01  3.24699469e-01  8.37166478e-01\n",
      "  9.96584493e-01  7.35723911e-01  1.64594590e-01 -4.75947393e-01\n",
      " -9.15773327e-01 -9.69400266e-01 -6.14212713e-01 -2.44929360e-16]\n",
      "\n",
      "exp(x)= [0.36787944 0.45942582 0.57375342 0.71653131 0.89483932 1.11751907\n",
      " 1.39561243 1.742909   2.17662993 2.71828183]\n",
      "\n",
      "ln(x)= [0.         0.09531018 0.18232156 0.26236426 0.33647224 0.40546511\n",
      " 0.47000363 0.53062825 0.58778666 0.64185389 0.69314718 0.74193734\n",
      " 0.78845736 0.83290912 0.87546874 0.91629073 0.95551145 0.99325177\n",
      " 1.02961942 1.06471074 1.09861229 1.13140211 1.16315081 1.19392247\n",
      " 1.22377543 1.25276297 1.28093385 1.30833282 1.33500107 1.36097655\n",
      " 1.38629436 1.41098697 1.43508453 1.45861502 1.48160454 1.5040774\n",
      " 1.5260563  1.54756251 1.56861592 1.58923521 1.60943791 1.62924054\n",
      " 1.64865863 1.66770682 1.68639895 1.70474809 1.7227666  1.74046617\n",
      " 1.75785792 1.77495235 1.79175947 1.80828877 1.82454929 1.84054963\n",
      " 1.85629799 1.87180218 1.88706965 1.90210753 1.91692261 1.93152141\n",
      " 1.94591015 1.96009478 1.97408103 1.98787435 2.00148    2.01490302\n",
      " 2.02814825 2.04122033 2.05412373 2.06686276 2.07944154 2.09186406\n",
      " 2.10413415 2.11625551 2.12823171 2.14006616 2.1517622  2.16332303\n",
      " 2.17475172 2.18605128 2.19722458 2.20827441 2.21920348 2.2300144\n",
      " 2.24070969 2.2512918  2.2617631  2.27212589 2.28238239 2.29253476]\n"
     ]
    }
   ],
   "source": [
    "ang = np.linspace(-2*np.pi, 2*np.pi, 20)\n",
    "y = np.sin(ang)\n",
    "print(\"sin(x) =\",y)\n",
    "# Valores de exp(x) para x [-1, 1]\n",
    "x = np.linspace(-1, 1, 10)\n",
    "y = np.exp(x)\n",
    "print(\"\\nexp(x)=\",y)\n",
    "# Valores de Ln(x) entre [1 - 10]\n",
    "x = np.arange(1, 10, 0.1)\n",
    "y = np.log(x + 10e-20)       # Para evitar la division entre 0!!!\n",
    "print(\"\\nln(x)=\", y)"
   ]
  },
  {
   "cell_type": "markdown",
   "metadata": {},
   "source": [
    "Asi también hay ciertas operaciones que requieren especificar el \"eje\" que afectara la operacion. Por ejemplo el método *np.sum, np.prod, np.cumsum, np.cumprod*, etc. El eje 0 es el eje de las columnas y el eje 1 es el de las filas. Se muestra un ejemplo con *np.sum*:"
   ]
  },
  {
   "cell_type": "code",
   "execution_count": 30,
   "metadata": {},
   "outputs": [
    {
     "name": "stdout",
     "output_type": "stream",
     "text": [
      "vec = [1 2 3 4 5]\n",
      "sum(vec) = 15\n",
      "\n",
      "mat =\n",
      " [[1 2 3]\n",
      " [4 5 6]\n",
      " [7 8 9]]\n",
      "sum(mat) =  45\n",
      "sum(mat, axis = 0) =  [12 15 18]\n",
      "sum(mat, axis = 1) =  [ 6 15 24]\n"
     ]
    }
   ],
   "source": [
    "vec = np.array([1, 2, 3, 4, 5])\n",
    "print(\"vec =\",vec)\n",
    "print(\"sum(vec) =\",np.sum(vec))\n",
    "print()\n",
    "\n",
    "mat = np.array([[1, 2, 3],[4, 5, 6],[7, 8, 9]])\n",
    "print(\"mat =\\n\", mat)\n",
    "print(\"sum(mat) = \", np.sum(mat))\n",
    "print(\"sum(mat, axis = 0) = \", np.sum(mat, axis=0))\n",
    "print(\"sum(mat, axis = 1) = \", np.sum(mat, axis=1))\n"
   ]
  },
  {
   "cell_type": "markdown",
   "metadata": {},
   "source": [
    "## Algebra Lineal con numpy\n",
    "Los arreglos de 2 dimensiones Matrices son especiales en ciencias e ingenieria para la solucion de ciertos problemas de algebra lineal. Es por eso que existe la clase especial matrix:"
   ]
  },
  {
   "cell_type": "code",
   "execution_count": 31,
   "metadata": {},
   "outputs": [
    {
     "name": "stdout",
     "output_type": "stream",
     "text": [
      "A_array -> <class 'numpy.ndarray'>\n",
      "A_matrix -> <class 'numpy.matrix'>\n",
      "\n",
      "A_array * B_array =\n",
      " [[ 55  10 -12]\n",
      " [  0  49   9]\n",
      " [ 36 100   0]]\n",
      "\n",
      "A_matrix * B_matrix =\n",
      " [[ 79  -1 -21]\n",
      " [ -7  84 -24]\n",
      " [ 66 -40  12]]\n"
     ]
    }
   ],
   "source": [
    "# Arreglos\n",
    "A_array = np.array([[5, 2,  4],[1, 7, -3],[6, -10, 0]])\n",
    "B_array = np.array([[11, 5,  -3],[0, 7, -3],[6, -10, 0]])\n",
    "\n",
    "# Matrices\n",
    "A_matrix = np.matrix(A_array)\n",
    "B_matrix = np.matrix(B_array)\n",
    "\n",
    "#Se imprimen los tipos\n",
    "print(\"A_array ->\", type(A_array))\n",
    "print(\"A_matrix ->\", type(A_matrix))\n",
    "\n",
    "# Se imprimen los productos de A * B\n",
    "# Seran diferentes ya que la operacion * sera elemento-a-elemento en arreglo y producto-punto en matrices\n",
    "print(\"\\nA_array * B_array =\\n\", A_array * B_array)\n",
    "print(\"\\nA_matrix * B_matrix =\\n\", A_matrix * B_matrix)"
   ]
  },
  {
   "cell_type": "markdown",
   "metadata": {},
   "source": [
    "En el caso de matrices hay algunos métodos (de la clase *\"linalg\"*) utiles:"
   ]
  },
  {
   "cell_type": "code",
   "execution_count": 32,
   "metadata": {},
   "outputs": [
    {
     "name": "stdout",
     "output_type": "stream",
     "text": [
      "\n",
      "A =\n",
      " [[1 2 3]\n",
      " [4 5 6]\n",
      " [7 8 9]]\n",
      "\n",
      "T(A) =\n",
      " [[1 4 7]\n",
      " [2 5 8]\n",
      " [3 6 9]]\n",
      "\n",
      "Inv(A) =\n",
      " [[ 3.15251974e+15 -6.30503948e+15  3.15251974e+15]\n",
      " [-6.30503948e+15  1.26100790e+16 -6.30503948e+15]\n",
      " [ 3.15251974e+15 -6.30503948e+15  3.15251974e+15]]\n",
      "\n",
      "det(A) =\n",
      " -9.51619735392994e-16\n"
     ]
    }
   ],
   "source": [
    "# Otra forma de definir una matriz (estilo MATLAB)\n",
    "A = np.matrix('1, 2, 3; 4, 5, 6; 7, 8, 9')\n",
    "print(\"\\nA =\\n\", A)\n",
    "# La transpuesta es un atributo de una matriz\n",
    "print(\"\\nT(A) =\\n\", A.T)\n",
    "# La inversa es un atributo de una matrix\n",
    "print(\"\\nInv(A) =\\n\", A.I)\n",
    "# El determinante de una matriz es un método\n",
    "print(\"\\ndet(A) =\\n\", np.linalg.det(A))"
   ]
  },
  {
   "cell_type": "markdown",
   "metadata": {},
   "source": [
    "Esto nos puede servir para resolver sistemas de ecuaciones simultaneas, operacion muy recurrente en ingeneria, utilizando la operacion matricial X = inv(A) * B"
   ]
  },
  {
   "cell_type": "code",
   "execution_count": 33,
   "metadata": {},
   "outputs": [
    {
     "name": "stdout",
     "output_type": "stream",
     "text": [
      "x = -1.8048780487804876\n",
      "y = 0.2926829268292683\n",
      "z = 2.6341463414634143\n"
     ]
    }
   ],
   "source": [
    "# 4x - 2y + 6z = 8\n",
    "# 2x + 8y + 2z = 4\n",
    "# 6x + 10y + 3z = 0\n",
    "A = np.matrix('4, -2, 6; 2, 8, 2; 6, 10, 3')\n",
    "B = np.matrix('8; 4; 0')\n",
    "X = A.I * B\n",
    "print(\"x =\", float(X[0]))\n",
    "print(\"y =\", float(X[1]))\n",
    "print(\"z =\", float(X[2]))"
   ]
  },
  {
   "cell_type": "markdown",
   "metadata": {},
   "source": [
    "## EJEMPLOS DE APLICACION\n",
    "### EJEMPLO 1\n",
    "Un proyectil se dispara con una velocidad de 750 m/s. Calcule la altura h que alcanza el proyectil si el angulo de lanzamiento Theta cambia de 5° a 85° en incrementos de 5°."
   ]
  },
  {
   "cell_type": "code",
   "execution_count": 34,
   "metadata": {},
   "outputs": [
    {
     "name": "stdout",
     "output_type": "stream",
     "text": [
      "angulo =  0.00°    alcance =     0.00m\n",
      "angulo =  5.00°    alcance =  9956.89m\n",
      "angulo = 10.00°    alcance = 19611.25m\n",
      "angulo = 15.00°    alcance = 28669.72m\n",
      "angulo = 20.00°    alcance = 36857.09m\n",
      "angulo = 25.00°    alcance = 43924.57m\n",
      "angulo = 30.00°    alcance = 49657.42m\n",
      "angulo = 35.00°    alcance = 53881.46m\n",
      "angulo = 40.00°    alcance = 56468.33m\n",
      "angulo = 45.00°    alcance = 57339.45m\n",
      "angulo = 50.00°    alcance = 56468.33m\n",
      "angulo = 55.00°    alcance = 53881.46m\n",
      "angulo = 60.00°    alcance = 49657.42m\n",
      "angulo = 65.00°    alcance = 43924.57m\n",
      "angulo = 70.00°    alcance = 36857.09m\n",
      "angulo = 75.00°    alcance = 28669.72m\n",
      "angulo = 80.00°    alcance = 19611.25m\n",
      "angulo = 85.00°    alcance =  9956.89m\n"
     ]
    }
   ],
   "source": [
    "import numpy as np\n",
    "# Variables inciales\n",
    "vel = 750; g = 9.81\n",
    "# Se genera el vector de angulos de lanzamiento\n",
    "ang = np.arange(0, 86, 5)\n",
    "# Se calcula el tiempo de vuelo para cada angulo\n",
    "hmax = vel**2 * np.sin(2*np.radians(ang)) / g\n",
    "# Se muestran los resultados\n",
    "for a, h in zip(ang, hmax):\n",
    "    print(\"angulo = {:5.2f}°    alcance = {:8.2f}m\".format(a, h))"
   ]
  },
  {
   "cell_type": "markdown",
   "metadata": {},
   "source": [
    "### EJEMPLO 2\n",
    "Para calcular el coeficiente de rozamiento se mide la fuerza necesaria para mover una masa en reposo\n",
    "segun la siguiente configuracion:\n",
    "\n",
    "                   ------------\n",
    "                  |            |\n",
    "                  |      m     |------->>> F\n",
    "                  |            |\n",
    "    ==============================================\n",
    "\n",
    "Se tienen los siguientes datos:\n",
    "    \n",
    "    Experimento      1     2     3      4      5     6\n",
    "    Masa (kg)        2     4     5     10     20    50\n",
    "    Fuerza (N)     12.5   23.5  30     61    118   294\n",
    "\n",
    "Cual sera el valor de mu experimental?"
   ]
  },
  {
   "cell_type": "code",
   "execution_count": 35,
   "metadata": {},
   "outputs": [
    {
     "name": "stdout",
     "output_type": "stream",
     "text": [
      "mu = 0.6117057424396874\n"
     ]
    }
   ],
   "source": [
    "import numpy as np\n",
    "\n",
    "g = 9.81\n",
    "m = np.array([2, 4, 5, 10, 20, 50])\n",
    "F = np.array([12.5, 23.5, 30, 61, 118, 294])\n",
    "mu = F / (m*g)\n",
    "mu_media = np.mean(mu)\n",
    "print(\"mu =\", mu_media)"
   ]
  },
  {
   "cell_type": "markdown",
   "metadata": {},
   "source": [
    "### EJEMPLO 3\n",
    "Una empresa fabrica botellas de jugos por galón con tres tipos de sabores combinados: naranja, piña y mango. Las combinaciones tienen  las siguientes combinaciones:\n",
    "\n",
    "- 1 galon de mezcla uno: 3 cuartos de naranja, 0.75 cuartos de piña y 0.25 quartos de mango\n",
    "- 1 galon de mezcla dos: 1 cuarto de naranja, 2.5 cuartos de piña y 0.5 quartos de mango\n",
    "- 1 galon de mezcla tres: 0.5 cuartos de naranja, 0.5 cuartos de piña y 3 quartos de mango\n",
    "\n",
    "¿Cuántos galones de cada mezcla pueden ser fabricados si 7,600 galones de jugo de naranja, 4,900 galones de piña y 3,500 galones de mango estan disponibles?"
   ]
  },
  {
   "cell_type": "code",
   "execution_count": 32,
   "metadata": {},
   "outputs": [
    {
     "name": "stdout",
     "output_type": "stream",
     "text": [
      "Galones de mezcla 1: 8000.0\n",
      "Galones de mezcla 2: 4800.0\n",
      "Galones de mezcla 3: 3200.0\n"
     ]
    }
   ],
   "source": [
    "# Sistema de ecuaciones\n",
    "# =====================\n",
    "# x = galones de mezcla 1\n",
    "# y = galones de mezcla 2\n",
    "# z = galones de mezcla 3\n",
    "#\n",
    "# (3/4)x    + (1/4)y    + (0.5/4)z  = 7600\n",
    "# (0.75/4)x + (2.5/4)y  + (0.5/4)z  = 4900\n",
    "# (0.25/4)x + (0.5/4)y  + (3/4)z    = 3500\n",
    "\n",
    "import numpy as np\n",
    "\n",
    "A = np.matrix('3, 1, 0.5; 0.75, 2.5, 0.5; 0.25, 0.5, 3') / 4\n",
    "B = np.matrix('7600; 4900; 3500');\n",
    "X = A.I * B\n",
    "\n",
    "print(\"Galones de mezcla 1: {:.1f}\".format(float(X[0])))\n",
    "print(\"Galones de mezcla 2: {:.1f}\".format(float(X[1])))\n",
    "print(\"Galones de mezcla 3: {:.1f}\".format(float(X[2])))"
   ]
  },
  {
   "cell_type": "code",
   "execution_count": 144,
   "metadata": {},
   "outputs": [],
   "source": [
    "a=np.arange(3,100,2)\n",
    "j=np.sqrt(a)\n",
    "j=np.uint(j)+1\n"
   ]
  },
  {
   "cell_type": "code",
   "execution_count": 145,
   "metadata": {},
   "outputs": [
    {
     "name": "stdout",
     "output_type": "stream",
     "text": [
      "[ 2  3  3  4  4  4  4  5  5  5  5  6  6  6  6  6  6  7  7  7  7  7  7  8\n",
      "  8  8  8  8  8  8  8  9  9  9  9  9  9  9  9 10 10 10 10 10 10 10 10 10\n",
      " 10]\n"
     ]
    }
   ],
   "source": [
    "print(j)"
   ]
  },
  {
   "cell_type": "code",
   "execution_count": 143,
   "metadata": {},
   "outputs": [
    {
     "data": {
      "text/plain": [
       "['ALLOW_THREADS',\n",
       " 'AxisError',\n",
       " 'BUFSIZE',\n",
       " 'CLIP',\n",
       " 'ComplexWarning',\n",
       " 'DataSource',\n",
       " 'ERR_CALL',\n",
       " 'ERR_DEFAULT',\n",
       " 'ERR_IGNORE',\n",
       " 'ERR_LOG',\n",
       " 'ERR_PRINT',\n",
       " 'ERR_RAISE',\n",
       " 'ERR_WARN',\n",
       " 'FLOATING_POINT_SUPPORT',\n",
       " 'FPE_DIVIDEBYZERO',\n",
       " 'FPE_INVALID',\n",
       " 'FPE_OVERFLOW',\n",
       " 'FPE_UNDERFLOW',\n",
       " 'False_',\n",
       " 'Inf',\n",
       " 'Infinity',\n",
       " 'MAXDIMS',\n",
       " 'MAY_SHARE_BOUNDS',\n",
       " 'MAY_SHARE_EXACT',\n",
       " 'MachAr',\n",
       " 'ModuleDeprecationWarning',\n",
       " 'NAN',\n",
       " 'NINF',\n",
       " 'NZERO',\n",
       " 'NaN',\n",
       " 'PINF',\n",
       " 'PZERO',\n",
       " 'RAISE',\n",
       " 'RankWarning',\n",
       " 'SHIFT_DIVIDEBYZERO',\n",
       " 'SHIFT_INVALID',\n",
       " 'SHIFT_OVERFLOW',\n",
       " 'SHIFT_UNDERFLOW',\n",
       " 'ScalarType',\n",
       " 'Tester',\n",
       " 'TooHardError',\n",
       " 'True_',\n",
       " 'UFUNC_BUFSIZE_DEFAULT',\n",
       " 'UFUNC_PYVALS_NAME',\n",
       " 'VisibleDeprecationWarning',\n",
       " 'WRAP',\n",
       " '_NoValue',\n",
       " '_UFUNC_API',\n",
       " '__NUMPY_SETUP__',\n",
       " '__all__',\n",
       " '__builtins__',\n",
       " '__cached__',\n",
       " '__config__',\n",
       " '__dir__',\n",
       " '__doc__',\n",
       " '__file__',\n",
       " '__getattr__',\n",
       " '__git_revision__',\n",
       " '__loader__',\n",
       " '__mkl_version__',\n",
       " '__name__',\n",
       " '__package__',\n",
       " '__path__',\n",
       " '__spec__',\n",
       " '__version__',\n",
       " '_add_newdoc_ufunc',\n",
       " '_distributor_init',\n",
       " '_globals',\n",
       " '_mat',\n",
       " '_pytesttester',\n",
       " 'abs',\n",
       " 'absolute',\n",
       " 'absolute_import',\n",
       " 'add',\n",
       " 'add_docstring',\n",
       " 'add_newdoc',\n",
       " 'add_newdoc_ufunc',\n",
       " 'alen',\n",
       " 'all',\n",
       " 'allclose',\n",
       " 'alltrue',\n",
       " 'amax',\n",
       " 'amin',\n",
       " 'angle',\n",
       " 'any',\n",
       " 'append',\n",
       " 'apply_along_axis',\n",
       " 'apply_over_axes',\n",
       " 'arange',\n",
       " 'arccos',\n",
       " 'arccosh',\n",
       " 'arcsin',\n",
       " 'arcsinh',\n",
       " 'arctan',\n",
       " 'arctan2',\n",
       " 'arctanh',\n",
       " 'argmax',\n",
       " 'argmin',\n",
       " 'argpartition',\n",
       " 'argsort',\n",
       " 'argwhere',\n",
       " 'around',\n",
       " 'array',\n",
       " 'array2string',\n",
       " 'array_equal',\n",
       " 'array_equiv',\n",
       " 'array_repr',\n",
       " 'array_split',\n",
       " 'array_str',\n",
       " 'asanyarray',\n",
       " 'asarray',\n",
       " 'asarray_chkfinite',\n",
       " 'ascontiguousarray',\n",
       " 'asfarray',\n",
       " 'asfortranarray',\n",
       " 'asmatrix',\n",
       " 'asscalar',\n",
       " 'atleast_1d',\n",
       " 'atleast_2d',\n",
       " 'atleast_3d',\n",
       " 'average',\n",
       " 'bartlett',\n",
       " 'base_repr',\n",
       " 'binary_repr',\n",
       " 'bincount',\n",
       " 'bitwise_and',\n",
       " 'bitwise_not',\n",
       " 'bitwise_or',\n",
       " 'bitwise_xor',\n",
       " 'blackman',\n",
       " 'block',\n",
       " 'bmat',\n",
       " 'bool',\n",
       " 'bool8',\n",
       " 'bool_',\n",
       " 'broadcast',\n",
       " 'broadcast_arrays',\n",
       " 'broadcast_to',\n",
       " 'busday_count',\n",
       " 'busday_offset',\n",
       " 'busdaycalendar',\n",
       " 'byte',\n",
       " 'byte_bounds',\n",
       " 'bytes0',\n",
       " 'bytes_',\n",
       " 'c_',\n",
       " 'can_cast',\n",
       " 'cast',\n",
       " 'cbrt',\n",
       " 'cdouble',\n",
       " 'ceil',\n",
       " 'cfloat',\n",
       " 'char',\n",
       " 'character',\n",
       " 'chararray',\n",
       " 'choose',\n",
       " 'clip',\n",
       " 'clongdouble',\n",
       " 'clongfloat',\n",
       " 'column_stack',\n",
       " 'common_type',\n",
       " 'compare_chararrays',\n",
       " 'compat',\n",
       " 'complex',\n",
       " 'complex128',\n",
       " 'complex64',\n",
       " 'complex_',\n",
       " 'complexfloating',\n",
       " 'compress',\n",
       " 'concatenate',\n",
       " 'conj',\n",
       " 'conjugate',\n",
       " 'convolve',\n",
       " 'copy',\n",
       " 'copysign',\n",
       " 'copyto',\n",
       " 'core',\n",
       " 'corrcoef',\n",
       " 'correlate',\n",
       " 'cos',\n",
       " 'cosh',\n",
       " 'count_nonzero',\n",
       " 'cov',\n",
       " 'cross',\n",
       " 'csingle',\n",
       " 'ctypeslib',\n",
       " 'cumprod',\n",
       " 'cumproduct',\n",
       " 'cumsum',\n",
       " 'datetime64',\n",
       " 'datetime_as_string',\n",
       " 'datetime_data',\n",
       " 'deg2rad',\n",
       " 'degrees',\n",
       " 'delete',\n",
       " 'deprecate',\n",
       " 'deprecate_with_doc',\n",
       " 'diag',\n",
       " 'diag_indices',\n",
       " 'diag_indices_from',\n",
       " 'diagflat',\n",
       " 'diagonal',\n",
       " 'diff',\n",
       " 'digitize',\n",
       " 'disp',\n",
       " 'divide',\n",
       " 'division',\n",
       " 'divmod',\n",
       " 'dot',\n",
       " 'double',\n",
       " 'dsplit',\n",
       " 'dstack',\n",
       " 'dtype',\n",
       " 'dual',\n",
       " 'e',\n",
       " 'ediff1d',\n",
       " 'einsum',\n",
       " 'einsum_path',\n",
       " 'emath',\n",
       " 'empty',\n",
       " 'empty_like',\n",
       " 'equal',\n",
       " 'errstate',\n",
       " 'euler_gamma',\n",
       " 'exp',\n",
       " 'exp2',\n",
       " 'expand_dims',\n",
       " 'expm1',\n",
       " 'extract',\n",
       " 'eye',\n",
       " 'fabs',\n",
       " 'fastCopyAndTranspose',\n",
       " 'fft',\n",
       " 'fill_diagonal',\n",
       " 'find_common_type',\n",
       " 'finfo',\n",
       " 'fix',\n",
       " 'flatiter',\n",
       " 'flatnonzero',\n",
       " 'flexible',\n",
       " 'flip',\n",
       " 'fliplr',\n",
       " 'flipud',\n",
       " 'float',\n",
       " 'float16',\n",
       " 'float32',\n",
       " 'float64',\n",
       " 'float_',\n",
       " 'float_power',\n",
       " 'floating',\n",
       " 'floor',\n",
       " 'floor_divide',\n",
       " 'fmax',\n",
       " 'fmin',\n",
       " 'fmod',\n",
       " 'format_float_positional',\n",
       " 'format_float_scientific',\n",
       " 'format_parser',\n",
       " 'frexp',\n",
       " 'frombuffer',\n",
       " 'fromfile',\n",
       " 'fromfunction',\n",
       " 'fromiter',\n",
       " 'frompyfunc',\n",
       " 'fromregex',\n",
       " 'fromstring',\n",
       " 'full',\n",
       " 'full_like',\n",
       " 'fv',\n",
       " 'gcd',\n",
       " 'generic',\n",
       " 'genfromtxt',\n",
       " 'geomspace',\n",
       " 'get_array_wrap',\n",
       " 'get_include',\n",
       " 'get_printoptions',\n",
       " 'getbufsize',\n",
       " 'geterr',\n",
       " 'geterrcall',\n",
       " 'geterrobj',\n",
       " 'gradient',\n",
       " 'greater',\n",
       " 'greater_equal',\n",
       " 'half',\n",
       " 'hamming',\n",
       " 'hanning',\n",
       " 'heaviside',\n",
       " 'histogram',\n",
       " 'histogram2d',\n",
       " 'histogram_bin_edges',\n",
       " 'histogramdd',\n",
       " 'hsplit',\n",
       " 'hstack',\n",
       " 'hypot',\n",
       " 'i0',\n",
       " 'identity',\n",
       " 'iinfo',\n",
       " 'imag',\n",
       " 'in1d',\n",
       " 'index_exp',\n",
       " 'indices',\n",
       " 'inexact',\n",
       " 'inf',\n",
       " 'info',\n",
       " 'infty',\n",
       " 'inner',\n",
       " 'insert',\n",
       " 'int',\n",
       " 'int0',\n",
       " 'int16',\n",
       " 'int32',\n",
       " 'int64',\n",
       " 'int8',\n",
       " 'int_',\n",
       " 'int_asbuffer',\n",
       " 'intc',\n",
       " 'integer',\n",
       " 'interp',\n",
       " 'intersect1d',\n",
       " 'intp',\n",
       " 'invert',\n",
       " 'ipmt',\n",
       " 'irr',\n",
       " 'is_busday',\n",
       " 'isclose',\n",
       " 'iscomplex',\n",
       " 'iscomplexobj',\n",
       " 'isfinite',\n",
       " 'isfortran',\n",
       " 'isin',\n",
       " 'isinf',\n",
       " 'isnan',\n",
       " 'isnat',\n",
       " 'isneginf',\n",
       " 'isposinf',\n",
       " 'isreal',\n",
       " 'isrealobj',\n",
       " 'isscalar',\n",
       " 'issctype',\n",
       " 'issubclass_',\n",
       " 'issubdtype',\n",
       " 'issubsctype',\n",
       " 'iterable',\n",
       " 'ix_',\n",
       " 'kaiser',\n",
       " 'kron',\n",
       " 'lcm',\n",
       " 'ldexp',\n",
       " 'left_shift',\n",
       " 'less',\n",
       " 'less_equal',\n",
       " 'lexsort',\n",
       " 'lib',\n",
       " 'linalg',\n",
       " 'linspace',\n",
       " 'little_endian',\n",
       " 'load',\n",
       " 'loads',\n",
       " 'loadtxt',\n",
       " 'log',\n",
       " 'log10',\n",
       " 'log1p',\n",
       " 'log2',\n",
       " 'logaddexp',\n",
       " 'logaddexp2',\n",
       " 'logical_and',\n",
       " 'logical_not',\n",
       " 'logical_or',\n",
       " 'logical_xor',\n",
       " 'logspace',\n",
       " 'long',\n",
       " 'longcomplex',\n",
       " 'longdouble',\n",
       " 'longfloat',\n",
       " 'longlong',\n",
       " 'lookfor',\n",
       " 'ma',\n",
       " 'mafromtxt',\n",
       " 'mask_indices',\n",
       " 'mat',\n",
       " 'math',\n",
       " 'matmul',\n",
       " 'matrix',\n",
       " 'matrixlib',\n",
       " 'max',\n",
       " 'maximum',\n",
       " 'maximum_sctype',\n",
       " 'may_share_memory',\n",
       " 'mean',\n",
       " 'median',\n",
       " 'memmap',\n",
       " 'meshgrid',\n",
       " 'mgrid',\n",
       " 'min',\n",
       " 'min_scalar_type',\n",
       " 'minimum',\n",
       " 'mintypecode',\n",
       " 'mirr',\n",
       " 'mkl',\n",
       " 'mod',\n",
       " 'modf',\n",
       " 'moveaxis',\n",
       " 'msort',\n",
       " 'multiply',\n",
       " 'nan',\n",
       " 'nan_to_num',\n",
       " 'nanargmax',\n",
       " 'nanargmin',\n",
       " 'nancumprod',\n",
       " 'nancumsum',\n",
       " 'nanmax',\n",
       " 'nanmean',\n",
       " 'nanmedian',\n",
       " 'nanmin',\n",
       " 'nanpercentile',\n",
       " 'nanprod',\n",
       " 'nanquantile',\n",
       " 'nanstd',\n",
       " 'nansum',\n",
       " 'nanvar',\n",
       " 'nbytes',\n",
       " 'ndarray',\n",
       " 'ndenumerate',\n",
       " 'ndfromtxt',\n",
       " 'ndim',\n",
       " 'ndindex',\n",
       " 'nditer',\n",
       " 'negative',\n",
       " 'nested_iters',\n",
       " 'newaxis',\n",
       " 'nextafter',\n",
       " 'nonzero',\n",
       " 'not_equal',\n",
       " 'nper',\n",
       " 'npv',\n",
       " 'numarray',\n",
       " 'number',\n",
       " 'obj2sctype',\n",
       " 'object',\n",
       " 'object0',\n",
       " 'object_',\n",
       " 'ogrid',\n",
       " 'oldnumeric',\n",
       " 'ones',\n",
       " 'ones_like',\n",
       " 'outer',\n",
       " 'packbits',\n",
       " 'pad',\n",
       " 'partition',\n",
       " 'percentile',\n",
       " 'pi',\n",
       " 'piecewise',\n",
       " 'place',\n",
       " 'pmt',\n",
       " 'poly',\n",
       " 'poly1d',\n",
       " 'polyadd',\n",
       " 'polyder',\n",
       " 'polydiv',\n",
       " 'polyfit',\n",
       " 'polyint',\n",
       " 'polymul',\n",
       " 'polynomial',\n",
       " 'polysub',\n",
       " 'polyval',\n",
       " 'positive',\n",
       " 'power',\n",
       " 'ppmt',\n",
       " 'print_function',\n",
       " 'printoptions',\n",
       " 'prod',\n",
       " 'product',\n",
       " 'promote_types',\n",
       " 'ptp',\n",
       " 'put',\n",
       " 'put_along_axis',\n",
       " 'putmask',\n",
       " 'pv',\n",
       " 'quantile',\n",
       " 'r_',\n",
       " 'rad2deg',\n",
       " 'radians',\n",
       " 'random',\n",
       " 'rate',\n",
       " 'ravel',\n",
       " 'ravel_multi_index',\n",
       " 'real',\n",
       " 'real_if_close',\n",
       " 'rec',\n",
       " 'recarray',\n",
       " 'recfromcsv',\n",
       " 'recfromtxt',\n",
       " 'reciprocal',\n",
       " 'record',\n",
       " 'remainder',\n",
       " 'repeat',\n",
       " 'require',\n",
       " 'reshape',\n",
       " 'resize',\n",
       " 'result_type',\n",
       " 'right_shift',\n",
       " 'rint',\n",
       " 'roll',\n",
       " 'rollaxis',\n",
       " 'roots',\n",
       " 'rot90',\n",
       " 'round',\n",
       " 'round_',\n",
       " 'row_stack',\n",
       " 's_',\n",
       " 'safe_eval',\n",
       " 'save',\n",
       " 'savetxt',\n",
       " 'savez',\n",
       " 'savez_compressed',\n",
       " 'sctype2char',\n",
       " 'sctypeDict',\n",
       " 'sctypeNA',\n",
       " 'sctypes',\n",
       " 'searchsorted',\n",
       " 'select',\n",
       " 'set_numeric_ops',\n",
       " 'set_printoptions',\n",
       " 'set_string_function',\n",
       " 'setbufsize',\n",
       " 'setdiff1d',\n",
       " 'seterr',\n",
       " 'seterrcall',\n",
       " 'seterrobj',\n",
       " 'setxor1d',\n",
       " 'shape',\n",
       " 'shares_memory',\n",
       " 'short',\n",
       " 'show_config',\n",
       " 'sign',\n",
       " 'signbit',\n",
       " 'signedinteger',\n",
       " 'sin',\n",
       " 'sinc',\n",
       " 'single',\n",
       " 'singlecomplex',\n",
       " 'sinh',\n",
       " 'size',\n",
       " 'sometrue',\n",
       " 'sort',\n",
       " 'sort_complex',\n",
       " 'source',\n",
       " 'spacing',\n",
       " 'split',\n",
       " 'sqrt',\n",
       " 'square',\n",
       " 'squeeze',\n",
       " 'stack',\n",
       " 'std',\n",
       " 'str',\n",
       " 'str0',\n",
       " 'str_',\n",
       " 'string_',\n",
       " 'subtract',\n",
       " 'sum',\n",
       " 'swapaxes',\n",
       " 'sys',\n",
       " 'take',\n",
       " 'take_along_axis',\n",
       " 'tan',\n",
       " 'tanh',\n",
       " 'tensordot',\n",
       " 'test',\n",
       " 'testing',\n",
       " 'testing',\n",
       " 'tile',\n",
       " 'timedelta64',\n",
       " 'trace',\n",
       " 'tracemalloc_domain',\n",
       " 'transpose',\n",
       " 'trapz',\n",
       " 'tri',\n",
       " 'tril',\n",
       " 'tril_indices',\n",
       " 'tril_indices_from',\n",
       " 'trim_zeros',\n",
       " 'triu',\n",
       " 'triu_indices',\n",
       " 'triu_indices_from',\n",
       " 'true_divide',\n",
       " 'trunc',\n",
       " 'typeDict',\n",
       " 'typeNA',\n",
       " 'typecodes',\n",
       " 'typename',\n",
       " 'ubyte',\n",
       " 'ufunc',\n",
       " 'uint',\n",
       " 'uint0',\n",
       " 'uint16',\n",
       " 'uint32',\n",
       " 'uint64',\n",
       " 'uint8',\n",
       " 'uintc',\n",
       " 'uintp',\n",
       " 'ulonglong',\n",
       " 'unicode',\n",
       " 'unicode_',\n",
       " 'union1d',\n",
       " 'unique',\n",
       " 'unpackbits',\n",
       " 'unravel_index',\n",
       " 'unsignedinteger',\n",
       " 'unwrap',\n",
       " 'ushort',\n",
       " 'vander',\n",
       " 'var',\n",
       " 'vdot',\n",
       " 'vectorize',\n",
       " 'version',\n",
       " 'void',\n",
       " 'void0',\n",
       " 'vsplit',\n",
       " 'vstack',\n",
       " 'warnings',\n",
       " 'where',\n",
       " 'who',\n",
       " 'zeros',\n",
       " 'zeros_like']"
      ]
     },
     "execution_count": 143,
     "metadata": {},
     "output_type": "execute_result"
    }
   ],
   "source": [
    "dir(np)"
   ]
  },
  {
   "cell_type": "code",
   "execution_count": 110,
   "metadata": {},
   "outputs": [
    {
     "name": "stdout",
     "output_type": "stream",
     "text": [
      "1\n",
      "2\n",
      "2\n",
      "3\n",
      "[2, 3, 5, 7]\n"
     ]
    }
   ],
   "source": [
    "#import math  \n",
    "lista=[2,]  \n",
    "for i in range(3,10, 2):  \n",
    "    soy=True \n",
    "    print(int(np.sqrt(i)))\n",
    "    for j in range(3,int(np.sqrt(i))+1,2):  \n",
    "        if i%j==0:\n",
    "            soy=False\n",
    "    if soy:\n",
    "        lista.append(i)  \n",
    "print(lista)"
   ]
  },
  {
   "cell_type": "code",
   "execution_count": null,
   "metadata": {},
   "outputs": [],
   "source": []
  }
 ],
 "metadata": {
  "kernelspec": {
   "display_name": "Python 3",
   "language": "python",
   "name": "python3"
  },
  "language_info": {
   "codemirror_mode": {
    "name": "ipython",
    "version": 3
   },
   "file_extension": ".py",
   "mimetype": "text/x-python",
   "name": "python",
   "nbconvert_exporter": "python",
   "pygments_lexer": "ipython3",
   "version": "3.7.6"
  }
 },
 "nbformat": 4,
 "nbformat_minor": 2
}
