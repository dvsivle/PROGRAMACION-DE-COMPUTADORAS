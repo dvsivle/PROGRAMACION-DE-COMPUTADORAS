{
 "cells": [
  {
   "cell_type": "code",
   "execution_count": 1,
   "metadata": {},
   "outputs": [],
   "source": [
    "%matplotlib inline\n",
    "import numpy as np\n",
    "import matplotlib.pyplot as plt"
   ]
  },
  {
   "cell_type": "code",
   "execution_count": 3,
   "metadata": {},
   "outputs": [],
   "source": [
    "def f(x): #permite calcular la norma o módulo de un array\n",
    "    return (x**2)*np.exp(-x*4)"
   ]
  },
  {
   "cell_type": "code",
   "execution_count": 10,
   "metadata": {},
   "outputs": [],
   "source": [
    "x = np.linspace(-10, 50, num=1000)"
   ]
  },
  {
   "cell_type": "code",
   "execution_count": 12,
   "metadata": {},
   "outputs": [
    {
     "data": {
      "image/png": "[encoded data removed]",
      "text/plain": [
       "<Figure size 432x288 with 1 Axes>"
      ]
     },
     "metadata": {
      "needs_background": "light"
     },
     "output_type": "display_data"
    }
   ],
   "source": [
    "plt.plot(x, f(x), label=\"Función f(x)\")\n",
    "plt.xlabel(\"Eje $x$\")\n",
    "plt.ylabel(\"$f(x)$\")\n",
    "plt.legend()\n",
    "plt.title(\"Función $f(x)$\")\n",
    "plt.show()"
   ]
  },
  {
   "cell_type": "code",
   "execution_count": 1,
   "metadata": {},
   "outputs": [
    {
     "data": {
      "image/png": "[encoded data removed]",
      "text/plain": [
       "<Figure size 432x288 with 2 Axes>"
      ]
     },
     "metadata": {
      "needs_background": "light"
     },
     "output_type": "display_data"
    }
   ],
   "source": [
    "import numpy as np\n",
    "import matplotlib.pyplot as plt\n",
    "\n",
    "x, y = np.arange(5), np.arange(5)[:, np.newaxis]\n",
    "distance = np.sqrt(x ** 2 + y ** 2)\n",
    "plt.pcolor(distance)\n",
    "plt.colorbar()\n",
    "plt.show()"
   ]
  },
  {
   "cell_type": "code",
   "execution_count": 2,
   "metadata": {},
   "outputs": [
    {
     "ename": "AttributeError",
     "evalue": "'Figure' object has no attribute 'figurePatch'",
     "output_type": "error",
     "traceback": [
      "\u001b[1;31m---------------------------------------------------------------------------\u001b[0m",
      "\u001b[1;31mAttributeError\u001b[0m                            Traceback (most recent call last)",
      "\u001b[1;32m<ipython-input-2-70d5ecd0ae60>\u001b[0m in \u001b[0;36m<module>\u001b[1;34m\u001b[0m\n\u001b[0;32m     21\u001b[0m \u001b[0mdpi\u001b[0m \u001b[1;33m=\u001b[0m \u001b[1;36m80\u001b[0m\u001b[1;33m\u001b[0m\u001b[1;33m\u001b[0m\u001b[0m\n\u001b[0;32m     22\u001b[0m \u001b[0mfig\u001b[0m \u001b[1;33m=\u001b[0m \u001b[0mplt\u001b[0m\u001b[1;33m.\u001b[0m\u001b[0mfigure\u001b[0m\u001b[1;33m(\u001b[0m\u001b[0mfigsize\u001b[0m\u001b[1;33m=\u001b[0m\u001b[1;33m(\u001b[0m\u001b[1;36m6\u001b[0m\u001b[1;33m,\u001b[0m \u001b[1;36m1.1\u001b[0m\u001b[1;33m)\u001b[0m\u001b[1;33m,\u001b[0m \u001b[0mdpi\u001b[0m\u001b[1;33m=\u001b[0m\u001b[0mdpi\u001b[0m\u001b[1;33m)\u001b[0m\u001b[1;33m\u001b[0m\u001b[1;33m\u001b[0m\u001b[0m\n\u001b[1;32m---> 23\u001b[1;33m \u001b[0mfig\u001b[0m\u001b[1;33m.\u001b[0m\u001b[0mfigurePatch\u001b[0m\u001b[1;33m.\u001b[0m\u001b[0mset_edgecolor\u001b[0m\u001b[1;33m(\u001b[0m\u001b[0mfigcolor\u001b[0m\u001b[1;33m)\u001b[0m\u001b[1;33m\u001b[0m\u001b[1;33m\u001b[0m\u001b[0m\n\u001b[0m\u001b[0;32m     24\u001b[0m \u001b[0mfig\u001b[0m\u001b[1;33m.\u001b[0m\u001b[0mfigurePatch\u001b[0m\u001b[1;33m.\u001b[0m\u001b[0mset_facecolor\u001b[0m\u001b[1;33m(\u001b[0m\u001b[0mfigcolor\u001b[0m\u001b[1;33m)\u001b[0m\u001b[1;33m\u001b[0m\u001b[1;33m\u001b[0m\u001b[0m\n\u001b[0;32m     25\u001b[0m \u001b[1;33m\u001b[0m\u001b[0m\n",
      "\u001b[1;31mAttributeError\u001b[0m: 'Figure' object has no attribute 'figurePatch'"
     ]
    },
    {
     "data": {
      "text/plain": [
       "<Figure size 480x88 with 0 Axes>"
      ]
     },
     "metadata": {},
     "output_type": "display_data"
    }
   ],
   "source": [
    "\"\"\"\n",
    "==========\n",
    "matplotlib\n",
    "==========\n",
    "\n",
    "Thanks to Tony Yu <tsyu80@gmail.com> for the logo design\n",
    "\"\"\"\n",
    "\n",
    "import numpy as np\n",
    "import matplotlib as mpl\n",
    "import matplotlib.pyplot as plt\n",
    "import matplotlib.cm as cm\n",
    "\n",
    "mpl.rcParams['xtick.labelsize'] = 10\n",
    "mpl.rcParams['ytick.labelsize'] = 12\n",
    "mpl.rcParams['axes.edgecolor'] = 'gray'\n",
    "\n",
    "\n",
    "axalpha = 0.05\n",
    "figcolor = 'white'\n",
    "dpi = 80\n",
    "fig = plt.figure(figsize=(6, 1.1), dpi=dpi)\n",
    "fig.figurePatch.set_edgecolor(figcolor)\n",
    "fig.figurePatch.set_facecolor(figcolor)\n",
    "\n",
    "\n",
    "def add_math_background():\n",
    "    ax = fig.add_axes([0., 0., 1., 1.])\n",
    "\n",
    "    text = []\n",
    "    text.append(\n",
    "        (r\"$W^{3\\beta}_{\\delta_1 \\rho_1 \\sigma_2} = \"\n",
    "         r\"U^{3\\beta}_{\\delta_1 \\rho_1} + \\frac{1}{8 \\pi 2}\"\n",
    "         r\"\\int^{\\alpha_2}_{\\alpha_2} d \\alpha^\\prime_2 \"\n",
    "         r\"\\left[\\frac{ U^{2\\beta}_{\\delta_1 \\rho_1} - \"\n",
    "         r\"\\alpha^\\prime_2U^{1\\beta}_{\\rho_1 \\sigma_2} \"\n",
    "         r\"}{U^{0\\beta}_{\\rho_1 \\sigma_2}}\\right]$\", (0.7, 0.2), 20))\n",
    "    text.append((r\"$\\frac{d\\rho}{d t} + \\rho \\vec{v}\\cdot\\nabla\\vec{v} \"\n",
    "                 r\"= -\\nabla p + \\mu\\nabla^2 \\vec{v} + \\rho \\vec{g}$\",\n",
    "                 (0.35, 0.9), 20))\n",
    "    text.append((r\"$\\int_{-\\infty}^\\infty e^{-x^2}dx=\\sqrt{\\pi}$\",\n",
    "                 (0.15, 0.3), 25))\n",
    "    text.append((r\"$F_G = G\\frac{m_1m_2}{r^2}$\",\n",
    "                 (0.85, 0.7), 30))\n",
    "    for eq, (x, y), size in text:\n",
    "        ax.text(x, y, eq, ha='center', va='center', color=\"#11557c\",\n",
    "                alpha=0.25, transform=ax.transAxes, fontsize=size)\n",
    "    ax.set_axis_off()\n",
    "    return ax\n",
    "\n",
    "\n",
    "def add_matplotlib_text(ax):\n",
    "    ax.text(0.95, 0.5, 'matplotlib', color='#11557c', fontsize=65,\n",
    "            ha='right', va='center', alpha=1.0, transform=ax.transAxes)\n",
    "\n",
    "\n",
    "def add_polar_bar():\n",
    "    ax = fig.add_axes([0.025, 0.075, 0.2, 0.85], projection='polar')\n",
    "\n",
    "    ax.axesPatch.set_alpha(axalpha)\n",
    "    ax.set_axisbelow(True)\n",
    "    N = 7\n",
    "    arc = 2. * np.pi\n",
    "    theta = np.arange(0.0, arc, arc/N)\n",
    "    radii = 10 * np.array([0.2, 0.6, 0.8, 0.7, 0.4, 0.5, 0.8])\n",
    "    width = np.pi / 4 * np.array([0.4, 0.4, 0.6, 0.8, 0.2, 0.5, 0.3])\n",
    "    bars = ax.bar(theta, radii, width=width, bottom=0.0)\n",
    "    for r, bar in zip(radii, bars):\n",
    "        bar.set_facecolor(cm.jet(r/10.))\n",
    "        bar.set_alpha(0.6)\n",
    "\n",
    "    for label in ax.get_xticklabels() + ax.get_yticklabels():\n",
    "        label.set_visible(False)\n",
    "\n",
    "    for line in ax.get_ygridlines() + ax.get_xgridlines():\n",
    "        line.set_lw(0.8)\n",
    "        line.set_alpha(0.9)\n",
    "        line.set_ls('-')\n",
    "        line.set_color('0.5')\n",
    "\n",
    "    ax.set_yticks(np.arange(1, 9, 2))\n",
    "    ax.set_rmax(9)\n",
    "\n",
    "\n",
    "if __name__ == '__main__':\n",
    "    main_axes = add_math_background()\n",
    "    add_polar_bar()\n",
    "    add_matplotlib_text(main_axes)\n",
    "    plt.show()"
   ]
  },
  {
   "cell_type": "code",
   "execution_count": null,
   "metadata": {},
   "outputs": [],
   "source": []
  }
 ],
 "metadata": {
  "kernelspec": {
   "display_name": "Python 3",
   "language": "python",
   "name": "python3"
  },
  "language_info": {
   "codemirror_mode": {
    "name": "ipython",
    "version": 3
   },
   "file_extension": ".py",
   "mimetype": "text/x-python",
   "name": "python",
   "nbconvert_exporter": "python",
   "pygments_lexer": "ipython3",
   "version": "3.7.6"
  }
 },
 "nbformat": 4,
 "nbformat_minor": 4
}
