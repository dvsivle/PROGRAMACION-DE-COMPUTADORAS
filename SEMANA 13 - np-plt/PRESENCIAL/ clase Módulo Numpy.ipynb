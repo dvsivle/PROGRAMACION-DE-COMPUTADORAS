{
 "cells": [
  {
   "cell_type": "code",
   "execution_count": 1,
   "metadata": {},
   "outputs": [],
   "source": [
    "# en python exixte la libreria Scipy para procesamiento cientifico,\n",
    "# dentro de esta librería de esta librería existe el módulo para control de arreglos\n",
    "#matemáticas\n"
   ]
  },
  {
   "cell_type": "code",
   "execution_count": 2,
   "metadata": {},
   "outputs": [],
   "source": [
    "import numpy as np\n"
   ]
  },
  {
   "cell_type": "code",
   "execution_count": 13,
   "metadata": {},
   "outputs": [
    {
     "name": "stdout",
     "output_type": "stream",
     "text": [
      "[ 4  7 13 -1]\n",
      "<class 'numpy.ndarray'>\n",
      "\n",
      "[0 1 2 3 4 5 6 7 8 9]\n",
      "\n",
      "[ 3  5  7  9 11 13 15 17 19]\n",
      "[ 3.   3.2  3.4  3.6  3.8  4.   4.2  4.4  4.6  4.8  5.   5.2  5.4  5.6\n",
      "  5.8  6.   6.2  6.4  6.6  6.8  7.   7.2  7.4  7.6  7.8  8.   8.2  8.4\n",
      "  8.6  8.8  9.   9.2  9.4  9.6  9.8 10.  10.2 10.4 10.6 10.8 11.  11.2\n",
      " 11.4 11.6 11.8 12.  12.2 12.4 12.6 12.8 13.  13.2 13.4 13.6 13.8 14.\n",
      " 14.2 14.4 14.6 14.8 15.  15.2 15.4 15.6 15.8 16.  16.2 16.4 16.6 16.8\n",
      " 17.  17.2 17.4 17.6 17.8 18.  18.2 18.4 18.6 18.8 19.  19.2 19.4 19.6\n",
      " 19.8 20.  20.2 20.4 20.6 20.8]\n",
      "\n",
      "[0.         0.11111111 0.22222222 0.33333333 0.44444444 0.55555556\n",
      " 0.66666667 0.77777778 0.88888889 1.        ]\n",
      "\n",
      "[ 5.          6.07142857  7.14285714  8.21428571  9.28571429 10.35714286\n",
      " 11.42857143 12.5        13.57142857 14.64285714 15.71428571 16.78571429\n",
      " 17.85714286 18.92857143 20.        ]\n",
      "\n",
      "[0.42500839 0.72708715 0.16921694 0.81452621 0.57576228 0.11273542\n",
      " 0.64595251 0.14068269 0.10101168 0.87366932]\n",
      "\n",
      "[3 3 4 4 4 5 2 6 2 2 5 6 4 1 2]\n",
      "\n",
      "[ 4.16022862  4.54735242  9.82428759 14.16534715 18.87314164 11.21212967\n",
      "  4.6731032   4.25645341  8.0526123  10.4975751 ]\n"
     ]
    }
   ],
   "source": [
    "#creabdo arreglos (arrays)\n",
    "\n",
    "arr1= np.array([4,7,13,-1]) #a partir de un lista\n",
    "print(arr1)\n",
    "print(type(arr1))\n",
    "\n",
    "#creando un arreglo a partir de un arange()\n",
    "print()\n",
    "arr2=np.arange(10)\n",
    "print(arr2)\n",
    "\n",
    "print()\n",
    "arr3=np.arange(3,21,2)\n",
    "print(arr3)\n",
    "\n",
    "arr3=np.arange(3,21,0.2)\n",
    "print(arr3)\n",
    "\n",
    "#creando arreglos del método linispace()\n",
    "print()\n",
    "arr4=np.linspace(0,1,10)\n",
    "print(arr4)\n",
    "\n",
    "print()\n",
    "arr5=np.linspace(5,20,15)\n",
    "print(arr5)\n",
    "\n",
    "#crando aleatorios:\n",
    "print()\n",
    "arr7=np.random.rand(10) #10 aleatorios entre [0,1>\n",
    "print(arr7)\n",
    "print()\n",
    "arr8=np.random.randint(1,7,15) #15 aleatorios entre [1,7>\n",
    "print(arr8)\n",
    "print()\n",
    "arr9= np.random.uniform(3,21,10) #10 aleatorios reales entre [3,21>\n",
    "print(arr9)"
   ]
  },
  {
   "cell_type": "code",
   "execution_count": 15,
   "metadata": {},
   "outputs": [
    {
     "name": "stdout",
     "output_type": "stream",
     "text": [
      "[3.5014744361420136, 3.1051669331985727, 11.05727453867467, 8.480980055701288, 20.12662384227917, 4.9975546830047985, 7.894589101685242, 6.964125241549403, 16.587968233160062, 19.18242883167157]\n",
      "\n",
      "{3.1051669331985727, 3.5014744361420136, 4.9975546830047985, 6.964125241549403, 7.894589101685242, 8.480980055701288, 11.05727453867467, 16.587968233160062, 19.18242883167157, 20.12662384227917}\n"
     ]
    }
   ],
   "source": [
    "arr9= np.random.uniform(3,21,10)\n",
    "\n",
    "larr9=list(arr9)\n",
    "print(larr9)\n",
    "print()\n",
    "print(set(arr9))"
   ]
  },
  {
   "cell_type": "code",
   "execution_count": 23,
   "metadata": {},
   "outputs": [
    {
     "name": "stdout",
     "output_type": "stream",
     "text": [
      "Tamaño de arr1: 4\n",
      "cantidad de elementos de arr2: 4\n",
      "\n",
      "Primer elemento de arr2:  0\n",
      "Primer elemento de arr2:  9\n",
      "Primer elemento de arr2:  [2 3 4 5]\n",
      "\n",
      "[100.    3.2   3.4   3.6   3.8   4.    4.2   4.4   4.6   4.8   5.    5.2\n",
      "   5.4   5.6   5.8   6.    6.2   6.4   6.6   6.8   7.    7.2   7.4   7.6\n",
      "   7.8   8.    8.2   8.4   8.6   8.8   9.    9.2   9.4   9.6   9.8  10.\n",
      "  10.2  10.4  10.6  10.8  11.   11.2  11.4  11.6  11.8  12.   12.2  12.4\n",
      "  12.6  12.8  13.   13.2  13.4  13.6  13.8  14.   14.2  14.4  14.6  14.8\n",
      "  15.   15.2  15.4  15.6  15.8  16.   16.2  16.4  16.6  16.8  17.   17.2\n",
      "  17.4  17.6  17.8  18.   18.2  18.4  18.6  18.8  19.   19.2  19.4  19.6\n",
      "  19.8  20.   20.2  20.4  20.6  20.8]\n",
      "\n"
     ]
    }
   ],
   "source": [
    "# que se puede hacer los arreglos\n",
    "arr1= np.array([4,7,13,-1])\n",
    "print(\"Tamaño de arr1:\",len(arr1))\n",
    "print(\"cantidad de elementos de arr2:\",arr1.size)\n",
    "print()\n",
    "\n",
    "#al igula que una lista los elementos de un arrreglo estan indexados:\n",
    "arr2=np.arange(10)\n",
    "print(\"Primer elemento de arr2: \",arr2[0])\n",
    "print(\"Primer elemento de arr2: \",arr2[-1])\n",
    "print(\"Primer elemento de arr2: \",arr2[2:6])\n",
    "print()\n",
    "\n",
    "#desde el punto de vista de modificacion, el arreglo es mutable:\n",
    "arr3=np.arange(3,21,0.2)\n",
    "arr3[0]=100 #modifica\n",
    "print(arr3)\n",
    "print()\n",
    "\n",
    "#desde el punto de vista de insersion, el arreglo si es mutable:\n",
    "arr4=np.arange(3,21,0.2)\n",
    "#arr4=np.insert(arr2[2:4])\n"
   ]
  },
  {
   "cell_type": "code",
   "execution_count": 28,
   "metadata": {},
   "outputs": [
    {
     "name": "stdout",
     "output_type": "stream",
     "text": [
      "[78.8, 101.6, 133.8, 123.8, 83.8, 70.5]\n",
      "\n",
      "[113.0, 154.04, 212.0, 194.0, 122.0, 98.06]\n",
      "\n",
      "[113.   154.04 212.   194.   122.    98.06]\n",
      "113.0\n",
      "154.04\n",
      "212.0\n",
      "194.0\n",
      "122.0\n",
      "98.06\n"
     ]
    }
   ],
   "source": [
    "#aplicando operaciones matemáticas a arreglos:\n",
    "ltemp=[45,67.8,100,90,50,36.7]\n",
    "LF=[]\n",
    "for v in ltemp:\n",
    "    LF.append(v+9/5+32)\n",
    "    \n",
    "print(LF)\n",
    "print()\n",
    "LF=list(map(lambda x:x*9/5 +32,ltemp))\n",
    "print(LF)\n",
    "\n",
    "print()\n",
    "atemp=np.array([45,67.8,100,90,50,36.7])\n",
    "aF=atemp*9/5+32\n",
    "print(aF)\n",
    "\n",
    "for v in aF:\n",
    "    print(v)"
   ]
  },
  {
   "cell_type": "code",
   "execution_count": 36,
   "metadata": {},
   "outputs": [
    {
     "name": "stdout",
     "output_type": "stream",
     "text": [
      "R(Ohmios)\tV(voltios)\tI(amperios)\tP(watts)\n",
      "   10.0k\t   120\t\t   0.012\t  1.44\n",
      "   20.0k\t    80\t\t   0.004\t  0.32\n",
      "    3.5k\t   110\t\t   0.031\t  3.46\n",
      "  100.0k\t   200\t\t   0.002\t  0.40\n",
      "  200.0k\t   350\t\t   0.002\t  0.61\n"
     ]
    }
   ],
   "source": [
    "#Requerimiento 1\n",
    "R=np.array([10,20,3.5,100,200])*1000\n",
    "\n",
    "V=np.array([120,80,110,200,350])\n",
    "\n",
    "I=V/R\n",
    "\n",
    "P=V*I\n",
    "\n",
    "print(\"R(Ohmios)\\tV(voltios)\\tI(amperios)\\tP(watts)\")\n",
    "for r,v,i,p in zip(R,V,I,P):\n",
    "    print(\"{:7.1f}k\\t{:6}\\t\\t{:8.3f}\\t{:6.2f}\".format(r/1000,v,i,p))"
   ]
  },
  {
   "cell_type": "code",
   "execution_count": 42,
   "metadata": {},
   "outputs": [
    {
     "name": "stdout",
     "output_type": "stream",
     "text": [
      "[ 0.64421769 -0.54402111 -0.46460218  0.74511316  0.44716444  0.40484992]\n",
      "\n",
      "[ 0.7   10.     5.8   40.     2.678  6.7  ]\n",
      "\n",
      "[  3.5   50.    29.   200.    13.39  33.5 ]\n",
      "\n",
      "Suma de todos los elementos de A:  65.878\n",
      "Promedio de todos los elementos de A:  10.979666666666667\n",
      "Máximo de todos los elementos de A:  40.0\n",
      "Mínimo de todos los elementos de A:  0.7\n",
      "\n",
      "[ 0.7   10.     5.8   40.     2.678  6.7  ]\n",
      "Sumatoria acumulada de los elementos de A:  [ 0.7   10.7   16.5   56.5   59.178 65.878]\n"
     ]
    }
   ],
   "source": [
    "#otras operaciones matemáticas aplicadas a arreglos\n",
    "\n",
    "A=np.array([0.7,10,5.8,40,2.678,6.7])\n",
    "#calculando seno de los elementos de A:\n",
    "sA=np.sin(A)\n",
    "print(sA)\n",
    "print()\n",
    "eA=np.exp(A)\n",
    "print(A,end=('\\n\\n'))\n",
    "\n",
    "#multiplica a cada elemento x5\n",
    "mA=A*5\n",
    "print(mA)\n",
    "print()\n",
    "\n",
    "\n",
    "print(\"Suma de todos los elementos de A: \",np.sum(A))\n",
    "print(\"Promedio de todos los elementos de A: \",np.mean(A))\n",
    "print(\"Máximo de todos los elementos de A: \",np.max(A))\n",
    "print(\"Mínimo de todos los elementos de A: \",np.min(A))\n",
    "print()\n",
    "print(A)\n",
    "print(\"Sumatoria acumulada de los elementos de A: \",np.cumsum(A))"
   ]
  },
  {
   "cell_type": "code",
   "execution_count": 52,
   "metadata": {},
   "outputs": [
    {
     "name": "stdout",
     "output_type": "stream",
     "text": [
      "Valor de pi para n= 0: 3.46410161513775438635\n",
      "Valor de pi para n= 1: 3.07920143567800375095\n",
      "Valor de pi para n= 2: 3.15618147156995387803\n",
      "Valor de pi para n= 3: 3.13785289159568048234\n",
      "Valor de pi para n= 4: 3.14260474566308456446\n",
      "Valor de pi para n= 5: 3.14130878546288316855\n",
      "Valor de pi para n= 6: 3.14167431269883756784\n",
      "Valor de pi para n= 7: 3.14156871594178399576\n",
      "Valor de pi para n= 8: 3.14159977381150579134\n",
      "Valor de pi para n= 9: 3.14159051093807972777\n",
      "Valor de pi para n=10: 3.14159330450308127425\n",
      "Valor de pi para n=11: 3.14159245428764632990\n",
      "Valor de pi para n=12: 3.14159271502037995560\n",
      "Valor de pi para n=13: 3.14159263454731396692\n",
      "Valor de pi para n=14: 3.14159265952171384839\n",
      "Valor de pi para n=15: 3.14159265173399759874\n",
      "Valor de pi para n=16: 3.14159265417257538289\n",
      "Valor de pi para n=17: 3.14159265340616489226\n",
      "Valor de pi para n=18: 3.14159265364782624985\n",
      "Valor de pi para n=19: 3.14159265357140338182\n",
      "Valor de pi para n=20: 3.14159265359563510955\n",
      "Valor de pi para n=21: 3.14159265358793371448\n",
      "Valor de pi para n=22: 3.14159265359038641918\n",
      "Valor de pi para n=23: 3.14159265358960348991\n",
      "Valor de pi para n=24: 3.14159265358985395622\n",
      "Valor de pi para n=25: 3.14159265358977402016\n",
      "Valor de pi para n=26: 3.14159265358979977734\n",
      "Valor de pi para n=27: 3.14159265358979133964\n",
      "Valor de pi para n=28: 3.14159265358979400418\n",
      "Valor de pi para n=29: 3.14159265358979356009\n",
      "Valor de pi para n=30: 3.14159265358979400418\n",
      "Valor de pi para n=31: 3.14159265358979400418\n",
      "Valor de pi para n=32: 3.14159265358979400418\n",
      "Valor de pi para n=33: 3.14159265358979400418\n",
      "Valor de pi para n=34: 3.14159265358979400418\n",
      "Valor de pi para n=35: 3.14159265358979400418\n",
      "Valor de pi para n=36: 3.14159265358979400418\n",
      "Valor de pi para n=37: 3.14159265358979400418\n",
      "Valor de pi para n=38: 3.14159265358979400418\n",
      "Valor de pi para n=39: 3.14159265358979400418\n",
      "Valor de pi para n=40: 3.14159265358979400418\n",
      "Valor de pi para n=41: 3.14159265358979400418\n",
      "Valor de pi para n=42: 3.14159265358979400418\n",
      "Valor de pi para n=43: 3.14159265358979400418\n",
      "Valor de pi para n=44: 3.14159265358979400418\n",
      "Valor de pi para n=45: 3.14159265358979400418\n",
      "Valor de pi para n=46: 3.14159265358979400418\n",
      "Valor de pi para n=47: 3.14159265358979400418\n",
      "Valor de pi para n=48: 3.14159265358979400418\n",
      "Valor de pi para n=49: 3.14159265358979400418\n",
      "Valor de pi para n=50: 3.14159265358979400418\n"
     ]
    }
   ],
   "source": [
    "\n",
    "#Requerimiento 2:\n",
    "i = np.arange(0.0,51.0) #arreglo de reales\n",
    "# i = np.arange(0,51,dtype=float) \n",
    "\n",
    "aux=(-3)**(-i)/(2*i+1)\n",
    "\n",
    "#aux = [r(0=1) r(i=1) .....r(i=50)]\n",
    "api=np.sqrt(12)*np.cumsum(aux)\n",
    "\n",
    "#api =[pi(n=0)  pi(n=1)   ... r(i=50)]\n",
    "\n",
    "for ii,v in zip(i,api):\n",
    "    print(\"Valor de pi para n={:2.0f}: {:.20f}\".format(ii,v))\n"
   ]
  },
  {
   "cell_type": "code",
   "execution_count": null,
   "metadata": {},
   "outputs": [],
   "source": []
  },
  {
   "cell_type": "code",
   "execution_count": 55,
   "metadata": {},
   "outputs": [
    {
     "name": "stdout",
     "output_type": "stream",
     "text": [
      "[0. 0. 0. 0. 0. 0. 0. 0. 0. 0.]\n",
      "[1. 1. 1. 1. 1. 1. 1. 1. 1. 1.]\n"
     ]
    }
   ],
   "source": [
    "az=np.zeros(10)\n",
    "a1=np.ones(10)\n",
    "print(az)\n",
    "print(a1)"
   ]
  },
  {
   "cell_type": "code",
   "execution_count": 64,
   "metadata": {},
   "outputs": [
    {
     "name": "stdout",
     "output_type": "stream",
     "text": [
      "[16 87 23 13 85 69 65 51  6 45 77 98 14 24 27 57 88 58 35 88  2 70 60  6]\n",
      "[ True False False False False False False False  True False False  True\n",
      "  True  True False False  True  True False  True  True  True  True  True]\n",
      "\n",
      "[16  6 98 14 24 88 58 88  2 70 60  6]\n",
      "\n",
      "[77 98 14 35 70]\n",
      "\n",
      "[87 85 69 65 77 98 88 88 70]\n",
      "\n",
      "[87 85 69 65 51 77 57 88 58 88 70 60]\n"
     ]
    }
   ],
   "source": [
    "#indexamiento buleano\n",
    "A=np.random.randint(1,100,24)\n",
    "print(A)\n",
    "\n",
    "ab=A%2==0\n",
    "print(ab)\n",
    "print()\n",
    "pares=A[ab]\n",
    "print(pares)\n",
    "print()\n",
    "\n",
    "#crea un arreglo con los multiplos de A\n",
    "m7=A[A%7==0]\n",
    "print(m7)\n",
    "print()\n",
    "\n",
    "#crea una arreglo con los elementos de A mayores a 6O\n",
    "m60=A[A>60]\n",
    "print(m60)\n",
    "\n",
    "print()\n",
    "#cra un arreglo con los elementos de A en el rango de [50,90]\n",
    "mr=A[A>=50]\n",
    "mr=mr[mr<=90]\n",
    "print(mr)"
   ]
  },
  {
   "cell_type": "code",
   "execution_count": 88,
   "metadata": {},
   "outputs": [
    {
     "name": "stdout",
     "output_type": "stream",
     "text": [
      "Notas generadas\n",
      "Juan        :    8.08 \n",
      "Maite       :   10.20 \n",
      "Laura       :    8.64 \n",
      "Richard     :    6.53 \n",
      "Carmen      :    2.56 \n",
      "Enrrique    :    9.17 \n",
      "\n",
      "Alumnos cuyas notas estan por encima del promedio: 7.53\n",
      "Juan\n",
      "Maite\n",
      "Laura\n",
      "Enrrique\n"
     ]
    }
   ],
   "source": [
    "nombres=np.array([\"Juan\",\"Maite\",\"Laura\",\"Richard\",\"Carmen\",\"Enrrique\"])\n",
    "notas=np.random.uniform(0,20,nombres.size)\n",
    "\n",
    "#a=notas>np.mean(notas)\n",
    "nom=nombres[notas>np.mean(notas)]\n",
    "\n",
    "print(\"Notas generadas\")\n",
    "for nomb,nt in zip(nombres,notas):\n",
    "    print(\"{:12}:{:8.2f} \".format(nomb,nt))\n",
    "    \n",
    "print('\\nAlumnos cuyas notas estan por encima del promedio:',round(np.mean(notas),2))\n",
    "for n in nom:\n",
    "    print(n)"
   ]
  },
  {
   "cell_type": "code",
   "execution_count": null,
   "metadata": {},
   "outputs": [],
   "source": []
  }
 ],
 "metadata": {
  "kernelspec": {
   "display_name": "Python 3",
   "language": "python",
   "name": "python3"
  },
  "language_info": {
   "codemirror_mode": {
    "name": "ipython",
    "version": 3
   },
   "file_extension": ".py",
   "mimetype": "text/x-python",
   "name": "python",
   "nbconvert_exporter": "python",
   "pygments_lexer": "ipython3",
   "version": "3.7.6"
  }
 },
 "nbformat": 4,
 "nbformat_minor": 4
}
