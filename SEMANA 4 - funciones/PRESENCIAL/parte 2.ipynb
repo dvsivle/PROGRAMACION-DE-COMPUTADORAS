{
 "cells": [
  {
   "cell_type": "code",
   "execution_count": 1,
   "metadata": {},
   "outputs": [
    {
     "name": "stdout",
     "output_type": "stream",
     "text": [
      "13\n"
     ]
    }
   ],
   "source": [
    "def operaciones(*b):\n",
    "    return sum(b)\n",
    "print(operaciones(4,5,4))\n"
   ]
  },
  {
   "cell_type": "code",
   "execution_count": 7,
   "metadata": {},
   "outputs": [
    {
     "name": "stdout",
     "output_type": "stream",
     "text": [
      "2\n",
      "1\n",
      "juan\n",
      "20\n",
      "\n",
      "12\n",
      "45\n",
      "juan\n"
     ]
    }
   ],
   "source": [
    "def mostrar(x):\n",
    "    for v in x: #x es una cadena o una tupla o un alista\n",
    "        print(v)\n",
    "\n",
    "t=(2,1,\"juan\",20)\n",
    "mostrar(t)\n",
    "\n",
    "print()\n",
    "L=[12,45,\"juan\"]\n",
    "mostrar(L)"
   ]
  },
  {
   "cell_type": "code",
   "execution_count": 12,
   "metadata": {},
   "outputs": [
    {
     "name": "stdout",
     "output_type": "stream",
     "text": [
      "Ingrese la operacion: 45+6+5\n",
      "la suma es 56.0\n"
     ]
    }
   ],
   "source": [
    "def resuelveOperaciones(op):\n",
    "    ad=op.split('+')\n",
    "    x=[]\n",
    "    for v in ad: #x es una cadena o una tupla o un alista\n",
    "        x.append(float(v))\n",
    "    return sum(x)\n",
    "\n",
    "op = input(\"Ingrese la operacion: \")\n",
    "res=resuelveOperaciones(op)\n",
    "print(\"la suma es\",res)\n",
    "\n",
    "   "
   ]
  },
  {
   "cell_type": "code",
   "execution_count": 20,
   "metadata": {},
   "outputs": [
    {
     "name": "stdout",
     "output_type": "stream",
     "text": [
      "True\n"
     ]
    }
   ],
   "source": [
    "#algoritmo para determinar si un numero es primo o no:\n",
    "\n",
    "#si num es primo se retorna True, caso contratio retorna False\n",
    "def esPrimo(num): #9\n",
    "    if(num==1 or num==0):\n",
    "        return False\n",
    "    \n",
    "    else:\n",
    "        for i in range(2,num): #para i: 1,2,3,4,5,6,7,8\n",
    "            if(num%i==0):\n",
    "                return False\n",
    "        return True\n",
    "\n",
    "\n",
    "#2: primo  #1 y 2\n",
    "#3: primo  #1 y 3\n",
    "#4: no es primo 1,2,4\n",
    "\n",
    "print(esPrimo(1999))\n",
    "    \n"
   ]
  },
  {
   "cell_type": "code",
   "execution_count": 14,
   "metadata": {},
   "outputs": [
    {
     "name": "stdout",
     "output_type": "stream",
     "text": [
      "[]\n"
     ]
    }
   ],
   "source": [
    "print(list(range(2,0)))"
   ]
  },
  {
   "cell_type": "code",
   "execution_count": 22,
   "metadata": {},
   "outputs": [
    {
     "name": "stdout",
     "output_type": "stream",
     "text": [
      "La cantidad de numeros primos es: 5\n",
      "La cantidad de numeros NO primos es: 5\n"
     ]
    }
   ],
   "source": [
    "#APLICACIONES DE LA funcioin primo\n",
    "\n",
    "L=[34,19,11,20,40,3,7,18,21,37]\n",
    "\n",
    "cont=0\n",
    "for v in L:\n",
    "    if(esPrimo(v)):\n",
    "        cont+=1\n",
    "        \n",
    "print(\"La cantidad de numeros primos es:\",cont)\n",
    "print(\"La cantidad de numeros NO primos es:\",len(L)-cont)"
   ]
  },
  {
   "cell_type": "code",
   "execution_count": 24,
   "metadata": {},
   "outputs": [
    {
     "name": "stdout",
     "output_type": "stream",
     "text": [
      "Buscar primo hasta: 0\n"
     ]
    }
   ],
   "source": [
    "def esPrimo(num): #9\n",
    "    if(num==1 or num==0):\n",
    "        return False\n",
    "    \n",
    "    else:\n",
    "        for i in range(2,num): #para i: 1,2,3,4,5,6,7,8\n",
    "            if(num%i==0):\n",
    "                return False\n",
    "        return True\n",
    "\n",
    "\n",
    "def listaPrimos(numMin,numMax):\n",
    "    L= [num for num in range(numMin,numMax+1) ]\n",
    "    Lprimos=[]\n",
    "    for v in L:\n",
    "        if(esPrimo(v)):\n",
    "            Lprimos.append(v)\n",
    "    return Lprimos\n",
    "        \n",
    "N=int(input(\"Buscar primo hasta: \"))\n",
    "\n",
    "LprimN=listaPrimos(0,N)\n",
    "\n",
    "for a in LprimN:\n",
    "    print(a)\n",
    "\n",
    "\n",
    "    \n"
   ]
  },
  {
   "cell_type": "code",
   "execution_count": 27,
   "metadata": {},
   "outputs": [
    {
     "name": "stdout",
     "output_type": "stream",
     "text": [
      "36\n",
      "[25, 81, 144, 16, 25, 49, 64, 81, 36]\n"
     ]
    }
   ],
   "source": [
    "def F(x):\n",
    "    return x**2\n",
    "\n",
    "#main():\n",
    "print (F(6))\n",
    "\n",
    "#programa que genere una lista con los valores al cuadrado de otra:\n",
    "L=[5,9,12,4,5,7,8,9,6]\n",
    "H=[]\n",
    "\n",
    "for v in L:\n",
    "    H.append(F(v))\n",
    "\n",
    "print(H)"
   ]
  },
  {
   "cell_type": "code",
   "execution_count": 29,
   "metadata": {},
   "outputs": [
    {
     "name": "stdout",
     "output_type": "stream",
     "text": [
      "2500\n",
      "False\n"
     ]
    }
   ],
   "source": [
    "#USANDO LA FUNCION LAMBDA \" funcion sin nombre\"\n",
    "\n",
    "F=lambda x:x**2\n",
    "\n",
    "print(F(50))\n",
    "\n",
    "def F(x):\n",
    "    if (x%2==0):\n",
    "        return True\n",
    "    else: \n",
    "        return False\n",
    "\n",
    "F=lambda x:x%2==0\n",
    "print(F(61))"
   ]
  },
  {
   "cell_type": "code",
   "execution_count": 30,
   "metadata": {},
   "outputs": [
    {
     "name": "stdout",
     "output_type": "stream",
     "text": [
      "[25, 36, 64, 81, 36, 1, 9, 25, 64, 49]\n"
     ]
    }
   ],
   "source": [
    "F=lambda x:x**2\n",
    "\n",
    "L=[5,6,8,9,6,1,3,5,8,7]\n",
    "\n",
    "#usar la funcion map():\n",
    "H = list(map(F,L)) # se mapea cada elemento de L en F\n",
    "                    #25,36,64,.....,49\n",
    "print(H)"
   ]
  },
  {
   "cell_type": "code",
   "execution_count": 31,
   "metadata": {},
   "outputs": [
    {
     "name": "stdout",
     "output_type": "stream",
     "text": [
      "[25, 36, 64, 81, 36, 1, 9, 25, 64, 49]\n"
     ]
    }
   ],
   "source": [
    "F=lambda x:x**2\n",
    "\n",
    "L=[5,6,8,9,6,1,3,5,8,7]\n",
    "\n",
    "#usar la funcion map():\n",
    "H = list(map(lambda x:x**2,L)) # se mapea cada elemento de L en F\n",
    "                    #25,36,64,.....,49\n",
    "print(H)"
   ]
  },
  {
   "cell_type": "code",
   "execution_count": 33,
   "metadata": {},
   "outputs": [
    {
     "name": "stdout",
     "output_type": "stream",
     "text": [
      "[True, True, True, False, False, True, True, False, True, False]\n"
     ]
    }
   ],
   "source": [
    "L=[50,56,4,5,7,8,2,5,56,569]\n",
    "\n",
    "#uso de la funcion map():\n",
    "\n",
    "H=list(map(lambda x:x%2==0,L)) #True,True,True,False....\n",
    "print(H)"
   ]
  },
  {
   "cell_type": "code",
   "execution_count": 34,
   "metadata": {},
   "outputs": [
    {
     "name": "stdout",
     "output_type": "stream",
     "text": [
      "[50, 56, 4, 8, 2, 56]\n"
     ]
    }
   ],
   "source": [
    "L=[50,56,4,5,7,8,2,5,56,569]\n",
    "\n",
    "#uso de la funcion filter():\n",
    "H = list(filter(lambda x:x%2==0,L)) #50,56,4,8,2,56\n",
    "print (H)"
   ]
  },
  {
   "cell_type": "code",
   "execution_count": 57,
   "metadata": {},
   "outputs": [
    {
     "name": "stdout",
     "output_type": "stream",
     "text": [
      "DIA  1 : 30.62 °C\n",
      "DIA  2 : 30.68 °C\n",
      "DIA  3 : 23.07 °C\n",
      "DIA  4 : 28.83 °C\n",
      "DIA  5 : 29.12 °C\n",
      "DIA  6 : 25.81 °C\n",
      "DIA  7 : 25.59 °C\n",
      "DIA  8 : 28.95 °C\n",
      "DIA  9 : 24.54 °C\n",
      "DIA 10 : 26.02 °C\n",
      "DIA 11 : 28.92 °C\n",
      "DIA 12 : 29.80 °C\n",
      "DIA 13 : 27.59 °C\n",
      "DIA 14 : 27.56 °C\n",
      "DIA 15 : 30.66 °C\n",
      "DIA 16 : 24.79 °C\n",
      "DIA 17 : 29.44 °C\n",
      "DIA 18 : 28.37 °C\n",
      "DIA 19 : 29.85 °C\n",
      "DIA 20 : 29.18 °C\n",
      "DIA 21 : 28.40 °C\n",
      "DIA 22 : 27.93 °C\n",
      "DIA 23 : 28.20 °C\n",
      "DIA 24 : 23.59 °C\n",
      "DIA 25 : 25.29 °C\n",
      "DIA 26 : 26.23 °C\n",
      "DIA 27 : 21.48 °C\n",
      "DIA 28 : 30.34 °C\n",
      "DIA 29 : 23.75 °C\n",
      "DIA 30 : 25.05 °C\n",
      "\n",
      "\t DIAS CALUROSOS\n",
      "\n",
      "DIA  1 : 30.62 °C\n",
      "DIA  2 : 30.68 °C\n",
      "DIA 15 : 30.66 °C\n",
      "DIA 28 : 30.34 °C\n"
     ]
    }
   ],
   "source": [
    "#\n",
    "\n",
    "import random\n",
    "import time\n",
    "\n",
    "TEMP=[ random.uniform(21,32) for i in range(30) ]\n",
    "\n",
    "for a,v in enumerate(TEMP):\n",
    "    print(\"DIA {:2d} : {:.2f} °C\".format(a+1,v))\n",
    "    \n",
    "print() \n",
    "\n",
    "print(\"\\t DIAS CALUROSOS\\n\")\n",
    "CALUROSOS=list(filter(lambda x:x>30,TEMP))\n",
    "for a in CALUROSOS:\n",
    "    p=TEMP.index(a)\n",
    "    print(\"DIA {:2d} : {:.2f} °C\".format(p+1,a))\n"
   ]
  },
  {
   "cell_type": "code",
   "execution_count": null,
   "metadata": {},
   "outputs": [],
   "source": []
  }
 ],
 "metadata": {
  "kernelspec": {
   "display_name": "Python 3",
   "language": "python",
   "name": "python3"
  },
  "language_info": {
   "codemirror_mode": {
    "name": "ipython",
    "version": 3
   },
   "file_extension": ".py",
   "mimetype": "text/x-python",
   "name": "python",
   "nbconvert_exporter": "python",
   "pygments_lexer": "ipython3",
   "version": "3.7.6"
  }
 },
 "nbformat": 4,
 "nbformat_minor": 4
}
