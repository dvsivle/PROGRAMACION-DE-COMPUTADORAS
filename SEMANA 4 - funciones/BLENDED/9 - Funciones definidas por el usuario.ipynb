{
 "cells": [
  {
   "cell_type": "markdown",
   "metadata": {},
   "source": [
    "# Funciones definidas por el usuario"
   ]
  },
  {
   "cell_type": "markdown",
   "metadata": {},
   "source": [
    "Como en todo código de programación, se puede presentar el caso en el que un conjunto de instrucciones se ejecutan en repetidas oportunidades. Esto se puede establecer en un lazo de repetición, pero puede que inclusive sea el lazo el que se repita en varias secciones del código.\n",
    "\n",
    "Por otro lado, a veces para resolver un problema de programación, es mejor utilizar la técnica de \"divide y venceras\", de tal forma que un problema complejo se separe en sub-problemas de fácil solución de forma independiente.\n",
    "\n",
    "Es en esto casos que la idea de las funciones resulta útil: secciones separadas de código que permiten encapsular una rutina de ejecución.\n",
    "\n",
    "    def nombre_funcion(argumentos):\n",
    "        <Instrucciones>\n",
    "        return <valores>\n",
    "        \n",
    "Por ejemplo, si se quiere construír una función que retorne grados Fahrenheit a partir de valores en grados centigrados:"
   ]
  },
  {
   "cell_type": "code",
   "execution_count": 1,
   "metadata": {
    "collapsed": true
   },
   "outputs": [],
   "source": [
    "def F(C):\n",
    "    return (9.0/5) * C + 32"
   ]
  },
  {
   "cell_type": "markdown",
   "metadata": {},
   "source": [
    "Para probar la función, será necesario llamar a la función desde un script, que se puede considerar como una función principal (main):"
   ]
  },
  {
   "cell_type": "code",
   "execution_count": 4,
   "metadata": {
    "scrolled": false
   },
   "outputs": [
    {
     "name": "stdout",
     "output_type": "stream",
     "text": [
      "  0°C -> 32.0F\n",
      "  5°C -> 41.0F\n",
      " 10°C -> 50.0F\n",
      " 15°C -> 59.0F\n",
      " 20°C -> 68.0F\n",
      " 25°C -> 77.0F\n",
      " 30°C -> 86.0F\n",
      " 35°C -> 95.0F\n",
      " 40°C -> 104.0F\n",
      " 45°C -> 113.0F\n",
      " 50°C -> 122.0F\n",
      " 55°C -> 131.0F\n",
      " 60°C -> 140.0F\n",
      " 65°C -> 149.0F\n",
      " 70°C -> 158.0F\n",
      " 75°C -> 167.0F\n",
      " 80°C -> 176.0F\n",
      " 85°C -> 185.0F\n",
      " 90°C -> 194.0F\n",
      " 95°C -> 203.0F\n",
      "100°C -> 212.0F\n"
     ]
    }
   ],
   "source": [
    "# Se crea una lista de grados centigrados entre 0 y 100 en pasos de 5\n",
    "gradosC = list(range(0,101,5))\n",
    "\n",
    "# Se halla una lista con los grados Fahrenheit\n",
    "gradosF = []\n",
    "for grad in gradosC:\n",
    "    gradosF.append(F(grad))\n",
    "\n",
    "# Se imprimen los resultados\n",
    "# Recuerde: zip() es una funcion que desempaqueta dos o mas iterables\n",
    "for gC, gF in zip(gradosC, gradosF):\n",
    "    print(\"{:3}°C -> {:4.1f}F\".format(gC, gF))"
   ]
  },
  {
   "cell_type": "markdown",
   "metadata": {},
   "source": [
    "Una funcion puede manejar multiples argumentos:"
   ]
  },
  {
   "cell_type": "code",
   "execution_count": 6,
   "metadata": {
    "collapsed": true
   },
   "outputs": [],
   "source": [
    "def yfunc(t, v0):\n",
    "    g = 9.81\n",
    "    return v0*t - 0.5*g*t**2"
   ]
  },
  {
   "cell_type": "markdown",
   "metadata": {},
   "source": [
    "Note que *g* es una variable local con un valor fijo, mientras que *t y *v0* son argumentos y por lo tanto tambien variables locales."
   ]
  },
  {
   "cell_type": "code",
   "execution_count": 9,
   "metadata": {},
   "outputs": [
    {
     "name": "stdout",
     "output_type": "stream",
     "text": [
      "0.55095\n",
      "0.55095\n",
      "0.010949999999999988\n",
      "0.010949999999999988\n"
     ]
    }
   ],
   "source": [
    "print(yfunc(0.1, 6))\n",
    "print(yfunc(0.1, v0 = 6))\n",
    "print(yfunc(t = 0.1, v0 = 0.6))\n",
    "print(yfunc(v0 = 0.6, t = 0.1))"
   ]
  },
  {
   "cell_type": "markdown",
   "metadata": {},
   "source": [
    "Note que en el ejemplo anterior, los argumentos se pueden especificar de dos formas: directamente separando los valores por comas (notación posicional) de forma que al llamar a la función, esta sabrá que valor le corresponde a que argumento, o indicando que argumento específico tiene que valor (notación por palabra clave o *keyword*). Esta ultima forma de llamar tiene la ventaja de que es una llamada más clara, ademas de no requiere colocar los arguementos en orden."
   ]
  },
  {
   "cell_type": "markdown",
   "metadata": {},
   "source": [
    "Así también, una función puede retornar más de un valor. Por ejemplo, estamos interesados en evaluar tanto y(t) del caso anterior, asi como su derivada:\n",
    "\n",
    "$$ \\frac{dy}{dt} = v_{0} - gt $$"
   ]
  },
  {
   "cell_type": "code",
   "execution_count": 10,
   "metadata": {
    "collapsed": true
   },
   "outputs": [],
   "source": [
    "def yfunc(t, v0):\n",
    "    g = 9.81\n",
    "    y = v0*t - 0.5*g*t**2\n",
    "    dydt = v0 - g*t\n",
    "    return y, dydt"
   ]
  },
  {
   "cell_type": "markdown",
   "metadata": {},
   "source": [
    "Para llamar a esta función, requeriremos especificarle las dos variables de salida:"
   ]
  },
  {
   "cell_type": "code",
   "execution_count": 18,
   "metadata": {},
   "outputs": [
    {
     "name": "stdout",
     "output_type": "stream",
     "text": [
      "Posicion =  3.963749999999999 metros\n",
      "Velocidad =  -4.715 metros por segundo\n"
     ]
    }
   ],
   "source": [
    "posicion, velocidad = yfunc(t = 1.5, v0 = 10)\n",
    "print(\"Posicion = \", posicion, \"metros\")\n",
    "print(\"Velocidad = \", velocidad, \"metros por segundo\")"
   ]
  },
  {
   "cell_type": "markdown",
   "metadata": {},
   "source": [
    "Entonces ahora podemos utilizar esta función para crear una tabla:"
   ]
  },
  {
   "cell_type": "code",
   "execution_count": 21,
   "metadata": {},
   "outputs": [
    {
     "name": "stdout",
     "output_type": "stream",
     "text": [
      "t = 0.00\tposicion = 0.000000\tvelocidad = 5.0000\n",
      "t = 0.05\tposicion = 0.237737\tvelocidad = 4.5095\n",
      "t = 0.10\tposicion = 0.450950\tvelocidad = 4.0190\n",
      "t = 0.15\tposicion = 0.639638\tvelocidad = 3.5285\n",
      "t = 0.20\tposicion = 0.803800\tvelocidad = 3.0380\n",
      "t = 0.25\tposicion = 0.943437\tvelocidad = 2.5475\n",
      "t = 0.30\tposicion = 1.058550\tvelocidad = 2.0570\n",
      "t = 0.35\tposicion = 1.149138\tvelocidad = 1.5665\n",
      "t = 0.40\tposicion = 1.215200\tvelocidad = 1.0760\n",
      "t = 0.45\tposicion = 1.256737\tvelocidad = 0.5855\n"
     ]
    }
   ],
   "source": [
    "# Creamos una lista por comprension de tiempos\n",
    "t_list = [0.05 * i for i in range(10)]\n",
    "for t in t_list:\n",
    "    pos, vel = yfunc(t, v0 = 5)\n",
    "    print(\"t = {:.2f}\\tposicion = {:4f}\\tvelocidad = {:.4f}\".format(t, pos, vel))"
   ]
  },
  {
   "cell_type": "markdown",
   "metadata": {},
   "source": [
    "Para definir formalmente una función, es necesario que esta incluya un \"docstring\"; esto es, el texto de ayuda de la funcion"
   ]
  },
  {
   "cell_type": "code",
   "execution_count": 14,
   "metadata": {},
   "outputs": [],
   "source": [
    "def yfunc(t, v0):\n",
    "    '''\n",
    "    Obtiene la posicion y la velocidad de una particula \n",
    "    en un instante de tiempo y con una velocidad inicial\n",
    "    \n",
    "    t = tiempo de evaluacion\n",
    "    v0 = velocidad inicial\n",
    "    return: posicion, velocidad\n",
    "    '''\n",
    "    g = 9.81\n",
    "    y = v0*t - 0.5*g*t**2\n",
    "    dydt = v0 - g*t\n",
    "    return y, dydt"
   ]
  },
  {
   "cell_type": "code",
   "execution_count": 2,
   "metadata": {},
   "outputs": [
    {
     "name": "stdout",
     "output_type": "stream",
     "text": [
      "Help on function yfunc in module __main__:\n",
      "\n",
      "yfunc(t, v0)\n",
      "    Obtiene la posicion y la velocidad de una particula \n",
      "    en un instante de tiempo y con una velocidad inicial\n",
      "    \n",
      "    t = tiempo de evaluacion\n",
      "    v0 = velocidad inicial\n",
      "    return: posicion, velocidad\n",
      "\n"
     ]
    }
   ],
   "source": [
    "help(yfunc)"
   ]
  },
  {
   "cell_type": "markdown",
   "metadata": {},
   "source": [
    "## Funciones lambda"
   ]
  },
  {
   "cell_type": "markdown",
   "metadata": {},
   "source": [
    "Existe una forma rápida de construír una función que a veces resulta conveniente:"
   ]
  },
  {
   "cell_type": "code",
   "execution_count": 37,
   "metadata": {},
   "outputs": [
    {
     "name": "stdout",
     "output_type": "stream",
     "text": [
      "2**2 + 4 = 8\n"
     ]
    }
   ],
   "source": [
    "f = lambda x: x**2 + 4\n",
    "print(\"2**2 + 4 =\",f(2))"
   ]
  },
  {
   "cell_type": "markdown",
   "metadata": {},
   "source": [
    "Esta es una función \"anónima\" y que ha sido asignada a una variable. Una función sin nombre se conoce con el nombre de \"funcion lambda\". Esto es equivalente a escribir:\n",
    "\n",
    "    def f(x):\n",
    "        return x**2 + 4\n",
    "\n",
    "En general:\n",
    "\n",
    "    def g(arg1, arg2, arg3, ...):\n",
    "        return expresion\n",
    "\n",
    "Se puede escribir como:\n",
    "\n",
    "    g = lambda arg1, arg2, arg3,...: expresion\n",
    "\n",
    "Retomemos el caso de la función de conversión de grados utilizando la función *map*. Esta función permite modificar todos los elementos de una lista por una función de la forma:\n",
    "\n",
    "    map(funcion, lista)\n",
    "    \n",
    "En este caso, se utilizara la función lambda:\n",
    "\n",
    "     lambda C: (9.0/5) * C + 32\n",
    "\n",
    "Par que afecte a cada valor de la lista gradosC:"
   ]
  },
  {
   "cell_type": "code",
   "execution_count": 3,
   "metadata": {},
   "outputs": [
    {
     "name": "stdout",
     "output_type": "stream",
     "text": [
      "  0°C -> 32.0F\n",
      "  5°C -> 41.0F\n",
      " 10°C -> 50.0F\n",
      " 15°C -> 59.0F\n",
      " 20°C -> 68.0F\n",
      " 25°C -> 77.0F\n",
      " 30°C -> 86.0F\n",
      " 35°C -> 95.0F\n",
      " 40°C -> 104.0F\n",
      " 45°C -> 113.0F\n",
      " 50°C -> 122.0F\n",
      " 55°C -> 131.0F\n",
      " 60°C -> 140.0F\n",
      " 65°C -> 149.0F\n",
      " 70°C -> 158.0F\n",
      " 75°C -> 167.0F\n",
      " 80°C -> 176.0F\n",
      " 85°C -> 185.0F\n",
      " 90°C -> 194.0F\n",
      " 95°C -> 203.0F\n",
      "100°C -> 212.0F\n"
     ]
    }
   ],
   "source": [
    "# Se crea una lista de grados centigrados entre 0 y 100 en pasos de 5\n",
    "gradosC = list(range(0,101,5))\n",
    "\n",
    "# Se crea una lista con sus equivalente de grados Fahrenheit sin recurrir a un lazo\n",
    "gradosF = list(map(lambda C: (9.0/5) * C + 32, gradosC))\n",
    "\n",
    "# Se imprimen los resultados\n",
    "for gC, gF in zip(gradosC, gradosF):\n",
    "    print(\"{:3}°C -> {:4.1f}F\".format(gC, gF))"
   ]
  },
  {
   "cell_type": "markdown",
   "metadata": {},
   "source": [
    "Asi también, se puede utilizar la función *filter* en combinacion con una función lambda para seleccionar los elementos de una lista que cumplan con cierto criterio de la forma:\n",
    "\n",
    "    filter(funcion, lista)\n",
    "    \n",
    "En esta caso queremos obtener las valores de temperatura Fahrenheit que sean pares:\n",
    "\n",
    "    lambda F: F % 2 == 0"
   ]
  },
  {
   "cell_type": "code",
   "execution_count": 7,
   "metadata": {},
   "outputs": [
    {
     "name": "stdout",
     "output_type": "stream",
     "text": [
      "  32.0 F\n",
      "  50.0 F\n",
      "  68.0 F\n",
      "  86.0 F\n",
      " 104.0 F\n",
      " 122.0 F\n",
      " 140.0 F\n",
      " 158.0 F\n",
      " 176.0 F\n",
      " 194.0 F\n",
      " 212.0 F\n"
     ]
    }
   ],
   "source": [
    "# Se filtran valores de una lista sin recurrir a un lazo ni a una instruccion condicional\n",
    "F_pares = list(filter(lambda F: F % 2 == 0, gradosF))\n",
    "\n",
    "for gF in F_pares:\n",
    "    print(\"{:6.1f} F\".format(gF))"
   ]
  },
  {
   "cell_type": "markdown",
   "metadata": {},
   "source": [
    "Las funciones *lambda*, combinación con las funciones *map* y *filter*, eliminan lazos e instrucciones condicionales, haciendo que el código sea mas *\"Pythonico\"*"
   ]
  },
  {
   "cell_type": "markdown",
   "metadata": {},
   "source": [
    "## Funciones recursivas"
   ]
  },
  {
   "cell_type": "markdown",
   "metadata": {},
   "source": [
    "Muchas operaciones se pueden expresar de forma recursiva: esto es, utilizando la propia definicion como parte de la definición de una operacion. Por ejemplo, la multiplición de dos valores positivos tienen las siguientes reglas:\n",
    "\n",
    "    (1) : n * 0 = 0\n",
    "    (2) : n * m = n + (n * m-1)\n",
    "    \n",
    "Esto quiere decir que 2 * 4 se puede expresar de la forma:\n",
    "\n",
    "    2 * 4 = 2 + (2 * 3) = 2 + 2 + (2 * 2) = 2 + 2 + 2 + (2 * 1) = 2 + 2 + 2 + (2 * 0)\n",
    "    \n",
    "La ultima operacion (2 * 0) retorna 0 por ser el caso (1): n * 0 = 0, por lo tanto, regresando, se tiene:\n",
    "\n",
    "    2 * 4 = 2 + 2 + 2 + 2 + 0\n",
    "\n",
    "Esta definición recursiva se puede utilizar para construír una función que se llame a si misma y que \"regrese sobre sus pasos\" utilizando el caso (1) como punto de retorno:    "
   ]
  },
  {
   "cell_type": "code",
   "execution_count": 10,
   "metadata": {},
   "outputs": [],
   "source": [
    "def multiplica(a, b):\n",
    "    if b == 0:\n",
    "        return 0\n",
    "    else:\n",
    "        return a + multiplica(a, b-1)"
   ]
  },
  {
   "cell_type": "code",
   "execution_count": 13,
   "metadata": {
    "scrolled": true
   },
   "outputs": [
    {
     "name": "stdout",
     "output_type": "stream",
     "text": [
      "9 x  1 =  9\n",
      "9 x  2 = 18\n",
      "9 x  3 = 27\n",
      "9 x  4 = 36\n",
      "9 x  5 = 45\n",
      "9 x  6 = 54\n",
      "9 x  7 = 63\n",
      "9 x  8 = 72\n",
      "9 x  9 = 81\n",
      "9 x 10 = 90\n"
     ]
    }
   ],
   "source": [
    "for num in range(1,11):\n",
    "    print(\"9 x {:2d} = {:2d}\".format(num, multiplica(9,num)))\n"
   ]
  },
  {
   "cell_type": "markdown",
   "metadata": {},
   "source": [
    "La función multiplica realiza el producto haciendo sumas sucesivas. ¿Puede construír una función recursiva que realice la division de dos números utilizando una definción recursiva del cociente a traves de restas sucesivas?"
   ]
  },
  {
   "cell_type": "code",
   "execution_count": 8,
   "metadata": {
    "scrolled": true
   },
   "outputs": [],
   "source": [
    "#--------------------- MODULOS EN PYTHON ---------------------\n",
    "\n",
    "#UTILICE SPYDER \n",
    "\n",
    "# Se puede crear un archivo de modulos definido por el usuario.\n",
    "# Un modulo es un archivo que contiene instrucciones y definiciones\n",
    "# Vamos crear un modulo de funciones utiles para las tareas relacionadas\n",
    "# al calculo en ingenieria electronica\n",
    "\n",
    "#docstring del módulo:\n",
    "\n",
    "'''Modulo de funciones electronicas\n",
    "\n",
    "Funciones en modulo:\n",
    " - r_serie(r1, r1, ..., rn)\n",
    " - r_paralelo(r1, r2, ..., rn)\n",
    " '''\n",
    "\n",
    "#se crean las funciones del módulo:\n",
    "def r_serie(*resistencias):\n",
    "    '''Funcion que obtiene la resistencia equivalente de valores resistivos\n",
    "    en serie'''\n",
    "    suma = 0\n",
    "    for R in resistencias:\n",
    "        suma += R\n",
    "\n",
    "    return suma\n",
    "\n",
    "def r_paralelo(*resistencias):\n",
    "    '''Funcion que obtiene la resistencia equivalente de valores resistivos\n",
    "    en serie'''\n",
    "    suma = 0\n",
    "    for R in resistencias:\n",
    "        suma += 1/R \n",
    "\n",
    "    return 1/suma\n",
    "\n",
    "# A este archivo lo guardamos con el nombre electronica.py (verificar que el\n",
    "# directorio de trabajo sea el mismo donde se ha guaradado el archivo de modulo)\n",
    "# Ahora podemos probar el modulo en la consola\n",
    "\n",
    "#comprobar en sypder:\n",
    "#import electronica\n",
    "#print(electronica.r_serie(10, 10))\n",
    "\n",
    "#print(electronica.r_paralelo(10,10))\n"
   ]
  },
  {
   "cell_type": "code",
   "execution_count": 10,
   "metadata": {},
   "outputs": [],
   "source": [
    "# Si se hacen cambios al archivo de modulo y se quieren probar las modificaciones\n",
    "# es necesario refrescar la importacion del modulo\n",
    "\n",
    "#comprobar en sypder:\n",
    "\n",
    "#import importlib\n",
    "#importlib.reload(electronica)"
   ]
  },
  {
   "cell_type": "code",
   "execution_count": null,
   "metadata": {},
   "outputs": [],
   "source": [
    "# Los modulos definidos por el usuario se importan de la misma forma que los modulos\n",
    "# del sistema:\n",
    "\n",
    "#import electronica\n",
    "#import electronica as e\n",
    "#from electronica import r_serie\n",
    "#from electronica import *"
   ]
  },
  {
   "cell_type": "code",
   "execution_count": 12,
   "metadata": {},
   "outputs": [],
   "source": [
    "# Y la funcion dir permite explorar las funciones del modulo\n",
    "\n",
    "#probar en spyder:\n",
    "#dir(electronica)"
   ]
  },
  {
   "cell_type": "code",
   "execution_count": null,
   "metadata": {},
   "outputs": [],
   "source": [
    "# Pruebe el atributo __doc__ del modulo que contiene el docsting del modulo \n",
    "\n",
    "#probar en spyder:\n",
    "#electronica.__doc__"
   ]
  },
  {
   "cell_type": "code",
   "execution_count": null,
   "metadata": {},
   "outputs": [],
   "source": [
    "# Puede revisar como utiliza los docstrings la funcion help para dar un formato\n",
    "# de documentacion de ayuda\n",
    "\n",
    "#probar en spyder:\n",
    "#help(electronica)"
   ]
  },
  {
   "cell_type": "code",
   "execution_count": 13,
   "metadata": {},
   "outputs": [
    {
     "name": "stdout",
     "output_type": "stream",
     "text": [
      "The Zen of Python, by Tim Peters\n",
      "\n",
      "Beautiful is better than ugly.\n",
      "Explicit is better than implicit.\n",
      "Simple is better than complex.\n",
      "Complex is better than complicated.\n",
      "Flat is better than nested.\n",
      "Sparse is better than dense.\n",
      "Readability counts.\n",
      "Special cases aren't special enough to break the rules.\n",
      "Although practicality beats purity.\n",
      "Errors should never pass silently.\n",
      "Unless explicitly silenced.\n",
      "In the face of ambiguity, refuse the temptation to guess.\n",
      "There should be one-- and preferably only one --obvious way to do it.\n",
      "Although that way may not be obvious at first unless you're Dutch.\n",
      "Now is better than never.\n",
      "Although never is often better than *right* now.\n",
      "If the implementation is hard to explain, it's a bad idea.\n",
      "If the implementation is easy to explain, it may be a good idea.\n",
      "Namespaces are one honking great idea -- let's do more of those!\n"
     ]
    }
   ],
   "source": [
    "#-------------------------- El Zen de Python -------------------------------\n",
    "# De todo lo visto hasta ahora, debe quedar claro que detras del diseño de lenguaje de\n",
    "# programacion Python hay una filosofia de hacer las cosas. Esta esta resumida en un\n",
    "# documento llamado El Zen de Python.\n",
    "#\n",
    "# Es algo asi como los mandamientos de Pyton y se puede acceder a ellos con la instruccion:\n",
    "import this"
   ]
  },
  {
   "cell_type": "code",
   "execution_count": 2,
   "metadata": {},
   "outputs": [
    {
     "name": "stdout",
     "output_type": "stream",
     "text": [
      "Hola ('Juan', 'Maria')\n"
     ]
    }
   ],
   "source": [
    "def saludaPersona(*nombre):\n",
    "    print(\"Hola\", nombre)\n",
    "\n",
    "saludaPersona(\"Juan\", \"Maria\")"
   ]
  },
  {
   "cell_type": "code",
   "execution_count": 4,
   "metadata": {},
   "outputs": [
    {
     "data": {
      "text/plain": [
       "0.6666666666666666"
      ]
     },
     "execution_count": 4,
     "metadata": {},
     "output_type": "execute_result"
    }
   ],
   "source": [
    "def paralelo (x, y = 1):\n",
    "    return float(x * y) / (x + y)\n",
    "\n",
    "paralelo(2)"
   ]
  },
  {
   "cell_type": "code",
   "execution_count": 5,
   "metadata": {},
   "outputs": [
    {
     "name": "stdout",
     "output_type": "stream",
     "text": [
      "(1, 3, 6)\n"
     ]
    }
   ],
   "source": [
    "numeros = [1, 3, 6]\n",
    "otros_numeros = tuple(map(lambda x: x, numeros))\n",
    "print(otros_numeros)"
   ]
  }
 ],
 "metadata": {
  "kernelspec": {
   "display_name": "Python 3",
   "language": "python",
   "name": "python3"
  },
  "language_info": {
   "codemirror_mode": {
    "name": "ipython",
    "version": 3
   },
   "file_extension": ".py",
   "mimetype": "text/x-python",
   "name": "python",
   "nbconvert_exporter": "python",
   "pygments_lexer": "ipython3",
   "version": "3.7.6"
  }
 },
 "nbformat": 4,
 "nbformat_minor": 2
}
