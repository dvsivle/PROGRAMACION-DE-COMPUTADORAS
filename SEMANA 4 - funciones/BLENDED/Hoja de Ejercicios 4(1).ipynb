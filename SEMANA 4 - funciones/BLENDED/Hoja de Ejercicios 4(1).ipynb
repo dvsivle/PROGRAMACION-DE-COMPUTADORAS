{
 "cells": [
  {
   "cell_type": "markdown",
   "metadata": {},
   "source": [
    "# Hoja de Ejercicios 4"
   ]
  },
  {
   "cell_type": "markdown",
   "metadata": {},
   "source": [
    "###  **Ejercicio 1**\n",
    "\n",
    "Escriba una función *trianguloValido(lado1, lado2, lado3)* que retorne un valor lógico que indique si los tres valores de entrada pueden representar los lados de un triangulo válido. Utilice esta función en un programa que pida los lados de un triángulo e indique los posibles resultados: equilatero, escaleno, isoceles o triangulo inválido."
   ]
  },
  {
   "cell_type": "code",
   "execution_count": 8,
   "metadata": {},
   "outputs": [
    {
     "name": "stdout",
     "output_type": "stream",
     "text": [
      "ingrese 3 numeros para verificar si forman un triangulo: \n",
      "lado1: 8\n",
      "lado2: 7\n",
      "lado3: 9\n",
      "\n",
      "Escaleno\n"
     ]
    }
   ],
   "source": [
    "# Funcion\n",
    "def trianguloValido(lado1,lado2,lado3):\n",
    "    if((abs(lado1 - lado2)<lado3<lado1+lado3) and (abs(lado1 - lado3)<lado2<lado1+lado3) and (abs(lado3 - lado2)<lado1<lado2+lado3) ):\n",
    "        return True\n",
    "    else:\n",
    "        return False\n",
    "\n",
    "# Main \n",
    "print(\"ingrese 3 numeros para verificar si forman un triangulo: \")\n",
    "lado1=float(input(\"lado1: \"))\n",
    "lado2=float(input(\"lado2: \"))\n",
    "lado3=float(input(\"lado3: \"))\n",
    "\n",
    "print()\n",
    "\n",
    "if trianguloValido(lado1,lado2,lado3)==True:\n",
    "    if(lado1==lado2 or lado1==lado3 or lado2==lado3):\n",
    "        if(lado1==lado2 and lado2==lado3):\n",
    "            print('Equilatero')\n",
    "        else:\n",
    "            print('Isoseles')\n",
    "    else:\n",
    "        print('Escaleno')\n",
    "else:\n",
    "    print('Triangulo inválido')\n",
    "\n"
   ]
  },
  {
   "cell_type": "markdown",
   "metadata": {},
   "source": [
    "### **Ejercicio 2**\n",
    "Escriba una funcion *max_min* que tome un número variable de valores (numeros enteros) de entrada y retorne los valores máximo y mínimo. Utilice esta funcion para hacer un programa que pida al usuario cinco valores y retorne estos valores "
   ]
  },
  {
   "cell_type": "code",
   "execution_count": 13,
   "metadata": {},
   "outputs": [
    {
     "ename": "IndentationError",
     "evalue": "expected an indented block (<ipython-input-13-6d7e1bf65f7f>, line 6)",
     "output_type": "error",
     "traceback": [
      "\u001b[1;36m  File \u001b[1;32m\"<ipython-input-13-6d7e1bf65f7f>\"\u001b[1;36m, line \u001b[1;32m6\u001b[0m\n\u001b[1;33m    num=[]\u001b[0m\n\u001b[1;37m      ^\u001b[0m\n\u001b[1;31mIndentationError\u001b[0m\u001b[1;31m:\u001b[0m expected an indented block\n"
     ]
    }
   ],
   "source": [
    "# Funcion\n",
    "def max_min(*a):\n",
    "    \n",
    "\n",
    "# Main\n",
    "num=[]\n",
    "num=input(\"Ingrese 5 numeros: \").split(\" \")\n",
    "\n",
    "print(num)"
   ]
  },
  {
   "cell_type": "markdown",
   "metadata": {},
   "source": [
    "### **Ejercicio 3**\n",
    "Escriba la funcion *esPrimo(num)* que retorne un valor de verdad que indique si un número es primo o no. Utilice esta función para encontrar un listado de todos los trios de primos sexys hasta el número 1000. Los primos \"sexys\" son primos separados por 6 unidades y un \"trio de primos sexys\" son tres numeros primos de la forma (p, p+6, p+12). Por ejemplo, el primer trio sera (7, 12, 19). Nota: lo de \"sexy\" es resultado de que estan separados por seis unidades (six, en inglés)."
   ]
  },
  {
   "cell_type": "code",
   "execution_count": 19,
   "metadata": {},
   "outputs": [],
   "source": [
    "# Funcion\n",
    "\n",
    "\n",
    "# Main\n",
    "\n"
   ]
  },
  {
   "cell_type": "markdown",
   "metadata": {},
   "source": [
    "### **Ejercicio 4**\n",
    "Escriba un programa que genere N lanzamientos (dato ingresado por el usuario) de 2 dados y almacene los resultados en un lista (cada lanzamiento generara una lista de 2 elementos, y habra N listas en la lista de lanzamientos). Utilice un *mapa* y una funcion *lambda* para obtener la suma los dados y muestre un listado con la distribución de probabilidad de los resultados (el numero de veces que salio un resultado entre 2 y 12, dividido entre N):\n",
    "\n",
    "    Ingrese el numero de lanzamientos: 1000\n",
    "    \n",
    "    2 : 0.0278\n",
    "    3 : 0.0555\n",
    "    4 : 0.8333\n",
    "    .\n",
    "    .\n",
    "    .\n",
    "    .\n",
    "    11: 0.0555\n",
    "    12: 0.0278"
   ]
  },
  {
   "cell_type": "code",
   "execution_count": 9,
   "metadata": {},
   "outputs": [],
   "source": [
    "# Escriba su programa aqui\n",
    "\n"
   ]
  },
  {
   "cell_type": "markdown",
   "metadata": {},
   "source": [
    "### **Ejercicio 5**\n",
    "Escriba una función que retorne el n-esimo término de la secuencia de Fibonacci, que tiene la forma 1, 1, 2, 3, 5, 8, ..., donde donde los terminos para n >= 2 son el resultado de la suma de los dos anteriores. Pruebe hacer una función recursiva o basada en lazos."
   ]
  },
  {
   "cell_type": "code",
   "execution_count": null,
   "metadata": {
    "scrolled": true
   },
   "outputs": [],
   "source": [
    "\n"
   ]
  },
  {
   "cell_type": "markdown",
   "metadata": {},
   "source": [
    "### **Ejercicio 6**\n",
    "Un triangulo arbitrario puede ser descrito por las coordenadas de sus tres vertices: $(x_{1}, y_{1}), (x_{2}, y_{2}), (x_{3}, y_{3})$. El area del triangulo esta dado por la formula:\n",
    "\n",
    "$$ A = \\frac{1}{2} [x_{2}y_{3} - x_{3}y_{2} - x_{1}y_{3} + x_{3}y_{1} + x_{1}y_{2} - x_{2}y_{1}] $$\n",
    "\n",
    "Escriba una función *area(vertices)* que retorne el área de un triangulo cuyos vertices estan especificados por el argumento vertices, que es una lista anidada de las coordenadas de los vertices. Por ejemplo, *vertices* puede ser [[0,0],[1,0],[0,2]] si las tres esquinas de un triangulo tienen coordenadas (0,0), (1,0) y (0,2)."
   ]
  },
  {
   "cell_type": "code",
   "execution_count": null,
   "metadata": {
    "collapsed": true
   },
   "outputs": [],
   "source": [
    "# Funcion\n",
    "\n",
    "# Main\n",
    "areaTriangulo = area([[0,0],[1,0],[0,2]])"
   ]
  },
  {
   "cell_type": "markdown",
   "metadata": {},
   "source": [
    "### **Ejercicio 7**\n",
    "Algunos objetos se mueven a lo largo de una ruta en el plano. Luego de *n* instantes de tiempo, se registran las posiciones correspondientes (x, y) del objeto: $(x_{o}, y_{o}), (x_{1}, y_{1}), ..., (x_{n-1}, y_{n-1})$. La distancia de la ruta recorrida *L* de $(x_{0},y_{0})$ a $(x_{n-1},y_{n-1})$ es la suma de todos los segmentos individuales $((x_{i-1},y_{i-1})$ a $(x_{i},y_{i}$, *i* = 1, ..., *n*-1):\n",
    "\n",
    "$$L = \\sum_{i=1}^{n-1}\\sqrt{(x_{i} - x_{i-1})^{2} + (y_{i} - y_{i-1})^{2}}$$\n",
    "\n",
    "Escriba la función longRuta(x, y) que calcule *L* de acuerdo a la fórmula. Los argumentos *x* e *y* serán las coordenadas $x_{0}$, ..., $x_{n-1}$ y $y_{0}$, ..., $y_{n-1}$, respectivamente."
   ]
  },
  {
   "cell_type": "code",
   "execution_count": null,
   "metadata": {},
   "outputs": [],
   "source": [
    "# Funcion\n",
    "\n",
    "# Main\n",
    "# La ruta recorrida va por los puntos (1,1), (2,1), (1,2) y (1,1)\n",
    "distancia = longRuta([1, 2, 1, 1], [1, 1, 2, 1])"
   ]
  },
  {
   "cell_type": "markdown",
   "metadata": {},
   "source": [
    "### **Ejercicio 8**\n",
    "El valor de $\\pi$ es igual al perímetro de una circunferencia de radio 1/2. Suponga que se aproxima la circunferencia por un polígono hecho con *N+1* puntos en un círculo. La longitud del polígono puede hallarse utilizando la funcin *longRuta* del problema anterior. Calcule los *N+1* puntos $(x_{i},y_{i})$ a lo largo de un círculo con radio 1/2 de acuerdo con las fórmulas:\n",
    "\n",
    "   $x_{i} = \\frac{1}{2} cos(2\\pi i/N)$,    $y_{i} = \\frac{1}{2} cos(2\\pi i/N), i = 0, ..., N$\n",
    "   \n",
    "Llame a la función anterior *longRuta* y escriba la aproximación del error de $\\pi$ para  $N = 2^{k}, k = 2, 3, .., 10$"
   ]
  },
  {
   "cell_type": "code",
   "execution_count": null,
   "metadata": {
    "collapsed": true
   },
   "outputs": [],
   "source": [
    "# Funcion\n",
    "\n",
    "# Main\n"
   ]
  }
 ],
 "metadata": {
  "kernelspec": {
   "display_name": "Python 3",
   "language": "python",
   "name": "python3"
  },
  "language_info": {
   "codemirror_mode": {
    "name": "ipython",
    "version": 3
   },
   "file_extension": ".py",
   "mimetype": "text/x-python",
   "name": "python",
   "nbconvert_exporter": "python",
   "pygments_lexer": "ipython3",
   "version": "3.7.6"
  }
 },
 "nbformat": 4,
 "nbformat_minor": 2
}
