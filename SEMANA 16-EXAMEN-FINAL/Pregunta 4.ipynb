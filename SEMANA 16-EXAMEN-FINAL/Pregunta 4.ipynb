{
 "cells": [
  {
   "cell_type": "code",
   "execution_count": 11,
   "metadata": {},
   "outputs": [],
   "source": [
    "from random import* \n",
    "def generaNumeroTargeta():\n",
    "    tex=str(randint(1000,9999))+' '+str(randint(1000,9999))+' '+str(randint(1000,9999))+' '+str(randint(1000,9999))\n",
    "    return tex\n",
    "    \n",
    "with open(\"clientes.txt\",mode='r',encoding='utf-8') as lectura:\n",
    "    listalineas=lectura.readlines()\n",
    "    cantidad=len(listalineas)\n",
    "    a=set() #numero de tarjetas\n",
    "    while (len(a)<cantidad):\n",
    "        a.add(generaNumeroTargeta())\n",
    "    \n",
    "    with open(\"tarjetas.txt\",mode='w') as escritura:\n",
    "        for linea,numero in zip(listalineas,a):\n",
    "            cli=linea.upper()\n",
    "            cli=linea.split()\n",
    "            ap=cli[2]\n",
    "            cliente=cli[0]+' '+ cli[1]+' '+ap[0]+'.\\n'\n",
    "            escritura.write(cliente)\n",
    "            escritura.write(numero+'\\n\\n')"
   ]
  },
  {
   "cell_type": "code",
   "execution_count": null,
   "metadata": {},
   "outputs": [],
   "source": []
  },
  {
   "cell_type": "code",
   "execution_count": null,
   "metadata": {},
   "outputs": [],
   "source": []
  }
 ],
 "metadata": {
  "kernelspec": {
   "display_name": "Python 3",
   "language": "python",
   "name": "python3"
  },
  "language_info": {
   "codemirror_mode": {
    "name": "ipython",
    "version": 3
   },
   "file_extension": ".py",
   "mimetype": "text/x-python",
   "name": "python",
   "nbconvert_exporter": "python",
   "pygments_lexer": "ipython3",
   "version": "3.7.6"
  }
 },
 "nbformat": 4,
 "nbformat_minor": 4
}
