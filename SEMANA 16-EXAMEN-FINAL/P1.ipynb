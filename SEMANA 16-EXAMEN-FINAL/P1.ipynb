{
 "cells": [
  {
   "cell_type": "code",
   "execution_count": null,
   "metadata": {},
   "outputs": [],
   "source": []
  },
  {
   "cell_type": "code",
   "execution_count": 2,
   "metadata": {},
   "outputs": [
    {
     "name": "stderr",
     "output_type": "stream",
     "text": [
      "Exception in Tkinter callback\n",
      "Traceback (most recent call last):\n",
      "  File \"C:\\ProgramData\\Anaconda3\\lib\\tkinter\\__init__.py\", line 1705, in __call__\n",
      "    return self.func(*args)\n",
      "  File \"<ipython-input-2-59a035d9df34>\", line 13, in calcular\n",
      "    det=((b.get()**2)-4*a.get()*(c.get()-d.get()))\n",
      "  File \"C:\\ProgramData\\Anaconda3\\lib\\tkinter\\__init__.py\", line 529, in get\n",
      "    return self._tk.getdouble(self._tk.globalgetvar(self._name))\n",
      "_tkinter.TclError: expected floating-point number but got \"\"\n",
      "Exception in Tkinter callback\n",
      "Traceback (most recent call last):\n",
      "  File \"C:\\ProgramData\\Anaconda3\\lib\\tkinter\\__init__.py\", line 1705, in __call__\n",
      "    return self.func(*args)\n",
      "  File \"<ipython-input-2-59a035d9df34>\", line 19, in calcular\n",
      "    x1 = (-b.get()+math.sqrt(det))/(2*a.get())\n",
      "ZeroDivisionError: float division by zero\n",
      "Exception in Tkinter callback\n",
      "Traceback (most recent call last):\n",
      "  File \"C:\\ProgramData\\Anaconda3\\lib\\tkinter\\__init__.py\", line 1705, in __call__\n",
      "    return self.func(*args)\n",
      "  File \"<ipython-input-2-59a035d9df34>\", line 19, in calcular\n",
      "    x1 = (-b.get()+math.sqrt(det))/(2*a.get())\n",
      "ZeroDivisionError: float division by zero\n"
     ]
    }
   ],
   "source": [
    "from tkinter import*\n",
    "import math\n",
    "root =Tk()\n",
    "root.title(\"Calc Ecuaciones\")\n",
    "#variables\n",
    "a= DoubleVar(value='') # \n",
    "b = DoubleVar(value='') #\n",
    "c = DoubleVar(value='') #\n",
    "d = DoubleVar(value='') #\n",
    "\n",
    "\n",
    "def calcular():\n",
    "    det=((b.get()**2)-4*a.get()*(c.get()-d.get()))\n",
    "    if det < 0:\n",
    "        LX_1.config(text=\"complex\")\n",
    "        LX_2.config(text=\"complex\")\n",
    "        \n",
    "    else:\n",
    "        x1 = (-b.get()+math.sqrt(det))/(2*a.get())\n",
    "        x2 = (-b.get()-math.sqrt(det))/(2*a.get())\n",
    "    LX_1.config(text=\"{:.4f}\".format(x1))\n",
    "    LX_2.config(text=\"{:.4f}\".format(x2))\n",
    "\n",
    "frame1=Frame(root,padx=20, pady=20)\n",
    "frame1.pack(fill=X)\n",
    "frame2=Frame(root, padx=5, pady=10)\n",
    "frame2.pack()\n",
    "frame3=Frame(root, padx=5, pady=20)\n",
    "frame3.pack()\n",
    "\n",
    "E_1=Entry(frame1,width=5, font=('currier', 10),textvariable=a).pack(side=\"left\")\n",
    "L_1=Label(frame1, text='     X ^2 +  ',fon=(\"Arial\", 10)).pack(side=\"left\")\n",
    "E_2=Entry(frame1,width=5, font=('currier', 10),textvariable=b).pack(side=\"left\")\n",
    "L_2=Label(frame1, text='     X +  ',fon=(\"Arial\", 10)).pack(side=\"left\")\n",
    "E_3=Entry(frame1,width=5, font=('currier', 10),textvariable=c).pack(side=\"left\")\n",
    "L_3=Label(frame1, text='     =   ',fon=(\"Arial\", 10)).pack(side=\"left\")\n",
    "E_4=Entry(frame1,width=5, font=('currier', 10),textvariable=d).pack(side=\"left\")\n",
    "\n",
    "RES_1=Label(frame2, text='X=  ',fon=(\"Arial \", 14)).pack(side=\"left\")\n",
    "LX_1=Label(frame2, text='0.0000',fon=(\"Arial \", 14))\n",
    "LX_1.pack(side=\"left\")\n",
    "RES_2=Label(frame2, text='   X=   ',fon=(\"Arial \", 14)).pack(side=\"left\")\n",
    "LX_2=Label(frame2, text='0.0000',fon=(\"Arial \", 14))\n",
    "LX_2.pack(side=\"left\")\n",
    "\n",
    "B_calcular=Button(frame3,text=\"Calcular\",width=15,fon=(\"currier\", 10),command=calcular)\n",
    "B_calcular.pack(side=\"left\")\n",
    "vacio=Label(frame3, text='  ',fon=(\"Arial \", 14)).pack(side=\"left\")\n",
    "B_salir=Button(frame3,text=\"salir\",width=15,fon=(\"currier\",10),command=root.destroy)\n",
    "B_salir.pack()\n",
    "\n",
    "root.resizable(width=False, height=False)\n",
    "root.mainloop()\n",
    "\n",
    "#ERROR DE EJECUCIÓN DEL BOTON CALCULAR, NO USA MATH\n",
    "\n",
    "#CORRECCIÓN:\n",
    "#Gráfica:  2.5/2.5 ptos.\n",
    "#Funcionamiento del botón calcular: 1.5/1.75\n",
    "#funcionamiento del botón salir: 0.75/0.75\n",
    "\n",
    "#Total:  4.75/5 ptos.\n"
   ]
  },
  {
   "cell_type": "code",
   "execution_count": null,
   "metadata": {},
   "outputs": [],
   "source": []
  }
 ],
 "metadata": {
  "kernelspec": {
   "display_name": "Python 3",
   "language": "python",
   "name": "python3"
  },
  "language_info": {
   "codemirror_mode": {
    "name": "ipython",
    "version": 3
   },
   "file_extension": ".py",
   "mimetype": "text/x-python",
   "name": "python",
   "nbconvert_exporter": "python",
   "pygments_lexer": "ipython3",
   "version": "3.7.6"
  }
 },
 "nbformat": 4,
 "nbformat_minor": 4
}
