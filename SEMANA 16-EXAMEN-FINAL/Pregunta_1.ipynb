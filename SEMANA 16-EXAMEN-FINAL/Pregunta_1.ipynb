{
 "cells": [
  {
   "cell_type": "code",
   "execution_count": null,
   "metadata": {},
   "outputs": [],
   "source": []
  },
  {
   "cell_type": "code",
   "execution_count": 1,
   "metadata": {},
   "outputs": [],
   "source": [
    "from tkinter import*\n",
    "import math\n",
    "root =Tk()\n",
    "root.title(\"Calc Ecuaciones\")\n",
    "#variables\n",
    "a= DoubleVar(value='') # \n",
    "b = DoubleVar(value='') #\n",
    "c = DoubleVar(value='') #\n",
    "d = DoubleVar(value='') #\n",
    "\n",
    "def calcular():\n",
    "    \n",
    "    try:\n",
    "        det=((b.get()**2)-4*a.get()*(c.get()-d.get()))\n",
    "        x1 = (-b.get()+math.sqrt(det))/(2*a.get())\n",
    "        x2 = (-b.get()-math.sqrt(det))/(2*a.get())\n",
    "        LX_1.config(text=\"{:.4f}\".format(x1))\n",
    "        LX_2.config(text=\"{:.4f}\".format(x2))\n",
    "    except:\n",
    "        LX_1.config(text=\"complex\")\n",
    "        LX_2.config(text=\"complex\")\n",
    "\n",
    "frame1=Frame(root,padx=20, pady=20)\n",
    "frame1.pack(fill=X)\n",
    "frame2=Frame(root, padx=5, pady=10)\n",
    "frame2.pack()\n",
    "frame3=Frame(root, padx=5, pady=20)\n",
    "frame3.pack()\n",
    "\n",
    "E_1=Entry(frame1,width=5, font=('currier', 10),textvariable=a).pack(side=\"left\")\n",
    "L_1=Label(frame1, text='     X ^2 +  ',fon=(\"Arial\", 10)).pack(side=\"left\")\n",
    "E_2=Entry(frame1,width=5, font=('currier', 10),textvariable=b).pack(side=\"left\")\n",
    "L_2=Label(frame1, text='     X +  ',fon=(\"Arial\", 10)).pack(side=\"left\")\n",
    "E_3=Entry(frame1,width=5, font=('currier', 10),textvariable=c).pack(side=\"left\")\n",
    "L_3=Label(frame1, text='     =   ',fon=(\"Arial\", 10)).pack(side=\"left\")\n",
    "E_4=Entry(frame1,width=5, font=('currier', 10),textvariable=d).pack(side=\"left\")\n",
    "\n",
    "RES_1=Label(frame2, text='X=  ',fon=(\"Arial \", 14)).pack(side=\"left\")\n",
    "LX_1=Label(frame2, text='0.0000',fon=(\"Arial \", 14))\n",
    "LX_1.pack(side=\"left\")\n",
    "RES_2=Label(frame2, text='   X=   ',fon=(\"Arial \", 14)).pack(side=\"left\")\n",
    "LX_2=Label(frame2, text='0.0000',fon=(\"Arial \", 14))\n",
    "LX_2.pack(side=\"left\")\n",
    "\n",
    "B_calcular=Button(frame3,text=\"Calcular\",width=15,fon=(\"currier\", 10),command=calcular)\n",
    "B_calcular.pack(side=\"left\")\n",
    "vacio=Label(frame3, text='  ',fon=(\"Arial \", 14)).pack(side=\"left\")\n",
    "B_salir=Button(frame3,text=\"salir\",width=15,fon=(\"currier\",10),command=root.destroy)\n",
    "B_salir.pack()\n",
    "\n",
    "root.resizable(width=False, height=False)\n",
    "root.mainloop()"
   ]
  },
  {
   "cell_type": "code",
   "execution_count": 7,
   "metadata": {},
   "outputs": [
    {
     "data": {
      "text/plain": [
       "2.0"
      ]
     },
     "execution_count": 7,
     "metadata": {},
     "output_type": "execute_result"
    }
   ],
   "source": [
    "math.sqrt(4)"
   ]
  },
  {
   "cell_type": "code",
   "execution_count": null,
   "metadata": {},
   "outputs": [],
   "source": []
  }
 ],
 "metadata": {
  "kernelspec": {
   "display_name": "Python 3",
   "language": "python",
   "name": "python3"
  },
  "language_info": {
   "codemirror_mode": {
    "name": "ipython",
    "version": 3
   },
   "file_extension": ".py",
   "mimetype": "text/x-python",
   "name": "python",
   "nbconvert_exporter": "python",
   "pygments_lexer": "ipython3",
   "version": "3.7.6"
  }
 },
 "nbformat": 4,
 "nbformat_minor": 4
}
