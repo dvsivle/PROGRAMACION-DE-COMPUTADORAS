{
 "cells": [
  {
   "cell_type": "markdown",
   "metadata": {},
   "source": [
    "# Importación de modulos"
   ]
  },
  {
   "cell_type": "markdown",
   "metadata": {},
   "source": [
    "## Built-In Functions\n",
    "Pyhton tiene un conjunto de BIFs (Built-In Functions) que permiten operar sobre datos y retornar valores utiles.\n",
    "\n",
    "Los BIFs pueden ser consultados llamando al directorio del metodo privado \\_\\_builtins\\_\\_"
   ]
  },
  {
   "cell_type": "code",
   "execution_count": null,
   "metadata": {},
   "outputs": [],
   "source": [
    "dir(__builtins__)"
   ]
  },
  {
   "cell_type": "markdown",
   "metadata": {},
   "source": [
    "Entre los más útiles se pueden encontrar:\n",
    "\n",
    "\n",
    "    abs()       Retorna el valor absoluto de un número\n",
    "    all()       Retorna True si todos los valores de un iterable son diferentes de cero\n",
    "    any()       Retorna True si alguno de los valores de un iterable es cero\n",
    "    bin()       Retora la representacion binaria de un valor entero\n",
    "    hex()       Retorna la representacion hexadecimal de un valor entero\n",
    "    min()       Retorna el minimo valor de un iterable\n",
    "    max()       Retrona el máximo valor de un iterable\n",
    "    sum()       Retorna la suma de los elementos de un iterable numérico\n",
    "    sorted()    Ordena los elementos de un iterable\n",
    "    reversed()  Inverte el orden de los elementos de un iterable\n",
    "    \n",
    "La lista continua y utilizando help() puede aprender todas las funciones pre-definidas de Python.\n",
    "\n",
    "Sin embargo, no son suficientes para realizar ciertas tareas más complejas. Por ejemplo, en caso que se quieran generar valores aleatorios.\n",
    "    \n",
    "    "
   ]
  },
  {
   "cell_type": "markdown",
   "metadata": {},
   "source": [
    "## Generación de valores aleatorios y modulo *random*\n",
    "Para agregarle funcionalidades adicionales a Pythones necesario incluír módulos que agregen nuevas funciones a Python. La importacion de módulos se realiza utilizando la instrucción *import*.\n",
    "\n",
    "Para esto hay que saber que módulos estan instalados en el sistema. La distibución Anaconda de Python incluye una gran cantidad de módulos, tantos los modulos estándar como ciertos especificos para el cálculo científico. Por ejemplo, para generar valores aleatorrios (o pseudo-aleatorios para ser más exactos), se requiere importar del módulo *random* con la instrucción *import*"
   ]
  },
  {
   "cell_type": "code",
   "execution_count": null,
   "metadata": {
    "collapsed": true
   },
   "outputs": [],
   "source": [
    "import random"
   ]
  },
  {
   "cell_type": "markdown",
   "metadata": {},
   "source": [
    "Esta instrucción agrega la libreria o módulo *random* al sistema. Si quiere verificar esto puede verificar el directorio del sistema:"
   ]
  },
  {
   "cell_type": "code",
   "execution_count": null,
   "metadata": {},
   "outputs": [],
   "source": [
    "dir()"
   ]
  },
  {
   "cell_type": "markdown",
   "metadata": {},
   "source": [
    "En la parte inferior, debe de haberse agregado la libreria *'random'*. Verifique que métodos disponibles se cuentran en random:"
   ]
  },
  {
   "cell_type": "code",
   "execution_count": null,
   "metadata": {},
   "outputs": [],
   "source": [
    "dir(random)"
   ]
  },
  {
   "cell_type": "markdown",
   "metadata": {},
   "source": [
    "Los métodos a los que puede acceder son aquellos listados luego de los privados (es decir, aquellos cuyos nombres estan rodeados de \\_\\_). Puede recurrir a la ayuda para conocer que hace cada método. La nomenclatura de los métodos de un módulo va a depender de la forma como este se ha importado. Si se ha importado de la forma simple *\"import random\"* los métodos son accesibles de la forma *objeto.metodo*, de forma que, por ejemplo, para generar un valor aleatorio real entre 0 y 1 se llama al *método random*, que es miembro del *módulo random*:"
   ]
  },
  {
   "cell_type": "code",
   "execution_count": null,
   "metadata": {},
   "outputs": [],
   "source": [
    "random.random()"
   ]
  },
  {
   "cell_type": "markdown",
   "metadata": {},
   "source": [
    "Si se quiere especificar un rango, se puede utilizar alguna funcion que maneje rangos. Revisando el listado disponible hay una función prometedora que incluye la palabra \"range\":"
   ]
  },
  {
   "cell_type": "code",
   "execution_count": null,
   "metadata": {},
   "outputs": [],
   "source": [
    "help(randrange)"
   ]
  },
  {
   "cell_type": "markdown",
   "metadata": {},
   "source": [
    "¿Por qué el error? Porque *randrange* no es un BIF (sino, estaria incluída en el directorio de \\_\\_builtins\\_\\_). Para conocer la ayuda del método *randrange* hay que especificar el módulo:"
   ]
  },
  {
   "cell_type": "code",
   "execution_count": null,
   "metadata": {},
   "outputs": [],
   "source": [
    "help(random.randrange)"
   ]
  },
  {
   "cell_type": "markdown",
   "metadata": {},
   "source": [
    "Entonces, hagamos una prueba:"
   ]
  },
  {
   "cell_type": "code",
   "execution_count": 11,
   "metadata": {},
   "outputs": [
    {
     "name": "stdout",
     "output_type": "stream",
     "text": [
      "6\n",
      "6\n",
      "2\n",
      "8\n"
     ]
    }
   ],
   "source": [
    "##random.randrange(0,10)\n",
    "import random\n",
    "\n",
    "while True:\n",
    "    a=random.randrange(0,10)\n",
    "    print(a)\n",
    "    if a==8:\n",
    "        break"
   ]
  },
  {
   "cell_type": "markdown",
   "metadata": {},
   "source": [
    "Ejecute la instrucción anterior repetidas veces y obtendrá valores aleatorios diferentes entre 0 y 9.\n",
    "\n",
    "Para obtener valores reales, utilice la función *uniform*"
   ]
  },
  {
   "cell_type": "code",
   "execution_count": 13,
   "metadata": {},
   "outputs": [
    {
     "data": {
      "text/plain": [
       "6.8785623272829355"
      ]
     },
     "execution_count": 13,
     "metadata": {},
     "output_type": "execute_result"
    }
   ],
   "source": [
    "random.uniform(0, 10)"
   ]
  },
  {
   "cell_type": "markdown",
   "metadata": {},
   "source": [
    "Revise la ayuda de los métodos del módulo random. Encontrará funciones interesante, como *seed*, *randint*, *shuffle* o la estadística *gauss*."
   ]
  },
  {
   "cell_type": "markdown",
   "metadata": {},
   "source": [
    "## Módulo time\n",
    "Otro módulo de utilidad es el módulo *time*"
   ]
  },
  {
   "cell_type": "code",
   "execution_count": 15,
   "metadata": {},
   "outputs": [],
   "source": [
    "import time"
   ]
  },
  {
   "cell_type": "markdown",
   "metadata": {},
   "source": [
    "Veamos que métodos tiene el módulo time:"
   ]
  },
  {
   "cell_type": "code",
   "execution_count": 16,
   "metadata": {},
   "outputs": [
    {
     "data": {
      "text/plain": [
       "['_STRUCT_TM_ITEMS',\n",
       " '__doc__',\n",
       " '__loader__',\n",
       " '__name__',\n",
       " '__package__',\n",
       " '__spec__',\n",
       " 'altzone',\n",
       " 'asctime',\n",
       " 'clock',\n",
       " 'ctime',\n",
       " 'daylight',\n",
       " 'get_clock_info',\n",
       " 'gmtime',\n",
       " 'localtime',\n",
       " 'mktime',\n",
       " 'monotonic',\n",
       " 'monotonic_ns',\n",
       " 'perf_counter',\n",
       " 'perf_counter_ns',\n",
       " 'process_time',\n",
       " 'process_time_ns',\n",
       " 'sleep',\n",
       " 'strftime',\n",
       " 'strptime',\n",
       " 'struct_time',\n",
       " 'thread_time',\n",
       " 'thread_time_ns',\n",
       " 'time',\n",
       " 'time_ns',\n",
       " 'timezone',\n",
       " 'tzname']"
      ]
     },
     "execution_count": 16,
     "metadata": {},
     "output_type": "execute_result"
    }
   ],
   "source": [
    "dir(time)"
   ]
  },
  {
   "cell_type": "markdown",
   "metadata": {},
   "source": [
    "Pruebe la siguiente instruccion:"
   ]
  },
  {
   "cell_type": "code",
   "execution_count": 17,
   "metadata": {},
   "outputs": [
    {
     "data": {
      "text/plain": [
       "time.struct_time(tm_year=2020, tm_mon=4, tm_mday=5, tm_hour=0, tm_min=2, tm_sec=9, tm_wday=6, tm_yday=96, tm_isdst=0)"
      ]
     },
     "execution_count": 17,
     "metadata": {},
     "output_type": "execute_result"
    }
   ],
   "source": [
    "time.localtime()"
   ]
  },
  {
   "cell_type": "markdown",
   "metadata": {},
   "source": [
    "Aunque retorna el tiempo del sistema (año, mes, dia, hora, minuto, segundo, dia de la semana número de semana, ¡e inclusive si la zona horaria esta configurada para cambio de horario por cambio de estación!) debe haber una forma de obtener una respuesta más \"imprimible\". Buscando en la ayuda alguna cosa que prometa..."
   ]
  },
  {
   "cell_type": "code",
   "execution_count": 18,
   "metadata": {},
   "outputs": [
    {
     "name": "stdout",
     "output_type": "stream",
     "text": [
      "Help on built-in function asctime in module time:\n",
      "\n",
      "asctime(...)\n",
      "    asctime([tuple]) -> string\n",
      "    \n",
      "    Convert a time tuple to a string, e.g. 'Sat Jun 06 16:26:11 1998'.\n",
      "    When the time tuple is not present, current time as returned by localtime()\n",
      "    is used.\n",
      "\n"
     ]
    }
   ],
   "source": [
    "help(time.asctime)"
   ]
  },
  {
   "cell_type": "markdown",
   "metadata": {},
   "source": [
    "La función *asctime* convierte una tupla (como la generada por *localtime*) en una cadena con información del tiempo. Además, si no se especifica un argumento de entrada, retorna una cadena con la informacion de la hora actual:"
   ]
  },
  {
   "cell_type": "code",
   "execution_count": 19,
   "metadata": {},
   "outputs": [
    {
     "data": {
      "text/plain": [
       "'Sun Apr  5 00:04:10 2020'"
      ]
     },
     "execution_count": 19,
     "metadata": {},
     "output_type": "execute_result"
    }
   ],
   "source": [
    "time.asctime()"
   ]
  },
  {
   "cell_type": "markdown",
   "metadata": {},
   "source": [
    "## Alias de módulo\n",
    "Se puede observar que al momento de llamar a las funciones de los módulos, resulta trabajoso estar escribiendo el módulo y luego la función, separados por un punto. Esto es importante para evitar colisión de nombres (es decir, que hayan dos funciones con el mismo nombre en dos librerías). Esto se conoce con el nombre de *namespace* o *espacio de nombres*, es decir, que los nombres de ciertas funciones esten asociadas a ciertas librerías. Por ejemplo, supongamos que en la libreria random y time se tiene la función *now* (¡cosa que no es cierta!) y que para el primer caso genera un valor aleatorio entre 0 y 1 de forma inmediata y en segundo caso retorna el tiempo en este instante. La idea detrás del espacio de nombres es evitar que al llamar a *now* (y nuevamente, **estas funciones no existen**) se llame a la función correcta porque se especifica el módulo que la contiene:\n",
    "\n",
    "    random.now()\n",
    "    time.now()\n",
    "\n",
    "Por lo tanto, lo ideal sería que los nombres de los módulos sean mas reducidos para no escribir tanto... esto es hacer un *alias* de los módulos. Esto se puede realizar incluyendo la instrucción *as* al momento de importar el módulo:"
   ]
  },
  {
   "cell_type": "code",
   "execution_count": 20,
   "metadata": {},
   "outputs": [],
   "source": [
    "import random as r"
   ]
  },
  {
   "cell_type": "code",
   "execution_count": null,
   "metadata": {},
   "outputs": [],
   "source": [
    "dir()"
   ]
  },
  {
   "cell_type": "markdown",
   "metadata": {},
   "source": [
    "En la parte final de la lista (puede que haya crecido notablemente... no se preocupe por eso) puede ver *'r'*. ¿Qué funciones incluye *r*?"
   ]
  },
  {
   "cell_type": "code",
   "execution_count": 21,
   "metadata": {
    "scrolled": true
   },
   "outputs": [
    {
     "data": {
      "text/plain": [
       "['BPF',\n",
       " 'LOG4',\n",
       " 'NV_MAGICCONST',\n",
       " 'RECIP_BPF',\n",
       " 'Random',\n",
       " 'SG_MAGICCONST',\n",
       " 'SystemRandom',\n",
       " 'TWOPI',\n",
       " '_BuiltinMethodType',\n",
       " '_MethodType',\n",
       " '_Sequence',\n",
       " '_Set',\n",
       " '__all__',\n",
       " '__builtins__',\n",
       " '__cached__',\n",
       " '__doc__',\n",
       " '__file__',\n",
       " '__loader__',\n",
       " '__name__',\n",
       " '__package__',\n",
       " '__spec__',\n",
       " '_acos',\n",
       " '_bisect',\n",
       " '_ceil',\n",
       " '_cos',\n",
       " '_e',\n",
       " '_exp',\n",
       " '_inst',\n",
       " '_itertools',\n",
       " '_log',\n",
       " '_os',\n",
       " '_pi',\n",
       " '_random',\n",
       " '_sha512',\n",
       " '_sin',\n",
       " '_sqrt',\n",
       " '_test',\n",
       " '_test_generator',\n",
       " '_urandom',\n",
       " '_warn',\n",
       " 'betavariate',\n",
       " 'choice',\n",
       " 'choices',\n",
       " 'expovariate',\n",
       " 'gammavariate',\n",
       " 'gauss',\n",
       " 'getrandbits',\n",
       " 'getstate',\n",
       " 'lognormvariate',\n",
       " 'normalvariate',\n",
       " 'paretovariate',\n",
       " 'randint',\n",
       " 'random',\n",
       " 'randrange',\n",
       " 'sample',\n",
       " 'seed',\n",
       " 'setstate',\n",
       " 'shuffle',\n",
       " 'triangular',\n",
       " 'uniform',\n",
       " 'vonmisesvariate',\n",
       " 'weibullvariate']"
      ]
     },
     "execution_count": 21,
     "metadata": {},
     "output_type": "execute_result"
    }
   ],
   "source": [
    "dir(r)"
   ]
  },
  {
   "cell_type": "markdown",
   "metadata": {},
   "source": [
    "¡Las mismas que random! Entonces ha creado un alias de random llamado *r*. Por lo tanto ahora podemos llamar a las funciones utilizando el alias:"
   ]
  },
  {
   "cell_type": "code",
   "execution_count": 22,
   "metadata": {},
   "outputs": [
    {
     "data": {
      "text/plain": [
       "0.40786506227475783"
      ]
     },
     "execution_count": 22,
     "metadata": {},
     "output_type": "execute_result"
    }
   ],
   "source": [
    "r.random()"
   ]
  },
  {
   "cell_type": "markdown",
   "metadata": {},
   "source": [
    "Hagamos lo mismo con *time* para utilizar la función *sleep()* que detiene la ejecución de un script una cantidad de segundos"
   ]
  },
  {
   "cell_type": "code",
   "execution_count": 24,
   "metadata": {
    "scrolled": true
   },
   "outputs": [
    {
     "name": "stdout",
     "output_type": "stream",
     "text": [
      "10\n",
      "9\n",
      "8\n",
      "7\n",
      "6\n",
      "5\n",
      "4\n",
      "3\n",
      "2\n",
      "1\n",
      "\n",
      "DESPEGUE....."
     ]
    }
   ],
   "source": [
    "import time as t\n",
    "\n",
    "for cuenta in range(10, 0, -1):\n",
    "    print(cuenta)\n",
    "    t.sleep(1)\n",
    "    \n",
    "print(\"\\nDESPEGUE\", end='')\n",
    "for i in range(0, 5):\n",
    "    print('.', end='')\n",
    "    t.sleep(0.5)"
   ]
  },
  {
   "cell_type": "markdown",
   "metadata": {},
   "source": [
    "¿Qué otros módulos de Python esconderán funciones interesantes y útiles para nuestro trabajo? Ese es un trabajo de descubrimiento lleno de sorpresas."
   ]
  }
 ],
 "metadata": {
  "kernelspec": {
   "display_name": "Python 3",
   "language": "python",
   "name": "python3"
  },
  "language_info": {
   "codemirror_mode": {
    "name": "ipython",
    "version": 3
   },
   "file_extension": ".py",
   "mimetype": "text/x-python",
   "name": "python",
   "nbconvert_exporter": "python",
   "pygments_lexer": "ipython3",
   "version": "3.7.6"
  }
 },
 "nbformat": 4,
 "nbformat_minor": 2
}
