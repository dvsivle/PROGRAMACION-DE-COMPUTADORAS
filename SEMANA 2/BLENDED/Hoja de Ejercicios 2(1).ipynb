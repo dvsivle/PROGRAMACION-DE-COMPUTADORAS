{
 "cells": [
  {
   "cell_type": "markdown",
   "metadata": {},
   "source": [
    "# Hoja de Ejercicios 2"
   ]
  },
  {
   "cell_type": "markdown",
   "metadata": {},
   "source": [
    "### **Ejercicio 1**\n",
    "Escriba un programa que tenga dos lazos anidados y que muestre los valores enteros de 1 a 100 en un arreglo de 10 x 10, alineados como se muestra:\n",
    "\n",
    "     1    2    3    4    5    6    7    8    9   10\n",
    "    11   12   13   14   15   16   17   18   19   20\n",
    "    21   22   23   24   25   26   27   28   29   30\n",
    "    .\n",
    "    .\n",
    "    91   92   93   94   95   96   97    98   99 100\n",
    "    \n"
   ]
  },
  {
   "cell_type": "code",
   "execution_count": 1,
   "metadata": {},
   "outputs": [],
   "source": [
    "# Impresion de un arreglo 10 x 10 con dos lazos anidados\n",
    "a=1\n",
    "for i in range(a,a+10):\n",
    "    for a in range(a,a+10):\n",
    "        \n",
    "        if a%10==0:\n",
    "            print(\"{:3d}\".format(a))\n",
    "        else:\n",
    "            print (\"{:3d}\".format(a),end='  ')\n",
    "    a=a+1"
   ]
  },
  {
   "cell_type": "markdown",
   "metadata": {},
   "source": [
    "Pruebe hacer el mismo programa anterior pero utilizando *solo un lazo while*"
   ]
  },
  {
   "cell_type": "code",
   "execution_count": 2,
   "metadata": {},
   "outputs": [
    {
     "name": "stdout",
     "output_type": "stream",
     "text": [
      "  1    2    3    4    5    6    7    8    9   10\n",
      " 11   12   13   14   15   16   17   18   19   20\n",
      " 21   22   23   24   25   26   27   28   29   30\n",
      " 31   32   33   34   35   36   37   38   39   40\n",
      " 41   42   43   44   45   46   47   48   49   50\n",
      " 51   52   53   54   55   56   57   58   59   60\n",
      " 61   62   63   64   65   66   67   68   69   70\n",
      " 71   72   73   74   75   76   77   78   79   80\n",
      " 81   82   83   84   85   86   87   88   89   90\n",
      " 91   92   93   94   95   96   97   98   99  100\n"
     ]
    }
   ],
   "source": [
    "# Impresion de un arreglo 10 x 10 con un solo lazo while\n",
    "a=0\n",
    "while (a<100):\n",
    "    a=a+1\n",
    "    if a%10==0:\n",
    "        print(\"{:3d}\".format(a))\n",
    "    else:\n",
    "        print (\"{:3d}\".format(a),end='  ')\n",
    "    \n"
   ]
  },
  {
   "cell_type": "markdown",
   "metadata": {
    "collapsed": true
   },
   "source": [
    "### **Ejercicio 2**\n",
    "Escriba un programa que sea un conversor de unidades de temperaturas F/°C. Se le pedirá al usuario que ingrese el grado y la unidad y en función de la unidad ingresada hara la conversión a la otra unidad. También debe de pedir que ingrese si desea continuar con otra conversion o salir del programa.\n",
    "\n",
    "    Ingrese el valor a convertir: 120 C\n",
    "    Equivalente: 248 F\n",
    "    Convertir otro valor de temperatura [s/n]: s\n",
    "    \n",
    "    Ingrese el valor a convertir: 90 F\n",
    "    Equivalente: 32.2 C\n",
    "    Convertir otro valor de temperatura [s/n] : n\n",
    "\n",
    "*Formulas:*\n",
    "\n",
    "$F = \\frac{9C}{5} + 32$\n",
    "\n",
    "$C = \\frac{5F}{9} - 32$"
   ]
  },
  {
   "cell_type": "code",
   "execution_count": 3,
   "metadata": {},
   "outputs": [
    {
     "name": "stdout",
     "output_type": "stream",
     "text": [
      "Ingrese el valor a convertir: 20 f\n",
      " Equivalente: -20.9 C\n",
      "Convertir otro valor de temperatura [s/n]: n\n"
     ]
    }
   ],
   "source": [
    "# Programa de conversion de unidades\n",
    "n='s'\n",
    "while (n=='s'):\n",
    "    v1,v2=input(\"Ingrese el valor a convertir: \").split()\n",
    "    v1=float(v1)\n",
    "    v2=v2.upper()\n",
    "    \n",
    "    if v2 == 'C':\n",
    "        res=v1*9/5 + 32\n",
    "        print(\" Equivalente: {:.1f} F\".format(res))\n",
    "    elif v2 == 'F':\n",
    "        res=v1*5/9 - 32\n",
    "        print(\" Equivalente: {:.1f} C\".format(res))\n",
    "    n=input(\"Convertir otro valor de temperatura [s/n]: \")\n"
   ]
  },
  {
   "cell_type": "markdown",
   "metadata": {},
   "source": [
    "### **Ejercicio 3**\n",
    "Escriba un programa que calcule el pago mensual de una hipoteca a un monto dado, bajo un plazo de tiempo (en años) y a una tasa de interes de 3% a 18%. La fórmula base para determinar esto es *A/D*, donde *A* es el monto de la hipoteca, y *D* es el factor de descuento. El factor de descuento se calcula como:\n",
    "\n",
    "$$D = \\frac{((1+r)^{n}-1)}{r(1+r)^{n}}$$\n",
    "\n",
    "donde *n* es el numero de pagos total (12 veces el numero de años del prestamo) y *r* es la tasa de interes expresado en forma decimal (por ejemplo, 0.05 en lugar de 5%), dividido por 12. Luego de pedir los datos, se deberá generar una tabla de pago mensual como la siguiente:\n",
    "\n",
    "    Monto de la hipoteca: S/.350,000     Plazo: 30 años\n",
    "    \n",
    "          Tasa de Interes             Pago Mensual\n",
    "                3%                       1475.61\n",
    "                4%                       1670.95\n",
    "                5%                       1878.88\n",
    "                6%                       2098.43\n",
    "                .                        .\n",
    "                .                        .\n",
    "                18%                      5279.80\n",
    "                \n",
    "Puede probar sus resultados con una calculadora de hipoteca en linea (http://www.calculohipoteca.org/)"
   ]
  },
  {
   "cell_type": "code",
   "execution_count": 4,
   "metadata": {},
   "outputs": [
    {
     "name": "stdout",
     "output_type": "stream",
     "text": [
      "Ingrese el capital de prestamo: 300\n",
      "Ingrese el plazo en años: 2\n",
      "\n",
      "\n",
      "\n",
      "\t\tTasa de interes\t\tPago Mensual\n",
      "\t\t      3%\t\t   12.89\n",
      "\t\t      4%\t\t   13.03\n",
      "\t\t      5%\t\t   13.16\n",
      "\t\t      6%\t\t   13.30\n",
      "\t\t      7%\t\t   13.43\n",
      "\t\t      8%\t\t   13.57\n",
      "\t\t      9%\t\t   13.71\n",
      "\t\t     10%\t\t   13.84\n",
      "\t\t     11%\t\t   13.98\n",
      "\t\t     12%\t\t   14.12\n",
      "\t\t     13%\t\t   14.26\n",
      "\t\t     14%\t\t   14.40\n",
      "\t\t     15%\t\t   14.55\n",
      "\t\t     16%\t\t   14.69\n",
      "\t\t     17%\t\t   14.83\n",
      "\t\t     18%\t\t   14.98\n"
     ]
    }
   ],
   "source": [
    "'''\n",
    "Programa de calculo de pago de hipoteca.\n",
    "Se requiere el monto del prestamo, la tasa de interes y el plazo de la hipoteca\n",
    "\n",
    "print(\"   Monto de la hipoteca: S/.{:.0f},{:.0f}\".format(int(a),int(b)))\n",
    "\n",
    "a,b=(input(\"Monto de la hipoteca: S/.\")).split(',')\n",
    "a=int(a); b=int(b); a=a*pow(10,3)+ b\n",
    "print(a)\n",
    "plazo=input()\n",
    "\n",
    "'''\n",
    "\n",
    "import math\n",
    "capital=float(input(\"Ingrese el capital de prestamo: \"))\n",
    "plazo= int(input(\"Ingrese el plazo en años: \"))\n",
    "\n",
    "print(\"\\n\\n\")\n",
    "n=plazo*12\n",
    "\n",
    "print(\"\\t\\tTasa de interes\",end='\\t\\t')\n",
    "print(\"Pago Mensual\")\n",
    "\n",
    "for i in range(3,19):\n",
    "    r=(i/(100*12))\n",
    "    D=(pow(1+r,n)-1)/(r*pow(1+r,n))   \n",
    "    pago =capital*pow(D,-1)\n",
    "    print(\"\\t\\t   {:4d}%\".format(i),end=\"\\t\\t   \")\n",
    "    print(\"{:.2f}\".format(pago))\n"
   ]
  },
  {
   "cell_type": "markdown",
   "metadata": {},
   "source": [
    "### Ejercicio 4\n",
    "El estado de salud de un paciente se puede estimar considerando un indicador llamado IMC o *Indice de Masa Corporal*. El IMC se calcula de la forma:\n",
    "\n",
    "$$IMC = \\frac{peso}{altura^2}$$\n",
    "\n",
    "donde peso estara en Kg y altura en metros. Para interpretar el resultado se utiliza la siguiente información:\n",
    "\n",
    "* Si < 18.5, Bajo Peso\n",
    "* Si < 25.0, Peso Normal\n",
    "* Si < 30.0, Sobrepeso\n",
    "* Si >= 30, Obesidad\n",
    "\n",
    "Con estos datos, escriba un programa que imprima los resultados de 50 pacientes ficticios, cuyos valores serán generados por el programa, con un rango de peso de 45Kg a 110Kg y rangos de altura de 1.50m a 1.80m. El resultado debe mostrarse de la siguiente forma:\n",
    "\n",
    "    1 | Peso: 64 kg  Altura: 1.60m  IMC: 23.23  Estado: Peso Normal\n",
    "    2 | Peso: 82 kg  Altura: 1.72m  IMC: 27.72  Estado: Sobrepeso\n",
    "    3 | Peso: 103kg  Altura: 1.68m  IMC: 36.49  Estado: Obesidad\n",
    "    .\n",
    "    .\n",
    "    .\n",
    "    50| Peso: 49 kg  Altura: 1.70  IMC: 16.96  Estado: Bajo Peso"
   ]
  },
  {
   "cell_type": "code",
   "execution_count": null,
   "metadata": {},
   "outputs": [],
   "source": [
    "# Generacion de 50 valores de peso y altura y calculo del IMC\n",
    "\n",
    " range(2,10,2) \n",
    "    "
   ]
  },
  {
   "cell_type": "markdown",
   "metadata": {},
   "source": [
    "### **Ejercicio 5**\n",
    "Revise el siguiente programa. Antes de ejecutarlo, entienda que parece hacer y luego pruebe su funcionamiento:"
   ]
  },
  {
   "cell_type": "code",
   "execution_count": null,
   "metadata": {},
   "outputs": [],
   "source": [
    "# Programa \"Consultale a la Fortuna\"\n",
    "import random\n",
    "\n",
    "have_question = 's'\n",
    "\n",
    "while have_question == 's':\n",
    "    question = input(\"¿Cual es tu consulta?:\\n\")\n",
    "    print(\"\\nTu preguta es:\", '\"' + question + '\"...')\n",
    "    \n",
    "    rand_num = random.randint(1, 8)\n",
    "    \n",
    "    if rand_num == 1:\n",
    "        print(\"Las probabilidades estan a tu favor\")\n",
    "    elif rand_num == 2:\n",
    "        print(\"Yo no haria muchos planes\")\n",
    "    elif rand_num == 3:\n",
    "        print(\"El panorama se presenta sombrio\")\n",
    "    elif rand_num == 4:\n",
    "        print(\"Yo enfocaria mis pensamientos en otras cosas\")\n",
    "    elif rand_num == 5:\n",
    "        print(\"El unico que puede responder esa pregunta eres tu\")\n",
    "    elif rand_num == 6:\n",
    "        print(\"Ya sabes la respuesta a esa pregunta...¿no es asi?\")\n",
    "    elif rand_num == 7:\n",
    "        print(\"Alguien inesperado puede ayudarte en esto\")\n",
    "    elif rand_num == 8:\n",
    "        print(\"Esta bastante probable\")\n",
    "        \n",
    "    have_question = input(\"\\n¿Tienes otra pregunta? [s/n]: \")\n",
    "    \n",
    "print(\"Adios... espero haberte sido de ayuda!\")"
   ]
  },
  {
   "cell_type": "markdown",
   "metadata": {},
   "source": [
    "En los 60s se creo el programa Eliza, que fue desarrollado para comportarse como un psioterapeuta, aunque realmente no entendia nada: solamente se fijaba en la presencia de ciertas palabras en los comentarios o preguntas de los pacientes para establecer las respuestas. Por ejemplo, si el paciente decía \"Mi madre me saca de quicio\" el programa respondía \"Cuentame mas sobre tu madre\".\n",
    "\n",
    "Modifique el programa anterior de tal forma que parezca entender las preguntas en función del reconocimiento de ciertas palabras. Especificamente, incorpore un conjunto de palabras \"clave\" que, de encontarse en la pregunta, resulten en una respuesta especifica. Por ejemplo, la palabra \"año\" aparecera en la pregunta \"Me ira bien este año?\" o \"Como terminara este año?\", lo que podria responder con \"Los tiempos parecen estar a tu favor\". O por ejemplo la palabra \"amor\" aparecera en la pregunta \"Encontrare el amor?\" o \"Mi enamorado me engaña?\", lo que podría responder con \"En cosas del corazón tienes que buscar en tu interior\".\n",
    "\n",
    "Sea creativo. Para determinar si una palabra dada (o frase) esta presente en una pregunta, utilice el operador **in** como en los siguientes ejemplos:"
   ]
  },
  {
   "cell_type": "code",
   "execution_count": null,
   "metadata": {},
   "outputs": [],
   "source": [
    "\"fin\" in \"Cuando sera el fin del mundo?\""
   ]
  },
  {
   "cell_type": "code",
   "execution_count": null,
   "metadata": {},
   "outputs": [],
   "source": [
    "\"amor\" in \"Mi enamorado me engaña con otra?\""
   ]
  },
  {
   "cell_type": "code",
   "execution_count": null,
   "metadata": {},
   "outputs": [],
   "source": [
    "# Programa \"Consultale a la Fortuna mejorado\""
   ]
  },
  {
   "cell_type": "code",
   "execution_count": null,
   "metadata": {},
   "outputs": [],
   "source": []
  }
 ],
 "metadata": {
  "kernelspec": {
   "display_name": "Python 3",
   "language": "python",
   "name": "python3"
  },
  "language_info": {
   "codemirror_mode": {
    "name": "ipython",
    "version": 3
   },
   "file_extension": ".py",
   "mimetype": "text/x-python",
   "name": "python",
   "nbconvert_exporter": "python",
   "pygments_lexer": "ipython3",
   "version": "3.7.6"
  }
 },
 "nbformat": 4,
 "nbformat_minor": 2
}
