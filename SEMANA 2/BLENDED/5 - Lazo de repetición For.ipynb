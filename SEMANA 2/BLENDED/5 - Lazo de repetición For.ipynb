{
 "cells": [
  {
   "cell_type": "markdown",
   "metadata": {},
   "source": [
    "# Lazo de repeticion For y While"
   ]
  },
  {
   "cell_type": "markdown",
   "metadata": {},
   "source": [
    "## Lazo For\n",
    "Los lazos de repeticion (o iteración) permiten construír un código que se ejecutará un número de veces. En Python los ciclos de repetición descansan sobre el concepto de un *iterador*. Tomemos la lista de los números primos:"
   ]
  },
  {
   "cell_type": "code",
   "execution_count": null,
   "metadata": {
    "collapsed": true
   },
   "outputs": [],
   "source": [
    "primos = [2, 3, 5, 7, 11, 13, 17, 19, 23, 29, 31, 37, 41, 43, 47, 53, 59, 61, 67, 71, 73, 79, 83, 89, 97]  #es una lista"
   ]
  },
  {
   "cell_type": "markdown",
   "metadata": {},
   "source": [
    "Podemos utiliar la instrucción *range(n)* que genera un *iterable* entre *0* y *n-1*. Un iterable es un elemento que puede formar parte de un lazo *for*. Este lazo va extrayendo cada dato del iterable y lo va guardando en una variable. En este caso, se genera un rango de las posiciones de una lista (las posiciones de una lista empiezan en 0):"
   ]
  },
  {
   "cell_type": "code",
   "execution_count": null,
   "metadata": {},
   "outputs": [],
   "source": [
    "for i in range(len(primos)):\n",
    "    print (primos[i])"
   ]
  },
  {
   "cell_type": "markdown",
   "metadata": {},
   "source": [
    "La instrucción *rag(len(primos)* obtiene el número de elementos de la lista *primos*. Como el primer elemento de la lista esta asociado al indice 0, y la instrucción *range(n)* genera valores entre *0* y *n-1*, el iterable tendrá los valores de todos los indices de una lista.\n",
    "\n",
    "Sin embargo, ¡la lista *primos* en si misma es un iterable! Por lo tanto la lista misma se puede usar dentro de un lazo:"
   ]
  },
  {
   "cell_type": "code",
   "execution_count": null,
   "metadata": {},
   "outputs": [],
   "source": [
    "for each_number in primos:\n",
    "    print (each_number)"
   ]
  },
  {
   "cell_type": "markdown",
   "metadata": {},
   "source": [
    "Esta construcción es mucho mas *\"pythonica\"*, ya que el código es mucho mas legible. Sin embargo, la función *range* puede servir para generar un rango de valores para casos especiales:"
   ]
  },
  {
   "cell_type": "code",
   "execution_count": null,
   "metadata": {},
   "outputs": [],
   "source": [
    "# Genera un rango entre 10 y 20\n",
    "for i in range(10,21):\n",
    "    print(i)"
   ]
  },
  {
   "cell_type": "code",
   "execution_count": null,
   "metadata": {},
   "outputs": [],
   "source": [
    "# Genera un rango entre 0 y 20 en pasos de 5\n",
    "for i in range(0,21,5):\n",
    "    print(i)"
   ]
  },
  {
   "cell_type": "code",
   "execution_count": null,
   "metadata": {},
   "outputs": [],
   "source": [
    "# Si voy a generar un rango de valores decrecientes, necesito especificar el paso como negativo\n",
    "for i in range(10, 0, -1):\n",
    "    print(i)"
   ]
  },
  {
   "cell_type": "markdown",
   "metadata": {},
   "source": [
    "## Lazo While\n",
    "Otra forma de establecer un lazo de iteración es con la instrucción *while* que requiere de una condición, de tal forma que mientras esta condición retorne un valor *True* las instrucciones dentro del bloque de repetición continuarán repitiendose."
   ]
  },
  {
   "cell_type": "code",
   "execution_count": null,
   "metadata": {},
   "outputs": [],
   "source": [
    "i = 0\n",
    "while i < 10:\n",
    "    print(i)\n",
    "    i += 1"
   ]
  },
  {
   "cell_type": "markdown",
   "metadata": {},
   "source": [
    "Las lazos *while* son ideales para establecer un lazo del que no se conoce el número de iteraciones que se van a suceder, pero se conoce la condición que hará que este proceso se mantenga. Por ejemplo, si se tiene un robot que se desplaza hacia adelante y tiene un sensor que mide la distancia hacia una pared, se puede establecer un código como el siguiente:\n",
    "\n",
    "    distancia = sensor()      # Hay una instrucción \"sensor\" que mide la distancia del robot contra un obstaculo en cm\n",
    "    if distancia > 10:\n",
    "        avanzar()\n",
    "\n",
    "Este ejemplo hara que el robot, sin importar a que distancia se encuentre de una pared, se desplazará hacia esta hasta que este a 10 cm de esta (se asume que *distancia* se va reduciendo con el tiempo).\n",
    "\n",
    "Por ejemplo, supongamos que queremos un programa que sume las notas ingresadas hasta que se ingrese un *valor centinela*, es decir, un valor que indique que ya no se desean seguir ingresando notas."
   ]
  },
  {
   "cell_type": "code",
   "execution_count": 1,
   "metadata": {},
   "outputs": [
    {
     "name": "stdout",
     "output_type": "stream",
     "text": [
      "Ingrese una nota [-1 para salir]: 4\n",
      "Ingrese una nota [-1 para salir]: 8\n",
      "Ingrese una nota [-1 para salir]: 6\n",
      "Ingrese una nota [-1 para salir]: -1\n",
      "El promedio de las notas ingresadas es 6.0\n"
     ]
    }
   ],
   "source": [
    "suma = 0\n",
    "num_notas = 0\n",
    "nota = 0\n",
    "\n",
    "\n",
    "while nota != -1: \n",
    "    nota = int(input(\"Ingrese una nota [-1 para salir]: \"))\n",
    "    suma = suma + nota\n",
    "    num_notas += 1\n",
    "\n",
    "promedio = (suma + 1) / (num_notas - 1)   # Hay que restar la nota con valor -1\n",
    "print(\"El promedio de las notas ingresadas es {:.1f}\".format(promedio))"
   ]
  },
  {
   "cell_type": "markdown",
   "metadata": {},
   "source": [
    "## Lazo Do... While (o como contruirlo utilizando *break*)\n",
    "El ejemplo anterior tiene un problema: hay que ajustar la suma de las notas para evitar que a nota -1 se agregue al calculo, tanto en valor como en la cantidad de notas ingresadas. Esto se podria evitar utilizando un lazo do...while que evalua la condición luego de la ejecución del bloque de iteracion y no antes como en el caso anterior.\n",
    "\n",
    "Sin embargo, Python no tiene implementado este tipo de lazo, por lo que hay que construirlo utilizando la instruccion *break*, que detiene un lazo:"
   ]
  },
  {
   "cell_type": "code",
   "execution_count": null,
   "metadata": {},
   "outputs": [],
   "source": [
    "suma = 0\n",
    "num_notas = 0\n",
    "nota = 0\n",
    "\n",
    "\n",
    "while True: \n",
    "    nota = int(input(\"Ingrese una nota [-1 para salir]: \"))\n",
    "    if nota == -1:\n",
    "        break\n",
    "    suma = suma + nota\n",
    "    num_notas += 1\n",
    "\n",
    "promedio = suma / num_notas\n",
    "print(\"El promedio de las notas ingresadas es {:.1f}\".format(promedio))"
   ]
  },
  {
   "cell_type": "markdown",
   "metadata": {},
   "source": [
    "En este caso, se crea un *lazo infinito* ya que la condición sera siempre True. Sin embargo, antes de realizar algun calculo, se verifica el valor de entrada y si este es igual a valor centinela, se detiene el lazo"
   ]
  },
  {
   "cell_type": "markdown",
   "metadata": {},
   "source": [
    "## while en los lazos\n",
    "En Python tanto un lazo *for* como un lazo *while* soportan la instrucción *else*. Esto con la intención que el bloque de iteración sea más legible. Los dos siguientes códigos realizan lo mismo, pero el segundo es mas legible"
   ]
  },
  {
   "cell_type": "code",
   "execution_count": 2,
   "metadata": {},
   "outputs": [
    {
     "name": "stdout",
     "output_type": "stream",
     "text": [
      "0\n",
      "1\n",
      "2\n",
      "3\n",
      "4\n",
      "5\n",
      "6\n",
      "7\n",
      "8\n",
      "9\n",
      "Fin de lista\n"
     ]
    }
   ],
   "source": [
    "num = 0\n",
    "# Mientras el numero a imprimir sea menor que 10 se imprime un valor que se va incrementado\n",
    "while num < 10:\n",
    "    print(num)\n",
    "    num += 1\n",
    "# Se imprime final de lista\n",
    "print(\"Fin de lista\")"
   ]
  },
  {
   "cell_type": "code",
   "execution_count": 3,
   "metadata": {},
   "outputs": [
    {
     "name": "stdout",
     "output_type": "stream",
     "text": [
      "0\n",
      "1\n",
      "2\n",
      "3\n",
      "4\n",
      "5\n",
      "6\n",
      "7\n",
      "8\n",
      "9\n",
      "Fin de lista\n"
     ]
    }
   ],
   "source": [
    "num = 0\n",
    "# Mientras el lazo se sostega se imprime un numero que va aumentando...\n",
    "while num < 10:\n",
    "    print(num)\n",
    "    num += 1\n",
    "else:\n",
    "    # ...de lo contario, si el lazo termino (por una condición False y no por un break) se realiza lo siguiente\n",
    "    print(\"Fin de lista\")"
   ]
  },
  {
   "cell_type": "markdown",
   "metadata": {},
   "source": [
    "La fiilosofia detras de Python es que el código sea legible, y esto se consigue agragando la instrucción *else* a los lazos"
   ]
  }
 ],
 "metadata": {
  "kernelspec": {
   "display_name": "Python 3",
   "language": "python",
   "name": "python3"
  },
  "language_info": {
   "codemirror_mode": {
    "name": "ipython",
    "version": 3
   },
   "file_extension": ".py",
   "mimetype": "text/x-python",
   "name": "python",
   "nbconvert_exporter": "python",
   "pygments_lexer": "ipython3",
   "version": "3.7.6"
  }
 },
 "nbformat": 4,
 "nbformat_minor": 2
}
