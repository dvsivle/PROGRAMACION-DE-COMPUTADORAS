{
 "cells": [
  {
   "cell_type": "markdown",
   "metadata": {},
   "source": [
    "# If... Elif... Else\n",
    "Python permite control del flujo de la ejecución de un programa utilizando la instrucción condicional \"if\". Esta instrucción crea un bloque condicional."
   ]
  },
  {
   "cell_type": "code",
   "execution_count": 1,
   "metadata": {},
   "outputs": [
    {
     "name": "stdout",
     "output_type": "stream",
     "text": [
      "Ingrese un numero entero: 45\n",
      "El numero ingerado no es par\n"
     ]
    }
   ],
   "source": [
    "num = int(input(\"Ingrese un numero entero: \"))\n",
    "\n",
    "if num % 2 == 0:\n",
    "    print(\"El numero ingresado es par\")\n",
    "else:\n",
    "    print(\"El numero ingerado no es par\")"
   ]
  },
  {
   "cell_type": "markdown",
   "metadata": {},
   "source": [
    "Es importante notar que siempre se tiene la misma sintaxis:\n",
    "\n",
    "    if expresion:\n",
    "        bloque de instrucciones\n",
    "\n",
    "Luego de la expresión van \":\" que indica que lo que sigue es un bloque que se encontrará sangrado a la derecha (segun el estandar, 4 espacios). Si una línea no esta sangrada, se considerará fuera del bloque\n",
    "\n",
    "    if expresion:\n",
    "        bloque de instrucciones\n",
    "    else:\n",
    "        bloque de instrucciones\n",
    "        \n",
    "En el caso que no se cumpla la expresión, se pude incluír una clausula \"else\" para considerar el caso contrario."
   ]
  },
  {
   "cell_type": "code",
   "execution_count": null,
   "metadata": {},
   "outputs": [],
   "source": [
    "num = int(input(\"Ingrese un numero entero: \"))\n",
    "\n",
    "if num < 50:\n",
    "    print(\"El numero ingresado es menor que 50\")\n",
    "elif num < 100:\n",
    "    print(\"El numero ingresado es menor que 100\")\n",
    "elif num < 200:\n",
    "    print(\"El numero ingresado es menor que 200\")\n",
    "else:\n",
    "    print(\"El numero ingresado es mayor que 200\")"
   ]
  },
  {
   "cell_type": "markdown",
   "metadata": {},
   "source": [
    "La instrucción \"if\" no tiene una marca de fin: el final de la instrucción esta dada por la ausencia de sangría, por lo que es importante mantener un orden de escritura"
   ]
  },
  {
   "cell_type": "code",
   "execution_count": 6,
   "metadata": {},
   "outputs": [
    {
     "name": "stdout",
     "output_type": "stream",
     "text": [
      "Ingrese su edad: 14\n",
      "Ud. es menor de edad\n"
     ]
    }
   ],
   "source": [
    "edad = int(input(\"Ingrese su edad: \"))\n",
    "edadValida = False\n",
    "\n",
    "if edad < 0:\n",
    "    print(\"Edad ingresada invalida\")\n",
    "elif edad > 100:\n",
    "    print(\"Edad ingresada invalida\")\n",
    "else:\n",
    "    edadValida = True\n",
    "    \n",
    "if edadValida:\n",
    "    if edad < 18:\n",
    "        print(\"Ud. es menor de edad\")\n",
    "    else:\n",
    "        print(\"Ud. es mayor de edad\")"
   ]
  },
  {
   "cell_type": "markdown",
   "metadata": {},
   "source": [
    "Como en cualquier lenguaje de programación se pueden incluír operadores de relación, así como instrucciones if anidadas:"
   ]
  },
  {
   "cell_type": "code",
   "execution_count": null,
   "metadata": {},
   "outputs": [],
   "source": [
    "edad = int(input(\"Ingrese su edad: \"))\n",
    "\n",
    "if edad > 0:\n",
    "    if edad < 100:\n",
    "        if edad < 18:\n",
    "            print(\"Ud. es menor de edad\")\n",
    "        else:\n",
    "            print(\"Ud. es mayor de edad\")\n",
    "    else:\n",
    "        print(\"Edad invalida\")\n",
    "else:\n",
    "    print(\"Edad invalida\")"
   ]
  },
  {
   "cell_type": "code",
   "execution_count": null,
   "metadata": {},
   "outputs": [],
   "source": [
    "edad = int(input(\"Ingrese su edad: \"))\n",
    "\n",
    "if edad < 0 or edad > 100:\n",
    "    print(\"Edad invalida\")\n",
    "else:\n",
    "    if edad > 18 and edad < 70:\n",
    "        print(\"Ud. es mayor de edad y puede conducir\")\n",
    "    elif edad >= 70:\n",
    "        print(\"Ud. es mayor de edad y no puede conducir\")"
   ]
  },
  {
   "cell_type": "markdown",
   "metadata": {},
   "source": [
    "Todos los casos anteriores son una muestra que se puede construír cualquier lógica de control con la intruccion if...elif...else y las operaciones logicas y de relacion."
   ]
  },
  {
   "cell_type": "markdown",
   "metadata": {},
   "source": [
    "## Python *if* y la prueba de membresía *in*\n",
    "Una instrucción asociada a *if* es la instrucción *in* que permite verificar si un valor forma parte de un listado de valores:"
   ]
  },
  {
   "cell_type": "code",
   "execution_count": null,
   "metadata": {},
   "outputs": [],
   "source": [
    "primos = (2, 3, 5, 7, 11, 13, 17, 19, 23, 29, 31, 37, 41, 43, 47, 53, 59, 61, 67, 71, 73, 79, 83, 89, 97)\n",
    "\n",
    "num = int(input(\"Ingrese un numero entero [0 - 100]: \"))\n",
    "if num in primos:\n",
    "    print(\"El numero ingresado es primo\")\n",
    "else:\n",
    "    print(\"El numero ingresado no es primo\")"
   ]
  },
  {
   "cell_type": "markdown",
   "metadata": {},
   "source": [
    "La variable *primos* es una tupla. Esta es una secuencia de valores asociados a una sola variable. En otro documento se verá con detalle el tipo tupla en Python; lo que nos importa para este ejemplo es que el operador *in* retorna un valor logico verdadero si un valor es miembro de un grupo de valores (en este caso, una tupla). Esta operacion también funciona con listas"
   ]
  },
  {
   "cell_type": "code",
   "execution_count": null,
   "metadata": {},
   "outputs": [],
   "source": [
    "primos = [2, 3, 5, 7, 11, 13, 17, 19, 23, 29, 31, 37, 41, 43, 47, 53, 59, 61, 67, 71, 73, 79, 83, 89, 97]\n",
    "\n",
    "num = int(input(\"Ingrese un numero entero [0 - 100]: \"))\n",
    "if num in primos:\n",
    "    print(\"El numero ingresado es primo\")\n",
    "else:\n",
    "    print(\"El numero ingresado no es primo\")"
   ]
  },
  {
   "cell_type": "markdown",
   "metadata": {},
   "source": [
    "Una lista es equivalente a una tupla, solo que los valores de una lista pueden modificarse (una tupla no acepta cambios en los valores).\n",
    "\n",
    "El uso del operador *in* evita tener que buscar un valor a lo largo de una lista de valores, recorriendo cada valor y haciendo una comparación uno-a-uno como sucede en otros lennguajes de programación. El uso del operador *in* es un ejemplo de un codigo *pythonico*, es decir, una construcción elegante y legible que es preferida como código Python."
   ]
  },
  {
   "cell_type": "code",
   "execution_count": 4,
   "metadata": {},
   "outputs": [],
   "source": [
    "# Hay otra instruccion que puede parecer inutil\n",
    "\n",
    "numero=0\n",
    "\n",
    "if numero == 0:\n",
    "    pass\n",
    "\n",
    "# Esto no hara absolutamente nada. La instruccion pass es simplemente un \"continuar\". Sin embargo,\n",
    "# el compilador no ignora esta sentencia como si lo hace con los comentarios. la palabra pass sirve para marcar algo \n",
    "#que se quiere hacer posteriormente en el codigo."
   ]
  },
  {
   "cell_type": "code",
   "execution_count": 7,
   "metadata": {},
   "outputs": [],
   "source": [
    "#Ahora que podemos constuir codigos mas largos y tomando en cuenta lo importante que es el formato en Python.\n",
    "#Existe una guia de estilo de escritura de codigo llamada PEP-8. Aqui algunos ejemplos de las buenas practicas \n",
    "#del PEP-8 (https://www.python.org/dev/peps/pep-0008/):\n",
    "\n",
    "# - Usar cuatro espacios en lugar de indentación\n",
    "# - Limitar el tamaño de las lineas de codigo a 79 caracteres\n",
    "# - Separar con un espacio los argumentos, luego de la coma\n",
    "# - Rodear los operadores con espacios en blanco (a excepcion de la definicion de opciones por defecto de los argumentos \n",
    "#   de una funcion"
   ]
  },
  {
   "cell_type": "code",
   "execution_count": null,
   "metadata": {},
   "outputs": [],
   "source": []
  }
 ],
 "metadata": {
  "kernelspec": {
   "display_name": "Python 3",
   "language": "python",
   "name": "python3"
  },
  "language_info": {
   "codemirror_mode": {
    "name": "ipython",
    "version": 3
   },
   "file_extension": ".py",
   "mimetype": "text/x-python",
   "name": "python",
   "nbconvert_exporter": "python",
   "pygments_lexer": "ipython3",
   "version": "3.7.6"
  }
 },
 "nbformat": 4,
 "nbformat_minor": 2
}
