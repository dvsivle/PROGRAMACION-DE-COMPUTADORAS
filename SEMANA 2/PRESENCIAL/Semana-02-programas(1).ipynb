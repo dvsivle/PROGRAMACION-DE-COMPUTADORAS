{
 "cells": [
  {
   "cell_type": "code",
   "execution_count": 1,
   "metadata": {},
   "outputs": [
    {
     "name": "stdout",
     "output_type": "stream",
     "text": [
      "Ingrese 2 números: 45 8\n",
      "45 8\n",
      "suma: 53\n"
     ]
    }
   ],
   "source": [
    "#Uso de la función split():\n",
    "\n",
    "data = input(\"Ingrese 2 números: \")\n",
    "print(data) #recuerde que data es una cadena\n",
    "\n",
    "n1,n2 = data.split(' ') #separa la cadena en función del string ' '\n",
    "                        #n1 y n2 siguen siendo cadenas\n",
    "\n",
    "#suma los números enteros:\n",
    "print(\"suma:\",int(n1)+int(n2))"
   ]
  },
  {
   "cell_type": "code",
   "execution_count": 2,
   "metadata": {},
   "outputs": [
    {
     "name": "stdout",
     "output_type": "stream",
     "text": [
      "Ingrese 2 números: 45 8\n",
      "suma: 53\n"
     ]
    }
   ],
   "source": [
    "#Uso de la función split():\n",
    "\n",
    "n1,n2 = input(\"Ingrese 2 números: \").split(' ') #se puede aplicar split() directamente\n",
    "\n",
    "#suma los números enteros:\n",
    "print(\"suma:\",int(n1)+int(n2))"
   ]
  },
  {
   "cell_type": "code",
   "execution_count": 3,
   "metadata": {},
   "outputs": [
    {
     "name": "stdout",
     "output_type": "stream",
     "text": [
      "Ingrese fraccion a/b: 4/1\n",
      "La division es: 4.0\n"
     ]
    }
   ],
   "source": [
    "#Uso de la función split():\n",
    "\n",
    "n1,n2 = input(\"Ingrese fraccion a/b: \").split(\"/\")  #separa la cadena en función del string '/'\n",
    "\n",
    "#divide los números enteros:\n",
    "print(\"La division es:\",int(n1)/int(n2))"
   ]
  },
  {
   "cell_type": "code",
   "execution_count": 4,
   "metadata": {},
   "outputs": [
    {
     "name": "stdout",
     "output_type": "stream",
     "text": [
      "Ingrese su fecha de nacimiento 00/00/00: 00/00/2\n",
      "dia: 00\n",
      "mes: 00\n",
      "año: 2\n"
     ]
    }
   ],
   "source": [
    "#Uso de la función split():\n",
    "\n",
    "#separa la cadena en función del string '/'\n",
    "dia,mes,año = (input(\"Ingrese su fecha de nacimiento 00/00/00: \")).split(\"/\")\n",
    "\n",
    "#muestra las cadenas separadas:\n",
    "print(\"dia:\",dia)\n",
    "print(\"mes:\",mes)\n",
    "print(\"año:\",año)"
   ]
  },
  {
   "cell_type": "code",
   "execution_count": 10,
   "metadata": {},
   "outputs": [
    {
     "name": "stdout",
     "output_type": "stream",
     "text": [
      "Ingrese su fecha de nacimiento 00 00 00: 08         05                         78\n",
      "dia: 08\n",
      "mes: 05\n",
      "año: 78\n"
     ]
    }
   ],
   "source": [
    "#Uso de la función split():\n",
    "\n",
    "#se puede usar split() sin argumento.\n",
    "dia,mes,año = input(\"Ingrese su fecha de nacimiento 00 00 00: \").split()\n",
    "\n",
    "#muestra las cadenas separadas (observe la ejecución)\n",
    "print(\"dia:\",dia)\n",
    "print(\"mes:\",mes)\n",
    "print(\"año:\",año)"
   ]
  },
  {
   "cell_type": "code",
   "execution_count": 19,
   "metadata": {},
   "outputs": [
    {
     "name": "stdout",
     "output_type": "stream",
     "text": [
      "False\n",
      "True\n",
      "True\n",
      "False\n",
      "True\n",
      "False\n"
     ]
    }
   ],
   "source": [
    "#imprimiendo el resultado de expresiones lógicas:\n",
    "\n",
    "print(5>7) #5 es mayor a 7 (F)\n",
    "print(56==56) #56 es igual a 56 (V)\n",
    "print(3.6<=3.66) #3.6 es menor o igual a 3.66 (V)\n",
    "print(5>6 and 7==7)  #5 es mayor a 6 Y 7 es igual a 7  (F Y V -- F)\n",
    "print(4==4.0001 or 6+6==12) #4 es igual a 4 O 6+6 es igual a 12 (F O V --- V)\n",
    "print(4.6!=4.6 and not(5==5)) #4.6 es diferente de 4.6 Y no es cierto que 5 es igual a 5\n",
    "                              #(F Y F)"
   ]
  },
  {
   "cell_type": "code",
   "execution_count": 14,
   "metadata": {},
   "outputs": [
    {
     "name": "stdout",
     "output_type": "stream",
     "text": [
      "Es un positivo\n"
     ]
    }
   ],
   "source": [
    "#estructuras condicionales:\n",
    "#=========================\n",
    "\n",
    "x = 4\n",
    "\n",
    "#decisión simple:\n",
    "if(x>0):\n",
    "    print(\"Es un positivo\")     "
   ]
  },
  {
   "cell_type": "code",
   "execution_count": 5,
   "metadata": {},
   "outputs": [
    {
     "name": "stdout",
     "output_type": "stream",
     "text": [
      "Es un negativo\n",
      "Gracias!!\n"
     ]
    }
   ],
   "source": [
    "x = -40.79\n",
    "\n",
    "#decision doble:\n",
    "if(x>0):\n",
    "    print(\"Es un positivo\") \n",
    "    print(\"Gracias!!\")\n",
    "else:\n",
    "    print(\"Es un negativo\") \n",
    "    print(\"Gracias!!\")\n",
    "    \n",
    "#ojo con la identación de los bloques!"
   ]
  },
  {
   "cell_type": "code",
   "execution_count": 6,
   "metadata": {},
   "outputs": [
    {
     "name": "stdout",
     "output_type": "stream",
     "text": [
      "Ingresa tu edad: -5\n",
      "Eres menor de edad\n"
     ]
    }
   ],
   "source": [
    "#determinar si una persona es mayor de edad o no:\n",
    "\n",
    "edad = int(input(\"Ingresa tu edad: \"))\n",
    "if(edad>=18):\n",
    "    print(\"Eres mayor de edad\")\n",
    "else:\n",
    "    print(\"Eres menor de edad\")"
   ]
  },
  {
   "cell_type": "code",
   "execution_count": 41,
   "metadata": {},
   "outputs": [
    {
     "name": "stdout",
     "output_type": "stream",
     "text": [
      "Ingresa tu edad: 56\n",
      "Eres mayor de edad\n"
     ]
    }
   ],
   "source": [
    "#determina si una persona es mayor de edad o no. No permite edades negativas.\n",
    "\n",
    "edad = int(input(\"Ingresa tu edad: \"))\n",
    "\n",
    "if(edad>=0):\n",
    "    if(edad>=18):\n",
    "        print(\"Eres mayor de edad\")\n",
    "    else:\n",
    "        print(\"Eres menor de edad\")\n",
    "else:\n",
    "    print(\"Dato incorrecto!!\")"
   ]
  },
  {
   "cell_type": "code",
   "execution_count": 9,
   "metadata": {},
   "outputs": [
    {
     "name": "stdout",
     "output_type": "stream",
     "text": [
      "Ingresa tu edad: 999\n",
      "Es adulto mayor\n"
     ]
    }
   ],
   "source": [
    "#determina la etapa de una persona según su edad. No permite edades negativas.\n",
    "\n",
    "edad = int(input(\"Ingresa tu edad: \"))\n",
    "\n",
    "if(edad>=0):\n",
    "    if(edad<=4): #si la edad esta en el rango [0,4]\n",
    "        print(\"Es un bebe\")\n",
    "    elif(edad<=11): #si la edad esta en el rango [5,11]\n",
    "        print(\"Es un niño\")\n",
    "    elif(edad<=17): #si la edad esta en el rango [12,17]\n",
    "        print(\"Es un adolescente\")\n",
    "    elif(edad<=30): #si la edad esta en el rango [18,30]\n",
    "        print(\"Es un adulto joven\")\n",
    "    elif(edad<=60): #si la edad esta en el rango [31,60]\n",
    "        print(\"Es un adulto\")\n",
    "    else: #caso contrario\n",
    "        print(\"Es adulto mayor\")\n",
    "else:\n",
    "    print(\"Error!\")"
   ]
  },
  {
   "cell_type": "code",
   "execution_count": 10,
   "metadata": {},
   "outputs": [
    {
     "name": "stdout",
     "output_type": "stream",
     "text": [
      "Ingrese un número: 45\n",
      "Ingrese otro número: 44\n",
      "El primer número es mayor que el segundo\n"
     ]
    }
   ],
   "source": [
    "#requerimiento 1:\n",
    "\n",
    "x=float(input(\"Ingrese un número: \"))\n",
    "y=float(input(\"Ingrese otro número: \"))\n",
    "if(x>y):\n",
    "    print(\"El primer número es mayor que el segundo\")\n",
    "elif(y>x):\n",
    "    print(\"El segundo número es mayor que el primero\")\n",
    "else:\n",
    "\n",
    "    print(\"Ambos números son iguales\")"
   ]
  },
  {
   "cell_type": "code",
   "execution_count": 11,
   "metadata": {},
   "outputs": [
    {
     "name": "stdout",
     "output_type": "stream",
     "text": [
      "82.5\n"
     ]
    }
   ],
   "source": [
    "#tip: Uso del split():\n",
    "\n",
    "operacion = \"4.5+78\"\n",
    "op1,op2 = operacion.split(\"+\")\n",
    "print(float(op1)+float(op2))"
   ]
  },
  {
   "cell_type": "code",
   "execution_count": 12,
   "metadata": {},
   "outputs": [
    {
     "name": "stdout",
     "output_type": "stream",
     "text": [
      "Operando 1: 4.5\n",
      "Operando 2: 78\n",
      "Operando: +\n"
     ]
    }
   ],
   "source": [
    "#tip: Uso del split():\n",
    "\n",
    "operacion = \"4.5 + 78\"\n",
    "op1,op,op2 = operacion.split()\n",
    "\n",
    "print(\"Operando 1:\",op1)\n",
    "print(\"Operando 2:\",op2)\n",
    "print(\"Operando:\",op)"
   ]
  },
  {
   "cell_type": "code",
   "execution_count": 15,
   "metadata": {},
   "outputs": [
    {
     "name": "stdout",
     "output_type": "stream",
     "text": [
      "Ingrese una operacion con +,-,x o /: 456 / -89\n",
      "456 / -89 = -5.124\n"
     ]
    }
   ],
   "source": [
    "#Requerimiento 2:\n",
    "\n",
    "operacion = input(\"Ingrese una operacion con +,-,x o /: \")\n",
    "\n",
    "op1,op,op2 = operacion.split()\n",
    "\n",
    "if(op==\"+\"):\n",
    "    print(\"{} = {:.3f}\".format(operacion,float(op1)+float(op2)))\n",
    "elif(op==\"-\"):\n",
    "    print(\"{} = {:.3f}\".format(operacion,float(op1)-float(op2)))\n",
    "elif(op==\"x\"):\n",
    "    print(\"{} = {:.3f}\".format(operacion,float(op1)*float(op2)))\n",
    "elif(op==\"/\"):\n",
    "    print(\"{} = {:.3f}\".format(operacion,float(op1)/float(op2)))\n",
    "else:\n",
    "    print(\"Error en el operando\")"
   ]
  },
  {
   "cell_type": "code",
   "execution_count": 16,
   "metadata": {},
   "outputs": [
    {
     "name": "stdout",
     "output_type": "stream",
     "text": [
      "Ingrese un año:45\n",
      "45 no es bisiesto\n"
     ]
    }
   ],
   "source": [
    "#requerimiento 3:\n",
    "\n",
    "#forma 1:\n",
    "\n",
    "x=int(input(\"Ingrese un año:\"))\n",
    "\n",
    "if(x%4==0):\n",
    "    if(x%100==0):\n",
    "        if(x%400==0):\n",
    "            print(x,\"es bisiesto\")\n",
    "        else:\n",
    "            print(x,\"no es bisiesto\")\n",
    "    else:\n",
    "        print(x,\"es bisiesto\")\n",
    "else:\n",
    "    print(x,\"no es bisiesto\")"
   ]
  },
  {
   "cell_type": "code",
   "execution_count": 21,
   "metadata": {},
   "outputs": [
    {
     "name": "stdout",
     "output_type": "stream",
     "text": [
      "Ingrese un año [ej: 1978]2020\n",
      "Es bisiesto\n"
     ]
    }
   ],
   "source": [
    "#requerimiento 3:\n",
    "\n",
    "#forma 2:\n",
    "\n",
    "año = int(input(\"Ingrese un año [ej: 1978]\"))\n",
    "\n",
    "if(año>0):\n",
    "    if((año%4==0 and año%100!=0) or año%400==0):\n",
    "        print(\"Es bisiesto\")\n",
    "    else:\n",
    "        print(\"No es bisiesto\")\n",
    "else:\n",
    "    print(\"Año incorrecto\")"
   ]
  },
  {
   "cell_type": "code",
   "execution_count": 17,
   "metadata": {},
   "outputs": [
    {
     "name": "stdout",
     "output_type": "stream",
     "text": [
      "(5, 8, 10.6, 89, 90, 'juan')\n",
      "<class 'tuple'>\n",
      "[4, 89, 100, 45, -67, 2, 'juan']\n",
      "<class 'list'>\n",
      "programacion en python\n",
      "<class 'str'>\n"
     ]
    }
   ],
   "source": [
    "#en python existen estructuras que pueden almacenar varios datos:\n",
    "\n",
    "data1 = (5,8,10.6,89,90,\"juan\") #tupla (inmutable)\n",
    "print(data1)\n",
    "print(type(data1))\n",
    "\n",
    "data2 = [4,89,100,45,-67,2,\"juan\"] #lista (mutable)\n",
    "print(data2)\n",
    "print(type(data2))\n",
    "\n",
    "data3 = \"programacion en python\"   #cadena \n",
    "print(data3)\n",
    "print(type(data3))"
   ]
  },
  {
   "cell_type": "code",
   "execution_count": 18,
   "metadata": {},
   "outputs": [
    {
     "name": "stdout",
     "output_type": "stream",
     "text": [
      "Es un dia laborable\n"
     ]
    }
   ],
   "source": [
    "#observe este ejemplo:\n",
    "\n",
    "dia = 3\n",
    "\n",
    "if(dia==1 or dia==2 or dia==3 or dia==4 or dia==5):\n",
    "    print(\"Es un dia laborable\")\n",
    "elif(dia==6 or dia==7):\n",
    "    print(\"Es un dia de descanso\")\n",
    "else:\n",
    "    print(\"No representa un dia\")"
   ]
  },
  {
   "cell_type": "code",
   "execution_count": 19,
   "metadata": {},
   "outputs": [
    {
     "name": "stdout",
     "output_type": "stream",
     "text": [
      "Es un dia laborable\n"
     ]
    }
   ],
   "source": [
    "#el ejemplo anterior usando el objeto in y una tupla:\n",
    "\n",
    "dia = 3\n",
    "\n",
    "if (dia in (1,2,3,4,5)): #si el valor del dia pertenece al grupo (1,2,3,4,5)\n",
    "    print(\"Es un dia laborable\")\n",
    "elif dia in (6,7): #si el valor del dia pertenece al grupo (6,7)\n",
    "    print(\"Es un dia de descanso\")\n",
    "else:\n",
    "    print(\"No representa un dia\")"
   ]
  },
  {
   "cell_type": "code",
   "execution_count": 20,
   "metadata": {},
   "outputs": [
    {
     "name": "stdout",
     "output_type": "stream",
     "text": [
      "No representa un dia\n"
     ]
    }
   ],
   "source": [
    "#también se puede usar una lista:\n",
    "\n",
    "dia = 8\n",
    "\n",
    "if (dia in [1,2,3,4,5]): #si el valor del dia pertenece al grupo [1,2,3,4,5]\n",
    "    print(\"Es un dia laborable\")\n",
    "elif (dia in [6,7]): #si el valor del dia pertenece al grupo [6,7]\n",
    "    print(\"Es un dia de descanso\")\n",
    "else:\n",
    "    print(\"No representa un dia\")"
   ]
  },
  {
   "cell_type": "code",
   "execution_count": 21,
   "metadata": {},
   "outputs": [
    {
     "name": "stdout",
     "output_type": "stream",
     "text": [
      "True\n"
     ]
    }
   ],
   "source": [
    "#tambien se puede usar una cadena con el objeto in:\n",
    "\n",
    "cad = \"Perú\"\n",
    "frase = \"Arriba Perú si podemos!\"\n",
    "\n",
    "print(cad in frase)  #el contenido de cad esta en la frase?"
   ]
  },
  {
   "cell_type": "code",
   "execution_count": 22,
   "metadata": {},
   "outputs": [
    {
     "name": "stdout",
     "output_type": "stream",
     "text": [
      "True\n"
     ]
    }
   ],
   "source": [
    "#tambien se puede usar una cadena con el objeto in:\n",
    "\n",
    "cad = \"si\"\n",
    "frase = \"Arriba Perú si podemos!\"\n",
    "\n",
    "print(cad in frase) #el contenido de cad esta en la frase?"
   ]
  },
  {
   "cell_type": "code",
   "execution_count": 23,
   "metadata": {},
   "outputs": [
    {
     "name": "stdout",
     "output_type": "stream",
     "text": [
      "Ingrese mes [1-12]:8\n",
      "Ingrese el año [ej. 2010]2510\n",
      "Hay 31 dias en el mes\n"
     ]
    }
   ],
   "source": [
    "#requerimiento 4:\n",
    "\n",
    "mes = int(input(\"Ingrese mes [1-12]:\"))\n",
    "if(mes<1 or mes>12):\n",
    "    print(\"Mes incorrecto!\")\n",
    "else:\n",
    "    año = int(input(\"Ingrese el año [ej. 2010]\"))\n",
    "    \n",
    "    if(año>0):\n",
    "        if(mes in (1,3,5,7,8,10,12)):\n",
    "            print(\"Hay 31 dias en el mes\")\n",
    "        elif(mes in (4,6,9,11)):\n",
    "            print(\"Hay 30 dias en el mes\")\n",
    "        else:\n",
    "            if((año%4==0 and año%100!=0) or año%400==0):\n",
    "                print(\"Hay 29 dias en el mes\")\n",
    "            else:\n",
    "                print(\"Hay 28 dias en el mes\")\n",
    "    else:\n",
    "        print(\"Año incorrecto\")"
   ]
  },
  {
   "cell_type": "code",
   "execution_count": 24,
   "metadata": {},
   "outputs": [],
   "source": [
    "#estructuras de repetición:\n",
    "#=========================\n",
    "\n",
    "#estructura de repetición for:\n",
    "\n",
    "#for i in (1,2,3,4,5,6): #se puede usar una lista tambien\n",
    "    #bloque\n",
    "\n",
    "#el bloque se va a ejecutar para i:1, 2, 3, 4, 5, 6 (osea 6 veces) \n",
    "\n",
    "#una lista, una tupla, incluso una cadena son elementos iterables"
   ]
  },
  {
   "cell_type": "code",
   "execution_count": 25,
   "metadata": {},
   "outputs": [
    {
     "name": "stdout",
     "output_type": "stream",
     "text": [
      "Arriba Perú\n",
      "Arriba Perú\n",
      "Arriba Perú\n",
      "Arriba Perú\n"
     ]
    }
   ],
   "source": [
    "#ejemplo del uso de for:\n",
    "\n",
    "#imprime \"Arriba Perú\" , para i:1,2,3,4, osea 4 veces\n",
    "for i in (1,2,3,4):  \n",
    "    print(\"Arriba Perú\")"
   ]
  },
  {
   "cell_type": "code",
   "execution_count": 26,
   "metadata": {},
   "outputs": [
    {
     "name": "stdout",
     "output_type": "stream",
     "text": [
      "i= 4\n",
      "i= 6\n",
      "i= 9\n",
      "i= 11\n",
      "i= 45\n"
     ]
    }
   ],
   "source": [
    "#imprime el valor de i, para i:4,6,9,11,45\n",
    "for i in [4,6,9,11,45]:  \n",
    "    print(\"i=\",i)"
   ]
  },
  {
   "cell_type": "code",
   "execution_count": 27,
   "metadata": {},
   "outputs": [
    {
     "name": "stdout",
     "output_type": "stream",
     "text": [
      "Suma de los datos de i:  75\n"
     ]
    }
   ],
   "source": [
    "#suma los valores de i: 4,6,9,11,45\n",
    "\n",
    "acum=0\n",
    "for i in [4,6,9,11,45]:  \n",
    "    acum = acum+i\n",
    "    \n",
    "print(\"Suma de los datos de i: \",acum)"
   ]
  },
  {
   "cell_type": "code",
   "execution_count": 28,
   "metadata": {},
   "outputs": [
    {
     "name": "stdout",
     "output_type": "stream",
     "text": [
      "J\n",
      "u\n",
      "a\n",
      "n\n",
      " \n",
      "A\n",
      "l\n",
      "b\n",
      "e\n",
      "r\n",
      "t\n",
      "o\n"
     ]
    }
   ],
   "source": [
    "#una cadena también es un elemento iterable:\n",
    "\n",
    "#imprime el valor de caracter, para caracter:J, u, a, ...........r,t,o\n",
    "for caracter in \"Juan Alberto\": #imprime el valor de caracter, para caracter:J, u, a, ...\n",
    "    print(caracter)"
   ]
  },
  {
   "cell_type": "code",
   "execution_count": 29,
   "metadata": {},
   "outputs": [
    {
     "name": "stdout",
     "output_type": "stream",
     "text": [
      "range(1, 10)\n",
      "<class 'range'>\n"
     ]
    }
   ],
   "source": [
    "#tipo de dato range() (rango)\n",
    "\n",
    "r = range(1,10) #se crea el rango:  1,2,3,4,5,6,7,8,9\n",
    "print(r)\n",
    "print(type(r))"
   ]
  },
  {
   "cell_type": "code",
   "execution_count": 30,
   "metadata": {},
   "outputs": [],
   "source": [
    "#otros ejemplos para crer rangos:\n",
    "\n",
    "y = range(0,33)  #se crea el rango: 0,1,2,3,........32\n",
    "z = range(3,20,3)  #se crea el rango:  3,6,9,12,15,18\n",
    "c = range(5,30,5) #se crea el rango: 5,10,15,20,25\n",
    "f = range(10,0,-1) #se crea el rango: 10,9,8,7,6,5,4,3,2,1"
   ]
  },
  {
   "cell_type": "code",
   "execution_count": 31,
   "metadata": {},
   "outputs": [
    {
     "name": "stdout",
     "output_type": "stream",
     "text": [
      "i= 1\n",
      "i= 2\n",
      "i= 3\n",
      "i= 4\n",
      "i= 5\n",
      "i= 6\n",
      "i= 7\n",
      "i= 8\n",
      "i= 9\n",
      "\n",
      "\n",
      "i= 10\n",
      "i= 8\n",
      "i= 6\n",
      "i= 4\n",
      "i= 2\n"
     ]
    }
   ],
   "source": [
    "#uso del for con range():\n",
    "\n",
    "for i in range(1,10):  #para i:1,2,3,4,5,6,7,8,9\n",
    "    print(\"i=\",i)\n",
    "    \n",
    "print(\"\\n\")\n",
    "for i in range(10,0,-2):  #para i: 10,8,6,4,2\n",
    "    print(\"i=\",i)"
   ]
  },
  {
   "cell_type": "code",
   "execution_count": 32,
   "metadata": {},
   "outputs": [
    {
     "name": "stdout",
     "output_type": "stream",
     "text": [
      "Ingrese un numero inicial: 5\n",
      "Ingrese un numero final: 45\n",
      "5\n",
      "7\n",
      "9\n",
      "11\n",
      "13\n",
      "15\n",
      "17\n",
      "19\n",
      "21\n",
      "23\n",
      "25\n",
      "27\n",
      "29\n",
      "31\n",
      "33\n",
      "35\n",
      "37\n",
      "39\n",
      "41\n",
      "43\n",
      "45\n"
     ]
    }
   ],
   "source": [
    "#requerimiento 5:\n",
    "\n",
    "n1 = int(input(\"Ingrese un numero inicial: \"))  #si n1:5\n",
    "n2 = int(input(\"Ingrese un numero final: \"))    #si n2:20\n",
    "\n",
    "for i in range(n1,n2+1): #para i: 5,6,7,8,9,10,11,......20\n",
    "    if (i%2!= 0):\n",
    "        print(i)"
   ]
  },
  {
   "cell_type": "code",
   "execution_count": 33,
   "metadata": {},
   "outputs": [],
   "source": [
    "#estructura de repetición while:\n",
    "\n",
    "#ejecuta bloque mientras la expresion sea verdadera\n",
    "#while(expresion):\n",
    "   #bloque"
   ]
  },
  {
   "cell_type": "code",
   "execution_count": 37,
   "metadata": {
    "scrolled": true
   },
   "outputs": [
    {
     "name": "stdout",
     "output_type": "stream",
     "text": [
      "5\n",
      "4\n",
      "3\n",
      "2\n",
      "1\n",
      "0\n",
      "BOOOM!!\n"
     ]
    }
   ],
   "source": [
    "#ejemplo del uso del while:\n",
    "import time\n",
    "i=5\n",
    "\n",
    "while(i>=0):\n",
    "    print(i)\n",
    "    time.sleep(0.1)\n",
    "    #actualiza el valor de i\n",
    "    i=i-1  #tambien se puede usar esta abreviatura i-=1 \n",
    "    \n",
    "print(\"BOOOM!!\")    "
   ]
  },
  {
   "cell_type": "code",
   "execution_count": 1,
   "metadata": {},
   "outputs": [],
   "source": [
    "#Cuidado: bucle infinito\n",
    "\n",
    "#while(True):\n",
    "#    print(\"hola\")"
   ]
  },
  {
   "cell_type": "code",
   "execution_count": 39,
   "metadata": {},
   "outputs": [
    {
     "name": "stdout",
     "output_type": "stream",
     "text": [
      "Alerta!!!\n",
      "Alerta!!!\n",
      "Alerta!!!\n",
      "Alerta!!!\n",
      "Alerta!!!\n",
      "Alerta!!!\n",
      "Alerta!!!\n",
      "Alerta!!!\n",
      "Alerta!!!\n",
      "Ufffff!!\n"
     ]
    }
   ],
   "source": [
    "#se puede salir de un bucle infinito usando break:\n",
    "#break permite salir de un lazo antes de que termine su proceso iterativo\n",
    "import time\n",
    "x = 1\n",
    "\n",
    "while(True):\n",
    "    print(\"Alerta!!!\")\n",
    "    x=x+1\n",
    "    if(x==10):\n",
    "        break\n",
    "    time.sleep(0.2)\n",
    "print(\"Ufffff!!\")"
   ]
  },
  {
   "cell_type": "code",
   "execution_count": 29,
   "metadata": {},
   "outputs": [
    {
     "name": "stdout",
     "output_type": "stream",
     "text": [
      "1\n",
      "2\n",
      "3\n",
      "4\n",
      "5\n"
     ]
    }
   ],
   "source": [
    "#el break tambien se puede usar con for\n",
    "for i in range(1,10):\n",
    "    print(i)\n",
    "    if(i==5):\n",
    "        break"
   ]
  },
  {
   "cell_type": "code",
   "execution_count": 40,
   "metadata": {},
   "outputs": [
    {
     "name": "stdout",
     "output_type": "stream",
     "text": [
      "Ingrese un numero par: 5\n",
      "Vuelve a leer\n",
      "Ingrese un numero par: 568\n",
      "Dato correcto!!\n"
     ]
    }
   ],
   "source": [
    "#para validar ingreso de datos:\n",
    "\n",
    "while(True):\n",
    "    data = int(input(\"Ingrese un numero par: \"))\n",
    "    if(data%2!=0):  #si es impar\n",
    "        print(\"Vuelve a leer\")\n",
    "    else:\n",
    "        break\n",
    "        \n",
    "print(\"Dato correcto!!\")"
   ]
  },
  {
   "cell_type": "code",
   "execution_count": 41,
   "metadata": {},
   "outputs": [
    {
     "name": "stdout",
     "output_type": "stream",
     "text": [
      "2\n",
      "3\n",
      "4\n",
      "5\n",
      "6\n",
      "7\n",
      "8\n",
      "9\n"
     ]
    }
   ],
   "source": [
    "#OJO: no es recomendable:\n",
    "\n",
    "for x in range(2,10):  #para x: 2,3,4,5,6,7,8,9\n",
    "    print(x)\n",
    "    x=x+20  #en el bloque del for no se permite actualizar el valor de la vble. de iteracion\n"
   ]
  },
  {
   "cell_type": "code",
   "execution_count": 46,
   "metadata": {},
   "outputs": [
    {
     "name": "stdout",
     "output_type": "stream",
     "text": [
      "Ingrese N: 450\n",
      "450\n",
      "225\n",
      "676\n",
      "338\n",
      "169\n",
      "508\n",
      "254\n",
      "127\n",
      "382\n",
      "191\n",
      "574\n",
      "287\n",
      "862\n",
      "431\n",
      "1294\n",
      "647\n",
      "1942\n",
      "971\n",
      "2914\n",
      "1457\n",
      "4372\n",
      "2186\n",
      "1093\n",
      "3280\n",
      "1640\n",
      "820\n",
      "410\n",
      "205\n",
      "616\n",
      "308\n",
      "154\n",
      "77\n",
      "232\n",
      "116\n",
      "58\n",
      "29\n",
      "88\n",
      "44\n",
      "22\n",
      "11\n",
      "34\n",
      "17\n",
      "52\n",
      "26\n",
      "13\n",
      "40\n",
      "20\n",
      "10\n",
      "5\n",
      "16\n",
      "8\n",
      "4\n",
      "2\n",
      "1\n"
     ]
    }
   ],
   "source": [
    "#requerimiento 6:\n",
    "\n",
    "while(True):\n",
    "    N = int(input(\"Ingrese N: \"))\n",
    "    if(N<=1):\n",
    "        print(\"Error\")\n",
    "    else:\n",
    "        break\n",
    "\n",
    "print(N)\n",
    "while(N>1):\n",
    "    if(N%2==0):\n",
    "        N=N/2\n",
    "    else:\n",
    "        N=3*N+1\n",
    "    print(int(N))"
   ]
  },
  {
   "cell_type": "code",
   "execution_count": 47,
   "metadata": {},
   "outputs": [
    {
     "name": "stdout",
     "output_type": "stream",
     "text": [
      "5\n",
      "6\n",
      "6\n",
      "5\n",
      "1\n",
      "6\n",
      "3\n",
      "2\n",
      "3\n",
      "4\n"
     ]
    }
   ],
   "source": [
    "#ejemplo del uso de los módulos random y time\n",
    "\n",
    "import random\n",
    "import time\n",
    "\n",
    "#se generan 10 valores aleatorios\n",
    "for i in range(1,11): #para i:1,2,3,4,5,6,7,8,9,10\n",
    "    dado = random.randint(1,6)  #genera un aleatorio entero del 1 al 6\n",
    "    print(dado)\n",
    "    time.sleep(0.5)  #duerme la ejecución 0.5 segundos"
   ]
  },
  {
   "cell_type": "code",
   "execution_count": 48,
   "metadata": {},
   "outputs": [
    {
     "name": "stdout",
     "output_type": "stream",
     "text": [
      "1.853237591693468\n",
      "2.2341985428491578\n",
      "2.611964388102538\n",
      "1.30729981821993\n",
      "1.0253963613010086\n",
      "2.68456681711572\n",
      "2.590792084132175\n",
      "2.955669958361664\n",
      "2.207976270810259\n",
      "1.0239363675041138\n"
     ]
    }
   ],
   "source": [
    "#ejemplo del uso de los módulos random y time\n",
    "\n",
    "import random\n",
    "import time\n",
    "\n",
    "for i in range(1,11):\n",
    "    dado = random.uniform(1,3)  #genera un aleatorio reale en el rango [1,3>\n",
    "    print(dado)\n",
    "    time.sleep(0.5)  #duermete 0.5 segundos"
   ]
  },
  {
   "cell_type": "code",
   "execution_count": null,
   "metadata": {},
   "outputs": [],
   "source": []
  }
 ],
 "metadata": {
  "kernelspec": {
   "display_name": "Python 3",
   "language": "python",
   "name": "python3"
  },
  "language_info": {
   "codemirror_mode": {
    "name": "ipython",
    "version": 3
   },
   "file_extension": ".py",
   "mimetype": "text/x-python",
   "name": "python",
   "nbconvert_exporter": "python",
   "pygments_lexer": "ipython3",
   "version": "3.7.6"
  }
 },
 "nbformat": 4,
 "nbformat_minor": 4
}
