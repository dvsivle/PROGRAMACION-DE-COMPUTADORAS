{
 "cells": [
  {
   "cell_type": "code",
   "execution_count": 1,
   "metadata": {},
   "outputs": [
    {
     "name": "stdout",
     "output_type": "stream",
     "text": [
      "ingrese 2 numeros: 45 12\n",
      "45 12\n",
      "45\n",
      "12\n"
     ]
    }
   ],
   "source": [
    "# usando split()\n",
    "\n",
    "data = input(\"ingrese 2 numeros: \")\n",
    "\n",
    "print(data)\n",
    "n1,n2 = data.split(' ')\n",
    "print(n1)\n",
    "print(n2)"
   ]
  },
  {
   "cell_type": "code",
   "execution_count": 3,
   "metadata": {},
   "outputs": [
    {
     "name": "stdout",
     "output_type": "stream",
     "text": [
      "ingrese 2 numeros: 45 12\n",
      "suma:  57\n"
     ]
    }
   ],
   "source": [
    "n1,n2 = input(\"ingrese 2 numeros: \").split(' ')\n",
    "\n",
    "print(\"suma: \",int(n1) + int(n2))"
   ]
  },
  {
   "cell_type": "code",
   "execution_count": 5,
   "metadata": {},
   "outputs": [
    {
     "name": "stdout",
     "output_type": "stream",
     "text": [
      "Ingrese fecha de nacimiento dia/mes/año: 45/45/5\n",
      "45\n",
      "45\n",
      "5\n"
     ]
    }
   ],
   "source": [
    "dia,mes,año =input(\"Ingrese fecha de nacimiento dia/mes/año: \").split(\"/\")\n",
    "print(dia)\n",
    "print(mes)\n",
    "print(año)\n"
   ]
  },
  {
   "cell_type": "code",
   "execution_count": 8,
   "metadata": {},
   "outputs": [
    {
     "name": "stdout",
     "output_type": "stream",
     "text": [
      "Ingrese fecha de nacimiento dia mes año: 12 24 544\n",
      "12\n",
      "24\n",
      "544\n"
     ]
    }
   ],
   "source": [
    "dia,mes,año =input(\"Ingrese fecha de nacimiento dia mes año: \").split()\n",
    "print(dia)\n",
    "print(mes)\n",
    "print(año)"
   ]
  },
  {
   "cell_type": "code",
   "execution_count": 12,
   "metadata": {},
   "outputs": [
    {
     "name": "stdout",
     "output_type": "stream",
     "text": [
      "True\n",
      "True\n",
      "True\n",
      "True\n",
      "False\n",
      "False\n"
     ]
    }
   ],
   "source": [
    "# imprimiendo resultados de operaciones logicas}\n",
    "\n",
    "print(5<6)\n",
    "print(4==4)\n",
    "print(0.111 != 0.232)\n",
    "print(2.3<=2.3)\n",
    "print(5+4==9 and 8==4 )\n",
    "print(not(3!=2) or 4==5)"
   ]
  },
  {
   "cell_type": "markdown",
   "metadata": {},
   "source": [
    "# ESTRUCTURAS DE DESICIÓN"
   ]
  },
  {
   "cell_type": "code",
   "execution_count": 16,
   "metadata": {},
   "outputs": [
    {
     "name": "stdout",
     "output_type": "stream",
     "text": [
      "ingrese un numero: 45\n",
      " es positivo\n"
     ]
    }
   ],
   "source": [
    "x=int(input(\"ingrese un numero: \"))\n",
    "if (x>0):     #parentesis opcional, pero dos puntos es obligatorio\n",
    "    print(\" es positivo\")\n",
    "else :\n",
    "    print(\"es negativo\")"
   ]
  },
  {
   "cell_type": "code",
   "execution_count": 22,
   "metadata": {},
   "outputs": [
    {
     "name": "stdout",
     "output_type": "stream",
     "text": [
      "ingrese su edad: 45\n",
      "\n",
      "\n",
      "Eres mayor de edad\n",
      "Gracias!!\n"
     ]
    }
   ],
   "source": [
    "edad = int(input(\"ingrese su edad: \"))\n",
    "print(\"\\n\")\n",
    "if edad>0:\n",
    "    if edad>=18:\n",
    "        print(\"Eres mayor de edad\")\n",
    "        print(\"Gracias!!\")\n",
    "    else:\n",
    "        print(\"Eres menor de edad\")\n",
    "        print(\"Gracias!!\")\n",
    "else: \n",
    "    print(\"Edad erronea !No seas wey!\")"
   ]
  },
  {
   "cell_type": "code",
   "execution_count": 30,
   "metadata": {},
   "outputs": [
    {
     "name": "stdout",
     "output_type": "stream",
     "text": [
      "ingrese un numero: df\n",
      "los datos ingresados no son números\n"
     ]
    }
   ],
   "source": [
    "\n",
    "try:\n",
    "    n1=float(input(\"ingrese un numero: \"))\n",
    "    n2=float(input(\"ingrese otro numero: \"))\n",
    "    print(\"\\n\")\n",
    "    \n",
    "    if n1>n2:\n",
    "        print(\"El primer numero es mayor\")\n",
    "    elif n2>n1:\n",
    "        print(\"El segundo numero es mayor\")\n",
    "    else:\n",
    "        print(\"ambos numeros son iguales\")\n",
    "        \n",
    "except ValueError:\n",
    "    print(\"los datos ingresados no son números\")\n"
   ]
  },
  {
   "cell_type": "code",
   "execution_count": 31,
   "metadata": {},
   "outputs": [
    {
     "name": "stdout",
     "output_type": "stream",
     "text": [
      "123\n"
     ]
    }
   ],
   "source": [
    "#tip\n",
    "operacion = \"45+78\"\n",
    "n1,n2=operacion.split(\"+\")\n",
    "print(int(n1)+int(n2))"
   ]
  },
  {
   "cell_type": "code",
   "execution_count": 33,
   "metadata": {},
   "outputs": [
    {
     "name": "stdout",
     "output_type": "stream",
     "text": [
      "45\n"
     ]
    }
   ],
   "source": [
    "operacion = \"45 + 78\"\n",
    "op1,op2,op3=operacion.split()\n",
    "\n",
    "print(op1)"
   ]
  },
  {
   "cell_type": "code",
   "execution_count": 36,
   "metadata": {},
   "outputs": [
    {
     "name": "stdout",
     "output_type": "stream",
     "text": [
      "ingrese una operacio [con +,-,x,/]: 5 + 4\n",
      "5 + 4 = 9.00\n"
     ]
    }
   ],
   "source": [
    "oper=input(\"ingrese una operacio [con +,-,x,/]: \")\n",
    "\n",
    "op1,op2,op3=oper.split()\n",
    "op1=float(op1)\n",
    "op3=float(op3)\n",
    "if op2=='x':\n",
    "    print(\"{} = {:.2f}\".format(oper,op1*op3))\n",
    "elif op2=='+':\n",
    "    print(\"{} = {:.2f}\".format(oper,op1 + op3))\n",
    "elif op2=='-':\n",
    "    print(\"{} = {:.2f}\".format(oper,op1 - op3))\n",
    "elif op2=='/':\n",
    "    print(\"{} = {:.2f}\".format(oper,op1 / op3))\n",
    "else:\n",
    "    print(\"operador incorrecto\")\n",
    "\n",
    "\n",
    "\n"
   ]
  },
  {
   "cell_type": "code",
   "execution_count": 45,
   "metadata": {},
   "outputs": [
    {
     "name": "stdout",
     "output_type": "stream",
     "text": [
      "Igrese un año: 400\n",
      "El año es bisiesto\n"
     ]
    }
   ],
   "source": [
    "#año bisiesto\n",
    "\n",
    "año = int(input(\"Igrese un año: \")) \n",
    "if año>0:\n",
    "    if año % 4 == 0:\n",
    "        if año % 100 == 0:\n",
    "            if año % 400 == 0:\n",
    "                print(\"El año es bisiesto\")\n",
    "            else:\n",
    "                print(\"El año no es bisiesto\")\n",
    "        else:\n",
    "            print(\"El año es bisiesto.\")\n",
    "    else:\n",
    "        print(\"El año no es bisiesto.\")\n",
    "else:\n",
    "    print(\"dato incorrecto\")\n",
    "    "
   ]
  },
  {
   "cell_type": "code",
   "execution_count": 47,
   "metadata": {},
   "outputs": [
    {
     "name": "stdout",
     "output_type": "stream",
     "text": [
      "Igrese un año: 2000\n",
      "el año 2000 es bisiesto\n"
     ]
    }
   ],
   "source": [
    "año = int(input(\"Igrese un año: \")) \n",
    "\n",
    "if(año%4==0 and año%100!=0 or año%400==0):\n",
    "    print(\"el año {} es bisiesto\".format(año))\n",
    "else :\n",
    "    print(\"el año {} NO es bisiesto\".format(año))\n",
    "\n"
   ]
  },
  {
   "cell_type": "markdown",
   "metadata": {},
   "source": [
    "#  ALMACENAR GRUPO DE DATOS\n"
   ]
  },
  {
   "cell_type": "code",
   "execution_count": 48,
   "metadata": {},
   "outputs": [
    {
     "name": "stdout",
     "output_type": "stream",
     "text": [
      "(56, 890, 0.6, 10, 'Elvis')\n",
      "<class 'tuple'>\n",
      "[56, 890, 0.6, 10, 'Elvis']\n",
      "<class 'list'>\n",
      "Programacion de computadoras\n",
      "<class 'str'>\n"
     ]
    }
   ],
   "source": [
    "dat1 =(56,890,0.6,10,\"Elvis\")   #tupla (inmutable)\n",
    "print(dat1)\n",
    "print(type(dat1))\n",
    "\n",
    "dat2 =[56,890,0.6,10,\"Elvis\"]   #lista (mutable)\n",
    "print(dat2)\n",
    "print(type(dat2))\n",
    "\n",
    "dat3 = \"Programacion de computadoras\"   #cadena o string\n",
    "print(dat3)\n",
    "print(type(dat3))\n"
   ]
  },
  {
   "cell_type": "code",
   "execution_count": 49,
   "metadata": {},
   "outputs": [
    {
     "name": "stdout",
     "output_type": "stream",
     "text": [
      "Es un dia laborable\n"
     ]
    }
   ],
   "source": [
    "#uso del objeto in:\n",
    "dia=3\n",
    "if(dia==1 or dia==2 or dia==3 or dia==4 or dia==5 or dia==5):\n",
    "    print(\"Es un dia laborable\")\n",
    "elif(dia==6 or dia==7):\n",
    "    print(\"Es un dia de descanso\")\n",
    "else:\n",
    "    print(\"No es un dia valido\")"
   ]
  },
  {
   "cell_type": "code",
   "execution_count": 51,
   "metadata": {},
   "outputs": [
    {
     "name": "stdout",
     "output_type": "stream",
     "text": [
      "Es un dia laborable\n"
     ]
    }
   ],
   "source": [
    "dia=3\n",
    "if dia in (1,2,3,4,5): #si el valor esta en una tupla (1,2,3,4,5)\n",
    "    print(\"Es un dia laborable\")\n",
    "elif dia in (6,7):\n",
    "    print(\"Es un dia de descanso\")\n",
    "else:\n",
    "    print(\"No es valido el dia\")\n"
   ]
  },
  {
   "cell_type": "code",
   "execution_count": 53,
   "metadata": {},
   "outputs": [
    {
     "name": "stdout",
     "output_type": "stream",
     "text": [
      "True\n"
     ]
    }
   ],
   "source": [
    "cad = \"Perú\"\n",
    "frase = \"Arriba Perú en la cuarentena\"\n",
    "\n",
    "print(cad in frase)"
   ]
  },
  {
   "cell_type": "code",
   "execution_count": 54,
   "metadata": {},
   "outputs": [
    {
     "name": "stdout",
     "output_type": "stream",
     "text": [
      "False\n"
     ]
    }
   ],
   "source": [
    "cad = \"X\"\n",
    "frase = \"Arriba Perú en la cuarentena\"\n",
    "\n",
    "print(cad in frase)"
   ]
  },
  {
   "cell_type": "code",
   "execution_count": 55,
   "metadata": {},
   "outputs": [
    {
     "name": "stdout",
     "output_type": "stream",
     "text": [
      "ingrese el mes [1-12]: 2\n",
      "ingrese el mes (ej.2010): 2000\n",
      "Hay 29 dias en el mes\n"
     ]
    }
   ],
   "source": [
    "mes=int(input(\"ingrese el mes [1-12]: \"))\n",
    "año=int(input(\"ingrese el mes (ej.2010): \"))\n",
    "if 0<mes<13 and año>0:\n",
    "    if mes in (1,3,5,7,8,10,12):\n",
    "        print(\"Hay 31 dias en el mes\")\n",
    "    elif mes in (4,6,9,11):\n",
    "        print(\"Hay 31 dias en el mes\")\n",
    "    elif(mes==2 and (año%4==0 and año%100!=0 or año%400==0)):\n",
    "        print(\"Hay 29 dias en el mes\")\n",
    "    else :\n",
    "        print(\"Hay 28 dias en el mes\")\n",
    "else:\n",
    "    print(\"los datos son erroneos\")\n"
   ]
  },
  {
   "cell_type": "code",
   "execution_count": 57,
   "metadata": {},
   "outputs": [
    {
     "name": "stdout",
     "output_type": "stream",
     "text": [
      "ingrese el mes [1-12]: 4\n",
      "ingrese el mes (ej.2010): 400\n",
      "Hay 31 dias en el mes\n"
     ]
    }
   ],
   "source": [
    "mes=int(input(\"ingrese el mes [1-12]: \"))\n",
    "\n",
    "if (mes<1 or mes>12):\n",
    "    print(\"Error en el mes!!\")\n",
    "\n",
    "else:\n",
    "    año=int(input(\"ingrese el mes (ej.2010): \"))\n",
    "    if(año>0):\n",
    "        if mes in (1,3,5,7,8,10,12):\n",
    "            print(\"Hay 31 dias en el mes\")\n",
    "        elif mes in (4,6,9,11):\n",
    "            print(\"Hay 31 dias en el mes\")\n",
    "        else :\n",
    "            if(mes==2 and (año%4==0 and año%100!=0 or año%400==0)):\n",
    "                print(\"Hay 29 dias en el mes\")\n",
    "            else :\n",
    "                print(\"Hay 28 dias en el mes\")\n",
    "    else:\n",
    "        print(\"Error en el año\")"
   ]
  },
  {
   "cell_type": "markdown",
   "metadata": {},
   "source": [
    "# ESTRUCTURAS REPETITIVAS"
   ]
  },
  {
   "cell_type": "code",
   "execution_count": 58,
   "metadata": {},
   "outputs": [],
   "source": [
    "#for i in (1,2,3,4,5): #para i que esta el el grupo (1,2,3,4,5)\n",
    "    #bloque\n",
    "    \n",
    "#ejecuta bloque para i:1,2,3,4,5 (osea se va ejecutar 5 veces)\n",
    "    "
   ]
  },
  {
   "cell_type": "code",
   "execution_count": 62,
   "metadata": {},
   "outputs": [
    {
     "name": "stdout",
     "output_type": "stream",
     "text": [
      "Arriba perú\n",
      "Arriba perú\n",
      "Arriba perú\n",
      "Arriba perú\n",
      "Arriba perú\n",
      "Arriba perú\n"
     ]
    }
   ],
   "source": [
    "for i in (1,2,3,4,5,60):\n",
    "    print(\"Arriba perú\")"
   ]
  },
  {
   "cell_type": "code",
   "execution_count": 61,
   "metadata": {},
   "outputs": [
    {
     "name": "stdout",
     "output_type": "stream",
     "text": [
      "1\n",
      "2\n",
      "3\n",
      "4\n",
      "5\n"
     ]
    }
   ],
   "source": [
    "for i in [1,2,3,4,5]:\n",
    "    print(i)"
   ]
  },
  {
   "cell_type": "code",
   "execution_count": 65,
   "metadata": {},
   "outputs": [
    {
     "name": "stdout",
     "output_type": "stream",
     "text": [
      "p\n",
      "r\n",
      "o\n",
      "g\n",
      "r\n",
      "a\n",
      "m\n",
      "a\n",
      "c\n",
      "i\n",
      "o\n",
      "n\n"
     ]
    }
   ],
   "source": [
    "for caracter in \"programacion\" :\n",
    "    print(caracter)"
   ]
  },
  {
   "cell_type": "code",
   "execution_count": 66,
   "metadata": {},
   "outputs": [
    {
     "name": "stdout",
     "output_type": "stream",
     "text": [
      "p r o g r a m a c i o n "
     ]
    }
   ],
   "source": [
    "for caracter in \"programacion\" :\n",
    "    print(caracter,end=(\" \"))"
   ]
  },
  {
   "cell_type": "code",
   "execution_count": 68,
   "metadata": {},
   "outputs": [
    {
     "name": "stdout",
     "output_type": "stream",
     "text": [
      "range(1, 10)\n",
      "<class 'range'>\n",
      "range(5, 20)\n"
     ]
    }
   ],
   "source": [
    "# existe en python el dato tipo range:\n",
    "\n",
    "r1=range(1,10)  #se crea el rango [1;10>  : 1,2,3,4,5,6,7,8,9\n",
    "print(r1)\n",
    "print(type(r1))\n",
    "\n",
    "r2 = range (5,20) #se crea el rango[5;20> :5,6,7,8,...,19\n",
    "print(r2)\n",
    "\n",
    "r3 = range (10,20,2) #se crea el rango[10;20> :10,12,14,16,18\n",
    "\n",
    "r3 = range (10,100,5)\n",
    "\n",
    "r4 = range(10,0,-1) #se crea el rango[10;0> : 10,9,8,7,6,5,4,3,2,1 "
   ]
  },
  {
   "cell_type": "code",
   "execution_count": 69,
   "metadata": {},
   "outputs": [
    {
     "name": "stdout",
     "output_type": "stream",
     "text": [
      "10\n",
      "9\n",
      "8\n",
      "7\n",
      "6\n",
      "5\n",
      "4\n",
      "3\n",
      "2\n",
      "1\n"
     ]
    }
   ],
   "source": [
    "for i in range(10,0,-1):\n",
    "    print(i)\n"
   ]
  },
  {
   "cell_type": "code",
   "execution_count": 74,
   "metadata": {},
   "outputs": [
    {
     "name": "stdout",
     "output_type": "stream",
     "text": [
      "ingrese el inicio del rango: 10\n",
      "ingrese el final del rango: 18\n",
      "11\n",
      "13\n",
      "15\n",
      "17\n"
     ]
    }
   ],
   "source": [
    "a=int(input(\"ingrese el inicio del rango: \"))\n",
    "b=int(input(\"ingrese el final del rango: \"))\n",
    "for i in range(a,b+1):\n",
    "    if i%2==1:\n",
    "        print(i)\n",
    "   "
   ]
  },
  {
   "cell_type": "code",
   "execution_count": 76,
   "metadata": {},
   "outputs": [
    {
     "name": "stdout",
     "output_type": "stream",
     "text": [
      "1\n",
      "2\n",
      "3\n",
      "4\n",
      "5\n",
      "6\n",
      "7\n",
      "8\n",
      "9\n"
     ]
    }
   ],
   "source": [
    "# TIP\n",
    "\n",
    "for x in range(1,10): #i:1,2,3,4,5,6,7,8,9\n",
    "    print(x)\n",
    "    x=x+20 #no se debe actualizar el valor de la vble. de iteracion\n"
   ]
  },
  {
   "cell_type": "code",
   "execution_count": 78,
   "metadata": {},
   "outputs": [
    {
     "name": "stdout",
     "output_type": "stream",
     "text": [
      "34\n"
     ]
    }
   ],
   "source": [
    "\n",
    "acum=0\n",
    "for i in [7,8,9,10]:\n",
    "    acum=acum + i\n",
    "\n",
    "print(acum)"
   ]
  },
  {
   "cell_type": "code",
   "execution_count": 79,
   "metadata": {},
   "outputs": [],
   "source": [
    "#USO DEL WHILE:\n",
    "#While(expresion):\n",
    "    #bloque"
   ]
  },
  {
   "cell_type": "code",
   "execution_count": 1,
   "metadata": {},
   "outputs": [
    {
     "name": "stdout",
     "output_type": "stream",
     "text": [
      "10\n",
      "9\n",
      "8\n",
      "7\n",
      "6\n",
      "5\n",
      "4\n",
      "3\n",
      "2\n",
      "1\n",
      "0\n"
     ]
    }
   ],
   "source": [
    "i =10\n",
    "while(i>=0):\n",
    "    print(i)\n",
    "    i=i-1"
   ]
  },
  {
   "cell_type": "code",
   "execution_count": 2,
   "metadata": {},
   "outputs": [
    {
     "name": "stdout",
     "output_type": "stream",
     "text": [
      "1\n",
      "2\n",
      "3\n",
      "4\n"
     ]
    }
   ],
   "source": [
    "x=1\n",
    "while(True):\n",
    "    print(x)\n",
    "    x=x+1\n",
    "    if(x==5):\n",
    "        break"
   ]
  },
  {
   "cell_type": "code",
   "execution_count": 4,
   "metadata": {},
   "outputs": [
    {
     "name": "stdout",
     "output_type": "stream",
     "text": [
      "Ingrese un numero par: 45\n",
      "Ingrese un numero par: 44\n",
      "Dato correcto\n"
     ]
    }
   ],
   "source": [
    "#VALIDADNDO ENTRADA\n",
    "while(True):\n",
    "    num=int(input(\"Ingrese un numero par: \"))\n",
    "    if(num%2==0):\n",
    "        break\n",
    "print(\"Dato correcto\")"
   ]
  },
  {
   "cell_type": "code",
   "execution_count": 4,
   "metadata": {},
   "outputs": [
    {
     "name": "stdout",
     "output_type": "stream",
     "text": [
      "Ingrese un numero: 6\n",
      "Dato correcto\n",
      "6\n",
      "3\n",
      "10\n",
      "5\n",
      "16\n",
      "8\n",
      "4\n",
      "2\n",
      "1\n"
     ]
    }
   ],
   "source": [
    "#VALIDADNDO ENTRADA\n",
    "while(True):\n",
    "    num=int(input(\"Ingrese un numero: \"))\n",
    "    if(num<2):\n",
    "        print(\"Intente nuevamente\")\n",
    "    else:\n",
    "        print(\"Dato correcto\")\n",
    "        break\n",
    "        \n",
    "print(num)\n",
    "\n",
    "while(num>1):\n",
    "    if(num%2==0):\n",
    "        num=int(num/2)\n",
    "        print(num)\n",
    "    else:\n",
    "        num=3*num+1\n",
    "        print(num)    \n",
    "    \n"
   ]
  },
  {
   "cell_type": "code",
   "execution_count": 8,
   "metadata": {},
   "outputs": [
    {
     "name": "stdout",
     "output_type": "stream",
     "text": [
      "3\n",
      "3\n",
      "3\n",
      "6\n",
      "1\n",
      "5\n",
      "4\n",
      "2\n",
      "2\n",
      "1\n"
     ]
    }
   ],
   "source": [
    "# ALEATORIOS Y TIEMPO\n",
    "import random\n",
    "import time\n",
    "\n",
    "for i in range(1,11):\n",
    "    dado=random.randint(1,6) #genera aleatorio entero en el rango[1,6]\n",
    "    print(dado)\n",
    "    time.sleep(0.5) #duerme la ejecucion medio segundo"
   ]
  },
  {
   "cell_type": "code",
   "execution_count": 9,
   "metadata": {},
   "outputs": [
    {
     "name": "stdout",
     "output_type": "stream",
     "text": [
      "2.1629417875154093\n",
      "4.753072579888692\n",
      "4.317058975490468\n",
      "4.561977918408625\n",
      "2.750019402914367\n",
      "5.50724815320687\n",
      "1.4576650411571992\n",
      "2.0704400532661476\n",
      "2.1578152461575693\n",
      "1.0965753189405345\n"
     ]
    }
   ],
   "source": [
    "# ALEATORIOS Y TIEMPO\n",
    "import random\n",
    "import time\n",
    "\n",
    "for i in range(1,11):\n",
    "    x=random.uniform(1,6) #genera aleatorio realen el rango[1,6>\n",
    "    print(x)\n",
    "    time.sleep(0.2) #duerme la ejecucion medio segundo"
   ]
  },
  {
   "cell_type": "code",
   "execution_count": null,
   "metadata": {},
   "outputs": [],
   "source": []
  }
 ],
 "metadata": {
  "kernelspec": {
   "display_name": "Python 3",
   "language": "python",
   "name": "python3"
  },
  "language_info": {
   "codemirror_mode": {
    "name": "ipython",
    "version": 3
   },
   "file_extension": ".py",
   "mimetype": "text/x-python",
   "name": "python",
   "nbconvert_exporter": "python",
   "pygments_lexer": "ipython3",
   "version": "3.7.6"
  }
 },
 "nbformat": 4,
 "nbformat_minor": 4
}
