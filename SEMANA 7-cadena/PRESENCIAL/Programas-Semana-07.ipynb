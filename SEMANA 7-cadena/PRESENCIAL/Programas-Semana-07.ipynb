{
 "cells": [
  {
   "cell_type": "code",
   "execution_count": 8,
   "metadata": {},
   "outputs": [
    {
     "name": "stdout",
     "output_type": "stream",
     "text": [
      "88\n",
      "32\n",
      "72\n",
      "97\n"
     ]
    }
   ],
   "source": [
    "print(ord('X'))  #ord() retorna el valor UNICODE de un caracter\n",
    "print(ord(' ')) \n",
    "print(ord('H')) \n",
    "print(ord('a')) "
   ]
  },
  {
   "cell_type": "code",
   "execution_count": 11,
   "metadata": {},
   "outputs": [
    {
     "name": "stdout",
     "output_type": "stream",
     "text": [
      "A\n",
      "@\n",
      "|\n"
     ]
    }
   ],
   "source": [
    "print(chr(65))   #chr() retorna el caracter correspondiente a un valor UNICODE\n",
    "print(chr(64))\n",
    "print(chr(124))"
   ]
  },
  {
   "cell_type": "code",
   "execution_count": 14,
   "metadata": {},
   "outputs": [
    {
     "name": "stdout",
     "output_type": "stream",
     "text": [
      "Ingrese frase en mayusculas: HOLA MUNDO\n",
      "Frase encriptada: 72797665327785786879\n",
      "HOLA MUNDO\n"
     ]
    }
   ],
   "source": [
    "#requerimiento 1:\n",
    "\n",
    "#versión 1\n",
    "cadena=input('Ingrese frase en mayusculas: ')  #cadena: \"HOLA MUNDO\"\n",
    "\n",
    "encriptada=''\n",
    "\n",
    "#Proceso de encriptación\n",
    "print('Frase encriptada: ',end='')\n",
    "\n",
    "for i in range(len(cadena)):\n",
    "    encriptada=encriptada+str(ord(cadena[i]))\n",
    "\n",
    "print(encriptada)\n",
    "\n",
    "#Proceso de decodificación:\n",
    "tamaño=len(encriptada)/2\n",
    "\n",
    "cadena_recup=''\n",
    "for i in range(int(tamaño)):                            #72\n",
    "    cadena_recup=cadena_recup+chr(int(encriptada[i*2])*10+int(encriptada[i*2+1]))\n",
    "    \n",
    "print(cadena_recup)"
   ]
  },
  {
   "cell_type": "code",
   "execution_count": 21,
   "metadata": {},
   "outputs": [
    {
     "name": "stdout",
     "output_type": "stream",
     "text": [
      "Ingrese una frase en mayusculas: PERU Y CHILE\n",
      "806982853289326772737669\n",
      "PERU Y CHILE\n"
     ]
    }
   ],
   "source": [
    "#requerimiento 1:\n",
    "\n",
    "#versión 2\n",
    "frase=input(\"Ingrese una frase en mayusculas: \") #frase: \"HOLA MUNDO\"\n",
    "\n",
    "cifrado=[]\n",
    "recuperado=[]\n",
    "\n",
    "#Proceso de encriptación\n",
    "cifrado = list(map(lambda x:ord(x),frase)) \n",
    "#cifrado=[72,79,76,65,........79]\n",
    "\n",
    "aux = list(map(lambda x:str(x),cifrado))\n",
    "#aux=[\"72\",\"79\",\"76\",\"65\",........\"79\"]\n",
    "\n",
    "cifrada = \"\".join(aux)\n",
    "print(cifrada)\n",
    "\n",
    "#Proceso de decodificación\n",
    "recuperada=\"\"\n",
    "for i in range(0,len(cifrada),2):  #para i:0,2,4,.....\n",
    "     recuperada=recuperada+chr(int(cifrada[i:i+2]))\n",
    "        \n",
    "print(recuperada)"
   ]
  },
  {
   "cell_type": "code",
   "execution_count": 25,
   "metadata": {},
   "outputs": [
    {
     "name": "stdout",
     "output_type": "stream",
     "text": [
      "['HOLA', 'MUNDO']\n",
      "ABC-->234\n"
     ]
    }
   ],
   "source": [
    "#ejemplo de join() y split():\n",
    "cad = \"HOLA--->MUNDO\"\n",
    "L = cad.split(\"--->\")\n",
    "print(L)\n",
    "\n",
    "L = [\"ABC\",\"234\"]\n",
    "cadAux = \"-->\".join(L)\n",
    "print(cadAux)"
   ]
  },
  {
   "cell_type": "code",
   "execution_count": 33,
   "metadata": {},
   "outputs": [
    {
     "name": "stdout",
     "output_type": "stream",
     "text": [
      "Programando\n"
     ]
    }
   ],
   "source": [
    "#TIP:\n",
    "cadena = \"programando\"\n",
    "cadena=cadena.capitalize() #convierte la primera letra de la cadena a mayuscua y \n",
    "                           #retorna el resultado\n",
    "print(cadena)"
   ]
  },
  {
   "cell_type": "code",
   "execution_count": 39,
   "metadata": {},
   "outputs": [
    {
     "name": "stdout",
     "output_type": "stream",
     "text": [
      "[5, 6, 8, 70]\n"
     ]
    }
   ],
   "source": [
    "#TIP: (La lista es mutable)\n",
    "L=[5,6,70,8]\n",
    "L.sort()\n",
    "print(L)"
   ]
  },
  {
   "cell_type": "code",
   "execution_count": 38,
   "metadata": {},
   "outputs": [
    {
     "name": "stdout",
     "output_type": "stream",
     "text": [
      "programando\n"
     ]
    }
   ],
   "source": [
    "#TIP:\n",
    "cadena=\"programando\"\n",
    "cadena=cadena.upper()  #convierte cada letra de la cadena a mayúscula y retorna el resultado\n",
    "print(cadena)"
   ]
  },
  {
   "cell_type": "code",
   "execution_count": 36,
   "metadata": {},
   "outputs": [
    {
     "name": "stdout",
     "output_type": "stream",
     "text": [
      "upc\n"
     ]
    }
   ],
   "source": [
    "#TIP:\n",
    "cadena=\"UPC\"\n",
    "cadena=cadena.lower()  #convierte cada letra de la cadena a minuscula y retorna el resultado\n",
    "print(cadena)"
   ]
  },
  {
   "cell_type": "code",
   "execution_count": 41,
   "metadata": {},
   "outputs": [
    {
     "name": "stdout",
     "output_type": "stream",
     "text": [
      "Ingrese una Frase: programando            computadoras      en      python\n",
      "Su acronimo es: PCEP\n"
     ]
    }
   ],
   "source": [
    "#requerimiento 2:\n",
    "\n",
    "#version 1:\n",
    "cad=input('Ingrese una Frase: ').split()  #cad= [\"programacion\",\"de\",\"Computadoras\"]\n",
    "acronimo=''\n",
    "\n",
    "mayus=list(map(lambda x: x.capitalize(),cad))\n",
    "#mayus = [\"Programacion\",\"De\",\"Computadoras\"]\n",
    "\n",
    "for i in range(len(mayus)):\n",
    "    acronimo=acronimo+mayus[i][0]\n",
    "\n",
    "print('Su acronimo es:', acronimo)"
   ]
  },
  {
   "cell_type": "code",
   "execution_count": 43,
   "metadata": {},
   "outputs": [
    {
     "name": "stdout",
     "output_type": "stream",
     "text": [
      "Ingrese una frase: hola que tal como estas\n",
      "HQTCE\n"
     ]
    }
   ],
   "source": [
    "#requerimiento 2:\n",
    "\n",
    "#version 2:\n",
    "cadena=input(\"Ingrese una frase: \")  #cadena= \"programacion  en Python\"\n",
    "acro=[]\n",
    "aux=[]\n",
    "acro=cadena.split()\n",
    "#acro = [\"programacion\",\"en\",\"Python\"]\n",
    "\n",
    "for i in range (len(acro)):\n",
    "        aux.append(acro[i][0])\n",
    "    \n",
    "#aux=[\"p\",\"e\",\"P\"]  \n",
    "    \n",
    "for i in range (len(aux)):    \n",
    "    aux[i]=aux[i].capitalize()\n",
    "    \n",
    "#aux = [\"P\",\"E\",\"P\"]\n",
    "    \n",
    "cadena_nueva=\"\".join(aux)\n",
    "print(cadena_nueva)"
   ]
  },
  {
   "cell_type": "code",
   "execution_count": 46,
   "metadata": {},
   "outputs": [
    {
     "name": "stdout",
     "output_type": "stream",
     "text": [
      "Ingrese una frase: programa en python\n",
      "PEP\n"
     ]
    }
   ],
   "source": [
    "#requerimiento 2:\n",
    "\n",
    "#version 3:\n",
    "cadena=input(\"Ingrese una frase: \")\n",
    "cadena = cadena.upper()\n",
    "L = cadena.split()   #L=[\"HOLA\", \"PERU\"]\n",
    "aux = list(map(lambda x:x[0],L))\n",
    "acronimo = \"\".join(aux)\n",
    "print(acronimo)"
   ]
  },
  {
   "cell_type": "code",
   "execution_count": 50,
   "metadata": {},
   "outputs": [
    {
     "name": "stdout",
     "output_type": "stream",
     "text": [
      "True\n",
      "False\n",
      "True\n",
      "True\n"
     ]
    }
   ],
   "source": [
    "#Funciones para validar cadenas:\n",
    "\n",
    "cadena = \"procesamiento\"\n",
    "print(cadena.isalnum())\n",
    "cadena = \"procesamiento-5\"\n",
    "print(cadena.isalnum())\n",
    "cadena = \"prOcesaMiento67\"\n",
    "print(cadena.isalnum())\n",
    "cadena = \"848848867\"\n",
    "print(cadena.isalnum())\n",
    "#isalnum(): Retorna True: Si TODOS los caracterer son letra o número"
   ]
  },
  {
   "cell_type": "code",
   "execution_count": 55,
   "metadata": {},
   "outputs": [
    {
     "name": "stdout",
     "output_type": "stream",
     "text": [
      "True\n",
      "False\n",
      "False\n",
      "False\n"
     ]
    }
   ],
   "source": [
    "cadena = \"proCesAmieNto\"\n",
    "print(cadena.isalpha())\n",
    "cadena = \"procesamiento-5\"\n",
    "print(cadena.isalpha())\n",
    "cadena = \"prOcesaMiento67\"\n",
    "print(cadena.isalpha())\n",
    "cadena = \"848848867\"\n",
    "print(cadena.isalpha())\n",
    "#isalpha():  Retorna True: Si TODOS los caracteres de la cadena son letras"
   ]
  },
  {
   "cell_type": "code",
   "execution_count": 66,
   "metadata": {},
   "outputs": [
    {
     "name": "stdout",
     "output_type": "stream",
     "text": [
      "False\n",
      "False\n",
      "False\n",
      "True\n"
     ]
    }
   ],
   "source": [
    "cadena = \"proCesAmieNto\"\n",
    "print(cadena.isdigit())\n",
    "cadena = \"procesamiento-5\"\n",
    "print(cadena.isdigit())\n",
    "cadena = \"prOcesaMiento67\"\n",
    "print(cadena.isdigit())\n",
    "cadena = \"848848867\"\n",
    "print(cadena.isdigit())\n",
    "#isdigit():  Retorna True: Si TODOS los caracteres de la cadena son digitos"
   ]
  },
  {
   "cell_type": "code",
   "execution_count": 64,
   "metadata": {},
   "outputs": [
    {
     "name": "stdout",
     "output_type": "stream",
     "text": [
      "True\n",
      "False\n",
      "True\n"
     ]
    }
   ],
   "source": [
    "cadena = \"LOS ALAMOS\"\n",
    "print(cadena.isupper())\n",
    "cadena = \"LoS-ALAmOS5H*\"\n",
    "print(cadena.isupper())\n",
    "cadena = \"L\"\n",
    "print(cadena.isupper())\n",
    "#isupper():  Retorna True: Si TODAS las letras de la cadena son mayúsculas"
   ]
  },
  {
   "cell_type": "code",
   "execution_count": 63,
   "metadata": {},
   "outputs": [
    {
     "name": "stdout",
     "output_type": "stream",
     "text": [
      "False\n",
      "True\n",
      "True\n"
     ]
    }
   ],
   "source": [
    "cadena = \"LoS aLAMOS\"\n",
    "print(cadena.islower())\n",
    "cadena = \"los alamos5$\"\n",
    "print(cadena.islower())\n",
    "cadena = \"x\"\n",
    "print(cadena.islower())\n",
    "#islower():  Retorna True: Si TODAS las letras de la cadena son minusculas"
   ]
  },
  {
   "cell_type": "code",
   "execution_count": 71,
   "metadata": {},
   "outputs": [
    {
     "name": "stdout",
     "output_type": "stream",
     "text": [
      "False\n",
      "False\n",
      "True\n"
     ]
    }
   ],
   "source": [
    "cadena = \"hola que tal\"\n",
    "print(cadena.isspace())\n",
    "cadena = \"hola      \"\n",
    "print(cadena.isspace())\n",
    "cadena = \"        \"\n",
    "print(cadena.isspace())\n",
    "#isspace():  Retorna True: Si TODOS los caracteres de la cadena son espacio en blanco"
   ]
  },
  {
   "cell_type": "code",
   "execution_count": 76,
   "metadata": {},
   "outputs": [
    {
     "name": "stdout",
     "output_type": "stream",
     "text": [
      "    UPC\n",
      "7\n",
      "UPC\n",
      "3\n"
     ]
    }
   ],
   "source": [
    "cadena = \"    UPC\"\n",
    "print(cadena)\n",
    "print(len(cadena))\n",
    "cadena=cadena.lstrip()\n",
    "print(cadena)\n",
    "print(len(cadena))\n",
    "#lstrip():  #Elimina todos los espacios a la izquierda"
   ]
  },
  {
   "cell_type": "code",
   "execution_count": 79,
   "metadata": {},
   "outputs": [
    {
     "name": "stdout",
     "output_type": "stream",
     "text": [
      "UPC     \n",
      "8\n",
      "UPC\n",
      "3\n"
     ]
    }
   ],
   "source": [
    "cadena = \"UPC     \"\n",
    "print(cadena)\n",
    "print(len(cadena))\n",
    "cadena=cadena.rstrip()\n",
    "print(cadena)\n",
    "print(len(cadena))\n",
    "#rstrip():  #Elimina todos los espacios a la derecha"
   ]
  },
  {
   "cell_type": "code",
   "execution_count": 81,
   "metadata": {},
   "outputs": [
    {
     "name": "stdout",
     "output_type": "stream",
     "text": [
      "2\n"
     ]
    }
   ],
   "source": [
    "cadena = \"control digital con pid\"\n",
    "c=cadena.count(\"con\")\n",
    "print(c)\n",
    "#count():  cuenta la cantidad de veces que aparece una cadena en otra"
   ]
  },
  {
   "cell_type": "code",
   "execution_count": 87,
   "metadata": {},
   "outputs": [
    {
     "name": "stdout",
     "output_type": "stream",
     "text": [
      "9\n",
      "-1\n"
     ]
    }
   ],
   "source": [
    "cadena = \"control digital con pid\"\n",
    "p=cadena.find(\"i\")\n",
    "print(p)\n",
    "cadena = \"control digital con pid\"\n",
    "p=cadena.find(\"@\")\n",
    "print(p)"
   ]
  },
  {
   "cell_type": "code",
   "execution_count": 1,
   "metadata": {},
   "outputs": [
    {
     "name": "stdout",
     "output_type": "stream",
     "text": [
      "ingrese una clave: yG&kiyhgft#\n",
      "GGGG\n",
      "La clave es segura\n"
     ]
    }
   ],
   "source": [
    "#Requerimiento 3:\n",
    "\n",
    "clave=input('ingrese una clave: ')  #clave:  \"yG&kiyhgft#\"\n",
    "\n",
    "       #V                    #V                      #V                         #V                         #V                         #V         \n",
    "if(len(clave)>=8 and clave.isupper()==False and clave.islower()==False and clave.isdigit()==False and clave.find(' ')==-1 and clave.isalpha()==False):\n",
    "    if(clave.find('#')!=-1 or clave.find('@')!=-1 or clave.find('%')!=-1 or clave.find('&')!=-1 or clave.find('$')!=-1 or clave.find('!')!=-1 or clave.find('?')!=-1):   \n",
    "        print(\"GGGG\")\n",
    "        print('La clave es segura')\n",
    "    else:\n",
    "        print('La clave no es segura')\n",
    "else:\n",
    "        print('La clave no es segura')   \n",
    "\n"
   ]
  },
  {
   "cell_type": "code",
   "execution_count": 101,
   "metadata": {},
   "outputs": [
    {
     "data": {
      "text/plain": [
       "-1"
      ]
     },
     "execution_count": 101,
     "metadata": {},
     "output_type": "execute_result"
    }
   ],
   "source": [
    "\"34716746767^\".find('?')"
   ]
  },
  {
   "cell_type": "code",
   "execution_count": 110,
   "metadata": {},
   "outputs": [
    {
     "name": "stdout",
     "output_type": "stream",
     "text": [
      "Ingrese  la nueva contraseña:9999Uo#898989\n",
      "Contraseña  segura\n"
     ]
    }
   ],
   "source": [
    "cadena=input(\"Ingrese  la nueva contraseña:\")  #\"9999999999U#\"\n",
    "\n",
    "if(cadena.islower()==True):\n",
    "    print(\"Contraseña insegura\")\n",
    "elif(len(cadena)<=8):\n",
    "    print(\"Contraseña insegura\")\n",
    "elif(cadena.isupper()==True):\n",
    "    print(\"Contraseña insegura\")\n",
    "elif(cadena.isdigit()==True):\n",
    "    print(\"Contraseña insegura\")\n",
    "elif(cadena.find(\" \")!=-1):\n",
    "    print(\"Contraseña insegura\")\n",
    "elif(cadena.find('#')==-1 and cadena.find('@')==-1 and cadena.find('%')==-1 \n",
    "     and cadena.find('&')==-1 and cadena.find('$')==-1 and cadena.find('!')==-1\n",
    "     and cadena.find('?')==-1): \n",
    "    print(\"Contraseña insegura\")\n",
    "else:\n",
    "    print(\"Contraseña  segura\")"
   ]
  },
  {
   "cell_type": "code",
   "execution_count": 125,
   "metadata": {},
   "outputs": [
    {
     "name": "stdout",
     "output_type": "stream",
     "text": [
      "Ingrese  la nueva contraseña:858358385385\n",
      "Invalida\n"
     ]
    }
   ],
   "source": [
    "def issimbol(c):\n",
    "    if(c in \"#@%&$!?\"):\n",
    "        return True\n",
    "    else:\n",
    "        return False\n",
    "\n",
    "cadena=input(\"Ingrese  la nueva contraseña:\")  #cadena: \"9F986868U#\"\n",
    "\n",
    "if(len(cadena)>=8):\n",
    "\n",
    "    L1 = list(filter(lambda x:x.isupper(),cadena))\n",
    "    L2 = list(filter(lambda x:x.islower(),cadena))\n",
    "    L3 = list(filter(lambda x:x.isdigit(),cadena))\n",
    "    L4 = list(filter(lambda x:x.isspace(),cadena))\n",
    "    L5 = list(filter(lambda x:issimbol(x),cadena))\n",
    "\n",
    "    if(len(L1)!=0 and len(L2)!=0 and len(L3)!=0 and len(L4)==0 and len(L5)!=0):\n",
    "        print(\"Valida\")\n",
    "    else:\n",
    "        print(\"Invalida\")\n",
    "else:\n",
    "    print(\"Invalida\")"
   ]
  },
  {
   "cell_type": "code",
   "execution_count": null,
   "metadata": {},
   "outputs": [],
   "source": []
  }
 ],
 "metadata": {
  "kernelspec": {
   "display_name": "Python 3",
   "language": "python",
   "name": "python3"
  },
  "language_info": {
   "codemirror_mode": {
    "name": "ipython",
    "version": 3
   },
   "file_extension": ".py",
   "mimetype": "text/x-python",
   "name": "python",
   "nbconvert_exporter": "python",
   "pygments_lexer": "ipython3",
   "version": "3.7.6"
  }
 },
 "nbformat": 4,
 "nbformat_minor": 4
}
