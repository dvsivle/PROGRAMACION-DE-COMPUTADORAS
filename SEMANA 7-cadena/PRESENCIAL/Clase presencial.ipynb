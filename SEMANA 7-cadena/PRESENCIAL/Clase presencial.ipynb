{
 "cells": [
  {
   "cell_type": "code",
   "execution_count": 3,
   "metadata": {},
   "outputs": [
    {
     "ename": "SyntaxError",
     "evalue": "invalid syntax (<ipython-input-3-96cf0222feb0>, line 3)",
     "output_type": "error",
     "traceback": [
      "\u001b[1;36m  File \u001b[1;32m\"<ipython-input-3-96cf0222feb0>\"\u001b[1;36m, line \u001b[1;32m3\u001b[0m\n\u001b[1;33m    for a in cad\u001b[0m\n\u001b[1;37m                ^\u001b[0m\n\u001b[1;31mSyntaxError\u001b[0m\u001b[1;31m:\u001b[0m invalid syntax\n"
     ]
    }
   ],
   "source": [
    "cad=\"HOLA MUNDO\"\n",
    "\n",
    "for a in cad\n",
    "c=ord(\"H\")\n",
    "print(c)\n",
    "res = [ord(a) for cad in cad ]\n",
    "print(res)"
   ]
  },
  {
   "cell_type": "code",
   "execution_count": 6,
   "metadata": {},
   "outputs": [
    {
     "name": "stdout",
     "output_type": "stream",
     "text": [
      "The original list : ['gfg']\n",
      "The ascii list is : [103, 102, 103]\n"
     ]
    }
   ],
   "source": [
    "# initialize list  \n",
    "test_list = ['gfg'] \n",
    "  \n",
    "\n",
    "res = [ord(ele) for sub in test_list for ele in sub] \n",
    "  \n",
    "# printing result \n",
    "print(\"The ascii list is : \" + str(res)) "
   ]
  },
  {
   "cell_type": "code",
   "execution_count": 38,
   "metadata": {},
   "outputs": [
    {
     "name": "stdout",
     "output_type": "stream",
     "text": [
      "Ingrese una frase en mayusculas:HOLA MUNDO\n",
      "frase encriptada: 72797665327785786879\n",
      "frase recuperada: HOLA MUNDO\n"
     ]
    }
   ],
   "source": [
    "cad=input(\"Ingrese una frase en mayusculas:\")\n",
    "\n",
    "res = [ord(a) for a in cad ]\n",
    "frase=[]\n",
    "for a in res:\n",
    "    frase.extend(str(a))  \n",
    "cadena=''.join(frase)\n",
    "print(\"frase encriptada:\",cadena)\n",
    "\n",
    "recu = [chr(a) for a in res ]\n",
    "recuperada=''.join(recu)\n",
    "print(\"frase recuperada:\",recuperada)"
   ]
  },
  {
   "cell_type": "code",
   "execution_count": null,
   "metadata": {},
   "outputs": [],
   "source": []
  },
  {
   "cell_type": "code",
   "execution_count": 40,
   "metadata": {},
   "outputs": [
    {
     "name": "stdout",
     "output_type": "stream",
     "text": [
      "Ingrese una frase en masculas: HOLA\n",
      "Frase encriptada:  72797665\n",
      "Frase recuperada:  HOLA\n"
     ]
    }
   ],
   "source": [
    "#programa que lee frase:\n",
    "texto=input('Ingrese una frase en masculas: ')\n",
    "\n",
    "UNICODE=''\n",
    "\n",
    "for i in texto:\n",
    "    UNICODE=UNICODE + str(ord(i))\n",
    "\n",
    "print('Frase encriptada: ',UNICODE)\n",
    "\n",
    "RECUPERADA=''\n",
    "for i  in range(0,len(UNICODE),2):\n",
    "    RECUPERADA=RECUPERADA + chr(int(UNICODE[i]+UNICODE[i+1]))\n",
    "print('Frase recuperada: ',RECUPERADA)\n",
    "\n"
   ]
  },
  {
   "cell_type": "code",
   "execution_count": 43,
   "metadata": {},
   "outputs": [
    {
     "name": "stdout",
     "output_type": "stream",
     "text": [
      "Datos de la lista original:\n",
      "45 54 96 39 96 59 46 84 60 83 42 98 99 48 68 55 55 99 72 23 60 31 66 94 91 69 22 23 33 81 \n",
      "\n",
      "Datos de la lista resultante:\n",
      "45 54 96 39 96 59 46 84 60 83 42 98 99 48 68 55 55 99 94 72 66 60 31 23 91 81 69 33 23 22 "
     ]
    }
   ],
   "source": [
    "#PREGUNTA 3\n",
    "from random import*\n",
    "def promOrdena(l):\n",
    "    prom=sum(l)/len(l)\n",
    "    if(50<prom<60):\n",
    "        l.sort(reverse=True)\n",
    "    return l\n",
    "\n",
    "lista=[] #GENERO LA LISTA INICIAL ALEATORIA DE 30 ELEMENTOS\n",
    "for a in range(30):\n",
    "    r=randint(10,99)\n",
    "    lista.append(r)\n",
    "    \n",
    "l_r=[]\n",
    "cont=0\n",
    "for a in range(5): # SEPARO LA LSITA EN GRUPOS DE 6\n",
    "    l=list(lista[cont:cont+6])\n",
    "    l_r.append(l)\n",
    "    cont+=6\n",
    "l_final=[] #APLICACION DE LA CONDICIOIN DEL PROBLEMA INVOCANDO A LA FUNCION\n",
    "for b in l_r:\n",
    "    x=promOrdena(b)\n",
    "    l_final.extend(x)\n",
    "    \n",
    "#IMPRESION DE DATOS DE LA LISTAS\n",
    "print(\"Datos de la lista original:\")\n",
    "for a in lista:\n",
    "    print(a,end=(' '))\n",
    "print('\\n')\n",
    "print(\"Datos de la lista resultante:\")\n",
    "for i in l_final:\n",
    "    print(i,end=(' '))"
   ]
  },
  {
   "cell_type": "code",
   "execution_count": 48,
   "metadata": {},
   "outputs": [
    {
     "name": "stdout",
     "output_type": "stream",
     "text": [
      "Ingrese una frase: hoad akejbf ahsbf he\n",
      "Su acronimo es:  HAAH\n"
     ]
    }
   ],
   "source": [
    "cad=input(\"Ingrese una frase: \")\n",
    "cad=cad.upper()\n",
    "\n",
    "l=list(cad.split(' '))\n",
    "n=list(map(lambda x:x[0],l))\n",
    "\n",
    "acronimo=''.join(n)\n",
    "print(\"Su acronimo es: \",acronimo)"
   ]
  },
  {
   "cell_type": "code",
   "execution_count": 49,
   "metadata": {},
   "outputs": [
    {
     "name": "stdout",
     "output_type": "stream",
     "text": [
      "Ingrese una frase: sdkj akdfjb\n",
      "Su acronimo es:  SA\n"
     ]
    }
   ],
   "source": [
    "texto=input('Ingrese una frase: ')\n",
    "\n",
    "lista0=[]\n",
    "lista0=texto.split(' ')\n",
    "lista1=''\n",
    "for i in range(len(lista0)):\n",
    "    lista1=lista1 + str((lista0[i][0:1].upper()))\n",
    "    \n",
    "print('Su acronimo es: ',lista1)"
   ]
  },
  {
   "cell_type": "code",
   "execution_count": 51,
   "metadata": {},
   "outputs": [
    {
     "name": "stdout",
     "output_type": "stream",
     "text": [
      "Ingrese una frase: h jhcv jhcuj\n",
      "HJJ\n"
     ]
    }
   ],
   "source": [
    "cad=input(\"Ingrese una frase: \")\n",
    "\n",
    "lista=cad.split()\n",
    "\n",
    "acronimo=\"\"\n",
    "for i in lista:\n",
    "    acronimo= acronimo +i[0].capitalize()\n",
    "print(acronimo)"
   ]
  },
  {
   "cell_type": "code",
   "execution_count": 53,
   "metadata": {},
   "outputs": [
    {
     "name": "stdout",
     "output_type": "stream",
     "text": [
      "mh\n"
     ]
    }
   ],
   "source": [
    "cad=\"sdmhvsk\"\n",
    "print(cad[2:4])"
   ]
  },
  {
   "cell_type": "code",
   "execution_count": 57,
   "metadata": {},
   "outputs": [
    {
     "name": "stdout",
     "output_type": "stream",
     "text": [
      "Ingrese una frase: ekrhg rqkb\n",
      "Su acronimo es:  ['E', 'R']\n"
     ]
    }
   ],
   "source": [
    "texto=input('Ingrese una frase: ')\n",
    "\n",
    "lista0=list(texto.split(' '))\n",
    "lista1=''\n",
    "#for i in range(len(lista0)):\n",
    "#    lista1=lista1 + str((lista0[i][0:1].upper()))\n",
    "    \n",
    "lista1=list(map(lambda x:str((x[0].upper())),lista0))\n",
    "\n",
    "print('Su acronimo es: ',lista1)"
   ]
  },
  {
   "cell_type": "code",
   "execution_count": null,
   "metadata": {},
   "outputs": [],
   "source": [
    "import getpass\n",
    "\n",
    "def detectaSimbolo(cadena):\n",
    "    \n",
    "                              \n",
    "    for char in ['@','#','$','?','!','%','&']:\n",
    "         if(char in cadena):   \n",
    "                return True\n",
    "    return False\n",
    "    \n",
    "    \n",
    "def detectaMayuscula(cadena):   \n",
    "                               \n",
    "    for char in cadena:\n",
    "        if(char.isupper()):\n",
    "            return True\n",
    "    return False\n",
    "\n",
    "def detectaDigito(cadena):   \n",
    "                            \n",
    "    for char in cadena:\n",
    "        if(char.isdigit()):\n",
    "            return True\n",
    "    return False     \n",
    "        \n",
    "def detectaEspacio(cadena):  \n",
    "                             \n",
    "    for char in cadena:\n",
    "        \n",
    "        if(char.isspace()):\n",
    "            return True\n",
    "    return False     \n",
    "\n",
    "#Main()\n",
    "\n",
    "clave = getpass.getpass(\"Ingrese su clave secreta: \")\n",
    "\n",
    "if(len(clave)>=8):\n",
    "    \n",
    "    res1 =  detectaSimbolo(clave)\n",
    "    res2 =  detectaMayuscula(clave)\n",
    "    res3 =  detectaDigito(clave)\n",
    "    res4 =  detectaEspacio(clave)\n",
    "   \n",
    "    if(res1==True and res2==True and res3==True and res4==False):\n",
    "        \n",
    "        print(\"Clave segura!!!\")\n",
    "    else:\n",
    "        \n",
    "        print(\"Clave insegura!!!\")\n",
    "    \n",
    "else:\n",
    "    print(\"La clave debe tener minimo 8 caracteres!\") "
   ]
  },
  {
   "cell_type": "code",
   "execution_count": null,
   "metadata": {},
   "outputs": [],
   "source": []
  }
 ],
 "metadata": {
  "kernelspec": {
   "display_name": "Python 3",
   "language": "python",
   "name": "python3"
  },
  "language_info": {
   "codemirror_mode": {
    "name": "ipython",
    "version": 3
   },
   "file_extension": ".py",
   "mimetype": "text/x-python",
   "name": "python",
   "nbconvert_exporter": "python",
   "pygments_lexer": "ipython3",
   "version": "3.7.6"
  }
 },
 "nbformat": 4,
 "nbformat_minor": 4
}
