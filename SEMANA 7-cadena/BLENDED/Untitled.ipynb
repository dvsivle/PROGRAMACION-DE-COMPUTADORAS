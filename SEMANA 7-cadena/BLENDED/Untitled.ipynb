{
 "cells": [
  {
   "cell_type": "code",
   "execution_count": 2,
   "metadata": {},
   "outputs": [
    {
     "ename": "ModuleNotFoundError",
     "evalue": "No module named 'unicode'",
     "output_type": "error",
     "traceback": [
      "\u001b[1;31m---------------------------------------------------------------------------\u001b[0m",
      "\u001b[1;31mModuleNotFoundError\u001b[0m                       Traceback (most recent call last)",
      "\u001b[1;32m<ipython-input-2-8e93c8366cc1>\u001b[0m in \u001b[0;36m<module>\u001b[1;34m\u001b[0m\n\u001b[0;32m      1\u001b[0m \u001b[1;32mimport\u001b[0m \u001b[0mnltk\u001b[0m \u001b[1;31m# Importar la librería nltk\u001b[0m\u001b[1;33m\u001b[0m\u001b[1;33m\u001b[0m\u001b[0m\n\u001b[1;32m----> 2\u001b[1;33m \u001b[1;32mimport\u001b[0m \u001b[0municode\u001b[0m\u001b[1;33m\u001b[0m\u001b[1;33m\u001b[0m\u001b[0m\n\u001b[0m\u001b[0;32m      3\u001b[0m  \u001b[1;31m# Lista de idiomas disponibles en la nltk\u001b[0m\u001b[1;33m\u001b[0m\u001b[1;33m\u001b[0m\u001b[1;33m\u001b[0m\u001b[0m\n\u001b[0;32m      4\u001b[0m \u001b[1;33m\u001b[0m\u001b[0m\n\u001b[0;32m      5\u001b[0m \u001b[0mlanguages\u001b[0m \u001b[1;33m=\u001b[0m \u001b[1;33m[\u001b[0m\u001b[1;34m\"spanish\"\u001b[0m\u001b[1;33m,\u001b[0m\u001b[1;34m\"english\"\u001b[0m\u001b[1;33m,\u001b[0m\u001b[1;34m\"dutch\"\u001b[0m\u001b[1;33m,\u001b[0m\u001b[1;34m\"finnish\"\u001b[0m\u001b[1;33m,\u001b[0m\u001b[1;34m\"german\"\u001b[0m\u001b[1;33m,\u001b[0m\u001b[1;34m\"italian\"\u001b[0m\u001b[1;33m,\u001b[0m\u001b[1;34m\"portuguese\"\u001b[0m\u001b[1;33m,\u001b[0m\u001b[1;34m\"turkish\"\u001b[0m\u001b[1;33m,\u001b[0m\u001b[1;34m\"danish\"\u001b[0m\u001b[1;33m,\u001b[0m\u001b[1;34m\"french\"\u001b[0m\u001b[1;33m,\u001b[0m\u001b[1;34m\"hungarian\"\u001b[0m\u001b[1;33m,\u001b[0m\u001b[1;34m\"norwegian\"\u001b[0m\u001b[1;33m,\u001b[0m\u001b[1;34m\"russian\"\u001b[0m\u001b[1;33m,\u001b[0m\u001b[1;34m\"swedish\"\u001b[0m\u001b[1;33m]\u001b[0m\u001b[1;33m\u001b[0m\u001b[1;33m\u001b[0m\u001b[0m\n",
      "\u001b[1;31mModuleNotFoundError\u001b[0m: No module named 'unicode'"
     ]
    }
   ],
   "source": [
    "import nltk # Importar la librería nltk\n",
    "import unicode\n",
    " # Lista de idiomas disponibles en la nltk\n",
    "\n",
    "languages = [\"spanish\",\"english\",\"dutch\",\"finnish\",\"german\",\"italian\",\"portuguese\",\"turkish\",\"danish\",\"french\",\"hungarian\",\"norwegian\",\"russian\",\"swedish\"]\n",
    " # Texto a analizar\n",
    "\n",
    "text_to_detect = \"Texto a analizar y del cual detectar el idioma en el que se encuentra\"\n",
    " # Dividimos el texto de entrada en tokens o palabras únicas\n",
    "\n",
    "tokens = nltk.tokenize.word_tokenize(text_to_detect)\n",
    "\n",
    "tokens = [t.strip().lower() for t in tokens] # Convierte todos los textos a minúsculas para su posterior comparación\n",
    "\n",
    " # Creamos un dict donde almacenaremos la cuenta de las stopwords para cada idioma\n",
    "\n",
    "lang_count = {}\n",
    "\n",
    " # Por cada idioma\n",
    "for lang in languages:\n",
    "     # Obtenemos las stopwords del idioma del módulo nltk\n",
    "    stop_words = unicode(nltk.corpus.stopwords.words(lang))\n",
    "    \n",
    "    lang_count[lang] = 0 # Inicializa a 0 el contador para cada idioma\n",
    "\n",
    "    # Recorremos las palabras del texto a analizar\n",
    "    for word in tokens:\n",
    "        if word in stop_words: # Si la palabra se encuentra entre las stopwords, incrementa el contador\n",
    "            lang_count[lang] += 1\n",
    "            \n",
    "# Obtiene el idioma con el número mayor de coincidencias\n",
    "detected_language = max(lang_count, key=lang_count.get)\n",
    "\n",
    "print (detected_language)"
   ]
  },
  {
   "cell_type": "code",
   "execution_count": 4,
   "metadata": {},
   "outputs": [
    {
     "ename": "SyntaxError",
     "evalue": "invalid syntax (<ipython-input-4-5c18beb92958>, line 10)",
     "output_type": "error",
     "traceback": [
      "\u001b[1;36m  File \u001b[1;32m\"<ipython-input-4-5c18beb92958>\"\u001b[1;36m, line \u001b[1;32m10\u001b[0m\n\u001b[1;33m    de  la palabra  en  dictionaryFile . leer (). split ( ' \\ n ' ):\u001b[0m\n\u001b[1;37m         ^\u001b[0m\n\u001b[1;31mSyntaxError\u001b[0m\u001b[1;31m:\u001b[0m invalid syntax\n"
     ]
    }
   ],
   "source": [
    "import os\n",
    "\n",
    "MAYÚSCULAS  =  'ABCDEFGHIJKLMNOPQRSTUVWXYZ'\n",
    "LETTERS_AND_SPACE  =  MAYÚSCULAS  +  MAYÚSCULAS . lower () +  ' \\ t \\ n '\n",
    "\n",
    "def  loadDictionary ():\n",
    "    ruta  =  os.trayectoria . split ( os . path . realpath ( __file__ ))\n",
    "    dictionaryFile  =  open ( ruta [ 0 ] +  '/Diccionario.txt' )\n",
    "    englishWords  = {}\n",
    "    de  la palabra  en  dictionaryFile . leer (). split ( ' \\ n ' ):\n",
    "        englishWords [ palabra ] =  Ninguno\n",
    "    dictionaryFile . cerrar ()\n",
    "    volver  englishWords\n",
    "\n",
    "ENGLISH_WORDS  =  loadDictionary ()\n",
    "\n",
    "def  getEnglishCount ( mensaje ):\n",
    "    mensaje  =  mensaje . superior ()\n",
    "    mensaje  =  removeNonLetters ( mensaje )\n",
    "    possibleWords  =  mensaje . split ()\n",
    "\n",
    "    si  es  posibleWords == []:\n",
    "        retorno  0.0\n",
    "\n",
    "    coincidencias  =  0\n",
    "    por  palabra  en  posibleWords :\n",
    "        si la  palabra  en  ENGLISH_WORDS :\n",
    "            coincide con  + =  1\n",
    "\n",
    "    retorno  de flotación ( partidos ) /  len ( possibleWords )\n",
    "\n",
    "def  removeNonLetters ( mensaje ):\n",
    "    lettersOnly  = []\n",
    "    para el  símbolo  en el  mensaje :\n",
    "        si  símbolo  en  LETTERS_AND_SPACE :\n",
    "            letras solo . agregar ( símbolo )\n",
    "    volver  '' . unirse ( letras solo )\n",
    "\n",
    "def  isEnglish ( mensaje , porcentaje de palabra  =  20 , porcentaje de letra  =  85 ):\n",
    "    wordsMatch  =  getEnglishCount ( mensaje ) *  100  > =  wordPercentage\n",
    "    numLetters  =  len ( removeNonLetters ( mensaje ))\n",
    "    messageLettersPercentage  = ( float ( numLetters ) /  len ( mensaje )) *  100\n",
    "    lettersMatch  =  messageLettersPercentage  > =  letterPercentage\n",
    "    volver  palabrasMatch  y  letrasMatch\n",
    "\n",
    "def  main ():\n",
    "    print ( \" \\ n \" )\n",
    "    mensaje  =  entrada ( \"Mensaje:\" )\n",
    "    isenglish  =  isEnglish ( mensaje )\n",
    "    engliscount  =  int ( getEnglishCount ( mensaje ))\n",
    "    print ( \"Ingles:% s \\ n \"  % ( español ))\n",
    "\n",
    "mientras  cierto :\n",
    "    main ()"
   ]
  },
  {
   "cell_type": "code",
   "execution_count": 1,
   "metadata": {},
   "outputs": [
    {
     "name": "stdout",
     "output_type": "stream",
     "text": [
      "hola mundo\n"
     ]
    }
   ],
   "source": [
    "mensaje7 = \"Hola Mundo\"\n",
    "mensaje7a = mensaje7.lower()\n",
    "print(mensaje7a)\n"
   ]
  },
  {
   "cell_type": "code",
   "execution_count": null,
   "metadata": {},
   "outputs": [],
   "source": []
  }
 ],
 "metadata": {
  "kernelspec": {
   "display_name": "Python 3",
   "language": "python",
   "name": "python3"
  },
  "language_info": {
   "codemirror_mode": {
    "name": "ipython",
    "version": 3
   },
   "file_extension": ".py",
   "mimetype": "text/x-python",
   "name": "python",
   "nbconvert_exporter": "python",
   "pygments_lexer": "ipython3",
   "version": "3.7.6"
  }
 },
 "nbformat": 4,
 "nbformat_minor": 4
}
