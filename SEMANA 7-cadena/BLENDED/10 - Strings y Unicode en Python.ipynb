{
 "cells": [
  {
   "cell_type": "markdown",
   "metadata": {},
   "source": [
    "# Strings y Unicode en Python"
   ]
  },
  {
   "cell_type": "markdown",
   "metadata": {},
   "source": [
    "## Strings\n",
    "En Python, la cadenas (string) son una secuencia de caracteres, donde esta puede tener un solo caracter (no existe el tipo *char*) y se comporta como las colecciones de datos en Python (llámese tuplas o listas)."
   ]
  },
  {
   "cell_type": "code",
   "execution_count": 2,
   "metadata": {},
   "outputs": [
    {
     "name": "stdout",
     "output_type": "stream",
     "text": [
      "Las cadenas en Python son facil de entender\n",
      "Primera letra: a\n",
      "Ultima letra: r\n",
      "Lenguaje de programacion: Python\n",
      "Ultima palabra: entender\n",
      "Primera palabra: Las\n",
      "Las cadenas en Python son facil de entender y de manejar\n",
      "En cambio C++ puede ser ZZZzzz...\n"
     ]
    }
   ],
   "source": [
    "texto = \"Las cadenas en Python son facil de entender\"\n",
    "print(texto)\n",
    "\n",
    "# Puedo obtener la primea letra de la cadena\n",
    "print(\"Primera letra:\", texto[1])\n",
    "\n",
    "# O puedo obtener la ultima letra\n",
    "print(\"Ultima letra:\", texto[-1])\n",
    "\n",
    "# O puedo obtner un extracto de la cadena\n",
    "print(\"Lenguaje de programacion:\", texto[15:21])\n",
    "\n",
    "# Y no es necesario especificar el final si es hasta el final de la cadena\n",
    "print(\"Ultima palabra:\", texto[-8:])\n",
    "\n",
    "# Y asi tampoco especificar el inicio si es desde es desde el inicio de la cadena\n",
    "print(\"Primera palabra:\",texto[:3])\n",
    "\n",
    "# Puedo generar una cadena concatenando cadenas previas\n",
    "texto = texto + \" y de manejar\"\n",
    "print(texto)\n",
    "\n",
    "# Y puedo utilizar el operador * para repetir una cadena\n",
    "texto = \"En cambio C++ puede ser \" + \"Z\" * 3 + \"z\" * 3 + \".\" * 3\n",
    "print(texto)"
   ]
  },
  {
   "cell_type": "markdown",
   "metadata": {},
   "source": [
    "Puedo utilizar muchos de los métodos ya conocidos en tuplas y listas, los que se pueden revisar en el sistema de ayuda:"
   ]
  },
  {
   "cell_type": "code",
   "execution_count": 3,
   "metadata": {},
   "outputs": [
    {
     "data": {
      "text/plain": [
       "['__add__',\n",
       " '__class__',\n",
       " '__contains__',\n",
       " '__delattr__',\n",
       " '__dir__',\n",
       " '__doc__',\n",
       " '__eq__',\n",
       " '__format__',\n",
       " '__ge__',\n",
       " '__getattribute__',\n",
       " '__getitem__',\n",
       " '__getnewargs__',\n",
       " '__gt__',\n",
       " '__hash__',\n",
       " '__init__',\n",
       " '__init_subclass__',\n",
       " '__iter__',\n",
       " '__le__',\n",
       " '__len__',\n",
       " '__lt__',\n",
       " '__mod__',\n",
       " '__mul__',\n",
       " '__ne__',\n",
       " '__new__',\n",
       " '__reduce__',\n",
       " '__reduce_ex__',\n",
       " '__repr__',\n",
       " '__rmod__',\n",
       " '__rmul__',\n",
       " '__setattr__',\n",
       " '__sizeof__',\n",
       " '__str__',\n",
       " '__subclasshook__',\n",
       " 'capitalize',\n",
       " 'casefold',\n",
       " 'center',\n",
       " 'count',\n",
       " 'encode',\n",
       " 'endswith',\n",
       " 'expandtabs',\n",
       " 'find',\n",
       " 'format',\n",
       " 'format_map',\n",
       " 'index',\n",
       " 'isalnum',\n",
       " 'isalpha',\n",
       " 'isascii',\n",
       " 'isdecimal',\n",
       " 'isdigit',\n",
       " 'isidentifier',\n",
       " 'islower',\n",
       " 'isnumeric',\n",
       " 'isprintable',\n",
       " 'isspace',\n",
       " 'istitle',\n",
       " 'isupper',\n",
       " 'join',\n",
       " 'ljust',\n",
       " 'lower',\n",
       " 'lstrip',\n",
       " 'maketrans',\n",
       " 'partition',\n",
       " 'replace',\n",
       " 'rfind',\n",
       " 'rindex',\n",
       " 'rjust',\n",
       " 'rpartition',\n",
       " 'rsplit',\n",
       " 'rstrip',\n",
       " 'split',\n",
       " 'splitlines',\n",
       " 'startswith',\n",
       " 'strip',\n",
       " 'swapcase',\n",
       " 'title',\n",
       " 'translate',\n",
       " 'upper',\n",
       " 'zfill']"
      ]
     },
     "execution_count": 3,
     "metadata": {},
     "output_type": "execute_result"
    }
   ],
   "source": [
    "dir(texto)"
   ]
  },
  {
   "cell_type": "markdown",
   "metadata": {},
   "source": [
    "Como se puede observar, ¡un objeto string tiene muchas funciones disponibles! Algunas ya las hemos estado utilizando (como *split*) y al ser un string una especie de lista también puede utilizar las funciones de lista (como *len* e *index*):"
   ]
  },
  {
   "cell_type": "code",
   "execution_count": 5,
   "metadata": {},
   "outputs": [
    {
     "name": "stdout",
     "output_type": "stream",
     "text": [
      "Las cadenas en Python son facil de entender\n",
      "Numero de letras en texto: 43\n",
      "El primer espacio en blanco esta en la posicion 3\n",
      "El segundo espacio en blanco esta en la posicion 11\n",
      "La palabra 'Python' inicia en la posicion 15\n"
     ]
    }
   ],
   "source": [
    "texto = \"Las cadenas en Python son facil de entender\"\n",
    "print(texto)\n",
    "print(\"Numero de letras en texto:\", len(texto))\n",
    "print(\"El primer espacio en blanco esta en la posicion\", texto.index(' '))\n",
    "print(\"El segundo espacio en blanco esta en la posicion\", texto.index(' ',4))\n",
    "print(\"La palabra 'Python' inicia en la posicion\", texto.index('Python'))"
   ]
  },
  {
   "cell_type": "markdown",
   "metadata": {},
   "source": [
    "Sin embargo, hay funciones especificamente diseñadas para los strings. Se muestras las mas utilizadas:"
   ]
  },
  {
   "cell_type": "code",
   "execution_count": 6,
   "metadata": {},
   "outputs": [
    {
     "name": "stdout",
     "output_type": "stream",
     "text": [
      "dionisio artemio morales renjifo\n",
      "\n",
      "DIONISIO ARTEMIO MORALES RENJIFO\n",
      "dionisio artemio morales renjifo\n",
      "Dionisio artemio morales renjifo\n"
     ]
    }
   ],
   "source": [
    "nombre = \"dionisio artemio morales renjifo\"\n",
    "print(nombre); print()\n",
    "\n",
    "# Podemos poner todo el mayusculas\n",
    "print(nombre.upper())\n",
    "\n",
    "# O retorarnarlo todo a minusculas\n",
    "print(nombre.lower())\n",
    "\n",
    "# Es un nombre: hay que poner la primera letra en mayusculas\n",
    "print(nombre.capitalize())"
   ]
  },
  {
   "cell_type": "code",
   "execution_count": 7,
   "metadata": {},
   "outputs": [
    {
     "name": "stdout",
     "output_type": "stream",
     "text": [
      "tres tristes tigres comen trigo\n",
      "\n",
      "Cuantas 't' hay en la frase anterior? 5\n",
      "Cuantas 'r' hay en la frase anterior? 4\n",
      "Cuantas 'tr' hay en la frase anterior? 3\n",
      "\n",
      "En que indice se encuentra la palabra 'tigres': 13\n"
     ]
    }
   ],
   "source": [
    "texto = \"tres tristes tigres comen trigo\"\n",
    "print(texto); print()\n",
    "\n",
    "# Este trabalenguas es dificil por la cantidad de \"t\"s, \"r\"s y a combinacion de las dos en la frase\n",
    "print(\"Cuantas 't' hay en la frase anterior?\", texto.count('t'))\n",
    "print(\"Cuantas 'r' hay en la frase anterior?\", texto.count('r'))\n",
    "print(\"Cuantas 'tr' hay en la frase anterior?\", texto.count('tr'))\n",
    "\n",
    "# En un string si existe la funcion \"find\" que retorna el equivalente de \"index\" en una lista o tupla\n",
    "print()\n",
    "print(\"En que indice se encuentra la palabra 'tigres':\", texto.find('tigres'))"
   ]
  },
  {
   "cell_type": "code",
   "execution_count": 8,
   "metadata": {},
   "outputs": [
    {
     "name": "stdout",
     "output_type": "stream",
     "text": [
      "        TITULO DE LA OBRA           \n",
      "\n",
      "|         TITULO DE LA OBRA |\n",
      "| TITULO DE LA OBRA            |\n",
      "| TITULO DE LA OBRA |\n"
     ]
    }
   ],
   "source": [
    "texto = \"        TITULO DE LA OBRA           \"\n",
    "print(texto); print()\n",
    "\n",
    "# Podemos eliminar los espacios a la derecha (right)\n",
    "print(\"|\",texto.rstrip(),\"|\")\n",
    "# O los espacios a la izquierda (left)\n",
    "print(\"|\",texto.lstrip(),\"|\")\n",
    "# O los espacios tanto a la izquierda como a la derecha (deja un espacio en blanco a ambos lados)\n",
    "print(\"|\",texto.strip(),\"|\")"
   ]
  },
  {
   "cell_type": "code",
   "execution_count": 9,
   "metadata": {},
   "outputs": [
    {
     "name": "stdout",
     "output_type": "stream",
     "text": [
      "lo que no te mata te hace mas fuerte\n",
      "\n",
      "lo que no te mata te hara mas fuerte\n",
      "['lo', 'que', 'no', 'te', 'mata', 'te', 'hace', 'mas', 'fuerte']\n",
      "lo que no te mata te hace mas fuerte\n",
      "lo-que-no-te-mata-te-hace-mas-fuerte\n"
     ]
    }
   ],
   "source": [
    "texto = \"lo que no te mata te hace mas fuerte\"\n",
    "print(texto); print()\n",
    "\n",
    "# Podemos reemplazar parte de una cadena por otra\n",
    "print(texto.replace(\"hace\", \"hara\"))\n",
    "# O podemos extraer las palabras de una cadenna y almacenarlas en una lista\n",
    "palabras = texto.split()\n",
    "print(palabras)\n",
    "# Y utilizar una lista de palabras para crear una cadena\n",
    "print(\" \".join(palabras))\n",
    "print(\"-\".join(palabras))"
   ]
  },
  {
   "cell_type": "markdown",
   "metadata": {},
   "source": [
    "Una cosa que se suele pasar por alto es que las strings son *inmutables*, al igual que las tuplas. En los ejemplo se estan generando nuevas cadenas y se estan imprimiendo pero ls cadenas originales no estan siendo modificadas (revise el ejemplo anterior: para la impresión se cambio la palabra \"hace\" por \"hara\", pero al utilizar nuevamente la cadena para generar la lista de palabras aun continua \"hace\")."
   ]
  },
  {
   "cell_type": "code",
   "execution_count": 10,
   "metadata": {},
   "outputs": [
    {
     "ename": "TypeError",
     "evalue": "'str' object does not support item assignment",
     "output_type": "error",
     "traceback": [
      "\u001b[1;31m---------------------------------------------------------------------------\u001b[0m",
      "\u001b[1;31mTypeError\u001b[0m                                 Traceback (most recent call last)",
      "\u001b[1;32m<ipython-input-10-6fbf7fab4b42>\u001b[0m in \u001b[0;36m<module>\u001b[1;34m\u001b[0m\n\u001b[0;32m      2\u001b[0m \u001b[1;33m\u001b[0m\u001b[0m\n\u001b[0;32m      3\u001b[0m \u001b[1;31m#Probemos ssi es inmutable\u001b[0m\u001b[1;33m\u001b[0m\u001b[1;33m\u001b[0m\u001b[1;33m\u001b[0m\u001b[0m\n\u001b[1;32m----> 4\u001b[1;33m \u001b[0mcadena\u001b[0m\u001b[1;33m[\u001b[0m\u001b[1;36m0\u001b[0m\u001b[1;33m]\u001b[0m \u001b[1;33m=\u001b[0m \u001b[1;34m'E'\u001b[0m\u001b[1;33m\u001b[0m\u001b[1;33m\u001b[0m\u001b[0m\n\u001b[0m",
      "\u001b[1;31mTypeError\u001b[0m: 'str' object does not support item assignment"
     ]
    }
   ],
   "source": [
    "cadena = \"esta es una frase de prueba\"\n",
    "\n",
    "#Probemos ssi es inmutable\n",
    "cadena[0] = 'E'"
   ]
  },
  {
   "cell_type": "markdown",
   "metadata": {},
   "source": [
    "Una cadena por lo tanto no puede cambiar. Todas las operaciones anteriores, si se quieren guardar, se tienen que almacenar en una cadena nueva."
   ]
  },
  {
   "cell_type": "markdown",
   "metadata": {},
   "source": [
    "Existen ciertas funciones que permiten validar si un caracter es de cierto tipo:"
   ]
  },
  {
   "cell_type": "code",
   "execution_count": 2,
   "metadata": {},
   "outputs": [
    {
     "name": "stdout",
     "output_type": "stream",
     "text": [
      "True\n",
      "False\n",
      "True\n",
      "dd False\n",
      "False\n",
      "SDF True\n",
      "True\n",
      "False\n"
     ]
    }
   ],
   "source": [
    "letra = 'A'\n",
    "numero = 'lhkhk 5.2'\n",
    "simbolo = \"khv089\"\n",
    "espacio = \" \"\n",
    "enter = \"\\n\"\n",
    "\n",
    "print(letra.isalpha())\n",
    "print(numero.isdigit())\n",
    "print(letra.isalnum())\n",
    "print(\"dd\",numero.isalnum())\n",
    "print(simbolo.isalpha())\n",
    "print(\"SDF\",simbolo.isprintable())\n",
    "print(espacio.isspace())\n",
    "print(enter.isprintable())"
   ]
  },
  {
   "cell_type": "markdown",
   "metadata": {},
   "source": [
    "## Unicode"
   ]
  },
  {
   "cell_type": "markdown",
   "metadata": {},
   "source": [
    "Como ya se sabe de los estudios previos en lenguajes de programacion, las letras de una cadena se almacenan en Python en forma de código Python utiliza un codigo de caracteres extendido al ASCII original que solo soportaba 127 caracteres para soportar hasta 100,730 caracteres en la version 5.1 del estándar Unicode. Esto le permite a Python manejar simbolos en otros idiomas (acentos, ñ, carcteres cirilos, runas, chinos, coreanos... hasta emojis).\n",
    "\n",
    "Para conocer el codigo de un caracter, se utiliza la funcion *ord* y para conocer a que caracter e correspode un código se utliza la funcion *chr*"
   ]
  },
  {
   "cell_type": "code",
   "execution_count": 12,
   "metadata": {},
   "outputs": [
    {
     "name": "stdout",
     "output_type": "stream",
     "text": [
      "La 'A' tiene el codigo Unicode 65\n",
      "El codigo Unicode 65 le corresponde a la letra A\n"
     ]
    }
   ],
   "source": [
    "print(\"La 'A' tiene el codigo Unicode\", ord('A'))\n",
    "print(\"El codigo Unicode 65 le corresponde a la letra\", chr(65))"
   ]
  },
  {
   "cell_type": "markdown",
   "metadata": {},
   "source": [
    "Esto permite manipular caracteres como si fueran numeros, lo que es muy útil para cifrar texto o para hacer modificaciones en una cadena. Por ejemplo el cifrado Cesar, donde cada letra es desplazada hacia la derecha (o la izquierda) un numero de espacios. Digamos que queremos construir un cifrador Cesar de despazamiento 5 a la derecha:"
   ]
  },
  {
   "cell_type": "code",
   "execution_count": 13,
   "metadata": {},
   "outputs": [
    {
     "name": "stdout",
     "output_type": "stream",
     "text": [
      "Mensaje: Este es un mensaje super secreto! Mandar el mensaje lineas abajo...\n",
      "Cifrado: Jxyj jx zs rjsxfoj xzujw xjhwjyt! Rfsifw jq rjsxfoj qnsjfx fgfot...\n"
     ]
    }
   ],
   "source": [
    "texto = \"Este es un mensaje super secreto! Mandar el mensaje lineas abajo...\"\n",
    "print(\"Mensaje:\", texto)\n",
    "\n",
    "# Se necesita desplazar todos los caracteres del texto cinco caracteres a la derecha\n",
    "# de forma que 'a' -> 'f', 'b' -> 'g', ..., 'z' -> 'e'\n",
    "texto_cifrado = ''\n",
    "for letra in texto:\n",
    "    # Si el caracter es una letra...\n",
    "    if letra.isalpha():\n",
    "        # Se desplaza este caracter 5 espacios a la derecha\n",
    "        code = ord(letra) + 5\n",
    "        # Y si son las letras \"v...z\" que se salen del la alfabeto, hay que retornarlas a \"a...e\"\n",
    "        # Esto es: 26 caracteres mas abajo\n",
    "        if letra.islower() and code > ord('z'):\n",
    "            code -= 26\n",
    "        elif letra.isupper() and code > ord('Z'):\n",
    "            code -= 26\n",
    "        # Se concatena el texto cifrado\n",
    "        texto_cifrado += chr(code)\n",
    "    # De lo contrario, si es un numero, espacio en blanco o simbolo de puntuacion...\n",
    "    else:\n",
    "        # Se concatena el texto cifrado tal y como esta en el mensjae original\n",
    "        texto_cifrado += letra\n",
    "        \n",
    "print(\"Cifrado:\",texto_cifrado)"
   ]
  },
  {
   "cell_type": "markdown",
   "metadata": {},
   "source": [
    "¿Puede convertir este programa en una funcion? Por ejemplo **cifrado_cesar(cadena, despz)** donde *cadena* sera el agumento con el texto y *despz* el numero de letras a desplazar (sea positivo o negativo)."
   ]
  },
  {
   "cell_type": "code",
   "execution_count": 28,
   "metadata": {},
   "outputs": [
    {
     "name": "stdout",
     "output_type": "stream",
     "text": [
      "Igrese la cadena a que desea codificar: JRGBK KSDHF AAAAAAAA BBBBBBBcccccccc!,,,\n",
      "Ingrese cuanto quiere desplazar cada caracter: -5\n",
      "\n",
      "Cifrado: EMBWF FNYCA VVVVVVVV WWWWWWWxxxxxxxx!,,,\n"
     ]
    }
   ],
   "source": [
    "def cifrado_cesar(cadena, despz):\n",
    "    texto_cifrado = ''\n",
    "    for letra in cadena:\n",
    "    # Si el caracter es una letra...\n",
    "        if letra.isalpha():\n",
    "        # Se desplaza este caracter 5 espacios a la derecha\n",
    "            code = ord(letra) + despz\n",
    "            if despz>0:\n",
    "                # Y si son las letras \"v...z\" que se salen del la alfabeto, hay que retornarlas a \"a...e\"\n",
    "                # Esto es: 26 caracteres mas abajo\n",
    "                if letra.islower() and code > ord('z') :\n",
    "                    code -= 26\n",
    "                elif letra.isupper() and code > ord('Z') :\n",
    "                    code -= 26\n",
    "                # Se concatena el texto cifrado\n",
    "                texto_cifrado += chr(code)\n",
    "                \n",
    "            elif despz<0:\n",
    "                # Y si son las letras \"v...z\" que se salen del la alfabeto, hay que retornarlas a \"a...e\"\n",
    "                # Esto es: 26 caracteres mas abajo\n",
    "                if letra.islower() and code < ord('a'):\n",
    "                    code += 26\n",
    "                elif letra.isupper() and code < ord('A'):\n",
    "                    code += 26\n",
    "                # Se concatena el texto cifrado\n",
    "                texto_cifrado += chr(code)         \n",
    "                \n",
    "            # De lo contrario, si es un numero, espacio en blanco o simbolo de puntuacion...\n",
    "        else:\n",
    "            # Se concatena el texto cifrado tal y como esta en el mensjae original\n",
    "            texto_cifrado += letra\n",
    "    return texto_cifrado\n",
    "            \n",
    "cadena=input(\"Igrese la cadena a que desea codificar: \")\n",
    "despz=int(input(\"Ingrese cuanto quiere desplazar cada caracter: \"))\n",
    "print()\n",
    "texto_cifrado=cifrado_cesar(cadena,despz)\n",
    "print(\"Cifrado:\",texto_cifrado)\n"
   ]
  },
  {
   "cell_type": "code",
   "execution_count": null,
   "metadata": {},
   "outputs": [],
   "source": []
  }
 ],
 "metadata": {
  "kernelspec": {
   "display_name": "Python 3",
   "language": "python",
   "name": "python3"
  },
  "language_info": {
   "codemirror_mode": {
    "name": "ipython",
    "version": 3
   },
   "file_extension": ".py",
   "mimetype": "text/x-python",
   "name": "python",
   "nbconvert_exporter": "python",
   "pygments_lexer": "ipython3",
   "version": "3.7.6"
  }
 },
 "nbformat": 4,
 "nbformat_minor": 2
}
