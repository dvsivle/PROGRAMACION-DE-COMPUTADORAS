{
 "cells": [
  {
   "cell_type": "markdown",
   "metadata": {},
   "source": [
    "# Hoja de Ejercicios 5"
   ]
  },
  {
   "cell_type": "markdown",
   "metadata": {},
   "source": [
    "### ** Ejercicio 1**\n",
    "Esciba un programa que pida al usuario que ingrese una frase y retorne un estadistica de numero de vocales que tiene la frase:\n",
    "\n",
    "    Ingrese una frase: Este verano ha habido mucho sol\n",
    "    \n",
    "    A: 3\n",
    "    E: 3\n",
    "    I: 1\n",
    "    O: 4\n",
    "    U: 1"
   ]
  },
  {
   "cell_type": "code",
   "execution_count": 2,
   "metadata": {},
   "outputs": [
    {
     "name": "stdout",
     "output_type": "stream",
     "text": [
      "Ingresa una frase: Este verano ha habido mucho sol\n",
      "A: 3\n",
      "E: 3\n",
      "I: 1\n",
      "O: 4\n",
      "U: 1\n"
     ]
    }
   ],
   "source": [
    "frase=input(\"Ingresa una frase: \")\n",
    "A=0\n",
    "E=0\n",
    "I=0\n",
    "O=0\n",
    "U=0\n",
    "\n",
    "for letra in frase:\n",
    "    lt=letra.upper()\n",
    "    if lt == 'A':\n",
    "        A+=1\n",
    "    elif lt == 'E':\n",
    "        E+=1\n",
    "    elif lt == 'I':\n",
    "        I+=1\n",
    "    elif lt == 'O':\n",
    "        O+=1\n",
    "    elif lt == 'U':\n",
    "        U+=1\n",
    "        \n",
    "print(\"A:\",A)\n",
    "print(\"E:\",E)\n",
    "print(\"I:\",I)\n",
    "print(\"O:\",O)\n",
    "print(\"U:\",U)"
   ]
  },
  {
   "cell_type": "markdown",
   "metadata": {},
   "source": [
    "### **Ejercicio 2**\n",
    "Escriba una funcion que invierta una cadena. Utilice esta funcion en un programa que pida al usuario una frase y retorne la frase invetida:\n",
    "\n",
    "    Ingrese una frase: Se lee de izquierda a derecha\n",
    "    Frase invertida: ahcered a adreiuqzi ed eel eS"
   ]
  },
  {
   "cell_type": "code",
   "execution_count": 4,
   "metadata": {},
   "outputs": [
    {
     "name": "stdout",
     "output_type": "stream",
     "text": [
      "Ingrese una frase: Se lee de izquierda a derecha\n",
      "Frase invertida: ahcered a adreiuqzi ed eel eS\n"
     ]
    }
   ],
   "source": [
    "def invierte_texto(texto):\n",
    "    reverso=[]\n",
    "    for letra in texto:\n",
    "        reverso.insert(0,letra)\n",
    "    invertida=''.join(reverso)\n",
    "    \n",
    "    return invertida\n",
    "\n",
    "texto = input(\"Ingrese una frase: \")\n",
    "print(\"Frase invertida:\", invierte_texto(texto))"
   ]
  },
  {
   "cell_type": "markdown",
   "metadata": {},
   "source": [
    "### **Ejercicio 3**\n",
    "Escriba una funcion que evalue si una frase es palindroma (es decir, si se puede leer igual de derecha o izquierda que en sentido inverso). Hay muchos ejemplos de frases palindromas (ver este [link](https://es.wikipedia.org/wiki/Pal%C3%ADndromo))"
   ]
  },
  {
   "cell_type": "code",
   "execution_count": 16,
   "metadata": {},
   "outputs": [
    {
     "name": "stdout",
     "output_type": "stream",
     "text": [
      "Ingrese una palabra o texto: Ateo por Arabia iba raro poeta\n",
      "El texto o palabra ingresada es palindromo\n",
      "Invertido:  ateop orar abi aibarA rop oetA\n"
     ]
    }
   ],
   "source": [
    "def invierte_texto(texto):\n",
    "    reverso=[]\n",
    "    for letra in texto:\n",
    "        reverso.insert(0,letra)\n",
    "    invertida=''.join(reverso)\n",
    "    \n",
    "    return invertida\n",
    "\n",
    "def es_palindromo(texto):\n",
    "    texto=texto.lower()\n",
    "    \n",
    "    replacements = ((\"á\", \"a\"),(\"é\", \"e\"),(\"í\", \"i\"),(\"ó\", \"o\"),(\"ú\", \"u\"))\n",
    "    for a, b in replacements:\n",
    "        texto = texto.replace(a, b).replace(a.upper(), b.upper())\n",
    "    \n",
    "    tex=''\n",
    "    for letra in texto:\n",
    "        if letra.isalpha():\n",
    "            tex= tex+letra\n",
    "        \n",
    "    invertida=invierte_texto(tex)\n",
    "    \n",
    "    if tex==invertida:\n",
    "        return True\n",
    "    else:\n",
    "        return False\n",
    "    \n",
    "texto = input(\"Ingrese una palabra o texto: \")\n",
    "if es_palindromo(texto):\n",
    "    print(\"El texto o palabra ingresada es palindromo\")\n",
    "    print(\"Invertido: \", invierte_texto(texto))\n",
    "else:\n",
    "    print(\"El texto ingresado no es palindromo\")"
   ]
  },
  {
   "cell_type": "markdown",
   "metadata": {},
   "source": [
    "### **Ejercicio 4**\n",
    "Escriba una funcion que cuente cuentas palabras estan contenidas en una frase ingresada por un usuario. Utilice esta funcion en un programa."
   ]
  },
  {
   "cell_type": "code",
   "execution_count": 21,
   "metadata": {},
   "outputs": [
    {
     "name": "stdout",
     "output_type": "stream",
     "text": [
      "Ingrese un texto: hola amigo pedro\n",
      "El texto contiene 3 palabras\n"
     ]
    }
   ],
   "source": [
    "def num_palabras(texto):\n",
    "    palabras=texto.split()\n",
    "    return len(palabras)\n",
    "      \n",
    "frase = input(\"Ingrese un texto: \")\n",
    "print(\"El texto contiene\", num_palabras(frase), \"palabras\")"
   ]
  },
  {
   "cell_type": "markdown",
   "metadata": {},
   "source": [
    "### **Ejercicio 5**\n",
    "Escriba un programa que pida al usuario su direccion de correo electronico. Debe de validar que el correo electronico sea valido (nombre@dominio):\n",
    "* Debe contener el caracter \"@\"\n",
    "* Sin embargo, el caracter \"@\" no puede ser el primero ni el último\n",
    "* Debe de contener por lo menos un \".\" entre el caracter \"@\" y el final de la direccion de correo (el dominio)\n",
    "* Aunque el caracter \".\" no puede ser el inicial ni el final\n",
    "* Ademas, no puede contener puntos consecutivos (\"..\" o \"...\")\n",
    "* Solo puede contener letras en ingles\n",
    "* La dirección de correo no puede contener espacios en blanco\n",
    "\n",
    "¡Son muchas validaciones! Vaya implementandolas en una funcion y vaya agregando validaciones mientras va avanzando con las pruebas hasta tener una funcion completa. (Puede ver mas detalles del estadar RFC 5322 [en este link](https://en.wikipedia.org/wiki/Email_address)) "
   ]
  },
  {
   "cell_type": "code",
   "execution_count": 3,
   "metadata": {},
   "outputs": [
    {
     "name": "stdout",
     "output_type": "stream",
     "text": [
      "Ingrese su correo electronico: fg\n"
     ]
    }
   ],
   "source": [
    "def valida_email(email):\n",
    "    '''\n",
    "    Funcion que valida si una cadena que contiene una direccion de correo electronico\n",
    "    tiene el formato correcto\n",
    "    '''\n",
    "    \n",
    "\n",
    "    \n",
    "entrada_valida = False\n",
    "\n",
    "while not entrada_valida:\n",
    "    email = input(\"Ingrese su correo electronico: \")\n",
    "    if valida_email(email):\n",
    "        entrada_valida = True\n",
    "    else:\n",
    "        print(\"El formato de la direccion de correo no es valido. Intene nuevamente\\n\")\n"
   ]
  },
  {
   "cell_type": "code",
   "execution_count": 13,
   "metadata": {},
   "outputs": [
    {
     "name": "stdout",
     "output_type": "stream",
     "text": [
      "hOla mundo\n"
     ]
    }
   ],
   "source": [
    "texto=\"hÓla mundó\"\n",
    "replacements = ((\"á\", \"a\"),(\"é\", \"e\"),(\"í\", \"i\"),(\"ó\", \"o\"),(\"ú\", \"u\")  )\n",
    "for a, b in replacements:\n",
    "    texto = texto.replace(a, b).replace(a.upper(), b.upper())\n",
    "        \n",
    "print(texto)"
   ]
  },
  {
   "cell_type": "code",
   "execution_count": null,
   "metadata": {},
   "outputs": [],
   "source": [
    "\n",
    "        \n",
    "        "
   ]
  },
  {
   "cell_type": "code",
   "execution_count": 4,
   "metadata": {},
   "outputs": [
    {
     "ename": "ModuleNotFoundError",
     "evalue": "No module named 'textblob'",
     "output_type": "error",
     "traceback": [
      "\u001b[1;31m---------------------------------------------------------------------------\u001b[0m",
      "\u001b[1;31mModuleNotFoundError\u001b[0m                       Traceback (most recent call last)",
      "\u001b[1;32m<ipython-input-4-6dbc32d02b92>\u001b[0m in \u001b[0;36m<module>\u001b[1;34m\u001b[0m\n\u001b[1;32m----> 1\u001b[1;33m \u001b[1;32mfrom\u001b[0m \u001b[0mtextblob\u001b[0m \u001b[1;32mimport\u001b[0m \u001b[0mTextBlob\u001b[0m\u001b[1;33m\u001b[0m\u001b[1;33m\u001b[0m\u001b[0m\n\u001b[0m\u001b[0;32m      2\u001b[0m \u001b[0meb\u001b[0m\u001b[1;33m=\u001b[0m\u001b[0mTextBlob\u001b[0m\u001b[1;33m(\u001b[0m\u001b[1;34m\"Remember\"\u001b[0m\u001b[1;33m)\u001b[0m\u001b[1;33m\u001b[0m\u001b[1;33m\u001b[0m\u001b[0m\n\u001b[0;32m      3\u001b[0m \u001b[0mprint\u001b[0m\u001b[1;33m(\u001b[0m\u001b[0meb\u001b[0m\u001b[1;33m.\u001b[0m\u001b[0mtraslate\u001b[0m\u001b[1;33m(\u001b[0m\u001b[0mto\u001b[0m\u001b[1;33m=\u001b[0m\u001b[1;34m'es'\u001b[0m\u001b[1;33m)\u001b[0m\u001b[1;33m)\u001b[0m\u001b[1;33m\u001b[0m\u001b[1;33m\u001b[0m\u001b[0m\n",
      "\u001b[1;31mModuleNotFoundError\u001b[0m: No module named 'textblob'"
     ]
    }
   ],
   "source": [
    "from textblob import TextBlob\n",
    "eb=TextBlob(\"Remember\")\n",
    "print(eb.traslate(to='es'))"
   ]
  },
  {
   "cell_type": "code",
   "execution_count": 30,
   "metadata": {},
   "outputs": [
    {
     "name": "stdout",
     "output_type": "stream",
     "text": [
      "Collecting package metadata (current_repodata.json): ...working... done\n",
      "Solving environment: ...working... done\n",
      "\n",
      "## Package Plan ##\n",
      "\n",
      "  environment location: C:\\ProgramData\\Anaconda3\n",
      "\n",
      "  added / updated specs:\n",
      "    - textacy\n",
      "\n",
      "\n",
      "The following packages will be downloaded:\n",
      "\n",
      "    package                    |            build\n",
      "    ---------------------------|-----------------\n",
      "    cachetools-3.1.1           |             py_0          11 KB  conda-forge\n",
      "    catalogue-1.0.0            |             py_0          10 KB  conda-forge\n",
      "    conda-4.8.3                |   py37hc8dfbb8_1         3.1 MB  conda-forge\n",
      "    cymem-2.0.3                |   py37h63f7a3c_1          35 KB  conda-forge\n",
      "    cython-blis-0.4.1          |   py37h8055547_1         4.3 MB  conda-forge\n",
      "    jellyfish-0.7.2            |   py37h8055547_0          38 KB  conda-forge\n",
      "    murmurhash-1.0.0           |   py37h63f7a3c_0          17 KB  conda-forge\n",
      "    plac-0.9.6                 |           py37_0          38 KB\n",
      "    preshed-3.0.2              |   py37h63f7a3c_2          89 KB  conda-forge\n",
      "    pyemd-0.5.1                |py37h9b59f54_1001          70 KB  conda-forge\n",
      "    pyphen-0.9.5               |             py_0         2.7 MB  conda-forge\n",
      "    python_abi-3.7             |          1_cp37m           4 KB  conda-forge\n",
      "    spacy-2.2.3                |   py37he980bc4_0         7.9 MB  conda-forge\n",
      "    srsly-1.0.2                |   py37h1834ac0_0         193 KB  conda-forge\n",
      "    textacy-0.10.0             |   py37hc8dfbb8_0         250 KB  conda-forge\n",
      "    thinc-7.3.0                |   py37he980bc4_0         1.4 MB  conda-forge\n",
      "    wasabi-0.6.0               |             py_0          20 KB  conda-forge\n",
      "    ------------------------------------------------------------\n",
      "                                           Total:        20.1 MB\n",
      "\n",
      "The following NEW packages will be INSTALLED:\n",
      "\n",
      "  cachetools         conda-forge/noarch::cachetools-3.1.1-py_0\n",
      "  catalogue          conda-forge/noarch::catalogue-1.0.0-py_0\n",
      "  cymem              conda-forge/win-64::cymem-2.0.3-py37h63f7a3c_1\n",
      "  cython-blis        conda-forge/win-64::cython-blis-0.4.1-py37h8055547_1\n",
      "  jellyfish          conda-forge/win-64::jellyfish-0.7.2-py37h8055547_0\n",
      "  murmurhash         conda-forge/win-64::murmurhash-1.0.0-py37h63f7a3c_0\n",
      "  plac               pkgs/main/win-64::plac-0.9.6-py37_0\n",
      "  preshed            conda-forge/win-64::preshed-3.0.2-py37h63f7a3c_2\n",
      "  pyemd              conda-forge/win-64::pyemd-0.5.1-py37h9b59f54_1001\n",
      "  pyphen             conda-forge/noarch::pyphen-0.9.5-py_0\n",
      "  python_abi         conda-forge/win-64::python_abi-3.7-1_cp37m\n",
      "  spacy              conda-forge/win-64::spacy-2.2.3-py37he980bc4_0\n",
      "  srsly              conda-forge/win-64::srsly-1.0.2-py37h1834ac0_0\n",
      "  textacy            conda-forge/win-64::textacy-0.10.0-py37hc8dfbb8_0\n",
      "  thinc              conda-forge/win-64::thinc-7.3.0-py37he980bc4_0\n",
      "  wasabi             conda-forge/noarch::wasabi-0.6.0-py_0\n",
      "\n",
      "The following packages will be UPDATED:\n",
      "\n",
      "  conda                       pkgs/main::conda-4.8.2-py37_0 --> conda-forge::conda-4.8.3-py37hc8dfbb8_1\n",
      "\n",
      "\n",
      "\n",
      "Downloading and Extracting Packages\n",
      "\n",
      "spacy-2.2.3          | 7.9 MB    |            |   0% \n",
      "spacy-2.2.3          | 7.9 MB    |            |   0% \n",
      "spacy-2.2.3          | 7.9 MB    | 1          |   1% \n",
      "spacy-2.2.3          | 7.9 MB    | 2          |   2% \n",
      "spacy-2.2.3          | 7.9 MB    | 3          |   4% \n",
      "spacy-2.2.3          | 7.9 MB    | 5          |   5% \n",
      "spacy-2.2.3          | 7.9 MB    | 6          |   7% \n",
      "spacy-2.2.3          | 7.9 MB    | #4         |  14% \n",
      "spacy-2.2.3          | 7.9 MB    | #6         |  16% \n",
      "spacy-2.2.3          | 7.9 MB    | ##2        |  23% \n",
      "spacy-2.2.3          | 7.9 MB    | ##6        |  26% \n",
      "spacy-2.2.3          | 7.9 MB    | ###1       |  32% \n",
      "spacy-2.2.3          | 7.9 MB    | ###5       |  35% \n",
      "spacy-2.2.3          | 7.9 MB    | ###9       |  39% \n",
      "spacy-2.2.3          | 7.9 MB    | ####3      |  44% \n",
      "spacy-2.2.3          | 7.9 MB    | ####8      |  48% \n",
      "spacy-2.2.3          | 7.9 MB    | #####1     |  52% \n",
      "spacy-2.2.3          | 7.9 MB    | #####6     |  56% \n",
      "spacy-2.2.3          | 7.9 MB    | #####9     |  60% \n",
      "spacy-2.2.3          | 7.9 MB    | ######4    |  65% \n",
      "spacy-2.2.3          | 7.9 MB    | ######8    |  69% \n",
      "spacy-2.2.3          | 7.9 MB    | #######2   |  73% \n",
      "spacy-2.2.3          | 7.9 MB    | #######7   |  77% \n",
      "spacy-2.2.3          | 7.9 MB    | ########2  |  82% \n",
      "spacy-2.2.3          | 7.9 MB    | ########7  |  87% \n",
      "spacy-2.2.3          | 7.9 MB    | #########1 |  91% \n",
      "spacy-2.2.3          | 7.9 MB    | #########6 |  96% \n",
      "spacy-2.2.3          | 7.9 MB    | ########## | 100% \n",
      "\n",
      "textacy-0.10.0       | 250 KB    |            |   0% \n",
      "textacy-0.10.0       | 250 KB    | 6          |   6% \n",
      "textacy-0.10.0       | 250 KB    | #######6   |  77% \n",
      "textacy-0.10.0       | 250 KB    | ########## | 100% \n",
      "\n",
      "srsly-1.0.2          | 193 KB    |            |   0% \n",
      "srsly-1.0.2          | 193 KB    | 8          |   8% \n",
      "srsly-1.0.2          | 193 KB    | ########## | 100% \n",
      "\n",
      "catalogue-1.0.0      | 10 KB     |            |   0% \n",
      "catalogue-1.0.0      | 10 KB     | ########## | 100% \n",
      "\n",
      "cachetools-3.1.1     | 11 KB     |            |   0% \n",
      "cachetools-3.1.1     | 11 KB     | ########## | 100% \n",
      "\n",
      "murmurhash-1.0.0     | 17 KB     |            |   0% \n",
      "murmurhash-1.0.0     | 17 KB     | #########4 |  94% \n",
      "murmurhash-1.0.0     | 17 KB     | ########## | 100% \n",
      "\n",
      "jellyfish-0.7.2      | 38 KB     |            |   0% \n",
      "jellyfish-0.7.2      | 38 KB     | ####2      |  42% \n",
      "jellyfish-0.7.2      | 38 KB     | ########## | 100% \n",
      "\n",
      "wasabi-0.6.0         | 20 KB     |            |   0% \n",
      "wasabi-0.6.0         | 20 KB     | ########1  |  81% \n",
      "wasabi-0.6.0         | 20 KB     | ########## | 100% \n",
      "\n",
      "conda-4.8.3          | 3.1 MB    |            |   0% \n",
      "conda-4.8.3          | 3.1 MB    |            |   1% \n",
      "conda-4.8.3          | 3.1 MB    | #5         |  16% \n",
      "conda-4.8.3          | 3.1 MB    | ##8        |  28% \n",
      "conda-4.8.3          | 3.1 MB    | ###8       |  39% \n",
      "conda-4.8.3          | 3.1 MB    | ####5      |  46% \n",
      "conda-4.8.3          | 3.1 MB    | #####1     |  52% \n",
      "conda-4.8.3          | 3.1 MB    | ######     |  60% \n",
      "conda-4.8.3          | 3.1 MB    | ######7    |  68% \n",
      "conda-4.8.3          | 3.1 MB    | #######4   |  74% \n",
      "conda-4.8.3          | 3.1 MB    | ########   |  80% \n",
      "conda-4.8.3          | 3.1 MB    | ########8  |  89% \n",
      "conda-4.8.3          | 3.1 MB    | #########6 |  96% \n",
      "conda-4.8.3          | 3.1 MB    | ########## | 100% \n",
      "\n",
      "pyemd-0.5.1          | 70 KB     |            |   0% \n",
      "pyemd-0.5.1          | 70 KB     | ##2        |  23% \n",
      "pyemd-0.5.1          | 70 KB     | ########## | 100% \n",
      "\n",
      "thinc-7.3.0          | 1.4 MB    |            |   0% \n",
      "thinc-7.3.0          | 1.4 MB    | 1          |   1% \n",
      "thinc-7.3.0          | 1.4 MB    | ##6        |  27% \n",
      "thinc-7.3.0          | 1.4 MB    | #####3     |  53% \n",
      "thinc-7.3.0          | 1.4 MB    | #######5   |  75% \n",
      "thinc-7.3.0          | 1.4 MB    | ########9  |  90% \n",
      "thinc-7.3.0          | 1.4 MB    | ########## | 100% \n",
      "\n",
      "cymem-2.0.3          | 35 KB     |            |   0% \n",
      "cymem-2.0.3          | 35 KB     | ####5      |  45% \n",
      "cymem-2.0.3          | 35 KB     | ########## | 100% \n",
      "\n",
      "python_abi-3.7       | 4 KB      |            |   0% \n",
      "python_abi-3.7       | 4 KB      | ########## | 100% \n",
      "\n",
      "cython-blis-0.4.1    | 4.3 MB    |            |   0% \n",
      "cython-blis-0.4.1    | 4.3 MB    |            |   0% \n",
      "cython-blis-0.4.1    | 4.3 MB    |            |   1% \n",
      "cython-blis-0.4.1    | 4.3 MB    | 9          |  10% \n",
      "cython-blis-0.4.1    | 4.3 MB    | #6         |  17% \n",
      "cython-blis-0.4.1    | 4.3 MB    | ##6        |  26% \n",
      "cython-blis-0.4.1    | 4.3 MB    | ###1       |  32% \n",
      "cython-blis-0.4.1    | 4.3 MB    | ####1      |  41% \n",
      "cython-blis-0.4.1    | 4.3 MB    | #####      |  51% \n",
      "cython-blis-0.4.1    | 4.3 MB    | #####8     |  58% \n",
      "cython-blis-0.4.1    | 4.3 MB    | ######4    |  65% \n",
      "cython-blis-0.4.1    | 4.3 MB    | #######1   |  72% \n",
      "cython-blis-0.4.1    | 4.3 MB    | ########2  |  82% \n",
      "cython-blis-0.4.1    | 4.3 MB    | #########  |  91% \n",
      "cython-blis-0.4.1    | 4.3 MB    | ########## | 100% \n",
      "\n",
      "plac-0.9.6           | 38 KB     |            |   0% \n",
      "plac-0.9.6           | 38 KB     | ####1      |  42% \n",
      "plac-0.9.6           | 38 KB     | ########## | 100% \n",
      "\n",
      "preshed-3.0.2        | 89 KB     |            |   0% \n",
      "preshed-3.0.2        | 89 KB     | #8         |  18% \n",
      "preshed-3.0.2        | 89 KB     | ########## | 100% \n",
      "\n",
      "pyphen-0.9.5         | 2.7 MB    |            |   0% \n",
      "pyphen-0.9.5         | 2.7 MB    |            |   1% \n",
      "pyphen-0.9.5         | 2.7 MB    | #1         |  11% \n",
      "pyphen-0.9.5         | 2.7 MB    | ##4        |  24% \n",
      "pyphen-0.9.5         | 2.7 MB    | ###        |  30% \n",
      "pyphen-0.9.5         | 2.7 MB    | ###9       |  39% \n",
      "pyphen-0.9.5         | 2.7 MB    | ####9      |  49% \n",
      "pyphen-0.9.5         | 2.7 MB    | #####6     |  56% \n",
      "pyphen-0.9.5         | 2.7 MB    | ######8    |  68% \n",
      "pyphen-0.9.5         | 2.7 MB    | #######8   |  78% \n",
      "pyphen-0.9.5         | 2.7 MB    | ########8  |  89% \n",
      "pyphen-0.9.5         | 2.7 MB    | ########## | 100% \n",
      "Preparing transaction: ...working... done\n",
      "Verifying transaction: ...working... failed\n",
      "\n",
      "Note: you may need to restart the kernel to use updated packages.\n"
     ]
    },
    {
     "name": "stderr",
     "output_type": "stream",
     "text": [
      "\n",
      "\n",
      "==> WARNING: A newer version of conda exists. <==\n",
      "  current version: 4.8.2\n",
      "  latest version: 4.8.3\n",
      "\n",
      "Please update conda by running\n",
      "\n",
      "    $ conda update -n base -c defaults conda\n",
      "\n",
      "\n",
      "\n",
      "EnvironmentNotWritableError: The current user does not have write permissions to the target environment.\n",
      "  environment location: C:\\ProgramData\\Anaconda3\n",
      "\n",
      "\n"
     ]
    }
   ],
   "source": [
    "conda install -c conda-forge textacy"
   ]
  },
  {
   "cell_type": "code",
   "execution_count": null,
   "metadata": {},
   "outputs": [],
   "source": []
  }
 ],
 "metadata": {
  "kernelspec": {
   "display_name": "Python 3",
   "language": "python",
   "name": "python3"
  },
  "language_info": {
   "codemirror_mode": {
    "name": "ipython",
    "version": 3
   },
   "file_extension": ".py",
   "mimetype": "text/x-python",
   "name": "python",
   "nbconvert_exporter": "python",
   "pygments_lexer": "ipython3",
   "version": "3.7.6"
  }
 },
 "nbformat": 4,
 "nbformat_minor": 2
}
