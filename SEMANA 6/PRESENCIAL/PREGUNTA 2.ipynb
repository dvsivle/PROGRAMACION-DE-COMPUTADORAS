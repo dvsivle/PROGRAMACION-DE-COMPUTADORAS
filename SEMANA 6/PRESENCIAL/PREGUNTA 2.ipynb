{
 "cells": [
  {
   "cell_type": "code",
   "execution_count": null,
   "metadata": {},
   "outputs": [],
   "source": []
  },
  {
   "cell_type": "code",
   "execution_count": 38,
   "metadata": {},
   "outputs": [
    {
     "name": "stdout",
     "output_type": "stream",
     "text": [
      "Entrada:  [4, 5, 6, 7]\n",
      "Salida:  [0.08046423546177377, 0.5683686091039167]\n",
      "\n",
      "Entrada:  [8, 10, 19, 40, 5]\n",
      "Salida:  [0.9775368220236473, 0.08046423546177377]\n",
      "\n",
      "Entrada:  [5, 9]\n",
      "Salida:  [0.08046423546177377, 0.83015835412204]\n",
      "\n",
      "Entrada:  [1, 6, 10]\n",
      "Salida:  [0.2919265817264289]\n",
      "\n"
     ]
    }
   ],
   "source": [
    "#SELECIONA IMPARES\n",
    "\n",
    "from math import*\n",
    "def procesaLista(*L):\n",
    "    lista=list(L)\n",
    "    L_salida=[]\n",
    "    for a in L:\n",
    "        impares=list(filter(lambda n: n%2==1,a))\n",
    "        resultado=list(map(lambda x:(pow(cos(x),2)),impares))\n",
    "        L_salida.append(resultado)\n",
    "        print (\"Entrada: \",a)\n",
    "        print (\"Salida: \",resultado)\n",
    "        print()\n",
    "    return \n",
    "\n",
    "\n",
    "procesaLista([4,5,6,7],[8,10,19,40,5],[5,9],[1,6,10])\n",
    "#print(r)\n",
    "\n"
   ]
  },
  {
   "cell_type": "code",
   "execution_count": 39,
   "metadata": {},
   "outputs": [
    {
     "data": {
      "text/plain": [
       "[['r'], ['a'], ['a']]"
      ]
     },
     "execution_count": 39,
     "metadata": {},
     "output_type": "execute_result"
    }
   ],
   "source": [
    "from math import*\n",
    "def procesaLista(*L):\n",
    "    L_salida=[]\n",
    "    for a in L:\n",
    "        cad=list(filter(lambda n: n.count(\"a\")>=2,a))\n",
    "        if cad !=[]:\n",
    "            res=list(map(lambda x: x[1],cad))\n",
    "            L_salida.append(res)\n",
    "        \n",
    "    return L_salida\n",
    "\n",
    "\n",
    "procesaLista([\"informtica\",\"nit\",\"programa\"],[\"data\",\"codigo\",\"fuma\"],[\"ordena\",\"validar\"])\n",
    "#print(r)"
   ]
  },
  {
   "cell_type": "code",
   "execution_count": 18,
   "metadata": {},
   "outputs": [
    {
     "name": "stdout",
     "output_type": "stream",
     "text": [
      "j\n"
     ]
    }
   ],
   "source": [
    "s=\"asj\"\n",
    "print(s[2])"
   ]
  },
  {
   "cell_type": "code",
   "execution_count": 36,
   "metadata": {},
   "outputs": [
    {
     "name": "stdout",
     "output_type": "stream",
     "text": [
      "Inicial:  ['tematica', 'nit', 'programa']\n",
      "resultante:  ['e', 'r']\n",
      "\n",
      "Inicial:  ['data', 'codigo', 'fuma']\n",
      "resultante:  ['a']\n",
      "\n",
      "Inicial:  ['ordena', 'validar']\n",
      "resultante:  ['a']\n",
      "\n"
     ]
    }
   ],
   "source": [
    "\n",
    "def procesaLista(*Lista):\n",
    "    L_salida=[]\n",
    "    for a in Lista:\n",
    "        cad=list(filter(lambda n: n.count(\"a\")>=2,a))\n",
    "        if cad !=[]:\n",
    "            res=list(map(lambda x: x[1],cad))\n",
    "            L_salida.append(res)\n",
    "            print (\"Inicial: \",a)\n",
    "            print (\"resultante: \",res)\n",
    "            print()\n",
    "        \n",
    "procesaLista([\"tematica\",\"nit\",\"programa\"],[\"data\",\"codigo\",\"fuma\"],[\"ordena\",\"validar\"])\n"
   ]
  },
  {
   "cell_type": "code",
   "execution_count": null,
   "metadata": {},
   "outputs": [],
   "source": []
  }
 ],
 "metadata": {
  "kernelspec": {
   "display_name": "Python 3",
   "language": "python",
   "name": "python3"
  },
  "language_info": {
   "codemirror_mode": {
    "name": "ipython",
    "version": 3
   },
   "file_extension": ".py",
   "mimetype": "text/x-python",
   "name": "python",
   "nbconvert_exporter": "python",
   "pygments_lexer": "ipython3",
   "version": "3.7.6"
  }
 },
 "nbformat": 4,
 "nbformat_minor": 4
}
