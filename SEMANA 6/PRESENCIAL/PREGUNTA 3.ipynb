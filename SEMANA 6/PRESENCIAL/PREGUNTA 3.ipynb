{
 "cells": [
  {
   "cell_type": "code",
   "execution_count": 5,
   "metadata": {},
   "outputs": [
    {
     "name": "stdout",
     "output_type": "stream",
     "text": [
      "Datos de la lista original:\n",
      "72 34 76 80 34 52 91 79 10 25 62 59 51 28 16 58 50 10 84 49 81 47 96 14 48 77 33 89 31 15 \n",
      "\n",
      "Datos de la lista resultante:\n",
      "80 76 72 52 34 34 91 79 62 59 25 10 51 28 16 58 50 10 84 49 81 47 96 14 48 77 33 89 31 15 "
     ]
    }
   ],
   "source": [
    "#PREGUNTA 3\n",
    "\n",
    "from random import*\n",
    "\n",
    "def promOrdena(l):\n",
    "    prom=sum(l)/len(l)\n",
    "    if(50<prom<60):\n",
    "        l.sort(reverse=True)\n",
    "    return l\n",
    "\n",
    "lista=[]  #GENERO LA LISTA INICIAL ALEATORIA DE 30 ELEMENTOS\n",
    "for a in range(30):\n",
    "    r=randint(10,99)\n",
    "    lista.append(r)\n",
    "\n",
    "l_r=[] \n",
    "for a in range(0,len(lista),6):  # SEPARO LA LSITA EN GRUPOS DE 6 \n",
    "    l=list(lista[a:a+6])\n",
    "    x=promOrdena(l)\n",
    "    l_r.extend(x)\n",
    "    \n",
    "#IMPRESION DE DATOS DE LA LISTAS\n",
    "print(\"Datos de la lista original:\")\n",
    "for a in lista:\n",
    "    print(a,end=(' '))\n",
    "    \n",
    "print('\\n')\n",
    "print(\"Datos de la lista resultante:\")\n",
    "for i in l_r:\n",
    "    print(i,end=(' '))"
   ]
  },
  {
   "cell_type": "code",
   "execution_count": 14,
   "metadata": {},
   "outputs": [
    {
     "name": "stdout",
     "output_type": "stream",
     "text": [
      "[41, 57, 92, 32, 47, 87, 41, 11, 53, 13, 26, 14, 28, 40, 75, 29, 61, 77, 29, 38, 24, 22, 89, 36, 40, 60, 91, 89, 41, 10, 25, 71, 28, 85, 36, 29, 98, 45, 33, 13]\n",
      "\n",
      "\n",
      "[41, 57, 92, 32, 47, 0, 0, 0, 87, 41, 11, 53, 13, 0, 0, 0, 26, 14, 28, 40, 75, 0, 0, 0, 29, 61, 77, 29, 38, 0, 0, 0, 24, 22, 89, 36, 40, 60, 91, 89, 41, 10, 0, 0, 0, 25, 71, 28, 85, 36, 0, 0, 0, 29, 98, 45, 33, 13]\n"
     ]
    }
   ],
   "source": [
    "from random import*\n",
    "\n",
    "def sumaAgregar(l):\n",
    "    suma=sum(l)\n",
    "    ceros=[0,0,0]\n",
    "    retor=[]\n",
    "    if(suma<=250):\n",
    "        retor.extend(ceros)\n",
    "        retor.extend(l)\n",
    "    else:\n",
    "        retor.extend(l)\n",
    "        \n",
    "    return retor\n",
    "\n",
    "lista=[]  #GENERO LA LISTA INICIAL ALEATORIA DE 30 ELEMENTOS\n",
    "for a in range(40):\n",
    "    r=randint(10,99)\n",
    "    lista.append(r)\n",
    "\n",
    "    \n",
    "l_final=[] \n",
    "for a in range(0,len(lista),5):  # SEPARO LA LSITA EN GRUPOS DE 6 \n",
    "    l=list(lista[a:a+5])\n",
    "    x=sumaAgregar(l)\n",
    "    l_final.extend(x)\n",
    "    \n",
    "print(lista)\n",
    "    \n",
    "print('\\n')\n",
    "print(l_final)\n"
   ]
  },
  {
   "cell_type": "code",
   "execution_count": 16,
   "metadata": {},
   "outputs": [
    {
     "name": "stdout",
     "output_type": "stream",
     "text": [
      "[59, 47, 94, 21, 80, 59, 92, 66, 53, 88, 39, 59, 22, 38, 77, 90, 32, 53, 79, 68, 18, 61, 77, 46, 52, 79, 48, 55, 51, 12, 11, 75, 80, 19, 84, 93, 85, 34, 24, 33]\n",
      "\n",
      "\n",
      "[59, 47, 94, 21, 80, 59, 92, 66, 53, 88, 0, 0, 0, 39, 59, 22, 38, 77, 90, 32, 53, 79, 68, 18, 61, 77, 46, 52, 0, 0, 0, 79, 48, 55, 51, 12, 11, 75, 80, 19, 84, 93, 85, 34, 24, 33]\n"
     ]
    }
   ],
   "source": [
    "from random import*\n",
    "\n",
    "def sumaAgregar(l):\n",
    "    suma=sum(l)\n",
    "    ceros=[0,0,0]\n",
    "    retor=[]\n",
    "    if(suma<=250):\n",
    "        retor.extend(ceros)\n",
    "        retor.extend(l)\n",
    "    else:\n",
    "        retor.extend(l)\n",
    "        \n",
    "    return retor\n",
    "\n",
    "lista=[]  #GENERO LA LISTA INICIAL ALEATORIA DE 30 ELEMENTOS\n",
    "for a in range(40):\n",
    "    r=randint(10,99)\n",
    "    lista.append(r)\n",
    "\n",
    "    \n",
    "l_final=[] \n",
    "for a in range(0,len(lista),5):  # SEPARO LA LSITA EN GRUPOS DE 6 \n",
    "    l=list(lista[a:a+5])\n",
    "    x=sumaAgregar(l)\n",
    "    l_final.extend(x)\n",
    "    \n",
    "print(lista)\n",
    "    \n",
    "print('\\n')\n",
    "print(l_final)"
   ]
  },
  {
   "cell_type": "code",
   "execution_count": 17,
   "metadata": {},
   "outputs": [
    {
     "data": {
      "text/plain": [
       "True"
      ]
     },
     "execution_count": 17,
     "metadata": {},
     "output_type": "execute_result"
    }
   ],
   "source": [
    "#problema 1\n",
    "\n",
    "def evaluaCuadratica(m, cad):\n",
    "    a, aux=cad.split('x^2')\n",
    "    if float(a)>m:\n",
    "        return True\n",
    "    else:\n",
    "        return False\n",
    "    \n",
    "#main()\n",
    "evaluaCuadratica(2.5,\"10x^2+23x+16.7=0\")"
   ]
  },
  {
   "cell_type": "code",
   "execution_count": null,
   "metadata": {},
   "outputs": [],
   "source": [
    "def "
   ]
  }
 ],
 "metadata": {
  "kernelspec": {
   "display_name": "Python 3",
   "language": "python",
   "name": "python3"
  },
  "language_info": {
   "codemirror_mode": {
    "name": "ipython",
    "version": 3
   },
   "file_extension": ".py",
   "mimetype": "text/x-python",
   "name": "python",
   "nbconvert_exporter": "python",
   "pygments_lexer": "ipython3",
   "version": "3.7.6"
  }
 },
 "nbformat": 4,
 "nbformat_minor": 4
}
