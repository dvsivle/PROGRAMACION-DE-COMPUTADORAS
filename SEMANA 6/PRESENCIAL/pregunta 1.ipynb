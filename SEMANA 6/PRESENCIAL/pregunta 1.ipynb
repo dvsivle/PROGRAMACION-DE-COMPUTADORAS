{
 "cells": [
  {
   "cell_type": "code",
   "execution_count": 15,
   "metadata": {},
   "outputs": [
    {
     "data": {
      "text/plain": [
       "-1.3296641791044774"
      ]
     },
     "execution_count": 15,
     "metadata": {},
     "output_type": "execute_result"
    }
   ],
   "source": [
    "#PREGUNTA 1\n",
    "#evaluaOperacion(p,q,\"a/x+19/y\")\n",
    "#remplazar 'x' y 'y' con p y q respectivamente \n",
    "\n",
    "\n",
    "def evaluaOperacion(p,q,cad):\n",
    "    op1,op2=cad.split('+')\n",
    "    a,x=op1.split('/')\n",
    "    b,y=op2.split('/')\n",
    "    \n",
    "    a=float(a)\n",
    "    b=float(b)   \n",
    "    return ( a/p + b/q)\n",
    "    \n",
    "    \n",
    "evaluaOperacion(-6.7,80,'10.5/x+19/y')\n"
   ]
  },
  {
   "cell_type": "code",
   "execution_count": null,
   "metadata": {},
   "outputs": [],
   "source": []
  }
 ],
 "metadata": {
  "kernelspec": {
   "display_name": "Python 3",
   "language": "python",
   "name": "python3"
  },
  "language_info": {
   "codemirror_mode": {
    "name": "ipython",
    "version": 3
   },
   "file_extension": ".py",
   "mimetype": "text/x-python",
   "name": "python",
   "nbconvert_exporter": "python",
   "pygments_lexer": "ipython3",
   "version": "3.7.6"
  }
 },
 "nbformat": 4,
 "nbformat_minor": 4
}
