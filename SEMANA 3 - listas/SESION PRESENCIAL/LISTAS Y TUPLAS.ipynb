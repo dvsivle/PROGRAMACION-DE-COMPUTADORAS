{
 "cells": [
  {
   "cell_type": "code",
   "execution_count": 1,
   "metadata": {},
   "outputs": [
    {
     "name": "stdout",
     "output_type": "stream",
     "text": [
      "(3, 7.8, 'Peru', 1000, (9+4j))\n",
      "<class 'tuple'>\n"
     ]
    }
   ],
   "source": [
    "#tuplas\n",
    "\n",
    "t=(3,7.8,\"Peru\",1000,9+4j)  #los datos pueden ser distinto y es inmutable\n",
    "print(t)\n",
    "print(type(t))"
   ]
  },
  {
   "cell_type": "code",
   "execution_count": 2,
   "metadata": {},
   "outputs": [
    {
     "name": "stdout",
     "output_type": "stream",
     "text": [
      "3\n",
      "7.8\n",
      "Peru\n",
      "1000\n",
      "(9+4j)\n",
      "(16.8+4j)\n"
     ]
    }
   ],
   "source": [
    "#mostrar sus datos y operar con ellos\n",
    "#imprimir datos\n",
    "print(t[0])\n",
    "print(t[1])\n",
    "print(t[2])\n",
    "print(t[3])\n",
    "print(t[4])\n",
    "\n",
    "#operar con los datos\n",
    "a=t[1]+t[4]\n",
    "print(a)"
   ]
  },
  {
   "cell_type": "code",
   "execution_count": 6,
   "metadata": {},
   "outputs": [
    {
     "name": "stdout",
     "output_type": "stream",
     "text": [
      "['Peru', 2020, 'Chile', 1898, 'Char', 21]\n"
     ]
    }
   ],
   "source": [
    "#LISTAS son modificables\n",
    "L = [\"Peru\",2020,\"Chile\",1898,\"Char\",21]\n",
    "print(L)"
   ]
  },
  {
   "cell_type": "code",
   "execution_count": 7,
   "metadata": {},
   "outputs": [
    {
     "name": "stdout",
     "output_type": "stream",
     "text": [
      "['Chile', 1898, 'Char']\n"
     ]
    }
   ],
   "source": [
    "print(L[2:5])"
   ]
  },
  {
   "cell_type": "code",
   "execution_count": 8,
   "metadata": {},
   "outputs": [
    {
     "name": "stdout",
     "output_type": "stream",
     "text": [
      "1898\n",
      "[1898, 'Char', 21]\n"
     ]
    }
   ],
   "source": [
    "print(L[-3])\n",
    "print(L[-3:]) # exepsion"
   ]
  },
  {
   "cell_type": "code",
   "execution_count": 9,
   "metadata": {},
   "outputs": [
    {
     "name": "stdout",
     "output_type": "stream",
     "text": [
      "[7, 8, 2.6, -3]\n",
      "[1, 2, 3, 4, 5, 6, 7, 8, 9, 10]\n",
      "['p', 'r', 'o', 'g', 'r', 'a', 'm', 'a', 'c', 'i', 'ó', 'n']\n",
      "['08', '12', '1990']\n"
     ]
    }
   ],
   "source": [
    "#Otras formas de crear listas\n",
    "t=(7,8,2.6,-3)\n",
    "L1=list(t) #convertiendo tupla a lista\n",
    "print(L1)\n",
    "\n",
    "r=range(1,11) #se crea rango [1;11>\n",
    "L2=list(r)\n",
    "print(L2)\n",
    "\n",
    "cad1=\"programación\"\n",
    "L3=list(cad1)\n",
    "print(L3)\n",
    "\n",
    "cad2 = \"08/12/1990\"\n",
    "l4=cad2.split(\"/\")\n",
    "print(l4)\n"
   ]
  },
  {
   "cell_type": "code",
   "execution_count": 10,
   "metadata": {},
   "outputs": [
    {
     "name": "stdout",
     "output_type": "stream",
     "text": [
      "[1898, 'Char']\n",
      "[1898, 'Char', 21]\n"
     ]
    }
   ],
   "source": [
    "#tips:\n",
    "L1=L[3:5]\n",
    "print(L1)\n",
    "\n",
    "L2=L[-3:]\n",
    "print(L2)"
   ]
  },
  {
   "cell_type": "code",
   "execution_count": 11,
   "metadata": {},
   "outputs": [
    {
     "name": "stdout",
     "output_type": "stream",
     "text": [
      "[2020, 'Chile', 'Char', 21]\n"
     ]
    }
   ],
   "source": [
    "#copiar y combinar datos\n",
    "\n",
    "Lis=L[1:3]+L[4:]\n",
    "print(Lis)"
   ]
  },
  {
   "cell_type": "code",
   "execution_count": 12,
   "metadata": {},
   "outputs": [
    {
     "name": "stdout",
     "output_type": "stream",
     "text": [
      "['Peru', 2020, 'Ecuador', 2000, 'Juan', 1.8, 'España']\n"
     ]
    }
   ],
   "source": [
    "L[2:7]=[\"Ecuador\",2000,\"Juan\",1.8,\"España\"]\n",
    "print(L)"
   ]
  },
  {
   "cell_type": "code",
   "execution_count": 13,
   "metadata": {},
   "outputs": [
    {
     "name": "stdout",
     "output_type": "stream",
     "text": [
      "cantidad de datos: 7\n",
      "Peru\n",
      "2020\n",
      "Ecuador\n",
      "2000\n",
      "Juan\n",
      "1.8\n",
      "España\n",
      "\n",
      "\n",
      "\n",
      "Peru\n",
      "2020\n",
      "Ecuador\n",
      "2000\n",
      "Juan\n",
      "1.8\n",
      "España\n",
      " \n",
      "\n",
      "0 Peru\n",
      "1 2020\n",
      "2 Ecuador\n",
      "3 2000\n",
      "4 Juan\n",
      "5 1.8\n",
      "6 España\n",
      " \n",
      "\n",
      "L[0] : Peru\n",
      "L[1] : 2020\n",
      "L[2] : Ecuador\n",
      "L[3] : 2000\n",
      "L[4] : Juan\n",
      "L[5] : 1.8\n",
      "L[6] : España\n"
     ]
    }
   ],
   "source": [
    "#utilizando for para mostrar datos de la lista\n",
    "\n",
    "tam=len(L) #Calcula la cantidad de elementos\n",
    "print(\"cantidad de datos:\",tam)\n",
    "\n",
    "for i in range(0,tam): #i:1,2,3,...,tam-1\n",
    "    print(L[i])\n",
    "print(\"\\n\\n\")\n",
    "\n",
    "#usar el for para recorrer cada variable\n",
    "for v in L:\n",
    "    print(v)\n",
    "    \n",
    "print(\" \\n\")    \n",
    "#usar for y la funsion enumerate\n",
    "for i,v in enumerate(L):\n",
    "    print(i,v)\n",
    "\n",
    "print(\" \\n\")\n",
    "#usar for y la funsion enumerate\n",
    "for i,v in enumerate(L):\n",
    "    print(\"L[{}] : {}\".format(i,v))\n"
   ]
  },
  {
   "cell_type": "code",
   "execution_count": 14,
   "metadata": {},
   "outputs": [
    {
     "name": "stdout",
     "output_type": "stream",
     "text": [
      "Lima : 1234\n",
      "Arequipa : 4561\n",
      "Tacna : 6551\n",
      "Tumbes : 3512\n",
      "Piura : 842\n",
      "\n",
      "Lima : 1234\n",
      "Arequipa : 4561\n",
      "Tacna : 6551\n",
      "Tumbes : 3512\n",
      "Piura : 842\n"
     ]
    }
   ],
   "source": [
    "ciudades= [\"Lima\",\"Arequipa\",\"Tacna\",\"Tumbes\",\"Piura\"]\n",
    "poblaciones=[1234,4561,6551,3512,842]\n",
    "\n",
    "for i in range(0,len(ciudades)): #para i:0,1,2,...,ciudades-1\n",
    "    print(\"{} : {}\".format(ciudades[i],poblaciones[i]))\n",
    "    \n",
    "#se puede usar la funcion zip():\n",
    "print()\n",
    "for c,p in zip(ciudades,poblaciones):\n",
    "    print(\"{} : {}\".format(c,p))"
   ]
  },
  {
   "cell_type": "code",
   "execution_count": 15,
   "metadata": {},
   "outputs": [
    {
     "name": "stdout",
     "output_type": "stream",
     "text": [
      "a : 1\n",
      "b : 2\n",
      "c : 3\n"
     ]
    }
   ],
   "source": [
    "L1= [1,2,3,4,5,6]\n",
    "L2 =['a','b','c']\n",
    "for c,p in zip(L1,L2):\n",
    "    print(\"{} : {}\".format(p,c))\n"
   ]
  },
  {
   "cell_type": "code",
   "execution_count": 16,
   "metadata": {},
   "outputs": [
    {
     "name": "stdout",
     "output_type": "stream",
     "text": [
      "[56, 90, 'Juan', 1000]\n",
      "\n",
      "[56, 90, 'Juan', 1000, 'Perú']\n"
     ]
    }
   ],
   "source": [
    "#agregando datos a una lista\n",
    "data=[56,90,\"Juan\"]\n",
    "\n",
    "#usando la funcion append():\n",
    "data.append(1000)\n",
    "print(data)\n",
    "print()\n",
    "\n",
    "data.append(\"Perú\")\n",
    "print(data)"
   ]
  },
  {
   "cell_type": "code",
   "execution_count": 17,
   "metadata": {},
   "outputs": [
    {
     "name": "stdout",
     "output_type": "stream",
     "text": [
      "Ingrese el tamaño de una lista: 4\n",
      "1 ,8 ,4 ,7  \n"
     ]
    }
   ],
   "source": [
    "import random\n",
    "import time\n",
    "\n",
    "a=int(input(\"Ingrese el tamaño de una lista: \"))\n",
    "l=[]\n",
    "for i in range(0,a):\n",
    "    val=random.randint(1,9)\n",
    "    l.append(val)\n",
    "    \n",
    "for i in l:\n",
    "    print(i,',',end='')\n",
    "    \n",
    "print(\"\\b\\b  \") #borras la ultima coma,\n",
    "#en caso contrario solo imprimir hasta la penultima\n",
    "    "
   ]
  },
  {
   "cell_type": "code",
   "execution_count": 18,
   "metadata": {},
   "outputs": [
    {
     "name": "stdout",
     "output_type": "stream",
     "text": [
      "[17, 18, 20, 41, 55]\n",
      "\n",
      "[25, 17, 18, 20, 41, 55]\n",
      "\n",
      "[25, 17, 18, 20, 41, 27, 55]\n"
     ]
    }
   ],
   "source": [
    "#USO DE LA FUNCION insert():\n",
    "\n",
    "edades= [17,20,41,55]\n",
    "edades.insert(1,18)\n",
    "print(edades)\n",
    "\n",
    "print()\n",
    "edades.insert(0,25)\n",
    "print(edades)\n",
    "\n",
    "print()\n",
    "edades.insert(-1,27) #ingresa al ultimo desplazando al anterior\n",
    "print(edades)"
   ]
  },
  {
   "cell_type": "code",
   "execution_count": 19,
   "metadata": {},
   "outputs": [
    {
     "name": "stdout",
     "output_type": "stream",
     "text": [
      "[30, 0.22, 'Perú', [5, 6, 4], ['Lima', 'Tacna', 'tumbes']]\n",
      "5\n",
      "tumbes\n"
     ]
    }
   ],
   "source": [
    "#listas como elementos de otras listas (sublistas)\n",
    "\n",
    "data=[30,0.22,\"Perú\",[5,6,4],[\"Lima\",\"Tacna\",\"tumbes\"]]\n",
    "print(data)\n",
    "\n",
    "#imprimir datos de la sublista\n",
    "print(data[3][0])\n",
    "\n",
    "#ultimo dato de la ultima sublista\n",
    "print(data[-1][-1])"
   ]
  },
  {
   "cell_type": "code",
   "execution_count": 20,
   "metadata": {},
   "outputs": [
    {
     "name": "stdout",
     "output_type": "stream",
     "text": [
      "['Juan', [12, 15, 18, 20], 'María', 'Luis', 'Pedro']\n",
      "['Juan', [12, 15, 18, 20], 'María', 'Luis', 'Pedro', [17, 16, 19, 18]]\n"
     ]
    }
   ],
   "source": [
    "alumnos=[\"Juan\",\"María\",\"Luis\",\"Pedro\"]\n",
    "\n",
    "#inserta una lista en la posiusicon 1\n",
    "alumnos.insert(1,[12,15,18,20])\n",
    "print(alumnos)\n",
    "\n",
    "alumnos.append([17,16,19,18])\n",
    "print(alumnos)"
   ]
  },
  {
   "cell_type": "code",
   "execution_count": 21,
   "metadata": {},
   "outputs": [
    {
     "name": "stdout",
     "output_type": "stream",
     "text": [
      "Promedio:  5.833333333333333\n",
      "Promedio: 5.83\n"
     ]
    }
   ],
   "source": [
    "#se puede sumar datos de lista\n",
    "num= [4,6,7,5,5,8]\n",
    "print(\"Promedio: \",sum(num)/len(num))\n",
    "print(\"Promedio: {:.2f}\".format(sum(num)/len(num)))"
   ]
  },
  {
   "cell_type": "code",
   "execution_count": 22,
   "metadata": {},
   "outputs": [
    {
     "name": "stdout",
     "output_type": "stream",
     "text": [
      "['Juan', [9, 8, 2, 4], 'Maria', [12, 19, 0, 6], 'Elmer', [13, 2, 0, 19], 'j', [9, 13, 4, 14], 'pedro', [5, 15, 2, 16]]\n"
     ]
    }
   ],
   "source": [
    "import random\n",
    "import time\n",
    "\n",
    "al=['Juan','Maria','Elmer',\"j\",\"pedro\"]\n",
    "alumnos=al\n",
    "\n",
    "tam=len(alumnos)\n",
    "for i in range(0,len(alumnos)*2):\n",
    "    if i%2==0:\n",
    "        L=[]\n",
    "        for b in range(1,5):\n",
    "            a=random.randint(0,20)\n",
    "            L.append(a)\n",
    "        alumnos.insert(i+1,L)\n",
    "    \n",
    "print(alumnos)\n",
    " \n",
    "\n",
    "\n"
   ]
  },
  {
   "cell_type": "code",
   "execution_count": 24,
   "metadata": {},
   "outputs": [
    {
     "name": "stdout",
     "output_type": "stream",
     "text": [
      "\n",
      "\n",
      "\n",
      "\n",
      "\n",
      "\n"
     ]
    }
   ],
   "source": [
    "import random\n",
    "import time\n",
    "\n",
    "al=['Juan','Maria','Elmer',\"j\",\"pedro\"]\n",
    "alumnos=al\n",
    "\n",
    "promedios=[]\n",
    "tam=len(alumnos)\n",
    "for i in range(0,2*tam,2): #para i:1,3,5,...2tam-1\n",
    "    notas=[]\n",
    "    \n",
    "    for b in range(0,4):\n",
    "        a=random.randint(0,20)\n",
    "        notas.append(a)\n",
    "    prom=sum(notas)/4\n",
    "    \n",
    "    promedios.append(prom)\n",
    "    \n",
    "    alumnos.insert(i,notas)\n",
    "    \n",
    "print()\n",
    "for i in range(0,len(promedios)):\n",
    "    print(\"\")\n",
    "\n"
   ]
  },
  {
   "cell_type": "code",
   "execution_count": null,
   "metadata": {},
   "outputs": [],
   "source": []
  }
 ],
 "metadata": {
  "kernelspec": {
   "display_name": "Python 3",
   "language": "python",
   "name": "python3"
  },
  "language_info": {
   "codemirror_mode": {
    "name": "ipython",
    "version": 3
   },
   "file_extension": ".py",
   "mimetype": "text/x-python",
   "name": "python",
   "nbconvert_exporter": "python",
   "pygments_lexer": "ipython3",
   "version": "3.7.6"
  }
 },
 "nbformat": 4,
 "nbformat_minor": 4
}
