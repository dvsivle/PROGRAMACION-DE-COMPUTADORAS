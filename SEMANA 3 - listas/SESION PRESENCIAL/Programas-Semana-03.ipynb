{
 "cells": [
  {
   "cell_type": "code",
   "execution_count": 115,
   "metadata": {},
   "outputs": [
    {
     "name": "stdout",
     "output_type": "stream",
     "text": [
      "tupla:  (3, 7.8, 'Perú', 100, (9+4j))\n",
      "<class 'tuple'>\n"
     ]
    }
   ],
   "source": [
    "#creando una tupla manualmente:\n",
    "\n",
    "t = (3,7.8,\"Perú\",100,9+4j) #los datos pueden ser de cualquier tipo\n",
    "print(\"tupla: \",t)\n",
    "print(type(t))\n",
    "\n",
    "#la tupla es como un contenedor de datos"
   ]
  },
  {
   "cell_type": "code",
   "execution_count": 114,
   "metadata": {},
   "outputs": [],
   "source": [
    "#una tupla es inmutable (sus datos no se pueden modificar)\n",
    "\n",
    "#error!\n",
    "#t[3] = 200 #el dato que esta en la posición 3 de la tupla, cambialo \n",
    "            #por 200"
   ]
  },
  {
   "cell_type": "code",
   "execution_count": 118,
   "metadata": {},
   "outputs": [
    {
     "name": "stdout",
     "output_type": "stream",
     "text": [
      "tupla:  (3, 7.8, 'Perú', 100, (9+4j))\n",
      "\n",
      "3\n",
      "7.8\n",
      "Perú\n",
      "100\n",
      "(9+4j)\n",
      "\n",
      "La suma del segundo y cuarto elemento:  107.8\n"
     ]
    }
   ],
   "source": [
    "#lo que si se puede es mostrar sus datos u operar con ellos:\n",
    "\n",
    "print(\"tupla: \",t)\n",
    "\n",
    "#mostramos todos los datos de la tupla:\n",
    "print()\n",
    "print(t[0])\n",
    "print(t[1])\n",
    "print(t[2])\n",
    "print(t[3])\n",
    "print(t[4])\n",
    "\n",
    "#se suma el segundo dato con el cuarto dato:\n",
    "s = t[1]+t[3]\n",
    "print(\"\\nLa suma del segundo y cuarto elemento: \",s)"
   ]
  },
  {
   "cell_type": "code",
   "execution_count": 5,
   "metadata": {},
   "outputs": [
    {
     "data": {
      "text/plain": [
       "['__add__',\n",
       " '__class__',\n",
       " '__contains__',\n",
       " '__delattr__',\n",
       " '__dir__',\n",
       " '__doc__',\n",
       " '__eq__',\n",
       " '__format__',\n",
       " '__ge__',\n",
       " '__getattribute__',\n",
       " '__getitem__',\n",
       " '__getnewargs__',\n",
       " '__gt__',\n",
       " '__hash__',\n",
       " '__init__',\n",
       " '__init_subclass__',\n",
       " '__iter__',\n",
       " '__le__',\n",
       " '__len__',\n",
       " '__lt__',\n",
       " '__mul__',\n",
       " '__ne__',\n",
       " '__new__',\n",
       " '__reduce__',\n",
       " '__reduce_ex__',\n",
       " '__repr__',\n",
       " '__rmul__',\n",
       " '__setattr__',\n",
       " '__sizeof__',\n",
       " '__str__',\n",
       " '__subclasshook__',\n",
       " 'count',\n",
       " 'index']"
      ]
     },
     "execution_count": 5,
     "metadata": {},
     "output_type": "execute_result"
    }
   ],
   "source": [
    "#funciones que se pueden aplicar a una tupla:\n",
    "dir(t)"
   ]
  },
  {
   "cell_type": "code",
   "execution_count": 119,
   "metadata": {},
   "outputs": [
    {
     "name": "stdout",
     "output_type": "stream",
     "text": [
      "Lista:  ['Perú', 45869, 'Chile', 8853, 'Luis', 1.67, 'María', 78.3]\n",
      "<class 'list'>\n"
     ]
    }
   ],
   "source": [
    "#se crea una lista manualmente (los datos pueden ser de distinto tipo)\n",
    "\n",
    "L = [\"Perú\",45869,\"Chile\",8853,\"Luis\",1.67,\"María\",78.3]\n",
    "print(\"Lista: \",L)\n",
    "print(type(L))\n",
    "\n",
    "#la lista tambien es como un contenedor de datos"
   ]
  },
  {
   "cell_type": "code",
   "execution_count": 120,
   "metadata": {
    "scrolled": true
   },
   "outputs": [
    {
     "name": "stdout",
     "output_type": "stream",
     "text": [
      "Lista:  ['Perú', 45869, 'Chile', 8853, 'Luis', 1.67, 'María', 78.3]\n",
      "\n",
      "Perú\n",
      "45869\n",
      "1.67\n",
      "78.3\n",
      "María\n",
      "\n",
      "La suma del segundo mas el doble del ultimado dato:  46025.6\n"
     ]
    }
   ],
   "source": [
    "#mostrando algunos elementos de la lista L:\n",
    "\n",
    "print(\"Lista: \",L)\n",
    "\n",
    "print()\n",
    "print(L[0]) #mostrar el primer elemento\n",
    "print(L[1]) #mostrar el segundo elemento\n",
    "print(L[5]) #mostrar el sexto elemento\n",
    "print(L[-1]) #mostrar el último elemento\n",
    "print(L[-2]) #mostrar el penúltimo elemento\n",
    "\n",
    "#operando con algunos datos de la lista L:\n",
    "s = L[1] + 2*L[-1]\n",
    "print(\"\\nLa suma del segundo mas el doble del ultimado dato: \",s)"
   ]
  },
  {
   "cell_type": "code",
   "execution_count": null,
   "metadata": {},
   "outputs": [],
   "source": [
    "#TIPS:\n",
    "#print(L[30])  #error en el indice (fuera del rango de la lista)\n",
    "#print(L[-20]) #error en el indice (fuera del rango de la lista)"
   ]
  },
  {
   "cell_type": "code",
   "execution_count": 8,
   "metadata": {},
   "outputs": [
    {
     "name": "stdout",
     "output_type": "stream",
     "text": [
      "['Perú', 45869, 'Brasil', 8853, 'Luis', 1.67, 'María', 78.3]\n"
     ]
    }
   ],
   "source": [
    "#la lista si es MUTABLE (se pueden modificar sus datos)\n",
    "\n",
    "L[2]=\"Brasil\" #al tercer elemento modíficalo por \"Brasil\"\n",
    "print(L)"
   ]
  },
  {
   "cell_type": "code",
   "execution_count": 13,
   "metadata": {},
   "outputs": [
    {
     "name": "stdout",
     "output_type": "stream",
     "text": [
      "[7, 9, -10, 3]\n",
      "\n",
      "[1, 2, 3, 4, 5, 6, 7, 8, 9, 10]\n",
      "\n",
      "['P', 'r', 'o', 'g', 'r', 'a', 'm', 'a', 'c', 'i', 'ó', 'n']\n",
      "\n",
      "['08', '05', '1978']\n",
      "Ingrese fecha de nacimiento dia/mes/año: 09/11/2010\n",
      "\n",
      "['09', '11', '2010']\n"
     ]
    }
   ],
   "source": [
    "#otras formas de crear una lista usando la función list()\n",
    "\n",
    "#creando un tupla:\n",
    "t = (7,9,-10,3)\n",
    "l1 = list(t)\n",
    "print(l1)\n",
    "\n",
    "#creando un rango:\n",
    "r = range(1,11)  #se crea el rango [1,11>\n",
    "l2 = list(r)\n",
    "print()\n",
    "print(l2)\n",
    "\n",
    "#creando una cadena:\n",
    "cad1 = \"Programación\"\n",
    "l3 = list(cad1)\n",
    "print()\n",
    "print(l3)\n",
    "\n",
    "#creando una cadena:\n",
    "cad2 = \"08/05/1978\"\n",
    "l4 = cad2.split(\"/\") #el resultado del split() va a una lista\n",
    "print()\n",
    "print(l4)\n",
    "\n",
    "#por lo tanto se podría tener:\n",
    "fecha = input(\"Ingrese fecha de nacimiento dia/mes/año: \").split(\"/\")\n",
    "print()\n",
    "print(fecha)"
   ]
  },
  {
   "cell_type": "code",
   "execution_count": 121,
   "metadata": {},
   "outputs": [
    {
     "name": "stdout",
     "output_type": "stream",
     "text": [
      "Lista:  ['Perú', 45869, 'Chile', 8853, 'Luis', 1.67, 'María', 78.3]\n",
      "\n",
      "[8853, 'Luis', 1.67]\n",
      "\n",
      "[8853, 'Luis', 1.67, 'María', 78.3]\n",
      "\n",
      "['Perú', 45869, 'Chile', 8853, 'Luis', 1.67]\n",
      "\n",
      "[45869, 'Chile', 8853, 'Luis', 'María', 78.3]\n",
      "\n",
      "['Perú', 45869, 'Ecuador', 2000, 'Juan', 1.8, 'Luana', 78.3]\n"
     ]
    }
   ],
   "source": [
    "#otras formas de trabajar con los datos de una lista:\n",
    "\n",
    "print(\"Lista: \",L)\n",
    "\n",
    "l1 = L[3:6] #copia los elementos de los indices 3,4,5 de L a l1\n",
    "print()\n",
    "print(l1)\n",
    "\n",
    "l2 = L[3:] #copia los elementos desde el indice 3 hasta el final de L\n",
    "           #a l2\n",
    "print()\n",
    "print(l2) \n",
    "\n",
    "l3 = L[:6] #copia los elementos desde el índice 0 hasta el índice 5 de L\n",
    "           #a l3\n",
    "print()\n",
    "print(l3)\n",
    "\n",
    "#formando una lista juntando bloques de otra\n",
    "aux1=L[1:5]\n",
    "aux2=L[6:]\n",
    "l4 = aux1+aux2\n",
    "print()\n",
    "print(l4)\n",
    "\n",
    "#los datos ubicados en los indices 2,3,4,5,6 son modificados:\n",
    "L[2:7]=[\"Ecuador\",2000,\"Juan\",1.80,\"Luana\"]\n",
    "print()\n",
    "print(L)"
   ]
  },
  {
   "cell_type": "code",
   "execution_count": 33,
   "metadata": {},
   "outputs": [
    {
     "name": "stdout",
     "output_type": "stream",
     "text": [
      "El tamaño de L: 8\n",
      "\n",
      "Perú\n",
      "45869\n",
      "Ecuador\n",
      "2000\n",
      "Juan\n",
      "1.8\n",
      "Luana\n",
      "78.3\n",
      "\n",
      "Perú\n",
      "45869\n",
      "Ecuador\n",
      "2000\n",
      "Juan\n",
      "1.8\n",
      "Luana\n",
      "78.3\n",
      "\n",
      "L[0] : Perú\n",
      "L[1] : 45869\n",
      "L[2] : Ecuador\n",
      "L[3] : 2000\n",
      "L[4] : Juan\n",
      "L[5] : 1.8\n",
      "L[6] : Luana\n",
      "L[7] : 78.3\n"
     ]
    }
   ],
   "source": [
    "#uso del for para mostrar elementos de una lista:\n",
    "\n",
    "tam = len(L) #retorna el tamaño de la lista L (cantidad de elementos)\n",
    "print(\"El tamaño de L:\",tam)\n",
    "\n",
    "#el for recorre los índices o posiciones de L:\n",
    "print()\n",
    "for i in range(0,tam): #para i:0,1,2,3,4,5,......tam-1\n",
    "    print(L[i])\n",
    "    \n",
    "#el for recorre directamente cada elemento de L:\n",
    "print()\n",
    "for v in L: #para v: \"Perú\",45869,\"Escuador\",......78.3\n",
    "    print(v)\n",
    "    \n",
    "\n",
    "#se puede usar la función enumarate() en el for:\n",
    "print()\n",
    "for i,v in enumerate(L): #para i: 0,1,2,..........len(L)-1\n",
    "                         #para v: \"Perú\",45869,\"Escuador\",......78.3\n",
    "    print(\"L[{}] : {}\".format(i,v))"
   ]
  },
  {
   "cell_type": "code",
   "execution_count": 40,
   "metadata": {},
   "outputs": [
    {
     "name": "stdout",
     "output_type": "stream",
     "text": [
      "['Lima', 'Arequipa', 'Tacna', 'Tumbes', 'Piura', 28996, 8242, 929, 488, 959]\n",
      "\n",
      "Lima : 28996\n",
      "Arequipa : 8242\n",
      "Tacna : 929\n",
      "Tumbes : 488\n",
      "Piura : 959\n",
      "\n",
      "Lima : 28996\n",
      "Arequipa : 8242\n",
      "Tacna : 929\n",
      "Tumbes : 488\n",
      "Piura : 959\n"
     ]
    }
   ],
   "source": [
    "#trabjando con 2 listas:\n",
    "ciudades = [\"Lima\",\"Arequipa\",\"Tacna\",\"Tumbes\",\"Piura\"]\n",
    "poblaciones = [28996,8242,929,488,959]\n",
    "\n",
    "#se forma una lista con la union de los datos de la lista ciudades\n",
    "#y la lista poblaciones\n",
    "data = ciudades+poblaciones\n",
    "print(data)\n",
    "\n",
    "#usando un for para recorrer indices y mostrar como tabla los valores\n",
    "#las listas ciudades y poblaciones:\n",
    "print()\n",
    "for i in range(0,len(ciudades)): #para i:0,1,2,.........\n",
    "    print(\"{} : {}\".format(ciudades[i],poblaciones[i]))\n",
    "        \n",
    "#se puede usar la función zip con el for:\n",
    "print()\n",
    "for c,p in zip(ciudades,poblaciones):\n",
    "    print(\"{} : {}\".format(c,p))"
   ]
  },
  {
   "cell_type": "code",
   "execution_count": 45,
   "metadata": {},
   "outputs": [
    {
     "name": "stdout",
     "output_type": "stream",
     "text": [
      "[56, 90, 'juan', 10000]\n",
      "[56, 90, 'juan', 10000, 'Perú']\n",
      "[56, 90, 'juan', 10000, 'Perú', 190]\n"
     ]
    }
   ],
   "source": [
    "#agregando datos a una lista:\n",
    "\n",
    "data = [56,90,\"juan\"]\n",
    "\n",
    "#usar la función append()para agregar datos a una lista:\n",
    "data.append(10000)\n",
    "print(data)\n",
    "data.append(\"Perú\")\n",
    "print(data)\n",
    "data.append(data[1]+100)\n",
    "print(data)"
   ]
  },
  {
   "cell_type": "code",
   "execution_count": 50,
   "metadata": {},
   "outputs": [
    {
     "name": "stdout",
     "output_type": "stream",
     "text": [
      "[]\n",
      "Tamaño de una lista vacia: 0\n",
      "[5]\n",
      "\n",
      "[5, 567]\n",
      "\n",
      "[5, 567, 67.9]\n"
     ]
    }
   ],
   "source": [
    "numeros=[] #se crea una lista vacia (no contiene ningún elemento)\n",
    "print(numeros)\n",
    "print(\"Tamaño de una lista vacia:\",len(numeros))\n",
    "\n",
    "#se agrega 5 al lista:\n",
    "numeros.append(5)\n",
    "print(numeros)\n",
    "\n",
    "#se agrega 567 al lista:\n",
    "numeros.append(567)\n",
    "print()\n",
    "print(numeros)\n",
    "\n",
    "#se agrega 67.90 al lista:\n",
    "numeros.append(67.90)\n",
    "print()\n",
    "print(numeros)"
   ]
  },
  {
   "cell_type": "code",
   "execution_count": 61,
   "metadata": {},
   "outputs": [
    {
     "name": "stdout",
     "output_type": "stream",
     "text": [
      "Ingrese tamaño de la lista: 10\n",
      "2, 3, 4, 7, 9, 9, 7, 9, 5, 8\n"
     ]
    }
   ],
   "source": [
    "#requerimiento 1:\n",
    "\n",
    "import random\n",
    "\n",
    "tam = int(input(\"Ingrese tamaño de la lista: \"))\n",
    "\n",
    "L=[] \n",
    "\n",
    "#for para poblar la lista\n",
    "for i in range(0,tam):  #i:0,1,2,3,......tam-1\n",
    "    alea=random.randint(1,9) #se genera un aleatorio en el rango [1,9]\n",
    "    L.append(alea)\n",
    "    \n",
    "#for para mostrar cada elemento de la lista\n",
    "for i in range(0,len(L)-1): #para i:0,1,2,3.....len(L)-2\n",
    "    print(\"{}, \".format(L[i]),end=\"\")\n",
    "print(L[-1])"
   ]
  },
  {
   "cell_type": "code",
   "execution_count": 66,
   "metadata": {
    "scrolled": true
   },
   "outputs": [
    {
     "name": "stdout",
     "output_type": "stream",
     "text": [
      "[17, 18, 20, 41, 55]\n",
      "\n",
      "[25, 17, 18, 20, 41, 55]\n",
      "\n",
      "[25, 17, 18, 20, 41, 10, 55]\n",
      "\n",
      "[25, 17, 18, 20, 41, 10, 55, 50]\n"
     ]
    }
   ],
   "source": [
    "#uso de a función insert()\n",
    "\n",
    "edades = [17,20,41,55]\n",
    "\n",
    "edades.insert(1,18) #inserta 18 en la posición 1\n",
    "print(edades)\n",
    "\n",
    "edades.insert(0,25) #inserta 25 en la posicion 0\n",
    "print()\n",
    "print(edades)\n",
    "\n",
    "edades.insert(-1,10) #inserta 10 en la última posición\n",
    "print()\n",
    "print(edades)\n",
    "\n",
    "edades.insert(7,50)  #inserta 50 en la posición 7\n",
    "print()\n",
    "print(edades)"
   ]
  },
  {
   "cell_type": "code",
   "execution_count": 71,
   "metadata": {},
   "outputs": [
    {
     "name": "stdout",
     "output_type": "stream",
     "text": [
      "[5, 6, 7]\n",
      "\n",
      "6\n",
      "\n",
      "7\n",
      "\n",
      "Tumbes\n"
     ]
    }
   ],
   "source": [
    "#listas como elementos de otra lista (sublistas)\n",
    "\n",
    "                      #0 1 2\n",
    "data = [34,0.6,\"Perú\",[5,6,7],\"Chile\",[\"Lima\",\"Tacna\",\"Tumbes\"]]\n",
    "\n",
    "print(data[3]) #se imprime la lista ubicada en la posición 3\n",
    "\n",
    "print()\n",
    "print(data[3][1])  #imprime el segundo elemento de la primera sublista\n",
    "                   #de data\n",
    "    \n",
    "#imprime el último elemento de la primera sublista de data:\n",
    "print()\n",
    "print(data[3][-1])\n",
    "\n",
    "#imprime el último elemento de la última sublista de data:\n",
    "print()\n",
    "print(data[-1][-1])"
   ]
  },
  {
   "cell_type": "code",
   "execution_count": 73,
   "metadata": {},
   "outputs": [
    {
     "name": "stdout",
     "output_type": "stream",
     "text": [
      "['juan', [12, 18, 19, 11], 'maria', 'luis', 'pedro']\n",
      "\n",
      "['juan', [12, 18, 19, 11], 'maria', [19, 18, 20, 19], 'luis', 'pedro']\n"
     ]
    }
   ],
   "source": [
    "#tip:\n",
    "\n",
    "alumnos = [\"juan\",\"maria\",\"luis\",\"pedro\"]\n",
    "\n",
    "#inserta una sublista en la posición 1 de la lista alumnos:\n",
    "alumnos.insert(1,[12,18,19,11])\n",
    "print(alumnos)\n",
    "\n",
    "#inserta una sublista en la posición 3 de la lista alumnos:\n",
    "alumnos.insert(3,[19,18,20,19])\n",
    "print()\n",
    "print(alumnos)"
   ]
  },
  {
   "cell_type": "code",
   "execution_count": 74,
   "metadata": {},
   "outputs": [
    {
     "name": "stdout",
     "output_type": "stream",
     "text": [
      "Promedio: 6.8\n"
     ]
    }
   ],
   "source": [
    "#tip:\n",
    "#se puede calcular la suma de los elementos de una lista usando sum()\n",
    "num = [4,6,7,8,9]\n",
    "print(\"Promedio:\",sum(num)/len(num))"
   ]
  },
  {
   "cell_type": "code",
   "execution_count": 80,
   "metadata": {},
   "outputs": [],
   "source": [
    "#OJO:\n",
    "#L = []\n",
    "\n",
    "#L[0]=1999  #al primer elemento de L lo vas a modificar por 1999\n",
    "#Error porque L no tiene datos!"
   ]
  },
  {
   "cell_type": "code",
   "execution_count": 122,
   "metadata": {},
   "outputs": [
    {
     "name": "stdout",
     "output_type": "stream",
     "text": [
      "[200]\n"
     ]
    }
   ],
   "source": [
    "#esto si se podría porque vas agregar datos a una lista vacía\n",
    "L = []\n",
    "\n",
    "L.insert(0,200)\n",
    "print(L)"
   ]
  },
  {
   "cell_type": "code",
   "execution_count": 123,
   "metadata": {},
   "outputs": [
    {
     "name": "stdout",
     "output_type": "stream",
     "text": [
      "['juan', [4, 17, 1, 0], 'María', [15, 3, 17, 3], 'Elmer', [11, 5, 13, 18], 'Luis', [11, 15, 9, 13], 'Laura', [8, 12, 5, 1]]\n",
      "\n",
      "juan : 5.50\n",
      "María : 9.50\n",
      "Elmer : 11.75\n",
      "Luis : 12.00\n",
      "Laura : 6.50\n"
     ]
    }
   ],
   "source": [
    "#requerimiento 2:\n",
    "\n",
    "alumnos = [\"juan\",\"María\",\"Elmer\",\"Luis\",\"Laura\"]\n",
    "promedios = []\n",
    "\n",
    "n = len(alumnos)\n",
    "\n",
    "for i in range(1,2*n,2):  #para i:1,3,5,7,.......2n-1\n",
    "    \n",
    "    notas=[]\n",
    "    for j in range(0,4):  #para j:0,1,2,3\n",
    "         notas.append(random.randint(0,20))\n",
    "     \n",
    "    alumnos.insert(i,notas)\n",
    "    \n",
    "    prom = sum(notas)/4.0\n",
    "    promedios.append(prom)\n",
    "    \n",
    "print(alumnos)\n",
    "    \n",
    "print()\n",
    "for i in range(0,len(promedios)): #i:0,1,2,3\n",
    "      print(\"{} : {:.2f}\".format(alumnos[2*i],promedios[i]))"
   ]
  },
  {
   "cell_type": "code",
   "execution_count": 86,
   "metadata": {},
   "outputs": [
    {
     "name": "stdout",
     "output_type": "stream",
     "text": [
      "[[0, 0, 1, 1, 0, 0, 0], [1, 1, 0, 1, 0, 1, 1], [0, 0, 0, 1, 1, 0, 1], [0, 0, 0, 0, 1, 0, 0]]\n"
     ]
    }
   ],
   "source": [
    "#creando una lista de sublistas:\n",
    "\n",
    "data=[[0,0,1,1,0,0,0],[1,1,0,1,0,1,1],[0,0,0,1,1,0,1],[0,0,0,0,1,0,0]]\n",
    "print(data)"
   ]
  },
  {
   "cell_type": "code",
   "execution_count": 87,
   "metadata": {},
   "outputs": [
    {
     "name": "stdout",
     "output_type": "stream",
     "text": [
      "0 0 1 1 0 0 0 \n",
      "1 1 0 1 0 1 1 \n",
      "0 0 0 1 1 0 1 \n",
      "0 0 0 0 1 0 0 \n"
     ]
    }
   ],
   "source": [
    "#imprimir de manera matricial:\n",
    "#0 0 1 1 0 0 0\n",
    "#1 1 0 1 0 1 1\n",
    "#0 0 0 1 1 0 1\n",
    "#0 0 0 0 1 0 0\n",
    "\n",
    "for i in range(0,len(data)):  #para i:0,1,2,3\n",
    "    for j in range(0,len(data[i])): #para j:0,1,2,3,4,5,6\n",
    "        print(data[i][j],end=\" \")\n",
    "    print()"
   ]
  },
  {
   "cell_type": "code",
   "execution_count": 89,
   "metadata": {},
   "outputs": [
    {
     "name": "stdout",
     "output_type": "stream",
     "text": [
      "[1, 4, 9, 16, 25, 36, 49]\n",
      "\n",
      "[1, 4, 9, 16, 25, 36, 49]\n"
     ]
    }
   ],
   "source": [
    "#creando lista por comprension en python:\n",
    "\n",
    "cuadrados = [1,4,9,16,25,36,49] #[1^2, 2^2, 3^2, 4^2, 5^2, 6^2, 7^2]\n",
    "\n",
    "#vamor a crear la lista por comprensión:\n",
    "cuadrados = [x**2 for x in range(1,8)]\n",
    "print(cuadrados)\n",
    "\n",
    "#sino hubiese usado la comprensión se tendria:\n",
    "cuadrados=[]\n",
    "for x in range(1,8): #para x:1,2,3,4,5,6,7\n",
    "    cuadrados.append(x**2)\n",
    "print()\n",
    "print(cuadrados)"
   ]
  },
  {
   "cell_type": "code",
   "execution_count": 124,
   "metadata": {},
   "outputs": [
    {
     "name": "stdout",
     "output_type": "stream",
     "text": [
      "[2, 4, 6, 8, 10]\n"
     ]
    }
   ],
   "source": [
    "#otro ejemplo de lista por comprensión\n",
    "\n",
    "data = [x for x in range(1,11) if(x%2==0)]\n",
    "\n",
    "print(data)"
   ]
  },
  {
   "cell_type": "code",
   "execution_count": 92,
   "metadata": {},
   "outputs": [
    {
     "name": "stdout",
     "output_type": "stream",
     "text": [
      "[0, 0, 50, 50, 0, 0, 50, 50, 0, 0, 50, 50, 0, 0, 50, 50, 0, 0, 50, 50, 0, 0, 50, 50]\n"
     ]
    }
   ],
   "source": [
    "#tip:\n",
    "#Si una lista se multiplica por un numero entero n, la lista se une consigo\n",
    "#misma n veces y se forma otra lista.\n",
    "\n",
    "d = [0,0,50,50]\n",
    "l = d*6\n",
    "print(l)\n"
   ]
  },
  {
   "cell_type": "code",
   "execution_count": 125,
   "metadata": {},
   "outputs": [
    {
     "name": "stdout",
     "output_type": "stream",
     "text": [
      "[[0, 0, 0, 0, 0, 0, 0, 0, 0, 0], [0, 0, 0, 0, 0, 0, 0, 0, 0, 0], [0, 0, 0, 0, 0, 0, 0, 0, 0, 0], [0, 0, 0, 0, 0, 0, 0, 0, 0, 0], [0, 0, 0, 0, 0, 0, 0, 0, 0, 0], [0, 0, 0, 0, 0, 0, 0, 0, 0, 0], [0, 0, 0, 0, 0, 0, 0, 0, 0, 0], [0, 0, 0, 0, 0, 0, 0, 0, 0, 0], [0, 0, 0, 0, 0, 0, 0, 0, 0, 0], [0, 0, 0, 0, 0, 0, 0, 0, 0, 0]]\n",
      "\n",
      "0 0 0 0 0 0 0 0 0 0 \n",
      "0 0 0 0 0 0 0 0 0 0 \n",
      "0 0 0 0 0 0 0 0 0 0 \n",
      "0 0 0 0 0 0 0 0 0 0 \n",
      "0 0 0 0 0 0 0 0 0 0 \n",
      "0 0 0 0 0 0 0 0 0 0 \n",
      "0 0 0 0 0 0 0 0 0 0 \n",
      "0 0 0 0 0 0 0 0 0 0 \n",
      "0 0 0 0 0 0 0 0 0 0 \n",
      "0 0 0 0 0 0 0 0 0 0 \n"
     ]
    }
   ],
   "source": [
    "#otro ejemplo de crear una lista por comprensión:\n",
    "\n",
    "data = [10*[0] for i in range(1,11)]\n",
    "print(data)\n",
    "\n",
    "#mostrando data de manera matricial\n",
    "print()\n",
    "for i in range(0,len(data)):  #para i:0,1,2,3\n",
    "    for j in range(0,len(data[i])): #para j:0,1,2,3,4,5,6\n",
    "        print(data[i][j],end=\" \")\n",
    "    print()"
   ]
  },
  {
   "cell_type": "code",
   "execution_count": 95,
   "metadata": {},
   "outputs": [
    {
     "data": {
      "text/plain": [
       "['__add__',\n",
       " '__class__',\n",
       " '__contains__',\n",
       " '__delattr__',\n",
       " '__delitem__',\n",
       " '__dir__',\n",
       " '__doc__',\n",
       " '__eq__',\n",
       " '__format__',\n",
       " '__ge__',\n",
       " '__getattribute__',\n",
       " '__getitem__',\n",
       " '__gt__',\n",
       " '__hash__',\n",
       " '__iadd__',\n",
       " '__imul__',\n",
       " '__init__',\n",
       " '__init_subclass__',\n",
       " '__iter__',\n",
       " '__le__',\n",
       " '__len__',\n",
       " '__lt__',\n",
       " '__mul__',\n",
       " '__ne__',\n",
       " '__new__',\n",
       " '__reduce__',\n",
       " '__reduce_ex__',\n",
       " '__repr__',\n",
       " '__reversed__',\n",
       " '__rmul__',\n",
       " '__setattr__',\n",
       " '__setitem__',\n",
       " '__sizeof__',\n",
       " '__str__',\n",
       " '__subclasshook__',\n",
       " 'append',\n",
       " 'clear',\n",
       " 'copy',\n",
       " 'count',\n",
       " 'extend',\n",
       " 'index',\n",
       " 'insert',\n",
       " 'pop',\n",
       " 'remove',\n",
       " 'reverse',\n",
       " 'sort']"
      ]
     },
     "execution_count": 95,
     "metadata": {},
     "output_type": "execute_result"
    }
   ],
   "source": [
    "#funciones que se puden usar con una lista:\n",
    "dir(data)"
   ]
  },
  {
   "cell_type": "code",
   "execution_count": 127,
   "metadata": {
    "scrolled": true
   },
   "outputs": [
    {
     "name": "stdout",
     "output_type": "stream",
     "text": [
      "3\n",
      "1\n",
      "0\n",
      "\n",
      "4\n",
      "\n",
      "0\n",
      "\n",
      "[6, 7, 8, 9, 10, 45, 8, 10]\n",
      "\n",
      "[6, 7, 8, 9, 45, 8, 10]\n",
      "\n",
      "[10, 8, 45, 9, 8, 7, 6]\n",
      "\n",
      "[6, 7, 8, 8, 9, 10, 45]\n",
      "\n",
      "[45, 10, 9, 8, 8, 7, 6]\n"
     ]
    }
   ],
   "source": [
    "#aplicacion de algunas funciones:\n",
    "\n",
    "L = [6,7,8,9,10,45,8,8,10]\n",
    "\n",
    "#cuenta la cantidad de veces que un valor aparece en la lista L:\n",
    "print(L.count(8))\n",
    "print(L.count(45))\n",
    "print(L.count(8.5))\n",
    "\n",
    "#busca la posición de un valor en la lista L:\n",
    "p = L.index(10)\n",
    "print()\n",
    "print(p)\n",
    "\n",
    "p = L.index(6)\n",
    "print()\n",
    "print(p)\n",
    "\n",
    "#saldrá error, porque -6 no está en la lista L\n",
    "#p = L.index(-6)\n",
    "#print()\n",
    "#print(p)\n",
    "\n",
    "#elimina un valor de la lista L, de acuerdo a su posición\n",
    "L.pop(7)\n",
    "print()\n",
    "print(L)\n",
    "\n",
    "#en caso la posición este fuera del rango de la lista L, sale error\n",
    "#L.pop(70)\n",
    "#print(L)\n",
    "\n",
    "#elimina un valor de la lista L, si es que es econtrado\n",
    "L.remove(10)\n",
    "print()\n",
    "print(L)\n",
    "\n",
    "#en caso el valor no es encontrado sale error\n",
    "#L.remove(-10)\n",
    "#print()\n",
    "#print(L)\n",
    "\n",
    "#invierte los elementos de la lista L\n",
    "L.reverse()\n",
    "print()\n",
    "print(L)\n",
    "\n",
    "#ordena de manera ascendente los elementos de la lista L\n",
    "L.sort()\n",
    "print()\n",
    "print(L)\n",
    "\n",
    "#ordena de manera descendente los elementos de la lista L\n",
    "L.sort(reverse=True)\n",
    "print()\n",
    "print(L)"
   ]
  },
  {
   "cell_type": "code",
   "execution_count": 111,
   "metadata": {},
   "outputs": [
    {
     "name": "stdout",
     "output_type": "stream",
     "text": [
      "\n",
      "Welcome to Python 3.7's help utility!\n",
      "\n",
      "If this is your first time using Python, you should definitely check out\n",
      "the tutorial on the Internet at https://docs.python.org/3.7/tutorial/.\n",
      "\n",
      "Enter the name of any module, keyword, or topic to get help on writing\n",
      "Python programs and using Python modules.  To quit this help utility and\n",
      "return to the interpreter, just type \"quit\".\n",
      "\n",
      "To get a list of available modules, keywords, symbols, or topics, type\n",
      "\"modules\", \"keywords\", \"symbols\", or \"topics\".  Each module also comes\n",
      "with a one-line summary of what it does; to list the modules whose name\n",
      "or summary contain a given string such as \"spam\", type \"modules spam\".\n",
      "\n",
      "help> sort\n",
      "No Python documentation found for 'sort'.\n",
      "Use help() to get the interactive help utility.\n",
      "Use help(str) for help on the str class.\n",
      "\n",
      "help> list.sort\n",
      "Help on method_descriptor in list:\n",
      "\n",
      "list.sort = sort(self, /, *, key=None, reverse=False)\n",
      "    Stable sort *IN PLACE*.\n",
      "\n",
      "help> q\n",
      "\n",
      "You are now leaving help and returning to the Python interpreter.\n",
      "If you want to ask for help on a particular object directly from the\n",
      "interpreter, you can type \"help(object)\".  Executing \"help('string')\"\n",
      "has the same effect as typing a particular string at the help> prompt.\n"
     ]
    }
   ],
   "source": [
    "#aplicando la ayuda para sort()\n",
    "help()"
   ]
  },
  {
   "cell_type": "code",
   "execution_count": null,
   "metadata": {},
   "outputs": [],
   "source": []
  }
 ],
 "metadata": {
  "kernelspec": {
   "display_name": "Python 3",
   "language": "python",
   "name": "python3"
  },
  "language_info": {
   "codemirror_mode": {
    "name": "ipython",
    "version": 3
   },
   "file_extension": ".py",
   "mimetype": "text/x-python",
   "name": "python",
   "nbconvert_exporter": "python",
   "pygments_lexer": "ipython3",
   "version": "3.7.6"
  }
 },
 "nbformat": 4,
 "nbformat_minor": 4
}
