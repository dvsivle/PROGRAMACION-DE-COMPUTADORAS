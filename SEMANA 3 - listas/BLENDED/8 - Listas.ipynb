{
 "cells": [
  {
   "cell_type": "markdown",
   "metadata": {},
   "source": [
    "# Listas"
   ]
  },
  {
   "cell_type": "markdown",
   "metadata": {},
   "source": [
    "Un lista es un tipo de datos semejante a una tupla: una agrupación de datos bajo una sola variable, donde los datos pueden ser de distintos tipos y cada uno es identificado por un índice."
   ]
  },
  {
   "cell_type": "code",
   "execution_count": 1,
   "metadata": {},
   "outputs": [
    {
     "name": "stdout",
     "output_type": "stream",
     "text": [
      "[1, 2, 3, 4, 5]\n",
      "[1, 2, 3, 4]\n",
      "[10]\n",
      "[]\n",
      "<class 'list'>\n"
     ]
    }
   ],
   "source": [
    "# Para crear una lista se indica con [ ]\n",
    "lista1 = [1, 2, 3, 4, 5]\n",
    "# Se puede convertir una tupla en una lista\n",
    "lista2 = list((1, 2, 3, 4, 5))\n",
    "# Se puede crear una lista de un solo valor\n",
    "lista3 = [10]\n",
    "# Inclusive se puede crear una lista vacia\n",
    "lista4 = []\n",
    "lista2.pop()\n",
    "print(lista1)\n",
    "print(lista2)\n",
    "print(lista3)\n",
    "print(lista4)\n",
    "\n",
    "print(type(lista1))"
   ]
  },
  {
   "cell_type": "markdown",
   "metadata": {},
   "source": [
    "Una lista, a diferencia de una tupla, es un tipo de dato \"*mutable*\"."
   ]
  },
  {
   "cell_type": "code",
   "execution_count": 2,
   "metadata": {},
   "outputs": [
    {
     "name": "stdout",
     "output_type": "stream",
     "text": [
      "[1, 2, 3, 4, 5]\n",
      "[100, 2, 3, 4, 5]\n"
     ]
    }
   ],
   "source": [
    "print(lista1)\n",
    "lista1[0] = 100\n",
    "print(lista1)"
   ]
  },
  {
   "cell_type": "markdown",
   "metadata": {},
   "source": [
    "Al igual que en una tupla, los elementos de una tupla se especifican con un índice:"
   ]
  },
  {
   "cell_type": "code",
   "execution_count": 3,
   "metadata": {},
   "outputs": [
    {
     "name": "stdout",
     "output_type": "stream",
     "text": [
      "Primer valor de la lista: 100\n",
      "Ultimo valor de la lista: 5\n"
     ]
    }
   ],
   "source": [
    "print(\"Primer valor de la lista:\", lista1[0])\n",
    "print(\"Ultimo valor de la lista:\", lista1[-1])"
   ]
  },
  {
   "cell_type": "markdown",
   "metadata": {},
   "source": [
    "Y al igual que una tupla, una lista es un *iterable*"
   ]
  },
  {
   "cell_type": "code",
   "execution_count": 4,
   "metadata": {},
   "outputs": [
    {
     "name": "stdout",
     "output_type": "stream",
     "text": [
      "10\n",
      "20\n",
      "30\n",
      "40\n",
      "50\n"
     ]
    }
   ],
   "source": [
    "lista1 = [10, 20, 30, 40, 50]\n",
    "for i in range(len(lista1)):\n",
    "    print(lista1[i])"
   ]
  },
  {
   "cell_type": "code",
   "execution_count": 5,
   "metadata": {},
   "outputs": [
    {
     "name": "stdout",
     "output_type": "stream",
     "text": [
      "10\n",
      "20\n",
      "30\n",
      "40\n",
      "50\n"
     ]
    }
   ],
   "source": [
    "for num in lista1:\n",
    "    print(num)"
   ]
  },
  {
   "cell_type": "code",
   "execution_count": 6,
   "metadata": {},
   "outputs": [
    {
     "name": "stdout",
     "output_type": "stream",
     "text": [
      "Indice: 0 \tValor: 10\n",
      "Indice: 1 \tValor: 20\n",
      "Indice: 2 \tValor: 30\n",
      "Indice: 3 \tValor: 40\n",
      "Indice: 4 \tValor: 50\n"
     ]
    }
   ],
   "source": [
    "for i, v in enumerate([10, 20, 30, 40, 50]):\n",
    "    print(\"Indice:\", i, \"\\tValor:\", v)"
   ]
  },
  {
   "cell_type": "markdown",
   "metadata": {},
   "source": [
    "Una lista puede contener también datos de diferentes tipos:"
   ]
  },
  {
   "cell_type": "code",
   "execution_count": 7,
   "metadata": {},
   "outputs": [
    {
     "name": "stdout",
     "output_type": "stream",
     "text": [
      "100\n",
      "3.1415\n",
      "Nombre\n"
     ]
    }
   ],
   "source": [
    "lista = [100, 3.1415, 'Nombre']\n",
    "for data in lista:\n",
    "    print(data)"
   ]
  },
  {
   "cell_type": "markdown",
   "metadata": {},
   "source": [
    "Pero el número de funciones disponibles en una lista (por el hecho de ser mutable) es más amplio:"
   ]
  },
  {
   "cell_type": "code",
   "execution_count": 8,
   "metadata": {},
   "outputs": [
    {
     "data": {
      "text/plain": [
       "['__add__',\n",
       " '__class__',\n",
       " '__contains__',\n",
       " '__delattr__',\n",
       " '__delitem__',\n",
       " '__dir__',\n",
       " '__doc__',\n",
       " '__eq__',\n",
       " '__format__',\n",
       " '__ge__',\n",
       " '__getattribute__',\n",
       " '__getitem__',\n",
       " '__gt__',\n",
       " '__hash__',\n",
       " '__iadd__',\n",
       " '__imul__',\n",
       " '__init__',\n",
       " '__init_subclass__',\n",
       " '__iter__',\n",
       " '__le__',\n",
       " '__len__',\n",
       " '__lt__',\n",
       " '__mul__',\n",
       " '__ne__',\n",
       " '__new__',\n",
       " '__reduce__',\n",
       " '__reduce_ex__',\n",
       " '__repr__',\n",
       " '__reversed__',\n",
       " '__rmul__',\n",
       " '__setattr__',\n",
       " '__setitem__',\n",
       " '__sizeof__',\n",
       " '__str__',\n",
       " '__subclasshook__',\n",
       " 'append',\n",
       " 'clear',\n",
       " 'copy',\n",
       " 'count',\n",
       " 'extend',\n",
       " 'index',\n",
       " 'insert',\n",
       " 'pop',\n",
       " 'remove',\n",
       " 'reverse',\n",
       " 'sort']"
      ]
     },
     "execution_count": 8,
     "metadata": {},
     "output_type": "execute_result"
    }
   ],
   "source": [
    "lista = [1, 2, 3]\n",
    "dir(lista)"
   ]
  },
  {
   "cell_type": "markdown",
   "metadata": {},
   "source": [
    "Como se observa se tiene:\n",
    "\n",
    "    append(data)     -> Agrega al final de una lista un dato\n",
    "    clear()          -> Borra los elementos de una lista\n",
    "    copy()           -> Copia una lista en otra\n",
    "    count(val)       -> Cuenta cuantos valores val hay en una lista\n",
    "    extend(iterable) -> Agrega un iterable a una lista (varios valores en lugar de append que agrega solo uno)\n",
    "    index(val)       -> Retorna el indice donde se encuentra un valor\n",
    "    insert(index,obj)-> Inserta un objeto a partir de un índice en una lista\n",
    "    pop(index)       -> Retorna el valor de un indice y lo elimina de una lista\n",
    "    remove(val)      -> Elimina un valor de una lista\n",
    "    reverse()        -> Invierte el orden de los elementos de una lista\n",
    "    sort()           -> Ordena los elementos de una lista de menor a mayor"
   ]
  },
  {
   "cell_type": "code",
   "execution_count": 9,
   "metadata": {},
   "outputs": [
    {
     "name": "stdout",
     "output_type": "stream",
     "text": [
      "[]\n",
      "[10]\n",
      "[10, 20, 30, 40]\n",
      "[10, 20, 30, 40, 12, 14, 16]\n",
      "[10, 20, 30, 40, 12, 14, 16, 10, 20, 30, 40, 12, 14, 16]\n",
      "Veces que hay 20?: 2\n",
      "Donde se encuentra el valor 16: 6\n",
      "[1, 10, 20, 30, 40, 12, 14, 16, 10, 20, 30, 40, 12, 14, 16]\n",
      "[1, 10, 20, 30, 40, 12, 14, 16, 10, 20, 30, 40, 12, 14]\n",
      "Dato extraido: 16\n",
      "[1, 10, 20, 40, 12, 14, 16, 10, 20, 30, 40, 12, 14]\n",
      "Dato extraido en el indice 3: 30\n",
      "[1, 20, 40, 12, 14, 16, 10, 20, 30, 40, 12, 14]\n",
      "[14, 12, 40, 30, 20, 10, 16, 14, 12, 40, 20, 1]\n",
      "[1, 10, 12, 12, 14, 14, 16, 20, 20, 30, 40, 40]\n",
      "[40, 40, 30, 20, 20, 16, 14, 14, 12, 12, 10, 1]\n",
      "[]\n"
     ]
    }
   ],
   "source": [
    "# Se crea una lista vacia\n",
    "lista = []\n",
    "print(lista)\n",
    "# Se agrega un elemento al final de una lista\n",
    "lista.append(10)\n",
    "print(lista)\n",
    "# Se agrega una lista al final de una lista\n",
    "lista.extend([20, 30, 40])\n",
    "print(lista)\n",
    "# Esto tambien se puede hacer con el operador '+'\n",
    "lista = lista + [12, 14, 16]\n",
    "print(lista)\n",
    "# Y se puede duplicar una lista con un operador '*'\n",
    "lista = lista * 2\n",
    "print(lista)\n",
    "# Cuantos veces esta presente el valor 20?\n",
    "print(\"Veces que hay 20?:\", lista.count(20))\n",
    "# En que indice se encuentra un dato\n",
    "print(\"Donde se encuentra el valor 16:\", lista.index(16))\n",
    "# Se puede insertar un dato en un indice (1 en el indice 0)\n",
    "lista.insert(0, 1)\n",
    "print(lista)\n",
    "# Se puede extraer y eliminar el ultimo valor de una lista\n",
    "val = lista.pop()\n",
    "print(lista)\n",
    "print(\"Dato extraido:\", val)\n",
    "# Se puede extraer y eliminar un dato en cualquier indice\n",
    "val = lista.pop(3)\n",
    "print(lista)\n",
    "print(\"Dato extraido en el indice 3:\", val)# Se puede eliminar un dato de una lista (si hay varios datos iguales, elimina el primero)\n",
    "lista.remove(10)\n",
    "print(lista)\n",
    "# Se puede invertr el orden de los elementos de una lista\n",
    "lista.reverse()\n",
    "print(lista)\n",
    "# Se pueden ordenar los elementos en orden ascendente\n",
    "lista.sort()\n",
    "print(lista)\n",
    "# O ordenas de forma descendente\n",
    "lista.sort(reverse=True)\n",
    "print(lista)\n",
    "# Y se puede eliminar todos los elementos de una lista\n",
    "lista.clear()\n",
    "print(lista)"
   ]
  },
  {
   "cell_type": "markdown",
   "metadata": {},
   "source": [
    "Las listas tienen una característica particular: cuando se copia una lista, lo que se genera no es una nueva lista sino que se asocian dos listas:"
   ]
  },
  {
   "cell_type": "code",
   "execution_count": 3,
   "metadata": {},
   "outputs": [
    {
     "name": "stdout",
     "output_type": "stream",
     "text": [
      "[10, [2], 3, 4, 5]\n",
      "[10, [2], 3, 4, 5]\n"
     ]
    }
   ],
   "source": [
    "# Se crea una lista\n",
    "lista1 = [1, [2], 3, 4, 5]\n",
    "# Se copia esta lista en otra\n",
    "lista2 = lista1\n",
    "# Se modifica el primer valor de la lista1\n",
    "lista1[0] = 10\n",
    "# Se imprime la lista1\n",
    "print(lista1)\n",
    "# Se imprime la lista2\n",
    "print(lista2)"
   ]
  },
  {
   "cell_type": "markdown",
   "metadata": {},
   "source": [
    "Aunque solo se cambio el primer elemento de la lista1, el primer elemento de la lista2 también ha sido modificado. Esto porque al copiar una lista es otra ambas son lo mismo. La función *id()* retorna el número de identificación de una variable en el sistema."
   ]
  },
  {
   "cell_type": "code",
   "execution_count": 11,
   "metadata": {},
   "outputs": [
    {
     "name": "stdout",
     "output_type": "stream",
     "text": [
      "ID de lista1 = 3174623845064\n",
      "ID de lista2 = 3174623845064\n"
     ]
    }
   ],
   "source": [
    "print(\"ID de lista1 =\",id(lista1))\n",
    "print(\"ID de lista2 =\",id(lista2))"
   ]
  },
  {
   "cell_type": "markdown",
   "metadata": {},
   "source": [
    "Esta conducta se puede evitar creando una nueva lista a partir de lista1 y copiarla a lista2, utilizando la función *list* "
   ]
  },
  {
   "cell_type": "code",
   "execution_count": 4,
   "metadata": {},
   "outputs": [
    {
     "name": "stdout",
     "output_type": "stream",
     "text": [
      "[10, [2], 3, 4, 5]\n",
      "[1, 14, 3, 4, 5]\n",
      "ID de lista1 = 2242297338632\n",
      "ID de lista2 = 2242297396552\n"
     ]
    }
   ],
   "source": [
    "# Se crea una lista\n",
    "lista1 = [1, [2], 3, 4, 5]\n",
    "# Se copia esta lista en otra\n",
    "lista2 = list(lista1)\n",
    "# Se modifica el primer valor de la lista1\n",
    "lista1[0] = 10\n",
    "lista2[1] = 14\n",
    "# Se imprime la lista1\n",
    "print(lista1)\n",
    "# Se imprime la lista2\n",
    "print(lista2)\n",
    "\n",
    "print(\"ID de lista1 =\",id(lista1))\n",
    "print(\"ID de lista2 =\",id(lista2))"
   ]
  },
  {
   "cell_type": "markdown",
   "metadata": {},
   "source": [
    "## Lista de listas\n",
    "Se puede utilizar la funcion insert() para insertar un valor en una lista en un índice determinado:\n",
    "\n",
    "    index = 10\n",
    "    val = 100\n",
    "    lista.insert(index, val)\n",
    "    \n",
    "Sin embargo, tambien se puede insertar una lista dentro de una lista:"
   ]
  },
  {
   "cell_type": "code",
   "execution_count": 13,
   "metadata": {},
   "outputs": [
    {
     "name": "stdout",
     "output_type": "stream",
     "text": [
      "[1, 2, 3, [1, 2, 3]]\n"
     ]
    }
   ],
   "source": [
    "lista = [1, 2, 3]\n",
    "lista.insert(3, [1, 2, 3])\n",
    "print(lista)"
   ]
  },
  {
   "cell_type": "markdown",
   "metadata": {},
   "source": [
    "Esto tambien se puede hacer manualmente:"
   ]
  },
  {
   "cell_type": "code",
   "execution_count": 2,
   "metadata": {},
   "outputs": [
    {
     "name": "stdout",
     "output_type": "stream",
     "text": [
      "[[1, 2, 3], [4, 5, 6], [7, 8, 9]]\n"
     ]
    }
   ],
   "source": [
    "lista = [[1, 2, 3],\n",
    "         [4, 5, 6],\n",
    "         [7, 8, 9]]\n",
    "print(lista)"
   ]
  },
  {
   "cell_type": "markdown",
   "metadata": {},
   "source": [
    "En este caso los índices de cada dado son anidados:"
   ]
  },
  {
   "cell_type": "code",
   "execution_count": 3,
   "metadata": {},
   "outputs": [
    {
     "name": "stdout",
     "output_type": "stream",
     "text": [
      "Lista: [[1, 2, 3], [4, 5, 6], [7, 8, 9]]\n",
      "Segundo dato en lista: [4, 5, 6]\n",
      "Primer dato en el segundo dato de lista: 4\n"
     ]
    }
   ],
   "source": [
    "print(\"Lista:\", lista)\n",
    "print(\"Segundo dato en lista:\", lista[1])\n",
    "print(\"Primer dato en el segundo dato de lista:\", lista[1][0])"
   ]
  },
  {
   "cell_type": "markdown",
   "metadata": {},
   "source": [
    "Esto permite construír listas dentro de listas para formar estructuras n-dimensionales. Por ejemplo, *lista* es un arreglo matricial de 3 x 3."
   ]
  },
  {
   "cell_type": "code",
   "execution_count": 4,
   "metadata": {},
   "outputs": [
    {
     "name": "stdout",
     "output_type": "stream",
     "text": [
      "1 2 3\n",
      "4 5 6\n",
      "7 8 9\n"
     ]
    }
   ],
   "source": [
    "lista = [[1, 2, 3], [4, 5, 6], [7, 8, 9]]\n",
    "print(\"{} {} {}\".format(lista[0][0], lista[0][1], lista[0][2]))\n",
    "print(\"{} {} {}\".format(lista[1][0], lista[1][1], lista[1][2]))\n",
    "print(\"{} {} {}\".format(lista[2][0], lista[2][1], lista[2][2]))"
   ]
  },
  {
   "cell_type": "markdown",
   "metadata": {},
   "source": [
    "Esto se puede reducir utilizando lazos anidados:"
   ]
  },
  {
   "cell_type": "code",
   "execution_count": 7,
   "metadata": {},
   "outputs": [
    {
     "name": "stdout",
     "output_type": "stream",
     "text": [
      "1 2 3 \n",
      "4 5 6 \n",
      "7 8 9 \n"
     ]
    }
   ],
   "source": [
    "for m in range(3):\n",
    "    for n in range(3):\n",
    "        print(lista[m][n],'',end='')\n",
    "    print()"
   ]
  },
  {
   "cell_type": "markdown",
   "metadata": {},
   "source": [
    "## Listas por comprensión\n",
    "La función *range()* permte generar una secuencia de números que pueden ser convertidos en una lista con la función *list()*. Sin embargo, la capacidad de la función range() es bastante limitada a una secuencia simple. Por ejemplo, si se quiere crear una lista con los valores de todos los numeros de 1 a 20 elevados al cuadrado, se necesita crear la lista utilizando un lazo: "
   ]
  },
  {
   "cell_type": "code",
   "execution_count": 18,
   "metadata": {},
   "outputs": [
    {
     "name": "stdout",
     "output_type": "stream",
     "text": [
      "[1, 4, 9, 16, 25, 36, 49, 64, 81, 100, 121, 144, 169, 196, 225, 256, 289, 324, 361, 400]\n"
     ]
    }
   ],
   "source": [
    "lista = []\n",
    "for i in range(1,21):\n",
    "    lista.append(i**2)\n",
    "    \n",
    "print(lista)"
   ]
  },
  {
   "cell_type": "markdown",
   "metadata": {},
   "source": [
    "Python tiene una forma más eficiente de realizar utilizando *listas por comprensión*. La definición de este tipo de listas incluye una instrucción que contiene toda la lógica de un lazo for en un orden diferente:"
   ]
  },
  {
   "cell_type": "code",
   "execution_count": 19,
   "metadata": {},
   "outputs": [
    {
     "name": "stdout",
     "output_type": "stream",
     "text": [
      "[1, 4, 9, 16, 25, 36, 49, 64, 81, 100, 121, 144, 169, 196, 225, 256, 289, 324, 361, 400]\n"
     ]
    }
   ],
   "source": [
    "lista = [num**2 for num in range(1,21)]\n",
    "print(lista)"
   ]
  },
  {
   "cell_type": "markdown",
   "metadata": {},
   "source": [
    "Inclusive, una lista por comprensión puede contener una contrucción más compleja, como generar una lista de los cuadrados del rango numérico 1-20 que sean pares:"
   ]
  },
  {
   "cell_type": "code",
   "execution_count": 20,
   "metadata": {},
   "outputs": [
    {
     "name": "stdout",
     "output_type": "stream",
     "text": [
      "[4, 16, 36, 64, 100, 144, 196, 256, 324, 400]\n"
     ]
    }
   ],
   "source": [
    "lista = []\n",
    "for i in range(1,21):\n",
    "    val = i**2\n",
    "    if val % 2 == 0:\n",
    "        lista.append(i**2)\n",
    "    \n",
    "print(lista)"
   ]
  },
  {
   "cell_type": "code",
   "execution_count": 21,
   "metadata": {},
   "outputs": [
    {
     "name": "stdout",
     "output_type": "stream",
     "text": [
      "[4, 16, 36, 64, 100, 144, 196, 256, 324, 400]\n"
     ]
    }
   ],
   "source": [
    "lista = [num**2 for num in range(1,21) if num % 2 == 0]\n",
    "print(lista)"
   ]
  },
  {
   "cell_type": "markdown",
   "metadata": {},
   "source": [
    "Utilizando listas por comprensión se pueden crear conversiones de listas de forma compacta e inclusive filtrar valores:"
   ]
  },
  {
   "cell_type": "code",
   "execution_count": 8,
   "metadata": {},
   "outputs": [
    {
     "name": "stdout",
     "output_type": "stream",
     "text": [
      "         Celcius   Fahrenheit\n",
      "         ========  ==========\n",
      "Dia  1 : 22.00 °C    44.22 F\n",
      "Dia  2 : 26.00 °C    46.44 F\n",
      "Dia  3 : 28.00 °C    47.56 F\n",
      "Dia  4 : 26.00 °C    46.44 F\n",
      "Dia  5 : 27.00 °C    47.00 F\n",
      "Dia  6 : 29.00 °C    48.11 F\n",
      "Dia  7 : 28.00 °C    47.56 F\n",
      "Dia  8 : 30.00 °C    48.67 F\n",
      "Dia  9 : 31.00 °C    49.22 F\n",
      "Dia 10 : 29.00 °C    48.11 F\n",
      "Dia 11 : 31.00 °C    49.22 F\n",
      "Dia 12 : 27.00 °C    47.00 F\n",
      "Dia 13 : 26.00 °C    46.44 F\n",
      "\n",
      "Dias mas calurosos:\n",
      "  - Dia 9\n",
      "  - Dia 11\n"
     ]
    }
   ],
   "source": [
    "# Listado de temperaturas en grados centigrados\n",
    "temperaturas_C = [22, 26, 28, 26, 27, 29, 28, 30, 31, 29, 31, 27, 26]\n",
    "\n",
    "# Listado de temperaturas en grados Fahrenheit\n",
    "temperaturas_F = [5/9 * C + 32 for C in temperaturas_C]\n",
    "\n",
    "# zip() extrae los elementos de n listas y las guarda en n variables\n",
    "print(\"         Celcius   Fahrenheit\")\n",
    "print(\"         ========  ==========\")\n",
    "i = 1\n",
    "for tempC, tempF in zip(temperaturas_C, temperaturas_F):\n",
    "    print(\"Dia {:2} : {:.2f} °C    {:.2f} F\".format(i, tempC, tempF))\n",
    "    i += 1\n",
    "\n",
    "# Se crea una lista con los indices de las temperaturas mayores y se actualiza a numeros de dias (index=0 es igual a dia=1)\n",
    "dias_temp_max = [i+1 for i, temp in enumerate(temperaturas_C) if temp >= max(temperaturas_C)]\n",
    "print(\"\\nDias mas calurosos:\")\n",
    "for dia in dias_temp_max:\n",
    "    print(\"  - Dia\", dia)\n"
   ]
  },
  {
   "cell_type": "markdown",
   "metadata": {},
   "source": [
    "El uso de listas por compresión en un buen ejemplo de un código breve, conciso, compacto: en resumen, un código \"pythonico\""
   ]
  }
 ],
 "metadata": {
  "kernelspec": {
   "display_name": "Python 3",
   "language": "python",
   "name": "python3"
  },
  "language_info": {
   "codemirror_mode": {
    "name": "ipython",
    "version": 3
   },
   "file_extension": ".py",
   "mimetype": "text/x-python",
   "name": "python",
   "nbconvert_exporter": "python",
   "pygments_lexer": "ipython3",
   "version": "3.7.6"
  }
 },
 "nbformat": 4,
 "nbformat_minor": 2
}
