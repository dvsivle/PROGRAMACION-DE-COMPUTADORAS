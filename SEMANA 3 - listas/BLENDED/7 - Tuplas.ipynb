{
 "cells": [
  {
   "cell_type": "markdown",
   "metadata": {},
   "source": [
    "# Tuplas"
   ]
  },
  {
   "cell_type": "markdown",
   "metadata": {},
   "source": [
    "Una tupla es un tipo de datos de Python que permite almacenar varios valores. Hay varias formas de crear una tupla:"
   ]
  },
  {
   "cell_type": "code",
   "execution_count": 2,
   "metadata": {},
   "outputs": [
    {
     "name": "stdout",
     "output_type": "stream",
     "text": [
      "(0, 1, 2, 3, 4)\n",
      "(0, 1, 2, 3, 4)\n",
      "(0, 1, 2, 3, 4)\n"
     ]
    },
    {
     "data": {
      "text/plain": [
       "tuple"
      ]
     },
     "execution_count": 2,
     "metadata": {},
     "output_type": "execute_result"
    }
   ],
   "source": [
    "# Se definen diferentes tuplas\n",
    "tupla1 = 0, 1, 2, 3, 4\n",
    "tupla2 = (0, 1, 2, 3, 4)\n",
    "tupla3 = tuple(range(0,5))\n",
    "# Se imprimen las tuplas\n",
    "print(tupla1)\n",
    "print(tupla2)\n",
    "print(tupla3)\n",
    "# De que tipo de datos es la variable \"tupla1\"?\n",
    "type(tupla1)"
   ]
  },
  {
   "cell_type": "markdown",
   "metadata": {},
   "source": [
    "Dato curioso: ¿como hacer una tupla de un solo elemento?\n",
    "\n",
    "    t = 1    -> Esto es una variable int\n",
    "    t = (1)  -> Esto sigue siendo una variable int\n",
    "    \n",
    "Se puede hacer esto con una sintaxis que puede parecer un error:"
   ]
  },
  {
   "cell_type": "code",
   "execution_count": 1,
   "metadata": {},
   "outputs": [
    {
     "data": {
      "text/plain": [
       "tuple"
      ]
     },
     "execution_count": 1,
     "metadata": {},
     "output_type": "execute_result"
    }
   ],
   "source": [
    "tupla4 = (1,)\n",
    "type(tupla4)"
   ]
  },
  {
   "cell_type": "markdown",
   "metadata": {},
   "source": [
    "La ',' adicional al final indica que ese dato es una tupla y no un valor entero."
   ]
  },
  {
   "cell_type": "markdown",
   "metadata": {},
   "source": [
    "Para acceder a los datos de una tupla se utiliza el *índice* que indica la posición de cada dato. El indice inicia con cero, por lo que:\n",
    "\n",
    "    tupla = (10, 20, 30)\n",
    "    tupla[0] -> 10\n",
    "    tupla[1] -> 20\n",
    "    tupla[2] -> 30\n",
    "    \n",
    "Los índices pueden ser negativos. El índice -1 indica el último valor, el -2, en penúltimo, etc.\n",
    "\n",
    "    tupla[-1] -> 30\n",
    "    tupla[-2] -> 20\n",
    "    tupla[-1] -> 10\n",
    "    \n",
    "Por ejemplo, se pueden imprimir los datos de un tupla utilizando un lazo for que controle los índices:"
   ]
  },
  {
   "cell_type": "code",
   "execution_count": 3,
   "metadata": {
    "scrolled": true
   },
   "outputs": [
    {
     "name": "stdout",
     "output_type": "stream",
     "text": [
      "10\n",
      "20\n",
      "30\n",
      "40\n",
      "50\n"
     ]
    }
   ],
   "source": [
    "tupla1 = 10, 20, 30, 40, 50\n",
    "for i in range(len(tupla1)):\n",
    "    print(tupla1[i])"
   ]
  },
  {
   "cell_type": "markdown",
   "metadata": {},
   "source": [
    "La funcion *len()* retorna el número de datos de un iterable (en este caso, de una tupla).\n",
    "\n",
    "Sin embargo, una tupla es un *iterable*, por lo que puede ser parte de un for de forma directa:"
   ]
  },
  {
   "cell_type": "code",
   "execution_count": 4,
   "metadata": {
    "scrolled": true
   },
   "outputs": [
    {
     "name": "stdout",
     "output_type": "stream",
     "text": [
      "10\n",
      "20\n",
      "30\n",
      "40\n",
      "50\n"
     ]
    }
   ],
   "source": [
    "for num in tupla1:\n",
    "    print(num)"
   ]
  },
  {
   "cell_type": "markdown",
   "metadata": {},
   "source": [
    "Para imprimir tanto los índices como los datos se puede utilizar la funcion *enumerate()* que por cada elemento de un iterable, extrae el índice y el dato en si, en dos variables (a esto se le llama desempaquetado de un iterable)."
   ]
  },
  {
   "cell_type": "code",
   "execution_count": 5,
   "metadata": {
    "scrolled": true
   },
   "outputs": [
    {
     "name": "stdout",
     "output_type": "stream",
     "text": [
      "indice = 0 \tvalor = 10\n",
      "indice = 1 \tvalor = 20\n",
      "indice = 2 \tvalor = 30\n",
      "indice = 3 \tvalor = 40\n",
      "indice = 4 \tvalor = 50\n"
     ]
    }
   ],
   "source": [
    "for i, v in enumerate(tupla1):\n",
    "    print(\"indice =\", i,\"\\tvalor =\",v)"
   ]
  },
  {
   "cell_type": "markdown",
   "metadata": {},
   "source": [
    "Una tupla es \"*inmutable*\", esto quiere decir que no puede cambiar:"
   ]
  },
  {
   "cell_type": "code",
   "execution_count": 6,
   "metadata": {
    "scrolled": false
   },
   "outputs": [
    {
     "ename": "TypeError",
     "evalue": "'tuple' object does not support item assignment",
     "output_type": "error",
     "traceback": [
      "\u001b[1;31m---------------------------------------------------------------------------\u001b[0m",
      "\u001b[1;31mTypeError\u001b[0m                                 Traceback (most recent call last)",
      "\u001b[1;32m<ipython-input-6-81fa3e4ee35a>\u001b[0m in \u001b[0;36m<module>\u001b[1;34m\u001b[0m\n\u001b[1;32m----> 1\u001b[1;33m \u001b[0mtupla1\u001b[0m\u001b[1;33m[\u001b[0m\u001b[1;36m0\u001b[0m\u001b[1;33m]\u001b[0m \u001b[1;33m=\u001b[0m \u001b[1;36m0\u001b[0m  \u001b[1;31m#Saldrá un error!\u001b[0m\u001b[1;33m\u001b[0m\u001b[1;33m\u001b[0m\u001b[0m\n\u001b[0m",
      "\u001b[1;31mTypeError\u001b[0m: 'tuple' object does not support item assignment"
     ]
    }
   ],
   "source": [
    "tupla1[0] = 0  #Saldrá un error!"
   ]
  },
  {
   "cell_type": "markdown",
   "metadata": {},
   "source": [
    "Una tupla puede contener datos de tipos combinados:"
   ]
  },
  {
   "cell_type": "code",
   "execution_count": 6,
   "metadata": {},
   "outputs": [
    {
     "name": "stdout",
     "output_type": "stream",
     "text": [
      "2000\n",
      "3.1415\n",
      "Nombre\n"
     ]
    }
   ],
   "source": [
    "tupla1 = (2000, 3.1415, 'Nombre')\n",
    "for data in tupla1:\n",
    "    print(data)"
   ]
  },
  {
   "cell_type": "markdown",
   "metadata": {},
   "source": [
    "¿Qué funciones se pueden aplicar sobre una tupla? Se puede consultar esto por medio de la instrucción dir():"
   ]
  },
  {
   "cell_type": "code",
   "execution_count": 30,
   "metadata": {},
   "outputs": [
    {
     "data": {
      "text/plain": [
       "['__add__',\n",
       " '__class__',\n",
       " '__contains__',\n",
       " '__delattr__',\n",
       " '__dir__',\n",
       " '__doc__',\n",
       " '__eq__',\n",
       " '__format__',\n",
       " '__ge__',\n",
       " '__getattribute__',\n",
       " '__getitem__',\n",
       " '__getnewargs__',\n",
       " '__gt__',\n",
       " '__hash__',\n",
       " '__init__',\n",
       " '__init_subclass__',\n",
       " '__iter__',\n",
       " '__le__',\n",
       " '__len__',\n",
       " '__lt__',\n",
       " '__mul__',\n",
       " '__ne__',\n",
       " '__new__',\n",
       " '__reduce__',\n",
       " '__reduce_ex__',\n",
       " '__repr__',\n",
       " '__rmul__',\n",
       " '__setattr__',\n",
       " '__sizeof__',\n",
       " '__str__',\n",
       " '__subclasshook__',\n",
       " 'count',\n",
       " 'index']"
      ]
     },
     "execution_count": 30,
     "metadata": {},
     "output_type": "execute_result"
    }
   ],
   "source": [
    "tupla1 = (1, 2, 3)\n",
    "dir(tupla1)"
   ]
  },
  {
   "cell_type": "markdown",
   "metadata": {},
   "source": [
    "Como se observa básicamente son 2:\n",
    "\n",
    "    count(val)                   -> Cuenta cuantos elementos de un valor existen en una tupla\n",
    "    index(val,[inicio, [fin]])   -> Retorna el indice donde se enuentre un dato (entre inicio y fin)"
   ]
  },
  {
   "cell_type": "code",
   "execution_count": 7,
   "metadata": {},
   "outputs": [
    {
     "name": "stdout",
     "output_type": "stream",
     "text": [
      "¿Cuantos 13's hay en la tupla?: 2\n",
      "¿Donde estan ubicados los 13's de la tupla? 3\n"
     ]
    }
   ],
   "source": [
    "tupla = (10, 11, 12, 13, 14, 15, 14, 13, 12, 11, 10)\n",
    "print(\"¿Cuantos 13's hay en la tupla?:\", tupla.count(13))\n",
    "print(\"¿Donde estan ubicados los 13's de la tupla?\", tupla.index(13))"
   ]
  },
  {
   "cell_type": "markdown",
   "metadata": {},
   "source": [
    "Si hay dos ocurrencias iguales de un dato, la función index() solo retornará el índice de la primera ocurrencia. Sin embargo se puede utilizar un lazo que ajuste el rango de busqueda de la función index() y que realice tantas iteraciones como ocurrencias haya de un dato (revise el siguiente código y trate de interpretarlo):"
   ]
  },
  {
   "cell_type": "code",
   "execution_count": 8,
   "metadata": {},
   "outputs": [
    {
     "name": "stdout",
     "output_type": "stream",
     "text": [
      "Indice 13 = 3\n",
      "Indice 13 = 7\n"
     ]
    }
   ],
   "source": [
    "ini = 0\n",
    "for i in range(tupla.count(13)):\n",
    "    index13 = tupla.index(13, ini)\n",
    "    print(\"Indice 13 =\", index13)\n",
    "    ini = index13 + 1"
   ]
  },
  {
   "cell_type": "markdown",
   "metadata": {},
   "source": [
    "¿Por que utilizar una tupla? Hay varias razones:\n",
    "\n",
    "* Si se desea tener datos y no se quiere que estos sean modificados\n",
    "* Si se desea procesar información y tener un mejor tiempo de respuesta.\n",
    "\n",
    "Sobre esto último, hagamos una prueba (estas dos celdas de instrucciones pueden tomar algunos segundos):"
   ]
  },
  {
   "cell_type": "code",
   "execution_count": 9,
   "metadata": {},
   "outputs": [
    {
     "name": "stdout",
     "output_type": "stream",
     "text": [
      "19.5 ns ± 3.45 ns per loop (mean ± std. dev. of 7 runs, 100000000 loops each)\n"
     ]
    }
   ],
   "source": [
    "timeit \"x = tuple(range(100))\""
   ]
  },
  {
   "cell_type": "code",
   "execution_count": 10,
   "metadata": {},
   "outputs": [
    {
     "name": "stdout",
     "output_type": "stream",
     "text": [
      "23.3 ns ± 2.66 ns per loop (mean ± std. dev. of 7 runs, 10000000 loops each)\n"
     ]
    }
   ],
   "source": [
    "timeit \"x = list(range(100))\""
   ]
  },
  {
   "cell_type": "markdown",
   "metadata": {},
   "source": [
    "La instruccion \"*timeit*\" realiza una instrucción (en este caso, la creacion de una tupla y de una lista) 1'000,000 de veces y toma el mejor tiempo de ejecución. Se observa que la creación de una lista es 3 ns más rápida. Puede parecer poca cosa, pero si se tiene una gran cantidad de datos (¡y una gran cantidad de realmente una gran cantidad!) se puede apreciar alguna diferencia.\n",
    "\n",
    "Sin embargo, para un número de datos que no sea mounstruoso, con una lista es suficiente. ¿Y que es una lista? Es básicamente una tupla con esteroides..."
   ]
  },
  {
   "cell_type": "code",
   "execution_count": null,
   "metadata": {},
   "outputs": [],
   "source": []
  }
 ],
 "metadata": {
  "kernelspec": {
   "display_name": "Python 3",
   "language": "python",
   "name": "python3"
  },
  "language_info": {
   "codemirror_mode": {
    "name": "ipython",
    "version": 3
   },
   "file_extension": ".py",
   "mimetype": "text/x-python",
   "name": "python",
   "nbconvert_exporter": "python",
   "pygments_lexer": "ipython3",
   "version": "3.7.6"
  }
 },
 "nbformat": 4,
 "nbformat_minor": 2
}
