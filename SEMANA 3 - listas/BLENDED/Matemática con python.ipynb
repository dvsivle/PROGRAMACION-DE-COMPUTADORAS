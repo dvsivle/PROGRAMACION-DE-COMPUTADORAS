{
 "cells": [
  {
   "cell_type": "code",
   "execution_count": 29,
   "metadata": {},
   "outputs": [
    {
     "name": "stdout",
     "output_type": "stream",
     "text": [
      "math.pi = 3.14159265\n",
      "math.e = 2.71828183\n",
      "cos(pi) = -1.0\n"
     ]
    }
   ],
   "source": [
    "# Uno de los modulos mas utiles en ciencia e ingenieria es el modulo de operaciones\n",
    "# matematicas\n",
    "\n",
    "import math\n",
    "\n",
    "# --- Aplicando algunas funciones matemáticas ---#\n",
    "\n",
    "# Se muestra el valor de pi\n",
    "print('math.pi = {:.8f}'.format(math.pi))\n",
    "# Se muestra el valor de e\n",
    "print('math.e = {:.8f}'.format(math.e))\n",
    "# Se imprime el coseno de 3.1416 radianes\n",
    "print('cos(pi) = {}'.format(math.cos(math.pi)))"
   ]
  },
  {
   "cell_type": "code",
   "execution_count": 30,
   "metadata": {},
   "outputs": [
    {
     "name": "stdout",
     "output_type": "stream",
     "text": [
      "pi = 3.14159265\n",
      "e = 2.71828183\n",
      "cos(pi) = -1.0\n",
      "sin(pi/6) = 0.5000\n",
      "tan (pi/4) = 1.0000\n",
      "exp(5) = 148.4132\n",
      "log(10) = 2.3026\n",
      "log10(10) = 1.0\n",
      "pow(12.6,-1) = 0.0794\n",
      "sqrt(100) = 10.0\n",
      "ceil(-3.5) = -3\n",
      "floor(-3.5) = -4\n",
      "trunc(3.6) = 3\n",
      "pow(27,1/3) = 3.0\n",
      "degrees(pi/4) = 45.0 grados\n",
      "radians(90) = 0.5235987755982988 rad\n"
     ]
    }
   ],
   "source": [
    "# Como se puede ver, resulta tedioso escibir el módulo.metodo a cada momento. Como los\n",
    "# métodos matemáticos son muy utilizados se puede llamar al módulo en su totalidad\n",
    "# utilizando \"*\" y asi evitar invocar al módulo al momento de llamar a los métodos.\n",
    "\n",
    "from math import *\n",
    "\n",
    "# Se muestra el valor de pi\n",
    "print('pi = {:.8f}'.format(pi))\n",
    "# Se muestra el valor de e\n",
    "print('e = {:.8f}'.format(e))\n",
    "# Se imprime el coseno de 3.1416 radianes\n",
    "print('cos(pi) = {}'.format(cos(pi)))\n",
    "# Se imprime el seno de pi/6 radianes\n",
    "print('sin(pi/6) = {:.4f}'.format(sin(pi/6)))\n",
    "# Se imprime la tangente de pi/4 radianes\n",
    "print('tan (pi/4) = {:.4f}'.format(tan(pi/4))) \n",
    "# Se imprime la exponencial de 5\n",
    "print('exp(5) = {:.4f}'.format(exp(5))) \n",
    "# Se imprime el ln(var)\n",
    "print('log(10) = {:.4f}'.format(log(10)))\n",
    "# Se imprime log(10)\n",
    "print('log10(10) = {}'.format(log10(10)))\n",
    "# Se imprime  12.6^-1\n",
    "print('pow(12.6,-1) = {:.4f}'.format(pow(12.6, -1)))\n",
    "# Se imprime la raiz cuadrada de 100\n",
    "print('sqrt(100) = {}'.format(sqrt(100)))\n",
    "# Se redondea -3.5 hacia la arriba\n",
    "print('ceil(-3.5) = {}'.format(ceil(-3.5))) \n",
    "# Se redondea -3.5 hacia abajo\n",
    "print('floor(-3.5) = {}'.format(floor(-3.5)))\n",
    "# Se queda con la parte entera\n",
    "print('trunc(3.6) = {}'.format(trunc(3.6)))\n",
    "# Se muestra la raiz cubica de 27\n",
    "print('pow(27,1/3) = {}'.format(pow(27,1/3)))\n",
    "# Convierte pi/4 a grados sexagesimales\n",
    "print('degrees(pi/4) = {} grados'.format(degrees(pi/4)))\n",
    "# Convierte 30 grados a radianes\n",
    "print('radians(90) = {} rad'.format(radians(30)))"
   ]
  },
  {
   "cell_type": "code",
   "execution_count": 38,
   "metadata": {},
   "outputs": [
    {
     "name": "stdout",
     "output_type": "stream",
     "text": [
      "10\n",
      "10\n",
      "3\n",
      "3.14\n"
     ]
    }
   ],
   "source": [
    "# \"round\" es una fucion de la libreria estandar de Python, por lo que se puede\n",
    "# invocar directamente sin tener que importar ninguna libreria\n",
    "print(round(10.2))\n",
    "print(round(10.5))\n",
    "\n",
    "# Y tiene la peculiaridad de permitir ajustar el numero de decimales a ajustar\n",
    "print(round(math.pi))\n",
    "print(round(math.pi,2))\n"
   ]
  },
  {
   "cell_type": "code",
   "execution_count": 41,
   "metadata": {},
   "outputs": [
    {
     "name": "stdout",
     "output_type": "stream",
     "text": [
      "5.551115123125783e-17\n",
      "0.0\n",
      "2.3\n",
      "2.3\n"
     ]
    }
   ],
   "source": [
    "# Python puede incluir una libreria especial para manipular los numeros reales\n",
    "# de maneras mas naturales, definiendo estos numeros como \"Decimales\".\n",
    "# Para este caso, se importa el metodo Decimal de la liberia decimal\n",
    "\n",
    "from decimal import Decimal\n",
    "\n",
    "print(0.1 + 0.1 + 0.1 - 0.3)       # Esto no retorna 0\n",
    "print(Decimal(\"0.1\") + Decimal(\"0.1\") + Decimal(\"0.1\") - Decimal(\"0.3\"))\n",
    "\n",
    "print(1.1 + 1.2)      # Esto retorna un float\n",
    "print(Decimal(\"1.1\") + Decimal(\"1.2\"))    # Esto retorna un Decimal"
   ]
  },
  {
   "cell_type": "code",
   "execution_count": 45,
   "metadata": {},
   "outputs": [
    {
     "name": "stdout",
     "output_type": "stream",
     "text": [
      "3/4\n",
      "7/4\n",
      "3.0\n"
     ]
    }
   ],
   "source": [
    "# Asi tambien, Python puede manejar fracciones con el módulo fractions\n",
    "from fractions import Fraction\n",
    "\n",
    "f1 = Fraction(3, 4)\n",
    "print(f1)\n",
    "print(f1+1) \n",
    "print(f1+1+1.25)"
   ]
  },
  {
   "cell_type": "code",
   "execution_count": 46,
   "metadata": {},
   "outputs": [
    {
     "name": "stdout",
     "output_type": "stream",
     "text": [
      "Valor complejo: (2+3j)\n",
      "Parte real: 2.0\n",
      "Parte imaginaria: 3.0\n",
      "Conjugado: (2-3j)\n",
      "Modulo: 3.605551275463989\n"
     ]
    }
   ],
   "source": [
    "# Y como ya se anoto anteriormente, Python tambien puede manejar numeros complejos\n",
    "z = 2 + 3j\n",
    "print(\"Valor complejo: {}\".format(z))\n",
    "print(\"Parte real: {}\".format(z.real))\n",
    "print(\"Parte imaginaria: {}\".format(z.imag))\n",
    "print(\"Conjugado: {}\".format(z.conjugate()))\n",
    "print(\"Modulo: {}\".format(abs(z)))"
   ]
  },
  {
   "cell_type": "code",
   "execution_count": 47,
   "metadata": {},
   "outputs": [
    {
     "name": "stdout",
     "output_type": "stream",
     "text": [
      "Ingrese la velocidad de disparo [m/s]: 60\n",
      "Ingrese el angulo de disparo [grados]: 45\n",
      "Altura maxima: 91.74 m\n",
      "Alcance horizontal: 366.97 m\n",
      "Tiempo de vuelo: 8.65 seg\n"
     ]
    }
   ],
   "source": [
    "#Solución del requerimiento:\n",
    "\n",
    "from math import *\n",
    "\n",
    "g = 9.81\n",
    "vel = eval(input(\"Ingrese la velocidad de disparo [m/s]: \"))\n",
    "ang = eval(input(\"Ingrese el angulo de disparo [grados]: \"))\n",
    "\n",
    "# Se calcula los componentes Vx y Vy\n",
    "Vx = vel * cos(radians(ang))\n",
    "Vy = vel * sin(radians(ang))\n",
    "\n",
    "# Calculo de la altura maxima\n",
    "Ymax = Vy**2 / (2 * g)\n",
    "\n",
    "# Calculo del alcance maximo\n",
    "Xmax = vel**2 * sin(2 * radians(ang)) / g\n",
    "\n",
    "# Calculo del tiempo de vuelo\n",
    "Tvuelo = 2 * vel * sin(radians(ang)) / g\n",
    "\n",
    "# Se imprimen ls resultados\n",
    "print(\"Altura maxima: {:.2f} m\".format(Ymax))\n",
    "print(\"Alcance horizontal: {:.2f} m\".format(Xmax))\n",
    "print(\"Tiempo de vuelo: {:.2f} seg\".format(Tvuelo))"
   ]
  },
  {
   "cell_type": "code",
   "execution_count": 1,
   "metadata": {},
   "outputs": [
    {
     "data": {
      "text/plain": [
       "5.0"
      ]
     },
     "execution_count": 1,
     "metadata": {},
     "output_type": "execute_result"
    }
   ],
   "source": [
    "abs(4-3j)"
   ]
  },
  {
   "cell_type": "code",
   "execution_count": null,
   "metadata": {},
   "outputs": [],
   "source": []
  },
  {
   "cell_type": "code",
   "execution_count": null,
   "metadata": {},
   "outputs": [],
   "source": []
  },
  {
   "cell_type": "code",
   "execution_count": null,
   "metadata": {},
   "outputs": [],
   "source": []
  },
  {
   "cell_type": "code",
   "execution_count": null,
   "metadata": {},
   "outputs": [],
   "source": []
  }
 ],
 "metadata": {
  "kernelspec": {
   "display_name": "Python 3",
   "language": "python",
   "name": "python3"
  },
  "language_info": {
   "codemirror_mode": {
    "name": "ipython",
    "version": 3
   },
   "file_extension": ".py",
   "mimetype": "text/x-python",
   "name": "python",
   "nbconvert_exporter": "python",
   "pygments_lexer": "ipython3",
   "version": "3.7.6"
  }
 },
 "nbformat": 4,
 "nbformat_minor": 4
}
