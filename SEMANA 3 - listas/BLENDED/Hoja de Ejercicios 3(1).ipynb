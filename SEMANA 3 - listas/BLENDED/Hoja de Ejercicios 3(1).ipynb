{
 "cells": [
  {
   "cell_type": "markdown",
   "metadata": {},
   "source": [
    "# Hoja de Ejercicios 3"
   ]
  },
  {
   "cell_type": "markdown",
   "metadata": {},
   "source": [
    "###  **Ejercicio 1**\n",
    "\n",
    "La funcion Gaussiana con forma de campana:\n",
    "\n",
    "$$f(x) = \\frac{1}{\\sqrt{2\\pi}s}exp[-\\frac{1}{2}(\\frac{x-m}{s})^2]$$\n",
    "\n",
    "es muy utilizada en ciencias e ingenieria. Los parametros *m* y *s* son numeros reales, mientras que *s* debe ser un valor mayor que cero (Valide ese dato con un bloque try...except). Escriba un programa que evalue esta función para valores ingresados por el usuario.\n",
    "\n",
    "    m = 0\n",
    "    s = 2\n",
    "    x = 1\n",
    "    \n",
    "    f(1) = 0.2489 "
   ]
  },
  {
   "cell_type": "code",
   "execution_count": 4,
   "metadata": {},
   "outputs": [],
   "source": [
    "# Escriba su programa aqui\n"
   ]
  },
  {
   "cell_type": "markdown",
   "metadata": {},
   "source": [
    "### **Ejercicio 2**\n",
    "Escriba un programa que pida al usuario 10 números enteros y los vaya almacenando en una lista si y solo si estos valores estan comprendidos entre 20-60. Muestre la lista resultante."
   ]
  },
  {
   "cell_type": "code",
   "execution_count": 5,
   "metadata": {},
   "outputs": [],
   "source": [
    "# Pida al usuario un listado de 10 numeros y guardelos en una lista si el numero ingresado esta entre 20 y 60\n"
   ]
  },
  {
   "cell_type": "markdown",
   "metadata": {},
   "source": [
    "### **Ejercicio 3**\n",
    "Escriba un programa que pida un listado de nombres y los almacene en una lista. El programa debe mostrar cuantas veces aparece la letra 'a' en la lista"
   ]
  },
  {
   "cell_type": "code",
   "execution_count": 19,
   "metadata": {},
   "outputs": [],
   "source": [
    "# Pida al usuario un listado de 5 nombres\n",
    "\n",
    "\n",
    "# Retorne cuantas veces aparece la letra 'a'\n",
    "\n"
   ]
  },
  {
   "cell_type": "markdown",
   "metadata": {},
   "source": [
    "### **Ejercicio 4**\n",
    "Escriba un programa que pida al usuario una lista de palabras y las almacene en una lista, luego de ello deberá formar otra lista con solo aquellas palabras cuya primera letra aparece luego dentro de la palabra (por ejemplo, 'Mermelada'). El programa debe mostrar la lista de palabras resultante."
   ]
  },
  {
   "cell_type": "code",
   "execution_count": null,
   "metadata": {
    "collapsed": true
   },
   "outputs": [],
   "source": [
    "# Pida al usuario un listado de 5 palabras\n",
    "\n",
    "\n",
    "# Retorne la lista de palabras que cumplan con el criterio del problema"
   ]
  },
  {
   "cell_type": "markdown",
   "metadata": {},
   "source": [
    "### **Ejercicio 5**\n",
    "Se tiene una lista con los datos de edad de un grupo de personas que quieren asistír a una fiesta. El problema es que solo deben de asistir personas mayores de edad. Debe de crear otra lista con todas las personas (tanto el nombre como la edad) que sean mayores de edad. Luego debe de imprimir sus resultados."
   ]
  },
  {
   "cell_type": "code",
   "execution_count": 6,
   "metadata": {
    "scrolled": true
   },
   "outputs": [],
   "source": [
    "# Lista de personas\n",
    "lista_personas = [\"Andrea\", 18,\n",
    "                 \"Juan\", 22,\n",
    "                 \"Arturo\", 16,\n",
    "                 \"Manuel\", 15,\n",
    "                 \"Daniela\", 22,\n",
    "                 \"Renato\", 24,\n",
    "                 \"Marcela\", 22,\n",
    "                 \"Andres\", 17,\n",
    "                 \"Carlos\", 40,\n",
    "                 \"Sergio\", 21,\n",
    "                 \"Tatiana\", 33,\n",
    "                 \"Gisella\", 36,\n",
    "                 \"Giancarlo\", 17,\n",
    "                 \"Julio\", 21,\n",
    "                 \"Pedro\", 33]\n",
    "\n",
    "# Hay que eliminar de la lista al par nombre-edad que sean menores de edad\n",
    "\n",
    "\n",
    "# Mostrar la lista restante en el formato NOMBRE : __________, EDAD :______\n",
    "\n"
   ]
  },
  {
   "cell_type": "markdown",
   "metadata": {},
   "source": [
    "### **Ejercicio 6**\n",
    "Resulta que el organizador de la fiesta esta en una promocion \"Ladies Night!\" y quiere ofrecer a las chicas mayores de edad entrada libre, y para esto necesita la lista de las chicas mayores de edad de la lista anterior. Al no tener información del sexo de cada registro, puede utilizar el dato de que todos los nombres que terminan en 'a' normalmente son de mujeres. Utilice este dato para crear e imprimir un listado de solo las chicas que podran ingresar sin pagar a la fiesta."
   ]
  },
  {
   "cell_type": "code",
   "execution_count": null,
   "metadata": {
    "collapsed": true
   },
   "outputs": [],
   "source": [
    "# Lista de personas\n",
    "lista_personas = [\"Andrea\", 18,\n",
    "                 \"Juan\", 22,\n",
    "                 \"Arturo\", 16,\n",
    "                 \"Manuel\", 15,\n",
    "                 \"Daniela\", 22,\n",
    "                 \"Renato\", 24,\n",
    "                 \"Marcela\", 22,\n",
    "                 \"Andres\", 17,\n",
    "                 \"Carlos\", 40,\n",
    "                 \"Sergio\", 21,\n",
    "                 \"Tatiana\", 33,\n",
    "                 \"Gisella\", 36,\n",
    "                 \"Giancarlo\", 17,\n",
    "                 \"Julio\", 21,\n",
    "                 \"Pedro\", 33]\n",
    "\n",
    "# Cree una lista con las chicas de la lista de personas\n",
    "\n",
    "# Mostrar la lista de chicas en el formato NOMBRE : __________, EDAD :______\n"
   ]
  }
 ],
 "metadata": {
  "kernelspec": {
   "display_name": "Python 3",
   "language": "python",
   "name": "python3"
  },
  "language_info": {
   "codemirror_mode": {
    "name": "ipython",
    "version": 3
   },
   "file_extension": ".py",
   "mimetype": "text/x-python",
   "name": "python",
   "nbconvert_exporter": "python",
   "pygments_lexer": "ipython3",
   "version": "3.7.6"
  }
 },
 "nbformat": 4,
 "nbformat_minor": 2
}
