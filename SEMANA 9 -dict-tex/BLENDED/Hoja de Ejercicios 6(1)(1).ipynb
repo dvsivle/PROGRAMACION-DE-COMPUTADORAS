{
 "cells": [
  {
   "cell_type": "markdown",
   "metadata": {},
   "source": [
    "# Hoja de Ejercicios 6"
   ]
  },
  {
   "cell_type": "markdown",
   "metadata": {},
   "source": [
    "### Ejercicio 1\n",
    "Escriba un programa que cree un diccionario de la forma:\n",
    "\n",
    "    {'Q1': val, 'Q2': val, 'Q3': val, 'Q4': val, 'Q5': val}\n",
    "\n",
    "donde *val* seran valores aleatorios enteros entre 5 y 20 y representarán las notas de 5 evaluaciones de Quiz. Luego muestre los resultados *leyendo el contenido del diccionario* usando el siguiente formato de ejemplo:\n",
    "\n",
    "    Notas de Quiz\n",
    "    -------------\n",
    "    Quiz 1: 12\n",
    "    Quiz 2:  5\n",
    "    Quiz 3: 10\n",
    "    Quiz 4:  8\n",
    "    Quiz 5: 12"
   ]
  },
  {
   "cell_type": "markdown",
   "metadata": {},
   "source": [
    "### Ejercicio 2\n",
    "Complemente el programa anterior para que pueda manejar varios alumnos. Elija la estructura que le resulte mas conveniente (listas en diccionarios, diccionarios en diccionario, diccionarios en diccionario).\n",
    "\n",
    "    Numero de alumnos: 2\n",
    "    \n",
    "    Ingrese nombre: Juan\n",
    "    Juan - Notas:\n",
    "    --------------------\n",
    "    Quiz 1: 12\n",
    "    Quiz 2:  5\n",
    "    Quiz 3:  6\n",
    "    Quiz 4: 14\n",
    "    Quiz 5: 18\n",
    "    \n",
    "    Ingrese nombre: Rita\n",
    "    Rita - Notas:\n",
    "    --------------------\n",
    "    Quiz 1: 18\n",
    "    Quiz 2:  7\n",
    "    Quiz 3: 11\n",
    "    Quiz 4:  6\n",
    "    Quiz 5: 12"
   ]
  },
  {
   "cell_type": "markdown",
   "metadata": {},
   "source": [
    "### Ejercicio 3\n",
    "Modifique el programa anterior para que se genere un archivo con los resultados. Al finalizar la ejecución debe de haberse generado el archivo **notas.txt** con la información:\n",
    "\n",
    "    'Juan',12,5,6,14,8\n",
    "    'Rita',18,7,11,6,12"
   ]
  },
  {
   "cell_type": "markdown",
   "metadata": {},
   "source": [
    "### Ejercicio 4\n",
    "Escriba un programa que lea el archivo **notas.txt** y trate este archivo como si fuera un archivo csv (la extensión txt no afectará la lectura como csv). Con la información del archivo imprima los datos de la forma:\n",
    "\n",
    "    Juan\n",
    "    Promedio: (12 + 5 + 6 + 14 + 18) / 5 = 11.0\n",
    "    \n",
    "    Rita\n",
    "    Promedio: (18 + 7 + 11 + 6 + 12) / 5 = 10.8"
   ]
  }
 ],
 "metadata": {
  "kernelspec": {
   "display_name": "Python 3",
   "language": "python",
   "name": "python3"
  },
  "language_info": {
   "codemirror_mode": {
    "name": "ipython",
    "version": 3
   },
   "file_extension": ".py",
   "mimetype": "text/x-python",
   "name": "python",
   "nbconvert_exporter": "python",
   "pygments_lexer": "ipython3",
   "version": "3.7.6"
  }
 },
 "nbformat": 4,
 "nbformat_minor": 2
}
