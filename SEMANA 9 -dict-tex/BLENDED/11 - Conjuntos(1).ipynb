{
 "cells": [
  {
   "cell_type": "markdown",
   "metadata": {},
   "source": [
    "# Conjuntos\n",
    "Los conjuntos (sets) son un tipo de datos, iterable, semejante a las tuplas, listas y strings. La diferencia radica en:\n",
    "\n",
    "- No permite información duplicada\n",
    "- Se pueden agregar y eliminar elementos, pero no modificarlos. En ese sentido es \"inmutable\".\n",
    "\n",
    "Los conjuntos son útiles para almacenar información en donde se requiere que no haya datos duplicados. Un conjunto se define con {} de la forma:"
   ]
  },
  {
   "cell_type": "code",
   "execution_count": 1,
   "metadata": {},
   "outputs": [
    {
     "data": {
      "text/plain": [
       "set"
      ]
     },
     "execution_count": 1,
     "metadata": {},
     "output_type": "execute_result"
    }
   ],
   "source": [
    "conjunto = {1, 2, 3, 4, 5}\n",
    "type(conjunto)"
   ]
  },
  {
   "cell_type": "markdown",
   "metadata": {},
   "source": [
    "Como y se menciono, un conjunto descarta los elementos repetidos:"
   ]
  },
  {
   "cell_type": "code",
   "execution_count": 2,
   "metadata": {},
   "outputs": [
    {
     "name": "stdout",
     "output_type": "stream",
     "text": [
      "{1, 2, 3, 4, 5}\n"
     ]
    }
   ],
   "source": [
    "conjunto = {1, 5, 3, 4, 5, 3, 2}\n",
    "print(conjunto)"
   ]
  },
  {
   "cell_type": "markdown",
   "metadata": {},
   "source": [
    "Se puede observar, además, que los elementos son almacenados en el conjunto de forma ordenada, aunque esto solo es así con los números:"
   ]
  },
  {
   "cell_type": "code",
   "execution_count": 3,
   "metadata": {},
   "outputs": [
    {
     "name": "stdout",
     "output_type": "stream",
     "text": [
      "{'a', 'b', 'd', 'c'}\n"
     ]
    }
   ],
   "source": [
    "conjunto = {'a', 'c', 'd', 'b'}\n",
    "print(conjunto)"
   ]
  },
  {
   "cell_type": "markdown",
   "metadata": {},
   "source": [
    "Los conjuntos tienen un conjunto de métodos asociados:"
   ]
  },
  {
   "cell_type": "code",
   "execution_count": 4,
   "metadata": {},
   "outputs": [
    {
     "data": {
      "text/plain": [
       "['__and__',\n",
       " '__class__',\n",
       " '__contains__',\n",
       " '__delattr__',\n",
       " '__dir__',\n",
       " '__doc__',\n",
       " '__eq__',\n",
       " '__format__',\n",
       " '__ge__',\n",
       " '__getattribute__',\n",
       " '__gt__',\n",
       " '__hash__',\n",
       " '__iand__',\n",
       " '__init__',\n",
       " '__init_subclass__',\n",
       " '__ior__',\n",
       " '__isub__',\n",
       " '__iter__',\n",
       " '__ixor__',\n",
       " '__le__',\n",
       " '__len__',\n",
       " '__lt__',\n",
       " '__ne__',\n",
       " '__new__',\n",
       " '__or__',\n",
       " '__rand__',\n",
       " '__reduce__',\n",
       " '__reduce_ex__',\n",
       " '__repr__',\n",
       " '__ror__',\n",
       " '__rsub__',\n",
       " '__rxor__',\n",
       " '__setattr__',\n",
       " '__sizeof__',\n",
       " '__str__',\n",
       " '__sub__',\n",
       " '__subclasshook__',\n",
       " '__xor__',\n",
       " 'add',\n",
       " 'clear',\n",
       " 'copy',\n",
       " 'difference',\n",
       " 'difference_update',\n",
       " 'discard',\n",
       " 'intersection',\n",
       " 'intersection_update',\n",
       " 'isdisjoint',\n",
       " 'issubset',\n",
       " 'issuperset',\n",
       " 'pop',\n",
       " 'remove',\n",
       " 'symmetric_difference',\n",
       " 'symmetric_difference_update',\n",
       " 'union',\n",
       " 'update']"
      ]
     },
     "execution_count": 4,
     "metadata": {},
     "output_type": "execute_result"
    }
   ],
   "source": [
    "dir(conjunto)"
   ]
  },
  {
   "cell_type": "markdown",
   "metadata": {},
   "source": [
    "Estos métodos se pueden clasificar en aquellos que editan un conjunto y los que realizan operaciones con los conjuntos."
   ]
  },
  {
   "cell_type": "code",
   "execution_count": 5,
   "metadata": {},
   "outputs": [
    {
     "name": "stdout",
     "output_type": "stream",
     "text": [
      "mamiferos = {'caballo', 'delfin', 'jirafa', 'gato', 'pero'} \tnum elem =  5\n",
      "reptiles = {'tortuga', 'lagarto', 'caiman', 'boa', 'piton'} \tnum elem = 5\n",
      "insectos = {'hormiga', 'mosca', 'avispa', 'abeja'} \tnum ele = 4\n",
      "numeros = {3, 6, 9, 11, 21, 22, 23} \tnum ele = 7\n"
     ]
    }
   ],
   "source": [
    "mamiferos = {'gato', 'pero', 'caballo', 'jirafa', 'delfin'}\n",
    "reptiles = {'caiman', 'lagarto', 'piton', 'tortuga'}\n",
    "insectos = {'mosca', 'avispa', 'abeja', 'araña'}\n",
    "numeros = {3,6,9,11}\n",
    "# Se agrega un elemento nuevo en la lista de reptiles\n",
    "reptiles.add('boa')\n",
    "# Se elimina un elemento de insectos (araña no es un insecto!)\n",
    "insectos.remove(\"araña\") #si el elemento a remover no existe (sale error)\n",
    "# Es preferible utilizar discard a utilizar remove\n",
    "insectos.discard(19) #si el elmento a eliminar no existe (no sale error)\n",
    "# Se agrega \"hormiga\" al conjunto de insectos\n",
    "insectos.add('hormiga')\n",
    "# Se agrega un elemento que ya exista\n",
    "insectos.add('abeja') #por lo tanto 'abeja' no se agregara\n",
    "#Se agregan varios elementos al conjunto numeros\n",
    "numeros.update([11,21,22,23]) #el 11 no se agregará por ya esta presente\n",
    "# Se imprimen las listas\n",
    "print('mamiferos =', mamiferos, '\\tnum elem = ', len(mamiferos))\n",
    "print('reptiles =', reptiles, '\\tnum elem =', len(reptiles))\n",
    "print('insectos =', insectos, '\\tnum ele =', len(insectos))\n",
    "print('numeros =', numeros, '\\tnum ele =', len(numeros))"
   ]
  },
  {
   "cell_type": "markdown",
   "metadata": {},
   "source": [
    "Asi también se puede eliminar un conjunto con clear. Hay que recordar que en un conjunto, no se puede editar sus elementos:"
   ]
  },
  {
   "cell_type": "code",
   "execution_count": 7,
   "metadata": {
    "scrolled": true
   },
   "outputs": [
    {
     "ename": "TypeError",
     "evalue": "'set' object does not support item assignment",
     "output_type": "error",
     "traceback": [
      "\u001b[1;31m---------------------------------------------------------------------------\u001b[0m",
      "\u001b[1;31mTypeError\u001b[0m                                 Traceback (most recent call last)",
      "\u001b[1;32m<ipython-input-7-c08c5aa9e089>\u001b[0m in \u001b[0;36m<module>\u001b[1;34m\u001b[0m\n\u001b[0;32m      1\u001b[0m \u001b[0mconjunto\u001b[0m \u001b[1;33m=\u001b[0m \u001b[1;33m{\u001b[0m\u001b[1;34m'juan'\u001b[0m\u001b[1;33m,\u001b[0m \u001b[1;34m'maria'\u001b[0m\u001b[1;33m,\u001b[0m \u001b[1;34m'elmer'\u001b[0m\u001b[1;33m,\u001b[0m \u001b[1;34m'elba'\u001b[0m\u001b[1;33m}\u001b[0m\u001b[1;33m\u001b[0m\u001b[1;33m\u001b[0m\u001b[0m\n\u001b[1;32m----> 2\u001b[1;33m \u001b[0mconjunto\u001b[0m\u001b[1;33m[\u001b[0m\u001b[1;36m0\u001b[0m\u001b[1;33m]\u001b[0m \u001b[1;33m=\u001b[0m \u001b[1;33m{\u001b[0m\u001b[1;34m'ernesto'\u001b[0m\u001b[1;33m}\u001b[0m\u001b[1;33m\u001b[0m\u001b[1;33m\u001b[0m\u001b[0m\n\u001b[0m",
      "\u001b[1;31mTypeError\u001b[0m: 'set' object does not support item assignment"
     ]
    }
   ],
   "source": [
    "conjunto = {'juan', 'maria', 'elmer', 'elba'}\n",
    "conjunto[0] = {'ernesto'}"
   ]
  },
  {
   "cell_type": "code",
   "execution_count": 8,
   "metadata": {},
   "outputs": [],
   "source": [
    "conjunto.clear()    # Se elimina este conjunto"
   ]
  },
  {
   "cell_type": "code",
   "execution_count": 17,
   "metadata": {},
   "outputs": [
    {
     "ename": "TypeError",
     "evalue": "'set' object is not subscriptable",
     "output_type": "error",
     "traceback": [
      "\u001b[1;31m---------------------------------------------------------------------------\u001b[0m",
      "\u001b[1;31mTypeError\u001b[0m                                 Traceback (most recent call last)",
      "\u001b[1;32m<ipython-input-17-1d2b297b265c>\u001b[0m in \u001b[0;36m<module>\u001b[1;34m\u001b[0m\n\u001b[0;32m      1\u001b[0m \u001b[1;31m#Los elementos de un conjunto no estan indexados:\u001b[0m\u001b[1;33m\u001b[0m\u001b[1;33m\u001b[0m\u001b[1;33m\u001b[0m\u001b[0m\n\u001b[0;32m      2\u001b[0m \u001b[0mpaises\u001b[0m \u001b[1;33m=\u001b[0m \u001b[1;33m{\u001b[0m\u001b[1;34m'chile'\u001b[0m\u001b[1;33m,\u001b[0m \u001b[1;34m'perú'\u001b[0m\u001b[1;33m,\u001b[0m \u001b[1;34m'argentina'\u001b[0m\u001b[1;33m,\u001b[0m \u001b[1;34m'colombia'\u001b[0m\u001b[1;33m}\u001b[0m\u001b[1;33m\u001b[0m\u001b[1;33m\u001b[0m\u001b[0m\n\u001b[1;32m----> 3\u001b[1;33m \u001b[0mprint\u001b[0m\u001b[1;33m(\u001b[0m\u001b[0mpaises\u001b[0m\u001b[1;33m[\u001b[0m\u001b[1;36m0\u001b[0m\u001b[1;33m]\u001b[0m\u001b[1;33m)\u001b[0m  \u001b[1;31m#error\u001b[0m\u001b[1;33m\u001b[0m\u001b[1;33m\u001b[0m\u001b[0m\n\u001b[0m",
      "\u001b[1;31mTypeError\u001b[0m: 'set' object is not subscriptable"
     ]
    }
   ],
   "source": [
    "#Los elementos de un conjunto no estan indexados:\n",
    "paises = {'chile', 'perú', 'argentina', 'colombia'}\n",
    "print(paises[0])  #error"
   ]
  },
  {
   "cell_type": "markdown",
   "metadata": {},
   "source": [
    "Cuando se trata de las operaciones que se pueden realizar sobre los conjuntos (+ y * no estan soportados) hay que pensar en los Digramas de Venn. Las operaciones hacen referencia a que relación tienen los conjuntos entre si"
   ]
  },
  {
   "cell_type": "code",
   "execution_count": 12,
   "metadata": {},
   "outputs": [
    {
     "name": "stdout",
     "output_type": "stream",
     "text": [
      "{'caballo', 'hormiga', 'mosca', 'delfin', 'tortuga', 'jirafa', 'gato', 'avispa', 'abeja', 'lagarto', 'caiman', 'pero', 'piton'}\n",
      "\n",
      "{'tortuga'}\n",
      "\n",
      "{'caiman', 'lagarto', 'piton'}\n",
      "\n",
      "{'caballo', 'jirafa', 'vaca', 'lagarto', 'caiman', 'piton'}\n"
     ]
    }
   ],
   "source": [
    "herbivoros = {'vaca', 'caballo', 'jirafa', 'tortuga'}\n",
    "carnivoros = {'perro', 'gato', 'lagarto', 'caiman', 'piton', 'boa'}\n",
    "reptiles = {'caiman', 'lagarto', 'piton', 'tortuga'}\n",
    "\n",
    "# Union de conjuntos -> a.union(b)\n",
    "animales = mamiferos | reptiles | insectos\n",
    "print(animales)\n",
    "print()\n",
    "# Intersección de conjuntos -> a.intersection(b)\n",
    "reptiles_herbivoros = reptiles & herbivoros\n",
    "print(reptiles_herbivoros)\n",
    "print()\n",
    "# Diferencia entre conjuntos-> a.difference(b)\n",
    "reptiles_carnivoros = reptiles - reptiles_herbivoros\n",
    "print(reptiles_carnivoros)\n",
    "print()\n",
    "# Diferencia simetrica (Union sin Interseccion)  -> a.simetric_difference(b)\n",
    "print(reptiles ^ herbivoros)"
   ]
  },
  {
   "cell_type": "markdown",
   "metadata": {},
   "source": [
    "El tipo de dato set es ideal para hacer una colección de información y se desea evitar que haya información repetida. Por ejemplo, se requiere genera una lista de datos aleatorios para simular un sorteo y como cada número solo puede salir una sola vez, un conjunto es un tipo de dato ideal.\n",
    "\n",
    "Solo hay que tener una precaución. Existe otro tipo de datos llamado \"diccionario\" que también se especifica con {}, por lo que si se crea un conjunto vacio *conj = {}* lo que se esta creando es una diccionario y no un conjunto. Para crear un conjunto vacio hay que utilizar la instrucción *set()*"
   ]
  },
  {
   "cell_type": "code",
   "execution_count": 14,
   "metadata": {},
   "outputs": [
    {
     "name": "stdout",
     "output_type": "stream",
     "text": [
      "Bolillas del sorteo: \n",
      "   2   4   5   6   7   8\n",
      "Num Veces Num Generados:  11\n"
     ]
    }
   ],
   "source": [
    "import random\n",
    "\n",
    "num_sorteo = set()\n",
    "num_bolillas = 6\n",
    "contador = 0\n",
    "\n",
    "# Vamos a generar numeros mientras no hayan suficientes numeros del sorteo\n",
    "while len(num_sorteo) < num_bolillas:\n",
    "    # Se genera un numero entre 1 y 12\n",
    "    # Se guarda en el conjunto. Si el numero ya salio este no se agregara\n",
    "    num_sorteo.add(random.randrange(1, 12))\n",
    "    contador += 1\n",
    "    \n",
    "print(\"Bolillas del sorteo: \")\n",
    "for bolillas in num_sorteo:\n",
    "    print('{:4}'.format(bolillas), end='')\n",
    "    \n",
    "print(\"\\nNum Veces Num Generados: \", contador)"
   ]
  },
  {
   "cell_type": "markdown",
   "metadata": {},
   "source": [
    "Ejecute el programa anterior varias veces y observará no solo que las bolillas del sorteo siempre serán diferentes, sino que el numero de veces que se han generado números aleatorios puede ser mayor que 6, lo que significará que se han generado número repetidos pero al intentar agregarse al conjunto este número es descartado de forma automática."
   ]
  },
  {
   "cell_type": "code",
   "execution_count": 15,
   "metadata": {},
   "outputs": [
    {
     "name": "stdout",
     "output_type": "stream",
     "text": [
      "{99, 11, 45, 46, 89}\n",
      "{56, 193, 'Perú'}\n",
      "{'m', 'd', 'r', 'n', 'a', 'g', 'o', 'p'}\n"
     ]
    }
   ],
   "source": [
    "#las listas tuplas o cadenas pueden convertirse en conjunto, por lo que los elementos repetidos no se tomaran en cuenta:\n",
    "\n",
    "l = [11,99,11,45,89,11,46]\n",
    "cl = set(l)\n",
    "print(cl)\n",
    "\n",
    "t = (56,\"Perú\",\"Perú\",193,56)\n",
    "ct = set(t)\n",
    "print(ct)\n",
    "\n",
    "cad = \"programando\"\n",
    "cadc = set(cad)\n",
    "print(cadc)"
   ]
  },
  {
   "cell_type": "code",
   "execution_count": null,
   "metadata": {},
   "outputs": [],
   "source": []
  }
 ],
 "metadata": {
  "kernelspec": {
   "display_name": "Python 3",
   "language": "python",
   "name": "python3"
  },
  "language_info": {
   "codemirror_mode": {
    "name": "ipython",
    "version": 3
   },
   "file_extension": ".py",
   "mimetype": "text/x-python",
   "name": "python",
   "nbconvert_exporter": "python",
   "pygments_lexer": "ipython3",
   "version": "3.7.6"
  }
 },
 "nbformat": 4,
 "nbformat_minor": 2
}
