{
 "cells": [
  {
   "cell_type": "markdown",
   "metadata": {},
   "source": [
    "# Escritura y lectura de archivos"
   ]
  },
  {
   "cell_type": "markdown",
   "metadata": {},
   "source": [
    "<div class=\"alert alert-warning\" role=\"alert\" style=\"margin: 10px\">\n",
    "<p>**CUIDADO**</p>\n",
    "\n",
    "<p>Tenga cuidado con los siguientes ejercicios. Afectaran los archivos del sistema y pueden eliminar algun archivo que afecte el fucionamiento del equipo. Mantenga este archivo en un directorio independiente para que las mas modificaciones en lo archivos se mantengan dentro de este directorio.</p>\n",
    "</div>"
   ]
  },
  {
   "cell_type": "markdown",
   "metadata": {},
   "source": [
    "Python puede acceder a los archivos del sistema y tanto leer como escribir archvos, ya sea de texto o binarios. Esto permitirá tener un reporitorio de información no volatíl, al que podrems retornar para recuperar la inforamación almacenada."
   ]
  },
  {
   "cell_type": "markdown",
   "metadata": {},
   "source": [
    "La manipulación de archivos requiere la importación del módulo para el control del sistema operativo:"
   ]
  },
  {
   "cell_type": "code",
   "execution_count": 1,
   "metadata": {},
   "outputs": [],
   "source": [
    "import os"
   ]
  },
  {
   "cell_type": "markdown",
   "metadata": {},
   "source": [
    "Una vez importado el módulo, podemos tener acceso a ciertas consultas importantes sobre el systema operativo y el sistema de archivos (file system). Por ejemplo, validemos que nos encontramos en un directorio donde vamos a poder hacer nuestras pruebas:"
   ]
  },
  {
   "cell_type": "code",
   "execution_count": 2,
   "metadata": {},
   "outputs": [
    {
     "name": "stdout",
     "output_type": "stream",
     "text": [
      "Directorio de trabajo: C:\\Users\\ELVIS\\PROGRAMACIÓN DE COMPUTADORAS\\SEMANA 9\\BLENDED\n"
     ]
    }
   ],
   "source": [
    "# Validamos que el directorio de trabajo sea el correcto:\n",
    "print(\"Directorio de trabajo:\", os.getcwd())"
   ]
  },
  {
   "cell_type": "markdown",
   "metadata": {},
   "source": [
    "Vamos a crear un sub-directorio para probar las funciones del módulo os:"
   ]
  },
  {
   "cell_type": "code",
   "execution_count": 5,
   "metadata": {
    "scrolled": true
   },
   "outputs": [
    {
     "name": "stdout",
     "output_type": "stream",
     "text": [
      "Creando el directorio 'TextFiles'\n",
      "\n",
      "+-- C:\\Users\\ELVIS\\PROGRAMACIÓN DE COMPUTADORAS\\SEMANA 9\\BLENDED\\TextFiles :\n",
      " '-- TextFiles\n"
     ]
    }
   ],
   "source": [
    "# Se crea un directorio dentro del directorio actual si es que este no existe\n",
    "if not (os.path.exists('TextFiles')):\n",
    "    print(\"Creando el directorio 'TextFiles'\\n\")\n",
    "    os.mkdir('TextFiles')\n",
    "else:\n",
    "    print(\"El directorio 'TextFiles' ya existe\\n\")\n",
    "    \n",
    "# Se muestra el contenido de el directorio padre\n",
    "print(\"+--\", os.getcwd(), ':')\n",
    "for f in os.listdir():\n",
    "    print(\" '--\", f)"
   ]
  },
  {
   "cell_type": "code",
   "execution_count": 6,
   "metadata": {
    "scrolled": true
   },
   "outputs": [
    {
     "name": "stdout",
     "output_type": "stream",
     "text": [
      "\n",
      "Directorio de trabajo: C:\\Users\\ELVIS\\PROGRAMACIÓN DE COMPUTADORAS\\SEMANA 9\\BLENDED\\TextFiles\\TextFiles\n"
     ]
    }
   ],
   "source": [
    "#Se ingresa al directorio creado 'TextFiles'\n",
    "os.chdir('TextFiles')\n",
    "print(\"\\nDirectorio de trabajo:\", os.getcwd())"
   ]
  },
  {
   "cell_type": "markdown",
   "metadata": {},
   "source": [
    "Asi como se puede crear un directorio, tambien se pueden eliminar:"
   ]
  },
  {
   "cell_type": "code",
   "execution_count": 9,
   "metadata": {},
   "outputs": [
    {
     "name": "stdout",
     "output_type": "stream",
     "text": [
      "Directorios dentro de 'TextFiles': ['NuevoDir']\n",
      "Directorios dentro de 'TextFiles': []\n"
     ]
    }
   ],
   "source": [
    "# Se crea un directorio 'NuevoDir' dentro de 'TextFiles'\n",
    "if not (os.path.exists('NuevoDir')):\n",
    "    os.mkdir('NuevoDir')\n",
    "else:\n",
    "    print(\"El directorio 'NuevoDir' ya existe\\n\")\n",
    "\n",
    "# Verificar que se ha creado este directorio\n",
    "print(\"Directorios dentro de 'TextFiles':\", os.listdir())\n",
    "\n",
    "# Se elimina el directorio recientemente creado\n",
    "os.rmdir('NuevoDir')\n",
    "\n",
    "# Verificar que se ha eliminado el directorio\n",
    "print(\"Directorios dentro de 'TextFiles':\", os.listdir())"
   ]
  },
  {
   "cell_type": "markdown",
   "metadata": {},
   "source": [
    "**¡Hay que ser muy ordenado para manipular los archivos!** Por ejemplo, si se crea un directorio hay que salir de este para eliminarlo. Una forma de moverse hacia atras en un directorio es utilizar \"..\" para retroceder un directorio hijo a un directorio padre:\n",
    "\n",
    "    # Si el sistema esta en la ruta C:\\Dir1\\Dir2\\Dir3....\n",
    "    chdir('..')     # Esto hara que la ruta sea C:\\Dir1\\Dir2\n",
    "    chdir('..')     # Esto hara que la ruta sea C:\\Dir1\n"
   ]
  },
  {
   "cell_type": "markdown",
   "metadata": {},
   "source": [
    "## Manipulación de archivos de texto\n",
    "Para acceder a un archivo de texto se utiliza la instrucción:\n",
    "\n",
    "    open('archivo.txt')\n",
    "    \n",
    "Esta instrucción abrirá un arhivo de texto de nombre 'archivo.txt', en modo *lectura* e interpretará los caraceteres del archivo segun el formato 'utf-8'.\n",
    "\n",
    "Si el archivo no existe, se generá un error (excepción FileNotFoundError)."
   ]
  },
  {
   "cell_type": "code",
   "execution_count": 11,
   "metadata": {},
   "outputs": [
    {
     "name": "stdout",
     "output_type": "stream",
     "text": [
      "Accediendo al archivo 'texto.txt':\n",
      "El archivo 'texto.txt' no existe\n"
     ]
    }
   ],
   "source": [
    "print(\"Accediendo al archivo 'texto.txt':\")\n",
    "try:\n",
    "    open('texto.txt') #en caso el archivo se guarde en la carpeta TextFiles no es necesario especificar una ruta\n",
    "                      #caso contrario si deberia especificarse.\n",
    "except FileNotFoundError:\n",
    "    print(\"El archivo 'texto.txt' no existe\")"
   ]
  },
  {
   "cell_type": "markdown",
   "metadata": {},
   "source": [
    "Si el archivo existe y ha sido abierto, este se queda \"secuestado\" por el sistema. Esta es la forma normal de operación para mantener la integridad del sistema operativo (solo un elemento puede afectar un archivo). Es necesario cerrar un archivo abierto:\n",
    "\n",
    "    close('texto.txt')"
   ]
  },
  {
   "cell_type": "code",
   "execution_count": 12,
   "metadata": {},
   "outputs": [
    {
     "name": "stdout",
     "output_type": "stream",
     "text": [
      "El archivo 'texto.txt' no se encuentra abierto\n"
     ]
    }
   ],
   "source": [
    "try:\n",
    "    close('texto.txt')\n",
    "except NameError:\n",
    "    print(\"El archivo 'texto.txt' no se encuentra abierto\")"
   ]
  },
  {
   "cell_type": "markdown",
   "metadata": {},
   "source": [
    "Esto puede representar un problema, ya que es posible que se produzca un error en el programa y este se cierre sin que se halla cerrado un archivo abierto. Es por esta razón que la forma correcta de abrir un archivo es utilizando la instrucción **with**. Esta instrucción permite abrir un archivo y cuando el programa se cierra, también se cerrará el archivo. Esta vez vamos a abrir un archivo en modo *escritura* de forma tal que si el archivo no existe este se creará.\n",
    "\n",
    "Esto requiere especificar el campo mode='w' (por defecto, mode='r'). También existen los modos 'a' para agregar datos a los ya existentes ('w' crea un arhivo nuevo y si existe lo reescribe). Hay varios modos adicionales que se pueden consultar en la ayuda de Python.\n",
    "\n",
    "Una vez que el archivo se encuentre abierto, podemos escribir información en el archivo de texto con la instrucción archivo.write(). **Aca hay que tener cuidado, ya que funciona diferente a print(): es necesario incluír \\n si se quiere pasar a la linea inferior**"
   ]
  },
  {
   "cell_type": "code",
   "execution_count": 13,
   "metadata": {},
   "outputs": [],
   "source": [
    "with open ('texto.txt', mode='w') as file:\n",
    "    for num in range(11):\n",
    "        # Se guarda una secuencia de numeros como strings uno debajo del otro\n",
    "        file.write(str(num) +'\\n')\n",
    "\n",
    "#el archivo se escribira utilizando UNICODE"
   ]
  },
  {
   "cell_type": "markdown",
   "metadata": {},
   "source": [
    "Podemos abrir el archivo utilizando **with** para evitar la complicación de verificar si esta abierto o cerrado y verificar su contenido (no será necesario especificar el modo como *lectura* porque es el modo por defecto). La lectura se hara con la instrucción *archivo.read()*"
   ]
  },
  {
   "cell_type": "code",
   "execution_count": 14,
   "metadata": {},
   "outputs": [
    {
     "name": "stdout",
     "output_type": "stream",
     "text": [
      "0\n",
      "1\n",
      "2\n",
      "3\n",
      "4\n",
      "5\n",
      "6\n",
      "7\n",
      "8\n",
      "9\n",
      "10\n",
      "\n"
     ]
    }
   ],
   "source": [
    "with open('texto.txt',encoding=\"utf-8\") as file:\n",
    "    print(file.read())"
   ]
  },
  {
   "cell_type": "markdown",
   "metadata": {},
   "source": [
    "Volvamos a abrir el archivo en mode='w' para sobreescribirlo pero sin utilizar los \\n:"
   ]
  },
  {
   "cell_type": "code",
   "execution_count": 15,
   "metadata": {},
   "outputs": [
    {
     "name": "stdout",
     "output_type": "stream",
     "text": [
      "0, 1, 2, 3, 4, 5, 6, 7, 8, 9, 10, \n"
     ]
    }
   ],
   "source": [
    "with open ('texto.txt', mode='w') as file:\n",
    "    for num in range(11):\n",
    "        # Se guarda una secuencia de numeros como strings uno debajo del otro\n",
    "        file.write(str(num) +', ')\n",
    "        \n",
    "with open('texto.txt', encoding='utf-8') as file:\n",
    "    print(file.read())"
   ]
  },
  {
   "cell_type": "markdown",
   "metadata": {},
   "source": [
    "Ahora vamos a abrir el archivo en mode='a' para agregar información en un archivo ya existente:"
   ]
  },
  {
   "cell_type": "code",
   "execution_count": 16,
   "metadata": {},
   "outputs": [
    {
     "name": "stdout",
     "output_type": "stream",
     "text": [
      "0, 1, 2, 3, 4, 5, 6, 7, 8, 9, 10, 11, 12, 13, 14, 15, 16, 17, 18, 19, 20, \n"
     ]
    }
   ],
   "source": [
    "with open ('texto.txt', mode='a') as file:\n",
    "    for num in range(11, 21):\n",
    "        # Se guarda una secuencia de numeros como strings uno debajo del otro\n",
    "        file.write(str(num) +', ')\n",
    "        \n",
    "with open('texto.txt', encoding='utf-8') as file:\n",
    "    print(file.read())"
   ]
  },
  {
   "cell_type": "markdown",
   "metadata": {},
   "source": [
    "Hay tres formas de leer los datos de un arhivo:\n",
    "\n",
    "    arvhivo.read()       # Lee todo el contenido de un arvhivo de texto.\n",
    "    avhivo.readline()    # Lee cada linea de un archivo y luego apunta a la línea inferior. Incluye \\n\n",
    "    archivo.readlines()  # Retorna todas las líneas en una lista que incluirá el caracter \\n al final"
   ]
  },
  {
   "cell_type": "code",
   "execution_count": 17,
   "metadata": {},
   "outputs": [
    {
     "name": "stdout",
     "output_type": "stream",
     "text": [
      "Lectura con .read()\n",
      "0\n",
      "1\n",
      "2\n",
      "3\n",
      "4\n",
      "5\n",
      "6\n",
      "7\n",
      "8\n",
      "9\n",
      "10\n",
      "\n",
      "Lectura con .readline()\n",
      "1\n",
      "\n",
      "3\n",
      "\n",
      "5\n",
      "\n",
      "7\n",
      "\n",
      "9\n",
      "\n",
      "\n",
      "Lectura con .readlines()\n",
      "['0\\n', '1\\n', '2\\n', '3\\n', '4\\n', '5\\n', '6\\n', '7\\n', '8\\n', '9\\n', '10\\n']\n"
     ]
    }
   ],
   "source": [
    "with open ('texto.txt', mode='w') as file:\n",
    "    for num in range(11):\n",
    "        # Se guarda una secuencia de numeros como strings uno debajo del otro\n",
    "        file.write(str(num) +'\\n')\n",
    "        \n",
    "# Lectura con read()\n",
    "print(\"Lectura con .read()\")\n",
    "with open('texto.txt', encoding='utf-8') as file:\n",
    "    print(file.read())\n",
    "    \n",
    "# Lectura con readline()\n",
    "print(\"Lectura con .readline()\")\n",
    "with open('texto.txt', encoding='utf-8') as file:\n",
    "    while True:\n",
    "        line = file.readline()\n",
    "        if line:\n",
    "            print(file.readline())\n",
    "        else:\n",
    "            break\n",
    "            \n",
    "# Lectura con readlines()\n",
    "print(\"Lectura con .readlines()\")\n",
    "with open('texto.txt', encoding='utf-8') as file:\n",
    "    print(file.readlines())\n"
   ]
  },
  {
   "cell_type": "markdown",
   "metadata": {},
   "source": [
    "Otra forma de leer los datos es utilizando el archivo como un iterable:"
   ]
  },
  {
   "cell_type": "code",
   "execution_count": 18,
   "metadata": {
    "scrolled": true
   },
   "outputs": [
    {
     "name": "stdout",
     "output_type": "stream",
     "text": [
      "0\n",
      "1\n",
      "2\n",
      "3\n",
      "4\n",
      "5\n",
      "6\n",
      "7\n",
      "8\n",
      "9\n",
      "10\n"
     ]
    }
   ],
   "source": [
    "with open ('texto.txt', mode='w') as file:\n",
    "    for num in range(11):\n",
    "        # Se guarda una secuencia de numeros como strings uno debajo del otro\n",
    "        file.write(str(num) +'\\n')\n",
    "\n",
    "# Leyendo el contenido de un arhivo utilizado file como iterable\n",
    "with open('texto.txt', encoding='utf-8') as file:\n",
    "    for line in file:\n",
    "        print(line, end='')     # Cada linea ya incluye \\n"
   ]
  },
  {
   "cell_type": "code",
   "execution_count": 19,
   "metadata": {},
   "outputs": [
    {
     "ename": "NameError",
     "evalue": "name 'miArchivo' is not defined",
     "output_type": "error",
     "traceback": [
      "\u001b[1;31m---------------------------------------------------------------------------\u001b[0m",
      "\u001b[1;31mNameError\u001b[0m                                 Traceback (most recent call last)",
      "\u001b[1;32m<ipython-input-19-04c777c6e4f0>\u001b[0m in \u001b[0;36m<module>\u001b[1;34m\u001b[0m\n\u001b[0;32m      2\u001b[0m \u001b[1;33m\u001b[0m\u001b[0m\n\u001b[0;32m      3\u001b[0m \u001b[1;31m# Consulta si el archivo se encuentra cerrado (Como hemos abierto el archivo con with deberia retornar True)\u001b[0m\u001b[1;33m\u001b[0m\u001b[1;33m\u001b[0m\u001b[1;33m\u001b[0m\u001b[0m\n\u001b[1;32m----> 4\u001b[1;33m \u001b[0mprint\u001b[0m\u001b[1;33m(\u001b[0m\u001b[0mmiArchivo\u001b[0m\u001b[1;33m.\u001b[0m\u001b[0mclosed\u001b[0m\u001b[1;33m)\u001b[0m\u001b[1;33m\u001b[0m\u001b[1;33m\u001b[0m\u001b[0m\n\u001b[0m\u001b[0;32m      5\u001b[0m \u001b[1;33m\u001b[0m\u001b[0m\n\u001b[0;32m      6\u001b[0m \u001b[1;31m# Obtiene el nombre del archivo\u001b[0m\u001b[1;33m\u001b[0m\u001b[1;33m\u001b[0m\u001b[1;33m\u001b[0m\u001b[0m\n",
      "\u001b[1;31mNameError\u001b[0m: name 'miArchivo' is not defined"
     ]
    }
   ],
   "source": [
    "#instrucciones adicionales:\n",
    "\n",
    "# Consulta si el archivo se encuentra cerrado (Como hemos abierto el archivo con with deberia retornar True)\n",
    "print(miArchivo.closed)\n",
    "\n",
    "# Obtiene el nombre del archivo\n",
    "print(miArchivo.name)\n",
    "\n",
    "# Obtiene el modo de acceso al archivo\n",
    "print(miArhivo.mode)\n",
    "\n",
    "# Renombra un archivo\n",
    "os.rename(\"texto.txt\", \"test.txt\")\n",
    "\n",
    "# Elimina el arhivo\n",
    "os.remove(\"test.txt\")"
   ]
  },
  {
   "cell_type": "markdown",
   "metadata": {},
   "source": [
    "## Manipulacion de archivo csv\n",
    "Un archivo .csv es un archivo con valores separados por comas (\"comma value separated\"). Este tipo de archivos es típico en el intercambio de datos cuya fuente de origen son hojas de calculo (Excel, Google Spreadsheats, etc.) o equipos de medición (GPS, tacometros,etc.)\n",
    "\n",
    "En estos archivos, los valores estan separados por ',' y esto hace más sencillo poder obtener no las líneas de un archivo de texto, sino los valores almacenados. Creemos un arvhivo csv: "
   ]
  },
  {
   "cell_type": "code",
   "execution_count": 20,
   "metadata": {},
   "outputs": [
    {
     "name": "stdout",
     "output_type": "stream",
     "text": [
      "0,0,0\n",
      "1,1,1\n",
      "2,4,8\n",
      "3,9,27\n",
      "4,16,64\n",
      "5,25,125\n",
      "6,36,216\n",
      "7,49,343\n",
      "8,64,512\n",
      "9,81,729\n",
      "10,100,1000\n"
     ]
    }
   ],
   "source": [
    "with open ('datos.csv', mode='w') as file:\n",
    "    for num in range(11):\n",
    "        # Se guarda un listado de numeros, sus cuadrados y cubos\n",
    "        line = \"{},{},{}\\n\".format(num, num**2, num**3)\n",
    "        file.write(line)\n",
    "\n",
    "# Leyendo el contenido de un arhivo csv\n",
    "with open('datos.csv', encoding='utf-8') as file:\n",
    "    for line in file:\n",
    "        print(line, end='')     # Cada linea ya incluye \\n"
   ]
  },
  {
   "cell_type": "markdown",
   "metadata": {},
   "source": [
    "Como es un arvhivo en formato csv, utilizaremos una función especial para leer los campos de este archivo. Esta función es parte del modulo csv que será necesario importarlo. La función *reader = csv.reader(archivo_csv)* retornará un *puntero* que apunta a la primera linea. *reader* es un iterable por lo que se podrá utilizar dentro de un lazo.\n",
    "\n",
    "Se puede utilizar una lista para trasladar la información del archivo a un estructura que podrá ser consultada mas adelante:"
   ]
  },
  {
   "cell_type": "code",
   "execution_count": 25,
   "metadata": {},
   "outputs": [
    {
     "ename": "AttributeError",
     "evalue": "module 'csv' has no attribute 'read'",
     "output_type": "error",
     "traceback": [
      "\u001b[1;31m---------------------------------------------------------------------------\u001b[0m",
      "\u001b[1;31mAttributeError\u001b[0m                            Traceback (most recent call last)",
      "\u001b[1;32m<ipython-input-25-09f5cd4d526a>\u001b[0m in \u001b[0;36m<module>\u001b[1;34m\u001b[0m\n\u001b[0;32m      3\u001b[0m \u001b[0mdata\u001b[0m \u001b[1;33m=\u001b[0m \u001b[1;33m[\u001b[0m\u001b[1;33m]\u001b[0m\u001b[1;33m\u001b[0m\u001b[1;33m\u001b[0m\u001b[0m\n\u001b[0;32m      4\u001b[0m \u001b[1;32mwith\u001b[0m \u001b[0mopen\u001b[0m\u001b[1;33m(\u001b[0m\u001b[1;34m'datos.csv'\u001b[0m\u001b[1;33m)\u001b[0m \u001b[1;32mas\u001b[0m \u001b[0mcsv_file\u001b[0m\u001b[1;33m:\u001b[0m\u001b[1;33m\u001b[0m\u001b[1;33m\u001b[0m\u001b[0m\n\u001b[1;32m----> 5\u001b[1;33m     \u001b[0mreader\u001b[0m \u001b[1;33m=\u001b[0m \u001b[0mcsv\u001b[0m\u001b[1;33m.\u001b[0m\u001b[0mread\u001b[0m\u001b[1;33m(\u001b[0m\u001b[0mcsv_file\u001b[0m\u001b[1;33m)\u001b[0m\u001b[1;33m\u001b[0m\u001b[1;33m\u001b[0m\u001b[0m\n\u001b[0m\u001b[0;32m      6\u001b[0m     \u001b[0mprint\u001b[0m\u001b[1;33m(\u001b[0m\u001b[0mreader\u001b[0m\u001b[1;33m)\u001b[0m\u001b[1;33m\u001b[0m\u001b[1;33m\u001b[0m\u001b[0m\n",
      "\u001b[1;31mAttributeError\u001b[0m: module 'csv' has no attribute 'read'"
     ]
    }
   ],
   "source": [
    "import csv\n",
    "\n",
    "data = []\n",
    "with open('datos.csv') as csv_file:\n",
    "    reader = csv.read(csv_file)\n",
    "    print(reader)\n"
   ]
  },
  {
   "cell_type": "markdown",
   "metadata": {},
   "source": [
    "Se puede observar que *csv.reader(file)* retorna una línea con los datos separados y a los que se puede acceder de forma independiente utilzando índices. Es comun que los archivos csv contengan un encabezado de datos:"
   ]
  },
  {
   "cell_type": "code",
   "execution_count": 22,
   "metadata": {},
   "outputs": [
    {
     "name": "stdout",
     "output_type": "stream",
     "text": [
      "NUM,CUAD,CUBO\n",
      "0,0,0\n",
      "1,1,1\n",
      "2,4,8\n",
      "3,9,27\n",
      "4,16,64\n",
      "5,25,125\n",
      "6,36,216\n",
      "7,49,343\n",
      "8,64,512\n",
      "9,81,729\n",
      "10,100,1000\n"
     ]
    }
   ],
   "source": [
    "with open ('datos.csv', mode='w') as file:\n",
    "    file.write(\"{},{},{}\\n\".format('NUM','CUAD','CUBO'))\n",
    "    for num in range(11):\n",
    "        # Se guarda un listado de numeros, sus cuadrados y cubos\n",
    "        line = \"{},{},{}\\n\".format(num, num**2, num**3)\n",
    "        file.write(line)\n",
    "\n",
    "# Leyendo el contenido de un arhivo csv\n",
    "with open('datos.csv', encoding='utf-8') as file:\n",
    "    for line in file:\n",
    "        print(line, end='')     # Cada linea ya incluye \\n"
   ]
  },
  {
   "cell_type": "markdown",
   "metadata": {},
   "source": [
    "Para evitar el encabezado al momento de leer el archivo (y en general, de alguna línea), se utiliza la función *next(reader)* para saltar una línea. Vamos a repetir la lectura del archivo csv evitando el encabezado e imprimiendo los resultados:"
   ]
  },
  {
   "cell_type": "code",
   "execution_count": 23,
   "metadata": {},
   "outputs": [
    {
     "name": "stdout",
     "output_type": "stream",
     "text": [
      "Numero: 0   Cuadrado: 0    Cubo: 0     \n",
      "Numero: 1   Cuadrado: 1    Cubo: 1     \n",
      "Numero: 2   Cuadrado: 4    Cubo: 8     \n",
      "Numero: 3   Cuadrado: 9    Cubo: 27    \n",
      "Numero: 4   Cuadrado: 16   Cubo: 64    \n",
      "Numero: 5   Cuadrado: 25   Cubo: 125   \n",
      "Numero: 6   Cuadrado: 36   Cubo: 216   \n",
      "Numero: 7   Cuadrado: 49   Cubo: 343   \n",
      "Numero: 8   Cuadrado: 64   Cubo: 512   \n",
      "Numero: 9   Cuadrado: 81   Cubo: 729   \n",
      "Numero: 10  Cuadrado: 100  Cubo: 1000  \n"
     ]
    }
   ],
   "source": [
    "import csv\n",
    "\n",
    "data = []\n",
    "with open('datos.csv') as csv_file:\n",
    "    reader = csv.reader(csv_file)\n",
    "    # Se pasa a la siguiente linea para evitar el encabezado\n",
    "    next(reader)\n",
    "    \n",
    "    for line in reader:\n",
    "        print(\"Numero: {:3} Cuadrado: {:4} Cubo: {:6}\".format(line[0], line[1], line[2]))"
   ]
  },
  {
   "cell_type": "markdown",
   "metadata": {},
   "source": [
    "El acceso a un archivo binario requiere la manipulación de bytes de información, lo que escapa el alcance de este curso."
   ]
  },
  {
   "cell_type": "code",
   "execution_count": 26,
   "metadata": {},
   "outputs": [
    {
     "name": "stdout",
     "output_type": "stream",
     "text": [
      "{1, 2, 3, 5, 8}\n"
     ]
    }
   ],
   "source": [
    "a={1,2,3}\n",
    "b={5,6,7}\n",
    "asd=[1,2,5,8,5]\n",
    "a.update(asd)\n",
    "print(a)"
   ]
  },
  {
   "cell_type": "code",
   "execution_count": null,
   "metadata": {},
   "outputs": [],
   "source": []
  }
 ],
 "metadata": {
  "kernelspec": {
   "display_name": "Python 3",
   "language": "python",
   "name": "python3"
  },
  "language_info": {
   "codemirror_mode": {
    "name": "ipython",
    "version": 3
   },
   "file_extension": ".py",
   "mimetype": "text/x-python",
   "name": "python",
   "nbconvert_exporter": "python",
   "pygments_lexer": "ipython3",
   "version": "3.7.6"
  }
 },
 "nbformat": 4,
 "nbformat_minor": 2
}
