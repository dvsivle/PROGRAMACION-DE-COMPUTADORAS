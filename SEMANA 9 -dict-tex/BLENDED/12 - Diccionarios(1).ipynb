{
 "cells": [
  {
   "cell_type": "markdown",
   "metadata": {},
   "source": [
    "# Diccionarios\n",
    "Un Diccionario es un tipo de datos en Python que permite organizar la información de manera semejante a una lista. Sin embargo, en una lista cada elemento tiene un índice asociado; en un diccionario, cada elemento tiene una llave asociada. Esta llave es el elemento que identifica de manera única a cada elemento. Esto significa que aunque los datos se puede repetir en una diccionario, las llaves son únicas ya que identifican a cada elemento (así como en una lista los índices también son únicos).\n",
    "\n",
    "Un diccionario se especifica con { } (como si fuera un libro) y un elemento tiene la forma llave: dato."
   ]
  },
  {
   "cell_type": "code",
   "execution_count": 1,
   "metadata": {},
   "outputs": [
    {
     "name": "stdout",
     "output_type": "stream",
     "text": [
      "almuno['nombre'] = Elmer\n",
      "alumno['edad'] = 20\n",
      "alumno['curso'] = fisica\n"
     ]
    }
   ],
   "source": [
    "alumno = {'nombre': 'Elmer', 'edad': 20, 'curso': 'fisica'}\n",
    "\n",
    "# Se imprimen los elementos del alumno1 utilizando las llaves de identificación de cada dato:\n",
    "print(\"almuno['nombre'] =\", alumno['nombre'])\n",
    "print(\"alumno['edad'] =\", alumno['edad'])\n",
    "print(\"alumno['curso'] =\", alumno['curso'])"
   ]
  },
  {
   "cell_type": "code",
   "execution_count": 2,
   "metadata": {},
   "outputs": [
    {
     "name": "stdout",
     "output_type": "stream",
     "text": [
      "True\n",
      "False\n"
     ]
    }
   ],
   "source": [
    "#Se puede verificar si una llave esta o no en un diccionario:\n",
    "print(\"edad\" in alumno)\n",
    "print(\"apellido\" in alumno)"
   ]
  },
  {
   "cell_type": "markdown",
   "metadata": {},
   "source": [
    "Considere lo siguiente:\n",
    "\n",
    "- Las llaves son cadenas. Pueden ser números y tuplas, pero no listas.\n",
    "- Los datos se separan de las llaves con :\n",
    "- Las llaves se especifican entre [], como sucede con los indices en otras seccuencias en Python\n",
    "\n",
    "Cuando se especifica una llave que no exista, Python retorará una excepcion (*KeyError*):"
   ]
  },
  {
   "cell_type": "code",
   "execution_count": 3,
   "metadata": {
    "scrolled": true
   },
   "outputs": [
    {
     "ename": "KeyError",
     "evalue": "'apellido'",
     "output_type": "error",
     "traceback": [
      "\u001b[1;31m---------------------------------------------------------------------------\u001b[0m",
      "\u001b[1;31mKeyError\u001b[0m                                  Traceback (most recent call last)",
      "\u001b[1;32m<ipython-input-3-b8f5a0089755>\u001b[0m in \u001b[0;36m<module>\u001b[1;34m\u001b[0m\n\u001b[1;32m----> 1\u001b[1;33m \u001b[0mprint\u001b[0m\u001b[1;33m(\u001b[0m\u001b[0malumno\u001b[0m\u001b[1;33m[\u001b[0m\u001b[1;34m'apellido'\u001b[0m\u001b[1;33m]\u001b[0m\u001b[1;33m)\u001b[0m\u001b[1;33m\u001b[0m\u001b[1;33m\u001b[0m\u001b[0m\n\u001b[0m",
      "\u001b[1;31mKeyError\u001b[0m: 'apellido'"
     ]
    }
   ],
   "source": [
    "print(alumno['apellido'])"
   ]
  },
  {
   "cell_type": "markdown",
   "metadata": {},
   "source": [
    "Se puede editar un dato asi como agregar un nuevo registro en un diccionario (cuidado que la llave no exista en el diccionario):"
   ]
  },
  {
   "cell_type": "code",
   "execution_count": 4,
   "metadata": {},
   "outputs": [
    {
     "name": "stdout",
     "output_type": "stream",
     "text": [
      "{'nombre': 'Elmer', 'edad': 24, 'curso': 'fisica', 'apellido': 'Curio'}\n"
     ]
    }
   ],
   "source": [
    "alumno['edad'] = 24  #modificando el dato de la llave  edad\n",
    "alumno['apellido'] = 'Curio'  #agregando el elemento \"apellido\":\"curio\"\n",
    "print(alumno)"
   ]
  },
  {
   "cell_type": "code",
   "execution_count": 5,
   "metadata": {},
   "outputs": [
    {
     "name": "stdout",
     "output_type": "stream",
     "text": [
      "{}\n"
     ]
    }
   ],
   "source": [
    "#se puede crear un diccionario vacío:\n",
    "dic = {}\n",
    "print(dic)"
   ]
  },
  {
   "cell_type": "markdown",
   "metadata": {},
   "source": [
    "E incluso se puede eliminar un dato, especificando la llave:"
   ]
  },
  {
   "cell_type": "code",
   "execution_count": 6,
   "metadata": {},
   "outputs": [
    {
     "name": "stdout",
     "output_type": "stream",
     "text": [
      "{'nombre': 'Elmer', 'curso': 'fisica', 'apellido': 'Curio'}\n"
     ]
    }
   ],
   "source": [
    "del alumno['edad']\n",
    "print(alumno)"
   ]
  },
  {
   "cell_type": "markdown",
   "metadata": {},
   "source": [
    "Hay dos instrucciones que pueden resultar utiles:\n",
    "\n",
    "    diccionario.clear()   #Elimina todos los elementos de un diccionario, dejando este en blanco\n",
    "    del diccionario       #Elimina el diccionario completamente   \n",
    "    \n",
    "Para interactuar con un diccionario es importante conocer cuales son sus especificaciones:"
   ]
  },
  {
   "cell_type": "code",
   "execution_count": 8,
   "metadata": {
    "scrolled": true
   },
   "outputs": [
    {
     "name": "stdout",
     "output_type": "stream",
     "text": [
      "{'nombre': 'Elmer', 'curso': 'fisica', 'apellido': 'Curio'} \n",
      "\n",
      "Numero de elementos: 3 \n",
      "\n",
      "Cuales son? dict_values(['Elmer', 'fisica', 'Curio']) \n",
      "\n",
      "Que llaves tiene? dict_keys(['nombre', 'curso', 'apellido']) \n",
      "\n",
      "Y como estan organizados? dict_items([('nombre', 'Elmer'), ('curso', 'fisica'), ('apellido', 'Curio')]) \n",
      "\n",
      "Que dato tiene como nombre? Elmer \n",
      "\n",
      "Que dato tiene como edad? no existe \n",
      "\n"
     ]
    }
   ],
   "source": [
    "print(alumno, '\\n')\n",
    "\n",
    "print(\"Numero de elementos:\", len(alumno), '\\n')\n",
    "\n",
    "print(\"Cuales son?\", alumno.values(), '\\n')\n",
    "\n",
    "print(\"Que llaves tiene?\", alumno.keys(), '\\n')\n",
    "\n",
    "print(\"Y como estan organizados?\", alumno.items(), '\\n')\n",
    "\n",
    "print(\"Que dato tiene como nombre?\", alumno.get('nombre','no existe'), '\\n')\n",
    "\n",
    "print(\"Que dato tiene como edad?\", alumno.get('edad', 'no existe'), '\\n')"
   ]
  },
  {
   "cell_type": "markdown",
   "metadata": {},
   "source": [
    "Un diccionario es un iterable, aunque no se puede utilizar dicectamente en un lazo for: las llaves y valores debe de ser desempaquetados previamente. Si no se separan, solo se iterará sobre las llaves:"
   ]
  },
  {
   "cell_type": "code",
   "execution_count": 9,
   "metadata": {},
   "outputs": [
    {
     "name": "stdout",
     "output_type": "stream",
     "text": [
      "nombre\n",
      "curso\n",
      "apellido\n"
     ]
    }
   ],
   "source": [
    "for data in alumno:\n",
    "    print(data)"
   ]
  },
  {
   "cell_type": "code",
   "execution_count": 10,
   "metadata": {},
   "outputs": [
    {
     "name": "stdout",
     "output_type": "stream",
     "text": [
      "nombre -> Elmer\n",
      "curso -> fisica\n",
      "apellido -> Curio\n"
     ]
    }
   ],
   "source": [
    "for key, value in alumno.items():\n",
    "    print(key, \"->\",value)"
   ]
  },
  {
   "cell_type": "code",
   "execution_count": 13,
   "metadata": {},
   "outputs": [
    {
     "name": "stdout",
     "output_type": "stream",
     "text": [
      "('nombre', 'curso', 'apellido')\n",
      "['nombre', 'curso', 'apellido']\n",
      "['Elmer', 'fisica', 'Curio']\n"
     ]
    }
   ],
   "source": [
    "# Obtener la lista de las llaves de un diccionario\n",
    "keys = alumno.keys()\n",
    "print(tuple(keys))\n",
    "print(list(keys))\n",
    "# Obtener la lista de los valores de un diccionario\n",
    "values = alumno.values()\n",
    "print(list(values))"
   ]
  },
  {
   "cell_type": "markdown",
   "metadata": {},
   "source": [
    "## Listas y diccionarios\n",
    "Como puede verse, los diccionarios son ideales para guardar información como si fueran las filas de una tabla. Se puede hacer una lista de diccionarios para crear una tabla (en lugar de hacer una lista de listas, en donde los datos no son tan faciles de visualizar):"
   ]
  },
  {
   "cell_type": "code",
   "execution_count": 50,
   "metadata": {},
   "outputs": [
    {
     "name": "stdout",
     "output_type": "stream",
     "text": [
      "Elmer Curio\n",
      "Elba Lazo\n",
      "Dina Mita\n",
      "Mario Neta\n",
      "Elsa Polindo\n"
     ]
    }
   ],
   "source": [
    "listado_alumnos = [{'nombre': 'Elmer', 'apellido': 'Curio'},\n",
    "                   {'nombre': 'Elba', 'apellido': 'Lazo'},\n",
    "                   {'nombre': 'Dina', 'apellido': 'Mita'},\n",
    "                   {'nombre': 'Mario', 'apellido': 'Neta'},\n",
    "                   {'nombre': 'Elsa', 'apellido': 'Polindo'}]\n",
    "\n",
    "\n",
    "for registro in listado_alumnos:\n",
    "    print(registro['nombre'], registro['apellido'])"
   ]
  },
  {
   "cell_type": "code",
   "execution_count": 14,
   "metadata": {},
   "outputs": [
    {
     "name": "stdout",
     "output_type": "stream",
     "text": [
      "Nuevo cliente (Si/No): s\n",
      "Ingrese nombre y apellido paterno del cliente: awerj ENKD\n",
      "Nuevo cliente (Si/No): S\n",
      "Ingrese nombre y apellido paterno del cliente: ALSJDB nsd\n",
      "Nuevo cliente (Si/No): s\n",
      "Ingrese nombre y apellido paterno del cliente: sñkfn LAJB\n",
      "Nuevo cliente (Si/No): n\n",
      "\n",
      "Lista de clientes\n",
      "-----------------\n",
      "awerj\n",
      "ALSJDB\n",
      "sñkfn\n"
     ]
    }
   ],
   "source": [
    "#ejemplo aplicativo:\n",
    "\n",
    "# Creando una lista de diccionarios de clientes\n",
    "clientes = []\n",
    "\n",
    "while True:\n",
    "    # La primera letra ingresada se convierte en minuscula\n",
    "    # sin importar si ingreso s, Si, si\n",
    "    crearIngreso = input(\"Nuevo cliente (Si/No): \")\n",
    "    crearIngreso = crearIngreso[0].lower()\n",
    "\n",
    "    if crearIngreso == \"n\":\n",
    "        break\n",
    "    else:\n",
    "        nombre, apellido = input(\"Ingrese nombre y apellido paterno del cliente: \").split()\n",
    "        clientes.append({\"nombre\": nombre, \"apellido\": apellido})\n",
    "#, \"apellido\": apellido\n",
    "print(\"\\nLista de clientes\")\n",
    "print(\"-----------------\")\n",
    "for registro in clientes:\n",
    "    print( registro[\"apellido\"],registro[\"nombre\"])"
   ]
  },
  {
   "cell_type": "markdown",
   "metadata": {},
   "source": [
    "Asi también, se puede tener un lista dentro de un diccionario:"
   ]
  },
  {
   "cell_type": "code",
   "execution_count": 2,
   "metadata": {},
   "outputs": [
    {
     "name": "stdout",
     "output_type": "stream",
     "text": [
      "Cursos de Elmer :\n",
      "  - Fisica I\n",
      "  - Programacion I\n",
      "  - Lenguaje I\n",
      "\n",
      "Cursos de Elba :\n",
      "  - Fisica I\n",
      "  - Lenguaje II\n",
      "\n",
      "Cursos de Mario :\n",
      "  - Lenguaje II\n",
      "  - Matematica II\n",
      "  - Lenguaje I\n",
      "\n"
     ]
    }
   ],
   "source": [
    "alumnos = {\n",
    "    'Elmer': ['Fisica I', 'Programacion I', 'Lenguaje I'],\n",
    "    'Elba': ['Fisica I', 'Lenguaje II'],\n",
    "    'Mario': ['Lenguaje II', 'Matematica II', 'Lenguaje I']\n",
    "}\n",
    "\n",
    "for nombre, cursos in alumnos.items():\n",
    "    print(\"Cursos de\", nombre, \":\")\n",
    "    for curso in cursos:\n",
    "        print(\"  -\", curso)\n",
    "    print()"
   ]
  },
  {
   "cell_type": "markdown",
   "metadata": {},
   "source": [
    "O inclusive un diccionario dentro de un diccionario..."
   ]
  },
  {
   "cell_type": "code",
   "execution_count": 36,
   "metadata": {},
   "outputs": [
    {
     "name": "stdout",
     "output_type": "stream",
     "text": [
      "EL129    Programacion I       Creditos: 3\n",
      "HU101    Lenguaje II          Creditos: 2\n",
      "EL139    Programacion II      Creditos: 4\n",
      "CI121    Fisica I             Creditos: 4\n",
      "2\n"
     ]
    }
   ],
   "source": [
    "alumnos ={\n",
    "    'Elmer':{\n",
    "        'Curso1':{\n",
    "                'Nombre': 'Programacion I',\n",
    "                'Codigo': 'EL129',\n",
    "                'Creditos': 3\n",
    "                },\n",
    "        'Curso2':{\n",
    "                'Nombre': 'Lenguaje II',\n",
    "                'Codigo': 'HU101',\n",
    "                'Creditos': 2\n",
    "                },\n",
    "            },\n",
    "    \n",
    "    'Elba':{\n",
    "        'Curso1':{\n",
    "                'Nombre': 'Programacion II',\n",
    "                'Codigo': 'EL139',\n",
    "                'Creditos': 4\n",
    "                },\n",
    "        'Curso2':{\n",
    "                'Nombre': 'Fisica I',\n",
    "                'Codigo': 'CI121',\n",
    "                'Creditos': 4\n",
    "                }\n",
    "            }\n",
    "    }\n",
    "\n",
    "for alumno, cursos in alumnos.items():\n",
    "    for curso, datos in cursos.items():\n",
    "        print(\"{:8} {:20} Creditos: {}\".format(datos['Codigo'], datos['Nombre'], datos['Creditos']))\n",
    "\n",
    "print(len(alumnos))      "
   ]
  },
  {
   "cell_type": "markdown",
   "metadata": {},
   "source": [
    "Un diccionario, por lo tanto, es un tipo de datos que resulta útil como repositorio de información organizada con etiquetas y es muy útil para definir tablas de datos."
   ]
  },
  {
   "cell_type": "code",
   "execution_count": 35,
   "metadata": {},
   "outputs": [
    {
     "name": "stdout",
     "output_type": "stream",
     "text": [
      "{'juan': 20, 'elvis': 54, 'joel': 26, 'dskjf': 68}\n"
     ]
    }
   ],
   "source": [
    "nombres=['juan','elvis','joel','dskjf','asdfas','asd']\n",
    "edades=[20,54,26,68]\n",
    "\n",
    "dic=dict(zip(nombres,edades))\n",
    "print(dic)"
   ]
  },
  {
   "cell_type": "code",
   "execution_count": null,
   "metadata": {},
   "outputs": [],
   "source": []
  },
  {
   "cell_type": "code",
   "execution_count": null,
   "metadata": {},
   "outputs": [],
   "source": []
  }
 ],
 "metadata": {
  "kernelspec": {
   "display_name": "Python 3",
   "language": "python",
   "name": "python3"
  },
  "language_info": {
   "codemirror_mode": {
    "name": "ipython",
    "version": 3
   },
   "file_extension": ".py",
   "mimetype": "text/x-python",
   "name": "python",
   "nbconvert_exporter": "python",
   "pygments_lexer": "ipython3",
   "version": "3.7.6"
  }
 },
 "nbformat": 4,
 "nbformat_minor": 2
}
