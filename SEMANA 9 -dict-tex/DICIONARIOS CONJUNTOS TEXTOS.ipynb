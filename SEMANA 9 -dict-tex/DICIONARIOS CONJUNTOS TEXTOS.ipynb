{
 "cells": [
  {
   "cell_type": "code",
   "execution_count": null,
   "metadata": {},
   "outputs": [],
   "source": [
    "# creando un conjunto\n",
    "\n",
    "c= {5,19,5,0,90,19,6,5,23} # conjuntos numericos\n",
    "\n",
    "print(c)  #se muestran los datos ordenados en caso sea un conjunto numerico\n",
    "print(\"tipo: \",type(c))\n",
    "print(len(c))\n",
    "\n",
    "#un conjunto no permite datos o elementos repetidos"
   ]
  },
  {
   "cell_type": "code",
   "execution_count": null,
   "metadata": {},
   "outputs": [],
   "source": [
    "paises={'peru','chile','argentina', 'brasil','peru','chile'}\n",
    "print(paises)  #no hay un orden especifico al hora de mostrar\n",
    "print(\"tipo:\",type(paises))\n",
    "print(\"tamaño del conjunto\",len(paises))\n"
   ]
  },
  {
   "cell_type": "code",
   "execution_count": null,
   "metadata": {},
   "outputs": [],
   "source": []
  },
  {
   "cell_type": "code",
   "execution_count": null,
   "metadata": {},
   "outputs": [],
   "source": [
    "# REQUERIMIENTO 1\n",
    "cadena=input(\"Ingrese una cadena: \")\n",
    "lpalabras=cadena.split()\n",
    "\n",
    "#convertir la lista a conjuntos\n",
    "cpalabras=set(lpalabras)\n",
    "\n",
    "print(\"La cadena tiene\",len(cpalabras),\"palabras distintas\")"
   ]
  },
  {
   "cell_type": "code",
   "execution_count": null,
   "metadata": {},
   "outputs": [],
   "source": [
    "# ACCEDER A LOS ELEMENTOS DE UN CONJUNTO\n"
   ]
  },
  {
   "cell_type": "code",
   "execution_count": null,
   "metadata": {},
   "outputs": [],
   "source": [
    "#Conjunto vacío\n",
    "numeros=set()\n",
    "print(len(numeros))"
   ]
  },
  {
   "cell_type": "code",
   "execution_count": null,
   "metadata": {},
   "outputs": [],
   "source": [
    "from random import*\n",
    "aleatorios=set()\n",
    "\n",
    "tam=len(aleatorios)\n",
    "while(True):\n",
    "    s=randint(100,999)\n",
    "    aleatorios.add(s)\n",
    "    if(len(aleatorios)==20):\n",
    "        break\n",
    "\n",
    "print(\"Datos generados\")\n",
    "for i in aleatorios:\n",
    "    print(i)"
   ]
  },
  {
   "cell_type": "markdown",
   "metadata": {},
   "source": [
    ">> # Dicionnarios"
   ]
  },
  {
   "cell_type": "code",
   "execution_count": 1,
   "metadata": {},
   "outputs": [
    {
     "name": "stdout",
     "output_type": "stream",
     "text": [
      "{'nombre': 'Elvis', 'edad': 20, 'pais': 'Peru', 'profesion': 'estudiante', 'codigo': 20}\n",
      "tipo <class 'dict'>\n",
      "Tamaño del dicionario:  5\n"
     ]
    }
   ],
   "source": [
    "d= {\"nombre\":\"Elvis\",\"edad\":20,\"pais\":\"Peru\",\"profesion\":\"estudiante\",\"codigo\":20}\n",
    "print(d) # se imprimen los elementos no necesariamente en orden especifico\n",
    "print(\"tipo\",type(d))\n",
    "print(\"Tamaño del dicionario: \",len(d))\n",
    "\n",
    "#los elementos de un diccionario debe tener la forma: llave:valor(dato)\n",
    "#un diccionario no puede tener 2 a mas llaves iguales\n"
   ]
  },
  {
   "cell_type": "code",
   "execution_count": 2,
   "metadata": {},
   "outputs": [
    {
     "name": "stdout",
     "output_type": "stream",
     "text": [
      "Elvis\n",
      "Peru\n",
      "20\n",
      "\n",
      "nombre\n",
      "edad\n",
      "pais\n",
      "profesion\n",
      "codigo\n",
      "\n",
      "nombre : Elvis\n",
      "edad : 20\n",
      "pais : Peru\n",
      "profesion : estudiante\n",
      "codigo : 20\n"
     ]
    }
   ],
   "source": [
    "print(d[\"nombre\"])\n",
    "print(d[\"pais\"])\n",
    "print(d[\"codigo\"])\n",
    "\n",
    "print()\n",
    "for v in d:#solo itera las llaves\n",
    "    print(v)\n",
    "\n",
    "print()\n",
    "for k,v in d.items():\n",
    "    print(k,\":\",v)"
   ]
  },
  {
   "cell_type": "code",
   "execution_count": 3,
   "metadata": {},
   "outputs": [],
   "source": [
    "L = [1,2,3,4,5,6]"
   ]
  },
  {
   "cell_type": "code",
   "execution_count": 4,
   "metadata": {},
   "outputs": [
    {
     "name": "stdout",
     "output_type": "stream",
     "text": [
      "True\n",
      "False\n"
     ]
    }
   ],
   "source": [
    "data={\"Peru\":2134,\"Chile\":4845,\"Brasil\":4567,\"Colombia\":2345}\n",
    "print(\"Peru\"in data)\n",
    "print(\"Argentina\"in data)"
   ]
  },
  {
   "cell_type": "code",
   "execution_count": 7,
   "metadata": {},
   "outputs": [
    {
     "name": "stdout",
     "output_type": "stream",
     "text": [
      "Ingrese banda de color: rojo rojo rojo\n",
      "\n",
      "El valor ohmnico es 2200 Ohmnios\n"
     ]
    }
   ],
   "source": [
    "color={\"negro\":0,\"marron\":1,\"rojo\":2,\"naranja\":3,\"amarillo\":4,\"verde\":5,\"azul\":6,\n",
    "      \"violeta\":7,\"gris\":8,\"blanco\":9}\n",
    "\n",
    "while(True):\n",
    "    color1,color2,color3 = input(\"Ingrese banda de color: \").split()\n",
    "    color1=color1.lower()\n",
    "    color2=color2.lower()\n",
    "    color3=color3.lower()\n",
    "    if (color1 in color and color2 in color and color3 in color):\n",
    "        break\n",
    "    else:\n",
    "        print(\"Algun color no es válido, vuelva ingresar\")\n",
    "\n",
    "#Colculo valor ohmnico\n",
    "val= (color[color1]*10+color[color2])*10**(color[color3])\n",
    "\n",
    "print()\n",
    "print(\"El valor ohmnico es\",val,\"Ohmnios\")"
   ]
  },
  {
   "cell_type": "code",
   "execution_count": 8,
   "metadata": {},
   "outputs": [
    {
     "name": "stdout",
     "output_type": "stream",
     "text": [
      "elvis :\n",
      "\t Python\n",
      "\t C++\n",
      "\t C\n",
      "\t C#\n",
      "\n",
      "carmen :\n",
      "\t python\n",
      "\t C++\n",
      "\n",
      "luis :\n",
      "\t java\n",
      "\t python\n",
      "\t C++\n",
      "\n",
      "maite :\n",
      "\t ruby\n",
      "\t matlab\n",
      "\n"
     ]
    }
   ],
   "source": [
    "#Un diccionario puede contener listas :\n",
    "\n",
    "nombres={\"elvis\":[\"Python\",\"C++\",\"C\",\"C#\"],\"carmen\":[\"python\",\"C++\"],\n",
    "        \"luis\":[\"java\",\"python\",\"C++\"],\"maite\":[\"ruby\",\"matlab\"]}\n",
    "for k,v in nombres.items():\n",
    "    print(k,\":\")\n",
    "    for c in v:\n",
    "        print(\"\\t\",c)\n",
    "    print()"
   ]
  },
  {
   "cell_type": "code",
   "execution_count": 9,
   "metadata": {},
   "outputs": [
    {
     "name": "stdout",
     "output_type": "stream",
     "text": [
      "['elvis', 'carmen', 'luis', 'maite']\n",
      "[['Python', 'C++', 'C', 'C#'], ['python', 'C++'], ['java', 'python', 'C++'], ['ruby', 'matlab']]\n"
     ]
    }
   ],
   "source": [
    "nombres={\"elvis\":[\"Python\",\"C++\",\"C\",\"C#\"],\"carmen\":[\"python\",\"C++\"],\n",
    "        \"luis\":[\"java\",\"python\",\"C++\"],\"maite\":[\"ruby\",\"matlab\"]}\n",
    "\n",
    "llaves=list(nombres.keys())\n",
    "print(llaves)\n",
    "\n",
    "lvalores=list(nombres.values())\n",
    "print(lvalores)"
   ]
  },
  {
   "cell_type": "code",
   "execution_count": 10,
   "metadata": {},
   "outputs": [
    {
     "name": "stdout",
     "output_type": "stream",
     "text": [
      "nombre : juan\n",
      "apellido : castro\n",
      "empresa : movistar\n",
      "\n",
      "nombre : luis\n",
      "apellido : burga\n",
      "empresa : claro\n",
      "\n",
      "nombre : Carmen\n",
      "apellido : Puerta\n",
      "empresa : entel\n",
      "\n",
      "nombre : Laura\n",
      "apellido : morales\n",
      "empresa : bitel\n",
      "\n"
     ]
    }
   ],
   "source": [
    "#una lista puede contener diccionarios\n",
    "\n",
    "clientes=[{\"nombre\":\"juan\",\"apellido\":\"castro\",\"empresa\":\"movistar\"},\n",
    "          {\"nombre\":\"luis\",\"apellido\":\"burga\",\"empresa\":\"claro\"},\n",
    "          {\"nombre\":\"Carmen\",\"apellido\":\"Puerta\",\"empresa\":\"entel\"},\n",
    "          {\"nombre\":\"Laura\",\"apellido\":\"morales\",\"empresa\":\"bitel\"}]\n",
    "#{\"nombre\":\"juan\",\"apellido\":\"castro\",\"empresa\":\"movistar\"}\n",
    "\n",
    "for cli in clientes:\n",
    "    for k,v in cli.items():\n",
    "        print(k,\":\",v)\n",
    "    print()\n",
    "        \n",
    "    "
   ]
  },
  {
   "cell_type": "markdown",
   "metadata": {},
   "source": [
    "# Lectura de archivos"
   ]
  },
  {
   "cell_type": "code",
   "execution_count": 20,
   "metadata": {},
   "outputs": [
    {
     "name": "stdout",
     "output_type": "stream",
     "text": [
      "Perú\n",
      "Chile\n",
      "Colombia\n",
      "Argentina\n",
      "Brasil\n",
      "Bolivia\n",
      "Uruguay\n",
      "Ecuador\n",
      "Paraguay\n",
      "Venezuela\n",
      "\n",
      "['Perú', 'Chile', 'Colombia', 'Argentina', 'Brasil', 'Bolivia', 'Uruguay', 'Ecuador', 'Paraguay', 'Venezuela', '']\n",
      "Cntidad de caracteres del archivo 80\n"
     ]
    }
   ],
   "source": [
    "#abrir el archivocomo solo lectura\n",
    "# encoding='utf-8' > idioma español\n",
    "\n",
    "with open(\"D:\\\\archivos\\\\paises.txt\",mode='r',encoding='utf-8') as archivo:\n",
    "    #acceder a los datos del archivo usando read()\n",
    "    data = archivo.read()\n",
    "    print(data)\n",
    "    #print(data.split(\"\\n\"))\n",
    "    \n",
    "    print(\"Cntidad de caracteres del archivo\",len(data))"
   ]
  },
  {
   "cell_type": "code",
   "execution_count": 3,
   "metadata": {},
   "outputs": [
    {
     "name": "stdout",
     "output_type": "stream",
     "text": [
      "Perú\n",
      "Chile\n",
      "Colombia\n",
      "Argentina\n",
      "Brasil\n",
      "Bolivia\n",
      "Uruguay\n",
      "Ecuador\n",
      "Paraguay\n",
      "Venezuela\n"
     ]
    }
   ],
   "source": [
    "\n",
    "with open(\"D:\\\\archivos\\\\paises.txt\",mode='r',encoding='utf-8') as archivo:\n",
    "    #acceder a los datos del archivo usando read()\n",
    "    while(1):\n",
    "        linea=archivo.readline()\n",
    "        linea=linea.replace('\\n','')\n",
    "        if linea!='':\n",
    "            print(linea)\n",
    "        else:\n",
    "            break\n",
    "        \n",
    "        "
   ]
  },
  {
   "cell_type": "code",
   "execution_count": 1,
   "metadata": {},
   "outputs": [
    {
     "ename": "FileNotFoundError",
     "evalue": "[Errno 2] No such file or directory: 'D:\\\\archivos\\\\paises.txt'",
     "output_type": "error",
     "traceback": [
      "\u001b[1;31m---------------------------------------------------------------------------\u001b[0m",
      "\u001b[1;31mFileNotFoundError\u001b[0m                         Traceback (most recent call last)",
      "\u001b[1;32m<ipython-input-1-49cd3ffee2b5>\u001b[0m in \u001b[0;36m<module>\u001b[1;34m\u001b[0m\n\u001b[1;32m----> 1\u001b[1;33m \u001b[1;32mwith\u001b[0m \u001b[0mopen\u001b[0m\u001b[1;33m(\u001b[0m\u001b[1;34m\"D:\\\\archivos\\\\paises.txt\"\u001b[0m\u001b[1;33m,\u001b[0m\u001b[0mmode\u001b[0m\u001b[1;33m=\u001b[0m\u001b[1;34m'r'\u001b[0m\u001b[1;33m,\u001b[0m\u001b[0mencoding\u001b[0m\u001b[1;33m=\u001b[0m\u001b[1;34m'utf-8'\u001b[0m\u001b[1;33m)\u001b[0m \u001b[1;32mas\u001b[0m \u001b[0marchivo\u001b[0m\u001b[1;33m:\u001b[0m\u001b[1;33m\u001b[0m\u001b[1;33m\u001b[0m\u001b[0m\n\u001b[0m\u001b[0;32m      2\u001b[0m     \u001b[1;31m#acceder a los datos del archivo usando readlines()\u001b[0m\u001b[1;33m\u001b[0m\u001b[1;33m\u001b[0m\u001b[1;33m\u001b[0m\u001b[0m\n\u001b[0;32m      3\u001b[0m     \u001b[0ml_lineas\u001b[0m\u001b[1;33m=\u001b[0m\u001b[0marchivo\u001b[0m\u001b[1;33m.\u001b[0m\u001b[0mreadlines\u001b[0m\u001b[1;33m(\u001b[0m\u001b[1;33m)\u001b[0m\u001b[1;33m\u001b[0m\u001b[1;33m\u001b[0m\u001b[0m\n\u001b[0;32m      4\u001b[0m     \u001b[0mprint\u001b[0m\u001b[1;33m(\u001b[0m\u001b[0ml_lineas\u001b[0m\u001b[1;33m)\u001b[0m\u001b[1;33m\u001b[0m\u001b[1;33m\u001b[0m\u001b[0m\n\u001b[0;32m      5\u001b[0m \u001b[1;33m\u001b[0m\u001b[0m\n",
      "\u001b[1;31mFileNotFoundError\u001b[0m: [Errno 2] No such file or directory: 'D:\\\\archivos\\\\paises.txt'"
     ]
    }
   ],
   "source": [
    "with open(\"D:\\\\archivos\\\\paises.txt\",mode='r',encoding='utf-8') as archivo:\n",
    "    #acceder a los datos del archivo usando readlines()\n",
    "    l_lineas=archivo.readlines()\n",
    "    print(l_lineas)\n",
    "    \n",
    "    for linea in l_lineas:\n",
    "        s=linea.replace('\\n','')\n",
    "        print(s)\n",
    "        "
   ]
  },
  {
   "cell_type": "code",
   "execution_count": null,
   "metadata": {},
   "outputs": [],
   "source": []
  },
  {
   "cell_type": "code",
   "execution_count": 34,
   "metadata": {},
   "outputs": [],
   "source": [
    "#abrir archivo  paises2.text como solo escritura\n",
    "#si el archivo no esta, se crea\n",
    "with open(\"D:\\\\archivos\\\\paises2.txt\",mode='w',encoding='utf-8') as archivo:\n",
    "    #escribir en el archivo\n",
    "    archivo.write(\"HOLA MUNDO\")"
   ]
  },
  {
   "cell_type": "code",
   "execution_count": 44,
   "metadata": {},
   "outputs": [
    {
     "name": "stdout",
     "output_type": "stream",
     "text": [
      "Perú\n",
      "Chile\n",
      "Colombia\n",
      "Argentina\n",
      "Brasil\n",
      "Bolivia\n",
      "Uruguay\n",
      "Ecuador\n",
      "Paraguay\n",
      "Venezuela\n",
      "\n",
      "Chile\n",
      "Colombia\n",
      "Argentina\n",
      "Brasil\n",
      "Bolivia\n",
      "Uruguay\n",
      "Ecuador\n",
      "Paraguay\n",
      "Venezuela\n",
      "\n"
     ]
    }
   ],
   "source": [
    "#abrir archivo numeros.txt como escritura\n",
    "\n",
    "#si el archivo no esta, se crea\n",
    "with open(\"D:\\\\archivos\\\\paises.txt\",mode='r',encoding='utf-8') as archivo:\n",
    "    #escribir en el archivo\n",
    "    listalineas=archivo.readlines()\n",
    "    \n",
    "    for linea in listalineas:\n",
    "        print(linea,end='')\n",
    "    \n",
    "    archivo.seek(7)\n",
    "    print()\n",
    "    data = archivo.read()\n",
    "    print(data)\n",
    "    "
   ]
  },
  {
   "cell_type": "code",
   "execution_count": 3,
   "metadata": {},
   "outputs": [
    {
     "ename": "LookupError",
     "evalue": "unknown encoding: ANCI",
     "output_type": "error",
     "traceback": [
      "\u001b[1;31m---------------------------------------------------------------------------\u001b[0m",
      "\u001b[1;31mLookupError\u001b[0m                               Traceback (most recent call last)",
      "\u001b[1;32m<ipython-input-3-dbf4faeda32b>\u001b[0m in \u001b[0;36m<module>\u001b[1;34m\u001b[0m\n\u001b[0;32m      2\u001b[0m \u001b[1;33m\u001b[0m\u001b[0m\n\u001b[0;32m      3\u001b[0m \u001b[1;31m#si el archivo no esta, se crea\u001b[0m\u001b[1;33m\u001b[0m\u001b[1;33m\u001b[0m\u001b[1;33m\u001b[0m\u001b[0m\n\u001b[1;32m----> 4\u001b[1;33m \u001b[1;32mwith\u001b[0m \u001b[0mopen\u001b[0m\u001b[1;33m(\u001b[0m\u001b[1;34m\"C:\\\\Padron-Ago-2020.txt\"\u001b[0m\u001b[1;33m,\u001b[0m\u001b[0mmode\u001b[0m\u001b[1;33m=\u001b[0m\u001b[1;34m'r'\u001b[0m\u001b[1;33m,\u001b[0m\u001b[0mencoding\u001b[0m\u001b[1;33m=\u001b[0m\u001b[1;34m'ANCI'\u001b[0m\u001b[1;33m)\u001b[0m \u001b[1;32mas\u001b[0m \u001b[0marchivo\u001b[0m\u001b[1;33m:\u001b[0m\u001b[1;33m\u001b[0m\u001b[1;33m\u001b[0m\u001b[0m\n\u001b[0m\u001b[0;32m      5\u001b[0m     \u001b[1;31m#escribir en el archivo\u001b[0m\u001b[1;33m\u001b[0m\u001b[1;33m\u001b[0m\u001b[1;33m\u001b[0m\u001b[0m\n\u001b[0;32m      6\u001b[0m     \u001b[1;32mwhile\u001b[0m\u001b[1;33m(\u001b[0m\u001b[1;36m1\u001b[0m\u001b[1;33m)\u001b[0m\u001b[1;33m:\u001b[0m\u001b[1;33m\u001b[0m\u001b[1;33m\u001b[0m\u001b[0m\n",
      "\u001b[1;31mLookupError\u001b[0m: unknown encoding: ANCI"
     ]
    }
   ],
   "source": [
    "#abrir archivo numeros.txt como escritura\n",
    "\n",
    "#si el archivo no esta, se crea\n",
    "with open(\"C:\\\\Padron-Ago-2020.txt\",mode='r',encoding='ANCI') as archivo:\n",
    "    #escribir en el archivo\n",
    "    while(1):\n",
    "        linea=archivo.readline()\n",
    "        linea=linea.replace('\\n','')\n",
    "        if linea!='':\n",
    "            if (\"NARVAEZ\" in linea):\n",
    "                print(linea)\n",
    "        else:\n",
    "            break\n",
    "        \n"
   ]
  },
  {
   "cell_type": "code",
   "execution_count": null,
   "metadata": {},
   "outputs": [],
   "source": []
  }
 ],
 "metadata": {
  "kernelspec": {
   "display_name": "Python 3",
   "language": "python",
   "name": "python3"
  },
  "language_info": {
   "codemirror_mode": {
    "name": "ipython",
    "version": 3
   },
   "file_extension": ".py",
   "mimetype": "text/x-python",
   "name": "python",
   "nbconvert_exporter": "python",
   "pygments_lexer": "ipython3",
   "version": "3.7.6"
  }
 },
 "nbformat": 4,
 "nbformat_minor": 4
}
