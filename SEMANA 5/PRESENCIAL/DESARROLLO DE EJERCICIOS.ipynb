{
 "cells": [
  {
   "cell_type": "code",
   "execution_count": 35,
   "metadata": {},
   "outputs": [
    {
     "name": "stdout",
     "output_type": "stream",
     "text": [
      "Ingrese ecuación lineal a+bx=c: 5+7x=-9\n",
      "x = -2.0\n"
     ]
    }
   ],
   "source": [
    "def resuelveEcuacionLineal(ec): #ec: \"-15.5-x=-10\"   \n",
    "        aux,c=ec.split(\"x=\")  #aux=\"-15.5-\"   c= \"-10\" \n",
    "         \n",
    "        c = float(c)  #c=-10\n",
    "        \n",
    "        if(\"+\" in aux):\n",
    "            a,b = aux.split('+')  #a=\"-15.5\"   b=\"\"\n",
    "            a=float(a)  #a=-15.5\n",
    "            if(b!=\"\"):         \n",
    "                b=float(b)  #b=90.8\n",
    "            else:\n",
    "                b=1   \n",
    "        else:\n",
    "            if(aux[0]!='-'):\n",
    "                a,b = aux.split('-')  #a=\"15.5\"   b=\"90.8\"\n",
    "                a=float(a)\n",
    "                if(b!=\"\"):\n",
    "                    b=(-1)*float(b)\n",
    "                else:\n",
    "                    b=-1\n",
    "            else:\n",
    "                a,b,x=aux.split(\"-\")  #a=\"\"  b=\"15.5\"  x=\"\"\n",
    "                a=(-1)*float(b)\n",
    "                if(x!=\"\"):\n",
    "                    b=(-1)*float(x)\n",
    "                else:\n",
    "                    b=-1\n",
    "                  \n",
    "        return (c-a)/b\n",
    "                \n",
    "#main():\n",
    "ecu = input(\"Ingrese ecuación lineal a+bx=c: \")\n",
    "print(\"x =\",resuelveEcuacionLineal(ecu))\n",
    "\n"
   ]
  },
  {
   "cell_type": "code",
   "execution_count": null,
   "metadata": {},
   "outputs": [],
   "source": [
    "\n",
    "def esPrimo(num): #9\n",
    "    if(num<2):\n",
    "        return False\n",
    "    \n",
    "    else:\n",
    "        for i in range(2,num): #para i: 1,2,3,4,5,6,7,8\n",
    "            if(num%i==0):\n",
    "                return False\n",
    "        return True\n",
    "\n",
    "    \n",
    "def listaPrimos(n):\n",
    "    Lprimos=[]\n",
    "    for i in range(n+1):\n",
    "        if(esPrimo(i)):\n",
    "            Lprimos.append(i)\n",
    "    return Lprimos\n",
    "     \n",
    "    \n",
    "#VERSION 1\n",
    "'''    \n",
    "def detectaParPrimos(L,m):\n",
    "    \n",
    "    for i in L:\n",
    "        for j in L:\n",
    "            if(i+j==m):\n",
    "                return[i,j]\n",
    "    \n",
    "    return []\n",
    "'''\n",
    "#VERSION 2\n",
    "\n",
    "def detectaParPrimos(L,m):\n",
    "    for i in range (0,len(L)):\n",
    "        h=list(filter(lambda x:x+L[i]==m,L))\n",
    "        if(len(h)==1):\n",
    "            l=[L[i],h[0]]\n",
    "            return l\n",
    "    return []\n",
    "    \n",
    "\n",
    "# main()\n",
    "for i in range(4,101,2):\n",
    "    Lp=listaPrimos(i)\n",
    "    aux=detectaParPrimos(Lp,i)\n",
    "    print(\"{:3d} = {:2d} + {:2d}\".format(i,aux[0],aux[1]))\n",
    "    \n",
    "    \n",
    "    \n"
   ]
  },
  {
   "cell_type": "code",
   "execution_count": 59,
   "metadata": {},
   "outputs": [
    {
     "name": "stdout",
     "output_type": "stream",
     "text": [
      "['Juan', 140, 'Mayte', 734, 'Laura', 546, 'Carmen', 947, 'Enrique', 628, 'Richard', 903]\n",
      "[140, 546, 628, 734, 903, 947]\n",
      "\n",
      "\n",
      "noombre\t\t\tcodigos\n",
      "Juan:\t\t\t140\n",
      "Laura:\t\t\t546\n",
      "Enrique:\t\t\t628\n",
      "Mayte:\t\t\t734\n",
      "Richard:\t\t\t903\n",
      "Carmen:\t\t\t947\n"
     ]
    }
   ],
   "source": [
    "from random import *\n",
    "\n",
    "L=['Juan', 'Mayte', 'Laura', 'Carmen', 'Enrique', 'Richard']\n",
    "aux = list(range(100,1000))\n",
    "\n",
    "cod=[]\n",
    "\n",
    "for i in range(1,2*len(L),2):  #para i:1,3,5,7,.......2n-1\n",
    "    indice=randint(0,len(aux)-1)   \n",
    "    cod.append(aux[indice])\n",
    "    L.insert(i,aux[indice])\n",
    "    aux.pop(indice)\n",
    "    \n",
    "print(L)\n",
    "cod.sort()\n",
    "\n",
    "print(cod)\n",
    "print(\"\\n\\nnoombre\\t\\t\\tcodigos\")\n",
    "\n",
    "\n",
    "for c in cod:\n",
    "    p=L.index(c)\n",
    "    print(\"{}:\\t\\t\\t{}\".format(L[p-1],c))"
   ]
  },
  {
   "cell_type": "code",
   "execution_count": 5,
   "metadata": {},
   "outputs": [
    {
     "name": "stdout",
     "output_type": "stream",
     "text": [
      "[0, 2, 3, 4, 5, 6, 7, 8, 9]\n"
     ]
    }
   ],
   "source": [
    "\n",
    "from random import sample\n",
    "L=sample(range(0,10),9)\n",
    "alea=list(sorted(L))\n",
    "\n",
    "print(alea)"
   ]
  },
  {
   "cell_type": "code",
   "execution_count": null,
   "metadata": {},
   "outputs": [],
   "source": []
  }
 ],
 "metadata": {
  "kernelspec": {
   "display_name": "Python 3",
   "language": "python",
   "name": "python3"
  },
  "language_info": {
   "codemirror_mode": {
    "name": "ipython",
    "version": 3
   },
   "file_extension": ".py",
   "mimetype": "text/x-python",
   "name": "python",
   "nbconvert_exporter": "python",
   "pygments_lexer": "ipython3",
   "version": "3.7.6"
  }
 },
 "nbformat": 4,
 "nbformat_minor": 4
}
