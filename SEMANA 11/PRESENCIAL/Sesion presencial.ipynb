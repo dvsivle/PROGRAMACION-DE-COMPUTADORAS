{
 "cells": [
  {
   "cell_type": "code",
   "execution_count": 11,
   "metadata": {},
   "outputs": [
    {
     "name": "stdout",
     "output_type": "stream",
     "text": [
      "Primera mezcla: hdf\n",
      "Segunda mezcla: sgd A\n",
      "Error, mezcla no valida, volver a ingresar \n",
      "Primera mezcla: gadA\n",
      "Segunda mezcla: mezcla D\n",
      "Error, mezcla no valida, volver a ingresar \n",
      "Primera mezcla: MEZCLA D\n",
      "Segunda mezcla: MEZCLA C\n",
      "Indicador Químico: 4.295\n"
     ]
    }
   ],
   "source": [
    "indicadores={\"A-B\":0.25,\"B-A\":0.25,\n",
    "             \"A-C\":0.56,\"C-A\":0.56,\n",
    "             \"A-D\":0.34,\"D-A\":0.34,\n",
    "             \"B-C\":0.21,\"C-B\":0.21,\n",
    "             \"B-D\":0.65,\"D-B\":0.65,\n",
    "             \"C-D\":0.89,\"D-C\":0.89}\n",
    "\n",
    "\n",
    "while(1):\n",
    "    mezcla1=input(\"Primera mezcla: \").split()  #mezcla1: [\"mezcla\", \"B\"]\n",
    "    mezcla2=input(\"Segunda mezcla: \").split()  #mezcla2: [\"mezcla\", \"c\"]\n",
    "    \n",
    "    \n",
    "    if (mezcla1[0].upper()==\"MEZCLA\" and mezcla2[0].upper()==\"MEZCLA\" and len(mezcla1)==2 and len(mezcla2)==2  ):\n",
    "        union=mezcla1[1].upper()+\"-\"+mezcla2[1].upper()  #union=\"B-C\"\n",
    "    \n",
    "        if (union in indicadores):\n",
    "            break\n",
    "        else:\n",
    "            print(\"Error, mezcla no valida, volver a ingresar \")\n",
    "            \n",
    "    else:\n",
    "        print(\"Error, mezcla no valida, volver a ingresar \")\n",
    "\n",
    "\n",
    "print(\"Indicador Químico: {:.3f}\".format(5.5*indicadores[union] - 0.6))\n",
    "\n",
    "\n"
   ]
  },
  {
   "cell_type": "code",
   "execution_count": null,
   "metadata": {},
   "outputs": [],
   "source": []
  },
  {
   "cell_type": "code",
   "execution_count": null,
   "metadata": {},
   "outputs": [],
   "source": []
  },
  {
   "cell_type": "code",
   "execution_count": 56,
   "metadata": {},
   "outputs": [],
   "source": [
    "#Problema 2\n",
    "\n",
    "import os\n",
    "\n",
    "with open('archivos\\\\ips.txt',mode='r',encoding='utf-8') as archivoR:\n",
    "    lineas=archivoR.readlines()\n",
    "       \n",
    "    with open('archivos\\\\validos.txt',mode='w',encoding='utf-8') as archivoW:\n",
    "        archivoW.write(\"       LISTA DE IPS CORRECTOS\\n\")\n",
    "        archivoW.write(\"       ======================\\n\\n\")\n",
    "        \n",
    "        for i in range(3,len(lineas)):\n",
    "            if (\":\" in lineas[i] or \"=\" in lineas[i] or lineas[i]=='\\n'):\n",
    "                archivoW.write(lineas[i])\n",
    "            else:\n",
    "                nombre,ip=lineas[i].split()  #nombre=\"Carlos\",   lip=\"120.45.34.100\"\n",
    "                lip=ip.split('.')  #lip=['120'.'45'.'34'.'100']\n",
    "                laux=list(filter(lambda x: 0<=int(x)<=255,lip))\n",
    "                \n",
    "                if (len(lip)==4 and len(laux)==4):\n",
    "                    archivoW.write(lineas[i])\n",
    "                    \n",
    "            \n",
    "    \n",
    "    \n"
   ]
  },
  {
   "cell_type": "code",
   "execution_count": 51,
   "metadata": {},
   "outputs": [
    {
     "name": "stdout",
     "output_type": "stream",
     "text": [
      "['120', '45', '34', '100']\n"
     ]
    }
   ],
   "source": [
    "lip=['120','45','34','100']\n",
    "\n",
    "d=list(filter(lambda x: 0<=int(x)<=255,lip))\n",
    "\n",
    "print(d)"
   ]
  },
  {
   "cell_type": "code",
   "execution_count": null,
   "metadata": {},
   "outputs": [],
   "source": []
  },
  {
   "cell_type": "code",
   "execution_count": 122,
   "metadata": {},
   "outputs": [],
   "source": [
    "class Fraccion(object):\n",
    "    def __init__(self,num=0,den=1):\n",
    "        self.num=num\n",
    "        self.den=den\n",
    "    @property\n",
    "    def num(self):\n",
    "        return self.__num\n",
    "    \n",
    "    @num.setter\n",
    "    def num(self,numN):\n",
    "        if(isinstance(numN,int) ):\n",
    "            self.__num=numN\n",
    "        else:\n",
    "            print(\" no es un tipo de atributo valido. Debe ser un int\")\n",
    "            \n",
    "    @property\n",
    "    def den(self):\n",
    "        return self.__den\n",
    "    \n",
    "    @den.setter\n",
    "    def den(self,denN):\n",
    "        if(isinstance(denN,int) and denN!=0):\n",
    "            self.__den=denN\n",
    "        else:\n",
    "            print(\"No es un tipo de atributo valido. Debe ser un int y !=0\")\n",
    "    \n",
    "    def __add__(self,other):\n",
    "        numerador=self.num*other.den + other.num*self.den\n",
    "        denominador=self.den*other.den\n",
    "        \n",
    "        return Fraccion(numerador,denominador)\n",
    "    \n",
    "    def __mul__(self,other):\n",
    "        numerador=self.num*other.num\n",
    "        denominador=self.den*other.den\n",
    "        return Fraccion(numerador,denominador)\n",
    "    \n",
    "    def simplifica(self):\n",
    "        c=2\n",
    "        while(c<=self.num and c<=self.den):\n",
    "            if(self.num%c==0 and self.den%c==0):\n",
    "                self.num=int(self.num/c)\n",
    "                self.den=int(self.den/c)\n",
    "                #c-=1\n",
    "            else:\n",
    "                c+=1   \n",
    "            \n",
    "        return Fraccion(self.num,self.den)\n",
    "        \n",
    "    def __str__(self):\n",
    "        return \"{}/{}\".format(self.num,self.den)\n",
    "    \n",
    "    \n",
    "    "
   ]
  },
  {
   "cell_type": "code",
   "execution_count": 123,
   "metadata": {},
   "outputs": [
    {
     "name": "stdout",
     "output_type": "stream",
     "text": [
      "No es un tipo de atributo valido. Debe ser un int y !=0\n",
      "514000/140000\n",
      "5/2\n"
     ]
    }
   ],
   "source": [
    "f0=Fraccion(0,0)\n",
    "f1=Fraccion(3,5)\n",
    "f2=Fraccion(10000,4000)\n",
    "print(f2+f3)\n",
    "#print(f0)\n",
    "print(f2.simplifica())\n"
   ]
  },
  {
   "cell_type": "code",
   "execution_count": null,
   "metadata": {},
   "outputs": [],
   "source": []
  },
  {
   "cell_type": "code",
   "execution_count": null,
   "metadata": {},
   "outputs": [],
   "source": []
  },
  {
   "cell_type": "code",
   "execution_count": null,
   "metadata": {},
   "outputs": [],
   "source": []
  },
  {
   "cell_type": "code",
   "execution_count": null,
   "metadata": {},
   "outputs": [],
   "source": [
    "class Fraccion(object):\n",
    "    def __init__(self,num,den):\n",
    "        self.num=num\n",
    "        self.den=den\n",
    "    \n",
    "    @property\n",
    "    def num(self):\n",
    "        return self.__num\n",
    "    @num.setter\n",
    "    def num(self,nuevoN):\n",
    "        if isinstance(nuevoN,int):\n",
    "            self.__num=nuevoN\n",
    "        else:\n",
    "            print(\"El valor debe ser un dato numerico int.\")\n",
    "            \n",
    "    @property\n",
    "    def den(self):\n",
    "        return self.__den\n",
    "    @den.setter\n",
    "    def den(self,nuevoD):\n",
    "        if isinstance(nuevoD,int) :\n",
    "            if nuevoD==0:\n",
    "                print(\"El denominador debe ser diferente de 0.\")\n",
    "            else:\n",
    "                self.__den=nuevoD\n",
    "        else:\n",
    "            print(\"El valor debe ser un dato numerico int.\")\n",
    "            \n",
    "    def __str__(self):\n",
    "        return '{}/{}'.format(self.num,self.den)\n",
    "            \n",
    "    def __add__(self,other):\n",
    "        nume=self.num*other.den+other.num*self.den\n",
    "        deno=self.den*other.den\n",
    "        return Fraccion(nume,deno)\n",
    "    \n",
    "    def __mul__(self,other):\n",
    "        nume=self.num*other.num\n",
    "        deno=self.den*other.den\n",
    "        return Fraccion(nume,deno)"
   ]
  }
 ],
 "metadata": {
  "kernelspec": {
   "display_name": "Python 3",
   "language": "python",
   "name": "python3"
  },
  "language_info": {
   "codemirror_mode": {
    "name": "ipython",
    "version": 3
   },
   "file_extension": ".py",
   "mimetype": "text/x-python",
   "name": "python",
   "nbconvert_exporter": "python",
   "pygments_lexer": "ipython3",
   "version": "3.7.6"
  }
 },
 "nbformat": 4,
 "nbformat_minor": 4
}
