{
 "cells": [
  {
   "cell_type": "code",
   "execution_count": 25,
   "metadata": {},
   "outputs": [
    {
     "name": "stdout",
     "output_type": "stream",
     "text": [
      "1;Carlos;Pérez;05/01/1989\n",
      "2;Manuel;Heredia;26/12/1973\n",
      "3;Rosa;Campos;12/06/1961\n",
      "4;David;García;25/07/2006\n"
     ]
    }
   ],
   "source": [
    "import os\n",
    "with open (\"EXTRAS//personas.txt\",mode='r',encoding='utf-8') as per:\n",
    "    personas=per.read()\n",
    "    print(personas)\n"
   ]
  },
  {
   "cell_type": "code",
   "execution_count": 26,
   "metadata": {},
   "outputs": [
    {
     "name": "stdout",
     "output_type": "stream",
     "text": [
      "{'ID': '1', 'Nombre': 'Carlos', 'Apellido': 'Pérez', 'nacimiento': '05/01/1989'}\n",
      "(1) => Pérez, Carlos  ==> 05/01/1989\n",
      "\n",
      "{'ID': '2', 'Nombre': 'Manuel', 'Apellido': 'Heredia', 'nacimiento': '26/12/1973'}\n",
      "(2) => Heredia, Manuel  ==> 26/12/1973\n",
      "\n",
      "{'ID': '3', 'Nombre': 'Rosa', 'Apellido': 'Campos', 'nacimiento': '12/06/1961'}\n",
      "(3) => Campos, Rosa  ==> 12/06/1961\n",
      "\n",
      "{'ID': '4', 'Nombre': 'David', 'Apellido': 'García', 'nacimiento': '25/07/2006'}\n",
      "(4) => García, David  ==> 25/07/2006\n",
      "\n"
     ]
    }
   ],
   "source": [
    "import os\n",
    "with open (\"EXTRAS//personas.txt\",mode='r',encoding='utf-8') as archivo:\n",
    "    perso=archivo.readlines()\n",
    "    personas=[]\n",
    "    for a in perso:\n",
    "        aux=a.replace(';',' ').split()\n",
    "        personas.append({\"ID\":aux[0],\"Nombre\":aux[1],\"Apellido\":aux[2],\"nacimiento\":aux[3]})\n",
    "\n",
    "        \n",
    "for m in personas:\n",
    "    print(m)\n",
    "    print(\"({}) => {}, {}  ==> {}\\n\".format(m['ID'],m['Apellido'],m[\"Nombre\"],m[\"nacimiento\"]))"
   ]
  },
  {
   "cell_type": "code",
   "execution_count": null,
   "metadata": {},
   "outputs": [],
   "source": []
  },
  {
   "cell_type": "code",
   "execution_count": 27,
   "metadata": {},
   "outputs": [],
   "source": [
    "\n",
    "fichero = open(\"EXTRAS//contador.txt\", \"a+\") \n",
    "fichero.seek(0)\n",
    "contenido = fichero.readline()\n",
    "\n",
    "if len(contenido) == 0:\n",
    "    contenido = \"0\"\n",
    "    fichero.write(contenido)\n",
    "\n",
    "fichero.close()\n"
   ]
  },
  {
   "cell_type": "code",
   "execution_count": null,
   "metadata": {},
   "outputs": [],
   "source": []
  },
  {
   "cell_type": "code",
   "execution_count": null,
   "metadata": {},
   "outputs": [],
   "source": []
  },
  {
   "cell_type": "code",
   "execution_count": 28,
   "metadata": {},
   "outputs": [
    {
     "name": "stdout",
     "output_type": "stream",
     "text": [
      "Ingrese un numero entero entre 1 y 10: \n",
      "¡Error!...\n",
      "Ingrese un numero entero entre 1 y 10: 8\n"
     ]
    }
   ],
   "source": [
    "# TABLA D EMULTIPLICAR A PARTIR DEL NUMERO INGRESADO POR EL USUARIO\n",
    "while(1):\n",
    "    n=(input(\"Ingrese un numero entero entre 1 y 10: \"))\n",
    "    try:\n",
    "        if (0<int(n)<10):\n",
    "            break\n",
    "    except :\n",
    "        pass\n",
    "    print(\"¡Error!...\")\n",
    "    \n",
    "with open (\"EXTRAS//TABLA//tabla-\"+n+\".txt\",mode='w',encoding='utf-8') as archivo:\n",
    "    archivo.write(\"\\t TABLA DE MULTIPLICAR DEL \"+n+\"\\n\")\n",
    "    for a in range(1,11):\n",
    "        archivo.write(\"\\n\")\n",
    "        archivo.write(\"{}  x {:2d} = {:2d}\\n\".format(n,a,a*int(n)))"
   ]
  },
  {
   "cell_type": "code",
   "execution_count": 29,
   "metadata": {},
   "outputs": [
    {
     "name": "stdout",
     "output_type": "stream",
     "text": [
      "\t TABLA DE MULTIPLICAR DEL 8\n",
      "\n",
      "8  x  1 =  8\n",
      "\n",
      "8  x  2 = 16\n",
      "\n",
      "8  x  3 = 24\n",
      "\n",
      "8  x  4 = 32\n",
      "\n",
      "8  x  5 = 40\n",
      "\n",
      "8  x  6 = 48\n",
      "\n",
      "8  x  7 = 56\n",
      "\n",
      "8  x  8 = 64\n",
      "\n",
      "8  x  9 = 72\n",
      "\n",
      "8  x 10 = 80\n",
      "\n"
     ]
    }
   ],
   "source": [
    "import os\n",
    "with open (\"EXTRAS//TABLA//tabla-\"+n+\".txt\",mode='r',encoding='utf-8') as archivo:\n",
    "    perso=archivo.read()\n",
    "    print(perso)"
   ]
  },
  {
   "cell_type": "code",
   "execution_count": 1,
   "metadata": {},
   "outputs": [
    {
     "name": "stdout",
     "output_type": "stream",
     "text": [
      "Ingrese un numero entero entre 1 y 10: 8\n",
      "\t TABLA DE MULTIPLICAR DEL 8\n",
      "\n",
      "8  x  1 =  8\n",
      "\n",
      "8  x  2 = 16\n",
      "\n",
      "8  x  3 = 24\n",
      "\n",
      "8  x  4 = 32\n",
      "\n",
      "8  x  5 = 40\n",
      "\n",
      "8  x  6 = 48\n",
      "\n",
      "8  x  7 = 56\n",
      "\n",
      "8  x  8 = 64\n",
      "\n",
      "8  x  9 = 72\n",
      "\n",
      "8  x 10 = 80\n",
      "\n"
     ]
    }
   ],
   "source": [
    "#Preactica 2\n",
    "\n",
    "import os\n",
    "while(1):\n",
    "    n=(input(\"Ingrese un numero entero entre 1 y 10: \"))\n",
    "    try:\n",
    "        if (0<int(n)<10):\n",
    "            break\n",
    "    except :\n",
    "        pass\n",
    "    print(\"¡Error!...\")\n",
    "    \n",
    "s=os.path.exists(\"EXTRAS//TABLA//tabla-\"+n+\".txt\")\n",
    "if(s):\n",
    "    archivo=open(\"EXTRAS//TABLA//tabla-\"+n+\".txt\",mode='r',encoding='utf-8')\n",
    "    print(archivo.read())\n",
    "    archivo.close()\n",
    "else:\n",
    "    print(\"No existe la tabal de multiplicar de \",n)\n",
    "    "
   ]
  },
  {
   "cell_type": "code",
   "execution_count": 2,
   "metadata": {},
   "outputs": [
    {
     "name": "stdout",
     "output_type": "stream",
     "text": [
      "Ingrese valores enteros para 'm' y 'n' entre 1 y 10: 7 KJG\n",
      "¡Error!...\n",
      "Ingrese valores enteros para 'm' y 'n' entre 1 y 10: 7 \n",
      "¡Error!...\n",
      "Ingrese valores enteros para 'm' y 'n' entre 1 y 10: \n",
      "¡Error!...\n",
      "Ingrese valores enteros para 'm' y 'n' entre 1 y 10: 4 8\n",
      "4  x  8 = 32\n",
      "\n"
     ]
    }
   ],
   "source": [
    "#Practica 3\n",
    "\n",
    "\n",
    "import os\n",
    "while(1):\n",
    "    n=(input(\"Ingrese valores enteros para 'm' y 'n' entre 1 y 10: \"))\n",
    "    n=n.split()\n",
    "    try:\n",
    "        if (0<int(n[0])<10 and 0<int(n[1])<10 ):\n",
    "            break\n",
    "    except :\n",
    "        pass\n",
    "    print(\"¡Error!...\")\n",
    "    \n",
    "s=os.path.exists(\"EXTRAS//TABLA//tabla-\"+n[0]+\".txt\")\n",
    "\n",
    "if(s):\n",
    "    archivo=open(\"EXTRAS//TABLA//tabla-\"+n[0]+\".txt\",mode='r',encoding='utf-8')\n",
    "    lineas=archivo.readlines()\n",
    "    archivo.close()\n",
    "    for num,cad in enumerate(lineas):\n",
    "        if (num==int(n[1])*2):\n",
    "            print(cad)    \n",
    "else:\n",
    "    print(\"No existe la tabal de multiplicar de \",n[0])\n",
    "    "
   ]
  },
  {
   "cell_type": "code",
   "execution_count": 37,
   "metadata": {},
   "outputs": [
    {
     "name": "stdout",
     "output_type": "stream",
     "text": [
      "otxet etse ritrevni yov sotitup aloH\n"
     ]
    }
   ],
   "source": [
    "cad=\"Hola putitos voy invertir este texto\"\n",
    "ad=''\n",
    "for a in cad:\n",
    "    ad=a+ad\n",
    "\n",
    "print(ad)\n"
   ]
  },
  {
   "cell_type": "code",
   "execution_count": 78,
   "metadata": {},
   "outputs": [],
   "source": [
    "\n",
    "#EJERCICIO LIBRE\n",
    "import os\n",
    "\n",
    "archivo=open(\"EXTRAS//alumnos.txt\",mode='w')\n",
    "archivo.write(\"Esteban:Gutierrez:49:18:32\\n\")\n",
    "archivo.write(\"Luisa:Miranda:68:44:99\\n\")\n",
    "archivo.write(\"JeanPaul:Muñoz:48:38:81\\n\")\n",
    "archivo.write(\"GianFranco:Basso:54:54:50\\n\")\n",
    "archivo.write(\"Romina:Smith:100:98:92\\n\")\n",
    "archivo.close()\n",
    "\n"
   ]
  },
  {
   "cell_type": "code",
   "execution_count": 79,
   "metadata": {},
   "outputs": [],
   "source": [
    "archi=open(\"EXTRAS//alumnos.txt\",mode='r')\n",
    "lineas=archi.readlines()\n",
    "archi.close()\n",
    "\n",
    "ar=open(\"EXTRAS//aprobados.txt\",mode='w')\n",
    "rep=open(\"EXTRAS//reprobados.txt\",mode='w')\n",
    "for a in lineas:\n",
    "    s=a.replace(':','  ').split()\n",
    "    prom=(int(s[2])+int(s[3])+int(s[4]))/3\n",
    "    if prom>55:\n",
    "        ar.write(\"{},{},{:.0f}\\n\".format(s[0],s[1],prom))\n",
    "        \n",
    "    else:\n",
    "        rep.write(\"{},{},{:.0f}\\n\".format(s[0],s[1],prom))\n",
    "        \n",
    "ar.close()\n",
    "rep.close()"
   ]
  },
  {
   "cell_type": "code",
   "execution_count": 80,
   "metadata": {},
   "outputs": [
    {
     "data": {
      "text/plain": [
       "26"
      ]
     },
     "execution_count": 80,
     "metadata": {},
     "output_type": "execute_result"
    }
   ],
   "source": [
    "sum((4,8,7,7))"
   ]
  },
  {
   "cell_type": "code",
   "execution_count": 95,
   "metadata": {},
   "outputs": [
    {
     "name": "stdout",
     "output_type": "stream",
     "text": [
      "Esteban:Gutierrez:49:18:32\n",
      "Luisa:Miranda:68:44:99\n",
      "JeanPaul:Muñoz:48:38:81\n",
      "GianFranco:Basso:54:54:50\n",
      "Romina:Smith:100:98:92\n",
      "\n"
     ]
    }
   ],
   "source": [
    "archi=open(\"EXTRAS//alumnos.txt\",mode='r')\n",
    "archi.seek(0,1)\n",
    "print(archi.read())\n",
    "archi.close()"
   ]
  },
  {
   "cell_type": "code",
   "execution_count": 15,
   "metadata": {},
   "outputs": [
    {
     "name": "stdout",
     "output_type": "stream",
     "text": [
      "Ingrese el nombre del fichero:contador.txt\n",
      "El fichero tiene 9 caracteres\n"
     ]
    }
   ],
   "source": [
    "s=input(\"Ingrese el nombre del fichero:\")\n",
    "try:\n",
    "    fichero=open(\"EXTRAS//\"+s,mode='r')\n",
    "    print(\"El fichero tiene {} caracteres\".format(len(fichero.read())))\n",
    "    fichero.close()\n",
    "except:\n",
    "    print(\"El fichero no exixte!\")"
   ]
  },
  {
   "cell_type": "code",
   "execution_count": 25,
   "metadata": {},
   "outputs": [
    {
     "name": "stdout",
     "output_type": "stream",
     "text": [
      "Ingrese el nombre del fichero:palabras.txt\n",
      "Ingrese una palabra:cadena\n",
      "\n",
      "La palabra cadena si existe dentro del fichero palabras.txt\n"
     ]
    }
   ],
   "source": [
    "#SE PIDE AL USIARIO INGRESAR UN FICHERO Y UNA PALABRA\n",
    "#se envalua si la palabra exixte dentro del fichero\n",
    "\n",
    "import os\n",
    "\n",
    "fich=input(\"Ingrese el nombre del fichero:\")\n",
    "pal= input(\"Ingrese una palabra:\")\n",
    "print()\n",
    "if(os.path.exists(\"EXTRAS//\"+fich)):\n",
    "    fichero=open(\"EXTRAS//\"+fich,mode='r',encoding='utf-8')\n",
    "    s=fichero.read()\n",
    "    aux=''\n",
    "    for a in s:\n",
    "        if(a.isalpha()):\n",
    "            aux=aux + a\n",
    "        else:\n",
    "            if(aux==pal):\n",
    "                print(\"La palabra {} si existe dentro del fichero {}\".format(pal,fich))\n",
    "                break\n",
    "            else:\n",
    "                aux=''\n",
    "    if(aux==''):\n",
    "        print(\"La palabra {} no existe dentro del fichero {}\".format(pal,fich))\n",
    "    fichero.close()\n",
    "else:\n",
    "    print(\"No exixte el fichero\",fich)"
   ]
  },
  {
   "cell_type": "code",
   "execution_count": 66,
   "metadata": {},
   "outputs": [
    {
     "name": "stdout",
     "output_type": "stream",
     "text": [
      "Ingrese el nombre del fichero:palabras.txt\n",
      "Ingrese una palabra:linea\n",
      "\n",
      "9-> linea; y cerrar el fichero. La\n"
     ]
    }
   ],
   "source": [
    "import os\n",
    "fich=input(\"Ingrese el nombre del fichero:\")\n",
    "pal= input(\"Ingrese una palabra:\")\n",
    "print()\n",
    "if(os.path.exists(\"EXTRAS//\"+fich)):\n",
    "    fichero=open(\"EXTRAS//\"+fich,mode='r',encoding=\"utf-8\")\n",
    "    s=fichero.readlines()\n",
    "    fichero.close()\n",
    "    for num,cad in enumerate(s):\n",
    "        if pal in cad: \n",
    "            print(\"{}-> {}\".format(num+1,cad[:-1]))                 \n",
    "        \n",
    "else:\n",
    "    print(\"No exixte el fichero\",fich)"
   ]
  },
  {
   "cell_type": "code",
   "execution_count": 51,
   "metadata": {},
   "outputs": [
    {
     "name": "stdout",
     "output_type": "stream",
     "text": [
      "Ingrese el nombre del fichero:palabras.txt\n",
      "\n",
      "Como puedes ver, el resultado de efectuar una lectura sobre un fichero de texto es una cadena.\n",
      "Es muy probable que buena parte de tu trabajo al programar\n",
      "se centre en la manipulaciÃ³n de las cadenas leÃ­das.\n",
      "Un ejemplo: imagina que te piden que cuentes el nÃºmero de palabras de un fichero de\n",
      "texto entendiendo que uno o mÃ¡s espacios separan una palabra de otra\n",
      "(no prestaremos atenciÃ³n a los signos de puntuaciÃ³n).\n",
      "El programa sera sencillo: abrir el fichero; leer\n",
      "lÄ±nea a lÄ±nea y contar cuntas palabras contiene cada lÄ±nea; y cerrar el fichero. La\n",
      "dificultad estribara en la rutina de cÃ¡lculo del numero de palabras de una lÄ±nea. Pues\n",
      "bien, recuerda que hay un metodo sobre cadenas que devuelve una lista con cada una\n",
      "de las palabras que esta contiene: split. Si usas len sobre la lista devuelta por split\n",
      "habrÃ¡s contado el nmero de palabras.\n",
      "Otro metodo de cadenas muy util al tratar con ficheros es strip (en inglÃ©s significa\n",
      "Ë‚Ë‚pelarËƒËƒ), que devuelve una copia sin blancos\n",
      "(espacios, tabuladores o saltos de lÄ±nea)\n",
      "delante o detrass. Por ejemplo, el resultado de es la cadena\n",
      "'unejemplo'. Dos metodos relacionados son lstrip, que elimina los blancos de la\n",
      "izquierda (la Ë‚Ë‚lËƒËƒ inicial es por Ë‚Ë‚leftËƒËƒ),\n",
      "y rstrip, que elimina los blancos de la derecha\n",
      "(la Ë‚Ë‚rËƒËƒ inicial es por Ë‚Ë‚rightËƒËƒ).\n"
     ]
    }
   ],
   "source": [
    "import os\n",
    "fich=input(\"Ingrese el nombre del fichero:\")\n",
    "#pal= input(\"Ingrese una palabra:\")\n",
    "print()\n",
    "if(os.path.exists(\"EXTRAS//\"+fich)):\n",
    "    with open(\"EXTRAS//\"+fich,mode='r') as ficheros:\n",
    "        s=ficheros.read()\n",
    "        print(s)\n",
    "else:\n",
    "    print(\"No exixte el fichero\",fich)"
   ]
  },
  {
   "cell_type": "code",
   "execution_count": null,
   "metadata": {},
   "outputs": [],
   "source": []
  },
  {
   "cell_type": "code",
   "execution_count": null,
   "metadata": {},
   "outputs": [],
   "source": []
  },
  {
   "cell_type": "code",
   "execution_count": 16,
   "metadata": {},
   "outputs": [],
   "source": [
    "def es_numero(valor):\n",
    "        \"\"\" Indica si un valor es numérico o no. \"\"\"\n",
    "        return isinstance(valor, (int, float, complex) )\n",
    "\n",
    "    \n",
    "class Punto(object):\n",
    "    \n",
    "    \n",
    "    def __init__(self,x,y):\n",
    "        if es_numero(x) and es_numero(y):\n",
    "            self.x=x\n",
    "            self.y=y\n",
    "        else:\n",
    "            raise TypeError(\"x e y deben ser valores numéricos\")"
   ]
  },
  {
   "cell_type": "code",
   "execution_count": 17,
   "metadata": {},
   "outputs": [
    {
     "ename": "TypeError",
     "evalue": "x e y deben ser valores numéricos",
     "output_type": "error",
     "traceback": [
      "\u001b[1;31m---------------------------------------------------------------------------\u001b[0m",
      "\u001b[1;31mTypeError\u001b[0m                                 Traceback (most recent call last)",
      "\u001b[1;32m<ipython-input-17-5bc3c403b50e>\u001b[0m in \u001b[0;36m<module>\u001b[1;34m\u001b[0m\n\u001b[1;32m----> 1\u001b[1;33m \u001b[0ma\u001b[0m\u001b[1;33m=\u001b[0m\u001b[0mPunto\u001b[0m\u001b[1;33m(\u001b[0m\u001b[1;34m'j'\u001b[0m\u001b[1;33m,\u001b[0m\u001b[1;36m8\u001b[0m\u001b[1;33m)\u001b[0m\u001b[1;33m\u001b[0m\u001b[1;33m\u001b[0m\u001b[0m\n\u001b[0m",
      "\u001b[1;32m<ipython-input-16-e8ee52fa187d>\u001b[0m in \u001b[0;36m__init__\u001b[1;34m(self, x, y)\u001b[0m\n\u001b[0;32m     12\u001b[0m             \u001b[0mself\u001b[0m\u001b[1;33m.\u001b[0m\u001b[0my\u001b[0m\u001b[1;33m=\u001b[0m\u001b[0my\u001b[0m\u001b[1;33m\u001b[0m\u001b[1;33m\u001b[0m\u001b[0m\n\u001b[0;32m     13\u001b[0m         \u001b[1;32melse\u001b[0m\u001b[1;33m:\u001b[0m\u001b[1;33m\u001b[0m\u001b[1;33m\u001b[0m\u001b[0m\n\u001b[1;32m---> 14\u001b[1;33m             \u001b[1;32mraise\u001b[0m \u001b[0mTypeError\u001b[0m\u001b[1;33m(\u001b[0m\u001b[1;34m\"x e y deben ser valores numéricos\"\u001b[0m\u001b[1;33m)\u001b[0m\u001b[1;33m\u001b[0m\u001b[1;33m\u001b[0m\u001b[0m\n\u001b[0m",
      "\u001b[1;31mTypeError\u001b[0m: x e y deben ser valores numéricos"
     ]
    }
   ],
   "source": [
    "a=Punto('j',8)"
   ]
  },
  {
   "cell_type": "code",
   "execution_count": 26,
   "metadata": {},
   "outputs": [
    {
     "name": "stdout",
     "output_type": "stream",
     "text": [
      "    1: Esteban:Gutierrez:49:18:32\n",
      "    2: Luisa:Miranda:68:44:99\n",
      "    3: JeanPaul:Muñoz:48:38:81\n",
      "    4: GianFranco:Basso:54:54:50\n",
      "    5: Romina:Smith:100:98:92\n",
      "    1: Esteban:Gutierrez:49:18:32\n",
      "    2: Luisa:Miranda:68:44:99\n",
      "    3: JeanPaul:Muñoz:48:38:81\n",
      "    4: GianFranco:Basso:54:54:50\n",
      "    5: Romina:Smith:100:98:92\n"
     ]
    }
   ],
   "source": [
    "archivo = open(\"EXTRAS//alumnos.txt\")\n",
    "i = 1\n",
    "\n",
    "for linea in archivo:\n",
    "    linea = linea.rstrip(\"\\n\")\n",
    "    print (\" %4d: %s\" % (i, linea))\n",
    "    i+=1\n",
    "archivo.close()\n",
    "\n",
    "archivo = open(\"EXTRAS//alumnos.txt\")\n",
    "\n",
    "for num, linea in enumerate(archivo):\n",
    "    linea = linea.strip(\"\\n\")\n",
    "    print (\" {:4d}: {}\".format(num+1,linea))\n",
    "archivo.close()\n"
   ]
  },
  {
   "cell_type": "code",
   "execution_count": 29,
   "metadata": {},
   "outputs": [
    {
     "data": {
      "text/plain": [
       "'sdfn   asdf'"
      ]
     },
     "execution_count": 29,
     "metadata": {},
     "output_type": "execute_result"
    }
   ],
   "source": [
    "a=\"\\t  sdfn   asdf \\n\"\n",
    "a.strip()"
   ]
  },
  {
   "cell_type": "code",
   "execution_count": 11,
   "metadata": {},
   "outputs": [
    {
     "data": {
      "text/plain": [
       "0.14285714285714285"
      ]
     },
     "execution_count": 11,
     "metadata": {},
     "output_type": "execute_result"
    }
   ],
   "source": [
    "def division(dividendo, divisor):\n",
    "    \"\"\" Calculo de la división\n",
    "    Pre: Recibe dos números, divisor debe ser distinto de 0.\n",
    "    Post: Devuelve un número real, con el cociente de ambos.\n",
    "    \"\"\"\n",
    "    assert divisor != 0, \"El divisor no puede ser 0\"\n",
    "    return dividendo / ( divisor * 1.0 )\n",
    "division(1,7)"
   ]
  },
  {
   "cell_type": "code",
   "execution_count": 14,
   "metadata": {},
   "outputs": [
    {
     "name": "stdout",
     "output_type": "stream",
     "text": [
      "Ingrese un número entero: ,jv ,\n",
      "Error!\n",
      "\n",
      "Ingrese un número entero: ljbl57\n",
      "Error!\n",
      "\n",
      "Ingrese un número entero: mñm868ñml\n",
      "Error!\n",
      "\n",
      "Ingrese un número entero: 45313546\n",
      "four|five|three|one|three|five|four|six\n"
     ]
    }
   ],
   "source": [
    "numeros={0:'Zero',1:'one',2:'two',3:'three',4:'four',5:'five',6:'six',7:'seven',8:'eigth',9:'nine'}\n",
    "\n",
    "def ingles(num):\n",
    "    aux=str(num)\n",
    "    l_num=[]\n",
    "    for i in aux:\n",
    "        l_num.append(numeros[int(i)])\n",
    "    return '|'.join(l_num)\n",
    "\n",
    "while(True):\n",
    "    try:\n",
    "        nume=int(input(\"Ingrese un número entero: \"))\n",
    "        break\n",
    "    except:\n",
    "        print(\"Error!\\n\")\n",
    "print(ingles(nume))\n"
   ]
  },
  {
   "cell_type": "code",
   "execution_count": 17,
   "metadata": {},
   "outputs": [
    {
     "name": "stdout",
     "output_type": "stream",
     "text": [
      "Ingrese un número entero: jkbkvl\n",
      "Error!\n",
      "\n",
      "Ingrese un número entero: ,jbñ\n",
      "Error!\n",
      "\n",
      "Ingrese un número entero: 353ñ\n",
      "Error!\n",
      "\n",
      "Ingrese un número entero: -,ñ{\n",
      "Error!\n",
      "\n",
      "Ingrese un número entero: 12.65\n",
      "Error!\n",
      "\n",
      "Ingrese un número entero: 4578961220\n",
      "four|five|seven|eigth|nine|six|one|two|two|Zero\n"
     ]
    }
   ],
   "source": [
    "numeros={'0':'Zero','1':'one','2':'two','3':'three','4':'four','5':'five','6':'six','7':'seven','8':'eigth','9':'nine'}\n",
    "\n",
    "def ingles(num):\n",
    "    aux=str(num)\n",
    "    l_num=[]\n",
    "    for i in aux:\n",
    "        l_num.append(numeros[i])\n",
    "    return '|'.join(l_num)\n",
    "\n",
    "while(True):\n",
    "    try:\n",
    "        nume=int(input(\"Ingrese un número entero: \"))\n",
    "        break\n",
    "    except:\n",
    "        print(\"Error!\\n\")\n",
    "print(ingles(nume))\n"
   ]
  },
  {
   "cell_type": "code",
   "execution_count": 12,
   "metadata": {},
   "outputs": [
    {
     "name": "stdout",
     "output_type": "stream",
     "text": [
      "    1: Esteban:Gutierrez:49:18:32\n",
      "    2: Luisa:Miranda:68:44:99\n",
      "    3: JeanPaul:Muñoz:48:38:81\n",
      "    4: GianFranco:Basso:54:54:50\n",
      "    5: Romina:Smith:100:98:92\n",
      "    1: Esteban:Gutierrez:49:18:32\n",
      "    2: Luisa:Miranda:68:44:99\n",
      "    3: JeanPaul:Muñoz:48:38:81\n",
      "    4: GianFranco:Basso:54:54:50\n",
      "    5: Romina:Smith:100:98:92\n"
     ]
    }
   ],
   "source": [
    "archivo = open(\"EXTRAS//alumnos.txt\")\n",
    "i = 1\n",
    "\n",
    "for linea in archivo:\n",
    "    linea = linea.rstrip(\"\\n\")\n",
    "    print (\" %4d: %s\" % (i, linea))\n",
    "    i+=1\n",
    "archivo.close()\n",
    "\n",
    "archivo = open(\"EXTRAS//alumnos.txt\")\n",
    "\n",
    "for num, linea in enumerate(archivo):\n",
    "    linea = linea.strip(\"\\n\")\n",
    "    print (\" {:4d}: {}\".format(num+1,linea))\n",
    "archivo.close()\n"
   ]
  },
  {
   "cell_type": "code",
   "execution_count": null,
   "metadata": {},
   "outputs": [],
   "source": []
  }
 ],
 "metadata": {
  "kernelspec": {
   "display_name": "Python 3",
   "language": "python",
   "name": "python3"
  },
  "language_info": {
   "codemirror_mode": {
    "name": "ipython",
    "version": 3
   },
   "file_extension": ".py",
   "mimetype": "text/x-python",
   "name": "python",
   "nbconvert_exporter": "python",
   "pygments_lexer": "ipython3",
   "version": "3.7.6"
  }
 },
 "nbformat": 4,
 "nbformat_minor": 4
}
