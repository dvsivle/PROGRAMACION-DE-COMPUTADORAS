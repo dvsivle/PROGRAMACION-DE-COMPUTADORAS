{
 "cells": [
  {
   "cell_type": "code",
   "execution_count": 1,
   "metadata": {},
   "outputs": [],
   "source": [
    "#EJERCICIO 1\n",
    "import os\n",
    "from math import*\n",
    "with open(\"ARCHIVOS//pixeles.txt\",mode='r', encoding='utf-8') as lectura:\n",
    "    lineas=lectura.readlines()\n",
    "    with open(\"ARCHIVOS//conversion.txt\", mode='w', encoding='utf-8') as escritura:\n",
    "        escritura.write(\" \\t Distancia \\t  gris\\n\")\n",
    "        \n",
    "        for line in lineas:\n",
    "            i=line.find('(')\n",
    "            f=line.find(')')\n",
    "            x=line.find('[')\n",
    "            y=line.find(']')\n",
    "            num1=line[i+1:f].split(',')\n",
    "            RGB=line[x+1:y].split(',')\n",
    "            \n",
    "            if num1!=['']:\n",
    "                RGV=0.999*int(RGB[0])+0.587*int(RGB[1])+ 0.114*int(RGB[2])\n",
    "                distancia=sqrt(pow(int(num1[0]),2) + pow(int(num1[1]),2) )\n",
    "                escritura.write((\"{}{:.2f} \\t {:.3f}\\n\").format(line[:i],distancia,RGV))"
   ]
  },
  {
   "cell_type": "code",
   "execution_count": 2,
   "metadata": {},
   "outputs": [
    {
     "name": "stdout",
     "output_type": "stream",
     "text": [
      "pixel 1    (3,8)       [123,56,87]\n",
      "pixel 2    (4,5)       [0,250,145]\n",
      "pixel 3    (0,0)       [79,100,255]\n",
      "pixel 4    (5,10)      [12,146,167]\n",
      "pixel 5    (30,80)     [5,211,56]\n",
      "pixel 6    (12,5)      [145,0,200]\n",
      "pixel 7    (3,8)       [78,123,45]\n",
      "pixel 8    (100,35)    [1,0,8]\n",
      "pixel 9    (3,8)       [123,56,100]\n",
      "pixel 10   (1,1)       [1,1,45]\n",
      "\n",
      "\n",
      "\n",
      "\n",
      "\n"
     ]
    }
   ],
   "source": [
    "with open(\"ARCHIVOS//pixeles.txt\",mode='r', encoding='utf-8') as lectura:\n",
    "    print(lectura.read())    "
   ]
  },
  {
   "cell_type": "code",
   "execution_count": 3,
   "metadata": {},
   "outputs": [
    {
     "name": "stdout",
     "output_type": "stream",
     "text": [
      " \t Distancia \t  gris\n",
      "pixel 1    8.54 \t 165.667\n",
      "pixel 2    6.40 \t 163.280\n",
      "pixel 3    0.00 \t 166.691\n",
      "pixel 4    11.18 \t 116.728\n",
      "pixel 5    85.44 \t 135.236\n",
      "pixel 6    13.00 \t 167.655\n",
      "pixel 7    8.54 \t 155.253\n",
      "pixel 8    105.95 \t 1.911\n",
      "pixel 9    8.54 \t 167.149\n",
      "pixel 10   1.41 \t 6.716\n",
      "\n"
     ]
    }
   ],
   "source": [
    "with open(\"ARCHIVOS//conversion.txt\", mode='r', encoding='utf-8') as archivo:\n",
    "    print(archivo.read())"
   ]
  },
  {
   "cell_type": "code",
   "execution_count": 2,
   "metadata": {},
   "outputs": [
    {
     "name": "stdout",
     "output_type": "stream",
     "text": [
      "Ingrese nombre del archivo: pixeles.txt\n",
      "\n",
      "El archivo convertio es:\n",
      "\t\tDistancia\tGris\n",
      "pixel 1:\t8.544\t\t165.6\n",
      "pixel 2:\t6.403\t\t163.2\n",
      "pixel 3:\t0.0\t\t166.6\n",
      "pixel 4:\t11.18\t\t116.7\n",
      "pixel 5:\t85.44\t\t135.2\n",
      "pixel 6:\t13.0\t\t167.6\n",
      "pixel 7:\t8.544\t\t155.2\n",
      "pixel 8:\t105.9\t\t1.911\n",
      "pixel 9:\t8.544\t\t167.1\n",
      "pixel 10:\t1.414\t\t6.715\n",
      "\n"
     ]
    }
   ],
   "source": [
    "import os\n",
    "from math import*\n",
    "def open_txt():\n",
    "    while(1):\n",
    "        file = input('Ingrese nombre del archivo: ')\n",
    "    \n",
    "        #verificamos que el archivo exista.\n",
    "        if (os.path.exists( file ) and file[-4:]=='.txt'):\n",
    "            path = os.getcwd() + '//' + file\n",
    "        \n",
    "            #se abre el archivo y se retorna el puntero.\n",
    "            openFile = open(path, mode = 'r', encoding ='utf-8' )\n",
    "            return openFile\n",
    "\n",
    "def open_conv():\n",
    "    doc = open ('conversion.txt', mode='w', encoding='utf-8')\n",
    "    return doc\n",
    "\n",
    "def Distan(coord):\n",
    "    var0,var1=coord.split(',')\n",
    "    aux1=var0[1:]\n",
    "    aux2=var1[:-1]\n",
    "    distant=sqrt(float(aux1)**2 + float(aux2)**2)\n",
    "    return str(distant)\n",
    "\n",
    "def Gris(color):\n",
    "    color1,color2,color3=color.split(',')\n",
    "    rgb=0.999*float(color1[1:]) + 0.587*float(color2) +0.114*float(color3[:-1])\n",
    "    return str(rgb)\n",
    "\n",
    "data=open_txt()\n",
    "doc1=open_conv()\n",
    "\n",
    "while(1):\n",
    "    data1=data.readline()\n",
    "    data1=data1.replace('\\n','')\n",
    "    if data1:\n",
    "        pix,numpix,coord,color=data1.split()\n",
    "        #print(pix,'/',numpix,'/',coord,'/',color)\n",
    "        distancia = Distan(coord)\n",
    "        gris= Gris(color)\n",
    "        \n",
    "        doc1.write('pixel '+str(numpix)+':'+'\\t'+distancia[0:5]+'\\t\\t'+gris[0:5]+'\\n')\n",
    "    else:\n",
    "        break\n",
    "\n",
    "print()\n",
    "print('El archivo convertio es:')\n",
    "print('\\t\\tDistancia\\tGris')\n",
    "with open('conversion.txt', encoding='utf-8') as file:\n",
    "    print(file.read())"
   ]
  },
  {
   "cell_type": "code",
   "execution_count": 18,
   "metadata": {},
   "outputs": [],
   "source": [
    "# EJERCICIO 2----REQUERIMIENTO 1\n",
    "from math import*\n",
    "class Punto:\n",
    "    \n",
    "    def __init__(self,x,y):\n",
    "        self.x=x\n",
    "        self.y=y\n",
    "    @property\n",
    "    def x(self):\n",
    "        return self.__x\n",
    "    @x.setter\n",
    "    def x(self,xN):\n",
    "        if (isinstance(xN,int) or isinstance(xN,float)):\n",
    "            self.__x=xN\n",
    "        else:\n",
    "            print(\"Error tipo de dato incorrecto\")\n",
    "    @property\n",
    "    def y(self):\n",
    "        return self.__y\n",
    "    \n",
    "    @y.setter\n",
    "    def y(self,yN):\n",
    "        if (isinstance(yN,int) or isinstance(yN,float)):\n",
    "            self.__y=yN\n",
    "        else:\n",
    "            print(\"Error tipo de dato incorrecto\")\n",
    "            \n",
    "    def calculaDistancia(self):\n",
    "        distancia=sqrt(pow(self.x,2) + pow(self.y,2))\n",
    "        return distancia\n",
    "    \n",
    "    def __str__(self):\n",
    "        return \"[{:.1f},{:.1f}]\".format(self.x,self.y)\n",
    "    \n",
    "    def __add__(self,other):\n",
    "        Cx=self.x + other.x\n",
    "        Cy=self.y + other.y\n",
    "        return Punto(Cx,Cy)\n",
    "    "
   ]
  },
  {
   "cell_type": "code",
   "execution_count": 19,
   "metadata": {},
   "outputs": [
    {
     "name": "stdout",
     "output_type": "stream",
     "text": [
      "Error tipo de dato incorrecto\n",
      "Error tipo de dato incorrecto\n",
      "\n",
      "Punto a: [4.0,5.0]\n",
      "Punto b: [-4.5,7.9]\n",
      "Suma a + b: [-0.5,12.9]\n",
      "Distancia a: 6.4031242374328485\n"
     ]
    }
   ],
   "source": [
    "#Testeo del programa\n",
    "x=Punto('d','g')\n",
    "a=Punto(4,5)\n",
    "b=Punto(-4.5,7.9)\n",
    "c=a+b\n",
    "dis=a.calculaDistancia()\n",
    "print()\n",
    "print(\"Punto a:\",a)\n",
    "print(\"Punto b:\",b)\n",
    "print(\"Suma a + b:\",c)\n",
    "print(\"Distancia a:\",a.calculaDistancia())"
   ]
  },
  {
   "cell_type": "code",
   "execution_count": 32,
   "metadata": {},
   "outputs": [
    {
     "name": "stdout",
     "output_type": "stream",
     "text": [
      "Punto 1: (-8.1,-6.4)\n",
      "Punto 2: (-4.8,2.3)\n",
      "El punto 2 esta mas cerca al origen de cordenadas \n"
     ]
    }
   ],
   "source": [
    "# OBJETOS ALEATORIOS: -----REQUERIMIENTO 2 \n",
    "\n",
    "from random import*\n",
    "\n",
    "P1=Punto(uniform(-10,10),uniform(-10,10))\n",
    "P2=Punto(uniform(-10,10),uniform(-10,10))\n",
    "\n",
    "dis_P1=P1.calculaDistancia()\n",
    "dis_P2=P2.calculaDistancia()\n",
    "\n",
    "Punto1=(str(P1)) \n",
    "Punto2=(str(P2)) \n",
    "\n",
    "print(\"Punto 1: ({})\".format((str(P1))[1:-1])) #en el formato str se quita los\"[]\"\n",
    "print(\"Punto 2: ({})\".format((str(P2))[1:-1]))\n",
    "    \n",
    "if(dis_P1<=dis_P2):\n",
    "    if (dis_P1==dis_P2):\n",
    "        print(\"Ambos puntos se encuentran a la misma distancia del origen\")\n",
    "    else:\n",
    "        print(\"El punto 1 esta mas cerca al origen de cordenadas \")\n",
    "else:\n",
    "    print(\"El punto 2 esta mas cerca al origen de cordenadas \")\n",
    "        "
   ]
  },
  {
   "cell_type": "code",
   "execution_count": null,
   "metadata": {},
   "outputs": [],
   "source": []
  },
  {
   "cell_type": "code",
   "execution_count": 21,
   "metadata": {},
   "outputs": [],
   "source": [
    "#PREGUNTA 3\n",
    "class Alumno:\n",
    "    def __init__(self,Nombre='',codigo='',NC1=0,NC2=0,NC3=0,NC4=0,NC5=0):\n",
    "        self.Nombre=Nombre\n",
    "        self.codigo=codigo\n",
    "        self.NC1=NC1\n",
    "        self.NC2=NC2\n",
    "        self.NC3=NC3\n",
    "        self.NC4=NC4\n",
    "        self.NC5=NC5\n",
    "        \n",
    "    @property\n",
    "    def Nombre(self):\n",
    "        return self.__Nombre\n",
    "    @Nombre.setter\n",
    "    def Nombre(self,newN):\n",
    "        if (isinstance(newN,str)):\n",
    "            self.__Nombre=newN\n",
    "        else:\n",
    "            print(\"Error, Nombre debe un tipo de dato str\")\n",
    "    @property\n",
    "    def codigo(self):\n",
    "        return self.__codigo\n",
    "    @codigo.setter\n",
    "    def codigo(self,codN):\n",
    "        if (isinstance(codN,int) and len(str(codN))==9):\n",
    "            self.__codigo=codN\n",
    "        else:\n",
    "            print(\"Error, Código debe ser un número entero de 9 dígitos\")\n",
    "    @property\n",
    "    def NC1(self):\n",
    "        return self.__NC1\n",
    "    @NC1.setter\n",
    "    def NC1(self,N_1):\n",
    "        if (isinstance(N_1,int) or isinstance(N_1,float)):\n",
    "            if(N_1>=0 and N_1<=20): #Rango de nota [0,20]\n",
    "                self.__NC1=N_1\n",
    "            else:\n",
    "                print(\"Nota del curso 1 fuera de rango\")\n",
    "        else:\n",
    "            print(\"Error, Nota del curso 1 es un tipo de dato incorrecto\")\n",
    "    @property\n",
    "    def NC2(self):\n",
    "        return self.__NC2\n",
    "    @NC2.setter\n",
    "    def NC2(self,N_2):\n",
    "        if (isinstance(N_2,int) or isinstance(N_2,float)):\n",
    "            if(N_2>=0 and N_2<=20):\n",
    "                self.__NC2=N_2\n",
    "            else:\n",
    "                print(\"Nota del curso 2 fuera de rango\")\n",
    "        else:\n",
    "            print(\"Error, Nota del curso 2 es un tipo de dato incorrecto\")\n",
    "    @property\n",
    "    def NC3(self):\n",
    "        return self.__NC3\n",
    "    @NC3.setter\n",
    "    def NC3(self,N_3):\n",
    "        if (isinstance(N_3,int) or isinstance(N_3,float)):\n",
    "            if(N_3>=0 and N_3<=20):\n",
    "                self.__NC3=N_3\n",
    "            else:\n",
    "                print(\"Nota del curso 3 fuera de rango\")\n",
    "        else:\n",
    "            print(\"Error, Nota del curso 3 es un tipo de dato incorrecto\")\n",
    "    @property\n",
    "    def NC4(self):\n",
    "        return self.__NC4\n",
    "    @NC4.setter\n",
    "    def NC4(self,N_4):\n",
    "        if (isinstance(N_4,int) or isinstance(N_4,float)):\n",
    "            if(N_4>=0 and N_4<=20):\n",
    "                self.__NC4=N_4\n",
    "            else:\n",
    "                print(\"Nota del curso 4 fuera de rango\")\n",
    "        else:\n",
    "            print(\"Error, Nota del curso 4 es un tipo de dato incorrecto\")\n",
    "    @property\n",
    "    def NC5(self):\n",
    "        return self.__NC5\n",
    "    @NC5.setter\n",
    "    def NC5(self,N_5):\n",
    "        if (isinstance(N_5,int) or isinstance(N_5,float)):\n",
    "            if(N_5>=0 and N_5<=20):\n",
    "                self.__NC5=N_5\n",
    "            else:\n",
    "                print(\"Nota del curso 5 fuera de rango\")\n",
    "        else:\n",
    "            print(\"Error, Nota del curso 5 es un tipo de dato incorrecto\")\n",
    "    \n",
    "    def __str__(self):\n",
    "        return \"Nmbre:{}, Código:{}\\nNota de los cursos:\\n{}\\n{}\\n{}\\n{}\\n{}\\n\".format(self.Nombre,\n",
    "                                                                                        self.codigo,\n",
    "                                                                                        self.NC1,\n",
    "                                                                                        self.NC2,\n",
    "                                                                                        self.NC3,\n",
    "                                                                                        self.NC4,\n",
    "                                                                                        self.NC5)\n",
    "    \n",
    "    \n",
    "    def promedio(self):\n",
    "        notas=[self.NC1,self.NC2,self.NC3,self.NC4,self.NC5]\n",
    "        return sum(notas)/5\n",
    "    \n",
    "    def estaAprobado(self):\n",
    "        n=0\n",
    "        notas=[self.NC1,self.NC2,self.NC3,self.NC4,self.NC5]\n",
    "        for a in notas:\n",
    "            if a>=12.5:\n",
    "                n+=1\n",
    "        if (n>=4):\n",
    "            return True\n",
    "        else:\n",
    "            return False\n",
    "        "
   ]
  },
  {
   "cell_type": "code",
   "execution_count": 22,
   "metadata": {},
   "outputs": [
    {
     "name": "stdout",
     "output_type": "stream",
     "text": [
      "Error, Código debe ser un número entero de 9 dígitos\n",
      "Nota del curso 1 fuera de rango\n",
      "Nota del curso 2 fuera de rango\n",
      "Error, Nota del curso 4 es un tipo de dato incorrecto\n",
      "\n",
      "Nombre: Francisco Riado\n",
      "Código: 201611090\n",
      "Curso 1: 12.5, Curso 2: 16, Curso 3: 11.5, Curso 4: 14, Curso 5: 10.5\n",
      "Promedio: 12.9\n",
      "Estado: Desaprobado el ciclo\n"
     ]
    }
   ],
   "source": [
    "a1 = Alumno(\"Francisco Riado\", 20161109, 20.1, -16,9,'45',10.5)\n",
    "a1= Alumno(\"Francisco Riado\", 201611090, 12.5, 16,11.5,14,10.5)\n",
    "\n",
    "print()\n",
    "print(\"Nombre:\",a1.Nombre)\n",
    "print(\"Código:\",a1.codigo)\n",
    "print(\"Curso 1: {}, Curso 2: {}, Curso 3: {}, Curso 4: {}, Curso 5: {}\".format(a1.NC1, a1.NC2, a1.NC3, a1.NC4, a1.NC5))\n",
    "print(\"Promedio:\",a1.promedio())\n",
    "\n",
    "if( a1.estaAprobado()):\n",
    "    print(\"Estado: Aprobado el ciclo\")\n",
    "else:\n",
    "    print(\"Estado: Desaprobado el ciclo\")\n",
    "    "
   ]
  },
  {
   "cell_type": "code",
   "execution_count": 23,
   "metadata": {},
   "outputs": [],
   "source": [
    "# PREGUNTA 4"
   ]
  },
  {
   "cell_type": "code",
   "execution_count": 1,
   "metadata": {},
   "outputs": [],
   "source": [
    "import os\n",
    "#Al no tener archivos escribire uno pequeño\n",
    "with open(\"ARCHIVOS//datos.txt\", mode='w', encoding='utf-8') as escritura:\n",
    "        escritura.write(\"Este 58.3 archivo 45.88 fue creado \\n para poder xtraer los reales\\n\")\n",
    "        escritura.write(\"nose -78.5, extraera 45.8 numeros \\n enteros csom 45, 458, 78 \\n\")\n",
    "        escritura.write(\"estos numeros reales 547.2 \\n\")\n",
    "        escritura.write(\"estos numeros reales skfhg wf \\n\") #linea sin numero\n",
    "        escritura.write(\"estos numeros 7777 skfhg wf \\n\")\n"
   ]
  },
  {
   "cell_type": "code",
   "execution_count": 1,
   "metadata": {},
   "outputs": [
    {
     "name": "stdout",
     "output_type": "stream",
     "text": [
      "Números reales con punto decimal: 58.3 45.88 78.5 45.8 547.2 \n",
      "Números enteros: 45 458 78 7777 "
     ]
    }
   ],
   "source": [
    "with open(\"ARCHIVOS//datos.txt\", mode='r', encoding='utf-8') as lec:\n",
    "    lineas=lec.readlines()\n",
    "    num_entero=[]\n",
    "    num_real=[]\n",
    "    for a in lineas:\n",
    "        s=''\n",
    "        for letra in a:\n",
    "            if (letra.isdigit() or letra==\".\"):\n",
    "                s=s+letra\n",
    "            else:\n",
    "                s=s+'  '                \n",
    "        for numero in s.split():\n",
    "            if ('.' in numero):\n",
    "                num_real.append(float(numero))\n",
    "            else:\n",
    "                num_entero.append(int(numero))           \n",
    "    \n",
    "print(\"Números reales con punto decimal: \",end=(''))\n",
    "for n in num_real:\n",
    "    print(n,end=(' '))\n",
    "    \n",
    "print()\n",
    "print(\"Números enteros: \",end=(''))  \n",
    "for n in num_entero:\n",
    "    print(n,end=(' '))\n",
    " "
   ]
  },
  {
   "cell_type": "code",
   "execution_count": null,
   "metadata": {},
   "outputs": [],
   "source": []
  },
  {
   "cell_type": "code",
   "execution_count": 26,
   "metadata": {},
   "outputs": [
    {
     "data": {
      "text/plain": [
       "'Brasil'"
      ]
     },
     "execution_count": 26,
     "metadata": {},
     "output_type": "execute_result"
    }
   ],
   "source": [
    "#PREGUNTA 5\n",
    "Paises={\"Perú\":31.17,\n",
    "        \"Ecuador\":16.62,\n",
    "        \"Chile\":18.05,\n",
    "        \"Colombia\":49.07,\n",
    "        \"Venezuela\":31.98,\n",
    "        \"Brasil\":209.3,\n",
    "        \"Bolivia\":11.05}\n",
    "\n",
    "def mayorPoblacion(cadena):  \n",
    "    l_cad=cadena.split()\n",
    "    l_poblacion=[]\n",
    "    for p in l_cad:\n",
    "        if((p in Paises)):\n",
    "            l_poblacion.append(Paises[p]) \n",
    "        else:\n",
    "            return \"Hay países no registrados\"\n",
    "        \n",
    "    s=max(l_poblacion)\n",
    "    return  l_cad[l_poblacion.index(s)]                \n",
    "                \n",
    "mayorPoblacion(\"Colombia Perú Chile Brasil Brasil\")"
   ]
  },
  {
   "cell_type": "code",
   "execution_count": 35,
   "metadata": {},
   "outputs": [
    {
     "data": {
      "text/plain": [
       "'cdad. att. av. universidad UPC cént. control'"
      ]
     },
     "execution_count": 35,
     "metadata": {},
     "output_type": "execute_result"
    }
   ],
   "source": [
    "#pregunta 6\n",
    "\n",
    "Abreviaturas={\"atentamente\":\"att.\",\n",
    "              \"articulo\":\"art.\",\n",
    "              \"avenida\":\"av.\",\n",
    "              \"biblioteca\":\"bibl.\",\n",
    "              \"ciudad\":\"cdad.\",\n",
    "              \"céntimo\":\"cént.\",\n",
    "              \"código\":\"cód.\"}\n",
    "\n",
    "def abreviarPalabras(cadena):\n",
    "    l_cad=cadena.split()   \n",
    "    cad_res=''\n",
    "    for p in l_cad:\n",
    "        if((p in Abreviaturas)):\n",
    "            cad_res=cad_res + Abreviaturas[p]+' '\n",
    "        else:\n",
    "            cad_res=cad_res + p +' '\n",
    "            \n",
    "    return  cad_res[:-1]\n",
    "                             \n",
    "abreviarPalabras(\"ciudad atentamente avenida universidad UPC céntimo control\")\n",
    "    "
   ]
  },
  {
   "cell_type": "code",
   "execution_count": 6,
   "metadata": {},
   "outputs": [
    {
     "name": "stdout",
     "output_type": "stream",
     "text": [
      "ingrese numros enteros: wfn\n",
      "ERROR!!\n",
      "\n",
      "ingrese numros enteros: 4{ewf\n",
      "ERROR!!\n",
      "\n",
      "ingrese numros enteros: 45\n",
      "d|e\n"
     ]
    }
   ],
   "source": [
    "#pregunta 6\n",
    "\n",
    "numeros={1:'one', 2:'',3:'c',4:'d',5:'e',6:'f',7:'g',8:'h',9:'k'}\n",
    "\n",
    "def letras(a):\n",
    "    a=str(a)\n",
    "    d=[]\n",
    "    for i in a:\n",
    "        s=int(i)\n",
    "        d.append(numeros[s])\n",
    "    return '|'.join(d)\n",
    "\n",
    "while(True):\n",
    "    try:\n",
    "        num=int(input(\"ingrese numros enteros: \"))\n",
    "        break\n",
    "    except:\n",
    "        print(\"ERROR!!\\n\")        \n",
    "print(letras(num))"
   ]
  },
  {
   "cell_type": "code",
   "execution_count": 1,
   "metadata": {},
   "outputs": [
    {
     "name": "stdout",
     "output_type": "stream",
     "text": [
      "Ingrese un número entero: 512\n",
      "\n",
      "five|one|two\n"
     ]
    }
   ],
   "source": [
    "numeros={'0':'Zero','1':'one','2':'two','3':'three','4':'four','5':'five','6':'six','7':'seven','8':'eigth','9':'nine'}\n",
    "\n",
    "def ingles(num):\n",
    "    aux=str(num)\n",
    "    l_num=[]\n",
    "    for i in aux:\n",
    "        l_num.append(numeros[i])\n",
    "    return '|'.join(l_num)\n",
    "\n",
    "while(True):\n",
    "    try:\n",
    "        nume=int(input(\"Ingrese un número entero: \"))\n",
    "        break\n",
    "    except:\n",
    "        print(\"Error!\\n\")\n",
    "print()      \n",
    "print(ingles(nume))\n"
   ]
  },
  {
   "cell_type": "code",
   "execution_count": 7,
   "metadata": {},
   "outputs": [
    {
     "name": "stdout",
     "output_type": "stream",
     "text": [
      "niasdf\n"
     ]
    }
   ],
   "source": [
    "versiones = dict(python=2.7, zope=2.13, plone=5.1)\n",
    "try:\n",
    "    a=versiones['ploewre']\n",
    "    print(a)\n",
    "except:\n",
    "    print('niasdf')\n",
    "    "
   ]
  },
  {
   "cell_type": "code",
   "execution_count": null,
   "metadata": {},
   "outputs": [],
   "source": []
  }
 ],
 "metadata": {
  "kernelspec": {
   "display_name": "Python 3",
   "language": "python",
   "name": "python3"
  },
  "language_info": {
   "codemirror_mode": {
    "name": "ipython",
    "version": 3
   },
   "file_extension": ".py",
   "mimetype": "text/x-python",
   "name": "python",
   "nbconvert_exporter": "python",
   "pygments_lexer": "ipython3",
   "version": "3.7.6"
  }
 },
 "nbformat": 4,
 "nbformat_minor": 4
}
