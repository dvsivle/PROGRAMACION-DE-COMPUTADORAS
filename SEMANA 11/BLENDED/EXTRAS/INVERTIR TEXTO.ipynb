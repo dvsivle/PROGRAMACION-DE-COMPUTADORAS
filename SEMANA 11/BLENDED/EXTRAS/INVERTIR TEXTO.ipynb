{
 "cells": [
  {
   "cell_type": "code",
   "execution_count": 103,
   "metadata": {},
   "outputs": [],
   "source": [
    "\n",
    "import os\n",
    "\n",
    "def iguala(arg):\n",
    "    \n",
    "    num=list(map(lambda x: len(x),arg))\n",
    "    mayor=max(num)\n",
    "    \n",
    "    new=[]\n",
    "    for a in arg:\n",
    "        new.append(a[:-1] + ' '*(mayor-len(a)))\n",
    "    return new\n",
    "\n",
    "with open(\"dd.txt\",mode='r') as archivo:\n",
    "    a=archivo.readlines()\n",
    "    nuevo=iguala(a)\n",
    "    with open(\"dd.txt\",mode='w') as escritura:\n",
    "        for s in range(len(nuevo[1])):\n",
    "            x=[]\n",
    "            for j in range(len(nuevo)):\n",
    "                x.append(nuevo[j][s])\n",
    "       \n",
    "            escritura.write(''.join(x)+'\\n')\n",
    "    \n",
    "    "
   ]
  },
  {
   "cell_type": "code",
   "execution_count": 104,
   "metadata": {},
   "outputs": [
    {
     "name": "stdout",
     "output_type": "stream",
     "text": [
      "Esteban:Gutierrez:49:18:32\n",
      "Luisa:Miranda:68:44:99    \n",
      "JeanPaul:Muñoz:48:38:81   \n",
      "GianFranco:Basso:54:54:50 \n",
      "Romina:Smith:100:98:92    \n",
      "\n"
     ]
    }
   ],
   "source": [
    "with open(\"dd.txt\",mode='r') as archivo:\n",
    "    a=archivo.read()\n",
    "    print(a)"
   ]
  },
  {
   "cell_type": "code",
   "execution_count": 86,
   "metadata": {},
   "outputs": [
    {
     "name": "stdout",
     "output_type": "stream",
     "text": [
      "['juan     ', 'pedro      ', 'sdkgds       ', 'dkgnnvoasod            ']\n"
     ]
    }
   ],
   "source": [
    "numeros"
   ]
  },
  {
   "cell_type": "code",
   "execution_count": 49,
   "metadata": {},
   "outputs": [
    {
     "name": "stdout",
     "output_type": "stream",
     "text": [
      "jpsd\n",
      "uedk\n",
      "adkg\n",
      "nrgn\n",
      " odn\n",
      "  sv\n",
      "   o\n",
      "   a\n",
      "   s\n",
      "   o\n",
      "   d\n"
     ]
    }
   ],
   "source": [
    "def iguala(arg):   \n",
    "    num=[]\n",
    "    for i in arg:\n",
    "        num.append(len(i))\n",
    "    mayor=max(num)\n",
    "    new=[]\n",
    "    \n",
    "    for a in arg:\n",
    "        new.append(a + ' '*(mayor-len(a)))\n",
    "    return new\n",
    "        \n",
    "a=['juan','pedro','sdkgds','dkgnnvoasod']\n",
    "nuevo=iguala(a)\n",
    "c=0\n",
    "for s in range(len(nuevo[1])):\n",
    "    x=[]\n",
    "    for j in range(len(nuevo)):\n",
    "        x.append(nuevo[j][s])\n",
    "       \n",
    "    print(''.join(x))\n"
   ]
  },
  {
   "cell_type": "code",
   "execution_count": null,
   "metadata": {},
   "outputs": [],
   "source": []
  }
 ],
 "metadata": {
  "kernelspec": {
   "display_name": "Python 3",
   "language": "python",
   "name": "python3"
  },
  "language_info": {
   "codemirror_mode": {
    "name": "ipython",
    "version": 3
   },
   "file_extension": ".py",
   "mimetype": "text/x-python",
   "name": "python",
   "nbconvert_exporter": "python",
   "pygments_lexer": "ipython3",
   "version": "3.7.6"
  }
 },
 "nbformat": 4,
 "nbformat_minor": 4
}
