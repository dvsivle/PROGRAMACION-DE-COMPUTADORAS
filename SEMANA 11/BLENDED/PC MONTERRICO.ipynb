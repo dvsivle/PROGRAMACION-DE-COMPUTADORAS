{
 "cells": [
  {
   "cell_type": "code",
   "execution_count": 23,
   "metadata": {},
   "outputs": [
    {
     "name": "stdout",
     "output_type": "stream",
     "text": [
      "Ingrese una cadena de digitos: 467468\n",
      "Cadena de numeros en ingles:  four|six|seven|four|six|eigth\n"
     ]
    }
   ],
   "source": [
    "#EJERCICIO 1\n",
    "\n",
    "numeros={0:'Zero',1:'one',2:'two',3:'three',4:'four',5:'five',6:'six',7:'seven',8:'eigth',9:'nine'}\n",
    "\n",
    "def ing(num):\n",
    "    ingles=''\n",
    "    for i in num:\n",
    "        ingles=ingles+numeros[int(i)]+'|'\n",
    "    return ingles[:-1]\n",
    "\n",
    "\n",
    "nume=(input(\"Ingrese una cadena de digitos: \"))\n",
    "ingles=ing(nume)\n",
    "print(\"Cadena de numeros en ingles: \",ingles)"
   ]
  },
  {
   "cell_type": "code",
   "execution_count": 52,
   "metadata": {
    "scrolled": true
   },
   "outputs": [],
   "source": [
    "#EJERCICIO 2\n",
    "import os\n",
    "cursos=open('cursos.txt',mode='r',encoding='utf-8')\n",
    "lineas=cursos.readlines()\n",
    "cursos.close()\n",
    "\n",
    "with open('reporte.txt',mode='w',encoding='utf-8') as reporte:\n",
    "    \n",
    "    c_inf=len(lineas[1].split())  #los '===' determinan la cantidad de columnas informativas\n",
    "    curso=[]\n",
    "    creditos=[]\n",
    "    for num,cadena in enumerate(lineas):\n",
    "        reporte.write(cadena)\n",
    "        linea=cadena.split()\n",
    "        if num>=2: #los cursos se empiezan a contar despues de \"===\"\n",
    "            curso.append(linea[0])\n",
    "            creditos.append(int(linea[1]))\n",
    "\n",
    "    reporte.write((\"\\n\\ncantidad de cursos: {}\\n\".format(len(curso))))   \n",
    "    reporte.write(\"cantidad de columnas informativas: {}\\n\".format(c_inf))\n",
    "    reporte.write(\"\\nCosto de cada curso:\\n\")\n",
    "    \n",
    "    for cadena,num in zip(cur,creditos):\n",
    "        reporte.write(\"{}: {:.1f} soles\\n\".format(cadena,num*60.5))\n",
    "\n"
   ]
  },
  {
   "cell_type": "code",
   "execution_count": 53,
   "metadata": {},
   "outputs": [
    {
     "name": "stdout",
     "output_type": "stream",
     "text": [
      "Curso       Num. Créditos      Código      cant. Matriculados    Ciclo     Horas semanales\n",
      "=====       ==============     ======      ==================    =====     ===============\n",
      "Algoritmos        4            QT-234             120              3              4\n",
      "Algebra           4            AM-123             230              1              5\n",
      "Dibujo            3            DF-178             133              1              4\n",
      "Física            5            FS-456             257              2              5\n",
      "Economía          3            EH-100             99               5              3\n",
      "\n",
      "cantidad de cursos: 5\n",
      "cantidad de columnas informativas: 6\n",
      "\n",
      "Costo de cada curso:\n",
      "Algoritmos: 242.0 soles\n",
      "Algebra: 242.0 soles\n",
      "Dibujo: 181.5 soles\n",
      "Física: 302.5 soles\n",
      "Economía: 181.5 soles\n",
      "\n"
     ]
    }
   ],
   "source": [
    "import os\n",
    "cursos=open('reporte.txt',mode='r',encoding='utf-8')\n",
    "lineas=cursos.read()\n",
    "cursos.close()\n",
    "print(lineas)"
   ]
  },
  {
   "cell_type": "code",
   "execution_count": 14,
   "metadata": {},
   "outputs": [
    {
     "name": "stdout",
     "output_type": "stream",
     "text": [
      "False\n",
      "True\n",
      "False\n",
      "True\n",
      "False\n",
      "sfgs True\n",
      "True\n",
      "False\n"
     ]
    }
   ],
   "source": [
    "letra = 'AsfasefADSFa.sad'\n",
    "numero = '5'\n",
    "simbolo = \"!\"\n",
    "espacio = \" \"\n",
    "enter = \"\\n\"\n",
    "\n",
    "print(letra.isalpha())\n",
    "print(numero.isdigit())\n",
    "print(letra.isalnum())\n",
    "print(numero.isalnum())\n",
    "print(simbolo.isalpha())\n",
    "print(\"sfgs\",simbolo.isprintable())\n",
    "print(espacio.isspace())\n",
    "print(enter.isprintable())"
   ]
  },
  {
   "cell_type": "code",
   "execution_count": 28,
   "metadata": {},
   "outputs": [],
   "source": [
    "#EJERCICIO 3\n",
    "\n",
    "class NotaAcademica(object):\n",
    "    \n",
    "    def __init__(self,valor):\n",
    "        self.valor=valor\n",
    "    @property\n",
    "    def valor(self):\n",
    "        return self.__valor\n",
    "    @valor.setter\n",
    "    def valor(self,N_2):\n",
    "        if (isinstance(N_2,int) or isinstance(N_2,float)):\n",
    "            if(N_2>=0 and N_2<=20):\n",
    "                self.__valor=N_2\n",
    "            else:\n",
    "                print(\"La nota no esta en el rango correcto\")\n",
    "        else:\n",
    "            print(\"Error, la nota debe ser un valor numerico\")\n",
    "            \n",
    "             \n",
    "    def evaluaValor(self):\n",
    "        if self.valor>=13:\n",
    "            return\"Aprobado\"\n",
    "        else:\n",
    "            return \"Desaprobado\"\n",
    "    \n",
    "    \n",
    "    def __mod__(self,other):\n",
    "        x=(self.valor + other.valor)/2.0\n",
    "        return  NotaAcademica(x)\n",
    "    \n",
    "    def __str__(self):\n",
    "        return \"[valor:{:.1f}]\".format(self.valor)\n",
    "        \n",
    "class Nota(NotaAcademica):\n",
    "         def __init__(self,valor):\n",
    "             super().__init__(valor)"
   ]
  },
  {
   "cell_type": "code",
   "execution_count": null,
   "metadata": {},
   "outputs": [],
   "source": []
  },
  {
   "cell_type": "code",
   "execution_count": 29,
   "metadata": {},
   "outputs": [
    {
     "name": "stdout",
     "output_type": "stream",
     "text": [
      "Error, la nota debe ser un valor numerico\n",
      "La nota no esta en el rango correcto\n",
      "\n",
      "La nota no esta en el rango correcto\n",
      "Error, la nota debe ser un valor numerico\n",
      "\n",
      "p:  [valor:12.0]\n",
      "Evaluacion de p:  Desaprobado\n"
     ]
    }
   ],
   "source": [
    "n1=Nota('89')\n",
    "n2=Nota(89)\n",
    "\n",
    "print()\n",
    "n1=Nota(15)\n",
    "n2=Nota(9)\n",
    "n1.valor=-5\n",
    "n2.valor=\"hola\"\n",
    "\n",
    "n1 = Nota(15)\n",
    "n2 = Nota(9)\n",
    "p = n1%n2\n",
    "print('\\np: ',p)\n",
    "print('Evaluacion de p: ',p.evaluaValor())\n",
    "\n"
   ]
  },
  {
   "cell_type": "code",
   "execution_count": null,
   "metadata": {},
   "outputs": [],
   "source": []
  }
 ],
 "metadata": {
  "kernelspec": {
   "display_name": "Python 3",
   "language": "python",
   "name": "python3"
  },
  "language_info": {
   "codemirror_mode": {
    "name": "ipython",
    "version": 3
   },
   "file_extension": ".py",
   "mimetype": "text/x-python",
   "name": "python",
   "nbconvert_exporter": "python",
   "pygments_lexer": "ipython3",
   "version": "3.7.6"
  }
 },
 "nbformat": 4,
 "nbformat_minor": 4
}
