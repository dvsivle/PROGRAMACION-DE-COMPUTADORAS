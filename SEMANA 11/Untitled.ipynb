{
 "cells": [
  {
   "cell_type": "code",
   "execution_count": 7,
   "metadata": {},
   "outputs": [],
   "source": [
    "#creando clase NOtaAcademica()\n",
    "\n",
    "class NotaAcademica(object):\n",
    "    \n",
    "    def __init__(self, valor=0):\n",
    "        self.valor=valor\n",
    "    \n",
    "    #metodos decorativos\n",
    "    @property\n",
    "    def valor(self):\n",
    "        return self.__valor\n",
    "    \n",
    "    @valor.setter\n",
    "    def valor(self, Nvalor):\n",
    "        if (isinstance(Nvalor, int) or isinstance(Nvalor, float)):\n",
    "            if Nvalor>=0 and Nvalor<=20:\n",
    "                self.__valor=Nvalor\n",
    "            else:\n",
    "                print('La nota no esta en el rango correcto')\n",
    "        else:\n",
    "            print('Error, la nota debe ser un valor numerico')\n",
    "    \n",
    "    #sobrecargamos el metodo _str_\n",
    "    def __str__(self):\n",
    "        return '[valor: {}]'.format(self.valor)\n",
    "    \n",
    "    #sobrecargamos el metodo _mod_\n",
    "    def __mod__(self, other):\n",
    "        resul=(self.valor + other.valor)/2\n",
    "        return NotaAcademica(resul)\n",
    "    \n",
    "    #creando el metodo evaluaValor()\n",
    "    def evaluaValor(self):\n",
    "        if self.valor>=13:\n",
    "            return 'Aprobado'\n",
    "        else:\n",
    "            return 'Desaprobado'"
   ]
  },
  {
   "cell_type": "code",
   "execution_count": 9,
   "metadata": {},
   "outputs": [
    {
     "name": "stdout",
     "output_type": "stream",
     "text": [
      "Error, la nota debe ser un valor numerico\n",
      "La nota no esta en el rango correcto\n",
      "\n",
      "La nota no esta en el rango correcto\n",
      "Error, la nota debe ser un valor numerico\n",
      "\n",
      "p:  [valor:12.0]\n",
      "Evaluacion de p:  Desaprobado\n"
     ]
    }
   ],
   "source": [
    "n1 = NotaAcademica('12')\n",
    "n2 = NotaAcademica(34)\n",
    "\n",
    "print()\n",
    "n1 = NotaAcademica(15)\n",
    "n2 = NotaAcademica(9)\n",
    "n1.valor = -5\n",
    "n2.valor = 'hola'\n",
    "\n",
    "n1 = NotaAcademica(15)\n",
    "n2 = NotaAcademica(9)\n",
    "p = n1%n2\n",
    "print('\\np: ',p)\n",
    "print('Evaluacion de p: ',p.evaluaValor())"
   ]
  },
  {
   "cell_type": "code",
   "execution_count": 7,
   "metadata": {},
   "outputs": [],
   "source": [
    "from math import*\n",
    "\n",
    "class NotaAcademica(object):\n",
    "    \n",
    "    def __init__(self,valor):\n",
    "        self.valor=valor\n",
    "    @property\n",
    "    def valor(self):\n",
    "        return self.__valor\n",
    "    @valor.setter\n",
    "    def valor(self,N_2):\n",
    "        if (isinstance(N_2,int) or isinstance(N_2,float)):\n",
    "            if(N_2>=0 and N_2<=20):\n",
    "                self.__valor=N_2\n",
    "            else:\n",
    "                print(\"La nota no esta en el rango correcto\")\n",
    "        else:\n",
    "            print(\"Error, la nota debe ser un valor numerico\")\n",
    "            \n",
    "             \n",
    "    def evaluaValor(self):\n",
    "        if self.valor>=13:\n",
    "            return\"Aprobado\"\n",
    "        else:\n",
    "            return \"Desaprobado\"\n",
    "    \n",
    "    def __mod__(self,other):\n",
    "        x=(self.valor + other.valor)/2\n",
    "        return  NotaAcademica(x)\n",
    "    \n",
    "    def __str__(self):\n",
    "        return \"[valor:{:.1f}]\".format(self.valor)\n",
    "        \n",
    "class Nota(NotaAcademica):\n",
    "         def __init__(self,valor):\n",
    "             super().__init__(valor)"
   ]
  },
  {
   "cell_type": "code",
   "execution_count": null,
   "metadata": {},
   "outputs": [],
   "source": []
  },
  {
   "cell_type": "code",
   "execution_count": 8,
   "metadata": {},
   "outputs": [
    {
     "name": "stdout",
     "output_type": "stream",
     "text": [
      "Error, la nota debe ser un valor numerico\n",
      "La nota no esta en el rango correcto\n",
      "\n",
      "La nota no esta en el rango correcto\n",
      "Error, la nota debe ser un valor numerico\n",
      "\n",
      "p:  [valor:12.0]\n",
      "Evaluacion de p:  Desaprobado\n"
     ]
    }
   ],
   "source": [
    "n1=Nota('89')\n",
    "n2=Nota(89)\n",
    "\n",
    "print()\n",
    "n1=Nota(15)\n",
    "n2=Nota(9)\n",
    "n1.valor=-5\n",
    "n2.valor=\"hola\"\n",
    "\n",
    "n1=Nota(15)\n",
    "n2=Nota(9)\n",
    "\n",
    "p = n1%n2\n",
    "print('\\np: ',p)\n",
    "print('Evaluacion de p: ',p.evaluaValor())"
   ]
  },
  {
   "cell_type": "code",
   "execution_count": null,
   "metadata": {},
   "outputs": [],
   "source": []
  },
  {
   "cell_type": "code",
   "execution_count": null,
   "metadata": {},
   "outputs": [],
   "source": [
    "import os \n",
    "\n",
    "with open (os.getcwd()+'//'+'cursos.txt',mode='r',encoding='utf-8') as archivoR:\n",
    "    lineas=archivoR.readlines()\n",
    "    with open (os.getcwd()+'//'+'reporte.txt', mode='w') as archivoW:\n",
    "        cont=-2\n",
    "        for i in lineas:\n",
    "            archivoW.write(i)\n",
    "            cont=cont+1\n",
    "        \n",
    "        archivoW.write('\\n')\n",
    "        archivoW.write('Cantidad de cursos: '+ str(cont)+'\\n')\n",
    "        lcolum=lineas[2].split()\n",
    "        archivoW.write('Cantidad de columnas infor: '+str(len(lcolum)))\n",
    "        archivoW.write('\\n')\n",
    "        archivoW.write('Costo de cada curso:\\n')\n",
    "        for v in range(2, len(lineas)):\n",
    "            laux=lineas[v].split()\n",
    "            archivoW.write(laux[0]+': '+ str(int(laux[1])*60.5)+' soles'+'\\n')"
   ]
  }
 ],
 "metadata": {
  "kernelspec": {
   "display_name": "Python 3",
   "language": "python",
   "name": "python3"
  },
  "language_info": {
   "codemirror_mode": {
    "name": "ipython",
    "version": 3
   },
   "file_extension": ".py",
   "mimetype": "text/x-python",
   "name": "python",
   "nbconvert_exporter": "python",
   "pygments_lexer": "ipython3",
   "version": "3.7.6"
  }
 },
 "nbformat": 4,
 "nbformat_minor": 4
}
